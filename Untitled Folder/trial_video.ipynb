{
 "cells": [
  {
   "cell_type": "code",
   "execution_count": null,
   "id": "competitive-treaty",
   "metadata": {},
   "outputs": [],
   "source": [
    "import cv2\n",
    "import numpy as np\n"
   ]
  },
  {
   "cell_type": "code",
   "execution_count": null,
   "id": "alien-fireplace",
   "metadata": {},
   "outputs": [],
   "source": [
    "# Create a VideoCapture object and read from input file\n",
    "\n",
    "# If the input is taken from the camera, pass 0 instead of the video file name.\n",
    "\n",
    "cap = cv2.VideoCapture('1043_meal.mp4')\n",
    "\n",
    "while cap.isOpened():\n",
    "  # Capture frame-by-frame\n",
    "    ret, frame = cap.read()\n",
    "    if ret == True:\n",
    "    # Display the resulting frame\n",
    "        cv2.imshow('Frame',frame)\n",
    "    # Press Q on keyboard to  exit\n",
    "    if cv2.waitKey(25) & 0xFF == ord('q'):\n",
    "        break\n",
    "    # Break the loop\n",
    "\n",
    "    else:\n",
    "\n",
    "        break\n",
    "cap.release()\n",
    "cv2.destroyAllWindows()"
   ]
  },
  {
   "cell_type": "code",
   "execution_count": null,
   "id": "86a27d4c",
   "metadata": {},
   "outputs": [],
   "source": [
    "import cv2 as cv\n",
    "cap = cv2.VideoCapture('1043_meal.mp4')\n",
    "ret, frame1 = cap.read()\n",
    "ret, frame2 = cap.read()\n",
    "diff = cv.absdiff(frame1, frame2)\n"
   ]
  },
  {
   "cell_type": "code",
   "execution_count": null,
   "id": "5d32fb45",
   "metadata": {},
   "outputs": [],
   "source": [
    "diff.shape"
   ]
  },
  {
   "cell_type": "code",
   "execution_count": null,
   "id": "a426dd28",
   "metadata": {},
   "outputs": [],
   "source": [
    "diff[575][767]"
   ]
  },
  {
   "cell_type": "code",
   "execution_count": null,
   "id": "94ad5bb4",
   "metadata": {},
   "outputs": [],
   "source": [
    "dist = np.linalg.norm(frame2-frame1)\n",
    "dist\n"
   ]
  },
  {
   "cell_type": "code",
   "execution_count": null,
   "id": "sealed-limit",
   "metadata": {},
   "outputs": [],
   "source": [
    "from imutils.video import VideoStream\n",
    "import argparse\n",
    "import datetime\n",
    "import imutils\n",
    "import time\n",
    "import cv2\n"
   ]
  },
  {
   "cell_type": "code",
   "execution_count": null,
   "id": "successful-reminder",
   "metadata": {},
   "outputs": [],
   "source": [
    "# construct the argument parser and parse the arguments\n",
    "ap = argparse.ArgumentParser()\n",
    "ap.add_argument(\"-v\", \"--video\", help=\"1043_meal.mp4\")\n",
    "ap.add_argument(\"-a\", \"--min-area\", type=int, default=500, help=\"minimum area size\")\n",
    "args = vars(ap.parse_args())\n",
    "\n",
    "\n",
    "# initialize the first frame in the video stream\n",
    "firstFrame = None"
   ]
  }
 ],
 "metadata": {
  "kernelspec": {
   "display_name": "Python 3 (ipykernel)",
   "language": "python",
   "name": "python3"
  },
  "language_info": {
   "codemirror_mode": {
    "name": "ipython",
    "version": 3
   },
   "file_extension": ".py",
   "mimetype": "text/x-python",
   "name": "python",
   "nbconvert_exporter": "python",
   "pygments_lexer": "ipython3",
   "version": "3.9.7"
  }
 },
 "nbformat": 4,
 "nbformat_minor": 5
}
