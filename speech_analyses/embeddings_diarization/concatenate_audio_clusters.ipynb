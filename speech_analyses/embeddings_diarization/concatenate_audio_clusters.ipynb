{
 "cells": [
  {
   "cell_type": "code",
   "execution_count": null,
   "metadata": {},
   "outputs": [],
   "source": [
    "# FIRST make a list containing all the file absolute addresses \n",
    "from pydub import AudioSegment\n",
    "import os"
   ]
  },
  {
   "cell_type": "code",
   "execution_count": null,
   "metadata": {},
   "outputs": [],
   "source": [
    "Users/andrei-macpro/Documents/Data/Audio/Embeddings/Play/clusters/clusters_0\n",
    "Users/andrei-macpro/Documents/Data/Audio/Embeddings/Play/clusters/clusters_1\n",
    "Users/andrei-macpro/Documents/Data/Audio/Embeddings/Play/clusters/clusters_2\n",
    "Users/andrei-macpro/Documents/Data/Audio/Embeddings/Play/clusters/clusters_3"
   ]
  },
  {
   "cell_type": "code",
   "execution_count": null,
   "metadata": {},
   "outputs": [],
   "source": [
    "os.chdir('/Users/andrei-macpro/Documents/Data/Audio/Embeddings/Play/clusters/clusters_0')"
   ]
  },
  {
   "cell_type": "code",
   "execution_count": null,
   "metadata": {},
   "outputs": [],
   "source": [
    "dirs = os.listdir( '/Users/andrei-macpro/Documents/Data/Audio/Embeddings/Play/clusters/clusters_0' )\n",
    "file_names_cluster_0=sorted([i for i in os.listdir(\".\") if not i.startswith(\".\")])"
   ]
  },
  {
   "cell_type": "code",
   "execution_count": null,
   "metadata": {},
   "outputs": [],
   "source": [
    "all_files=[]\n",
    "all_files.append(file_names_cluster_0)"
   ]
  },
  {
   "cell_type": "code",
   "execution_count": null,
   "metadata": {},
   "outputs": [],
   "source": [
    "os.chdir('/Users/andrei-macpro/Documents/Data/Audio/Embeddings/Play/clusters/clusters_1')\n",
    "dirs = os.listdir( '/Users/andrei-macpro/Documents/Data/Audio/Embeddings/Play/clusters/clusters_1' )\n",
    "file_names_cluster_1=sorted([i for i in os.listdir(\".\") if not i.startswith(\".\")])\n",
    "\n"
   ]
  },
  {
   "cell_type": "code",
   "execution_count": null,
   "metadata": {},
   "outputs": [],
   "source": [
    "os.chdir('/Users/andrei-macpro/Documents/Data/Audio/Embeddings/Play/clusters/clusters_2')\n",
    "dirs = os.listdir( '/Users/andrei-macpro/Documents/Data/Audio/Embeddings/Play/clusters/clusters_2' )\n",
    "file_names_cluster_2=sorted([i for i in os.listdir(\".\") if not i.startswith(\".\")])\n",
    "\n"
   ]
  },
  {
   "cell_type": "code",
   "execution_count": null,
   "metadata": {},
   "outputs": [],
   "source": [
    "os.chdir('/Users/andrei-macpro/Documents/Data/Audio/Embeddings/Play/clusters/clusters_3')\n",
    "dirs = os.listdir( '/Users/andrei-macpro/Documents/Data/Audio/Embeddings/Play/clusters/clusters_3' )\n",
    "file_names_cluster_3=sorted([i for i in os.listdir(\".\") if not i.startswith(\".\")])\n",
    "\n"
   ]
  },
  {
   "cell_type": "code",
   "execution_count": null,
   "metadata": {},
   "outputs": [],
   "source": [
    "cluster_0_abs=[]\n",
    "for file in file_names_cluster_0:\n",
    "    cluster_0_abs.append('/Users/andrei-macpro/Documents/Data/Audio/Embeddings/Play/clusters/clusters_0/'+file)"
   ]
  },
  {
   "cell_type": "code",
   "execution_count": null,
   "metadata": {},
   "outputs": [],
   "source": [
    "cluster_1_abs=[]\n",
    "for file in file_names_cluster_1:\n",
    "    cluster_1_abs.append('/Users/andrei-macpro/Documents/Data/Audio/Embeddings/Play/clusters/clusters_1/'+file)"
   ]
  },
  {
   "cell_type": "code",
   "execution_count": null,
   "metadata": {},
   "outputs": [],
   "source": [
    "cluster_2_abs=[]\n",
    "for file in file_names_cluster_2:\n",
    "    cluster_2_abs.append('/Users/andrei-macpro/Documents/Data/Audio/Embeddings/Play/clusters/clusters_2/'+file)"
   ]
  },
  {
   "cell_type": "code",
   "execution_count": null,
   "metadata": {},
   "outputs": [],
   "source": [
    "cluster_3_abs=[]\n",
    "for file in file_names_cluster_3:\n",
    "    cluster_3_abs.append('/Users/andrei-macpro/Documents/Data/Audio/Embeddings/Play/clusters/clusters_3/'+file)"
   ]
  },
  {
   "cell_type": "code",
   "execution_count": null,
   "metadata": {},
   "outputs": [],
   "source": [
    "os.chdir('/Users/andrei-macpro/Documents/Data/Audio/cluster_2+cluster_3')"
   ]
  },
  {
   "cell_type": "code",
   "execution_count": null,
   "metadata": {},
   "outputs": [],
   "source": [
    "for cluster_2, cluster_3 in zip(cluster_2_abs, cluster_3_abs): \n",
    "    if cluster_2.split(\"/\")[-1] == cluster_3.split(\"/\")[-1]:\n",
    "        sum([AudioSegment.from_file(cluster_2), AudioSegment.from_file(cluster_3)]).export(cluster_2.split(\"/\")[-1])"
   ]
  },
  {
   "cell_type": "code",
   "execution_count": null,
   "metadata": {},
   "outputs": [],
   "source": [
    "for cluster_0, cluster_1 in zip(cluster_0_abs, cluster_1_abs): \n",
    "    if cluster_0.split(\"/\")[-1] == cluster_1.split(\"/\")[-1]:\n",
    "        sum([AudioSegment.from_file(cluster_0), AudioSegment.from_file(cluster_1)]).export(cluster_0.split(\"/\")[-1])"
   ]
  },
  {
   "cell_type": "code",
   "execution_count": null,
   "metadata": {},
   "outputs": [],
   "source": [
    "os.chdir('/Users/andrei-macpro/Documents/Data/Audio/cluster_2+cluster_3')\n",
    "dirs = os.listdir( '/Users/andrei-macpro/Documents/Data/Audio/cluster_2+cluster_3' )\n",
    "file_names_cluster_2_3=sorted([i for i in os.listdir(\".\") if not i.startswith(\".\")])\n",
    "\n"
   ]
  },
  {
   "cell_type": "code",
   "execution_count": null,
   "metadata": {},
   "outputs": [],
   "source": [
    "cluster_2_3_abs=[]\n",
    "for file in file_names_cluster_2_3:\n",
    "    cluster_2_3_abs.append('/Users/andrei-macpro/Documents/Data/Audio/cluster_2+cluster_3/'+file)"
   ]
  },
  {
   "cell_type": "code",
   "execution_count": null,
   "metadata": {},
   "outputs": [],
   "source": [
    "os.chdir('/Users/andrei-macpro/Documents/Data/Audio/cluster_0+cluster_1')\n",
    "dirs = os.listdir( '/Users/andrei-macpro/Documents/Data/Audio/cluster_0+cluster_1' )\n",
    "file_names_cluster_0_1=sorted([i for i in os.listdir(\".\") if not i.startswith(\".\")])"
   ]
  },
  {
   "cell_type": "code",
   "execution_count": null,
   "metadata": {},
   "outputs": [],
   "source": [
    "cluster_0_1_abs=[]\n",
    "for file in file_names_cluster_0_1:\n",
    "    cluster_0_1_abs.append('/Users/andrei-macpro/Documents/Data/Audio/cluster_0+cluster_1/'+file)"
   ]
  },
  {
   "cell_type": "code",
   "execution_count": null,
   "metadata": {},
   "outputs": [],
   "source": [
    "for final_1, final_2 in zip(cluster_0_1_abs, cluster_2_3_abs): \n",
    "    if final_1.split(\"/\")[-1] == final_2.split(\"/\")[-1]:\n",
    "        print('something')"
   ]
  }
 ],
 "metadata": {
  "kernelspec": {
   "display_name": "Python 3",
   "language": "python",
   "name": "python3"
  },
  "language_info": {
   "codemirror_mode": {
    "name": "ipython",
    "version": 3
   },
   "file_extension": ".py",
   "mimetype": "text/x-python",
   "name": "python",
   "nbconvert_exporter": "python",
   "pygments_lexer": "ipython3",
   "version": "3.8.5"
  }
 },
 "nbformat": 4,
 "nbformat_minor": 5
}
