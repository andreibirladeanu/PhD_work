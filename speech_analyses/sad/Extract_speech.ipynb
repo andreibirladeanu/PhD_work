{
 "cells": [
  {
   "cell_type": "code",
   "execution_count": null,
   "metadata": {},
   "outputs": [],
   "source": [
    "import os\n",
    "import pyannote.core\n",
    "import torch\n",
    "from pyannote.core import Timeline, Segment\n",
    "from pyannote.audio.utils.signal import Binarize\n",
    "from tqdm import tqdm\n",
    "import pandas as pd"
   ]
  },
  {
   "cell_type": "markdown",
   "metadata": {},
   "source": [
    "# doing it for meal first"
   ]
  },
  {
   "cell_type": "code",
   "execution_count": null,
   "metadata": {},
   "outputs": [],
   "source": [
    "# first for meal\n",
    "import os\n",
    "import json\n",
    "import pyannote.core\n",
    "from pyannote.core import Timeline, Segment\n",
    "import statistics\n",
    "from pydub import AudioSegment\n",
    "os.chdir('/Users/andrei-macpro/Documents/Data/Audio/only_speech/only_speech2/timestamps_meal')"
   ]
  },
  {
   "cell_type": "code",
   "execution_count": null,
   "metadata": {},
   "outputs": [],
   "source": [
    "# function that takes as input a list of file-names and outputs a list of pyannote timelines \n",
    "path = '/Users/andrei-macpro/Documents/Data/Audio/only_speech/only_speech2/timestamps_meal'\n",
    "json_files = [pos_json for pos_json in sorted(os.listdir(path))]\n",
    "def get_timelines(json_files):\n",
    "    list_json=list()\n",
    "    list_timelines=list()\n",
    "    for filename in json_files: # loop that imports all json data into separate dictionaries\n",
    "        with open(filename) as json_file:\n",
    "            data = json.load(json_file)\n",
    "            list_json.append(data)\n",
    "    for file, segments in zip(json_files, list_json): # loop to iterate through the files and create a new timeline for each of them \n",
    "        timeline=Timeline()\n",
    "        list_timelines.append(timeline.from_json(segments))\n",
    "    return list_timelines"
   ]
  },
  {
   "cell_type": "code",
   "execution_count": null,
   "metadata": {},
   "outputs": [],
   "source": [
    "list_timelines_meal=get_timelines(json_files)"
   ]
  },
  {
   "cell_type": "code",
   "execution_count": null,
   "metadata": {},
   "outputs": [],
   "source": [
    "# let's import the files as pydub segments\n",
    "path = '/Users/andrei-macpro/Documents/Data/Audio/only_speech/only_speech1/only_speech_meal'"
   ]
  },
  {
   "cell_type": "code",
   "execution_count": null,
   "metadata": {},
   "outputs": [],
   "source": [
    "os.chdir('/Users/andrei-macpro/Documents/Data/Audio/only_speech/only_speech1/only_speech_meal')"
   ]
  },
  {
   "cell_type": "code",
   "execution_count": null,
   "metadata": {},
   "outputs": [],
   "source": [
    "raw_files = [file for file in sorted(os.listdir(path))]"
   ]
  },
  {
   "cell_type": "code",
   "execution_count": null,
   "metadata": {},
   "outputs": [],
   "source": [
    "AudioSegment.from_wav(\"/Users/andrei-macpro/Documents/Data/Audio/sad_demonstration/speech.wav\")"
   ]
  },
  {
   "cell_type": "code",
   "execution_count": null,
   "metadata": {},
   "outputs": [],
   "source": [
    "pydub_files_meal = [AudioSegment.from_wav(file) for file in raw_files]"
   ]
  },
  {
   "cell_type": "code",
   "execution_count": null,
   "metadata": {},
   "outputs": [],
   "source": [
    "# change directory to where you want the new files to reside\n",
    "os.chdir('/Users/andrei-macpro/Documents/Data/Audio/only_speech/only_speech2/only_speech2_meal')"
   ]
  },
  {
   "cell_type": "code",
   "execution_count": null,
   "metadata": {},
   "outputs": [],
   "source": [
    "for file_name, audio in zip(raw_files, list_pydub):\n",
    "    sum(audio).export(file_name, format='wav')"
   ]
  },
  {
   "cell_type": "code",
   "execution_count": null,
   "metadata": {},
   "outputs": [],
   "source": [
    "# let's make a function that will take as input list of timelines and pydub_files and write to disk the new files\n",
    "def process_files(timestamps, pydub_files, file_names):\n",
    "    #timestamps = list containing timeline for every single file\n",
    "    #pydub files = the original files in pydub format \n",
    "    list_pydub=list()\n",
    "    speech=list()\n",
    "    for timeline, pydub_file in zip(timestamps, pydub_files):\n",
    "        speech=list()\n",
    "        for key, value in dict(timeline).items():\n",
    "            speech.append(pydub_file[key*1000:value*1000])\n",
    "        list_pydub.append(speech)\n",
    "    for file_name, audio in zip(file_names, list_pydub):\n",
    "        sum(audio).export(file_name, format='wav')"
   ]
  },
  {
   "cell_type": "code",
   "execution_count": null,
   "metadata": {},
   "outputs": [],
   "source": [
    "process_files(list_timelines_meal, pydub_files_meal, raw_files)"
   ]
  },
  {
   "cell_type": "markdown",
   "metadata": {},
   "source": [
    "# now let's do it for play scenes"
   ]
  },
  {
   "cell_type": "code",
   "execution_count": null,
   "metadata": {},
   "outputs": [],
   "source": [
    "os.chdir('/Users/andrei-macpro/Documents/Data/Audio/only_speech/only_speech2/timestamps_play')"
   ]
  },
  {
   "cell_type": "code",
   "execution_count": null,
   "metadata": {},
   "outputs": [],
   "source": [
    "path = '/Users/andrei-macpro/Documents/Data/Audio/only_speech/only_speech2/timestamps_play'\n",
    "json_files = [pos_json for pos_json in sorted(os.listdir(path)) if pos_json[0] !=\".\" ]\n",
    "list_timelines_play=get_timelines(json_files)"
   ]
  },
  {
   "cell_type": "code",
   "execution_count": null,
   "metadata": {},
   "outputs": [],
   "source": [
    "# let's import the files as pydub segments\n",
    "path = '/Users/andrei-macpro/Documents/Data/Audio/only_speech/only_speech1/only_speech_play'\n",
    "raw_files_play = [file for file in sorted(os.listdir(path)) if file[0] !=\".\" ]"
   ]
  },
  {
   "cell_type": "code",
   "execution_count": null,
   "metadata": {},
   "outputs": [],
   "source": [
    "os.chdir('/Users/andrei-macpro/Documents/Data/Audio/only_speech/only_speech1/only_speech_play')\n",
    "pydub_files_play = [AudioSegment.from_wav(file) for file in raw_files_play]"
   ]
  },
  {
   "cell_type": "code",
   "execution_count": null,
   "metadata": {},
   "outputs": [],
   "source": [
    "# change directory to where you want the new files to reside\n",
    "os.chdir('/Users/andrei-macpro/Documents/Data/Audio/only_speech/only_speech2/only_speech2_play')\n",
    "process_files(list_timelines_play, pydub_files_play, raw_files_play)"
   ]
  }
 ],
 "metadata": {
  "kernelspec": {
   "display_name": "Python 3 (ipykernel)",
   "language": "python",
   "name": "python3"
  },
  "language_info": {
   "codemirror_mode": {
    "name": "ipython",
    "version": 3
   },
   "file_extension": ".py",
   "mimetype": "text/x-python",
   "name": "python",
   "nbconvert_exporter": "python",
   "pygments_lexer": "ipython3",
   "version": "3.8.10"
  }
 },
 "nbformat": 4,
 "nbformat_minor": 4
}
