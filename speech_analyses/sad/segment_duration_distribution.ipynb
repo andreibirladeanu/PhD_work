{
 "cells": [
  {
   "cell_type": "code",
   "execution_count": null,
   "metadata": {},
   "outputs": [],
   "source": [
    "import os\n",
    "import json\n",
    "import pyannote.core\n",
    "from pyannote.core import Timeline, Segment\n",
    "import statistics\n",
    "from scipy import stats\n",
    "import numpy as np\n",
    "import numpy\n",
    "import pandas as pd\n",
    "import matplotlib.pyplot as plt\n",
    "os.chdir('/Users/andrei-macpro/Documents/Data/Audio/speech_detection_timestamps/speech_detection_meal')"
   ]
  },
  {
   "cell_type": "code",
   "execution_count": null,
   "metadata": {},
   "outputs": [],
   "source": [
    "# function that takes as input a list of file-names and outputs a list of pyannote timelines \n",
    "path = '/Users/andrei-macpro/Documents/Data/Audio/speech_detection_timestamps/speech_detection_meal'\n",
    "json_files = [pos_json for pos_json in sorted(os.listdir(path))]\n",
    "def get_timelines(json_files):\n",
    "    list_json=list()\n",
    "    list_timelines=list()\n",
    "    for filename in json_files: # loop that imports all json data into separate dictionaries\n",
    "        with open(filename) as json_file:\n",
    "            data = json.load(json_file)\n",
    "            list_json.append(data)\n",
    "    for file, segments in zip(json_files, list_json): # loop to iterate through the files and create a new timeline for each of them \n",
    "        timeline=Timeline()\n",
    "        list_timelines.append(timeline.from_json(segments))\n",
    "    return list_timelines\n",
    "    "
   ]
  },
  {
   "cell_type": "code",
   "execution_count": null,
   "metadata": {},
   "outputs": [],
   "source": [
    "def get_start_times(list_of_timelines): # returns a list of start_times for both speech and silence from the given timelines\n",
    "    start_times_speech = [segment.start for timeline in list_of_timelines for segment in timeline if segment.start <=180]\n",
    "    start_times_silence = [segment.start for timeline in list_of_timelines for segment in timeline.gaps() if segment.start <=180]\n",
    "    return numpy.array(start_times_speech + start_times_silence)"
   ]
  },
  {
   "cell_type": "code",
   "execution_count": null,
   "metadata": {},
   "outputs": [],
   "source": [
    "len(duration_distribution_meal)"
   ]
  },
  {
   "cell_type": "code",
   "execution_count": null,
   "metadata": {},
   "outputs": [],
   "source": [
    "def count_durations(start_times, list_of_timelines):\n",
    "    duration_distribution_meal = np.zeros(180, dtype=int) # initialize a list that will store the no of occurences of each timepoint\n",
    "    avg_transitions = np.zeros(180)# initialize a list that will store the average no of transitions at each timepoint\n",
    "    counter = 1\n",
    "    while counter <= len(duration_distribution_meal):\n",
    "        for start_time in start_times: \n",
    "            if start_time<=counter:\n",
    "                duration_distribution_meal[counter-1] +=1 # access the index of the list and decrease by 1 to start from 0 and increase the number by 1\n",
    "            avg_transitions[counter-1] = duration_distribution_meal[counter-1]/len(list_of_timelines)\n",
    "        counter += 1 \n",
    "    return duration_distribution_meal, avg_transitions #i actually don't need the first list"
   ]
  },
  {
   "cell_type": "code",
   "execution_count": null,
   "metadata": {},
   "outputs": [],
   "source": [
    "list_timelines_meal=get_timelines(json_files) # list containing the pyannote timeline of each meal recording "
   ]
  },
  {
   "cell_type": "code",
   "execution_count": null,
   "metadata": {},
   "outputs": [],
   "source": [
    "start_times = get_start_times(list_timelines_meal)\n"
   ]
  },
  {
   "cell_type": "code",
   "execution_count": null,
   "metadata": {},
   "outputs": [],
   "source": [
    "duration_distribution_meal, avg_transitions = count_durations(start_times, list_timelines_meal)"
   ]
  },
  {
   "cell_type": "code",
   "execution_count": null,
   "metadata": {},
   "outputs": [],
   "source": [
    "%config Completer.use_jedi = False # gets autocomplete to work"
   ]
  },
  {
   "cell_type": "code",
   "execution_count": null,
   "metadata": {},
   "outputs": [],
   "source": [
    "sorted(start_times)[0:52] # seems like there are 52 audiofiles with the same start-time and the rest have a different one"
   ]
  },
  {
   "cell_type": "code",
   "execution_count": null,
   "metadata": {},
   "outputs": [],
   "source": [
    "print(start_times[0])"
   ]
  },
  {
   "cell_type": "code",
   "execution_count": null,
   "metadata": {},
   "outputs": [],
   "source": [
    "time = [i for i in range(1, 181)] # how many seconds we're looking at\n",
    "index_df = [i for i in range(len(time))]\n",
    "df = pd.DataFrame(list(zip(duration_distribution_meal,avg_transitions, time)), columns = ['Frequency of transitions', \n",
    "                                                                                   'Average transitions', 'time'], \n",
    "                  index=index_df)\n",
    "df.head()"
   ]
  },
  {
   "cell_type": "code",
   "execution_count": null,
   "metadata": {},
   "outputs": [],
   "source": [
    "df.plot.scatter(x='time', y='Average transitions')"
   ]
  },
  {
   "cell_type": "markdown",
   "metadata": {},
   "source": [
    "# now let's do it just for rad and non-rad independently"
   ]
  },
  {
   "cell_type": "code",
   "execution_count": null,
   "metadata": {},
   "outputs": [],
   "source": [
    "labels = pd.read_excel('/Users/andrei-macpro/Documents/Data/Results/corpus_processed/corpus_labelled.xlsx', \n",
    "                      )\n",
    "labels.head()"
   ]
  },
  {
   "cell_type": "code",
   "execution_count": null,
   "metadata": {},
   "outputs": [],
   "source": [
    "only_rad = labels['Subject_ID'].loc[labels['label']=='rad'].tolist() # these are the subject_id's of rad children \n",
    "no_rad = labels['Subject_ID'].loc[labels['label']=='no_rad'].tolist() # and the ones for no-rad children"
   ]
  },
  {
   "cell_type": "markdown",
   "metadata": {},
   "source": [
    "# first for meal"
   ]
  },
  {
   "cell_type": "code",
   "execution_count": null,
   "metadata": {},
   "outputs": [],
   "source": [
    "# json files for each group\n",
    "json_rad = [file for file in json_files if int(file.split('_')[0]) in only_rad] \n",
    "json_norad = [file for file in json_files if int(file.split('_')[0]) in no_rad]"
   ]
  },
  {
   "cell_type": "code",
   "execution_count": null,
   "metadata": {},
   "outputs": [],
   "source": [
    "timelines_meal_rad = get_timelines(json_rad) \n",
    "start_times_rad = get_start_times(timelines_meal_rad)"
   ]
  },
  {
   "cell_type": "code",
   "execution_count": null,
   "metadata": {},
   "outputs": [],
   "source": [
    "timelines_meal_norad = get_timelines(json_norad) \n",
    "start_times_norad = get_start_times(timelines_meal_norad)"
   ]
  },
  {
   "cell_type": "code",
   "execution_count": null,
   "metadata": {},
   "outputs": [],
   "source": [
    "duration_distribution_meal_rad, avg_transitions_rad = count_durations(start_times_rad, timelines_meal_rad)\n",
    "duration_distribution_meal_norad, avg_transitions_norad = count_durations(start_times_norad, timelines_meal_norad)\n"
   ]
  },
  {
   "cell_type": "code",
   "execution_count": null,
   "metadata": {},
   "outputs": [],
   "source": [
    "# build df for no rad\n",
    "df_norad = pd.DataFrame(list(zip(duration_distribution_meal_norad,avg_transitions_norad, time)), columns = [\n",
    "    'Frequency of transitions norad meal', 'Average transitions norad meal', 'time'], \n",
    "                  index=index_df)\n",
    "df_norad.plot.scatter(x='time', y='Average transitions norad meal')"
   ]
  },
  {
   "cell_type": "code",
   "execution_count": null,
   "metadata": {},
   "outputs": [],
   "source": [
    "df_rad = pd.DataFrame(list(zip(duration_distribution_meal_rad,avg_transitions_rad, time)), columns = \n",
    "                      ['Frequency of transitions rad meal', \n",
    "                        'Average transitions rad meal', 'time'], \n",
    "                  index=index_df)\n",
    "df_rad.plot.scatter(x='time', y='Average transitions rad meal')"
   ]
  },
  {
   "cell_type": "code",
   "execution_count": null,
   "metadata": {},
   "outputs": [],
   "source": [
    "slope_norad, intercept, r, p, se = stats.linregress(df_norad['time'], df_norad['Average transitions norad meal'])"
   ]
  },
  {
   "cell_type": "code",
   "execution_count": null,
   "metadata": {},
   "outputs": [],
   "source": [
    "slope_rad, intercept, r, p, se = stats.linregress(df_rad['time'], df_rad['Average transitions rad meal'])"
   ]
  },
  {
   "cell_type": "code",
   "execution_count": null,
   "metadata": {},
   "outputs": [],
   "source": [
    "import math   \n",
    "print (math.atan(slope_norad))"
   ]
  },
  {
   "cell_type": "code",
   "execution_count": null,
   "metadata": {},
   "outputs": [],
   "source": [
    "np.arctan(slope_rad)"
   ]
  },
  {
   "cell_type": "code",
   "execution_count": null,
   "metadata": {},
   "outputs": [],
   "source": [
    "slope_rad #meal"
   ]
  },
  {
   "cell_type": "code",
   "execution_count": null,
   "metadata": {},
   "outputs": [],
   "source": [
    "slope_norad #meal"
   ]
  },
  {
   "cell_type": "markdown",
   "metadata": {},
   "source": [
    "# now doing it for play scenes"
   ]
  },
  {
   "cell_type": "code",
   "execution_count": null,
   "metadata": {},
   "outputs": [],
   "source": [
    "os.chdir('/Users/andrei-macpro/Documents/Data/Audio/speech_detection_timestamps/speech_detection_play')"
   ]
  },
  {
   "cell_type": "code",
   "execution_count": null,
   "metadata": {},
   "outputs": [],
   "source": [
    "path = '/Users/andrei-macpro/Documents/Data/Audio/speech_detection_timestamps/speech_detection_play'\n",
    "json_files_play = [pos_json for pos_json in sorted(os.listdir(path))]"
   ]
  },
  {
   "cell_type": "code",
   "execution_count": null,
   "metadata": {},
   "outputs": [],
   "source": [
    "json_rad_play = [file for file in json_files_play if int(file.split('_')[0]) in only_rad] \n",
    "json_norad_play = [file for file in json_files_play if int(file.split('_')[0]) in no_rad]"
   ]
  },
  {
   "cell_type": "code",
   "execution_count": null,
   "metadata": {},
   "outputs": [],
   "source": [
    "timelines_meal_rad_play = get_timelines(json_rad_play) \n",
    "start_times_rad_play = get_start_times(timelines_meal_rad_play)"
   ]
  },
  {
   "cell_type": "code",
   "execution_count": null,
   "metadata": {},
   "outputs": [],
   "source": [
    "timelines_meal_norad_play = get_timelines(json_norad_play) \n",
    "start_times_norad_play = get_start_times(timelines_meal_norad_play)"
   ]
  },
  {
   "cell_type": "code",
   "execution_count": null,
   "metadata": {},
   "outputs": [],
   "source": [
    "duration_distribution_meal_rad_play, avg_transitions_rad_play = count_durations(start_times_rad_play, timelines_meal_rad_play)\n",
    "duration_distribution_meal_norad_play, avg_transitions_norad_play = count_durations(start_times_norad_play, timelines_meal_norad_play)"
   ]
  },
  {
   "cell_type": "code",
   "execution_count": null,
   "metadata": {},
   "outputs": [],
   "source": [
    "df_norad_play = pd.DataFrame(list(zip(duration_distribution_meal_norad_play,avg_transitions_norad_play, time)), \n",
    "                             columns = ['Frequency of transitions norad play', \n",
    "                                        'Average transitions norad play', 'time'], \n",
    "                  index=index_df)\n",
    "df_norad_play.plot.scatter(x='time', y='Average transitions norad play')"
   ]
  },
  {
   "cell_type": "code",
   "execution_count": null,
   "metadata": {},
   "outputs": [],
   "source": [
    "df_rad_play = pd.DataFrame(list(zip(duration_distribution_meal_rad_play,avg_transitions_rad_play, time)), \n",
    "                           columns = ['Frequency of transitions rad play', \n",
    "                                    'Average transitions rad play', 'time'], \n",
    "                  index=index_df)\n",
    "df_rad_play.plot.scatter(x='time', y='Average transitions rad play')"
   ]
  },
  {
   "cell_type": "code",
   "execution_count": null,
   "metadata": {},
   "outputs": [],
   "source": [
    "slope_rad_play, intercept, r, p, se = stats.linregress(df_rad_play['time'], df_rad_play['Average transitions rad play'])\n",
    "slope_norad_play, intercept, r, p, se = stats.linregress(df_norad_play['time'], df_norad_play['Average transitions norad play'])"
   ]
  },
  {
   "cell_type": "code",
   "execution_count": null,
   "metadata": {},
   "outputs": [],
   "source": [
    "slope_rad_play, slope_norad_play"
   ]
  },
  {
   "cell_type": "code",
   "execution_count": null,
   "metadata": {},
   "outputs": [],
   "source": [
    "df_meal_play = pd.concat([df_rad, df_norad, df_norad_play, df_rad_play], axis=1)"
   ]
  },
  {
   "cell_type": "code",
   "execution_count": null,
   "metadata": {},
   "outputs": [],
   "source": [
    "df_meal_play = df_meal_play.loc[:,~df_meal_play.columns.duplicated()]"
   ]
  },
  {
   "cell_type": "code",
   "execution_count": null,
   "metadata": {},
   "outputs": [],
   "source": [
    "fig, axs = plt.subplots(2, 2, sharex=True,sharey=True, figsize=(15, 10))\n",
    "axs[0, 0].scatter(df_meal_play['time'], df_meal_play['Average transitions rad play'], label='slope = 0.44')\n",
    "axs[0, 0].set_title(\"RAD Play\")\n",
    "axs[0, 0].legend()\n",
    "axs[1, 0].scatter(df_meal_play['time'], df_meal_play['Average transitions rad meal'], label ='slope = 0.41' )\n",
    "axs[1, 0].set_title(\"RAD Meal\")\n",
    "axs[1, 0].legend(loc='upper left')\n",
    "axs[0, 1].scatter(df_meal_play['time'], df_meal_play['Average transitions norad play'], label = 'slope= 0.41' )\n",
    "axs[0, 1].set_title(\"No RAD Play\")\n",
    "axs[0, 1].legend(loc='upper left')\n",
    "axs[1, 1].scatter(df_meal_play['time'], df_meal_play['Average transitions norad meal'], label = 'slope=0.38' )\n",
    "axs[1, 1].set_title(\"No RAD Meal\")\n",
    "axs[1, 1].legend(loc='upper left')\n",
    "fig.add_subplot(111, frame_on=False)\n",
    "plt.tick_params(labelcolor=\"none\", bottom=False, left=False)\n",
    "\n",
    "plt.xlabel(\"Time\", fontsize=18)\n",
    "plt.ylabel(\"Average transitions\", fontsize=16)\n",
    "fig.tight_layout()"
   ]
  },
  {
   "cell_type": "markdown",
   "metadata": {},
   "source": [
    "# let's look at the average transitions for each scene and group"
   ]
  },
  {
   "cell_type": "code",
   "execution_count": null,
   "metadata": {},
   "outputs": [],
   "source": [
    "df_meal_play['Average transitions rad play'], df_meal_play['Average transitions rad meal'], df_meal_play['Average transitions norad play'],\n",
    "df_meal_play['Average transitions norad meal']"
   ]
  },
  {
   "cell_type": "code",
   "execution_count": null,
   "metadata": {},
   "outputs": [],
   "source": [
    "stats.ttest_ind(df_meal_play['Average transitions rad meal'],df_meal_play['Average transitions norad meal'])"
   ]
  },
  {
   "cell_type": "code",
   "execution_count": null,
   "metadata": {},
   "outputs": [],
   "source": [
    "stats.ttest_ind(df_meal_play['Average transitions rad play'],df_meal_play['Average transitions norad play'])"
   ]
  }
 ],
 "metadata": {
  "kernelspec": {
   "display_name": "Python 3",
   "language": "python",
   "name": "python3"
  },
  "language_info": {
   "codemirror_mode": {
    "name": "ipython",
    "version": 3
   },
   "file_extension": ".py",
   "mimetype": "text/x-python",
   "name": "python",
   "nbconvert_exporter": "python",
   "pygments_lexer": "ipython3",
   "version": "3.8.5"
  }
 },
 "nbformat": 4,
 "nbformat_minor": 4
}
