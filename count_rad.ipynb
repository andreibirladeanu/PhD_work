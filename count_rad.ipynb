{
 "cells": [
  {
   "cell_type": "code",
   "execution_count": null,
   "id": "564fa649-8cff-450e-a188-ea42943a2cb2",
   "metadata": {},
   "outputs": [],
   "source": [
    "import os\n",
    "import pandas as pd\n",
    "import numpy as np"
   ]
  },
  {
   "cell_type": "code",
   "execution_count": null,
   "id": "f749bfae-0d12-446b-bc03-30e404ca9798",
   "metadata": {},
   "outputs": [],
   "source": [
    "data = pd.read_excel('/Users/andrei-macpro/Documents/Data/classification/accoustics/extraction_3.0/play_cg_prosody.xlsx', index_col=0)"
   ]
  },
  {
   "cell_type": "code",
   "execution_count": null,
   "id": "18db3222-5c25-488d-b933-cf16c54ea70b",
   "metadata": {},
   "outputs": [],
   "source": [
    "data.index.name = 's_id'"
   ]
  },
  {
   "cell_type": "code",
   "execution_count": null,
   "id": "a70afd9e-d84d-47d0-ac37-080f1d41b075",
   "metadata": {},
   "outputs": [],
   "source": [
    "huh = data.groupby(['s_id', 'label']).count().index.to_frame()"
   ]
  },
  {
   "cell_type": "code",
   "execution_count": null,
   "id": "b7f5266a-b8eb-44a2-91ed-a9e5fa0f99a4",
   "metadata": {},
   "outputs": [],
   "source": [
    "huh.iloc[:,-1].describe()"
   ]
  },
  {
   "cell_type": "code",
   "execution_count": null,
   "id": "9e5b8fcb-47eb-4652-a4be-6f4de271c5fa",
   "metadata": {},
   "outputs": [],
   "source": [
    "data"
   ]
  }
 ],
 "metadata": {
  "kernelspec": {
   "display_name": "Python 3 (ipykernel)",
   "language": "python",
   "name": "python3"
  },
  "language_info": {
   "codemirror_mode": {
    "name": "ipython",
    "version": 3
   },
   "file_extension": ".py",
   "mimetype": "text/x-python",
   "name": "python",
   "nbconvert_exporter": "python",
   "pygments_lexer": "ipython3",
   "version": "3.8.10"
  }
 },
 "nbformat": 4,
 "nbformat_minor": 5
}
