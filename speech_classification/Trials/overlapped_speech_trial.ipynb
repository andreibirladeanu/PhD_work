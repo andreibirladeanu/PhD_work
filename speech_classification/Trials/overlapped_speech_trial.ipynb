{
 "cells": [
  {
   "cell_type": "code",
   "execution_count": null,
   "metadata": {},
   "outputs": [],
   "source": [
    "import pyannote.core\n",
    "from pydub import AudioSegment\n",
    "import os\n",
    "import json\n",
    "from pyannote.core import Timeline, Segment"
   ]
  },
  {
   "cell_type": "code",
   "execution_count": null,
   "metadata": {},
   "outputs": [],
   "source": [
    "file = {'uri':'1043_meal', 'audio':'/Users/andrei-macpro/Documents/Data/Audio/sad_demonstration/speech2.wav'}"
   ]
  },
  {
   "cell_type": "code",
   "execution_count": null,
   "metadata": {},
   "outputs": [],
   "source": [
    "file_pydub = AudioSegment.from_wav(\"/Users/andrei-macpro/Documents/Data/Audio/sad_demonstration/speech2.wav\")"
   ]
  },
  {
   "cell_type": "code",
   "execution_count": null,
   "metadata": {},
   "outputs": [],
   "source": [
    "import torch\n",
    "# overlapped speech detection trained on ami training set\n",
    "model = torch.hub.load('pyannote/pyannote-audio', 'ovl_dihard')"
   ]
  },
  {
   "cell_type": "code",
   "execution_count": null,
   "metadata": {},
   "outputs": [],
   "source": [
    "osd = model({'audio':'/Users/andrei-macpro/Documents/Data/Audio/sad_demonstration/speech2.wav'})"
   ]
  },
  {
   "cell_type": "code",
   "execution_count": null,
   "metadata": {},
   "outputs": [],
   "source": [
    "from pyannote.audio.utils.signal import Binarize\n",
    "binarize = Binarize(offset=0.55, onset=0.55, log_scale=True, \n",
    "                    min_duration_off=0.1, min_duration_on=0.1)\n",
    "\n",
    "# overlapped speech regions (as `pyannote.core.Timeline` instance)\n",
    "overlap = binarize.apply(osd, dimension=1)"
   ]
  },
  {
   "cell_type": "code",
   "execution_count": null,
   "metadata": {},
   "outputs": [],
   "source": [
    "print(overlap)"
   ]
  },
  {
   "cell_type": "code",
   "execution_count": null,
   "metadata": {},
   "outputs": [],
   "source": [
    "print(overlap.gaps())"
   ]
  },
  {
   "cell_type": "code",
   "execution_count": null,
   "metadata": {},
   "outputs": [],
   "source": [
    "beginning = Segment(start =0 , end=overlap[0].start)\n",
    "end = Segment(start = overlap[len(overlap)-1].end  , end = file_pydub.duration_seconds )"
   ]
  },
  {
   "cell_type": "code",
   "execution_count": null,
   "metadata": {},
   "outputs": [],
   "source": [
    "beginning, end"
   ]
  },
  {
   "cell_type": "code",
   "execution_count": null,
   "metadata": {},
   "outputs": [],
   "source": [
    "# we're now making a complete file timeline in order to then extract the segments with overlapping speech\n",
    "no_os=Timeline()\n",
    "                    \n",
    "for segment in overlap.gaps():\n",
    "    no_os.add(segment)\n",
    "no_os.add(beginning)\n",
    "no_os.add(end)"
   ]
  },
  {
   "cell_type": "code",
   "execution_count": null,
   "metadata": {},
   "outputs": [],
   "source": [
    "print(no_os)"
   ]
  },
  {
   "cell_type": "code",
   "execution_count": null,
   "metadata": {},
   "outputs": [],
   "source": [
    "import numpy as np\n",
    "from matplotlib import pyplot as plt\n",
    "from pyannote.core import Segment, notebook"
   ]
  },
  {
   "cell_type": "code",
   "execution_count": null,
   "metadata": {},
   "outputs": [],
   "source": [
    "notebook.crop = None\n",
    "from pyannote.core import SlidingWindowFeature\n",
    "plot_ready = lambda scores: SlidingWindowFeature(np.exp(scores.data[:, 1:]), scores.sliding_window)\n"
   ]
  },
  {
   "cell_type": "code",
   "execution_count": null,
   "metadata": {},
   "outputs": [],
   "source": [
    "nrows = 2\n",
    "fig, ax = plt.subplots(nrows=nrows, ncols=1)\n",
    "fig.set_figwidth(20)\n",
    "fig.set_figheight(nrows * 2)\n",
    "\n",
    "notebook.plot_feature(plot_ready(ovd), ax=ax[0], time=False)\n",
    "ax[0].text(notebook.crop.start + 0.5, 0.2, 'overlapped speech\\ndetection scores', fontsize=14)\n",
    "ax[0].set_ylim(-0.1, 1.1)"
   ]
  },
  {
   "cell_type": "code",
   "execution_count": null,
   "metadata": {},
   "outputs": [],
   "source": [
    "timestamps_ovd=dict(overlap)\n",
    "timestamps_no_ovd = dict(no_os)"
   ]
  },
  {
   "cell_type": "code",
   "execution_count": null,
   "metadata": {},
   "outputs": [],
   "source": [
    "start_times_os=[x*1000 for x in list(timestamps_ovd.keys())]\n",
    "end_times_os=[x*1000 for x in list(timestamps_ovd.values())]"
   ]
  },
  {
   "cell_type": "code",
   "execution_count": null,
   "metadata": {},
   "outputs": [],
   "source": [
    "start_times_no_os=[x*1000 for x in list(timestamps_no_ovd.keys())]\n",
    "end_times_no_os=[x*1000 for x in list(timestamps_no_ovd.values())]"
   ]
  },
  {
   "cell_type": "code",
   "execution_count": null,
   "metadata": {},
   "outputs": [],
   "source": [
    "speech_segments=[file_pydub[start_time:end_time] for start_time,end_time in zip(start_times_os, end_times_os)]"
   ]
  },
  {
   "cell_type": "code",
   "execution_count": null,
   "metadata": {},
   "outputs": [],
   "source": [
    "no_overlap = [file_pydub[start_time:end_time] for start_time,end_time in zip(start_times_no_os, end_times_no_os)]"
   ]
  },
  {
   "cell_type": "code",
   "execution_count": null,
   "metadata": {},
   "outputs": [],
   "source": [
    "sum(speech_segments).export('/Users/andrei-macpro/Documents/Data/Audio/os2.0_1043.wav', format=\"wav\")\n"
   ]
  },
  {
   "cell_type": "code",
   "execution_count": null,
   "metadata": {},
   "outputs": [],
   "source": [
    "sum(no_overlap).export('/Users/andrei-macpro/Documents/Data/Audio/no_os2.0_1043.wav', format=\"wav\")\n"
   ]
  },
  {
   "cell_type": "code",
   "execution_count": null,
   "metadata": {},
   "outputs": [],
   "source": [
    "# ok so it makes no difference if the input to OSD is the voiced parts or the voiced(voiced parts)"
   ]
  }
 ],
 "metadata": {
  "kernelspec": {
   "display_name": "Python 3",
   "language": "python",
   "name": "python3"
  },
  "language_info": {
   "codemirror_mode": {
    "name": "ipython",
    "version": 3
   },
   "file_extension": ".py",
   "mimetype": "text/x-python",
   "name": "python",
   "nbconvert_exporter": "python",
   "pygments_lexer": "ipython3",
   "version": "3.8.5"
  }
 },
 "nbformat": 4,
 "nbformat_minor": 4
}
