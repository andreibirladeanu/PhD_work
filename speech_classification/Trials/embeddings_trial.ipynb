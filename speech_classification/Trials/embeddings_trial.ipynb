{
 "cells": [
  {
   "cell_type": "code",
   "execution_count": null,
   "id": "intermediate-organ",
   "metadata": {},
   "outputs": [],
   "source": [
    "from pyannote.audio import Inference\n",
    "import numpy as np\n",
    "from pyannote.core import Segment, Timeline"
   ]
  },
  {
   "cell_type": "code",
   "execution_count": null,
   "id": "federal-vancouver",
   "metadata": {},
   "outputs": [],
   "source": [
    "model = Inference(\"hbredin/SpeakerEmbedding-XVectorMFCC-VoxCeleb\", window=\"sliding\", duration=1, step=1)"
   ]
  },
  {
   "cell_type": "code",
   "execution_count": null,
   "id": "upper-landing",
   "metadata": {},
   "outputs": [],
   "source": [
    "embeddings = model(\"/Users/andrei-macpro/Documents/Data/Audio/no_os2.0_1043.wav\")"
   ]
  },
  {
   "cell_type": "code",
   "execution_count": null,
   "id": "sticky-indian",
   "metadata": {},
   "outputs": [],
   "source": [
    "len(embeddings)"
   ]
  },
  {
   "cell_type": "code",
   "execution_count": null,
   "id": "instant-median",
   "metadata": {},
   "outputs": [],
   "source": [
    "for embedding in embeddings:\n",
    "    print(embedding)"
   ]
  },
  {
   "cell_type": "code",
   "execution_count": null,
   "id": "stylish-exhibit",
   "metadata": {},
   "outputs": [],
   "source": [
    "for embedding in embeddings:   # for each 1 seconds Segment there's an embedding (an array)\n",
    "    for segment in embedding:\n",
    "        print(segment)"
   ]
  },
  {
   "cell_type": "code",
   "execution_count": null,
   "id": "generic-brook",
   "metadata": {},
   "outputs": [],
   "source": [
    "for embedding in embeddings:   # for each 1 seconds segment there's an embedding\n",
    "    print(type(embedding))"
   ]
  },
  {
   "cell_type": "code",
   "execution_count": null,
   "id": "surprised-numbers",
   "metadata": {},
   "outputs": [],
   "source": [
    "so the embeddings contain a segment:array tuple"
   ]
  },
  {
   "cell_type": "code",
   "execution_count": null,
   "id": "favorite-story",
   "metadata": {},
   "outputs": [],
   "source": [
    "dict_embeddings=dict(embeddings)"
   ]
  },
  {
   "cell_type": "code",
   "execution_count": null,
   "id": "cheap-proposition",
   "metadata": {},
   "outputs": [],
   "source": [
    "(dict(embeddings)).values()"
   ]
  },
  {
   "cell_type": "code",
   "execution_count": null,
   "id": "vocational-semester",
   "metadata": {},
   "outputs": [],
   "source": [
    "dict_embeddings.values()"
   ]
  },
  {
   "cell_type": "code",
   "execution_count": null,
   "id": "logical-suggestion",
   "metadata": {},
   "outputs": [],
   "source": [
    "dict_embeddings.keys()"
   ]
  },
  {
   "cell_type": "code",
   "execution_count": null,
   "id": "stuck-forwarding",
   "metadata": {},
   "outputs": [],
   "source": [
    "for array in dict_embeddings.values():\n",
    "    print(len(array))"
   ]
  },
  {
   "cell_type": "code",
   "execution_count": null,
   "id": "central-listening",
   "metadata": {},
   "outputs": [],
   "source": [
    "no_512_embeddings = [len(array) for array in dict_embeddings.values()]"
   ]
  },
  {
   "cell_type": "code",
   "execution_count": null,
   "id": "isolated-origin",
   "metadata": {},
   "outputs": [],
   "source": [
    "len(no_512_embeddings) #!! ok so each second we have a 512 embedding\n",
    "#ok so for clustering i need each row to be an embedding\n",
    "# and then i can get the size of the clusters but how i go from embedding back to timestamps - i can use the tuple?\n",
    "# in order to do re-segmentation i have to associate each segment's label back to annotation and then add those to timeline\n"
   ]
  },
  {
   "cell_type": "code",
   "execution_count": null,
   "id": "broke-sydney",
   "metadata": {},
   "outputs": [],
   "source": [
    "dict_embeddings.keys()"
   ]
  },
  {
   "cell_type": "code",
   "execution_count": null,
   "id": "original-cotton",
   "metadata": {},
   "outputs": [],
   "source": [
    "array_embeddings = np.array(list(dict_embeddings.values()))"
   ]
  },
  {
   "cell_type": "code",
   "execution_count": null,
   "id": "inner-corruption",
   "metadata": {},
   "outputs": [],
   "source": [
    "array_embeddings.shape #nicee i can now use this for clustering "
   ]
  },
  {
   "cell_type": "code",
   "execution_count": null,
   "id": "republican-render",
   "metadata": {},
   "outputs": [],
   "source": [
    "len(dict_embeddings.keys())"
   ]
  },
  {
   "cell_type": "code",
   "execution_count": null,
   "id": "fiscal-intent",
   "metadata": {},
   "outputs": [],
   "source": [
    "from sklearn.cluster import KMeans"
   ]
  },
  {
   "cell_type": "code",
   "execution_count": null,
   "id": "saved-boston",
   "metadata": {},
   "outputs": [],
   "source": [
    "kmeans = KMeans(n_clusters=3)"
   ]
  },
  {
   "cell_type": "code",
   "execution_count": null,
   "id": "significant-bunny",
   "metadata": {},
   "outputs": [],
   "source": [
    "kmeans"
   ]
  },
  {
   "cell_type": "code",
   "execution_count": null,
   "id": "pacific-congress",
   "metadata": {},
   "outputs": [],
   "source": [
    "kmeans.labels_"
   ]
  },
  {
   "cell_type": "code",
   "execution_count": null,
   "id": "spoken-psychiatry",
   "metadata": {},
   "outputs": [],
   "source": [
    "predictions = kmeans.fit_predict(array_embeddings)"
   ]
  },
  {
   "cell_type": "code",
   "execution_count": null,
   "id": "painted-scottish",
   "metadata": {},
   "outputs": [],
   "source": [
    "segments0 \n",
    "for key, value in zip(dict_embeddings.keys(),predictions):\n",
    "    print(key, value)"
   ]
  },
  {
   "cell_type": "code",
   "execution_count": null,
   "id": "sensitive-density",
   "metadata": {},
   "outputs": [],
   "source": [
    "cluster0 = np.array([embedding for embedding, cluster in zip(array_embeddings, predictions) if cluster==0])"
   ]
  },
  {
   "cell_type": "code",
   "execution_count": null,
   "id": "another-nudist",
   "metadata": {},
   "outputs": [],
   "source": [
    "cluster0_pred = np.array([label for label in predictions if label==0])"
   ]
  },
  {
   "cell_type": "code",
   "execution_count": null,
   "id": "connected-obligation",
   "metadata": {},
   "outputs": [],
   "source": [
    "cluster1= np.array([embedding for embedding, cluster in zip(array_embeddings, predictions) if cluster==1])"
   ]
  },
  {
   "cell_type": "code",
   "execution_count": null,
   "id": "happy-aging",
   "metadata": {},
   "outputs": [],
   "source": [
    "cluster1_pred = np.array([label for label in predictions if label==1])"
   ]
  },
  {
   "cell_type": "code",
   "execution_count": null,
   "id": "balanced-budapest",
   "metadata": {},
   "outputs": [],
   "source": [
    "new_cluster = np.concatenate((cluster0, cluster1), axis=0)"
   ]
  },
  {
   "cell_type": "code",
   "execution_count": null,
   "id": "consistent-switzerland",
   "metadata": {},
   "outputs": [],
   "source": [
    "new_predictions = np.concatenate((cluster0_pred, cluster1_pred), axis=0)"
   ]
  },
  {
   "cell_type": "code",
   "execution_count": null,
   "id": "dried-enclosure",
   "metadata": {},
   "outputs": [],
   "source": [
    "predictions, new_predictions"
   ]
  },
  {
   "cell_type": "code",
   "execution_count": null,
   "id": "systematic-pepper",
   "metadata": {},
   "outputs": [],
   "source": [
    "segments0 = [key for key, value in zip(dict_embeddings.keys(),predictions) if value==0]\n",
    "timeline0 = Timeline(segments=segments0, uri='/Users/andrei-macpro/Documents/Data/Audio/no_os2.0_1043.wav')"
   ]
  },
  {
   "cell_type": "code",
   "execution_count": null,
   "id": "transparent-touch",
   "metadata": {},
   "outputs": [],
   "source": [
    "segments0[0].start"
   ]
  },
  {
   "cell_type": "code",
   "execution_count": null,
   "id": "amino-smell",
   "metadata": {},
   "outputs": [],
   "source": [
    "print(timeline0[0])"
   ]
  },
  {
   "cell_type": "code",
   "execution_count": null,
   "id": "micro-money",
   "metadata": {},
   "outputs": [],
   "source": [
    "timeline1 = Timeline(segments=[key for key, value in zip(dict_embeddings.keys(),predictions) if value==1],\n",
    "                     uri='/Users/andrei-macpro/Documents/Data/Audio/no_os2.0_1043.wav')"
   ]
  },
  {
   "cell_type": "code",
   "execution_count": null,
   "id": "characteristic-boston",
   "metadata": {},
   "outputs": [],
   "source": [
    "timeline2 = Timeline(segments=[key for key, value in zip(dict_embeddings.keys(),predictions) if value==2],\n",
    "                     uri='/Users/andrei-macpro/Documents/Data/Audio/no_os2.0_1043.wav')"
   ]
  },
  {
   "cell_type": "code",
   "execution_count": null,
   "id": "arabic-fighter",
   "metadata": {},
   "outputs": [],
   "source": [
    "timeline3 = Timeline(segments=[key for key, value in zip(dict_embeddings.keys(),predictions) if value==3],\n",
    "                     uri='/Users/andrei-macpro/Documents/Data/Audio/no_os2.0_1043.wav')"
   ]
  },
  {
   "cell_type": "code",
   "execution_count": null,
   "id": "designing-amount",
   "metadata": {},
   "outputs": [],
   "source": [
    "for segment in timeline2:  # mostly cg\n",
    "    play(file_pydub[segment.start*1000:segment.end*1000])"
   ]
  },
  {
   "cell_type": "code",
   "execution_count": null,
   "id": "transparent-insurance",
   "metadata": {},
   "outputs": [],
   "source": [
    "cluster 3 = cg\n",
    "cluster 2 = bb\n"
   ]
  },
  {
   "cell_type": "code",
   "execution_count": null,
   "id": "mediterranean-separate",
   "metadata": {},
   "outputs": [],
   "source": [
    "len(timeline0) , len(timeline1), len(timeline2)"
   ]
  },
  {
   "cell_type": "code",
   "execution_count": null,
   "id": "right-future",
   "metadata": {},
   "outputs": [],
   "source": [
    "bb_speech=[file_pydub[segment.start*1000:segment.end*1000] for segment in timeline0]"
   ]
  },
  {
   "cell_type": "code",
   "execution_count": null,
   "id": "efficient-excitement",
   "metadata": {},
   "outputs": [],
   "source": [
    "sum(bb_speech).export('/Users/andrei-macpro/Documents/Data/Audio/bb_speech.wav', format=\"wav\")"
   ]
  },
  {
   "cell_type": "code",
   "execution_count": null,
   "id": "middle-performer",
   "metadata": {},
   "outputs": [],
   "source": [
    "for segment in timeline1: # mostly cg\n",
    "    play(file_pydub[segment.start*1000:segment.end*1000])"
   ]
  },
  {
   "cell_type": "code",
   "execution_count": null,
   "id": "considered-nomination",
   "metadata": {},
   "outputs": [],
   "source": [
    "cg_speech=[file_pydub[segment.start*1000:segment.end*1000] for segment in timeline1]"
   ]
  },
  {
   "cell_type": "markdown",
   "id": "coated-contribution",
   "metadata": {},
   "source": [
    "sum(cg_speech).export('/Users/andrei-macpro/Documents/Data/Audio/cg_speech.wav', format=\"wav\")"
   ]
  },
  {
   "cell_type": "code",
   "execution_count": null,
   "id": "complicated-squad",
   "metadata": {},
   "outputs": [],
   "source": [
    "for segment in timeline2: # mostly background noises (or sounds that don't sound like speech + experimenter)\n",
    "    play(file_pydub[segment.start*1000:segment.end*1000])"
   ]
  },
  {
   "cell_type": "code",
   "execution_count": null,
   "id": "american-desktop",
   "metadata": {},
   "outputs": [],
   "source": [
    "for segment in timeline3: # pauses in speech \n",
    "    play(file_pydub[segment.start*1000:segment.end*1000])"
   ]
  },
  {
   "cell_type": "markdown",
   "id": "hired-smile",
   "metadata": {},
   "source": [
    "# clusters for window of 1"
   ]
  },
  {
   "cell_type": "code",
   "execution_count": null,
   "id": "returning-print",
   "metadata": {},
   "outputs": [],
   "source": [
    "# let's vizualize the clusters   \n",
    "plt.figure(figsize=(10,10))\n",
    "scatter = plt.scatter(array_embeddings[:, 0], array_embeddings[:, 1], c=predictions, s=50, cmap='viridis')\n",
    "plt.legend(*scatter.legend_elements())\n",
    "centers = kmeans.cluster_centers_\n",
    "plt.scatter(centers[:, 0], centers[:, 1], c='black', s=200, alpha=0.5);\n"
   ]
  },
  {
   "cell_type": "markdown",
   "id": "detected-analysis",
   "metadata": {},
   "source": [
    "# clusters with window of 2"
   ]
  },
  {
   "cell_type": "code",
   "execution_count": null,
   "id": "convinced-execution",
   "metadata": {},
   "outputs": [],
   "source": [
    "plt.figure(figsize=(10,10))\n",
    "scatter = plt.scatter(array_embeddings[:, 0], array_embeddings[:, 1], c=predictions, s=50, cmap='viridis')\n",
    "plt.legend(*scatter.legend_elements())\n",
    "centers = kmeans.cluster_centers_\n",
    "plt.scatter(centers[:, 0], centers[:, 1], c='black', s=200, alpha=0.5);"
   ]
  },
  {
   "cell_type": "code",
   "execution_count": null,
   "id": "mature-anaheim",
   "metadata": {},
   "outputs": [],
   "source": [
    "plt.figure(figsize=(10,10))\n",
    "scatter = plt.scatter(new_cluster[:, 0], new_cluster[:, 1], c=new_predictions)"
   ]
  },
  {
   "cell_type": "code",
   "execution_count": null,
   "id": "signed-cloud",
   "metadata": {},
   "outputs": [],
   "source": [
    "cluster0[0]"
   ]
  },
  {
   "cell_type": "code",
   "execution_count": null,
   "id": "expensive-minneapolis",
   "metadata": {},
   "outputs": [],
   "source": [
    "# what if i only plot 0 and 1? \n"
   ]
  },
  {
   "cell_type": "code",
   "execution_count": null,
   "id": "reliable-meeting",
   "metadata": {},
   "outputs": [],
   "source": [
    "scatter.legend_elements()"
   ]
  },
  {
   "cell_type": "code",
   "execution_count": null,
   "id": "falling-situation",
   "metadata": {},
   "outputs": [],
   "source": [
    "predictions"
   ]
  },
  {
   "cell_type": "code",
   "execution_count": null,
   "id": "macro-rabbit",
   "metadata": {},
   "outputs": [],
   "source": [
    "# omg maybe the input should be just the voiced parts....... "
   ]
  },
  {
   "cell_type": "code",
   "execution_count": null,
   "id": "aboriginal-manual",
   "metadata": {},
   "outputs": [],
   "source": [
    "sound0=Timeline()\n",
    "sound1=Timeline()\n",
    "sound2=Timeline()\n",
    "for key, value in zip(dict_embeddings.keys(),predictions):\n",
    "    if value==0:\n",
    "        sound0.add(key)\n",
    "    elif value==1:\n",
    "        sound1.add(key)\n",
    "    else:\n",
    "        sound2.add(key)"
   ]
  },
  {
   "cell_type": "code",
   "execution_count": null,
   "id": "unsigned-forum",
   "metadata": {},
   "outputs": [],
   "source": [
    "print(sound1)"
   ]
  },
  {
   "cell_type": "code",
   "execution_count": null,
   "id": "double-subcommittee",
   "metadata": {},
   "outputs": [],
   "source": [
    "from pydub import AudioSegment\n",
    "file_pydub = AudioSegment.from_wav(\"/Users/andrei-macpro/Documents/Data/Audio/no_os2.0_1043.wav\")"
   ]
  },
  {
   "cell_type": "code",
   "execution_count": null,
   "id": "outside-hundred",
   "metadata": {},
   "outputs": [],
   "source": [
    "timestamps_0=dict(sound0)\n",
    "start_times_sound0=[x*1000 for x in list(timestamps_0.keys())]\n",
    "end_times_sound0=[x*1000 for x in list(timestamps_0.values())]"
   ]
  },
  {
   "cell_type": "code",
   "execution_count": null,
   "id": "necessary-european",
   "metadata": {},
   "outputs": [],
   "source": [
    "timestamps_1=dict(sound1)\n",
    "start_times_sound1=[x*1000 for x in list(timestamps_1.keys())]\n",
    "end_times_sound1=[x*1000 for x in list(timestamps_1.values())]"
   ]
  },
  {
   "cell_type": "code",
   "execution_count": null,
   "id": "atomic-cincinnati",
   "metadata": {},
   "outputs": [],
   "source": [
    "timestamps_2=dict(sound2)\n",
    "start_times_sound2=[x*1000 for x in list(timestamps_2.keys())]\n",
    "end_times_sound2=[x*1000 for x in list(timestamps_2.values())]"
   ]
  },
  {
   "cell_type": "code",
   "execution_count": null,
   "id": "advisory-announcement",
   "metadata": {},
   "outputs": [],
   "source": [
    "cluster0=[file_pydub[start_time:end_time] for start_time,end_time in zip(start_times_sound0, end_times_sound0)]"
   ]
  },
  {
   "cell_type": "code",
   "execution_count": null,
   "id": "dried-charleston",
   "metadata": {},
   "outputs": [],
   "source": [
    "cluster1=[file_pydub[start_time:end_time] for start_time,end_time in zip(start_times_sound1, end_times_sound1)]"
   ]
  },
  {
   "cell_type": "code",
   "execution_count": null,
   "id": "conceptual-kinase",
   "metadata": {},
   "outputs": [],
   "source": [
    "cluster2=[file_pydub[start_time:end_time] for start_time,end_time in zip(start_times_sound2, end_times_sound2)]"
   ]
  },
  {
   "cell_type": "code",
   "execution_count": null,
   "id": "aggregate-pipeline",
   "metadata": {},
   "outputs": [],
   "source": [
    "sum(speech_segments).export('/Users/andrei-macpro/Documents/Data/Audio/1043_bb', format=\"wav\")"
   ]
  },
  {
   "cell_type": "code",
   "execution_count": null,
   "id": "widespread-framing",
   "metadata": {},
   "outputs": [],
   "source": [
    "\n",
    "for sound in cluster0:\n",
    "    play(sound)"
   ]
  },
  {
   "cell_type": "code",
   "execution_count": null,
   "id": "bridal-index",
   "metadata": {},
   "outputs": [],
   "source": [
    "from pydub.playback import play"
   ]
  },
  {
   "cell_type": "code",
   "execution_count": null,
   "id": "frequent-newcastle",
   "metadata": {},
   "outputs": [],
   "source": [
    "from pydub.playback import play\n",
    "for sound in cluster1:\n",
    "    play(sound)"
   ]
  },
  {
   "cell_type": "code",
   "execution_count": null,
   "id": "bibliographic-timer",
   "metadata": {},
   "outputs": [],
   "source": [
    "for sound in cluster2:\n",
    "    play(sound)"
   ]
  },
  {
   "cell_type": "code",
   "execution_count": null,
   "id": "closed-pressing",
   "metadata": {},
   "outputs": [],
   "source": [
    "import matplotlib.pyplot as plt\n",
    "sse = []\n",
    "list_k = list(range(1, 6))\n",
    "\n",
    "for k in list_k:\n",
    "    km = KMeans(n_clusters=k)\n",
    "    km.fit(array_embeddings)\n",
    "    sse.append(km.inertia_)\n",
    "\n",
    "# Plot sse against k\n",
    "plt.figure(figsize=(6, 6))\n",
    "plt.plot(list_k, sse, '-o')\n",
    "plt.xlabel(r'Number of clusters *k*')\n",
    "plt.ylabel('Sum of squared distance');"
   ]
  },
  {
   "cell_type": "code",
   "execution_count": null,
   "id": "adjustable-single",
   "metadata": {},
   "outputs": [],
   "source": [
    "km"
   ]
  }
 ],
 "metadata": {
  "kernelspec": {
   "display_name": "Python 3",
   "language": "python",
   "name": "python3"
  },
  "language_info": {
   "codemirror_mode": {
    "name": "ipython",
    "version": 3
   },
   "file_extension": ".py",
   "mimetype": "text/x-python",
   "name": "python",
   "nbconvert_exporter": "python",
   "pygments_lexer": "ipython3",
   "version": "3.8.8"
  }
 },
 "nbformat": 4,
 "nbformat_minor": 5
}
