{
 "cells": [
  {
   "cell_type": "code",
   "execution_count": null,
   "id": "a4c9a2bd",
   "metadata": {},
   "outputs": [],
   "source": [
    "import numpy as np\n",
    "from pyannote.core import Segment, Timeline\n",
    "import os\n",
    "from sklearn.cluster import KMeans\n",
    "import pandas as pd\n",
    "import json\n",
    "import pyannote.core.json\n",
    "from numpy import genfromtxt\n",
    "from sklearn.cluster import KMeans\n",
    "from pydub import AudioSegment\n",
    "from pydub.playback import play"
   ]
  },
  {
   "cell_type": "code",
   "execution_count": null,
   "id": "30c3f8f9",
   "metadata": {},
   "outputs": [],
   "source": [
    "os.chdir('/Users/andrei-macpro/Documents/Data/Audio/Embeddings/Meal/Timestamps' )\n",
    "file_names=sorted([i for i in os.listdir(\".\") if not i.startswith(\".\")])"
   ]
  },
  {
   "cell_type": "code",
   "execution_count": null,
   "id": "c36ec56b",
   "metadata": {},
   "outputs": [],
   "source": [
    "# import the complete file timestamps (from 0 to file end)\n",
    "json_timelines=list()\n",
    "for file in file_names:\n",
    "    json_timelines.append(pyannote.core.json.load_from(file))"
   ]
  },
  {
   "cell_type": "code",
   "execution_count": null,
   "id": "a89eb485",
   "metadata": {},
   "outputs": [],
   "source": [
    "# import the embedding vectors \n",
    "os.chdir( '/Users/andrei-macpro/Documents/Data/Audio/Embeddings/Meal/Embeddings' )\n",
    "file_names=sorted([i for i in os.listdir(\".\") if not i.startswith(\".\")])\n",
    "embeddings=list()\n",
    "for file in file_names:\n",
    "    embeddings.append(genfromtxt(file, delimiter=','))"
   ]
  },
  {
   "cell_type": "code",
   "execution_count": null,
   "id": "bb5de29f",
   "metadata": {},
   "outputs": [],
   "source": [
    "# run k means \n",
    "kmeans = KMeans(n_clusters=4)\n",
    "predictions = list()\n",
    "for file in embeddings:       \n",
    "    labels = kmeans.fit_predict(file)\n",
    "    predictions.append(labels)"
   ]
  },
  {
   "cell_type": "code",
   "execution_count": null,
   "id": "6036a5c3",
   "metadata": {},
   "outputs": [],
   "source": [
    "# tuple of 1-s second and its corresponding label \n",
    "list_of_tuples=[]\n",
    "temp_list=[]\n",
    "for prediction, timeline in zip(predictions, json_timelines):\n",
    "    for label, segment in zip(prediction, timeline):\n",
    "        temp_list.append(((label,segment)))\n",
    "    list_of_tuples.append(temp_list)\n",
    "    temp_list=[]\n",
    "    "
   ]
  },
  {
   "cell_type": "code",
   "execution_count": null,
   "id": "b9efd76e",
   "metadata": {},
   "outputs": [],
   "source": [
    "os.chdir('/Users/andrei-macpro/Documents/Data/Audio/overlapping_speech/no_os_meal')  #if string starts with slash it is considered absolute\n",
    "file_names=sorted([i for i in os.listdir(\".\") if not i.startswith(\".\")])"
   ]
  },
  {
   "cell_type": "code",
   "execution_count": null,
   "id": "a4d5348a",
   "metadata": {},
   "outputs": [],
   "source": [
    "# make new timelines from clusters \n",
    "def timelines_from_clusters(list_of_tuples,cluster_no):\n",
    "    timelines_from_clusters = []\n",
    "    for file in list_of_tuples:\n",
    "        temp_list=[]\n",
    "        for cluster_seg in file:\n",
    "            if cluster_seg[0]==cluster_no:\n",
    "                temp_list.append(cluster_seg[1])\n",
    "        timelines_from_clusters.append(temp_list)\n",
    "        \n",
    "    return timelines_from_clusters\n"
   ]
  },
  {
   "cell_type": "code",
   "execution_count": null,
   "id": "a1d452cf",
   "metadata": {},
   "outputs": [],
   "source": [
    "clusters_0 = timelines_from_clusters(list_of_tuples,0)\n",
    "clusters_1 = timelines_from_clusters(list_of_tuples,1)\n",
    "clusters_2 = timelines_from_clusters(list_of_tuples,2)\n",
    "clusters_3 = timelines_from_clusters(list_of_tuples,3)\n"
   ]
  },
  {
   "cell_type": "code",
   "execution_count": null,
   "id": "2e3825d6",
   "metadata": {},
   "outputs": [],
   "source": [
    "clusters_0\n"
   ]
  },
  {
   "cell_type": "code",
   "execution_count": null,
   "id": "cbbe6540",
   "metadata": {},
   "outputs": [],
   "source": [
    "# timelines with the 0-label \n",
    "timelines_0=[]\n",
    "for time, file_name in zip(clusters_0, file_names):\n",
    "    segments=[segment for segment in time]\n",
    "    timeline=Timeline(segments=segments, uri=file_name)\n",
    "    timelines_0.append(timeline)\n",
    "    \n"
   ]
  },
  {
   "cell_type": "code",
   "execution_count": null,
   "id": "4bbba7cb",
   "metadata": {},
   "outputs": [],
   "source": [
    "timelines_1=[]\n",
    "for time, file_name in zip(clusters_1, file_names):\n",
    "    segments=[segment for segment in time]\n",
    "    timeline=Timeline(segments=segments, uri=file_name)\n",
    "    timelines_1.append(timeline)\n",
    "    \n",
    "timelines_2=[]\n",
    "for time, file_name in zip(clusters_2, file_names):\n",
    "    segments=[segment for segment in time]\n",
    "    timeline=Timeline(segments=segments, uri=file_name)\n",
    "    timelines_2.append(timeline)\n",
    "    \n",
    "timelines_3=[]\n",
    "for time, file_name in zip(clusters_3, file_names):\n",
    "    segments=[segment for segment in time]\n",
    "    timeline=Timeline(segments=segments, uri=file_name)\n",
    "    timelines_3.append(timeline)"
   ]
  },
  {
   "cell_type": "code",
   "execution_count": null,
   "id": "b818e0dc",
   "metadata": {},
   "outputs": [],
   "source": [
    "# let's listen to these clusters with pydub \n",
    "os.chdir('/Users/andrei-macpro/Documents/Data/Audio/overlapping_speech/no_os_play')  #if string starts with slash it is considered absolute\n",
    "file_names=sorted([i for i in os.listdir(\".\") if not i.startswith(\".\")])"
   ]
  },
  {
   "cell_type": "code",
   "execution_count": null,
   "id": "c9ee84bd",
   "metadata": {},
   "outputs": [],
   "source": [
    "files_pydub = [AudioSegment.from_wav(file) for file in file_names]"
   ]
  },
  {
   "cell_type": "code",
   "execution_count": null,
   "id": "2fad2ce3",
   "metadata": {},
   "outputs": [],
   "source": [
    "# function that writes to disk the timelines_from_clusters (i.e. for each recording the segments corresponding to the labels)\n",
    "def process_files(timestamps, pydub_files, file_names):\n",
    "    #timestamps = list containing timeline for every single file\n",
    "    #pydub files = the original files in pydub format \n",
    "    list_pydub=list()\n",
    "    speech=list()\n",
    "    for timeline, pydub_file in zip(timestamps, pydub_files):\n",
    "        speech=list()\n",
    "        for key, value in dict(timeline).items():\n",
    "            speech.append(pydub_file[key*1000:value*1000])\n",
    "        list_pydub.append(speech)\n",
    "    for file_name, audio in zip(file_names, list_pydub):\n",
    "        sum(audio).export(file_name, format='wav')\n",
    "        "
   ]
  },
  {
   "cell_type": "code",
   "execution_count": null,
   "id": "9e76eb7e",
   "metadata": {},
   "outputs": [],
   "source": [
    "os.chdir('/Users/andrei-macpro/Documents/Data/Audio/Embeddings/Play/clusters/clusters_3')"
   ]
  },
  {
   "cell_type": "code",
   "execution_count": null,
   "id": "5f053b4a",
   "metadata": {},
   "outputs": [],
   "source": [
    "process_files(timelines_3, files_pydub, file_names)"
   ]
  },
  {
   "cell_type": "code",
   "execution_count": null,
   "id": "48a345d3",
   "metadata": {},
   "outputs": [],
   "source": [
    "for segment in timelines_1: # cg\n",
    "    play(file[segment.start*1000:segment.end*1000])"
   ]
  },
  {
   "cell_type": "code",
   "execution_count": null,
   "id": "4db04d2f",
   "metadata": {},
   "outputs": [],
   "source": [
    "for segment in timelines_2[1]: #noise\n",
    "    play(file[segment.start*1000:segment.end*1000])"
   ]
  },
  {
   "cell_type": "code",
   "execution_count": null,
   "id": "dd951afa",
   "metadata": {},
   "outputs": [],
   "source": [
    "for segment in timelines_3[18]: #bb\n",
    "    play(file[segment.start*1000:segment.end*1000])"
   ]
  },
  {
   "cell_type": "code",
   "execution_count": null,
   "id": "d5271f1d",
   "metadata": {},
   "outputs": [],
   "source": [
    "# save timeline_from_cluster to disk \n",
    "for timeline in timelines_0:\n",
    "    pyannote.core.json.dump_to(timeline, timeline.uri+\".json\")"
   ]
  },
  {
   "cell_type": "code",
   "execution_count": null,
   "id": "2ce95c4f",
   "metadata": {},
   "outputs": [],
   "source": [
    "for timeline in timelines_1:\n",
    "    pyannote.core.json.dump_to(timeline, timeline.uri+\".json\")"
   ]
  },
  {
   "cell_type": "code",
   "execution_count": null,
   "id": "1ae35b2b",
   "metadata": {},
   "outputs": [],
   "source": [
    "for timeline in timelines_2:\n",
    "    pyannote.core.json.dump_to(timeline, timeline.uri+\".json\")"
   ]
  },
  {
   "cell_type": "code",
   "execution_count": null,
   "id": "f65cbf29",
   "metadata": {},
   "outputs": [],
   "source": [
    "for timeline in timelines_3:\n",
    "    pyannote.core.json.dump_to(timeline, timeline.uri+\".json\")"
   ]
  }
 ],
 "metadata": {
  "kernelspec": {
   "display_name": "Python 3 (ipykernel)",
   "language": "python",
   "name": "python3"
  },
  "language_info": {
   "codemirror_mode": {
    "name": "ipython",
    "version": 3
   },
   "file_extension": ".py",
   "mimetype": "text/x-python",
   "name": "python",
   "nbconvert_exporter": "python",
   "pygments_lexer": "ipython3",
   "version": "3.8.10"
  }
 },
 "nbformat": 4,
 "nbformat_minor": 5
}
