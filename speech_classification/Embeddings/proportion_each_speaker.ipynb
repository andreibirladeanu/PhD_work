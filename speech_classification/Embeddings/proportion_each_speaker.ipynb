{
 "cells": [
  {
   "cell_type": "code",
   "execution_count": null,
   "metadata": {},
   "outputs": [],
   "source": [
    "import pyannote.core\n",
    "from pydub import AudioSegment\n",
    "import pandas as pd\n",
    "from pyannote.core import Timeline, Segment\n",
    "import os"
   ]
  },
  {
   "cell_type": "markdown",
   "metadata": {},
   "source": [
    "# Meal"
   ]
  },
  {
   "cell_type": "code",
   "execution_count": null,
   "metadata": {},
   "outputs": [],
   "source": [
    "os.chdir('/Users/andrei-macpro/Documents/Data/Audio/Embeddings/Meal/identification/cg')"
   ]
  },
  {
   "cell_type": "code",
   "execution_count": null,
   "metadata": {},
   "outputs": [],
   "source": [
    "path = \"/Users/andrei-macpro/Documents/Data/Audio/Embeddings/Meal/identification/cg\"  #if string starts with slash it is considered absolute\n",
    "dirs = os.listdir( path )\n",
    "file_names=sorted([i for i in os.listdir(\".\") if not i.startswith(\".\")])"
   ]
  },
  {
   "cell_type": "code",
   "execution_count": null,
   "metadata": {},
   "outputs": [],
   "source": [
    "files_pydub_cg_meal = [AudioSegment.from_wav(fname) for fname in file_names]"
   ]
  },
  {
   "cell_type": "code",
   "execution_count": null,
   "metadata": {},
   "outputs": [],
   "source": [
    "duration_cg_meal = [x.duration_seconds for x in files_pydub_cg_meal]"
   ]
  },
  {
   "cell_type": "code",
   "execution_count": null,
   "metadata": {},
   "outputs": [],
   "source": [
    "index_cg_meal = [int(x.split('_')[0]) for x in file_names]"
   ]
  },
  {
   "cell_type": "code",
   "execution_count": null,
   "metadata": {},
   "outputs": [],
   "source": [
    "del files_pydub_cg_meal"
   ]
  },
  {
   "cell_type": "code",
   "execution_count": null,
   "metadata": {},
   "outputs": [],
   "source": [
    "os.chdir('/Users/andrei-macpro/Documents/Data/Audio/Embeddings/Meal/identification/child')"
   ]
  },
  {
   "cell_type": "code",
   "execution_count": null,
   "metadata": {},
   "outputs": [],
   "source": [
    "path = \"/Users/andrei-macpro/Documents/Data/Audio/Embeddings/Meal/identification/child\"  #if string starts with slash it is considered absolute\n",
    "dirs = os.listdir( path )\n",
    "file_names=sorted([i for i in os.listdir(\".\") if not i.startswith(\".\")])"
   ]
  },
  {
   "cell_type": "code",
   "execution_count": null,
   "metadata": {},
   "outputs": [],
   "source": [
    "files_pydub_child_meal = [AudioSegment.from_wav(fname) for fname in file_names]"
   ]
  },
  {
   "cell_type": "code",
   "execution_count": null,
   "metadata": {},
   "outputs": [],
   "source": [
    "duration_child_meal = [x.duration_seconds for x in files_pydub_child_meal]\n",
    "index_child_meal = [int(x.split('_')[0]) for x in file_names]"
   ]
  },
  {
   "cell_type": "code",
   "execution_count": null,
   "metadata": {},
   "outputs": [],
   "source": [
    "del files_pydub_child_meal"
   ]
  },
  {
   "cell_type": "markdown",
   "metadata": {},
   "source": [
    "# Play"
   ]
  },
  {
   "cell_type": "code",
   "execution_count": null,
   "metadata": {},
   "outputs": [],
   "source": [
    "os.chdir('/Users/andrei-macpro/Documents/Data/Audio/Embeddings/Play/identification/cg')"
   ]
  },
  {
   "cell_type": "code",
   "execution_count": null,
   "metadata": {},
   "outputs": [],
   "source": [
    "path = \"/Users/andrei-macpro/Documents/Data/Audio/Embeddings/Play/identification/cg\"  #if string starts with slash it is considered absolute\n",
    "dirs = os.listdir( path )\n",
    "file_names=sorted([i for i in os.listdir(\".\") if not i.startswith(\".\")])"
   ]
  },
  {
   "cell_type": "code",
   "execution_count": null,
   "metadata": {},
   "outputs": [],
   "source": [
    "files_pydub_cg_play = [AudioSegment.from_wav(fname) for fname in file_names]\n",
    "duration_cg_play = [x.duration_seconds for x in files_pydub_cg_play]"
   ]
  },
  {
   "cell_type": "code",
   "execution_count": null,
   "metadata": {},
   "outputs": [],
   "source": [
    "del files_pydub_cg_play"
   ]
  },
  {
   "cell_type": "code",
   "execution_count": null,
   "metadata": {},
   "outputs": [],
   "source": [
    "index_cg_play = [int(x.split('_')[0]) for x in file_names]"
   ]
  },
  {
   "cell_type": "code",
   "execution_count": null,
   "metadata": {},
   "outputs": [],
   "source": [
    "os.chdir('/Users/andrei-macpro/Documents/Data/Audio/Embeddings/Play/identification/child')"
   ]
  },
  {
   "cell_type": "code",
   "execution_count": null,
   "metadata": {},
   "outputs": [],
   "source": [
    "path = \"/Users/andrei-macpro/Documents/Data/Audio/Embeddings/Play/identification/child\"  #if string starts with slash it is considered absolute\n",
    "dirs = os.listdir( path )\n",
    "file_names=sorted([i for i in os.listdir(\".\") if not i.startswith(\".\")])"
   ]
  },
  {
   "cell_type": "code",
   "execution_count": null,
   "metadata": {},
   "outputs": [],
   "source": [
    "files_pydub_child_play = [AudioSegment.from_wav(fname) for fname in file_names]\n",
    "duration_child_play = [x.duration_seconds for x in files_pydub_child_play]"
   ]
  },
  {
   "cell_type": "code",
   "execution_count": null,
   "metadata": {},
   "outputs": [],
   "source": [
    "del files_pydub_child_play"
   ]
  },
  {
   "cell_type": "code",
   "execution_count": null,
   "metadata": {},
   "outputs": [],
   "source": [
    "index_child_play = [int(x.split('_')[0]) for x in file_names]"
   ]
  },
  {
   "cell_type": "markdown",
   "metadata": {},
   "source": [
    "# now we do the same for the original recordings"
   ]
  },
  {
   "cell_type": "code",
   "execution_count": null,
   "metadata": {},
   "outputs": [],
   "source": [
    "os.chdir('/Users/andrei-macpro/Documents/Data/Audio/overlapping_speech/no_os_meal')"
   ]
  },
  {
   "cell_type": "code",
   "execution_count": null,
   "metadata": {},
   "outputs": [],
   "source": [
    "path = \"/Users/andrei-macpro/Documents/Data/Audio/overlapping_speech/no_os_meal\"  #if string starts with slash it is considered absolute\n",
    "dirs = os.listdir( path )\n",
    "file_names=sorted([i for i in os.listdir(\".\") if not i.startswith(\".\")])"
   ]
  },
  {
   "cell_type": "code",
   "execution_count": null,
   "metadata": {},
   "outputs": [],
   "source": [
    "files_pydub_meal = [AudioSegment.from_wav(fname) for fname in file_names]\n",
    "duration_meal = [x.duration_seconds for x in files_pydub_meal]\n",
    "del files_pydub_meal"
   ]
  },
  {
   "cell_type": "code",
   "execution_count": null,
   "metadata": {},
   "outputs": [],
   "source": [
    "index_meal = [int(x.split('_')[0]) for x in file_names]"
   ]
  },
  {
   "cell_type": "code",
   "execution_count": null,
   "metadata": {},
   "outputs": [],
   "source": [
    "# now for play"
   ]
  },
  {
   "cell_type": "code",
   "execution_count": null,
   "metadata": {},
   "outputs": [],
   "source": [
    "os.chdir('/Users/andrei-macpro/Documents/Data/Audio/overlapping_speech/no_os_play')"
   ]
  },
  {
   "cell_type": "code",
   "execution_count": null,
   "metadata": {},
   "outputs": [],
   "source": [
    "path = \"/Users/andrei-macpro/Documents/Data/Audio/overlapping_speech/no_os_play\"  #if string starts with slash it is considered absolute\n",
    "dirs = os.listdir( path )\n",
    "file_names=sorted([i for i in os.listdir(\".\") if not i.startswith(\".\")])"
   ]
  },
  {
   "cell_type": "code",
   "execution_count": null,
   "metadata": {},
   "outputs": [],
   "source": [
    "files_pydub_play = [AudioSegment.from_wav(fname) for fname in file_names]\n",
    "duration_play = [x.duration_seconds for x in files_pydub_play]\n",
    "del files_pydub_play"
   ]
  },
  {
   "cell_type": "code",
   "execution_count": null,
   "metadata": {},
   "outputs": [],
   "source": [
    "index_play = [int(x.split('_')[0]) for x in file_names]"
   ]
  },
  {
   "cell_type": "code",
   "execution_count": null,
   "metadata": {},
   "outputs": [],
   "source": [
    "duration_cg_meal = pd.Series(duration_cg_meal, index = index_cg_meal)"
   ]
  },
  {
   "cell_type": "code",
   "execution_count": null,
   "metadata": {},
   "outputs": [],
   "source": [
    "duration_child_meal = pd.Series(duration_child_meal, index = index_child_meal)"
   ]
  },
  {
   "cell_type": "code",
   "execution_count": null,
   "metadata": {},
   "outputs": [],
   "source": [
    "duration_cg_play = pd.Series(duration_cg_play, index = index_cg_play)\n",
    "duration_child_play = pd.Series(duration_child_play, index = index_child_play)"
   ]
  },
  {
   "cell_type": "code",
   "execution_count": null,
   "metadata": {},
   "outputs": [],
   "source": [
    "duration_meal = pd.Series(duration_meal, index = index_meal)\n",
    "duration_play = pd.Series(duration_play, index = index_play)"
   ]
  },
  {
   "cell_type": "code",
   "execution_count": null,
   "metadata": {},
   "outputs": [],
   "source": [
    "proportion_cg_meal = duration_cg_meal/duration_meal*100 "
   ]
  },
  {
   "cell_type": "code",
   "execution_count": null,
   "metadata": {},
   "outputs": [],
   "source": [
    "proportion_cg_play = duration_cg_play/duration_play*100\n",
    "proportion_child_meal = duration_child_meal/duration_meal*100\n",
    "proportion_child_play = duration_child_play/duration_play*100"
   ]
  },
  {
   "cell_type": "code",
   "execution_count": null,
   "metadata": {},
   "outputs": [],
   "source": [
    "frame = {'Proportion speech caregiver meal': proportion_cg_meal, 'Proportion speech child meal': proportion_child_meal, \n",
    "        'Proportion speech caregiver play': proportion_cg_play, 'Proportion speech child play': proportion_child_play}"
   ]
  },
  {
   "cell_type": "code",
   "execution_count": null,
   "metadata": {},
   "outputs": [],
   "source": [
    "df = pd.DataFrame(frame)"
   ]
  },
  {
   "cell_type": "code",
   "execution_count": null,
   "metadata": {},
   "outputs": [],
   "source": [
    "pd.set_option('display.max_rows', None)\n",
    "df"
   ]
  },
  {
   "cell_type": "code",
   "execution_count": null,
   "metadata": {},
   "outputs": [],
   "source": [
    "#we've got some recordings(i.e. some indexes) for which the speech detection failed so there was noise in both clusters\n",
    "# we also have recordings where one of the speakers either didn't speak at all or spoke so little that no cluster\n",
    "# could identify it decently in which case a 0 proportion is given in the code below\n",
    "\n",
    "for index, row in df.iloc[:,0:2].iterrows():\n",
    "    if index == 1049 or index == 1089 or index == 1250:\n",
    "        continue    \n",
    "    elif pd.isna(row['Proportion speech caregiver meal']):\n",
    "            df.at[index,'Proportion speech caregiver meal']=0\n",
    "    elif pd.isna(row['Proportion speech child meal']):\n",
    "            df.at[index,'Proportion speech child meal']=0\n",
    "        "
   ]
  },
  {
   "cell_type": "code",
   "execution_count": null,
   "metadata": {},
   "outputs": [],
   "source": [
    "for index, row in df.iloc[:,2:4].iterrows():\n",
    "    if index == 1195 or index == 1096:\n",
    "        continue    \n",
    "    elif pd.isna(row['Proportion speech caregiver play']):\n",
    "            df.at[index,'Proportion speech caregiver play']=0\n",
    "    elif pd.isna(row['Proportion speech child play']):\n",
    "            df.at[index,'Proportion speech child play']=0\n",
    "        "
   ]
  },
  {
   "cell_type": "code",
   "execution_count": null,
   "metadata": {},
   "outputs": [],
   "source": [
    "os.chdir('/Users/andrei-macpro/Documents/Data/Results/clustering_results')"
   ]
  },
  {
   "cell_type": "code",
   "execution_count": null,
   "metadata": {},
   "outputs": [],
   "source": [
    "df.round(2).to_excel('proportion_speech.xlsx', na_rep=\"NaN\")"
   ]
  }
 ],
 "metadata": {
  "kernelspec": {
   "display_name": "Python 3",
   "language": "python",
   "name": "python3"
  },
  "language_info": {
   "codemirror_mode": {
    "name": "ipython",
    "version": 3
   },
   "file_extension": ".py",
   "mimetype": "text/x-python",
   "name": "python",
   "nbconvert_exporter": "python",
   "pygments_lexer": "ipython3",
   "version": "3.8.5"
  }
 },
 "nbformat": 4,
 "nbformat_minor": 4
}
