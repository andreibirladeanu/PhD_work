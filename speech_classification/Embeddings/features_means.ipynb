{
 "cells": [
  {
   "cell_type": "code",
   "execution_count": null,
   "metadata": {},
   "outputs": [],
   "source": [
    "import pandas as pd\n",
    "import os"
   ]
  },
  {
   "cell_type": "code",
   "execution_count": null,
   "metadata": {},
   "outputs": [],
   "source": [
    "os.chdir('/Users/andrei-macpro/Documents/Data')"
   ]
  },
  {
   "cell_type": "code",
   "execution_count": null,
   "metadata": {},
   "outputs": [],
   "source": [
    "data = pd.read_excel('features.xlsx', engine='openpyxl')"
   ]
  },
  {
   "cell_type": "code",
   "execution_count": null,
   "metadata": {},
   "outputs": [],
   "source": [
    "data['speech meal avg'] = data[['Percent speech meal', 'Percent speech play']].mean(axis=1)\n",
    "data['intervals/min'] = data[['intervals/min meal', 'intervals/min play']].mean(axis=1)\n",
    "data['avg interval duration'] = data[['Avg speech duration meal', 'Avg speech duration play']].mean(axis=1)\n",
    "data['std interval duration '] = data[['std speech duration meal', 'std speech duration play']].mean(axis=1)\n",
    "data['silence duration'] = data[['Avg silence duration meal', 'Avg silence duration play']].mean(axis=1)\n",
    "data['std silence duration'] = data[['std silence duration meal', 'std silence duration play']].mean(axis=1)\n",
    "data['overlapping speech'] = data[['Overlapping speech meal', 'Overlapping speech play']].mean(axis=1)\n",
    "data['avg OS'] = data[['Avg OS meal', 'Avg OS play']].mean(axis=1)\n",
    "data['std OS'] = data[['Std OS meal', 'Std OS play']].mean(axis=1)\n",
    "data['speech caregiver'] = data[['Proportion speech caregiver meal', 'Proportion speech caregiver play']].mean(axis=1)\n",
    "data['speech child'] = data[['Proportion speech child meal', 'Proportion speech child play']].mean(axis=1)\n"
   ]
  },
  {
   "cell_type": "code",
   "execution_count": null,
   "metadata": {},
   "outputs": [],
   "source": [
    "data.to_excel('features_means.xlsx')"
   ]
  },
  {
   "cell_type": "code",
   "execution_count": null,
   "metadata": {},
   "outputs": [],
   "source": [
    "data"
   ]
  }
 ],
 "metadata": {
  "kernelspec": {
   "display_name": "Python 3",
   "language": "python",
   "name": "python3"
  },
  "language_info": {
   "codemirror_mode": {
    "name": "ipython",
    "version": 3
   },
   "file_extension": ".py",
   "mimetype": "text/x-python",
   "name": "python",
   "nbconvert_exporter": "python",
   "pygments_lexer": "ipython3",
   "version": "3.8.5"
  }
 },
 "nbformat": 4,
 "nbformat_minor": 4
}
