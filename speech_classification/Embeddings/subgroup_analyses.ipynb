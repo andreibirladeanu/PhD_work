{
 "cells": [
  {
   "cell_type": "code",
   "execution_count": null,
   "metadata": {},
   "outputs": [],
   "source": [
    "import os\n",
    "import numpy as np\n",
    "import pandas as pd\n",
    "from scipy.stats import spearmanr\n",
    "import seaborn as sns\n",
    "import matplotlib.pyplot as plt\n",
    "os.chdir('/Users/andrei-macpro/Documents/Data/Results/clustering_results')"
   ]
  },
  {
   "cell_type": "code",
   "execution_count": null,
   "metadata": {},
   "outputs": [],
   "source": [
    "def calculate_pvalues(df):\n",
    "    df = df._get_numeric_data()\n",
    "    dfcols = pd.DataFrame(columns=df.columns)\n",
    "    pvalues = dfcols.transpose().join(dfcols, how='outer')\n",
    "    for r in df.columns:\n",
    "        for c in df.columns:\n",
    "            pvalues[r][c] = round(spearmanr(df[r], df[c],nan_policy='omit')[1], 4)\n",
    "    return pvalues"
   ]
  },
  {
   "cell_type": "code",
   "execution_count": null,
   "metadata": {},
   "outputs": [],
   "source": [
    "data = pd.read_excel('proportion_speech.xlsx', index_col=0, engine='openpyxl')\n"
   ]
  },
  {
   "cell_type": "code",
   "execution_count": null,
   "metadata": {},
   "outputs": [],
   "source": [
    "condition = [(data[\"Age\"]>35) , (data[\"Age\"]<=35)]"
   ]
  },
  {
   "cell_type": "code",
   "execution_count": null,
   "metadata": {},
   "outputs": [],
   "source": [
    "values=['old', 'young']"
   ]
  },
  {
   "cell_type": "code",
   "execution_count": null,
   "metadata": {},
   "outputs": [],
   "source": [
    "data['age_bracket']= np.select(condition, values)\n"
   ]
  },
  {
   "cell_type": "code",
   "execution_count": null,
   "metadata": {},
   "outputs": [],
   "source": [
    "older = pd.Series(data.Age>35)\n",
    "younger = pd.Series(data.Age<=35)"
   ]
  },
  {
   "cell_type": "code",
   "execution_count": null,
   "metadata": {},
   "outputs": [],
   "source": [
    "data[younger].corr(method='spearman')"
   ]
  },
  {
   "cell_type": "code",
   "execution_count": null,
   "metadata": {},
   "outputs": [],
   "source": [
    "calculate_pvalues(data[younger])"
   ]
  },
  {
   "cell_type": "code",
   "execution_count": null,
   "metadata": {},
   "outputs": [],
   "source": [
    "data[older].corr(method='spearman')"
   ]
  },
  {
   "cell_type": "code",
   "execution_count": null,
   "metadata": {},
   "outputs": [],
   "source": [
    "calculate_pvalues(data[older])"
   ]
  },
  {
   "cell_type": "code",
   "execution_count": null,
   "metadata": {},
   "outputs": [],
   "source": [
    "data.groupby('Gender').corr(method='spearman')"
   ]
  },
  {
   "cell_type": "code",
   "execution_count": null,
   "metadata": {},
   "outputs": [],
   "source": [
    "calculate_pvalues(data.groupby('Gender').get_group(\"F\"))"
   ]
  },
  {
   "cell_type": "code",
   "execution_count": null,
   "metadata": {},
   "outputs": [],
   "source": [
    "calculate_pvalues(data.groupby('Gender').get_group(\"M\"))"
   ]
  },
  {
   "cell_type": "code",
   "execution_count": null,
   "metadata": {},
   "outputs": [],
   "source": [
    "boys = data.groupby('Gender').get_group(\"M\")"
   ]
  },
  {
   "cell_type": "code",
   "execution_count": null,
   "metadata": {},
   "outputs": [],
   "source": [
    "girls = data.groupby('Gender').get_group(\"F\")"
   ]
  },
  {
   "cell_type": "code",
   "execution_count": null,
   "metadata": {},
   "outputs": [],
   "source": [
    "older = data.groupby('age_bracket').get_group(\"old\")\n",
    "young = data.groupby('age_bracket').get_group(\"young\")\n"
   ]
  },
  {
   "cell_type": "code",
   "execution_count": null,
   "metadata": {},
   "outputs": [],
   "source": [
    "len(older.loc[older['Proportion speech child meal'] == 0]) # 1 in girls and 2 in boys"
   ]
  },
  {
   "cell_type": "code",
   "execution_count": null,
   "metadata": {},
   "outputs": [],
   "source": [
    "rad = data.groupby('label').get_group(\"rad\")\n",
    "no_rad = data.groupby('label').get_group(\"no_rad\")"
   ]
  },
  {
   "cell_type": "code",
   "execution_count": null,
   "metadata": {},
   "outputs": [],
   "source": [
    "len(rad.loc[rad['Proportion speech child meal'] == 0]), len(no_rad.loc[no_rad['Proportion speech child meal'] == 0])"
   ]
  },
  {
   "cell_type": "code",
   "execution_count": null,
   "metadata": {},
   "outputs": [],
   "source": [
    "len(rad.loc[rad['Proportion speech child play'] == 0]), len(no_rad.loc[no_rad['Proportion speech child play'] == 0])"
   ]
  },
  {
   "cell_type": "code",
   "execution_count": null,
   "metadata": {},
   "outputs": [],
   "source": [
    "older.groupby('Gender').get_group(\"F\")"
   ]
  },
  {
   "cell_type": "code",
   "execution_count": null,
   "metadata": {},
   "outputs": [],
   "source": [
    "len(young.loc[young['Proportion speech child meal'] == 0]) # 3 in girls"
   ]
  },
  {
   "cell_type": "code",
   "execution_count": null,
   "metadata": {},
   "outputs": [],
   "source": [
    "len(older.loc[older['Proportion speech child play'] == 0]) "
   ]
  },
  {
   "cell_type": "code",
   "execution_count": null,
   "metadata": {},
   "outputs": [],
   "source": [
    "len(young.loc[young['Proportion speech child play'] == 0]) # girls mostly 0 "
   ]
  },
  {
   "cell_type": "code",
   "execution_count": null,
   "metadata": {},
   "outputs": [],
   "source": [
    "len(boys.loc[boys['Proportion speech child meal'] == 0])"
   ]
  },
  {
   "cell_type": "code",
   "execution_count": null,
   "metadata": {},
   "outputs": [],
   "source": [
    "len(girls.loc[girls['Proportion speech child meal'] == 0])"
   ]
  },
  {
   "cell_type": "code",
   "execution_count": null,
   "metadata": {},
   "outputs": [],
   "source": [
    "len(boys.loc[boys['Proportion speech child play'] == 0])"
   ]
  },
  {
   "cell_type": "code",
   "execution_count": null,
   "metadata": {},
   "outputs": [],
   "source": [
    "len(girls.loc[girls['Proportion speech child play'] == 0])"
   ]
  },
  {
   "cell_type": "code",
   "execution_count": null,
   "metadata": {},
   "outputs": [],
   "source": [
    "len(boys)"
   ]
  },
  {
   "cell_type": "code",
   "execution_count": null,
   "metadata": {},
   "outputs": [],
   "source": [
    "len(girls)"
   ]
  },
  {
   "cell_type": "code",
   "execution_count": null,
   "metadata": {},
   "outputs": [],
   "source": [
    "rinab_cg_meal = sns.lmplot(x=\"RINAB\", y=\"Proportion speech caregiver meal\",  truncate=False  , data=data )"
   ]
  },
  {
   "cell_type": "code",
   "execution_count": null,
   "metadata": {},
   "outputs": [],
   "source": [
    "rinab_cg_play = sns.lmplot(x=\"RINAB\", y=\"Proportion speech caregiver play\",  truncate=False  , data=data )"
   ]
  },
  {
   "cell_type": "code",
   "execution_count": null,
   "metadata": {},
   "outputs": [],
   "source": [
    "g = sns.lmplot(x=\"DAI\", y='speech child meal', hue='Gender',  truncate=False  , data=data, legend=False, height=7, aspect=1.6) \n",
    "new_labels = ['Female, r = 0.43, p<0.5', 'Male, r = -0.45, p<0.5']\n",
    "plt.ylabel(\"speech child meal\", fontsize=30)\n",
    "plt.xlabel(\"DAI\", fontsize=30)\n",
    "#for t, l in zip(g._legend.texts, new_labels): t.set_text(l)\n",
    "plt.legend(title='Gender', loc='upper left', labels= new_labels, fontsize='large')\n",
    "os.chdir('/Users/andrei-macpro/Documents/Data/Results/clustering_results')\n",
    "plt.savefig('child_meal_dai.png')"
   ]
  },
  {
   "cell_type": "code",
   "execution_count": null,
   "metadata": {},
   "outputs": [],
   "source": [
    "g = sns.lmplot(x=\"RINAB\", y='Proportion speech child play', hue='age_bracket',  truncate=False  , data=data, legend=False, height=7, aspect=1.6) \n",
    "new_labels = ['young', 'old']\n",
    "plt.ylabel(\"speech child play\", fontsize=30)\n",
    "plt.xlabel(\"DAI\", fontsize=30)\n",
    "#for t, l in zip(g._legend.texts, new_labels): t.set_text(l)\n",
    "plt.legend(title='Gender', loc='upper left', labels= new_labels, fontsize='large')"
   ]
  },
  {
   "cell_type": "code",
   "execution_count": null,
   "metadata": {},
   "outputs": [],
   "source": [
    "g = sns.lmplot(x=\"RINAB\", y='Proportion speech child meal', hue='Gender', markers=markers ,\n",
    "               truncate=False, legend=False , data=data, height=7, aspect=1.6, x_jitter=.2) \n",
    "new_labels = ['Female' ,'Male']\n",
    "markers = ['o', '^']\n",
    "plt.ylabel(\"speech child meal\", fontsize=30)\n",
    "plt.xlabel(\"RINAB\", fontsize=30)\n",
    "#for t, l in zip(g._legend.texts, new_labels): t.set_text(l)\n",
    "plt.legend(title='Gender', loc='upper right', labels = new_labels, fontsize='large')"
   ]
  },
  {
   "cell_type": "code",
   "execution_count": null,
   "metadata": {},
   "outputs": [],
   "source": [
    "g = sns.lmplot(x=\"RINAB\", y='speech caregiver ', hue='age_bracket',  truncate=False, legend=False , data=data, height=7, aspect=1.6) \n",
    "new_labels = ['Older' ,'Younger']\n",
    "plt.ylabel(\"speech child meal\", fontsize=30)\n",
    "plt.xlabel(\"RINAB\", fontsize=30)\n",
    "#for t, l in zip(g._legend.texts, new_labels): t.set_text(l)\n",
    "plt.legend(title='Age bracket', loc='upper right', labels= new_labels, fontsize='large')"
   ]
  },
  {
   "cell_type": "code",
   "execution_count": null,
   "metadata": {},
   "outputs": [],
   "source": [
    "age_play = sns.lmplot(x=\"Age\", y=\"Proportion speech child play\",hue='Gender',  truncate=False  , data=data )"
   ]
  },
  {
   "cell_type": "code",
   "execution_count": null,
   "metadata": {},
   "outputs": [],
   "source": [
    "dai_rinab = sns.lmplot(x=\"DAI\", y=\"RINAB\",hue='Gender',  truncate=False  , data=data )"
   ]
  },
  {
   "cell_type": "code",
   "execution_count": null,
   "metadata": {},
   "outputs": [],
   "source": [
    "rinab_meal = sns.lmplot(x=\"RINAB\", y=\"Proportion speech caregiver meal\",hue='Gender',  truncate=False  , data=data )"
   ]
  },
  {
   "cell_type": "code",
   "execution_count": null,
   "metadata": {},
   "outputs": [],
   "source": [
    "rinab_meal = sns.lmplot(x=\"RINAB\", y=\"Proportion speech child meal\",hue='Gender',  truncate=False  , data=data )"
   ]
  },
  {
   "cell_type": "code",
   "execution_count": null,
   "metadata": {},
   "outputs": [],
   "source": [
    "rinab_meal = sns.lmplot(x=\"RINAB\", y=\"Proportion speech child play\",hue='Gender',  truncate=False  , data=data )"
   ]
  },
  {
   "cell_type": "code",
   "execution_count": null,
   "metadata": {},
   "outputs": [],
   "source": [
    "data['Proportion speech caregiver meal'].hist(), data['Proportion speech caregiver play'].hist()"
   ]
  },
  {
   "cell_type": "code",
   "execution_count": null,
   "metadata": {},
   "outputs": [],
   "source": [
    "data['Proportion speech child meal'].plot.density(), data['Proportion speech child play'].plot.density()"
   ]
  },
  {
   "cell_type": "code",
   "execution_count": null,
   "metadata": {},
   "outputs": [],
   "source": [
    "data['Proportion speech caregiver meal'].plot.density(), data['Proportion speech caregiver play'].plot.density()"
   ]
  },
  {
   "cell_type": "code",
   "execution_count": null,
   "metadata": {},
   "outputs": [],
   "source": [
    "data.iloc[:,0:4].plot.density(figsize=(10,5))\n",
    "plt.xlim([-10, 100])"
   ]
  },
  {
   "cell_type": "code",
   "execution_count": null,
   "metadata": {},
   "outputs": [],
   "source": [
    "data = data.rename(columns={\"Proportion speech caregiver meal\": \"speech caregiver meal\", \n",
    "                     \"Proportion speech caregiver play\": \"speech caregiver play\",\n",
    "                    \"Proportion speech child meal\": \"speech child meal\",\n",
    "                    \"Proportion speech child play\": \"speech child play\"})"
   ]
  },
  {
   "cell_type": "code",
   "execution_count": null,
   "metadata": {},
   "outputs": [],
   "source": [
    "# Density Plot and Histogram of all arrival delays\n",
    "sns.distplot(data.iloc[:,0], hist=True, kde=True, \n",
    "             bins=int(180/5), color = 'darkblue', \n",
    "             hist_kws={'edgecolor':'black'},\n",
    "             kde_kws={'linewidth': 4})"
   ]
  },
  {
   "cell_type": "code",
   "execution_count": null,
   "metadata": {},
   "outputs": [],
   "source": [
    "sns.kdeplot(data=data, x=\"speech caregiver meal\", hue=\"age_bracket\", multiple=\"stack\")"
   ]
  },
  {
   "cell_type": "code",
   "execution_count": null,
   "metadata": {},
   "outputs": [],
   "source": [
    "sns.kdeplot(data=data, x=\"speech child meal\", hue=\"age_bracket\", multiple=\"stack\")"
   ]
  },
  {
   "cell_type": "code",
   "execution_count": null,
   "metadata": {},
   "outputs": [],
   "source": [
    "g = sns.kdeplot(data=data, x=\"speech child meal\", hue=\"Gender\", multiple=\"stack\", cut=0)\n",
    "j = sns.kdeplot(data=data, x=\"speech child meal\", hue=\"age_bracket\", multiple=\"stack\", cut=0)"
   ]
  },
  {
   "cell_type": "code",
   "execution_count": null,
   "metadata": {},
   "outputs": [],
   "source": [
    "# sns.kdeplot(data=data, x=\"speech caregiver meal\", hue=\"Gender\", multiple=\"stack\", cut=0)"
   ]
  },
  {
   "cell_type": "code",
   "execution_count": null,
   "metadata": {},
   "outputs": [],
   "source": [
    "g = sns.PairGrid(data[['speech caregiver meal', 'speech child meal', 'speech caregiver play',\n",
    "                      'speech child play', 'age_bracket', 'Age']], vars=[\"speech caregiver meal\", \"speech child meal\"],\n",
    "                hue = 'age_bracket')\n",
    "g.map_diag(sns.histplot)\n",
    "g.map_offdiag(sns.scatterplot)"
   ]
  },
  {
   "cell_type": "code",
   "execution_count": null,
   "metadata": {},
   "outputs": [],
   "source": [
    "sns.pairplot(data[['speech caregiver meal', 'speech child meal', 'speech caregiver play',\n",
    "                      'speech child play', 'age_bracket', 'RINAB', 'Age']], hue=\"age_bracket\", height=2.5)\n"
   ]
  },
  {
   "cell_type": "code",
   "execution_count": null,
   "metadata": {},
   "outputs": [],
   "source": [
    "data"
   ]
  },
  {
   "cell_type": "code",
   "execution_count": null,
   "metadata": {},
   "outputs": [],
   "source": [
    "data['age_bracket'].to_excel(\"proportion_speech.xlsx\")  "
   ]
  },
  {
   "cell_type": "code",
   "execution_count": null,
   "metadata": {},
   "outputs": [],
   "source": [
    "data.to_excel(\"proportion_speech.xlsx\")  "
   ]
  },
  {
   "cell_type": "code",
   "execution_count": null,
   "metadata": {},
   "outputs": [],
   "source": [
    "from statsmodels.multivariate.manova import MANOVA"
   ]
  },
  {
   "cell_type": "code",
   "execution_count": null,
   "metadata": {},
   "outputs": [],
   "source": [
    "maov = MANOVA.from_formula(endog = data.iloc[:,0:4], exog = [data['age_bracket'], data['Gender'], data['label']])"
   ]
  },
  {
   "cell_type": "code",
   "execution_count": null,
   "metadata": {},
   "outputs": [],
   "source": [
    "sns.displot(data, x = 'Proportion speech child meal', kind='kde', color = 'black')"
   ]
  },
  {
   "cell_type": "code",
   "execution_count": null,
   "metadata": {},
   "outputs": [],
   "source": [
    "data['Proportion speech caregiver meal']"
   ]
  }
 ],
 "metadata": {
  "kernelspec": {
   "display_name": "Python 3",
   "language": "python",
   "name": "python3"
  },
  "language_info": {
   "codemirror_mode": {
    "name": "ipython",
    "version": 3
   },
   "file_extension": ".py",
   "mimetype": "text/x-python",
   "name": "python",
   "nbconvert_exporter": "python",
   "pygments_lexer": "ipython3",
   "version": "3.8.5"
  }
 },
 "nbformat": 4,
 "nbformat_minor": 4
}
