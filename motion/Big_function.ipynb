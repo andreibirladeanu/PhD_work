{
 "cells": [
  {
   "cell_type": "markdown",
   "id": "bdd7fe00",
   "metadata": {},
   "source": [
    "Make a function with the following parameters: \n",
    "1. video input \n",
    "2.threshold \n",
    "3. similarity measure\n",
    "4. granularity \n",
    "Output: smoothed list \n",
    "\n",
    "another function: \n",
    "1. takes the smoothed list of distances as input \n",
    "2. output is the histogram across videos \n"
   ]
  },
  {
   "cell_type": "code",
   "execution_count": null,
   "id": "b42ad90e",
   "metadata": {},
   "outputs": [],
   "source": [
    "import cv2\n",
    "import numpy as np\n",
    "from matplotlib import pyplot\n",
    "import pandas as pd\n",
    "import matplotlib.pyplot as plt\n",
    "from scipy import signal\n",
    "from scipy.fft import fftshift\n",
    "import os \n",
    "#import seaborn as sns\n",
    "from itertools import zip_longest\n",
    "from tqdm import tqdm\n",
    "import matplotlib.lines as mlines"
   ]
  },
  {
   "cell_type": "code",
   "execution_count": null,
   "id": "5190b3f4",
   "metadata": {},
   "outputs": [],
   "source": [
    "os.chdir('/Users/andreibirladeanu/Documents/Data/videos_trial')"
   ]
  },
  {
   "cell_type": "code",
   "execution_count": null,
   "id": "8f471814",
   "metadata": {},
   "outputs": [],
   "source": [
    "rad = [1047, 1059, 1069, 1079, 1089, 1093, 1099, 1107, 1108, \n",
    "      1117, 1122, 1124, 1125, 1129, 1131, 1132, 1134, 1148, 1186, \n",
    "      1190, 1195, 1206, 1210, 1217, 1230, 1246, 1250, 1264, 2009, 2027]\n",
    "no_rad = [1043, 1049, 1053, 1062, 1073, 1080, 1082, 1091, 1092, \n",
    "         1096, 1097, 1098, 1104, 1105, 1112, 1118, 1130, 1146, \n",
    "         1161, 1170, 1180, 1181, 1184, 1188, 1234, 1241, 1245, 1263,\n",
    "         1269, 1282, 2025]\n",
    "data_rad = dataframe[dataframe.columns & [str(x) for x in rad]]\n",
    "data_rad\n",
    "data_no_rad = dataframe[dataframe.columns & [str(x) for x in no_rad]]\n",
    "data_no_rad"
   ]
  },
  {
   "cell_type": "code",
   "execution_count": null,
   "id": "8984cb86",
   "metadata": {},
   "outputs": [],
   "source": [
    "def frame_differencing(video_input, threshold_method,granularity):\n",
    "    cap = cv2.VideoCapture(video_input)\n",
    "    frames = []\n",
    "    counter = 0\n",
    "    differences = []\n",
    "    while(cap.isOpened()):\n",
    "        ret, frame = cap.read()\n",
    "        if ret == False:\n",
    "            break\n",
    "        gray = cv2.cvtColor(frame,cv2.COLOR_BGR2GRAY) #converts captured frame to Grayscale for easier analysis\n",
    "        frames.append(gray)\n",
    "        if counter > granularity:\n",
    "            difference = np.abs(cv2.subtract(frames[counter], frames[counter-granularity]))\n",
    "            ret2,th = cv2.threshold(difference,0,1,threshold_method)\n",
    "            differences.append(np.sum(th))\n",
    "        counter = counter + 1\n",
    "    differences=np.array(differences)\n",
    "    differences = differences[np.where(differences < np.percentile(differences, 98))[0]]\n",
    "    cap.release()\n",
    "    cv2.destroyAllWindows()\n",
    "    return differences\n",
    "\n"
   ]
  },
  {
   "cell_type": "code",
   "execution_count": null,
   "id": "af0ddc8d",
   "metadata": {},
   "outputs": [],
   "source": [
    "def dataframes(videos, threshold_method, granularity, title):\n",
    "    frame_diffs = []\n",
    "    for video in tqdm(videos): \n",
    "        frame_diffs.append(frame_differencing(video,threshold_method,granularity))\n",
    "    frame_diffs = np.array(frame_diffs, dtype='object')\n",
    "    dataframe = pd.DataFrame(zip_longest(*frame_diffs), columns = [video.split('_')[0] for video in videos])\n",
    "    data_rad = dataframe[dataframe.columns & [str(x) for x in rad]]\n",
    "    data_no_rad = dataframe[dataframe.columns & [str(x) for x in no_rad]]\n",
    "    plt.rcParams['font.size']=30\n",
    "    #figure(facecolor='grey')\n",
    "    plt.rcParams['axes.facecolor'] = 'white'\n",
    "    plt.rcParams[\"figure.figsize\"] = [50,25]\n",
    "    #plt.rc('legend',fontsize=20)\n",
    "    \n",
    "    fig, ax = plt.subplots()\n",
    "    for x in data_rad:  \n",
    "        n, bins, patches= ax.hist(data_rad[x], bins='fd',  color='red', alpha=.9, stacked=True)\n",
    "    \n",
    "    for y in data_no_rad:\n",
    "        n, bins, patches= plt.hist(data_no_rad[y], bins='fd',  color='green', alpha=.9, stacked=True)\n",
    "    #plt.legend(loc=2, prop={'size': 6})\n",
    "    eight = mlines.Line2D([], [], color='red', marker='o', ls='', label='rad', markersize = 9)\n",
    "    nine = mlines.Line2D([], [], color='green', marker='o', ls='', label='no-rad', markersize = 9)\n",
    "    # etc etc\n",
    "    ax.legend(handles=[eight, nine], markerscale=7, fontsize='x-large')\n",
    "    \n",
    "    #plt.axvline(0.36, color='k', linestyle='dashed', linewidth=5)\n",
    "    #plt.text(0.25, 250, ' <5%', size='large')\n",
    "    #plt.xlim(right = 1)\n",
    "    plt.grid(True)\n",
    "    plt.xlabel(\"Frame change\")\n",
    "    plt.ylabel(\"Probability (%)\")\n",
    "    plt.title(title)\n",
    "    plt.show()\n",
    "    return dataframe"
   ]
  },
  {
   "cell_type": "code",
   "execution_count": null,
   "id": "e7ad33d2",
   "metadata": {},
   "outputs": [],
   "source": [
    "\n",
    "path = '/Users/andreibirladeanu/Documents/Data/videos_trial'\n",
    "\n",
    "videos = [file for file in sorted(os.listdir(path))]\n"
   ]
  },
  {
   "cell_type": "code",
   "execution_count": null,
   "id": "1c0e0055",
   "metadata": {},
   "outputs": [],
   "source": [
    "dataframe = dataframes(videos, cv2.THRESH_BINARY+cv2.THRESH_OTSU, 10, \"Meal Otsu 10 frames Absolute\")"
   ]
  },
  {
   "cell_type": "code",
   "execution_count": null,
   "id": "13cf4423",
   "metadata": {},
   "outputs": [],
   "source": [
    "dataframe"
   ]
  },
  {
   "cell_type": "code",
   "execution_count": null,
   "id": "061ab85d",
   "metadata": {},
   "outputs": [],
   "source": [
    "dataframe.mean()"
   ]
  },
  {
   "cell_type": "code",
   "execution_count": null,
   "id": "26bd9a99",
   "metadata": {},
   "outputs": [],
   "source": [
    "dataframe = dataframe.T\n",
    "dataframe['mean'] = dataframe.iloc[:,:-1].mean(axis=1)\n",
    "dataframe"
   ]
  },
  {
   "cell_type": "code",
   "execution_count": null,
   "id": "c533dc58",
   "metadata": {},
   "outputs": [],
   "source": [
    "dataframe['label'] = ['no-rad', 'rad', 'no-rad', 'rad']"
   ]
  },
  {
   "cell_type": "code",
   "execution_count": null,
   "id": "150a1801",
   "metadata": {},
   "outputs": [],
   "source": [
    "dataframe.groupby('label').mean()"
   ]
  },
  {
   "cell_type": "code",
   "execution_count": null,
   "id": "a6d71d80",
   "metadata": {},
   "outputs": [],
   "source": [
    "import matplotlib.lines as mlines\n",
    "plt.rcParams['font.size']=30\n",
    "#figure(facecolor='grey')\n",
    "plt.rcParams['axes.facecolor'] = 'white'\n",
    "plt.rcParams[\"figure.figsize\"] = [50,25]\n",
    "#plt.rc('legend',fontsize=20)\n",
    "\n",
    "fig, ax = plt.subplots()\n",
    "for x in data_rad:  \n",
    "    n, bins, patches= ax.hist(data_rad[x], bins='fd',  color='red', alpha=.9, stacked=True)\n",
    "\n",
    "for y in data_no_rad:\n",
    "    n, bins, patches= plt.hist(data_no_rad[y], bins='fd',  color='green', alpha=.9, stacked=True)\n",
    "#plt.legend(loc=2, prop={'size': 6})\n",
    "eight = mlines.Line2D([], [], color='red', marker='o', ls='', label='rad', markersize = 9)\n",
    "nine = mlines.Line2D([], [], color='green', marker='o', ls='', label='no-rad', markersize = 9)\n",
    "# etc etc\n",
    "ax.legend(handles=[eight, nine], markerscale=7, fontsize='x-large')\n",
    "\n",
    "#plt.axvline(0.36, color='k', linestyle='dashed', linewidth=5)\n",
    "#plt.text(0.25, 250, ' <5%', size='large')\n",
    "#plt.xlim(right = 1)\n",
    "plt.grid(True)\n",
    "plt.xlabel(\"Frame change\")\n",
    "plt.ylabel(\"Probability (%)\")\n",
    "plt.title(\"Video frame changes across all videos\")\n",
    "plt.show()\n",
    "#fig.savefig('histogram_meal.png')"
   ]
  }
 ],
 "metadata": {
  "kernelspec": {
   "display_name": "Python 3 (ipykernel)",
   "language": "python",
   "name": "python3"
  },
  "language_info": {
   "codemirror_mode": {
    "name": "ipython",
    "version": 3
   },
   "file_extension": ".py",
   "mimetype": "text/x-python",
   "name": "python",
   "nbconvert_exporter": "python",
   "pygments_lexer": "ipython3",
   "version": "3.7.6"
  }
 },
 "nbformat": 4,
 "nbformat_minor": 5
}
