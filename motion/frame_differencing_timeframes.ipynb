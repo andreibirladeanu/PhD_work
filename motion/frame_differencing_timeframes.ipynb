{
 "cells": [
  {
   "cell_type": "code",
   "execution_count": null,
   "id": "11a3009c",
   "metadata": {},
   "outputs": [],
   "source": [
    "import cv2\n",
    "import numpy as np\n",
    "from matplotlib import pyplot\n",
    "import pandas as pd\n",
    "import matplotlib.pyplot as plt\n",
    "from scipy import signal\n",
    "from scipy.fft import fftshift\n",
    "import os \n",
    "#import seaborn as sns\n",
    "from itertools import zip_longest\n",
    "from tqdm import tqdm"
   ]
  },
  {
   "cell_type": "code",
   "execution_count": null,
   "id": "dbd13be8",
   "metadata": {},
   "outputs": [],
   "source": [
    "video = '/Users/andreibirladeanu/Documents/Data/2025_meal.mp4'"
   ]
  },
  {
   "cell_type": "code",
   "execution_count": null,
   "id": "b53b471a-d5fd-47e5-95ae-e124eaf1ba21",
   "metadata": {},
   "outputs": [],
   "source": [
    "a = 1"
   ]
  }
 ],
 "metadata": {
  "kernelspec": {
   "display_name": "Python 3 (ipykernel)",
   "language": "python",
   "name": "python3"
  },
  "language_info": {
   "codemirror_mode": {
    "name": "ipython",
    "version": 3
   },
   "file_extension": ".py",
   "mimetype": "text/x-python",
   "name": "python",
   "nbconvert_exporter": "python",
   "pygments_lexer": "ipython3",
   "version": "3.7.6"
  }
 },
 "nbformat": 4,
 "nbformat_minor": 5
}
