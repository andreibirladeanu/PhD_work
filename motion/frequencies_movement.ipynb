{
 "cells": [
  {
   "cell_type": "code",
   "execution_count": null,
   "id": "74bae032",
   "metadata": {},
   "outputs": [],
   "source": [
    "import cv2\n",
    "import numpy as np\n",
    "from matplotlib import pyplot\n",
    "import pandas as pd\n",
    "import matplotlib.pyplot as plt\n",
    "from scipy import signal\n",
    "from scipy.fft import fftshift\n",
    "import os \n",
    "import seaborn as sns\n",
    "from itertools import zip_longest\n",
    "from tqdm import tqdm\n",
    "import image_similarity_measures\n",
    "from image_similarity_measures.quality_metrics import rmse, psnr\n"
   ]
  },
  {
   "cell_type": "code",
   "execution_count": null,
   "id": "5b1a59ef",
   "metadata": {},
   "outputs": [],
   "source": [
    "os.chdir('/Users/andrei-macpro/Documents/Data/')"
   ]
  },
  {
   "cell_type": "code",
   "execution_count": null,
   "id": "f62383db",
   "metadata": {},
   "outputs": [],
   "source": [
    "cap = cv2.VideoCapture('1043_play.mp4')\n",
    "distances = []\n",
    "frames1 = []\n",
    "frames2=[]\n",
    "x = 0\n",
    "while(cap.isOpened()):\n",
    "\n",
    "  # Capture frame-by-frame\n",
    "\n",
    "    ret,frame1 = cap.read()\n",
    "    #frames1.append(frame1)\n",
    "   # print(frame1.flatten().shape)    \n",
    "    ret,frame2 = cap.read()\n",
    "    #frames2.append(frame2)\n",
    "    #x=x+1\n",
    "\n",
    "    if ret == True:\n",
    "        #dist = np.linalg.norm(frame2.flatten()-frame1.flatten())\n",
    "        #distances.append(dist/442368)\n",
    "        distances.append(rmse(frame1, frame2)*100)\n",
    "    else:\n",
    "        break\n",
    "    \n",
    "    \n",
    "\n",
    "    \n",
    "cap.release()\n",
    "cv2.destroyAllWindows()\n",
    "\n",
    "\n",
    "data = pd.Series(distances)\n",
    "x = list(range(len(data.index)))\n",
    "\n",
    "# apply fast fourier transform and take absolute values\n",
    "f=abs(np.fft.fft(data))\n",
    "\n",
    "# get the list of frequencies\n",
    "num=np.size(x)\n",
    "freq = [i / num for i in list(range(num))]\n",
    "\n",
    "# get the list of spectrums\n",
    "spectrum=f.real*f.real+f.imag*f.imag\n",
    "nspectrum=spectrum/spectrum[0]\n",
    "\n",
    "# plot nspectrum per frequency, with a semilog scale on nspectrum\n",
    "plt.semilogy(freq,nspectrum)\n",
    "\n"
   ]
  },
  {
   "cell_type": "code",
   "execution_count": null,
   "id": "494c4cc3",
   "metadata": {},
   "outputs": [],
   "source": [
    "f, t, Sxx = signal.spectrogram(data)\n",
    "plt.pcolormesh(t, f, Sxx, shading='gouraud')\n",
    "plt.ylabel('Frequency [Hz]')\n",
    "plt.xlabel('Time [frames]')\n",
    "plt.show()"
   ]
  },
  {
   "cell_type": "code",
   "execution_count": null,
   "id": "a00c3c81",
   "metadata": {},
   "outputs": [],
   "source": [
    "data.plot.hist()"
   ]
  },
  {
   "cell_type": "code",
   "execution_count": null,
   "id": "28de5b73",
   "metadata": {},
   "outputs": [],
   "source": [
    "\n",
    "\n",
    "os.chdir('/Users/andrei-macpro/Documents/Data/Videos/')\n",
    "\n",
    "path = '/Users/andrei-macpro/Documents/Data/Videos/'\n",
    "\n",
    "videos = [file for file in sorted(os.listdir(path))]\n",
    "\n",
    "\n",
    "def rmse_pairwise(video):\n",
    "    #give you rmse error between pairwise frames of the video\n",
    "    return [list ofpairwise rmse]\n",
    "\n",
    "def rmse_5frames_smoothed(video):\n",
    "    return [list of smoothed 5 -frame rmse]\n",
    "\n",
    "def absolute_pairwise_difference(video):\n",
    "    return ..\n",
    "def process_videos(videos, processing_fn):\n",
    "    video_results = []\n",
    "    for video in videos:\n",
    "#         video_result = rmse_pairwise(video)\n",
    "        video_result = processing_fn(video)\n",
    "        video_results.append(video_result)\n",
    "    return video_results\n",
    "\n",
    "rmse_pairwise_distances= process_video(videos, rmse_pairwise)\n",
    "rmse_5frames_smoothed_distances= process_video(videos, rmse_5frames_smoothed)\n",
    "abslute_figgerences = process_video(videos, absolute_pairwise_difference)\n",
    "\n",
    "\n",
    "####\n",
    "dist_list = []\n",
    "for video in tqdm(videos): \n",
    "    cap = cv2.VideoCapture(video)\n",
    "    distances = []\n",
    "    frames1 = []\n",
    "    frames2=[]\n",
    "    x = 0\n",
    "    while(cap.isOpened()):\n",
    "\n",
    "      # Capture frame-by-frame\n",
    "\n",
    "        ret,frame1 = cap.read()\n",
    "        #frames1.append(frame1)\n",
    "        #x = x+1\n",
    "        ret,frame2 = cap.read()\n",
    "        #frames2.append(frame2)\n",
    "        #x=x+1\n",
    "\n",
    "        if ret == True:\n",
    "           # print((rmse(frame1, frame2)*100))\n",
    "            distances.append((rmse(frame1, frame2)*100))\n",
    "        else:\n",
    "            break\n",
    "    dist_list.append(distances)\n",
    "\n",
    "\n",
    "\n",
    "\n",
    "    cap.release()\n",
    "    cv2.destroyAllWindows()\n",
    "dist_list = np.array(dist_list)"
   ]
  },
  {
   "cell_type": "code",
   "execution_count": null,
   "id": "04737bd4",
   "metadata": {},
   "outputs": [],
   "source": [
    "data = pd.DataFrame(zip_longest(*dist_list), columns = [video.split('_')[0] for video in videos])"
   ]
  },
  {
   "cell_type": "code",
   "execution_count": null,
   "id": "81caa1e2",
   "metadata": {},
   "outputs": [],
   "source": [
    "dist_list"
   ]
  },
  {
   "cell_type": "code",
   "execution_count": null,
   "id": "4a036405",
   "metadata": {},
   "outputs": [],
   "source": [
    "rad = [1047, 1059, 1069, 1079, 1089, 1093, 1099, 1107, 1108, \n",
    "      1117, 1122, 1124, 1125, 1129, 1131, 1132, 1134, 1148, 1186, \n",
    "      1190, 1195, 1206, 1210, 1217, 1230, 1246, 1250, 1264, 2009, 2027]"
   ]
  },
  {
   "cell_type": "code",
   "execution_count": null,
   "id": "314c174a",
   "metadata": {},
   "outputs": [],
   "source": [
    "no_rad = [1043, 1049, 1053, 1062, 1073, 1080, 1082, 1091, 1092, \n",
    "         1096, 1097, 1098, 1104, 1105, 1112, 1118, 1130, 1146, \n",
    "         1161, 1170, 1180, 1181, 1184, 1188, 1234, 1241, 1245, 1263,\n",
    "         1269, 1282, 2025]"
   ]
  },
  {
   "cell_type": "code",
   "execution_count": null,
   "id": "1fa51920",
   "metadata": {},
   "outputs": [],
   "source": [
    "data_rad = data[data.columns & [str(x) for x in rad]]\n",
    "data_rad"
   ]
  },
  {
   "cell_type": "code",
   "execution_count": null,
   "id": "7ff9f017",
   "metadata": {},
   "outputs": [],
   "source": [
    "data_no_rad = data[data.columns & [str(x) for x in no_rad]]\n",
    "data_no_rad"
   ]
  },
  {
   "cell_type": "code",
   "execution_count": null,
   "id": "f1cabc91",
   "metadata": {},
   "outputs": [],
   "source": [
    "data.columns"
   ]
  },
  {
   "cell_type": "code",
   "execution_count": null,
   "id": "d3bf76c4",
   "metadata": {},
   "outputs": [],
   "source": [
    "sns.histplot(data=dist_list[0],bins=90)"
   ]
  },
  {
   "cell_type": "code",
   "execution_count": null,
   "id": "4632be4a",
   "metadata": {},
   "outputs": [],
   "source": [
    "sns.histplot(data=dist_list[1],bins=110, kde=True)"
   ]
  },
  {
   "cell_type": "code",
   "execution_count": null,
   "id": "57b34971",
   "metadata": {},
   "outputs": [],
   "source": [
    "data.to_csv('distances.csv', index=False)"
   ]
  },
  {
   "cell_type": "code",
   "execution_count": null,
   "id": "ccaa299a",
   "metadata": {},
   "outputs": [],
   "source": [
    "data = pd.read_csv('distances_play.csv')  "
   ]
  },
  {
   "cell_type": "code",
   "execution_count": null,
   "id": "76aa00a8",
   "metadata": {},
   "outputs": [],
   "source": [
    "plt.plot(data_rad, color='blue')\n",
    "plt.plot(data_no_rad, color = 'grey')"
   ]
  },
  {
   "cell_type": "code",
   "execution_count": null,
   "id": "10e3e169",
   "metadata": {},
   "outputs": [],
   "source": [
    "sns.boxplot(data_rad, color='skyblue')"
   ]
  },
  {
   "cell_type": "code",
   "execution_count": null,
   "id": "dc6d9523",
   "metadata": {},
   "outputs": [],
   "source": [
    "len(dist_list[0]), len(dist_list[1])"
   ]
  },
  {
   "cell_type": "code",
   "execution_count": null,
   "id": "5130bfde",
   "metadata": {},
   "outputs": [],
   "source": [
    "fig = g.get_figure()\n",
    "fig.savefig(\"plot_meal.png\") "
   ]
  },
  {
   "cell_type": "code",
   "execution_count": null,
   "id": "b71dee7e",
   "metadata": {},
   "outputs": [],
   "source": [
    "# figure size in inches\n",
    "\n",
    "sns.set(font_scale = 5)\n",
    "\n",
    "g = sns.displot(data=data_rad, kde=True, bins='fd', height=20,aspect=2, stat=\"frequency\",  legend=False, palette = 'Paired').set(title='Meal RAD Videos')\n",
    "g.set(ylim=(0, 35000))\n",
    "g.set(xlim = (0, 0.5))\n",
    "g.set(xlabel=\"Frame change\")\n",
    "plt.savefig('plot_meal_rad')"
   ]
  },
  {
   "cell_type": "code",
   "execution_count": null,
   "id": "528b5357",
   "metadata": {},
   "outputs": [],
   "source": [
    "# figure size in inches\n",
    "\n",
    "sns.set(font_scale = 5)\n",
    "g = sns.displot(data=data_no_rad, kde=True, bins='fd', height=20,aspect=2, stat=\"frequency\",  legend=False, palette = 'Paired').set(title='Meal No-RAD Videos')\n",
    "g.set(xlabel=\"Frame change\")\n",
    "#g.set(ylim=(0, 40000))\n",
    "g.set(xlim = (0, 0.5))\n",
    "plt.savefig('plot_meal_no_rad')"
   ]
  },
  {
   "cell_type": "code",
   "execution_count": null,
   "id": "ef3429de",
   "metadata": {},
   "outputs": [],
   "source": [
    "sns.set(font_scale=5)\n",
    "\n",
    "g = sns.displot(data,  kind=\"kde\", legend=False, height=20,aspect=2, palette = 'Paired').set(title='Meal Videos')\n",
    "plt.xlabel('Frame Change');\n",
    "g.set(xlim = (0, 0.8))\n",
    "plt.savefig('density_meal.png')"
   ]
  },
  {
   "cell_type": "code",
   "execution_count": null,
   "id": "615a24cf",
   "metadata": {},
   "outputs": [],
   "source": [
    "concatenated = pd.concat([data_rad.T.assign(dataset='rad'), data_no_rad.T.assign(dataset='no-rad')])\n",
    "concatenated = concatenated.T"
   ]
  },
  {
   "cell_type": "code",
   "execution_count": null,
   "id": "7b6c6d57",
   "metadata": {},
   "outputs": [],
   "source": [
    "concatenated"
   ]
  },
  {
   "cell_type": "code",
   "execution_count": null,
   "id": "840e000d",
   "metadata": {},
   "outputs": [],
   "source": [
    "label = concatenated.iloc[-1]\n",
    "label"
   ]
  },
  {
   "cell_type": "code",
   "execution_count": null,
   "id": "0d9f433b",
   "metadata": {},
   "outputs": [],
   "source": [
    "concatenated = concatenated.drop('dataset')"
   ]
  },
  {
   "cell_type": "code",
   "execution_count": null,
   "id": "9ecb749a",
   "metadata": {},
   "outputs": [],
   "source": [
    "concatenated = concatenated.T"
   ]
  },
  {
   "cell_type": "code",
   "execution_count": null,
   "id": "113e2484",
   "metadata": {},
   "outputs": [],
   "source": [
    "concatenated['label'] = label"
   ]
  },
  {
   "cell_type": "code",
   "execution_count": null,
   "id": "0dd2e255",
   "metadata": {},
   "outputs": [],
   "source": [
    "concatenated = concatenated.set_index('label')"
   ]
  },
  {
   "cell_type": "code",
   "execution_count": null,
   "id": "39e40ae0",
   "metadata": {},
   "outputs": [],
   "source": [
    "concatenated"
   ]
  },
  {
   "cell_type": "code",
   "execution_count": null,
   "id": "bed30ef8",
   "metadata": {},
   "outputs": [],
   "source": [
    "concatenated.plot()"
   ]
  }
 ],
 "metadata": {
  "kernelspec": {
   "display_name": "Python 3 (ipykernel)",
   "language": "python",
   "name": "python3"
  },
  "language_info": {
   "codemirror_mode": {
    "name": "ipython",
    "version": 3
   },
   "file_extension": ".py",
   "mimetype": "text/x-python",
   "name": "python",
   "nbconvert_exporter": "python",
   "pygments_lexer": "ipython3",
   "version": "3.7.6"
  }
 },
 "nbformat": 4,
 "nbformat_minor": 5
}
