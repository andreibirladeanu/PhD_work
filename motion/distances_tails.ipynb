{
 "cells": [
  {
   "cell_type": "code",
   "execution_count": null,
   "id": "0a38da10",
   "metadata": {},
   "outputs": [],
   "source": [
    "import numpy as np\n",
    "from matplotlib import pyplot\n",
    "import pandas as pd\n",
    "import matplotlib.pyplot as plt\n",
    "from scipy import signal\n",
    "from scipy.fft import fftshift\n",
    "import os \n",
    "import seaborn as sns\n",
    "from matplotlib.pyplot import figure"
   ]
  },
  {
   "cell_type": "code",
   "execution_count": null,
   "id": "80b242bc",
   "metadata": {},
   "outputs": [],
   "source": [
    "os.chdir('/Users/andrei-macpro/Documents/Data/')"
   ]
  },
  {
   "cell_type": "code",
   "execution_count": null,
   "id": "a47dba0a",
   "metadata": {},
   "outputs": [],
   "source": [
    "data = pd.read_csv('distances_meal.csv')  \n"
   ]
  },
  {
   "cell_type": "code",
   "execution_count": null,
   "id": "f2eab6d7",
   "metadata": {},
   "outputs": [],
   "source": [
    "# we get how many nans there are for each video in order to calculate the frame lenghts\n",
    "nans = []\n",
    "for video in data:\n",
    "    nans.append(data[video].isna().sum())"
   ]
  },
  {
   "cell_type": "code",
   "execution_count": null,
   "id": "78ca29fc",
   "metadata": {},
   "outputs": [],
   "source": [
    "frame_lenghts =[]\n",
    "for x,y in zip(data,nans):\n",
    "    frame_lenghts.append((len(data[x])-y))"
   ]
  },
  {
   "cell_type": "code",
   "execution_count": null,
   "id": "b3e1692a",
   "metadata": {},
   "outputs": [],
   "source": [
    "rad = [1047, 1059, 1069, 1079, 1089, 1093, 1099, 1107, 1108, \n",
    "      1117, 1122, 1124, 1125, 1129, 1131, 1132, 1134, 1148, 1186, \n",
    "      1190, 1195, 1206, 1210, 1217, 1230, 1246, 1250, 1264, 2009, 2027]\n",
    "no_rad = [1043, 1049, 1053, 1062, 1073, 1080, 1082, 1091, 1092, \n",
    "         1096, 1097, 1098, 1104, 1105, 1112, 1118, 1130, 1146, \n",
    "         1161, 1170, 1180, 1181, 1184, 1188, 1234, 1241, 1245, 1263,\n",
    "         1269, 1282, 2025]\n",
    "data_rad = data[data.columns & [str(x) for x in rad]]\n",
    "data_rad\n",
    "data_no_rad = data[data.columns & [str(x) for x in no_rad]]\n",
    "data_no_rad"
   ]
  },
  {
   "cell_type": "code",
   "execution_count": null,
   "id": "e8a5a680",
   "metadata": {},
   "outputs": [],
   "source": [
    "# we get the labels list now\n",
    "df =  pd.concat([data_rad.T.assign(dataset='rad'), data_no_rad.T.assign(dataset='no-rad')])\n",
    "label = df['dataset'].sort_index()\n",
    "label"
   ]
  },
  {
   "cell_type": "code",
   "execution_count": null,
   "id": "1eb16f64",
   "metadata": {},
   "outputs": [],
   "source": [
    "# add the label to the dataframe in the wide form\n",
    "data = data.T\n",
    "data['label'] = label\n",
    "data"
   ]
  },
  {
   "cell_type": "code",
   "execution_count": null,
   "id": "c8cbe70d",
   "metadata": {},
   "outputs": [],
   "source": [
    "# how many big values (i.e. over 0.31 there are for each video)\n",
    "big = data.T.iloc[:-1,:].ge(0.08712949, axis=0).sum()\n",
    "small = data.T.iloc[:-1,:].le(0.17380587, axis=0).sum()"
   ]
  },
  {
   "cell_type": "code",
   "execution_count": null,
   "id": "51c89e4d",
   "metadata": {},
   "outputs": [],
   "source": [
    "data['frequency big values'] = big\n",
    "data['frequency small values'] = small"
   ]
  },
  {
   "cell_type": "code",
   "execution_count": null,
   "id": "c45db71a",
   "metadata": {},
   "outputs": [],
   "source": [
    "data = data.T\n",
    "data['frame_lengths'] = frame_lenghts\n",
    "data"
   ]
  },
  {
   "cell_type": "code",
   "execution_count": null,
   "id": "2b8cf5c9",
   "metadata": {},
   "outputs": [],
   "source": [
    "data['proportion_big_quantile'] = data['frequency big values'] / data['frame_lengths']\n",
    "data['proportion_small_quantile'] = data['frequency small values'] / data['frame_lengths']\n"
   ]
  },
  {
   "cell_type": "code",
   "execution_count": null,
   "id": "fa7a1774",
   "metadata": {},
   "outputs": [],
   "source": [
    "rad = data.query('label == \"rad\"')['proportion_small_quantile']"
   ]
  },
  {
   "cell_type": "code",
   "execution_count": null,
   "id": "34c1d7d3",
   "metadata": {},
   "outputs": [],
   "source": [
    "no_rad = data.query('label == \"no-rad\"')['proportion_small_quantile']"
   ]
  },
  {
   "cell_type": "code",
   "execution_count": null,
   "id": "bea8284c",
   "metadata": {},
   "outputs": [],
   "source": [
    "data.groupby('label').describe()"
   ]
  },
  {
   "cell_type": "code",
   "execution_count": null,
   "id": "9d757da4",
   "metadata": {},
   "outputs": [],
   "source": [
    "from scipy import stats\n",
    "res = stats.ttest_ind(rad, no_rad, \n",
    "                      equal_var=False)"
   ]
  },
  {
   "cell_type": "code",
   "execution_count": null,
   "id": "8d73401a",
   "metadata": {},
   "outputs": [],
   "source": [
    "res"
   ]
  },
  {
   "cell_type": "code",
   "execution_count": null,
   "id": "a979f442",
   "metadata": {},
   "outputs": [],
   "source": [
    "data['mean'] = data.iloc[:,:-1].mean(axis=1)\n",
    "data"
   ]
  },
  {
   "cell_type": "code",
   "execution_count": null,
   "id": "51bac5ad",
   "metadata": {},
   "outputs": [],
   "source": [
    "data.groupby('label')"
   ]
  },
  {
   "cell_type": "markdown",
   "id": "f7ee0ac2",
   "metadata": {},
   "source": [
    "## no difference in means "
   ]
  },
  {
   "cell_type": "code",
   "execution_count": null,
   "id": "a81efccf",
   "metadata": {},
   "outputs": [],
   "source": [
    "data.iloc[:,:-2]"
   ]
  },
  {
   "cell_type": "code",
   "execution_count": null,
   "id": "a7bdf1b0",
   "metadata": {},
   "outputs": [],
   "source": [
    "os.chdir('/Users/andrei-macpro/Documents/Data/Results/corpus_processed')"
   ]
  },
  {
   "cell_type": "code",
   "execution_count": null,
   "id": "f1a020a4",
   "metadata": {},
   "outputs": [],
   "source": [
    "scores = pd.read_excel('corpus_labelled.xlsx')  "
   ]
  },
  {
   "cell_type": "code",
   "execution_count": null,
   "id": "5ef00090",
   "metadata": {},
   "outputs": [],
   "source": [
    "data['rinab'] = scores[\"Rinab\"].values\n",
    "data['dai'] = scores['DAI'].values"
   ]
  },
  {
   "cell_type": "code",
   "execution_count": null,
   "id": "9464fb7f",
   "metadata": {},
   "outputs": [],
   "source": [
    "from scipy.stats import spearmanr\n",
    "corr, _ = spearmanr(data['rinab'], data['proportion_big_quantile'], nan_policy='omit')\n",
    "print('Spearmans correlation: %.3f' % corr)"
   ]
  },
  {
   "cell_type": "code",
   "execution_count": null,
   "id": "a1722277",
   "metadata": {},
   "outputs": [],
   "source": [
    "plt.scatter(data['rinab'], data['proportion_small_quantile'])"
   ]
  },
  {
   "cell_type": "code",
   "execution_count": null,
   "id": "8d511722",
   "metadata": {},
   "outputs": [],
   "source": [
    "data.plot.bar(y='proportion_big_quantile', rot=0)\n"
   ]
  },
  {
   "cell_type": "code",
   "execution_count": null,
   "id": "0922ef85",
   "metadata": {},
   "outputs": [],
   "source": [
    "rad.mean(), no_rad.mean()"
   ]
  },
  {
   "cell_type": "code",
   "execution_count": null,
   "id": "3fbb50b5",
   "metadata": {},
   "outputs": [],
   "source": [
    "tested with 95% and 99%"
   ]
  }
 ],
 "metadata": {
  "kernelspec": {
   "display_name": "Python 3 (ipykernel)",
   "language": "python",
   "name": "python3"
  },
  "language_info": {
   "codemirror_mode": {
    "name": "ipython",
    "version": 3
   },
   "file_extension": ".py",
   "mimetype": "text/x-python",
   "name": "python",
   "nbconvert_exporter": "python",
   "pygments_lexer": "ipython3",
   "version": "3.9.7"
  }
 },
 "nbformat": 4,
 "nbformat_minor": 5
}
