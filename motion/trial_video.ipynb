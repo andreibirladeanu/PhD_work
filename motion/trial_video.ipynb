{
 "cells": [
  {
   "cell_type": "code",
   "execution_count": null,
   "id": "competitive-treaty",
   "metadata": {},
   "outputs": [],
   "source": [
    "import cv2\n",
    "import numpy as np\n"
   ]
  },
  {
   "cell_type": "code",
   "execution_count": null,
   "id": "alien-fireplace",
   "metadata": {},
   "outputs": [],
   "source": [
    "# Create a VideoCapture object and read from input file\n",
    "\n",
    "# If the input is taken from the camera, pass 0 instead of the video file name.\n",
    "\n",
    "cap = cv2.VideoCapture('1043_meal.mp4')\n",
    "\n",
    "while cap.isOpened():\n",
    "  # Capture frame-by-frame\n",
    "    ret, frame = cap.read()\n",
    "    if ret == True:\n",
    "    # Display the resulting frame\n",
    "        cv2.imshow('Frame',frame)\n",
    "    # Press Q on keyboard to  exit\n",
    "    if cv2.waitKey(25) & 0xFF == ord('q'):\n",
    "        break\n",
    "    # Break the loop\n",
    "\n",
    "    else:\n",
    "\n",
    "        break\n",
    "cap.release()\n",
    "cv2.destroyAllWindows()"
   ]
  },
  {
   "cell_type": "code",
   "execution_count": null,
   "id": "86a27d4c",
   "metadata": {},
   "outputs": [],
   "source": [
    "import cv2 as cv\n",
    "cap = cv2.VideoCapture('1043_meal.mp4')\n",
    "ret, frame1 = cap.read()\n",
    "ret, frame2 = cap.read()\n",
    "diff = cv.absdiff(frame1, frame2)\n"
   ]
  },
  {
   "cell_type": "code",
   "execution_count": null,
   "id": "5d32fb45",
   "metadata": {},
   "outputs": [],
   "source": [
    "diff.shape"
   ]
  },
  {
   "cell_type": "code",
   "execution_count": null,
   "id": "a426dd28",
   "metadata": {},
   "outputs": [],
   "source": [
    "diff[575][767]"
   ]
  },
  {
   "cell_type": "code",
   "execution_count": null,
   "id": "94ad5bb4",
   "metadata": {},
   "outputs": [],
   "source": [
    "dist = np.linalg.norm(frame2-frame1)\n",
    "dist\n"
   ]
  },
  {
   "cell_type": "code",
   "execution_count": null,
   "id": "35cb6775",
   "metadata": {},
   "outputs": [],
   "source": [
    "cap = cv2.VideoCapture('1043_meal.mp4')\n",
    "ret, current_frame = cap.read()\n",
    "previous_frame = current_frame\n",
    "\n",
    "while(cap.isOpened()):\n",
    "    current_frame_gray = cv2.cvtColor(current_frame, cv2.COLOR_BGR2GRAY)\n",
    "    previous_frame_gray = cv2.cvtColor(previous_frame, cv2.COLOR_BGR2GRAY)    \n",
    "\n",
    "    frame_diff = cv2.absdiff(current_frame_gray,previous_frame_gray)\n",
    "\n",
    "    cv2.imshow('frame diff ',frame_diff)      \n",
    "    if cv2.waitKey(1) & 0xFF == ord('q'):\n",
    "        break\n",
    "\n",
    "    previous_frame = current_frame.copy()\n",
    "    ret, current_frame = cap.read()\n",
    "\n",
    "cap.release()\n",
    "cv2.destroyAllWindows()"
   ]
  },
  {
   "cell_type": "code",
   "execution_count": null,
   "id": "7f461e40",
   "metadata": {},
   "outputs": [],
   "source": [
    "# cap = cv2.VideoCapture('1043_meal.mp4')\n",
    "old_frame = None\n",
    "\n",
    "while True:\n",
    "\n",
    "    ret, frame = cap.read()\n",
    "\n",
    "    if ret == True:\n",
    "\n",
    "        gray = cv2.cvtColor(frame, cv2.COLOR_BGR2GRAY)\n",
    "\n",
    "        if old_frame is not None:\n",
    "            diff_frame = gray - old_frame\n",
    "            diff_frame -= diff_frame.min()\n",
    "            disp_frame = np.uint8(255.0*diff_frame/float(diff_frame.max()))\n",
    "            cv2.imshow('diff_frame',disp_frame)\n",
    "        old_frame = gray\n",
    "\n",
    "        if cv2.waitKey(30) & 0xFF == ord('q'):\n",
    "            break\n",
    "\n",
    "    else:\n",
    "        print('ERROR!')\n",
    "        break\n",
    "\n",
    "cap.release()\n",
    "cv2.destroyAllWindows()"
   ]
  },
  {
   "cell_type": "code",
   "execution_count": null,
   "id": "94363379",
   "metadata": {},
   "outputs": [],
   "source": [
    "\n",
    "cap = cv2.VideoCapture('1043_meal.mp4')\n",
    "\n",
    "ret, current_frame = cap.read()\n",
    "\n",
    "fgbg = cv2.createBackgroundSubtractorMOG2()\n",
    "\n",
    "previous_frame = current_frame\n",
    "\n",
    "def framediff(current_frame_gray,previous_frame_gray):\n",
    "\n",
    "    frame_diff = cv2.absdiff(current_frame_gray,previous_frame_gray)\n",
    "\n",
    "    cv2.imshow('frame diff ',frame_diff)\n",
    "\n",
    "    return frame_diff\n",
    "\n",
    "\n",
    "while(cap.isOpened()):\n",
    "\n",
    "    current_frame_gray = cv2.cvtColor(current_frame, cv2.COLOR_BGR2GRAY)\n",
    "\n",
    "    previous_frame_gray = cv2.cvtColor(previous_frame, cv2.COLOR_BGR2GRAY)\n",
    "\n",
    "    frame_diff=framediff(current_frame_gray,previous_frame_gray)\n",
    "\n",
    "if cv2.waitKey(1) & 0xFF == ord('q'):\n",
    "\n",
    "        break\n",
    "\n",
    "\n",
    "\n",
    "cap.release()\n",
    "\n",
    "cv2.destroyAllWindows()"
   ]
  },
  {
   "cell_type": "code",
   "execution_count": null,
   "id": "a486f2cf",
   "metadata": {},
   "outputs": [],
   "source": [
    "cap = cv2.VideoCapture('1043_meal.mp4')\n",
    "while (cap.isOpened()):\n",
    "    ret, frame = cap.read()\n",
    "    if ret == True:\n",
    "        frame_count += 1\n",
    "        orig_frame = frame.copy()\n",
    "        # IMPORTANT STEP: convert the frame to grayscale first\n",
    "        gray = cv2.cvtColor(frame, cv2.COLOR_BGR2GRAY)\n",
    "\n",
    "        if frame_count % consecutive_frame == 0 or frame_count == 1:\n",
    "            frame_diff_list = []\n",
    "\n",
    "        # find the difference between current frame and base frame\n",
    "        frame_diff = cv2.absdiff(gray, background)\n",
    "        # thresholding to convert the frame to binary\n",
    "        ret, thres = cv2.threshold(frame_diff, 50, 255, cv2.THRESH_BINARY)\n",
    "        # dilate the frame a bit to get some more white area...\n",
    "        # ... makes the detection of contours a bit easier\n",
    "        dilate_frame = cv2.dilate(thres, None, iterations=2)\n",
    "        # append the final result into the `frame_diff_list`\n",
    "        frame_diff_list.append(dilate_frame)\n",
    "\n",
    "        # if we have reached `consecutive_frame` number of frames\n",
    "        if len(frame_diff_list) == consecutive_frame:\n",
    "            # add all the frames in the `frame_diff_list`\n",
    "            sum_frames = sum(frame_diff_list)\n",
    "\n",
    "\n",
    "\n",
    "cap.release()\n",
    "cv2.destroyAllWindows()"
   ]
  },
  {
   "cell_type": "code",
   "execution_count": null,
   "id": "sealed-limit",
   "metadata": {},
   "outputs": [],
   "source": [
    "from imutils.video import VideoStream\n",
    "import argparse\n",
    "import datetime\n",
    "import imutils\n",
    "import time\n",
    "import cv2\n"
   ]
  },
  {
   "cell_type": "code",
   "execution_count": null,
   "id": "successful-reminder",
   "metadata": {},
   "outputs": [],
   "source": [
    "cap = cv2.VideoCapture('1043_meal.mp4')\n"
   ]
  },
  {
   "cell_type": "code",
   "execution_count": null,
   "id": "b87a7cc4",
   "metadata": {},
   "outputs": [],
   "source": [
    "import Scripts.py"
   ]
  },
  {
   "cell_type": "code",
   "execution_count": null,
   "id": "9153eda5",
   "metadata": {},
   "outputs": [],
   "source": [
    "python main.py"
   ]
  },
  {
   "cell_type": "code",
   "execution_count": null,
   "id": "b79564a3",
   "metadata": {},
   "outputs": [],
   "source": [
    "cap = cv2.VideoCapture('1043_meal.mp4')\n",
    "distances = []\n",
    "frames\n",
    "while cap.isOpened():\n",
    "    # Reading the captured frames-> frame1, frame2\n",
    "    ret,frame1 = cap.read()\n",
    "    ret,frame2 = cap.read()\n",
    "\n",
    "    dist = np.linalg.norm(frame2-frame1)\n",
    "    #print(dist)\n",
    "    distances.append(dist/442368)\n",
    " \n",
    "\n",
    "  \n",
    "    frame1=frame2\n",
    "    ret, frame2=cap.read()\n",
    "\n",
    "    # Press 'q' to exit the frame\n",
    "\n",
    "cap.release() \n",
    "cv2.destroyAllWindows() "
   ]
  },
  {
   "cell_type": "code",
   "execution_count": null,
   "id": "419ce14f",
   "metadata": {},
   "outputs": [],
   "source": [
    "cap = cv2.VideoCapture('1043_meal.mp4')\n",
    "length = int(cap.get(cv2.CAP_PROP_FRAME_COUNT))"
   ]
  },
  {
   "cell_type": "code",
   "execution_count": null,
   "id": "6002974d",
   "metadata": {},
   "outputs": [],
   "source": [
    "len(distances)"
   ]
  },
  {
   "cell_type": "code",
   "execution_count": null,
   "id": "6bd2e839",
   "metadata": {},
   "outputs": [],
   "source": [
    "length"
   ]
  },
  {
   "cell_type": "code",
   "execution_count": null,
   "id": "3d5b050f",
   "metadata": {},
   "outputs": [],
   "source": [
    "cap = cv2.VideoCapture('1043_meal.mp4')\n",
    "frames =[]\n",
    "while cap.isOpened():\n",
    "    # Reading the captured frames-> frame1, frame2\n",
    "    ret,frame1 = cap.read()\n",
    "    print(type(frame1))\n",
    "    frames.append(frame1)\n",
    "cap.release() \n",
    "cv2.destroyAllWindows() "
   ]
  },
  {
   "cell_type": "code",
   "execution_count": null,
   "id": "8db87583",
   "metadata": {},
   "outputs": [],
   "source": [
    "frame1"
   ]
  }
 ],
 "metadata": {
  "kernelspec": {
   "display_name": "Python 3 (ipykernel)",
   "language": "python",
   "name": "python3"
  },
  "language_info": {
   "codemirror_mode": {
    "name": "ipython",
    "version": 3
   },
   "file_extension": ".py",
   "mimetype": "text/x-python",
   "name": "python",
   "nbconvert_exporter": "python",
   "pygments_lexer": "ipython3",
   "version": "3.9.7"
  }
 },
 "nbformat": 4,
 "nbformat_minor": 5
}
