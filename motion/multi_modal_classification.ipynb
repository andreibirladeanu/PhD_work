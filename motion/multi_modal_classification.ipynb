{
 "cells": [
  {
   "cell_type": "code",
   "execution_count": null,
   "id": "9b3ef5de",
   "metadata": {},
   "outputs": [],
   "source": [
    "import cv2\n",
    "import numpy as np\n",
    "from matplotlib import pyplot\n",
    "import pandas as pd\n",
    "import matplotlib.pyplot as plt\n",
    "from scipy import signal\n",
    "from scipy.fft import fftshift\n",
    "import os \n",
    "#import seaborn as sns\n",
    "from itertools import zip_longest\n",
    "from tqdm import tqdm\n",
    "import matplotlib.lines as mlines\n",
    "from sklearn.svm import SVC\n",
    "from sklearn.model_selection import KFold\n",
    "from sklearn.model_selection import cross_val_score\n",
    "from sklearn.model_selection import GridSearchCV\n",
    "from sklearn import svm\n",
    "from sklearn.linear_model import LogisticRegression\n",
    "from sklearn import preprocessing\n",
    "from sklearn.pipeline import Pipeline\n",
    "from sklearn.utils import shuffle\n",
    "from sklearn.preprocessing import StandardScaler\n",
    "from matplotlib.colors import ListedColormap\n",
    "import seaborn as sns\n",
    "import io\n",
    "from sklearn.model_selection import GroupKFold"
   ]
  },
  {
   "cell_type": "code",
   "execution_count": null,
   "id": "d051d472",
   "metadata": {},
   "outputs": [],
   "source": [
    "os.chdir('/Users/andreibirladeanu/Documents/Data/Meal_distances')"
   ]
  },
  {
   "cell_type": "code",
   "execution_count": null,
   "id": "339cef4c",
   "metadata": {},
   "outputs": [],
   "source": [
    "df_10 = pd.read_csv('meal_otsu_10_abs.csv')  \n",
    "df_5 = pd.read_csv('meal_otsu_5_abs.csv')  "
   ]
  },
  {
   "cell_type": "code",
   "execution_count": null,
   "id": "35f4998e",
   "metadata": {},
   "outputs": [],
   "source": [
    "rad = [1047, 1059, 1069, 1079, 1089, 1093, 1099, 1107, 1108, \n",
    "      1117, 1122, 1124, 1125, 1129, 1131, 1132, 1134, 1148, 1186, \n",
    "      1190, 1195, 1206, 1210, 1217, 1230, 1246, 1250, 1264, 2009, 2027]\n",
    "no_rad = [1043, 1049, 1053, 1062, 1073, 1080, 1082, 1091, 1092, \n",
    "         1096, 1097, 1098, 1104, 1105, 1112, 1118, 1130, 1146, \n",
    "         1161, 1170, 1180, 1181, 1184, 1188, 1234, 1241, 1245, 1263,\n",
    "         1269, 1282, 2025]"
   ]
  },
  {
   "cell_type": "code",
   "execution_count": null,
   "id": "6d2eca28",
   "metadata": {},
   "outputs": [],
   "source": [
    "def process_dataset(dataset):\n",
    "    data_rad = dataset[dataset.columns & [str(x) for x in rad]]\n",
    "    data_no_rad = dataset[dataset.columns & [str(x) for x in no_rad]]\n",
    "    df =  pd.concat([data_rad.T.assign(label='rad'), data_no_rad.T.assign(label='no-rad')])\n",
    "    df['label'] = df['label'].sort_index()\n",
    "    mean, variance = df.iloc[:,:-2].mean(axis=1), df.iloc[:,:-2].var(axis=1)\n",
    "    new_df = pd.concat([mean, variance], axis=1)\n",
    "    new_df.columns = ['mean', 'variance']\n",
    "    y = np.array([0 if x=='no-rad' else 1 for x in df['label']])\n",
    "    new_df['label'] = y\n",
    "\n",
    "    return new_df"
   ]
  },
  {
   "cell_type": "code",
   "execution_count": null,
   "id": "4e886383",
   "metadata": {},
   "outputs": [],
   "source": [
    "frames_5 = process_dataset(df_10)\n",
    "frames_10 = process_dataset(df_5)"
   ]
  },
  {
   "cell_type": "code",
   "execution_count": null,
   "id": "0eb0aa0d",
   "metadata": {},
   "outputs": [],
   "source": [
    "big_df = pd.concat([frames_5, frames_10], axis=0)\n",
    "label = big_df['label']"
   ]
  },
  {
   "cell_type": "code",
   "execution_count": null,
   "id": "db5353c5",
   "metadata": {},
   "outputs": [],
   "source": [
    "big_df.index.name = 's_id'"
   ]
  },
  {
   "cell_type": "code",
   "execution_count": null,
   "id": "e865ee1e",
   "metadata": {},
   "outputs": [],
   "source": [
    "big_df = big_df.drop(columns=['label'])"
   ]
  },
  {
   "cell_type": "code",
   "execution_count": null,
   "id": "517b759b",
   "metadata": {},
   "outputs": [],
   "source": [
    "os.chdir('/Users/andreibirladeanu/Documents/Data/classification/speech')"
   ]
  },
  {
   "cell_type": "code",
   "execution_count": null,
   "id": "e3a59099",
   "metadata": {},
   "outputs": [],
   "source": [
    "speech = pd.read_csv('classification.csv')  "
   ]
  },
  {
   "cell_type": "code",
   "execution_count": null,
   "id": "d0d43919",
   "metadata": {},
   "outputs": [],
   "source": [
    "speech = speech.set_index(\"Subject_ID\")\n",
    "speech"
   ]
  },
  {
   "cell_type": "code",
   "execution_count": null,
   "id": "943a85dd",
   "metadata": {},
   "outputs": [],
   "source": [
    "speech = speech.drop(['age', 'label', 'Proportion speech caregiver'], axis=1)\n",
    "speech"
   ]
  },
  {
   "cell_type": "code",
   "execution_count": null,
   "id": "d99b052d",
   "metadata": {},
   "outputs": [],
   "source": [
    "X = big_df.to_numpy()\n",
    "\n",
    "y = label"
   ]
  },
  {
   "cell_type": "code",
   "execution_count": null,
   "id": "99752fd6",
   "metadata": {},
   "outputs": [],
   "source": [
    "X_shuffled, y_shuffled, groups_shuffled = shuffle(X,y,big_df.index ,random_state=42)\n",
    "print(groups_shuffled)\n",
    "scalar = preprocessing.StandardScaler()\n",
    "#clf = GridSearchCV(estimator=svm.SVC(), param_grid=parameter_candidates, n_jobs=-1)\n",
    "parameter_candidates = {'model__kernel':['linear', 'rbf'], 'model__C':[1, 10,100]}\n",
    "clf = svm.SVC()\n",
    "pipeline = Pipeline(steps=[('preprocess', scalar), ('model', clf)])\n",
    "\n",
    "cv = GroupKFold(n_splits=5)\n",
    "#cross_val_score(pipeline, X, y, cv = cv)\n",
    "search = GridSearchCV(pipeline, parameter_candidates, scoring = 'accuracy', cv =cv)\n",
    "search.fit(X_shuffled, y_shuffled, groups = groups_shuffled)"
   ]
  },
  {
   "cell_type": "code",
   "execution_count": null,
   "id": "be13b69c",
   "metadata": {},
   "outputs": [],
   "source": [
    "multi_modal = pd.concat([big_df, speech])\n",
    "multi_modal"
   ]
  },
  {
   "cell_type": "code",
   "execution_count": null,
   "id": "2a06d574",
   "metadata": {},
   "outputs": [],
   "source": [
    "big_df.merge(speech, on='s_id', how ='left')"
   ]
  },
  {
   "cell_type": "code",
   "execution_count": null,
   "id": "45fc8be2",
   "metadata": {},
   "outputs": [],
   "source": [
    "big_df.loc[1047]"
   ]
  },
  {
   "cell_type": "code",
   "execution_count": null,
   "id": "80cb4b0c",
   "metadata": {},
   "outputs": [],
   "source": [
    "speech.loc[1047]"
   ]
  },
  {
   "cell_type": "code",
   "execution_count": null,
   "id": "a3a360fd",
   "metadata": {},
   "outputs": [],
   "source": [
    "big_df = big_df.astype('int64').dtypes\n"
   ]
  },
  {
   "cell_type": "code",
   "execution_count": null,
   "id": "849ccc74",
   "metadata": {},
   "outputs": [],
   "source": [
    "speech.index\n"
   ]
  },
  {
   "cell_type": "code",
   "execution_count": null,
   "id": "26f5f1a4",
   "metadata": {},
   "outputs": [],
   "source": [
    "big_df.index"
   ]
  },
  {
   "cell_type": "code",
   "execution_count": null,
   "id": "c3c2a4eb",
   "metadata": {},
   "outputs": [],
   "source": [
    "big_df.index = big_df.index.astype('int64', copy=False)"
   ]
  },
  {
   "cell_type": "code",
   "execution_count": null,
   "id": "570139ed",
   "metadata": {},
   "outputs": [],
   "source": [
    "big_df.index"
   ]
  }
 ],
 "metadata": {
  "kernelspec": {
   "display_name": "Python 3 (ipykernel)",
   "language": "python",
   "name": "python3"
  },
  "language_info": {
   "codemirror_mode": {
    "name": "ipython",
    "version": 3
   },
   "file_extension": ".py",
   "mimetype": "text/x-python",
   "name": "python",
   "nbconvert_exporter": "python",
   "pygments_lexer": "ipython3",
   "version": "3.9.7"
  }
 },
 "nbformat": 4,
 "nbformat_minor": 5
}
