{
 "cells": [
  {
   "cell_type": "code",
   "execution_count": null,
   "id": "20bfaa2f",
   "metadata": {},
   "outputs": [],
   "source": [
    "import cv2\n",
    "import numpy as np\n",
    "from matplotlib import pyplot\n",
    "import pandas as pd\n",
    "import matplotlib.pyplot as plt\n",
    "from scipy import signal\n",
    "from scipy.fft import fftshift\n",
    "import os \n",
    "#import seaborn as sns\n",
    "from itertools import zip_longest\n",
    "from tqdm import tqdm\n",
    "#import image_similarity_measures\n",
    "#from image_similarity_measures.quality_metrics import rmse, psnr\n"
   ]
  },
  {
   "cell_type": "code",
   "execution_count": null,
   "id": "93201705",
   "metadata": {},
   "outputs": [],
   "source": [
    "os.chdir('/Users/andreibirladeanu/Documents/Data/')"
   ]
  },
  {
   "cell_type": "code",
   "execution_count": null,
   "id": "347a25a0",
   "metadata": {},
   "outputs": [],
   "source": [
    "cap = cv2.VideoCapture('1043_meal.mp4')\n",
    "frames = []\n",
    "counter = 0\n",
    "differences = []\n",
    "while(cap.isOpened()):\n",
    "    ret, frame = cap.read()\n",
    "    if ret == False:\n",
    "        break\n",
    "    gray = cv2.cvtColor(frame,cv2.COLOR_BGR2GRAY) #converts captured frame to Grayscale for easier analysis\n",
    "    blur = cv2.GaussianBlur(gray,(5,5),0)\n",
    "    frames.append(gray)\n",
    "    if counter > 20:\n",
    "#         difference = np.abs(frames[counter] - frames[counter-1])\n",
    "        \n",
    "        difference = np.abs(cv2.subtract(frames[counter], frames[counter-21]))\n",
    "        #if  np.sum(difference)  > 6880109:\n",
    "         #   cv2.imshow('difference',difference)\n",
    "          #  cv2.waitKey(0)\n",
    "        \n",
    "        ret2,th = cv2.threshold(difference,0,255,cv2.THRESH_BINARY+cv2.THRESH_OTSU)\n",
    "        #if  np.sum(th)  < 6880109:\n",
    "         #   cv2.imshow('th',th)\n",
    "          #  cv2.waitKey(0)\n",
    "        differences.append(np.sum(th))\n",
    "        #cv2.imshow('difference',th)\n",
    "        #cv2.waitKey(0)\n",
    "\n",
    "    \n",
    "#     differences.append(th.sum()\n",
    "    #differences.append(np.sum(th))\n",
    "\n",
    "    counter = counter + 1\n",
    "    \n",
    "    \n",
    "\n",
    "cap.release()\n",
    "cv2.destroyAllWindows()"
   ]
  },
  {
   "cell_type": "code",
   "execution_count": null,
   "id": "30431ec4",
   "metadata": {},
   "outputs": [],
   "source": [
    "len(differences)"
   ]
  },
  {
   "cell_type": "code",
   "execution_count": null,
   "id": "b2aee0e6",
   "metadata": {},
   "outputs": [],
   "source": [
    "plt.plot(differences)"
   ]
  },
  {
   "cell_type": "code",
   "execution_count": null,
   "id": "28894f11",
   "metadata": {},
   "outputs": [],
   "source": [
    "from scipy.signal import savgol_filter\n",
    "# Savitzky-Golay filter\n",
    "y_filtered = savgol_filter(differences, 21, 3)"
   ]
  },
  {
   "cell_type": "code",
   "execution_count": null,
   "id": "32a16179",
   "metadata": {},
   "outputs": [],
   "source": [
    "np.mean(differences)"
   ]
  },
  {
   "cell_type": "code",
   "execution_count": null,
   "id": "fb63f16a",
   "metadata": {},
   "outputs": [],
   "source": [
    "np.percentile(differences, 99)"
   ]
  },
  {
   "cell_type": "code",
   "execution_count": null,
   "id": "ab8b6312",
   "metadata": {},
   "outputs": [],
   "source": [
    "differences > np.percentile(differences, 95)"
   ]
  },
  {
   "cell_type": "code",
   "execution_count": null,
   "id": "681afd86",
   "metadata": {},
   "outputs": [],
   "source": [
    "from sklearn.model_selection import train_test_split"
   ]
  },
  {
   "cell_type": "code",
   "execution_count": null,
   "id": "c2ffe254",
   "metadata": {},
   "outputs": [],
   "source": [
    "filter_arr = differences > np.percentile(differences, 99)\n"
   ]
  },
  {
   "cell_type": "code",
   "execution_count": null,
   "id": "c709bbe4",
   "metadata": {},
   "outputs": [],
   "source": [
    "filter_arr"
   ]
  },
  {
   "cell_type": "code",
   "execution_count": null,
   "id": "50807d06",
   "metadata": {},
   "outputs": [],
   "source": [
    "type(np.where(differences > np.percentile(differences, 99))[0])"
   ]
  },
  {
   "cell_type": "code",
   "execution_count": null,
   "id": "e86e0f45",
   "metadata": {},
   "outputs": [],
   "source": [
    "differences = np.array(differences)\n",
    "differences[np.where(differences > np.percentile(differences, 99))[0]]"
   ]
  },
  {
   "cell_type": "code",
   "execution_count": null,
   "id": "74a7e33c",
   "metadata": {},
   "outputs": [],
   "source": [
    "new_differences = differences[np.where(differences < np.percentile(differences, 98))[0]]"
   ]
  },
  {
   "cell_type": "code",
   "execution_count": null,
   "id": "065341aa",
   "metadata": {},
   "outputs": [],
   "source": [
    "plt.plot(new_differences)"
   ]
  }
 ],
 "metadata": {
  "kernelspec": {
   "display_name": "Python 3 (ipykernel)",
   "language": "python",
   "name": "python3"
  },
  "language_info": {
   "codemirror_mode": {
    "name": "ipython",
    "version": 3
   },
   "file_extension": ".py",
   "mimetype": "text/x-python",
   "name": "python",
   "nbconvert_exporter": "python",
   "pygments_lexer": "ipython3",
   "version": "3.9.7"
  }
 },
 "nbformat": 4,
 "nbformat_minor": 5
}
