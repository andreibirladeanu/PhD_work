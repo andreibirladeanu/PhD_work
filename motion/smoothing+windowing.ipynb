{
 "cells": [
  {
   "cell_type": "code",
   "execution_count": null,
   "id": "c28dfc86",
   "metadata": {},
   "outputs": [],
   "source": [
    "import cv2\n",
    "import numpy as np\n",
    "from matplotlib import pyplot\n",
    "import pandas as pd\n",
    "import matplotlib.pyplot as plt\n",
    "from scipy import signal\n",
    "from scipy.fft import fftshift\n",
    "import os \n",
    "#import seaborn as sns\n",
    "from itertools import zip_longest\n",
    "from tqdm import tqdm\n",
    "#import image_similarity_measures\n",
    "#from image_similarity_measures.quality_metrics import rmse, psnr\n"
   ]
  },
  {
   "cell_type": "code",
   "execution_count": null,
   "id": "f38c7490",
   "metadata": {},
   "outputs": [],
   "source": [
    "os.chdir('/Users/andreibirladeanu/Documents/Data/')"
   ]
  },
  {
   "cell_type": "code",
   "execution_count": null,
   "id": "f833d86d",
   "metadata": {},
   "outputs": [],
   "source": [
    "cap = cv2.VideoCapture('1043_meal.mp4')\n",
    "frames = []\n",
    "counter = 0\n",
    "differences = []\n",
    "while(cap.isOpened()):\n",
    "    ret, frame = cap.read()\n",
    "    if ret == False:\n",
    "        break\n",
    "    gray = cv2.cvtColor(frame,cv2.COLOR_BGR2GRAY) #converts captured frame to Grayscale for easier analysis\n",
    "    blur = cv2.GaussianBlur(gray,(5,5),0)\n",
    "    frames.append(gray)\n",
    "    if counter > 20:\n",
    "#         difference = np.abs(frames[counter] - frames[counter-1])\n",
    "        \n",
    "        difference = np.abs(cv2.subtract(frames[counter], frames[counter-21]))\n",
    "        #if  np.sum(difference)  > 6880109:\n",
    "         #   cv2.imshow('difference',difference)\n",
    "          #  cv2.waitKey(0)\n",
    "        \n",
    "        ret2,th = cv2.threshold(difference,0,255,cv2.THRESH_BINARY+cv2.THRESH_OTSU)\n",
    "        if  np.sum(th)  < 6880109:\n",
    "            cv2.imshow('th',th)\n",
    "            cv2.waitKey(0)\n",
    "        #differences.append(np.sum(th))\n",
    "        #cv2.imshow('difference',th)\n",
    "        #cv2.waitKey(0)\n",
    "\n",
    "    \n",
    "#     differences.append(th.sum()\n",
    "    #differences.append(np.sum(th))\n",
    "\n",
    "    counter = counter + 1\n",
    "    \n",
    "    \n",
    "\n",
    "cap.release()\n",
    "cv2.destroyAllWindows()"
   ]
  },
  {
   "cell_type": "code",
   "execution_count": null,
   "id": "e497f1fc",
   "metadata": {},
   "outputs": [],
   "source": [
    "len(differences)"
   ]
  },
  {
   "cell_type": "code",
   "execution_count": null,
   "id": "28f9dcb2",
   "metadata": {},
   "outputs": [],
   "source": [
    "plt.plot(differences)"
   ]
  },
  {
   "cell_type": "code",
   "execution_count": null,
   "id": "49412303",
   "metadata": {},
   "outputs": [],
   "source": [
    "from scipy.signal import savgol_filter\n",
    "# Savitzky-Golay filter\n",
    "y_filtered = savgol_filter(differences, 21, 3)"
   ]
  },
  {
   "cell_type": "code",
   "execution_count": null,
   "id": "06a5d81a",
   "metadata": {},
   "outputs": [],
   "source": [
    "np.mean(differences)"
   ]
  },
  {
   "cell_type": "code",
   "execution_count": null,
   "id": "f1ab57af",
   "metadata": {},
   "outputs": [],
   "source": [
    "np.percentile(differences, 99)"
   ]
  },
  {
   "cell_type": "code",
   "execution_count": null,
   "id": "c5f016ce",
   "metadata": {},
   "outputs": [],
   "source": [
    "differences > np.percentile(differences, 95)"
   ]
  },
  {
   "cell_type": "code",
   "execution_count": null,
   "id": "6f935f37",
   "metadata": {},
   "outputs": [],
   "source": [
    "from sklearn.model_selection import train_test_split"
   ]
  },
  {
   "cell_type": "code",
   "execution_count": null,
   "id": "1319fd05",
   "metadata": {},
   "outputs": [],
   "source": [
    "X_train, X_test, y_train, y_test = train_test_split(X, y, test_size=0.33, random_state=1)\n"
   ]
  }
 ],
 "metadata": {
  "kernelspec": {
   "display_name": "Python 3 (ipykernel)",
   "language": "python",
   "name": "python3"
  },
  "language_info": {
   "codemirror_mode": {
    "name": "ipython",
    "version": 3
   },
   "file_extension": ".py",
   "mimetype": "text/x-python",
   "name": "python",
   "nbconvert_exporter": "python",
   "pygments_lexer": "ipython3",
   "version": "3.9.7"
  }
 },
 "nbformat": 4,
 "nbformat_minor": 5
}
