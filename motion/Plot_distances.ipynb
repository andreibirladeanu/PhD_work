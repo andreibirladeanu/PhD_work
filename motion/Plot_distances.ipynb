{
 "cells": [
  {
   "cell_type": "code",
   "execution_count": null,
   "id": "4ccca447",
   "metadata": {},
   "outputs": [],
   "source": [
    "import cv2\n",
    "import numpy as np\n",
    "from matplotlib import pyplot\n",
    "import pandas as pd\n",
    "import matplotlib.pyplot as plt\n",
    "from scipy import signal\n",
    "from scipy.fft import fftshift\n",
    "import os \n",
    "import seaborn as sns\n",
    "from matplotlib.pyplot import figure\n",
    "from sklearn.metrics import accuracy_score\n",
    "from sklearn.model_selection import cross_val_predict\n",
    "from sklearn.model_selection import cross_validate\n",
    "from sklearn.svm import LinearSVC\n",
    "from sklearn.model_selection import GroupKFold\n",
    "from sklearn.preprocessing import StandardScaler\n",
    "from sklearn.utils import shuffle\n",
    "from sklearn.svm import SVC\n",
    "from sklearn.model_selection import KFold\n",
    "from sklearn.model_selection import cross_val_score\n",
    "from sklearn.linear_model import LogisticRegression\n",
    "from numpy import mean\n",
    "from numpy import std"
   ]
  },
  {
   "cell_type": "code",
   "execution_count": null,
   "id": "ddd87d28",
   "metadata": {},
   "outputs": [],
   "source": [
    "os.chdir('/Users/andrei-macpro/Documents/Data/')"
   ]
  },
  {
   "cell_type": "code",
   "execution_count": null,
   "id": "436b9396",
   "metadata": {},
   "outputs": [],
   "source": [
    "data = pd.read_csv('distances_play.csv')  "
   ]
  },
  {
   "cell_type": "code",
   "execution_count": null,
   "id": "98333575",
   "metadata": {},
   "outputs": [],
   "source": [
    "data"
   ]
  },
  {
   "cell_type": "code",
   "execution_count": null,
   "id": "e232616d",
   "metadata": {},
   "outputs": [],
   "source": [
    "rad = [1047, 1059, 1069, 1079, 1089, 1093, 1099, 1107, 1108, \n",
    "      1117, 1122, 1124, 1125, 1129, 1131, 1132, 1134, 1148, 1186, \n",
    "      1190, 1195, 1206, 1210, 1217, 1230, 1246, 1250, 1264, 2009, 2027]\n",
    "no_rad = [1043, 1049, 1053, 1062, 1073, 1080, 1082, 1091, 1092, \n",
    "         1096, 1097, 1098, 1104, 1105, 1112, 1118, 1130, 1146, \n",
    "         1161, 1170, 1180, 1181, 1184, 1188, 1234, 1241, 1245, 1263,\n",
    "         1269, 1282, 2025]\n",
    "data_rad = data[data.columns & [str(x) for x in rad]]\n",
    "data_rad\n",
    "data_no_rad = data[data.columns & [str(x) for x in no_rad]]\n",
    "data_no_rad"
   ]
  },
  {
   "cell_type": "code",
   "execution_count": null,
   "id": "e56501a8",
   "metadata": {},
   "outputs": [],
   "source": [
    "import matplotlib.lines as mlines\n",
    "plt.rcParams['font.size']=30\n",
    "figure(facecolor='grey')\n",
    "plt.rcParams['axes.facecolor'] = 'white'\n",
    "plt.rcParams[\"figure.figsize\"] = [50,25]\n",
    "#plt.rc('legend',fontsize=20)\n",
    "\n",
    "fig, ax = plt.subplots()\n",
    "for x in data_rad:  \n",
    "    n, bins, patches= ax.hist(data_rad[x], bins='fd',  color='red', alpha=.1, stacked=True)\n",
    "\n",
    "for y in data_no_rad:\n",
    "    n, bins, patches= plt.hist(data_no_rad[y], bins='fd',  color='green', alpha=.1, stacked=True)\n",
    "#plt.legend(loc=2, prop={'size': 6})\n",
    "eight = mlines.Line2D([], [], color='red', marker='o', ls='', label='rad', markersize = 9)\n",
    "nine = mlines.Line2D([], [], color='blue', marker='o', ls='', label='no-rad', markersize = 9)\n",
    "# etc etc\n",
    "ax.legend(handles=[eight, nine], markerscale=7, fontsize='x-large')\n",
    "\n",
    "plt.axvline(0.36, color='k', linestyle='dashed', linewidth=5)\n",
    "plt.text(0.25, 250, ' <5%', size='large')\n",
    "plt.xlim(right = 1)\n",
    "plt.grid(True)\n",
    "plt.xlabel(\"Frame change\")\n",
    "plt.ylabel(\"Probability (%)\")\n",
    "plt.title(\"Video frame changes across all videos\")\n",
    "plt.show()\n",
    "fig.savefig('histogram_meal.png')"
   ]
  },
  {
   "cell_type": "code",
   "execution_count": null,
   "id": "0aa92ac0",
   "metadata": {},
   "outputs": [],
   "source": [
    "import matplotlib.lines as mlines\n",
    "plt.rcParams['font.size']=30\n",
    "figure(facecolor='grey')\n",
    "plt.rcParams['axes.facecolor'] = 'white'\n",
    "plt.rcParams[\"figure.figsize\"] = [50,25]\n",
    "#plt.rc('legend',fontsize=20)\n",
    "\n",
    "# get means\n",
    "rad_mean = \n",
    "\n",
    "fig, ax = plt.subplots()\n",
    "for x in data_rad:  \n",
    "    n, bins, patches= ax.hist(data_rad[x], bins='fd',  color='red', alpha=.1, stacked=True)\n",
    "\n",
    "for y in data_no_rad:\n",
    "    n, bins, patches= plt.hist(data_no_rad[y], bins='fd',  color='green', alpha=.1, stacked=True)\n",
    "#plt.legend(loc=2, prop={'size': 6})\n",
    "eight = mlines.Line2D([], [], color='red', marker='o', ls='', label='rad', markersize = 9)\n",
    "nine = mlines.Line2D([], [], color='blue', marker='o', ls='', label='no-rad', markersize = 9)\n",
    "# etc etc\n",
    "ax.legend(handles=[eight, nine], markerscale=7, fontsize='x-large')\n",
    "\n",
    "plt.axvline(0.36, color='k', linestyle='dashed', linewidth=5)\n",
    "plt.text(0.25, 250, ' <5%', size='large')\n",
    "plt.xlim(right = 1)\n",
    "plt.grid(True)\n",
    "plt.xlabel(\"Frame change\")\n",
    "plt.ylabel(\"Probability (%)\")\n",
    "plt.title(\"Video frame changes across all videos\")\n",
    "plt.show()\n",
    "fig.savefig('histogram_meal.png')"
   ]
  },
  {
   "cell_type": "code",
   "execution_count": null,
   "id": "257062be",
   "metadata": {},
   "outputs": [],
   "source": [
    "data_rad.shape"
   ]
  },
  {
   "cell_type": "markdown",
   "id": "f6f88f7b",
   "metadata": {},
   "source": [
    "# we're looking at the 5% biggest values"
   ]
  },
  {
   "cell_type": "code",
   "execution_count": null,
   "id": "2b1ac06e",
   "metadata": {},
   "outputs": [],
   "source": [
    "len(np.hstack(data.to_numpy()))"
   ]
  },
  {
   "cell_type": "code",
   "execution_count": null,
   "id": "8c4da591",
   "metadata": {},
   "outputs": [],
   "source": [
    "new_data = np.hstack(data.to_numpy())\n",
    "new_data"
   ]
  },
  {
   "cell_type": "code",
   "execution_count": null,
   "id": "e2a6934c",
   "metadata": {},
   "outputs": [],
   "source": [
    "new_data.shape"
   ]
  },
  {
   "cell_type": "code",
   "execution_count": null,
   "id": "7fdc5eda",
   "metadata": {},
   "outputs": [],
   "source": [
    "new_data[-2]"
   ]
  },
  {
   "cell_type": "code",
   "execution_count": null,
   "id": "6784b9e5",
   "metadata": {},
   "outputs": [],
   "source": [
    "new_data[1]"
   ]
  },
  {
   "cell_type": "code",
   "execution_count": null,
   "id": "ea9dca51",
   "metadata": {},
   "outputs": [],
   "source": [
    "new_data = new_data[~np.isnan(new_data)]"
   ]
  },
  {
   "cell_type": "code",
   "execution_count": null,
   "id": "b4fd6cb8",
   "metadata": {},
   "outputs": [],
   "source": [
    "np.sort((new_data))[0:round(1/100*len(new_data))]"
   ]
  },
  {
   "cell_type": "code",
   "execution_count": null,
   "id": "51c003ed",
   "metadata": {},
   "outputs": [],
   "source": [
    "len(np.sort((new_data))[0:round(5/100*len(new_data))])"
   ]
  },
  {
   "cell_type": "code",
   "execution_count": null,
   "id": "17ec3eac",
   "metadata": {},
   "outputs": [],
   "source": [
    "np.sort((new_data))[round(95/100*len(new_data)):-1]"
   ]
  },
  {
   "cell_type": "code",
   "execution_count": null,
   "id": "79882f1c",
   "metadata": {},
   "outputs": [],
   "source": [
    "len(np.sort((new_data))[round(99/100*len(new_data)):-1])"
   ]
  },
  {
   "cell_type": "code",
   "execution_count": null,
   "id": "84eb30ab",
   "metadata": {},
   "outputs": [],
   "source": [
    "# calculate the mean and variance\n",
    "data['mean'] = data.mean(axis=1, numeric_only=True)\n",
    "data['variance'] = data.var(axis=1, numeric_only=True)\n"
   ]
  },
  {
   "cell_type": "code",
   "execution_count": null,
   "id": "41e65c5e",
   "metadata": {},
   "outputs": [],
   "source": [
    "#wide form data\n",
    "data = pd.concat([data_rad.T.assign(dataset='rad'), data_no_rad.T.assign(dataset='no-rad')])\n",
    "data"
   ]
  },
  {
   "cell_type": "code",
   "execution_count": null,
   "id": "2284aad0",
   "metadata": {},
   "outputs": [],
   "source": [
    "label = data['dataset'] \n",
    "label"
   ]
  },
  {
   "cell_type": "code",
   "execution_count": null,
   "id": "2d21d3af",
   "metadata": {},
   "outputs": [],
   "source": [
    "cv = GroupKFold(n_splits=5)\n",
    "model = SVC(kernel='linear')"
   ]
  },
  {
   "cell_type": "code",
   "execution_count": null,
   "id": "e6368a04",
   "metadata": {},
   "outputs": [],
   "source": [
    "scores = cross_val_score(model, X, y, scoring='accuracy', cv=cv, n_jobs=-1, groups=groups)"
   ]
  },
  {
   "cell_type": "code",
   "execution_count": null,
   "id": "3eada449",
   "metadata": {},
   "outputs": [],
   "source": [
    "print('Accuracy: %.3f (%.3f)' % (mean(scores)*100, std(scores)*100))"
   ]
  },
  {
   "cell_type": "code",
   "execution_count": null,
   "id": "6cf01c2c",
   "metadata": {},
   "outputs": [],
   "source": [
    "is it the fraction of the video or the fraction of the distribution \n",
    "ok so it's the fraction of the video \n",
    "\n",
    "\n",
    "take mean and variance and do t-test\n",
    "take the 5% biggest values and see how many each videos has relative to its lenght (no. of frames)\n",
    "also is it related to the rad score (rinab)"
   ]
  }
 ],
 "metadata": {
  "kernelspec": {
   "display_name": "Python 3 (ipykernel)",
   "language": "python",
   "name": "python3"
  },
  "language_info": {
   "codemirror_mode": {
    "name": "ipython",
    "version": 3
   },
   "file_extension": ".py",
   "mimetype": "text/x-python",
   "name": "python",
   "nbconvert_exporter": "python",
   "pygments_lexer": "ipython3",
   "version": "3.9.7"
  }
 },
 "nbformat": 4,
 "nbformat_minor": 5
}
