{
 "cells": [
  {
   "cell_type": "code",
   "execution_count": null,
   "id": "a9c54e03",
   "metadata": {},
   "outputs": [],
   "source": [
    "import cv2\n",
    "import numpy as np\n",
    "from matplotlib import pyplot\n",
    "import pandas as pd\n",
    "import matplotlib.pyplot as plt\n",
    "from scipy import signal\n",
    "from scipy.fft import fftshift\n",
    "import os \n",
    "#import seaborn as sns\n",
    "from itertools import zip_longest\n",
    "from tqdm import tqdm\n",
    "#import image_similarity_measures\n",
    "#from image_similarity_measures.quality_metrics import rmse, psnr\n"
   ]
  },
  {
   "cell_type": "code",
   "execution_count": null,
   "id": "d883660b",
   "metadata": {},
   "outputs": [],
   "source": [
    "os.chdir('/Users/andreibirladeanu/Documents/Data/')"
   ]
  },
  {
   "cell_type": "code",
   "execution_count": null,
   "id": "e5e091d0",
   "metadata": {},
   "outputs": [],
   "source": [
    "# Otsu's thresholding after Gaussian filtering\n",
    "blur = cv2.GaussianBlur(img,(5,5),0)\n",
    "ret3,th3 = cv2.threshold(blur,0,255,cv2.THRESH_BINARY+cv2.THRESH_OTSU)"
   ]
  },
  {
   "cell_type": "code",
   "execution_count": null,
   "id": "73ec510d",
   "metadata": {},
   "outputs": [],
   "source": [
    "[[20, 20, 20, 20],[30, 50, 430]], [20, 20, 20, 20], [340, 40, 30 ,20]]"
   ]
  },
  {
   "cell_type": "code",
   "execution_count": null,
   "id": "78ce3668",
   "metadata": {},
   "outputs": [],
   "source": [
    "import numpy as np\n",
    "x, y = np.array([512, 512]), np.array([256, 256])\n",
    "x - y, np.abs(y - x)http://localhost:8888/notebooks/motion/frame_differencing.ipynb#"
   ]
  },
  {
   "cell_type": "code",
   "execution_count": null,
   "id": "c4ef6af9",
   "metadata": {},
   "outputs": [],
   "source": [
    "\n",
    "cap = cv2.VideoCapture('1043_meal.mp4')\n",
    "color = (0,0,255) #BGR\n",
    "frames = []\n",
    "counter = 0\n",
    "differences = []\n",
    "threshold = 0.5\n",
    "while(cap.isOpened()):\n",
    "    ret, frame = cap.read()\n",
    "    if ret == False:\n",
    "        break\n",
    "    gray = cv2.cvtColor(frame,cv2.COLOR_BGR2GRAY) #converts captured frame to Grayscale for easier analysis\n",
    "    blur = cv2.GaussianBlur(gray,(5,5),0)\n",
    "    frames.append(gray)\n",
    "    if counter > 0:\n",
    "        #fig, axes = plt.subplots(1, 5, figsize=(30, 50))\n",
    "        #print(f\"****** FRAME {counter}  *******\")\n",
    "        #axes[0].imshow(frames[counter-1])\n",
    "        #axes[0].set_title(\"counter - 1\")\n",
    "        #axes[1].imshow(frames[counter])\n",
    "        #axes[1].set_title(\"counter\")\n",
    "#         difference = np.abs(frames[counter] - frames[counter-1])\n",
    "        \n",
    "        difference = np.abs(cv2.subtract(frames[counter], frames[counter-1]))\n",
    "        print(difference)\n",
    "        ret,th1 = cv2.threshold(difference,0,255,cv2.THRESH_BINARY+cv2.THRESH_OTSU)\n",
    "        cv2.imshow('otsu',th1)\n",
    "        cv2.waitKey(0)\n",
    "        th2 = cv2.adaptiveThreshold(difference,255,cv2.ADAPTIVE_THRESH_MEAN_C,cv2.THRESH_BINARY,11,2)\n",
    "        cv2.imshow('mean_c', th2)\n",
    "        cv2.waitKey(0)\n",
    "        th3 = cv2.adaptiveThreshold(difference,255,cv2.ADAPTIVE_THRESH_MEAN_C,cv2.THRESH_BINARY,7,4)\n",
    "        cv2.imshow('mean_c_7pixels', th3)\n",
    "        cv2.waitKey(0)\n",
    "        cv2.imshow('no threshold',difference)\n",
    "        cv2.waitKey(0)\n",
    "        #ret2,th = cv2.threshold(difference,0,255,cv2.THRESH_BINARY+cv2.THRESH_OTSU)\n",
    "        print(th1)\n",
    "        \n",
    "        \n",
    "        \n",
    "       \n",
    "        #print(type(difference))\n",
    "        \n",
    "        #mse = (frames[counter] - frames[counter-1])**2\n",
    "        #print(difference)\n",
    "        \n",
    "        \n",
    "        #print(difference)\n",
    "        #axes[2].imshow(mse)\n",
    "        #axes[2].set_title(\"mse\")\n",
    "        #axes[3].imshow(difference)\n",
    "        #axes[3].set_title(\"difference\")\n",
    "        #plt.imshow(difference)\n",
    "        #print(cv2.THRESH_BINARY+cv2.THRESH_OTSU, np.max(frames[counter]))\n",
    "        #print(difference)\n",
    "        #ret2,th = cv2.threshold(difference,0,1,25)\n",
    "        #axes[4].imshow(th)\n",
    "        #axes[4].set_title(\"otsu\")\n",
    "#         print(ret2, th)\n",
    "#         print(th.sum())\n",
    "        \n",
    "        \n",
    "    \n",
    "#     differences.append(th.sum()\n",
    "    #differences.append(np.sum(th))\n",
    "\n",
    "    counter = counter + 1\n",
    "\n",
    "    \n",
    "    \n",
    "\n",
    "cap.release()\n",
    "cv2.destroyAllWindows()"
   ]
  },
  {
   "cell_type": "markdown",
   "id": "2ba78c8a",
   "metadata": {},
   "source": [
    "experiment with different thresholds from opencv and different granularities\n",
    "different similarity measures, MSE, ssid\n",
    "both sum and mean (altho mean doesn't do much) \n"
   ]
  },
  {
   "cell_type": "code",
   "execution_count": null,
   "id": "4a0779ef",
   "metadata": {},
   "outputs": [],
   "source": [
    "cv2.imshow('..',frames[1])\n",
    "cv2.waitKey(0)"
   ]
  },
  {
   "cell_type": "code",
   "execution_count": null,
   "id": "613b0703",
   "metadata": {},
   "outputs": [],
   "source": [
    "cap = cv2.VideoCapture('1043_meal.mp4')\n",
    "color = (0,0,255) #BGR\n",
    "frames = []\n",
    "counter = 0  \n",
    "differences = []\n",
    "threshold = 0.5\n",
    "while(cap.isOpened()):\n",
    "    ret, frame = cap.read()\n",
    "    gray = cv2.cvtColor(frame,cv2.COLOR_BGR2GRAY) #converts captured frame to Grayscale for easier analysis\n",
    "    \n",
    "    frames.append(gray)\n",
    "    #cv2.putText(frame,text,(5,30), font, 1, color, 3, cv2.LINE_AA) #may need to change some arguments \n",
    "\n",
    "    #cv2.imshow('frame',frame)\n",
    "    \n",
    "    \n",
    "    if counter > 0:\n",
    "        difference = cv2.subtract(cv2.medianBlur(frames[counter],15),cv2.medianBlur(frames[counter-1],15)) #applies median blur before subtracting for noise reduction \n",
    "        #cv2.imshow('difference',difference)\n",
    "        mean = np.mean(difference)\n",
    "        #print(mean)\n",
    "        if mean > threshold:\n",
    "            differences.append(mean)\n",
    "        else:\n",
    "            text = \"\"\n",
    "    print(mean)\n",
    "    \n",
    "    counter = counter + 1\n",
    "    \n",
    "\n",
    "cap.release()\n",
    "cv2.destroyAllWindows()"
   ]
  },
  {
   "cell_type": "code",
   "execution_count": null,
   "id": "97fdc50b",
   "metadata": {},
   "outputs": [],
   "source": [
    "cap = cv2.VideoCapture('1043_meal.mp4')\n",
    "color = (0,0,255) #BGR\n",
    "frames = []\n",
    "counter = 0\n",
    "differences = []\n",
    "threshold = 0.5\n",
    "while(cap.isOpened()):\n",
    "    ret, frame = cap.read()\n",
    "    gray = cv2.cvtColor(frame,cv2.COLOR_BGR2GRAY) #converts captured frame to Grayscale for easier analysis\n",
    "    \n",
    "    frames.append(gray)\n",
    "    print((cv2.medianBlur(frames[counter],15).shape[1]))\n",
    "    if counter > 0:\n",
    "        difference = rmse(cv2.medianBlur(frames[counter],15),cv2.medianBlur(frames[counter-1],15)) #applies median blur before subtracting for noise reduction \n",
    "        \n",
    "        print(difference)\n",
    "        if mean > threshold:\n",
    "            differences.append(np.mean(difference))\n",
    "    \n",
    "    counter = counter + 1\n",
    "    \n",
    "\n",
    "cap.release()\n",
    "cv2.destroyAllWindows()"
   ]
  },
  {
   "cell_type": "code",
   "execution_count": null,
   "id": "2bb77796",
   "metadata": {},
   "outputs": [],
   "source": [
    "differences"
   ]
  },
  {
   "cell_type": "code",
   "execution_count": null,
   "id": "cf6b061f",
   "metadata": {},
   "outputs": [],
   "source": [
    "plt.plot(differences)"
   ]
  },
  {
   "cell_type": "code",
   "execution_count": null,
   "id": "193776db",
   "metadata": {},
   "outputs": [],
   "source": [
    "differences.index(0.7386406792534722)"
   ]
  },
  {
   "cell_type": "code",
   "execution_count": null,
   "id": "533cb308",
   "metadata": {},
   "outputs": [],
   "source": [
    "img = cv2.imread('im1.png',0)\n",
    "img2 = cv2.imread('im4.png',0)\n"
   ]
  },
  {
   "cell_type": "code",
   "execution_count": null,
   "id": "b992e44f",
   "metadata": {},
   "outputs": [],
   "source": [
    "window_name = 'img'\n",
    "cv2.imshow(window_name, img)\n",
    "cv2.waitKey(0)\n",
    "  \n",
    "# closing all open windows\n",
    "cv2.destroyAllWindows()"
   ]
  },
  {
   "cell_type": "code",
   "execution_count": null,
   "id": "7f233d48",
   "metadata": {},
   "outputs": [],
   "source": [
    "cv2.imshow(\"Display window\", th3)\n",
    "k = cv2.waitKey(0)"
   ]
  },
  {
   "cell_type": "code",
   "execution_count": null,
   "id": "6e81b785",
   "metadata": {},
   "outputs": [],
   "source": [
    "subtracted = cv2.subtract(img, img2)"
   ]
  },
  {
   "cell_type": "code",
   "execution_count": null,
   "id": "438dc728",
   "metadata": {},
   "outputs": [],
   "source": [
    "cv2.imshow(\"name of the window\", subtracted)\n",
    "cv2.waitKey(0)\n",
    "cv2.destroyAllWindows() \n",
    "cv2.imwrite('subtracted.png', subtracted)"
   ]
  },
  {
   "cell_type": "code",
   "execution_count": null,
   "id": "8f0a3f3e",
   "metadata": {},
   "outputs": [],
   "source": [
    "# Otsu's thresholding after Gaussian filtering\n",
    "blur = cv2.GaussianBlur(subtracted,(5,5),0)\n",
    "ret3,th3 = cv2.threshold(blur,0,255,cv2.THRESH_BINARY+cv2.THRESH_OTSU)"
   ]
  },
  {
   "cell_type": "code",
   "execution_count": null,
   "id": "11972cf8",
   "metadata": {},
   "outputs": [],
   "source": [
    "cv2.imshow(\"thresholded\", th3)\n",
    "cv2.waitKey(0)\n",
    "cv2.destroyAllWindows() \n",
    "#cv2.imwrite('thresholded.png', th3)"
   ]
  },
  {
   "cell_type": "code",
   "execution_count": null,
   "id": "bd3666a7",
   "metadata": {},
   "outputs": [],
   "source": [
    "th3.shape"
   ]
  },
  {
   "cell_type": "code",
   "execution_count": null,
   "id": "7abdcb75",
   "metadata": {},
   "outputs": [],
   "source": [
    "features = np.reshape(th3, (1800*2880))\n",
    "\n",
    "features.shape, features"
   ]
  },
  {
   "cell_type": "code",
   "execution_count": null,
   "id": "0307c4ae",
   "metadata": {},
   "outputs": [],
   "source": [
    "features"
   ]
  },
  {
   "cell_type": "code",
   "execution_count": null,
   "id": "ab25de78",
   "metadata": {},
   "outputs": [],
   "source": [
    "np.mean(features)"
   ]
  },
  {
   "cell_type": "code",
   "execution_count": null,
   "id": "c42eebed",
   "metadata": {},
   "outputs": [],
   "source": [
    "plt.imshow(subtracted)\n",
    "plt.title('Second image: Digit 0', fontsize=15, pad=15)\n",
    "plt.savefig(\"Second image.png\")"
   ]
  },
  {
   "cell_type": "code",
   "execution_count": null,
   "id": "f890269a",
   "metadata": {},
   "outputs": [],
   "source": [
    "from sklearn.decomposition import PCA\n",
    "pca_784 = PCA(n_components=1000)\n",
    "pca_784.fit(subtracted)\n",
    "\n",
    "plt.grid()\n",
    "plt.plot(np.cumsum(pca_784.explained_variance_ratio_ * 100))\n",
    "plt.xlabel('Number of components')\n",
    "plt.ylabel('Explained variance')"
   ]
  },
  {
   "cell_type": "code",
   "execution_count": null,
   "id": "cecd7de1",
   "metadata": {},
   "outputs": [],
   "source": [
    "pca_10 = PCA(n_components=50)\n",
    "mnist_pca_10_reduced = pca_10.fit_transform(subtracted)\n",
    "mnist_pca_10_recovered = pca_10.inverse_transform(mnist_pca_10_reduced)\n",
    "\n",
    "#image_pca_10 = mnist_pca_10_recovered[1,:].reshape([1800,2880])\n",
    "plt.imshow(mnist_pca_10_recovered)\n",
    "plt.title('Compressed image with 10 components', fontsize=15, pad=15)"
   ]
  },
  {
   "cell_type": "code",
   "execution_count": null,
   "id": "8a260527",
   "metadata": {},
   "outputs": [],
   "source": [
    "mnist_pca_10_reduced.flatten().shape"
   ]
  },
  {
   "cell_type": "code",
   "execution_count": null,
   "id": "4f385c64",
   "metadata": {},
   "outputs": [],
   "source": [
    "subtracted.sum()"
   ]
  },
  {
   "cell_type": "code",
   "execution_count": null,
   "id": "c5cf5680",
   "metadata": {},
   "outputs": [],
   "source": [
    "th3.sum()"
   ]
  }
 ],
 "metadata": {
  "kernelspec": {
   "display_name": "Python 3 (ipykernel)",
   "language": "python",
   "name": "python3"
  },
  "language_info": {
   "codemirror_mode": {
    "name": "ipython",
    "version": 3
   },
   "file_extension": ".py",
   "mimetype": "text/x-python",
   "name": "python",
   "nbconvert_exporter": "python",
   "pygments_lexer": "ipython3",
   "version": "3.9.7"
  }
 },
 "nbformat": 4,
 "nbformat_minor": 5
}
