{
 "cells": [
  {
   "cell_type": "code",
   "execution_count": null,
   "metadata": {},
   "outputs": [],
   "source": [
    "import pandas as pd\n",
    "import seaborn as sns\n",
    "data = pd.read_excel('Age of filtered subjects.xlsx')\n",
    "# this data is of the filtered subjects by home/not-home and by single/multiple subjects in the video"
   ]
  },
  {
   "cell_type": "code",
   "execution_count": null,
   "metadata": {},
   "outputs": [],
   "source": [
    "data"
   ]
  },
  {
   "cell_type": "code",
   "execution_count": null,
   "metadata": {},
   "outputs": [],
   "source": [
    "age = data['Age']"
   ]
  },
  {
   "cell_type": "code",
   "execution_count": null,
   "metadata": {},
   "outputs": [],
   "source": [
    "plt.figure(figsize=(15,8))\n",
    "ax = sns.histplot(x='Age',data=data, bins=7)\n",
    "ax.set(xlabel='Age in months', ylabel='Frequency')\n",
    "plt.legend(fontsize=10, title='N=61')"
   ]
  },
  {
   "cell_type": "code",
   "execution_count": null,
   "metadata": {},
   "outputs": [],
   "source": [
    "plt.figure(figsize=(15,8))\n",
    "ax = sns.histplot(x='Age',data=data, bins=[10,20,30,40,50,60,70])\n",
    "ax.set(xlabel='Age in months', ylabel='Frequency')\n",
    "plt.legend(fontsize=10, title='N=61')"
   ]
  },
  {
   "cell_type": "code",
   "execution_count": null,
   "metadata": {},
   "outputs": [],
   "source": [
    "age.hist()"
   ]
  },
  {
   "cell_type": "code",
   "execution_count": null,
   "metadata": {},
   "outputs": [],
   "source": [
    "import numpy as np\n",
    "\n",
    "# code from https://github.com/AnalyticsInsightsNinja/PythonVisualAnalytics/blob/master/01_AV_Adavced_Histogram.ipynb\n",
    "# Plot the Histogram from the random data\n",
    "fig, ax = plt.subplots(figsize=(8,8))\n",
    "counts, bins, patches = ax.hist(age, bins=7, facecolor='mediumaquamarine', edgecolor='gray')\n",
    "\n",
    "ax.set_xticks(bins.round(2))\n",
    "plt.xticks(rotation=0)\n",
    "\n",
    "# Set the graph title and axes titles\n",
    "plt.title(\"Distribution of children's age in months\", fontsize=20)\n",
    "plt.ylabel('Frequency', fontsize=15)\n",
    "plt.xlabel('Age in months', fontsize=15)\n",
    "\n",
    "# Calculate bar centre to display the count of data points and %\n",
    "bin_x_centers = 0.5 * np.diff(bins) + bins[:-1]\n",
    "bin_y_centers = ax.get_yticks()[1] * 0.25\n",
    "\n",
    "#Display the the count of data points and % for each bar in histogram\n",
    "for i in range(len(bins)-1):\n",
    "    bin_label = \"{0:,}\".format(counts[i]) + \"  ({0:,.2f}%)\".format((counts[i]/counts.sum())*100)\n",
    "    plt.text(bin_x_centers[i], bin_y_centers, bin_label, rotation=90, rotation_mode='anchor')\n",
    "\n",
    "plt.legend(fontsize=10, title='N=61')\n"
   ]
  },
  {
   "cell_type": "code",
   "execution_count": null,
   "metadata": {},
   "outputs": [],
   "source": [
    "bins"
   ]
  }
 ],
 "metadata": {
  "kernelspec": {
   "display_name": "Python 3",
   "language": "python",
   "name": "python3"
  },
  "language_info": {
   "codemirror_mode": {
    "name": "ipython",
    "version": 3
   },
   "file_extension": ".py",
   "mimetype": "text/x-python",
   "name": "python",
   "nbconvert_exporter": "python",
   "pygments_lexer": "ipython3",
   "version": "3.8.5"
  }
 },
 "nbformat": 4,
 "nbformat_minor": 4
}
