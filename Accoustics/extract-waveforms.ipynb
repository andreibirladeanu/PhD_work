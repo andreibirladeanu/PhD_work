{
 "cells": [
  {
   "cell_type": "code",
   "execution_count": null,
   "id": "6931ff70",
   "metadata": {},
   "outputs": [],
   "source": [
    "from pydub import AudioSegment\n",
    "from pydub.playback import play\n",
    "from pydub import AudioSegment\n",
    "import numpy as np\n",
    "import os\n",
    "from surfboard.sound import Waveform\n",
    "import json\n",
    "import pyannote.core.json\n",
    "from pyannote.core import Segment, Timeline\n",
    "from surfboard.feature_extraction import extract_features\n",
    "from surfboard.feature_extraction import extract_features_from_waveform\n",
    "import pandas as pd  "
   ]
  },
  {
   "cell_type": "code",
   "execution_count": null,
   "id": "afecda7b",
   "metadata": {},
   "outputs": [],
   "source": [
    "os.chdir('/Users/andrei-macpro/Documents/Data/Audio/Embeddings/Meal/identification/speech_turns_cg')  #if string starts with slash it is considered absolute\n",
    "file_names=sorted([i for i in os.listdir(\".\") if not i.startswith(\".\")])"
   ]
  },
  {
   "cell_type": "code",
   "execution_count": null,
   "id": "a7c5ac6b",
   "metadata": {},
   "outputs": [],
   "source": [
    "# function that takes as input a list of file-names and outputs a list of pyannote timelines \n",
    "path = '/Users/andrei-macpro/Documents/Data/Audio/Embeddings/Meal/identification/speech_turns_cg'\n",
    "json_files = [pos_json for pos_json in sorted(os.listdir(path))]\n",
    "def get_timelines(json_files):\n",
    "    list_json=list()\n",
    "    list_timelines=list()\n",
    "    for filename in json_files: # loop that imports all json data into separate dictionaries\n",
    "        with open(filename) as json_file:\n",
    "            data = json.load(json_file)\n",
    "            list_json.append(data)\n",
    "    for file, segments in zip(json_files, list_json): # loop to iterate through the files and create a new timeline for each of them \n",
    "        timeline=Timeline()\n",
    "        list_timelines.append(timeline.from_json(segments))\n",
    "    return list_timelines"
   ]
  },
  {
   "cell_type": "code",
   "execution_count": null,
   "id": "613b177f",
   "metadata": {},
   "outputs": [],
   "source": [
    "indexes = [int(file.split('.')[0]) for file in file_names]"
   ]
  },
  {
   "cell_type": "code",
   "execution_count": null,
   "id": "6ec89928",
   "metadata": {},
   "outputs": [],
   "source": [
    "list_timelines=get_timelines(json_files)"
   ]
  },
  {
   "cell_type": "code",
   "execution_count": null,
   "id": "081627f9",
   "metadata": {},
   "outputs": [],
   "source": [
    "os.chdir('/Users/andrei-macpro/Documents/Data/Audio/overlapping_speech/no_os_meal')  #if string starts with slash it is considered absolute\n",
    "file_names=sorted([i for i in os.listdir(\".\") if not i.startswith(\".\")])"
   ]
  },
  {
   "cell_type": "code",
   "execution_count": null,
   "id": "64da20a5",
   "metadata": {},
   "outputs": [],
   "source": [
    "file_names = [i for i in file_names if int(i.split('_')[0]) in indexes]\n",
    "file_names"
   ]
  },
  {
   "cell_type": "code",
   "execution_count": null,
   "id": "9c029ae7",
   "metadata": {},
   "outputs": [],
   "source": [
    "trial = AudioSegment.from_wav('1043_meal.wav')"
   ]
  },
  {
   "cell_type": "code",
   "execution_count": null,
   "id": "d9c83077",
   "metadata": {},
   "outputs": [],
   "source": [
    "sound = Waveform('trial_1043.wav')"
   ]
  },
  {
   "cell_type": "code",
   "execution_count": null,
   "id": "fbddf39e",
   "metadata": {},
   "outputs": [],
   "source": [
    "trial2 = trial.export(\"trial_1047.wav\", format=\"wav\")"
   ]
  },
  {
   "cell_type": "code",
   "execution_count": null,
   "id": "25f82b55",
   "metadata": {},
   "outputs": [],
   "source": [
    "list_timelines[0]"
   ]
  },
  {
   "cell_type": "code",
   "execution_count": null,
   "id": "5350c7be",
   "metadata": {},
   "outputs": [],
   "source": [
    "waveforms = []\n",
    "for index, segments in enumerate(list_timelines[0]):\n",
    "    seg = (trial[segments.start*1000:segments.end*1000])\n",
    "    seg.export('seg.wav', format='wav')\n",
    "    waveforms.append(Waveform('seg.wav'))"
   ]
  },
  {
   "cell_type": "code",
   "execution_count": null,
   "id": "0f7051d0",
   "metadata": {},
   "outputs": [],
   "source": [
    "len(waveforms)"
   ]
  },
  {
   "cell_type": "code",
   "execution_count": null,
   "id": "08c5e4a0",
   "metadata": {},
   "outputs": [],
   "source": [
    "file_names, list_timelines"
   ]
  },
  {
   "cell_type": "code",
   "execution_count": null,
   "id": "02f86c6e",
   "metadata": {},
   "outputs": [],
   "source": [
    "len(list_timelines[0])"
   ]
  },
  {
   "cell_type": "code",
   "execution_count": null,
   "id": "5f0b9478",
   "metadata": {},
   "outputs": [],
   "source": [
    "trial = AudioSegment.from_wav('1043_meal_child.wav')\n",
    "trial[list_timelines[0][0].start*1000:list_timelines[0][0].end*1000].export('trial.wav', format=\"wav\")"
   ]
  },
  {
   "cell_type": "code",
   "execution_count": null,
   "id": "32d1446b",
   "metadata": {},
   "outputs": [],
   "source": [
    "sound = Waveform('trial.wav')"
   ]
  },
  {
   "cell_type": "code",
   "execution_count": null,
   "id": "e832efc6",
   "metadata": {},
   "outputs": [],
   "source": [
    "waveforms = []\n",
    "for file, timeline in zip(file_names, list_timelines):\n",
    "    trial = AudioSegment.from_wav(file)\n",
    "    temp_list=[]\n",
    "    for index, segments in enumerate(timeline):\n",
    "        \n",
    "        seg = (trial[segments.start*1000:segments.end*1000])\n",
    "        seg.export('seg.wav', format='wav')\n",
    "        try:\n",
    "            temp_list.append(Waveform('seg.wav'))\n",
    "        except Exception:\n",
    "            pass\n",
    "        print(index,file)\n",
    "    waveforms.append(temp_list)\n",
    "        "
   ]
  },
  {
   "cell_type": "code",
   "execution_count": null,
   "id": "2681cf81",
   "metadata": {},
   "outputs": [],
   "source": [
    "len(waveforms[0])"
   ]
  },
  {
   "cell_type": "code",
   "execution_count": null,
   "id": "6c8c40ff",
   "metadata": {},
   "outputs": [],
   "source": [
    "components = ['mfcc', 'zerocrossing', 'rms', 'f0_contour']\n",
    "statistics = ['mean', 'first_derivative_mean', 'std']\n",
    "\n",
    "\n",
    "     \n",
    "# Extract dataframe...\n",
    "feature_df = extract_features(\n",
    "    waveforms=[waveforms[0][0]], components_list=components, statistics_list=statistics\n",
    ")"
   ]
  },
  {
   "cell_type": "code",
   "execution_count": null,
   "id": "cc4448f4",
   "metadata": {},
   "outputs": [],
   "source": [
    "features = []\n",
    "for participant in waveforms:\n",
    "    temp_list=[]\n",
    "    for waveform in participant:\n",
    "        temp_list.append(extract_features_from_waveform(components, statistics, waveform))\n",
    "    features.append(temp_list)"
   ]
  },
  {
   "cell_type": "code",
   "execution_count": null,
   "id": "b635f757",
   "metadata": {},
   "outputs": [],
   "source": [
    "features[0][0].keys()"
   ]
  },
  {
   "cell_type": "code",
   "execution_count": null,
   "id": "8b52bb09",
   "metadata": {},
   "outputs": [],
   "source": [
    "\n",
    "pd.Series(features[0][0]).to_frame()"
   ]
  },
  {
   "cell_type": "code",
   "execution_count": null,
   "id": "19c68890",
   "metadata": {},
   "outputs": [],
   "source": [
    "df = pd.DataFrame(features[0])  "
   ]
  },
  {
   "cell_type": "code",
   "execution_count": null,
   "id": "b5e89452",
   "metadata": {},
   "outputs": [],
   "source": [
    "df"
   ]
  },
  {
   "cell_type": "code",
   "execution_count": null,
   "id": "dac126fa",
   "metadata": {},
   "outputs": [],
   "source": [
    "dfs = []\n",
    "for participant, index in zip(features, indexes):\n",
    "    dfs.append(pd.DataFrame(participant))"
   ]
  },
  {
   "cell_type": "code",
   "execution_count": null,
   "id": "d06f1912",
   "metadata": {},
   "outputs": [],
   "source": [
    "for ind in indexes:\n",
    "    dfs[indexes.index(ind)]['s_id'] = ind\n",
    "\n",
    "dfs[0]\n"
   ]
  },
  {
   "cell_type": "code",
   "execution_count": null,
   "id": "f1790e12",
   "metadata": {},
   "outputs": [],
   "source": [
    "for df in range(len(dfs)):\n",
    "    dfs[df] = dfs[df].set_index('s_id')\n",
    "\n",
    "dfs[0]"
   ]
  },
  {
   "cell_type": "code",
   "execution_count": null,
   "id": "7320e58a",
   "metadata": {},
   "outputs": [],
   "source": [
    "os.chdir('/Users/andrei-macpro/Documents/Data/Results/Accoustics/cg_meal_surfboard')"
   ]
  },
  {
   "cell_type": "code",
   "execution_count": null,
   "id": "746bb7f5",
   "metadata": {},
   "outputs": [],
   "source": [
    "for df, ind in zip(dfs, indexes):\n",
    "    df.to_csv(str(ind)+'.csv')"
   ]
  }
 ],
 "metadata": {
  "kernelspec": {
   "display_name": "Python 3 (ipykernel)",
   "language": "python",
   "name": "python3"
  },
  "language_info": {
   "codemirror_mode": {
    "name": "ipython",
    "version": 3
   },
   "file_extension": ".py",
   "mimetype": "text/x-python",
   "name": "python",
   "nbconvert_exporter": "python",
   "pygments_lexer": "ipython3",
   "version": "3.8.10"
  }
 },
 "nbformat": 4,
 "nbformat_minor": 5
}
