{
 "cells": [
  {
   "cell_type": "code",
   "execution_count": null,
   "id": "3bae72df",
   "metadata": {},
   "outputs": [],
   "source": [
    "import numpy as np\n",
    "from pyannote.core import Segment, Timeline\n",
    "import os\n",
    "from sklearn.cluster import KMeans\n",
    "import pandas as pd\n",
    "import json\n",
    "import pyannote.core.json\n",
    "from numpy import genfromtxt\n",
    "from sklearn.cluster import KMeans\n",
    "from pydub import AudioSegment\n",
    "from pydub.playback import play\n",
    "from pydub import AudioSegment"
   ]
  },
  {
   "cell_type": "code",
   "execution_count": null,
   "id": "426336fb",
   "metadata": {},
   "outputs": [],
   "source": [
    "os.chdir('/Users/andrei-macpro/Documents/Data/Audio/Embeddings/Meal/Timestamps' )\n",
    "file_names=sorted([i for i in os.listdir(\".\") if not i.startswith(\".\")])"
   ]
  },
  {
   "cell_type": "code",
   "execution_count": null,
   "id": "1dfc8dde",
   "metadata": {},
   "outputs": [],
   "source": [
    "# import the complete file timestamps (from 0 to file end)\n",
    "json_timelines=list()\n",
    "for file in file_names:\n",
    "    json_timelines.append(pyannote.core.json.load_from(file))"
   ]
  },
  {
   "cell_type": "code",
   "execution_count": null,
   "id": "9da551eb",
   "metadata": {},
   "outputs": [],
   "source": [
    "# import the embedding vectors \n",
    "os.chdir( '/Users/andrei-macpro/Documents/Data/Audio/Embeddings/Meal/Embeddings' )\n",
    "file_names=sorted([i for i in os.listdir(\".\") if not i.startswith(\".\")])\n",
    "embeddings=list()\n",
    "for file in file_names:\n",
    "    embeddings.append(genfromtxt(file, delimiter=','))"
   ]
  },
  {
   "cell_type": "code",
   "execution_count": null,
   "id": "820bb44f",
   "metadata": {},
   "outputs": [],
   "source": [
    "# run k means \n",
    "kmeans = KMeans(n_clusters=4)\n",
    "predictions = list()\n",
    "for file in embeddings:       \n",
    "    labels = kmeans.fit_predict(file)\n",
    "    predictions.append(labels)"
   ]
  },
  {
   "cell_type": "code",
   "execution_count": null,
   "id": "cd136ca6",
   "metadata": {},
   "outputs": [],
   "source": [
    "# tuple of 1-s second and its corresponding label \n",
    "list_of_tuples=[]\n",
    "temp_list=[]\n",
    "for prediction, timeline in zip(predictions, json_timelines):\n",
    "    for label, segment in zip(prediction, timeline):\n",
    "        temp_list.append(((label,segment)))\n",
    "    list_of_tuples.append(temp_list)\n",
    "    temp_list=[]\n",
    "    "
   ]
  },
  {
   "cell_type": "code",
   "execution_count": null,
   "id": "7e001a75",
   "metadata": {},
   "outputs": [],
   "source": [
    "os.chdir('/Users/andrei-macpro/Documents/Data/Audio/overlapping_speech/no_os_meal')  #if string starts with slash it is considered absolute\n",
    "file_names=sorted([i for i in os.listdir(\".\") if not i.startswith(\".\")])"
   ]
  },
  {
   "cell_type": "code",
   "execution_count": null,
   "id": "ac861798",
   "metadata": {},
   "outputs": [],
   "source": [
    "# make new timelines from clusters \n",
    "def timelines_from_clusters(list_of_tuples,cluster_no):\n",
    "    timelines_from_clusters = []\n",
    "    for file in list_of_tuples:\n",
    "        temp_list=[]\n",
    "        for cluster_seg in file:\n",
    "            if cluster_seg[0]==cluster_no:\n",
    "                temp_list.append(cluster_seg[1])\n",
    "        timelines_from_clusters.append(temp_list)\n",
    "        \n",
    "    return timelines_from_clusters\n"
   ]
  },
  {
   "cell_type": "code",
   "execution_count": null,
   "id": "40cbcacf",
   "metadata": {},
   "outputs": [],
   "source": [
    "clusters_0 = timelines_from_clusters(list_of_tuples,0)\n",
    "clusters_1 = timelines_from_clusters(list_of_tuples,1)\n",
    "clusters_2 = timelines_from_clusters(list_of_tuples,2)\n",
    "clusters_3 = timelines_from_clusters(list_of_tuples,3)\n"
   ]
  },
  {
   "cell_type": "code",
   "execution_count": null,
   "id": "07a1e590",
   "metadata": {},
   "outputs": [],
   "source": [
    "clusters_0 = [e for e in clusters_0 if e not in (clusters_0[2], clusters_0[11], clusters_0[53])]\n",
    "clusters_1 = [e for e in clusters_1 if e not in (clusters_1[2], clusters_1[11], clusters_1[53])]\n",
    "clusters_2 = [e for e in clusters_2 if e not in (clusters_2[2], clusters_2[11], clusters_2[53])]\n",
    "clusters_3 = [e for e in clusters_3 if e not in (clusters_3[2], clusters_3[11], clusters_3[53])]"
   ]
  },
  {
   "cell_type": "code",
   "execution_count": null,
   "id": "9e7f89a9",
   "metadata": {},
   "outputs": [],
   "source": [
    "file_names = [file[0:4] for file in file_names]\n",
    "file_names= [int(e) for e in file_names if e not in (file_names[2], file_names[11], file_names[53])]"
   ]
  },
  {
   "cell_type": "code",
   "execution_count": null,
   "id": "78fcb447",
   "metadata": {},
   "outputs": [],
   "source": [
    "clusters_0[3] = sorted(clusters_0[3] + clusters_1[12] + clusters_3[3])\n",
    "clusters_0[4] = sorted(clusters_0[4] + clusters_3[4])\n",
    "clusters_0[9] = sorted(clusters_0[9] + clusters_2[9])\n",
    "clusters_0[23] = sorted(clusters_0[23] + clusters_3[23])\n",
    "clusters_0[24] = sorted(clusters_0[24] + clusters_1[24]+clusters_3[24])\n",
    "clusters_0[25] = sorted(clusters_0[25] + clusters_3[25])\n",
    "clusters_0[32] = sorted(clusters_0[32] + clusters_1[32])\n",
    "clusters_0[41] = sorted(clusters_0[41] + clusters_2[41])\n",
    "clusters_0[45] = sorted(clusters_0[45] + clusters_1[45])\n",
    "clusters_0[46] = sorted(clusters_0[46] + clusters_3[46])\n",
    "clusters_0[48] = sorted(clusters_0[48] + clusters_2[48])\n"
   ]
  },
  {
   "cell_type": "code",
   "execution_count": null,
   "id": "d0aed912",
   "metadata": {},
   "outputs": [],
   "source": [
    "clusters_1[1] = sorted(clusters_1[1] + clusters_2[1])\n",
    "clusters_1[1] = sorted(clusters_1[1] + clusters_2[1])\n",
    "clusters_1[5] = sorted(clusters_1[5] + clusters_2[5])\n",
    "clusters_1[8] = sorted(clusters_1[8] + clusters_2[8])\n",
    "clusters_1[1] = sorted(clusters_1[1] + clusters_2[1])\n",
    "clusters_1[29] = sorted(clusters_1[29] + clusters_3[29])\n",
    "clusters_1[1] = sorted(clusters_1[1] + clusters_2[1])\n",
    "clusters_1[51] = sorted(clusters_1[51] + clusters_3[51])\n",
    "clusters_1[52] = sorted(clusters_1[52] + clusters_2[52])\n",
    "\n",
    "\n",
    "\n",
    "\n",
    "\n"
   ]
  },
  {
   "cell_type": "code",
   "execution_count": null,
   "id": "d516024b",
   "metadata": {},
   "outputs": [],
   "source": [
    "cg_0 = [e for e in clusters_0 if e in (clusters_0[3], clusters_0[4], clusters_0[9],clusters_0[10], clusters_0[11], clusters_0[18],\n",
    "       clusters_0[21], clusters_0[23], clusters_0[24], clusters_0[25], clusters_0[32], clusters_0[33],\n",
    "       clusters_0[40], clusters_0[41], clusters_0[45], clusters_0[46],  clusters_0[48], clusters_0[54], clusters_0[56])]"
   ]
  },
  {
   "cell_type": "code",
   "execution_count": null,
   "id": "f9ea22c8",
   "metadata": {},
   "outputs": [],
   "source": [
    "cg_1 = [e for e in clusters_1 if e in (clusters_1[1], clusters_1[5], clusters_1[6], clusters_1[8],clusters_1[16],\n",
    "                                       clusters_1[17], clusters_1[19], clusters_1[20], clusters_1[29], clusters_1[36],\n",
    "                                       clusters_1[44], clusters_1[47], clusters_1[51], clusters_1[52], clusters_1[57])]"
   ]
  },
  {
   "cell_type": "code",
   "execution_count": null,
   "id": "382ade98",
   "metadata": {},
   "outputs": [],
   "source": [
    "cg_2 = [e for e in clusters_2 if e in (clusters_2[2], clusters_2[7], clusters_2[13], \n",
    "                                       clusters_2[14], clusters_2[27], clusters_2[35], \n",
    "                                       clusters_2[42], clusters_2[53], clusters_2[55])]"
   ]
  },
  {
   "cell_type": "code",
   "execution_count": null,
   "id": "feae9bbb",
   "metadata": {},
   "outputs": [],
   "source": [
    "cg_3 = [e for e in clusters_3 if e in (clusters_3[0], clusters_3[16], \n",
    "                                       clusters_3[50], clusters_3[49], \n",
    "                                       clusters_3[43], clusters_3[39], \n",
    "                                       clusters_3[38], clusters_3[37], \n",
    "                                       clusters_3[34], clusters_3[31], \n",
    "                                       clusters_3[30], clusters_3[26])]"
   ]
  },
  {
   "cell_type": "code",
   "execution_count": null,
   "id": "b7b405cb",
   "metadata": {},
   "outputs": [],
   "source": [
    "index_cg_0 = [1059, 1062, 1082, 1091, 1092, 1105, 1112, 1118, 1122, 1124, 1146, 1148, 1188, 1190, 1217, 1230, \n",
    "             1241, 1282, 2025]"
   ]
  },
  {
   "cell_type": "code",
   "execution_count": null,
   "id": "2284d09e",
   "metadata": {},
   "outputs": [],
   "source": [
    "len(index_cg_0), len(cg_0)"
   ]
  },
  {
   "cell_type": "code",
   "execution_count": null,
   "id": "b69fb9bd",
   "metadata": {},
   "outputs": [],
   "source": [
    "index_cg_1 = [1047,1069, 1073, 1080, 1099, 1104, 1107, 1108, 1131, 1180, 1210, 1234, 1263, 1264, 2027]"
   ]
  },
  {
   "cell_type": "code",
   "execution_count": null,
   "id": "5e929730",
   "metadata": {},
   "outputs": [],
   "source": [
    "len(index_cg_1), len(cg_1)"
   ]
  },
  {
   "cell_type": "code",
   "execution_count": null,
   "id": "1da3366f",
   "metadata": {},
   "outputs": [],
   "source": [
    "index_cg_2 = [1053, 1079, 1096, 1097, 1129, 1170, 1195, 1269, 2009]"
   ]
  },
  {
   "cell_type": "code",
   "execution_count": null,
   "id": "8fb3ffd5",
   "metadata": {},
   "outputs": [],
   "source": [
    "len(index_cg_2), len(cg_2)"
   ]
  },
  {
   "cell_type": "code",
   "execution_count": null,
   "id": "0f806d33",
   "metadata": {},
   "outputs": [],
   "source": [
    "index_cg_3 = [1043, 1098, 1125, 1132, 1134, 1161, 1181, 1184, 1186, 1206, 1245, 1246]"
   ]
  },
  {
   "cell_type": "code",
   "execution_count": null,
   "id": "55f37a95",
   "metadata": {},
   "outputs": [],
   "source": [
    "len(index_cg_3), len(cg_3)"
   ]
  },
  {
   "cell_type": "code",
   "execution_count": null,
   "id": "b94803e5",
   "metadata": {},
   "outputs": [],
   "source": [
    "cg_speech_0 = []\n",
    "for index, caregiver in zip(index_cg_0, cg_0,):\n",
    "    cg_speech_0.append((index,caregiver))\n",
    "cg_speech_0"
   ]
  },
  {
   "cell_type": "code",
   "execution_count": null,
   "id": "6ad1b798",
   "metadata": {},
   "outputs": [],
   "source": [
    "cg_speech_1 = []\n",
    "for index, caregiver in zip(index_cg_1, cg_1,):\n",
    "    cg_speech_1.append((index,caregiver))\n",
    "cg_speech_1"
   ]
  },
  {
   "cell_type": "code",
   "execution_count": null,
   "id": "d7677c77",
   "metadata": {},
   "outputs": [],
   "source": [
    "cg_speech_2 = []\n",
    "for index, caregiver in zip(index_cg_2, cg_2):\n",
    "    cg_speech_2.append((index,caregiver))\n",
    "cg_speech_2"
   ]
  },
  {
   "cell_type": "code",
   "execution_count": null,
   "id": "15e8e6d6",
   "metadata": {},
   "outputs": [],
   "source": [
    " cg_speech_3 = []\n",
    "for index, caregiver in zip(index_cg_3, cg_3):\n",
    "    cg_speech_3.append((index,caregiver))\n",
    "cg_speech_3"
   ]
  },
  {
   "cell_type": "code",
   "execution_count": null,
   "id": "9e759664",
   "metadata": {},
   "outputs": [],
   "source": [
    "len(cg_speech_0) + len(cg_speech_1) + len(cg_speech_2) + len(cg_speech_3)"
   ]
  },
  {
   "cell_type": "code",
   "execution_count": null,
   "id": "9918e9d6",
   "metadata": {},
   "outputs": [],
   "source": [
    "cg_segments = sorted(cg_speech_0 + cg_speech_1 + cg_speech_2 + cg_speech_3)"
   ]
  },
  {
   "cell_type": "code",
   "execution_count": null,
   "id": "54d75ad3",
   "metadata": {},
   "outputs": [],
   "source": [
    "timelines_list = []\n",
    "\n",
    "\n",
    "for index, segments in cg_segments:\n",
    "    segment_holder =[]\n",
    "    timeline = Timeline(segments=[s for s in segments], uri = str(index))\n",
    "    timelines_list.append(timeline)\n",
    "        \n",
    "    "
   ]
  },
  {
   "cell_type": "code",
   "execution_count": null,
   "id": "49dbbfc1",
   "metadata": {},
   "outputs": [],
   "source": [
    "os.chdir('/Users/andrei-macpro/Documents/Data/Audio/Embeddings/Meal/identification/speech_turns_cg')  #if string starts with slash it is considered absolute\n"
   ]
  },
  {
   "cell_type": "code",
   "execution_count": null,
   "id": "66ad9fd4",
   "metadata": {},
   "outputs": [],
   "source": [
    "for timeline in timelines_list:\n",
    "    pyannote.core.json.dump_to(timeline, timeline.uri+\".json\")"
   ]
  }
 ],
 "metadata": {
  "kernelspec": {
   "display_name": "Python 3 (ipykernel)",
   "language": "python",
   "name": "python3"
  },
  "language_info": {
   "codemirror_mode": {
    "name": "ipython",
    "version": 3
   },
   "file_extension": ".py",
   "mimetype": "text/x-python",
   "name": "python",
   "nbconvert_exporter": "python",
   "pygments_lexer": "ipython3",
   "version": "3.8.10"
  }
 },
 "nbformat": 4,
 "nbformat_minor": 5
}
