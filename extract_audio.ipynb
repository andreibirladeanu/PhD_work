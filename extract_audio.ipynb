{
 "cells": [
  {
   "cell_type": "code",
   "execution_count": 2,
   "metadata": {
    "collapsed": true
   },
   "outputs": [
    {
     "name": "stdout",
     "output_type": "stream",
     "text": [
      "Collecting moviepy\n",
      "  Downloading moviepy-1.0.3.tar.gz (388 kB)\n",
      "\u001b[K     |████████████████████████████████| 388 kB 1.8 MB/s eta 0:00:01\n",
      "\u001b[?25hRequirement already satisfied: decorator<5.0,>=4.0.2 in /Users/Andrei/anaconda3/envs/surfboard/lib/python3.8/site-packages (from moviepy) (4.4.2)\n",
      "Requirement already satisfied: tqdm<5.0,>=4.11.2 in /Users/Andrei/anaconda3/envs/surfboard/lib/python3.8/site-packages (from moviepy) (4.48.2)\n",
      "Requirement already satisfied: requests<3.0,>=2.8.1 in /Users/Andrei/anaconda3/envs/surfboard/lib/python3.8/site-packages (from moviepy) (2.24.0)\n",
      "Collecting proglog<=1.0.0\n",
      "  Downloading proglog-0.1.9.tar.gz (10 kB)\n",
      "Requirement already satisfied: numpy>=1.17.3 in /Users/Andrei/anaconda3/envs/surfboard/lib/python3.8/site-packages (from moviepy) (1.19.2)\n",
      "Collecting imageio<3.0,>=2.5\n",
      "  Downloading imageio-2.9.0-py3-none-any.whl (3.3 MB)\n",
      "\u001b[K     |████████████████████████████████| 3.3 MB 15.1 MB/s eta 0:00:01\n",
      "\u001b[?25hCollecting imageio_ffmpeg>=0.2.0\n",
      "  Downloading imageio_ffmpeg-0.4.2-py3-none-macosx_10_9_intel.macosx_10_9_x86_64.macosx_10_10_intel.macosx_10_10_x86_64.whl (22.5 MB)\n",
      "\u001b[K     |████████████████████████████████| 22.5 MB 1.9 MB/s eta 0:00:01\n",
      "\u001b[?25hRequirement already satisfied: certifi>=2017.4.17 in /Users/Andrei/anaconda3/envs/surfboard/lib/python3.8/site-packages (from requests<3.0,>=2.8.1->moviepy) (2020.6.20)\n",
      "Requirement already satisfied: urllib3!=1.25.0,!=1.25.1,<1.26,>=1.21.1 in /Users/Andrei/anaconda3/envs/surfboard/lib/python3.8/site-packages (from requests<3.0,>=2.8.1->moviepy) (1.25.10)\n",
      "Requirement already satisfied: chardet<4,>=3.0.2 in /Users/Andrei/anaconda3/envs/surfboard/lib/python3.8/site-packages (from requests<3.0,>=2.8.1->moviepy) (3.0.4)\n",
      "Requirement already satisfied: idna<3,>=2.5 in /Users/Andrei/anaconda3/envs/surfboard/lib/python3.8/site-packages (from requests<3.0,>=2.8.1->moviepy) (2.10)\n",
      "Requirement already satisfied: pillow in /Users/Andrei/anaconda3/envs/surfboard/lib/python3.8/site-packages (from imageio<3.0,>=2.5->moviepy) (8.0.1)\n",
      "Building wheels for collected packages: moviepy, proglog\n",
      "  Building wheel for moviepy (setup.py) ... \u001b[?25ldone\n",
      "\u001b[?25h  Created wheel for moviepy: filename=moviepy-1.0.3-py3-none-any.whl size=110724 sha256=6018aca89a99827fb8a1f3f5ca2aa4bd33cdd9a177957d6da19fcd7163334076\n",
      "  Stored in directory: /Users/Andrei/Library/Caches/pip/wheels/e4/a4/db/0368d3a04033da662e13926594b3a8cf1aa4ffeefe570cfac1\n",
      "  Building wheel for proglog (setup.py) ... \u001b[?25ldone\n",
      "\u001b[?25h  Created wheel for proglog: filename=proglog-0.1.9-py3-none-any.whl size=6147 sha256=9e7bc916a45c4e165c90247874b9d52b1977a6a336a068eabffed08438ad9422\n",
      "  Stored in directory: /Users/Andrei/Library/Caches/pip/wheels/22/82/ff/56950e4b223a69eda3a2bdeaef2ae4b274c3d1ced9b5814c99\n",
      "Successfully built moviepy proglog\n",
      "Installing collected packages: proglog, imageio, imageio-ffmpeg, moviepy\n",
      "Successfully installed imageio-2.9.0 imageio-ffmpeg-0.4.2 moviepy-1.0.3 proglog-0.1.9\n",
      "Note: you may need to restart the kernel to use updated packages.\n"
     ]
    }
   ],
   "source": [
    "pip install moviepy"
   ]
  },
  {
   "cell_type": "code",
   "execution_count": 3,
   "metadata": {
    "collapsed": true
   },
   "outputs": [],
   "source": [
    "from moviepy.editor import *"
   ]
  },
  {
   "cell_type": "code",
   "execution_count": 58,
   "metadata": {},
   "outputs": [],
   "source": [
    "path = \"/Volumes/Ashur Pro2/Videos/Trimmed\"  #if string starts with slash it is considered absolute\n",
    "dirs = os.listdir( path )\n",
    "file_names = [i for i in os.listdir(\".\") if not i.startswith(\".\")]"
   ]
  },
  {
   "cell_type": "code",
   "execution_count": 61,
   "metadata": {},
   "outputs": [],
   "source": [
    "# get names of the files for audio output\n",
    "audio_names = [x.replace('mp4','wav') for x in file_names]"
   ]
  },
  {
   "cell_type": "code",
   "execution_count": 62,
   "metadata": {},
   "outputs": [],
   "source": [
    "# list in which to keep the audioclips objects\n",
    "audio=list()"
   ]
  },
  {
   "cell_type": "code",
   "execution_count": 38,
   "metadata": {
    "collapsed": true
   },
   "outputs": [
    {
     "data": {
      "text/plain": [
       "['1043_meal.mp4',\n",
       " '1043_play.mp4',\n",
       " '1047_play.mp4',\n",
       " '1047_meal.mp4',\n",
       " '1049_play.mp4',\n",
       " '1049_meal.mp4',\n",
       " '1053_play.mp4',\n",
       " '1053_meal.mp4',\n",
       " '1059_play.mp4',\n",
       " '1059_meal.mp4',\n",
       " '1062_play.mp4',\n",
       " '1062_meal.mp4',\n",
       " '1069_play.mp4',\n",
       " '1069_meal.mp4',\n",
       " '1073_play.mp4',\n",
       " '1073_meal.mp4',\n",
       " '1079_play.mp4',\n",
       " '1079_meal.mp4',\n",
       " '1080_play.mp4',\n",
       " '1080_meal.mp4',\n",
       " '1082_play.mp4',\n",
       " '1082_meal.mp4',\n",
       " '1089_play.mp4',\n",
       " '1089_meal.mp4',\n",
       " '1091_play.mp4',\n",
       " '1091_meal.mp4',\n",
       " '1092_play.mp4',\n",
       " '1092_meal.mp4',\n",
       " '1093_play.mp4',\n",
       " '1093_meal.mp4',\n",
       " '1096_play.mp4',\n",
       " '1096_meal.mp4',\n",
       " '1097_play.mp4',\n",
       " '1097_meal.mp4',\n",
       " '1098_play.mp4',\n",
       " '1098_meal.mp4',\n",
       " '1099_play.mp4',\n",
       " '1099_meal.mp4',\n",
       " '1104_play.mp4',\n",
       " '1104_meal.mp4',\n",
       " '1105_play.mp4',\n",
       " '1105_meal.mp4',\n",
       " '1107_play.mp4',\n",
       " '1107_meal.mp4',\n",
       " '1108_play.mp4',\n",
       " '1108_meal.mp4',\n",
       " '1112_play.mp4',\n",
       " '1112_meal.mp4',\n",
       " '1117_play.mp4',\n",
       " '1117_meal.mp4',\n",
       " '1118_play.mp4',\n",
       " '1118_meal.mp4',\n",
       " '1122_play.mp4',\n",
       " '1122_meal.mp4',\n",
       " '1124_play.mp4',\n",
       " '1124_meal.mp4',\n",
       " '1125_play.mp4',\n",
       " '1125_meal.mp4']"
      ]
     },
     "execution_count": 38,
     "metadata": {},
     "output_type": "execute_result"
    }
   ],
   "source": [
    "file_names"
   ]
  },
  {
   "cell_type": "code",
   "execution_count": 47,
   "metadata": {
    "collapsed": true
   },
   "outputs": [
    {
     "name": "stdout",
     "output_type": "stream",
     "text": [
      "/Volumes/Ashur Pro2/Videos/Trimmed\n"
     ]
    }
   ],
   "source": [
    "cd \"/Volumes/Ashur Pro2/Videos/Trimmed\""
   ]
  },
  {
   "cell_type": "code",
   "execution_count": 63,
   "metadata": {},
   "outputs": [],
   "source": [
    "#append the audioclip objects here\n",
    "for fname in file_names:\n",
    "    audio.append(AudioFileClip(fname))"
   ]
  },
  {
   "cell_type": "code",
   "execution_count": 64,
   "metadata": {
    "collapsed": true
   },
   "outputs": [
    {
     "data": {
      "text/plain": [
       "[<moviepy.audio.io.AudioFileClip.AudioFileClip at 0x7ff212299a00>,\n",
       " <moviepy.audio.io.AudioFileClip.AudioFileClip at 0x7ff212299a90>,\n",
       " <moviepy.audio.io.AudioFileClip.AudioFileClip at 0x7ff2122998b0>,\n",
       " <moviepy.audio.io.AudioFileClip.AudioFileClip at 0x7ff220586520>,\n",
       " <moviepy.audio.io.AudioFileClip.AudioFileClip at 0x7ff212279bb0>,\n",
       " <moviepy.audio.io.AudioFileClip.AudioFileClip at 0x7ff21d3463a0>,\n",
       " <moviepy.audio.io.AudioFileClip.AudioFileClip at 0x7ff212299e20>,\n",
       " <moviepy.audio.io.AudioFileClip.AudioFileClip at 0x7ff2122994c0>,\n",
       " <moviepy.audio.io.AudioFileClip.AudioFileClip at 0x7ff212299e50>,\n",
       " <moviepy.audio.io.AudioFileClip.AudioFileClip at 0x7ff212299520>,\n",
       " <moviepy.audio.io.AudioFileClip.AudioFileClip at 0x7ff212299d00>,\n",
       " <moviepy.audio.io.AudioFileClip.AudioFileClip at 0x7ff2122830a0>,\n",
       " <moviepy.audio.io.AudioFileClip.AudioFileClip at 0x7ff212283550>,\n",
       " <moviepy.audio.io.AudioFileClip.AudioFileClip at 0x7ff2122837f0>,\n",
       " <moviepy.audio.io.AudioFileClip.AudioFileClip at 0x7ff2122835e0>,\n",
       " <moviepy.audio.io.AudioFileClip.AudioFileClip at 0x7ff212283f40>,\n",
       " <moviepy.audio.io.AudioFileClip.AudioFileClip at 0x7ff212283fd0>,\n",
       " <moviepy.audio.io.AudioFileClip.AudioFileClip at 0x7ff212283be0>,\n",
       " <moviepy.audio.io.AudioFileClip.AudioFileClip at 0x7ff212283ee0>,\n",
       " <moviepy.audio.io.AudioFileClip.AudioFileClip at 0x7ff212283eb0>,\n",
       " <moviepy.audio.io.AudioFileClip.AudioFileClip at 0x7ff1fbb6d040>,\n",
       " <moviepy.audio.io.AudioFileClip.AudioFileClip at 0x7ff1fbb6d100>,\n",
       " <moviepy.audio.io.AudioFileClip.AudioFileClip at 0x7ff1fbb6d1f0>,\n",
       " <moviepy.audio.io.AudioFileClip.AudioFileClip at 0x7ff1fbb6d310>,\n",
       " <moviepy.audio.io.AudioFileClip.AudioFileClip at 0x7ff1fbb6d430>,\n",
       " <moviepy.audio.io.AudioFileClip.AudioFileClip at 0x7ff1fbb6d550>,\n",
       " <moviepy.audio.io.AudioFileClip.AudioFileClip at 0x7ff1fbb6d670>,\n",
       " <moviepy.audio.io.AudioFileClip.AudioFileClip at 0x7ff1fbb6d790>,\n",
       " <moviepy.audio.io.AudioFileClip.AudioFileClip at 0x7ff1fbb6d8b0>,\n",
       " <moviepy.audio.io.AudioFileClip.AudioFileClip at 0x7ff1fbb6d9d0>,\n",
       " <moviepy.audio.io.AudioFileClip.AudioFileClip at 0x7ff1fbb6daf0>,\n",
       " <moviepy.audio.io.AudioFileClip.AudioFileClip at 0x7ff1fbb6dc10>,\n",
       " <moviepy.audio.io.AudioFileClip.AudioFileClip at 0x7ff1fbb6dd30>,\n",
       " <moviepy.audio.io.AudioFileClip.AudioFileClip at 0x7ff1fbb6dee0>,\n",
       " <moviepy.audio.io.AudioFileClip.AudioFileClip at 0x7ff1fbb73190>,\n",
       " <moviepy.audio.io.AudioFileClip.AudioFileClip at 0x7ff1fbb730d0>,\n",
       " <moviepy.audio.io.AudioFileClip.AudioFileClip at 0x7ff1fbb731f0>,\n",
       " <moviepy.audio.io.AudioFileClip.AudioFileClip at 0x7ff1fbb73310>,\n",
       " <moviepy.audio.io.AudioFileClip.AudioFileClip at 0x7ff1fbb73460>,\n",
       " <moviepy.audio.io.AudioFileClip.AudioFileClip at 0x7ff1fbb73880>,\n",
       " <moviepy.audio.io.AudioFileClip.AudioFileClip at 0x7ff1fbb736d0>,\n",
       " <moviepy.audio.io.AudioFileClip.AudioFileClip at 0x7ff1fbb737f0>,\n",
       " <moviepy.audio.io.AudioFileClip.AudioFileClip at 0x7ff1fbb73910>,\n",
       " <moviepy.audio.io.AudioFileClip.AudioFileClip at 0x7ff1fbb73a30>,\n",
       " <moviepy.audio.io.AudioFileClip.AudioFileClip at 0x7ff1fbb73b50>,\n",
       " <moviepy.audio.io.AudioFileClip.AudioFileClip at 0x7ff1fbb73c70>,\n",
       " <moviepy.audio.io.AudioFileClip.AudioFileClip at 0x7ff1fbb73d90>,\n",
       " <moviepy.audio.io.AudioFileClip.AudioFileClip at 0x7ff1fbb73f40>,\n",
       " <moviepy.audio.io.AudioFileClip.AudioFileClip at 0x7ff1fbb7c070>,\n",
       " <moviepy.audio.io.AudioFileClip.AudioFileClip at 0x7ff1fbb7c130>,\n",
       " <moviepy.audio.io.AudioFileClip.AudioFileClip at 0x7ff1fbb7c280>,\n",
       " <moviepy.audio.io.AudioFileClip.AudioFileClip at 0x7ff1fbb7c3d0>,\n",
       " <moviepy.audio.io.AudioFileClip.AudioFileClip at 0x7ff1fbb7c520>,\n",
       " <moviepy.audio.io.AudioFileClip.AudioFileClip at 0x7ff1fbb7c670>,\n",
       " <moviepy.audio.io.AudioFileClip.AudioFileClip at 0x7ff1fbb7c7c0>,\n",
       " <moviepy.audio.io.AudioFileClip.AudioFileClip at 0x7ff1fbb7c910>,\n",
       " <moviepy.audio.io.AudioFileClip.AudioFileClip at 0x7ff1fbb7ca60>,\n",
       " <moviepy.audio.io.AudioFileClip.AudioFileClip at 0x7ff1fbb7cbb0>]"
      ]
     },
     "execution_count": 64,
     "metadata": {},
     "output_type": "execute_result"
    }
   ],
   "source": [
    "audio"
   ]
  },
  {
   "cell_type": "code",
   "execution_count": 75,
   "metadata": {},
   "outputs": [
    {
     "name": "stderr",
     "output_type": "stream",
     "text": [
      "chunk:   1%|          | 141/25024 [00:00<00:17, 1408.62it/s, now=None]"
     ]
    },
    {
     "name": "stdout",
     "output_type": "stream",
     "text": [
      "MoviePy - Writing audio in 1043_meal.wav\n"
     ]
    },
    {
     "name": "stderr",
     "output_type": "stream",
     "text": [
      "chunk:   2%|▏         | 220/12758 [00:00<00:05, 2116.69it/s, now=None]  "
     ]
    },
    {
     "name": "stdout",
     "output_type": "stream",
     "text": [
      "MoviePy - Done.\n",
      "MoviePy - Writing audio in 1043_play.wav\n"
     ]
    },
    {
     "name": "stderr",
     "output_type": "stream",
     "text": [
      "chunk:   2%|▏         | 165/9405 [00:00<00:05, 1580.69it/s, now=None]   "
     ]
    },
    {
     "name": "stdout",
     "output_type": "stream",
     "text": [
      "MoviePy - Done.\n",
      "MoviePy - Writing audio in 1047_play.wav\n"
     ]
    },
    {
     "name": "stderr",
     "output_type": "stream",
     "text": [
      "chunk:   1%|          | 235/31201 [00:00<00:13, 2346.86it/s, now=None]"
     ]
    },
    {
     "name": "stdout",
     "output_type": "stream",
     "text": [
      "MoviePy - Done.\n",
      "MoviePy - Writing audio in 1047_meal.wav\n"
     ]
    },
    {
     "name": "stderr",
     "output_type": "stream",
     "text": [
      "chunk:   3%|▎         | 132/4889 [00:00<00:03, 1283.99it/s, now=None]   "
     ]
    },
    {
     "name": "stdout",
     "output_type": "stream",
     "text": [
      "MoviePy - Done.\n",
      "MoviePy - Writing audio in 1049_play.wav\n"
     ]
    },
    {
     "name": "stderr",
     "output_type": "stream",
     "text": [
      "chunk:   1%|          | 212/20216 [00:00<00:09, 2118.48it/s, now=None]"
     ]
    },
    {
     "name": "stdout",
     "output_type": "stream",
     "text": [
      "MoviePy - Done.\n",
      "MoviePy - Writing audio in 1049_meal.wav\n"
     ]
    },
    {
     "name": "stderr",
     "output_type": "stream",
     "text": [
      "chunk:   2%|▏         | 220/10057 [00:00<00:04, 2096.64it/s, now=None]  "
     ]
    },
    {
     "name": "stdout",
     "output_type": "stream",
     "text": [
      "MoviePy - Done.\n",
      "MoviePy - Writing audio in 1053_play.wav\n"
     ]
    },
    {
     "name": "stderr",
     "output_type": "stream",
     "text": [
      "chunk:   1%|          | 226/23748 [00:00<00:10, 2255.79it/s, now=None]  "
     ]
    },
    {
     "name": "stdout",
     "output_type": "stream",
     "text": [
      "MoviePy - Done.\n",
      "MoviePy - Writing audio in 1053_meal.wav\n"
     ]
    },
    {
     "name": "stderr",
     "output_type": "stream",
     "text": [
      "chunk:   2%|▏         | 203/11749 [00:00<00:05, 2027.22it/s, now=None]  "
     ]
    },
    {
     "name": "stdout",
     "output_type": "stream",
     "text": [
      "MoviePy - Done.\n",
      "MoviePy - Writing audio in 1059_play.wav\n"
     ]
    },
    {
     "name": "stderr",
     "output_type": "stream",
     "text": [
      "chunk:   1%|          | 128/23164 [00:00<00:18, 1277.27it/s, now=None]  "
     ]
    },
    {
     "name": "stdout",
     "output_type": "stream",
     "text": [
      "MoviePy - Done.\n",
      "MoviePy - Writing audio in 1059_meal.wav\n"
     ]
    },
    {
     "name": "stderr",
     "output_type": "stream",
     "text": [
      "chunk:   1%|▏         | 165/11838 [00:00<00:07, 1557.08it/s, now=None]  "
     ]
    },
    {
     "name": "stdout",
     "output_type": "stream",
     "text": [
      "MoviePy - Done.\n",
      "MoviePy - Writing audio in 1062_play.wav\n"
     ]
    },
    {
     "name": "stderr",
     "output_type": "stream",
     "text": [
      "chunk:   1%|          | 167/25858 [00:00<00:15, 1668.22it/s, now=None]  "
     ]
    },
    {
     "name": "stdout",
     "output_type": "stream",
     "text": [
      "MoviePy - Done.\n",
      "MoviePy - Writing audio in 1062_meal.wav\n"
     ]
    },
    {
     "name": "stderr",
     "output_type": "stream",
     "text": [
      "chunk:   1%|▏         | 179/13682 [00:00<00:07, 1785.36it/s, now=None]  "
     ]
    },
    {
     "name": "stdout",
     "output_type": "stream",
     "text": [
      "MoviePy - Done.\n",
      "MoviePy - Writing audio in 1069_play.wav\n"
     ]
    },
    {
     "name": "stderr",
     "output_type": "stream",
     "text": [
      "chunk:   0%|          | 68/27355 [00:00<00:40, 670.67it/s, now=None]    "
     ]
    },
    {
     "name": "stdout",
     "output_type": "stream",
     "text": [
      "MoviePy - Done.\n",
      "MoviePy - Writing audio in 1069_meal.wav\n"
     ]
    },
    {
     "name": "stderr",
     "output_type": "stream",
     "text": [
      "chunk:   1%|          | 116/10597 [00:00<00:09, 1155.82it/s, now=None]  "
     ]
    },
    {
     "name": "stdout",
     "output_type": "stream",
     "text": [
      "MoviePy - Done.\n",
      "MoviePy - Writing audio in 1073_play.wav\n"
     ]
    },
    {
     "name": "stderr",
     "output_type": "stream",
     "text": [
      "chunk:   1%|▏         | 220/15185 [00:00<00:06, 2194.49it/s, now=None]  "
     ]
    },
    {
     "name": "stdout",
     "output_type": "stream",
     "text": [
      "MoviePy - Done.\n",
      "MoviePy - Writing audio in 1073_meal.wav\n"
     ]
    },
    {
     "name": "stderr",
     "output_type": "stream",
     "text": [
      "chunk:   2%|▏         | 220/14481 [00:00<00:06, 2090.22it/s, now=None]  "
     ]
    },
    {
     "name": "stdout",
     "output_type": "stream",
     "text": [
      "MoviePy - Done.\n",
      "MoviePy - Writing audio in 1079_play.wav\n"
     ]
    },
    {
     "name": "stderr",
     "output_type": "stream",
     "text": [
      "chunk:   1%|          | 172/23077 [00:00<00:13, 1719.35it/s, now=None]  "
     ]
    },
    {
     "name": "stdout",
     "output_type": "stream",
     "text": [
      "MoviePy - Done.\n",
      "MoviePy - Writing audio in 1079_meal.wav\n"
     ]
    },
    {
     "name": "stderr",
     "output_type": "stream",
     "text": [
      "chunk:   2%|▏         | 198/10476 [00:00<00:05, 1978.97it/s, now=None]  "
     ]
    },
    {
     "name": "stdout",
     "output_type": "stream",
     "text": [
      "MoviePy - Done.\n",
      "MoviePy - Writing audio in 1080_play.wav\n"
     ]
    },
    {
     "name": "stderr",
     "output_type": "stream",
     "text": [
      "chunk:   1%|          | 220/32558 [00:00<00:15, 2124.82it/s, now=None]  "
     ]
    },
    {
     "name": "stdout",
     "output_type": "stream",
     "text": [
      "MoviePy - Done.\n",
      "MoviePy - Writing audio in 1080_meal.wav\n"
     ]
    },
    {
     "name": "stderr",
     "output_type": "stream",
     "text": [
      "chunk:   1%|          | 156/12676 [00:00<00:08, 1558.58it/s, now=None]  "
     ]
    },
    {
     "name": "stdout",
     "output_type": "stream",
     "text": [
      "MoviePy - Done.\n",
      "MoviePy - Writing audio in 1082_play.wav\n"
     ]
    },
    {
     "name": "stderr",
     "output_type": "stream",
     "text": [
      "chunk:   1%|          | 165/17751 [00:00<00:10, 1615.87it/s, now=None]  "
     ]
    },
    {
     "name": "stdout",
     "output_type": "stream",
     "text": [
      "MoviePy - Done.\n",
      "MoviePy - Writing audio in 1082_meal.wav\n"
     ]
    },
    {
     "name": "stderr",
     "output_type": "stream",
     "text": [
      "chunk:   1%|▏         | 203/14513 [00:00<00:07, 2028.48it/s, now=None]  "
     ]
    },
    {
     "name": "stdout",
     "output_type": "stream",
     "text": [
      "MoviePy - Done.\n",
      "MoviePy - Writing audio in 1089_play.wav\n"
     ]
    },
    {
     "name": "stderr",
     "output_type": "stream",
     "text": [
      "chunk:   1%|          | 167/26838 [00:00<00:16, 1666.10it/s, now=None]  "
     ]
    },
    {
     "name": "stdout",
     "output_type": "stream",
     "text": [
      "MoviePy - Done.\n",
      "MoviePy - Writing audio in 1089_meal.wav\n"
     ]
    },
    {
     "name": "stderr",
     "output_type": "stream",
     "text": [
      "chunk:   1%|          | 88/8082 [00:00<00:09, 854.40it/s, now=None]     "
     ]
    },
    {
     "name": "stdout",
     "output_type": "stream",
     "text": [
      "MoviePy - Done.\n",
      "MoviePy - Writing audio in 1091_play.wav\n"
     ]
    },
    {
     "name": "stderr",
     "output_type": "stream",
     "text": [
      "chunk:   0%|          | 146/29876 [00:00<00:20, 1457.45it/s, now=None]"
     ]
    },
    {
     "name": "stdout",
     "output_type": "stream",
     "text": [
      "MoviePy - Done.\n",
      "MoviePy - Writing audio in 1091_meal.wav\n"
     ]
    },
    {
     "name": "stderr",
     "output_type": "stream",
     "text": [
      "chunk:   1%|▏         | 220/16051 [00:00<00:07, 2178.54it/s, now=None]  "
     ]
    },
    {
     "name": "stdout",
     "output_type": "stream",
     "text": [
      "MoviePy - Done.\n",
      "MoviePy - Writing audio in 1092_play.wav\n"
     ]
    },
    {
     "name": "stderr",
     "output_type": "stream",
     "text": [
      "chunk:   0%|          | 128/30158 [00:00<00:23, 1260.90it/s, now=None]  "
     ]
    },
    {
     "name": "stdout",
     "output_type": "stream",
     "text": [
      "MoviePy - Done.\n",
      "MoviePy - Writing audio in 1092_meal.wav\n"
     ]
    },
    {
     "name": "stderr",
     "output_type": "stream",
     "text": [
      "chunk:   1%|          | 182/16004 [00:00<00:08, 1816.78it/s, now=None]  "
     ]
    },
    {
     "name": "stdout",
     "output_type": "stream",
     "text": [
      "MoviePy - Done.\n",
      "MoviePy - Writing audio in 1093_play.wav\n"
     ]
    },
    {
     "name": "stderr",
     "output_type": "stream",
     "text": [
      "chunk:   1%|▏         | 197/15022 [00:00<00:07, 1967.52it/s, now=None]  "
     ]
    },
    {
     "name": "stdout",
     "output_type": "stream",
     "text": [
      "MoviePy - Done.\n",
      "MoviePy - Writing audio in 1093_meal.wav\n"
     ]
    },
    {
     "name": "stderr",
     "output_type": "stream",
     "text": [
      "chunk:   2%|▏         | 220/14239 [00:00<00:06, 2109.43it/s, now=None]  "
     ]
    },
    {
     "name": "stdout",
     "output_type": "stream",
     "text": [
      "MoviePy - Done.\n",
      "MoviePy - Writing audio in 1096_play.wav\n"
     ]
    },
    {
     "name": "stderr",
     "output_type": "stream",
     "text": [
      "chunk:   1%|          | 165/27149 [00:00<00:18, 1472.33it/s, now=None]  "
     ]
    },
    {
     "name": "stdout",
     "output_type": "stream",
     "text": [
      "MoviePy - Done.\n",
      "MoviePy - Writing audio in 1096_meal.wav\n"
     ]
    },
    {
     "name": "stderr",
     "output_type": "stream",
     "text": [
      "chunk:   1%|          | 94/12270 [00:00<00:12, 939.34it/s, now=None]    "
     ]
    },
    {
     "name": "stdout",
     "output_type": "stream",
     "text": [
      "MoviePy - Done.\n",
      "MoviePy - Writing audio in 1097_play.wav\n"
     ]
    },
    {
     "name": "stderr",
     "output_type": "stream",
     "text": [
      "chunk:   1%|          | 121/21631 [00:00<00:17, 1208.14it/s, now=None]  "
     ]
    },
    {
     "name": "stdout",
     "output_type": "stream",
     "text": [
      "MoviePy - Done.\n",
      "MoviePy - Writing audio in 1097_meal.wav\n"
     ]
    },
    {
     "name": "stderr",
     "output_type": "stream",
     "text": [
      "chunk:   1%|          | 105/14395 [00:00<00:13, 1049.08it/s, now=None]  "
     ]
    },
    {
     "name": "stdout",
     "output_type": "stream",
     "text": [
      "MoviePy - Done.\n",
      "MoviePy - Writing audio in 1098_play.wav\n"
     ]
    },
    {
     "name": "stderr",
     "output_type": "stream",
     "text": [
      "chunk:   1%|          | 201/27980 [00:00<00:13, 2009.61it/s, now=None]  "
     ]
    },
    {
     "name": "stdout",
     "output_type": "stream",
     "text": [
      "MoviePy - Done.\n",
      "MoviePy - Writing audio in 1098_meal.wav\n"
     ]
    },
    {
     "name": "stderr",
     "output_type": "stream",
     "text": [
      "chunk:   2%|▏         | 165/9808 [00:00<00:05, 1609.90it/s, now=None]   "
     ]
    },
    {
     "name": "stdout",
     "output_type": "stream",
     "text": [
      "MoviePy - Done.\n",
      "MoviePy - Writing audio in 1099_play.wav\n"
     ]
    },
    {
     "name": "stderr",
     "output_type": "stream",
     "text": [
      "chunk:   1%|          | 185/33101 [00:00<00:17, 1848.35it/s, now=None]"
     ]
    },
    {
     "name": "stdout",
     "output_type": "stream",
     "text": [
      "MoviePy - Done.\n",
      "MoviePy - Writing audio in 1099_meal.wav\n"
     ]
    },
    {
     "name": "stderr",
     "output_type": "stream",
     "text": [
      "chunk:   2%|▏         | 165/8304 [00:00<00:05, 1551.29it/s, now=None]   "
     ]
    },
    {
     "name": "stdout",
     "output_type": "stream",
     "text": [
      "MoviePy - Done.\n",
      "MoviePy - Writing audio in 1104_play.wav\n"
     ]
    },
    {
     "name": "stderr",
     "output_type": "stream",
     "text": [
      "chunk:   0%|          | 159/32859 [00:00<00:23, 1389.10it/s, now=None]"
     ]
    },
    {
     "name": "stdout",
     "output_type": "stream",
     "text": [
      "MoviePy - Done.\n",
      "MoviePy - Writing audio in 1104_meal.wav\n"
     ]
    },
    {
     "name": "stderr",
     "output_type": "stream",
     "text": [
      "chunk:   2%|▏         | 140/6601 [00:00<00:04, 1394.09it/s, now=None]   "
     ]
    },
    {
     "name": "stdout",
     "output_type": "stream",
     "text": [
      "MoviePy - Done.\n",
      "MoviePy - Writing audio in 1105_play.wav\n"
     ]
    },
    {
     "name": "stderr",
     "output_type": "stream",
     "text": [
      "chunk:   1%|          | 164/20558 [00:00<00:12, 1634.79it/s, now=None]"
     ]
    },
    {
     "name": "stdout",
     "output_type": "stream",
     "text": [
      "MoviePy - Done.\n",
      "MoviePy - Writing audio in 1105_meal.wav\n"
     ]
    },
    {
     "name": "stderr",
     "output_type": "stream",
     "text": [
      "chunk:   1%|▏         | 133/9443 [00:00<00:07, 1328.46it/s, now=None]   "
     ]
    },
    {
     "name": "stdout",
     "output_type": "stream",
     "text": [
      "MoviePy - Done.\n",
      "MoviePy - Writing audio in 1107_play.wav\n"
     ]
    },
    {
     "name": "stderr",
     "output_type": "stream",
     "text": [
      "chunk:   1%|          | 179/26016 [00:00<00:14, 1788.91it/s, now=None]"
     ]
    },
    {
     "name": "stdout",
     "output_type": "stream",
     "text": [
      "MoviePy - Done.\n",
      "MoviePy - Writing audio in 1107_meal.wav\n"
     ]
    },
    {
     "name": "stderr",
     "output_type": "stream",
     "text": [
      "chunk:   1%|          | 110/10806 [00:00<00:09, 1073.48it/s, now=None]  "
     ]
    },
    {
     "name": "stdout",
     "output_type": "stream",
     "text": [
      "MoviePy - Done.\n",
      "MoviePy - Writing audio in 1108_play.wav\n"
     ]
    },
    {
     "name": "stderr",
     "output_type": "stream",
     "text": [
      "chunk:   0%|          | 178/38043 [00:00<00:21, 1776.64it/s, now=None]  "
     ]
    },
    {
     "name": "stdout",
     "output_type": "stream",
     "text": [
      "MoviePy - Done.\n",
      "MoviePy - Writing audio in 1108_meal.wav\n"
     ]
    },
    {
     "name": "stderr",
     "output_type": "stream",
     "text": [
      "chunk:   2%|▏         | 212/9921 [00:00<00:04, 2119.47it/s, now=None]   "
     ]
    },
    {
     "name": "stdout",
     "output_type": "stream",
     "text": [
      "MoviePy - Done.\n",
      "MoviePy - Writing audio in 1112_play.wav\n"
     ]
    },
    {
     "name": "stderr",
     "output_type": "stream",
     "text": [
      "chunk:   0%|          | 133/38488 [00:00<00:28, 1326.78it/s, now=None]"
     ]
    },
    {
     "name": "stdout",
     "output_type": "stream",
     "text": [
      "MoviePy - Done.\n",
      "MoviePy - Writing audio in 1112_meal.wav\n"
     ]
    },
    {
     "name": "stderr",
     "output_type": "stream",
     "text": [
      "chunk:   2%|▏         | 169/9810 [00:00<00:05, 1689.31it/s, now=None]   "
     ]
    },
    {
     "name": "stdout",
     "output_type": "stream",
     "text": [
      "MoviePy - Done.\n",
      "MoviePy - Writing audio in 1117_play.wav\n"
     ]
    },
    {
     "name": "stderr",
     "output_type": "stream",
     "text": [
      "chunk:   1%|          | 212/40962 [00:00<00:19, 2115.07it/s, now=None]"
     ]
    },
    {
     "name": "stdout",
     "output_type": "stream",
     "text": [
      "MoviePy - Done.\n",
      "MoviePy - Writing audio in 1117_meal.wav\n"
     ]
    },
    {
     "name": "stderr",
     "output_type": "stream",
     "text": [
      "chunk:   1%|          | 138/12007 [00:00<00:08, 1377.57it/s, now=None]  "
     ]
    },
    {
     "name": "stdout",
     "output_type": "stream",
     "text": [
      "MoviePy - Done.\n",
      "MoviePy - Writing audio in 1118_play.wav\n"
     ]
    },
    {
     "name": "stderr",
     "output_type": "stream",
     "text": [
      "chunk:   0%|          | 110/33733 [00:00<00:31, 1080.02it/s, now=None]  "
     ]
    },
    {
     "name": "stdout",
     "output_type": "stream",
     "text": [
      "MoviePy - Done.\n",
      "MoviePy - Writing audio in 1118_meal.wav\n"
     ]
    },
    {
     "name": "stderr",
     "output_type": "stream",
     "text": [
      "chunk:   2%|▏         | 169/8201 [00:00<00:04, 1689.54it/s, now=None]   "
     ]
    },
    {
     "name": "stdout",
     "output_type": "stream",
     "text": [
      "MoviePy - Done.\n",
      "MoviePy - Writing audio in 1122_play.wav\n"
     ]
    },
    {
     "name": "stderr",
     "output_type": "stream",
     "text": [
      "chunk:   1%|▏         | 219/16701 [00:00<00:07, 2186.81it/s, now=None]"
     ]
    },
    {
     "name": "stdout",
     "output_type": "stream",
     "text": [
      "MoviePy - Done.\n",
      "MoviePy - Writing audio in 1122_meal.wav\n"
     ]
    },
    {
     "name": "stderr",
     "output_type": "stream",
     "text": [
      "chunk:   3%|▎         | 217/8422 [00:00<00:03, 2166.19it/s, now=None]   "
     ]
    },
    {
     "name": "stdout",
     "output_type": "stream",
     "text": [
      "MoviePy - Done.\n",
      "MoviePy - Writing audio in 1124_play.wav\n"
     ]
    },
    {
     "name": "stderr",
     "output_type": "stream",
     "text": [
      "chunk:   1%|          | 133/17181 [00:00<00:12, 1327.85it/s, now=None]"
     ]
    },
    {
     "name": "stdout",
     "output_type": "stream",
     "text": [
      "MoviePy - Done.\n",
      "MoviePy - Writing audio in 1124_meal.wav\n"
     ]
    },
    {
     "name": "stderr",
     "output_type": "stream",
     "text": [
      "chunk:   2%|▏         | 217/10425 [00:00<00:04, 2166.86it/s, now=None]  "
     ]
    },
    {
     "name": "stdout",
     "output_type": "stream",
     "text": [
      "MoviePy - Done.\n",
      "MoviePy - Writing audio in 1125_play.wav\n"
     ]
    },
    {
     "name": "stderr",
     "output_type": "stream",
     "text": [
      "chunk:   1%|          | 156/30534 [00:00<00:19, 1558.62it/s, now=None]  "
     ]
    },
    {
     "name": "stdout",
     "output_type": "stream",
     "text": [
      "MoviePy - Done.\n",
      "MoviePy - Writing audio in 1125_meal.wav\n"
     ]
    },
    {
     "name": "stderr",
     "output_type": "stream",
     "text": [
      "                                                                        "
     ]
    },
    {
     "name": "stdout",
     "output_type": "stream",
     "text": [
      "MoviePy - Done.\n"
     ]
    },
    {
     "name": "stderr",
     "output_type": "stream",
     "text": [
      "\r"
     ]
    }
   ],
   "source": [
    "for audio, name in zip(audio, audio_names):\n",
    "    audio.write_audiofile(str(name), 48000, 4, codec=\"pcm_s32le\")"
   ]
  },
  {
   "cell_type": "code",
   "execution_count": null,
   "metadata": {},
   "outputs": [],
   "source": []
  }
 ],
 "metadata": {
  "kernelspec": {
   "display_name": "Python 3",
   "language": "python",
   "name": "python3"
  },
  "language_info": {
   "codemirror_mode": {
    "name": "ipython",
    "version": 3
   },
   "file_extension": ".py",
   "mimetype": "text/x-python",
   "name": "python",
   "nbconvert_exporter": "python",
   "pygments_lexer": "ipython3",
   "version": "3.8.5"
  }
 },
 "nbformat": 4,
 "nbformat_minor": 4
}
