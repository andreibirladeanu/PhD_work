{
 "cells": [
  {
   "cell_type": "code",
   "execution_count": 1,
   "metadata": {
    "collapsed": true
   },
   "outputs": [],
   "source": [
    "from moviepy.editor import *"
   ]
  },
  {
   "cell_type": "code",
   "execution_count": 8,
   "metadata": {
    "collapsed": true
   },
   "outputs": [
    {
     "name": "stdout",
     "output_type": "stream",
     "text": [
      "/Volumes/Ashur Pro2/Videos/Trimmed\n"
     ]
    }
   ],
   "source": [
    "cd /Volumes/Ashur Pro2/Videos/Trimmed"
   ]
  },
  {
   "cell_type": "code",
   "execution_count": 9,
   "metadata": {
    "collapsed": true
   },
   "outputs": [],
   "source": [
    "path = \"/Volumes/Ashur Pro2/Videos/Trimmed\"  #if string starts with slash it is considered absolute\n",
    "dirs = os.listdir( path )\n",
    "file_names = [i for i in os.listdir(\".\") if not i.startswith(\".\")]"
   ]
  },
  {
   "cell_type": "code",
   "execution_count": 11,
   "metadata": {
    "collapsed": true
   },
   "outputs": [],
   "source": [
    "# get names of the files for audio output\n",
    "audio_names = [x.replace('mp4','wav') for x in file_names]"
   ]
  },
  {
   "cell_type": "code",
   "execution_count": 12,
   "metadata": {
    "collapsed": true
   },
   "outputs": [],
   "source": [
    "# list in which to keep the audioclips objects\n",
    "audio=list()"
   ]
  },
  {
   "cell_type": "code",
   "execution_count": 10,
   "metadata": {
    "collapsed": true
   },
   "outputs": [
    {
     "data": {
      "text/plain": [
       "['1043_meal.mp4',\n",
       " '1043_play.mp4',\n",
       " '1047_play.mp4',\n",
       " '1047_meal.mp4',\n",
       " '1049_play.mp4',\n",
       " '1049_meal.mp4',\n",
       " '1053_play.mp4',\n",
       " '1053_meal.mp4',\n",
       " '1059_play.mp4',\n",
       " '1059_meal.mp4',\n",
       " '1062_play.mp4',\n",
       " '1062_meal.mp4',\n",
       " '1069_play.mp4',\n",
       " '1069_meal.mp4',\n",
       " '1073_play.mp4',\n",
       " '1073_meal.mp4',\n",
       " '1079_play.mp4',\n",
       " '1079_meal.mp4',\n",
       " '1080_play.mp4',\n",
       " '1080_meal.mp4',\n",
       " '1082_play.mp4',\n",
       " '1082_meal.mp4',\n",
       " '1089_play.mp4',\n",
       " '1089_meal.mp4',\n",
       " '1091_play.mp4',\n",
       " '1091_meal.mp4',\n",
       " '1092_play.mp4',\n",
       " '1092_meal.mp4',\n",
       " '1093_play.mp4',\n",
       " '1093_meal.mp4',\n",
       " '1096_play.mp4',\n",
       " '1096_meal.mp4',\n",
       " '1097_play.mp4',\n",
       " '1097_meal.mp4',\n",
       " '1098_play.mp4',\n",
       " '1098_meal.mp4',\n",
       " '1099_play.mp4',\n",
       " '1099_meal.mp4',\n",
       " '1104_play.mp4',\n",
       " '1104_meal.mp4',\n",
       " '1105_play.mp4',\n",
       " '1105_meal.mp4',\n",
       " '1107_play.mp4',\n",
       " '1107_meal.mp4',\n",
       " '1108_play.mp4',\n",
       " '1108_meal.mp4',\n",
       " '1112_play.mp4',\n",
       " '1112_meal.mp4',\n",
       " '1117_play.mp4',\n",
       " '1117_meal.mp4',\n",
       " '1118_play.mp4',\n",
       " '1118_meal.mp4',\n",
       " '1122_play.mp4',\n",
       " '1122_meal.mp4',\n",
       " '1124_play.mp4',\n",
       " '1124_meal.mp4',\n",
       " '1125_play.mp4',\n",
       " '1125_meal.mp4',\n",
       " '1130_play.mp4',\n",
       " '1130_meal.mp4',\n",
       " '1131_play.mp4',\n",
       " '1131_meal.mp4',\n",
       " '1132_play.mp4',\n",
       " '1132_meal.mp4',\n",
       " '1134_play.mp4',\n",
       " '1134_meal.mp4',\n",
       " '1180_play.mp4',\n",
       " '1180_meal.mp4',\n",
       " '1181_meal.mp4',\n",
       " '1181_play.mp4',\n",
       " '1190_meal.mp4',\n",
       " '1190_play.mp4',\n",
       " '1206_meal.mp4',\n",
       " '1206_play.mp4',\n",
       " '1210_play.mp4',\n",
       " '1217_play.mp4',\n",
       " '1217_meal.mp4',\n",
       " '1234_play.mp4',\n",
       " '1234_meal.mp4',\n",
       " '1241_play.mp4',\n",
       " '1241_meal.mp4',\n",
       " '1245_play.mp4',\n",
       " '1245_meal.mp4',\n",
       " '1246_play.mp4',\n",
       " '1246_meal.mp4',\n",
       " '1250_play.mp4',\n",
       " '1250_meal.mp4',\n",
       " '1263_play.mp4',\n",
       " '1263_meal.mp4',\n",
       " '1264_play.mp4',\n",
       " '1264_meal.mp4',\n",
       " '1269_play.mp4',\n",
       " '1269_meal.mp4',\n",
       " '1282_play.mp4',\n",
       " '1282_meal.mp4',\n",
       " '2009_play.mp4',\n",
       " '2009_meal.mp4',\n",
       " '2025_play.mp4',\n",
       " '2025_meal.mp4',\n",
       " '2027_play.mp4',\n",
       " '2027_meal.mp4']"
      ]
     },
     "execution_count": 10,
     "metadata": {},
     "output_type": "execute_result"
    }
   ],
   "source": [
    "file_names"
   ]
  },
  {
   "cell_type": "code",
   "execution_count": null,
   "metadata": {
    "collapsed": true
   },
   "outputs": [],
   "source": [
    "cd \"/Volumes/Ashur Pro2/Videos/Trimmed\""
   ]
  },
  {
   "cell_type": "code",
   "execution_count": 13,
   "metadata": {
    "collapsed": true
   },
   "outputs": [],
   "source": [
    "#append the audioclip objects here\n",
    "for fname in file_names:\n",
    "    audio.append(AudioFileClip(fname))"
   ]
  },
  {
   "cell_type": "code",
   "execution_count": 14,
   "metadata": {
    "collapsed": true
   },
   "outputs": [
    {
     "data": {
      "text/plain": [
       "[<moviepy.audio.io.AudioFileClip.AudioFileClip at 0x7f9233acca60>,\n",
       " <moviepy.audio.io.AudioFileClip.AudioFileClip at 0x7f9233accf10>,\n",
       " <moviepy.audio.io.AudioFileClip.AudioFileClip at 0x7f9233accc10>,\n",
       " <moviepy.audio.io.AudioFileClip.AudioFileClip at 0x7f9233acc9a0>,\n",
       " <moviepy.audio.io.AudioFileClip.AudioFileClip at 0x7f9231b470a0>,\n",
       " <moviepy.audio.io.AudioFileClip.AudioFileClip at 0x7f9233b08040>,\n",
       " <moviepy.audio.io.AudioFileClip.AudioFileClip at 0x7f9233b08160>,\n",
       " <moviepy.audio.io.AudioFileClip.AudioFileClip at 0x7f9233b08280>,\n",
       " <moviepy.audio.io.AudioFileClip.AudioFileClip at 0x7f9233b083a0>,\n",
       " <moviepy.audio.io.AudioFileClip.AudioFileClip at 0x7f9233b084c0>,\n",
       " <moviepy.audio.io.AudioFileClip.AudioFileClip at 0x7f9233b085e0>,\n",
       " <moviepy.audio.io.AudioFileClip.AudioFileClip at 0x7f9233b08700>,\n",
       " <moviepy.audio.io.AudioFileClip.AudioFileClip at 0x7f9233b08820>,\n",
       " <moviepy.audio.io.AudioFileClip.AudioFileClip at 0x7f9233b08940>,\n",
       " <moviepy.audio.io.AudioFileClip.AudioFileClip at 0x7f9233b08a60>,\n",
       " <moviepy.audio.io.AudioFileClip.AudioFileClip at 0x7f9233b08b80>,\n",
       " <moviepy.audio.io.AudioFileClip.AudioFileClip at 0x7f9233b08ca0>,\n",
       " <moviepy.audio.io.AudioFileClip.AudioFileClip at 0x7f9233b08dc0>,\n",
       " <moviepy.audio.io.AudioFileClip.AudioFileClip at 0x7f9233b08f70>,\n",
       " <moviepy.audio.io.AudioFileClip.AudioFileClip at 0x7f923606b0a0>,\n",
       " <moviepy.audio.io.AudioFileClip.AudioFileClip at 0x7f923606b160>,\n",
       " <moviepy.audio.io.AudioFileClip.AudioFileClip at 0x7f9232cd0100>,\n",
       " <moviepy.audio.io.AudioFileClip.AudioFileClip at 0x7f9231b13f70>,\n",
       " <moviepy.audio.io.AudioFileClip.AudioFileClip at 0x7f923606b2b0>,\n",
       " <moviepy.audio.io.AudioFileClip.AudioFileClip at 0x7f923606b3d0>,\n",
       " <moviepy.audio.io.AudioFileClip.AudioFileClip at 0x7f923606b550>,\n",
       " <moviepy.audio.io.AudioFileClip.AudioFileClip at 0x7f923606b6a0>,\n",
       " <moviepy.audio.io.AudioFileClip.AudioFileClip at 0x7f923606b7c0>,\n",
       " <moviepy.audio.io.AudioFileClip.AudioFileClip at 0x7f923606b8e0>,\n",
       " <moviepy.audio.io.AudioFileClip.AudioFileClip at 0x7f923606ba00>,\n",
       " <moviepy.audio.io.AudioFileClip.AudioFileClip at 0x7f923606bb20>,\n",
       " <moviepy.audio.io.AudioFileClip.AudioFileClip at 0x7f923606bc40>,\n",
       " <moviepy.audio.io.AudioFileClip.AudioFileClip at 0x7f923606bd60>,\n",
       " <moviepy.audio.io.AudioFileClip.AudioFileClip at 0x7f923606bf10>,\n",
       " <moviepy.audio.io.AudioFileClip.AudioFileClip at 0x7f9236075040>,\n",
       " <moviepy.audio.io.AudioFileClip.AudioFileClip at 0x7f9236075100>,\n",
       " <moviepy.audio.io.AudioFileClip.AudioFileClip at 0x7f9236075220>,\n",
       " <moviepy.audio.io.AudioFileClip.AudioFileClip at 0x7f9236075340>,\n",
       " <moviepy.audio.io.AudioFileClip.AudioFileClip at 0x7f9236075460>,\n",
       " <moviepy.audio.io.AudioFileClip.AudioFileClip at 0x7f9236075580>,\n",
       " <moviepy.audio.io.AudioFileClip.AudioFileClip at 0x7f92360756a0>,\n",
       " <moviepy.audio.io.AudioFileClip.AudioFileClip at 0x7f92360757c0>,\n",
       " <moviepy.audio.io.AudioFileClip.AudioFileClip at 0x7f92360758e0>,\n",
       " <moviepy.audio.io.AudioFileClip.AudioFileClip at 0x7f9236075a00>,\n",
       " <moviepy.audio.io.AudioFileClip.AudioFileClip at 0x7f9236075b20>,\n",
       " <moviepy.audio.io.AudioFileClip.AudioFileClip at 0x7f9236075c70>,\n",
       " <moviepy.audio.io.AudioFileClip.AudioFileClip at 0x7f9236075dc0>,\n",
       " <moviepy.audio.io.AudioFileClip.AudioFileClip at 0x7f9236075fa0>,\n",
       " <moviepy.audio.io.AudioFileClip.AudioFileClip at 0x7f923607d0a0>,\n",
       " <moviepy.audio.io.AudioFileClip.AudioFileClip at 0x7f923607d1f0>,\n",
       " <moviepy.audio.io.AudioFileClip.AudioFileClip at 0x7f923607d340>,\n",
       " <moviepy.audio.io.AudioFileClip.AudioFileClip at 0x7f923607d490>,\n",
       " <moviepy.audio.io.AudioFileClip.AudioFileClip at 0x7f923607d5e0>,\n",
       " <moviepy.audio.io.AudioFileClip.AudioFileClip at 0x7f923607d730>,\n",
       " <moviepy.audio.io.AudioFileClip.AudioFileClip at 0x7f923607d880>,\n",
       " <moviepy.audio.io.AudioFileClip.AudioFileClip at 0x7f923607d9d0>,\n",
       " <moviepy.audio.io.AudioFileClip.AudioFileClip at 0x7f923607db20>,\n",
       " <moviepy.audio.io.AudioFileClip.AudioFileClip at 0x7f923607dc70>,\n",
       " <moviepy.audio.io.AudioFileClip.AudioFileClip at 0x7f923607ddc0>,\n",
       " <moviepy.audio.io.AudioFileClip.AudioFileClip at 0x7f923607dfa0>,\n",
       " <moviepy.audio.io.AudioFileClip.AudioFileClip at 0x7f92360880a0>,\n",
       " <moviepy.audio.io.AudioFileClip.AudioFileClip at 0x7f92360881f0>,\n",
       " <moviepy.audio.io.AudioFileClip.AudioFileClip at 0x7f9236088340>,\n",
       " <moviepy.audio.io.AudioFileClip.AudioFileClip at 0x7f9236088490>,\n",
       " <moviepy.audio.io.AudioFileClip.AudioFileClip at 0x7f92360885e0>,\n",
       " <moviepy.audio.io.AudioFileClip.AudioFileClip at 0x7f9236088730>,\n",
       " <moviepy.audio.io.AudioFileClip.AudioFileClip at 0x7f9236088880>,\n",
       " <moviepy.audio.io.AudioFileClip.AudioFileClip at 0x7f92360889d0>,\n",
       " <moviepy.audio.io.AudioFileClip.AudioFileClip at 0x7f9236088b20>,\n",
       " <moviepy.audio.io.AudioFileClip.AudioFileClip at 0x7f9236088c70>,\n",
       " <moviepy.audio.io.AudioFileClip.AudioFileClip at 0x7f9236088dc0>,\n",
       " <moviepy.audio.io.AudioFileClip.AudioFileClip at 0x7f9236088fa0>,\n",
       " <moviepy.audio.io.AudioFileClip.AudioFileClip at 0x7f92360920a0>,\n",
       " <moviepy.audio.io.AudioFileClip.AudioFileClip at 0x7f92360921f0>,\n",
       " <moviepy.audio.io.AudioFileClip.AudioFileClip at 0x7f9236092340>,\n",
       " <moviepy.audio.io.AudioFileClip.AudioFileClip at 0x7f9236092490>,\n",
       " <moviepy.audio.io.AudioFileClip.AudioFileClip at 0x7f92360925e0>,\n",
       " <moviepy.audio.io.AudioFileClip.AudioFileClip at 0x7f9236092730>,\n",
       " <moviepy.audio.io.AudioFileClip.AudioFileClip at 0x7f9236092880>,\n",
       " <moviepy.audio.io.AudioFileClip.AudioFileClip at 0x7f92360929d0>,\n",
       " <moviepy.audio.io.AudioFileClip.AudioFileClip at 0x7f9236092b20>,\n",
       " <moviepy.audio.io.AudioFileClip.AudioFileClip at 0x7f9236092c70>,\n",
       " <moviepy.audio.io.AudioFileClip.AudioFileClip at 0x7f9236092dc0>,\n",
       " <moviepy.audio.io.AudioFileClip.AudioFileClip at 0x7f9236092fa0>,\n",
       " <moviepy.audio.io.AudioFileClip.AudioFileClip at 0x7f923609e0a0>,\n",
       " <moviepy.audio.io.AudioFileClip.AudioFileClip at 0x7f923609e1f0>,\n",
       " <moviepy.audio.io.AudioFileClip.AudioFileClip at 0x7f923609e340>,\n",
       " <moviepy.audio.io.AudioFileClip.AudioFileClip at 0x7f923609e490>,\n",
       " <moviepy.audio.io.AudioFileClip.AudioFileClip at 0x7f923609e5e0>,\n",
       " <moviepy.audio.io.AudioFileClip.AudioFileClip at 0x7f923609e730>,\n",
       " <moviepy.audio.io.AudioFileClip.AudioFileClip at 0x7f923609e880>,\n",
       " <moviepy.audio.io.AudioFileClip.AudioFileClip at 0x7f923609e9d0>,\n",
       " <moviepy.audio.io.AudioFileClip.AudioFileClip at 0x7f923609eb20>,\n",
       " <moviepy.audio.io.AudioFileClip.AudioFileClip at 0x7f923609ec70>,\n",
       " <moviepy.audio.io.AudioFileClip.AudioFileClip at 0x7f923609edc0>,\n",
       " <moviepy.audio.io.AudioFileClip.AudioFileClip at 0x7f923609efa0>,\n",
       " <moviepy.audio.io.AudioFileClip.AudioFileClip at 0x7f9226f6f0a0>,\n",
       " <moviepy.audio.io.AudioFileClip.AudioFileClip at 0x7f9226f6f1f0>,\n",
       " <moviepy.audio.io.AudioFileClip.AudioFileClip at 0x7f9226f6f340>,\n",
       " <moviepy.audio.io.AudioFileClip.AudioFileClip at 0x7f9226f6f490>,\n",
       " <moviepy.audio.io.AudioFileClip.AudioFileClip at 0x7f9226f6f5e0>]"
      ]
     },
     "execution_count": 14,
     "metadata": {},
     "output_type": "execute_result"
    }
   ],
   "source": [
    "audio"
   ]
  },
  {
   "cell_type": "code",
   "execution_count": 15,
   "metadata": {
    "collapsed": true
   },
   "outputs": [
    {
     "name": "stderr",
     "output_type": "stream",
     "text": [
      "chunk:   0%|          | 87/25024 [00:00<00:29, 857.98it/s, now=None]"
     ]
    },
    {
     "name": "stdout",
     "output_type": "stream",
     "text": [
      "MoviePy - Writing audio in 1043_meal.wav\n"
     ]
    },
    {
     "name": "stderr",
     "output_type": "stream",
     "text": [
      "chunk:   1%|▏         | 165/12758 [00:00<00:07, 1616.55it/s, now=None]  "
     ]
    },
    {
     "name": "stdout",
     "output_type": "stream",
     "text": [
      "MoviePy - Done.\n",
      "MoviePy - Writing audio in 1043_play.wav\n"
     ]
    },
    {
     "name": "stderr",
     "output_type": "stream",
     "text": [
      "chunk:   2%|▏         | 165/9405 [00:00<00:05, 1574.94it/s, now=None]   "
     ]
    },
    {
     "name": "stdout",
     "output_type": "stream",
     "text": [
      "MoviePy - Done.\n",
      "MoviePy - Writing audio in 1047_play.wav\n"
     ]
    },
    {
     "name": "stderr",
     "output_type": "stream",
     "text": [
      "chunk:   1%|          | 221/31201 [00:00<00:14, 2209.12it/s, now=None]"
     ]
    },
    {
     "name": "stdout",
     "output_type": "stream",
     "text": [
      "MoviePy - Done.\n",
      "MoviePy - Writing audio in 1047_meal.wav\n"
     ]
    },
    {
     "name": "stderr",
     "output_type": "stream",
     "text": [
      "chunk:   2%|▏         | 118/4889 [00:00<00:04, 1177.69it/s, now=None]   "
     ]
    },
    {
     "name": "stdout",
     "output_type": "stream",
     "text": [
      "MoviePy - Done.\n",
      "MoviePy - Writing audio in 1049_play.wav\n"
     ]
    },
    {
     "name": "stderr",
     "output_type": "stream",
     "text": [
      "chunk:   1%|          | 237/20216 [00:00<00:08, 2369.17it/s, now=None]"
     ]
    },
    {
     "name": "stdout",
     "output_type": "stream",
     "text": [
      "MoviePy - Done.\n",
      "MoviePy - Writing audio in 1049_meal.wav\n"
     ]
    },
    {
     "name": "stderr",
     "output_type": "stream",
     "text": [
      "chunk:   2%|▏         | 165/10057 [00:00<00:06, 1602.64it/s, now=None]  "
     ]
    },
    {
     "name": "stdout",
     "output_type": "stream",
     "text": [
      "MoviePy - Done.\n",
      "MoviePy - Writing audio in 1053_play.wav\n"
     ]
    },
    {
     "name": "stderr",
     "output_type": "stream",
     "text": [
      "chunk:   1%|          | 220/23748 [00:00<00:11, 2064.67it/s, now=None] "
     ]
    },
    {
     "name": "stdout",
     "output_type": "stream",
     "text": [
      "MoviePy - Done.\n",
      "MoviePy - Writing audio in 1053_meal.wav\n"
     ]
    },
    {
     "name": "stderr",
     "output_type": "stream",
     "text": [
      "chunk:   1%|▏         | 171/11749 [00:00<00:06, 1708.00it/s, now=None]  "
     ]
    },
    {
     "name": "stdout",
     "output_type": "stream",
     "text": [
      "MoviePy - Done.\n",
      "MoviePy - Writing audio in 1059_play.wav\n"
     ]
    },
    {
     "name": "stderr",
     "output_type": "stream",
     "text": [
      "chunk:   1%|          | 198/23164 [00:00<00:11, 1976.98it/s, now=None]  "
     ]
    },
    {
     "name": "stdout",
     "output_type": "stream",
     "text": [
      "MoviePy - Done.\n",
      "MoviePy - Writing audio in 1059_meal.wav\n"
     ]
    },
    {
     "name": "stderr",
     "output_type": "stream",
     "text": [
      "chunk:   1%|▏         | 165/11838 [00:00<00:07, 1562.76it/s, now=None]  "
     ]
    },
    {
     "name": "stdout",
     "output_type": "stream",
     "text": [
      "MoviePy - Done.\n",
      "MoviePy - Writing audio in 1062_play.wav\n"
     ]
    },
    {
     "name": "stderr",
     "output_type": "stream",
     "text": [
      "chunk:   1%|          | 186/25858 [00:00<00:13, 1858.57it/s, now=None]  "
     ]
    },
    {
     "name": "stdout",
     "output_type": "stream",
     "text": [
      "MoviePy - Done.\n",
      "MoviePy - Writing audio in 1062_meal.wav\n"
     ]
    },
    {
     "name": "stderr",
     "output_type": "stream",
     "text": [
      "chunk:   1%|          | 165/13682 [00:00<00:09, 1457.50it/s, now=None]  "
     ]
    },
    {
     "name": "stdout",
     "output_type": "stream",
     "text": [
      "MoviePy - Done.\n",
      "MoviePy - Writing audio in 1069_play.wav\n"
     ]
    },
    {
     "name": "stderr",
     "output_type": "stream",
     "text": [
      "chunk:   1%|          | 165/27355 [00:00<00:17, 1566.46it/s, now=None]  "
     ]
    },
    {
     "name": "stdout",
     "output_type": "stream",
     "text": [
      "MoviePy - Done.\n",
      "MoviePy - Writing audio in 1069_meal.wav\n"
     ]
    },
    {
     "name": "stderr",
     "output_type": "stream",
     "text": [
      "chunk:   2%|▏         | 165/10597 [00:00<00:06, 1581.88it/s, now=None]  "
     ]
    },
    {
     "name": "stdout",
     "output_type": "stream",
     "text": [
      "MoviePy - Done.\n",
      "MoviePy - Writing audio in 1073_play.wav\n"
     ]
    },
    {
     "name": "stderr",
     "output_type": "stream",
     "text": [
      "chunk:   1%|          | 165/15185 [00:00<00:09, 1538.56it/s, now=None]  "
     ]
    },
    {
     "name": "stdout",
     "output_type": "stream",
     "text": [
      "MoviePy - Done.\n",
      "MoviePy - Writing audio in 1073_meal.wav\n"
     ]
    },
    {
     "name": "stderr",
     "output_type": "stream",
     "text": [
      "chunk:   1%|          | 162/14481 [00:00<00:08, 1615.33it/s, now=None]  "
     ]
    },
    {
     "name": "stdout",
     "output_type": "stream",
     "text": [
      "MoviePy - Done.\n",
      "MoviePy - Writing audio in 1079_play.wav\n"
     ]
    },
    {
     "name": "stderr",
     "output_type": "stream",
     "text": [
      "chunk:   1%|          | 165/23077 [00:00<00:14, 1570.21it/s, now=None]  "
     ]
    },
    {
     "name": "stdout",
     "output_type": "stream",
     "text": [
      "MoviePy - Done.\n",
      "MoviePy - Writing audio in 1079_meal.wav\n"
     ]
    },
    {
     "name": "stderr",
     "output_type": "stream",
     "text": [
      "chunk:   1%|▏         | 142/10476 [00:00<00:07, 1419.25it/s, now=None]  "
     ]
    },
    {
     "name": "stdout",
     "output_type": "stream",
     "text": [
      "MoviePy - Done.\n",
      "MoviePy - Writing audio in 1080_play.wav\n"
     ]
    },
    {
     "name": "stderr",
     "output_type": "stream",
     "text": [
      "chunk:   1%|          | 165/32558 [00:00<00:20, 1609.64it/s, now=None]  "
     ]
    },
    {
     "name": "stdout",
     "output_type": "stream",
     "text": [
      "MoviePy - Done.\n",
      "MoviePy - Writing audio in 1080_meal.wav\n"
     ]
    },
    {
     "name": "stderr",
     "output_type": "stream",
     "text": [
      "chunk:   1%|          | 146/12676 [00:00<00:08, 1457.65it/s, now=None]  "
     ]
    },
    {
     "name": "stdout",
     "output_type": "stream",
     "text": [
      "MoviePy - Done.\n",
      "MoviePy - Writing audio in 1082_play.wav\n"
     ]
    },
    {
     "name": "stderr",
     "output_type": "stream",
     "text": [
      "chunk:   1%|          | 137/17751 [00:00<00:12, 1368.89it/s, now=None]  "
     ]
    },
    {
     "name": "stdout",
     "output_type": "stream",
     "text": [
      "MoviePy - Done.\n",
      "MoviePy - Writing audio in 1082_meal.wav\n"
     ]
    },
    {
     "name": "stderr",
     "output_type": "stream",
     "text": [
      "chunk:   0%|          | 34/14513 [00:00<00:43, 332.14it/s, now=None]    "
     ]
    },
    {
     "name": "stdout",
     "output_type": "stream",
     "text": [
      "MoviePy - Done.\n",
      "MoviePy - Writing audio in 1089_play.wav\n"
     ]
    },
    {
     "name": "stderr",
     "output_type": "stream",
     "text": [
      "chunk:   1%|          | 144/26838 [00:00<00:18, 1436.94it/s, now=None]  "
     ]
    },
    {
     "name": "stdout",
     "output_type": "stream",
     "text": [
      "MoviePy - Done.\n",
      "MoviePy - Writing audio in 1089_meal.wav\n"
     ]
    },
    {
     "name": "stderr",
     "output_type": "stream",
     "text": [
      "chunk:   2%|▏         | 165/8082 [00:00<00:05, 1536.26it/s, now=None]   "
     ]
    },
    {
     "name": "stdout",
     "output_type": "stream",
     "text": [
      "MoviePy - Done.\n",
      "MoviePy - Writing audio in 1091_play.wav\n"
     ]
    },
    {
     "name": "stderr",
     "output_type": "stream",
     "text": [
      "chunk:   1%|          | 191/29876 [00:00<00:15, 1906.58it/s, now=None]"
     ]
    },
    {
     "name": "stdout",
     "output_type": "stream",
     "text": [
      "MoviePy - Done.\n",
      "MoviePy - Writing audio in 1091_meal.wav\n"
     ]
    },
    {
     "name": "stderr",
     "output_type": "stream",
     "text": [
      "chunk:   1%|          | 167/16051 [00:00<00:09, 1665.44it/s, now=None]  "
     ]
    },
    {
     "name": "stdout",
     "output_type": "stream",
     "text": [
      "MoviePy - Done.\n",
      "MoviePy - Writing audio in 1092_play.wav\n"
     ]
    },
    {
     "name": "stderr",
     "output_type": "stream",
     "text": [
      "chunk:   0%|          | 110/30158 [00:00<00:31, 959.87it/s, now=None]   "
     ]
    },
    {
     "name": "stdout",
     "output_type": "stream",
     "text": [
      "MoviePy - Done.\n",
      "MoviePy - Writing audio in 1092_meal.wav\n"
     ]
    },
    {
     "name": "stderr",
     "output_type": "stream",
     "text": [
      "chunk:   1%|          | 165/16004 [00:00<00:09, 1638.03it/s, now=None]  "
     ]
    },
    {
     "name": "stdout",
     "output_type": "stream",
     "text": [
      "MoviePy - Done.\n",
      "MoviePy - Writing audio in 1093_play.wav\n"
     ]
    },
    {
     "name": "stderr",
     "output_type": "stream",
     "text": [
      "chunk:   1%|▏         | 220/15022 [00:00<00:07, 2102.71it/s, now=None]  "
     ]
    },
    {
     "name": "stdout",
     "output_type": "stream",
     "text": [
      "MoviePy - Done.\n",
      "MoviePy - Writing audio in 1093_meal.wav\n"
     ]
    },
    {
     "name": "stderr",
     "output_type": "stream",
     "text": [
      "chunk:   1%|          | 165/14239 [00:00<00:09, 1522.73it/s, now=None]  "
     ]
    },
    {
     "name": "stdout",
     "output_type": "stream",
     "text": [
      "MoviePy - Done.\n",
      "MoviePy - Writing audio in 1096_play.wav\n"
     ]
    },
    {
     "name": "stderr",
     "output_type": "stream",
     "text": [
      "chunk:   1%|          | 207/27149 [00:00<00:13, 2067.09it/s, now=None]  "
     ]
    },
    {
     "name": "stdout",
     "output_type": "stream",
     "text": [
      "MoviePy - Done.\n",
      "MoviePy - Writing audio in 1096_meal.wav\n"
     ]
    },
    {
     "name": "stderr",
     "output_type": "stream",
     "text": [
      "chunk:   1%|▏         | 165/12270 [00:00<00:07, 1586.98it/s, now=None]  "
     ]
    },
    {
     "name": "stdout",
     "output_type": "stream",
     "text": [
      "MoviePy - Done.\n",
      "MoviePy - Writing audio in 1097_play.wav\n"
     ]
    },
    {
     "name": "stderr",
     "output_type": "stream",
     "text": [
      "chunk:   1%|          | 185/21631 [00:00<00:11, 1840.05it/s, now=None]  "
     ]
    },
    {
     "name": "stdout",
     "output_type": "stream",
     "text": [
      "MoviePy - Done.\n",
      "MoviePy - Writing audio in 1097_meal.wav\n"
     ]
    },
    {
     "name": "stderr",
     "output_type": "stream",
     "text": [
      "chunk:   1%|          | 154/14395 [00:00<00:09, 1538.34it/s, now=None]  "
     ]
    },
    {
     "name": "stdout",
     "output_type": "stream",
     "text": [
      "MoviePy - Done.\n",
      "MoviePy - Writing audio in 1098_play.wav\n"
     ]
    },
    {
     "name": "stderr",
     "output_type": "stream",
     "text": [
      "chunk:   1%|          | 194/27980 [00:00<00:14, 1939.61it/s, now=None]  "
     ]
    },
    {
     "name": "stdout",
     "output_type": "stream",
     "text": [
      "MoviePy - Done.\n",
      "MoviePy - Writing audio in 1098_meal.wav\n"
     ]
    },
    {
     "name": "stderr",
     "output_type": "stream",
     "text": [
      "chunk:   2%|▏         | 153/9808 [00:00<00:06, 1528.37it/s, now=None]   "
     ]
    },
    {
     "name": "stdout",
     "output_type": "stream",
     "text": [
      "MoviePy - Done.\n",
      "MoviePy - Writing audio in 1099_play.wav\n"
     ]
    },
    {
     "name": "stderr",
     "output_type": "stream",
     "text": [
      "chunk:   1%|          | 199/33101 [00:00<00:16, 1986.17it/s, now=None]"
     ]
    },
    {
     "name": "stdout",
     "output_type": "stream",
     "text": [
      "MoviePy - Done.\n",
      "MoviePy - Writing audio in 1099_meal.wav\n"
     ]
    },
    {
     "name": "stderr",
     "output_type": "stream",
     "text": [
      "chunk:   2%|▏         | 165/8304 [00:00<00:05, 1566.77it/s, now=None]   "
     ]
    },
    {
     "name": "stdout",
     "output_type": "stream",
     "text": [
      "MoviePy - Done.\n",
      "MoviePy - Writing audio in 1104_play.wav\n"
     ]
    },
    {
     "name": "stderr",
     "output_type": "stream",
     "text": [
      "chunk:   1%|          | 221/32859 [00:00<00:14, 2204.09it/s, now=None]"
     ]
    },
    {
     "name": "stdout",
     "output_type": "stream",
     "text": [
      "MoviePy - Done.\n",
      "MoviePy - Writing audio in 1104_meal.wav\n"
     ]
    },
    {
     "name": "stderr",
     "output_type": "stream",
     "text": [
      "chunk:   2%|▏         | 165/6601 [00:00<00:04, 1567.88it/s, now=None]   "
     ]
    },
    {
     "name": "stdout",
     "output_type": "stream",
     "text": [
      "MoviePy - Done.\n",
      "MoviePy - Writing audio in 1105_play.wav\n"
     ]
    },
    {
     "name": "stderr",
     "output_type": "stream",
     "text": [
      "chunk:   1%|          | 180/20558 [00:00<00:11, 1796.16it/s, now=None]"
     ]
    },
    {
     "name": "stdout",
     "output_type": "stream",
     "text": [
      "MoviePy - Done.\n",
      "MoviePy - Writing audio in 1105_meal.wav\n"
     ]
    },
    {
     "name": "stderr",
     "output_type": "stream",
     "text": [
      "chunk:   2%|▏         | 165/9443 [00:00<00:05, 1601.20it/s, now=None]   "
     ]
    },
    {
     "name": "stdout",
     "output_type": "stream",
     "text": [
      "MoviePy - Done.\n",
      "MoviePy - Writing audio in 1107_play.wav\n"
     ]
    },
    {
     "name": "stderr",
     "output_type": "stream",
     "text": [
      "chunk:   1%|          | 206/26016 [00:00<00:12, 2057.36it/s, now=None]"
     ]
    },
    {
     "name": "stdout",
     "output_type": "stream",
     "text": [
      "MoviePy - Done.\n",
      "MoviePy - Writing audio in 1107_meal.wav\n"
     ]
    },
    {
     "name": "stderr",
     "output_type": "stream",
     "text": [
      "chunk:   2%|▏         | 165/10806 [00:00<00:07, 1505.19it/s, now=None]  "
     ]
    },
    {
     "name": "stdout",
     "output_type": "stream",
     "text": [
      "MoviePy - Done.\n",
      "MoviePy - Writing audio in 1108_play.wav\n"
     ]
    },
    {
     "name": "stderr",
     "output_type": "stream",
     "text": [
      "chunk:   0%|          | 138/38043 [00:00<00:27, 1378.74it/s, now=None]  "
     ]
    },
    {
     "name": "stdout",
     "output_type": "stream",
     "text": [
      "MoviePy - Done.\n",
      "MoviePy - Writing audio in 1108_meal.wav\n"
     ]
    },
    {
     "name": "stderr",
     "output_type": "stream",
     "text": [
      "chunk:   2%|▏         | 165/9921 [00:00<00:06, 1590.77it/s, now=None]   "
     ]
    },
    {
     "name": "stdout",
     "output_type": "stream",
     "text": [
      "MoviePy - Done.\n",
      "MoviePy - Writing audio in 1112_play.wav\n"
     ]
    },
    {
     "name": "stderr",
     "output_type": "stream",
     "text": [
      "chunk:   1%|          | 203/38488 [00:00<00:18, 2027.02it/s, now=None]"
     ]
    },
    {
     "name": "stdout",
     "output_type": "stream",
     "text": [
      "MoviePy - Done.\n",
      "MoviePy - Writing audio in 1112_meal.wav\n"
     ]
    },
    {
     "name": "stderr",
     "output_type": "stream",
     "text": [
      "chunk:   2%|▏         | 154/9810 [00:00<00:06, 1539.95it/s, now=None]   "
     ]
    },
    {
     "name": "stdout",
     "output_type": "stream",
     "text": [
      "MoviePy - Done.\n",
      "MoviePy - Writing audio in 1117_play.wav\n"
     ]
    },
    {
     "name": "stderr",
     "output_type": "stream",
     "text": [
      "chunk:   0%|          | 165/40962 [00:00<00:24, 1636.30it/s, now=None]"
     ]
    },
    {
     "name": "stdout",
     "output_type": "stream",
     "text": [
      "MoviePy - Done.\n",
      "MoviePy - Writing audio in 1117_meal.wav\n"
     ]
    },
    {
     "name": "stderr",
     "output_type": "stream",
     "text": [
      "chunk:   2%|▏         | 220/12007 [00:00<00:05, 2088.83it/s, now=None]  "
     ]
    },
    {
     "name": "stdout",
     "output_type": "stream",
     "text": [
      "MoviePy - Done.\n",
      "MoviePy - Writing audio in 1118_play.wav\n"
     ]
    },
    {
     "name": "stderr",
     "output_type": "stream",
     "text": [
      "chunk:   1%|          | 219/33733 [00:00<00:15, 2189.41it/s, now=None]  "
     ]
    },
    {
     "name": "stdout",
     "output_type": "stream",
     "text": [
      "MoviePy - Done.\n",
      "MoviePy - Writing audio in 1118_meal.wav\n"
     ]
    },
    {
     "name": "stderr",
     "output_type": "stream",
     "text": [
      "chunk:   2%|▏         | 144/8201 [00:00<00:05, 1439.27it/s, now=None]   "
     ]
    },
    {
     "name": "stdout",
     "output_type": "stream",
     "text": [
      "MoviePy - Done.\n",
      "MoviePy - Writing audio in 1122_play.wav\n"
     ]
    },
    {
     "name": "stderr",
     "output_type": "stream",
     "text": [
      "chunk:   1%|▏         | 237/16701 [00:00<00:06, 2367.16it/s, now=None]"
     ]
    },
    {
     "name": "stdout",
     "output_type": "stream",
     "text": [
      "MoviePy - Done.\n",
      "MoviePy - Writing audio in 1122_meal.wav\n"
     ]
    },
    {
     "name": "stderr",
     "output_type": "stream",
     "text": [
      "chunk:   2%|▏         | 194/8422 [00:00<00:04, 1938.80it/s, now=None]   "
     ]
    },
    {
     "name": "stdout",
     "output_type": "stream",
     "text": [
      "MoviePy - Done.\n",
      "MoviePy - Writing audio in 1124_play.wav\n"
     ]
    },
    {
     "name": "stderr",
     "output_type": "stream",
     "text": [
      "chunk:   1%|          | 194/17181 [00:00<00:08, 1919.29it/s, now=None]"
     ]
    },
    {
     "name": "stdout",
     "output_type": "stream",
     "text": [
      "MoviePy - Done.\n",
      "MoviePy - Writing audio in 1124_meal.wav\n"
     ]
    },
    {
     "name": "stderr",
     "output_type": "stream",
     "text": [
      "chunk:   2%|▏         | 187/10425 [00:00<00:05, 1868.69it/s, now=None]  "
     ]
    },
    {
     "name": "stdout",
     "output_type": "stream",
     "text": [
      "MoviePy - Done.\n",
      "MoviePy - Writing audio in 1125_play.wav\n"
     ]
    },
    {
     "name": "stderr",
     "output_type": "stream",
     "text": [
      "chunk:   1%|          | 198/30534 [00:00<00:15, 1978.24it/s, now=None]  "
     ]
    },
    {
     "name": "stdout",
     "output_type": "stream",
     "text": [
      "MoviePy - Done.\n",
      "MoviePy - Writing audio in 1125_meal.wav\n"
     ]
    },
    {
     "name": "stderr",
     "output_type": "stream",
     "text": [
      "chunk:   2%|▏         | 165/8609 [00:00<00:05, 1550.59it/s, now=None]   "
     ]
    },
    {
     "name": "stdout",
     "output_type": "stream",
     "text": [
      "MoviePy - Done.\n",
      "MoviePy - Writing audio in 1130_play.wav\n"
     ]
    },
    {
     "name": "stderr",
     "output_type": "stream",
     "text": [
      "chunk:   1%|          | 153/28065 [00:00<00:18, 1526.06it/s, now=None]"
     ]
    },
    {
     "name": "stdout",
     "output_type": "stream",
     "text": [
      "MoviePy - Done.\n",
      "MoviePy - Writing audio in 1130_meal.wav\n"
     ]
    },
    {
     "name": "stderr",
     "output_type": "stream",
     "text": [
      "chunk:   2%|▏         | 165/10223 [00:00<00:06, 1638.55it/s, now=None]  "
     ]
    },
    {
     "name": "stdout",
     "output_type": "stream",
     "text": [
      "MoviePy - Done.\n",
      "MoviePy - Writing audio in 1131_play.wav\n"
     ]
    },
    {
     "name": "stderr",
     "output_type": "stream",
     "text": [
      "chunk:   1%|▏         | 188/14461 [00:00<00:07, 1876.79it/s, now=None]  "
     ]
    },
    {
     "name": "stdout",
     "output_type": "stream",
     "text": [
      "MoviePy - Done.\n",
      "MoviePy - Writing audio in 1131_meal.wav\n"
     ]
    },
    {
     "name": "stderr",
     "output_type": "stream",
     "text": [
      "chunk:   0%|          | 34/10893 [00:00<00:31, 339.97it/s, now=None]    "
     ]
    },
    {
     "name": "stdout",
     "output_type": "stream",
     "text": [
      "MoviePy - Done.\n",
      "MoviePy - Writing audio in 1132_play.wav\n"
     ]
    },
    {
     "name": "stderr",
     "output_type": "stream",
     "text": [
      "chunk:   1%|          | 154/24740 [00:00<00:15, 1538.08it/s, now=None]  "
     ]
    },
    {
     "name": "stdout",
     "output_type": "stream",
     "text": [
      "MoviePy - Done.\n",
      "MoviePy - Writing audio in 1132_meal.wav\n"
     ]
    },
    {
     "name": "stderr",
     "output_type": "stream",
     "text": [
      "chunk:   3%|▎         | 187/6616 [00:00<00:03, 1869.20it/s, now=None]   "
     ]
    },
    {
     "name": "stdout",
     "output_type": "stream",
     "text": [
      "MoviePy - Done.\n",
      "MoviePy - Writing audio in 1134_play.wav\n"
     ]
    },
    {
     "name": "stderr",
     "output_type": "stream",
     "text": [
      "chunk:   1%|          | 218/28012 [00:00<00:12, 2173.57it/s, now=None]"
     ]
    },
    {
     "name": "stdout",
     "output_type": "stream",
     "text": [
      "MoviePy - Done.\n",
      "MoviePy - Writing audio in 1134_meal.wav\n"
     ]
    },
    {
     "name": "stderr",
     "output_type": "stream",
     "text": [
      "chunk:   1%|▏         | 165/12301 [00:00<00:07, 1542.95it/s, now=None]  "
     ]
    },
    {
     "name": "stdout",
     "output_type": "stream",
     "text": [
      "MoviePy - Done.\n",
      "MoviePy - Writing audio in 1180_play.wav\n"
     ]
    },
    {
     "name": "stderr",
     "output_type": "stream",
     "text": [
      "chunk:   1%|          | 165/30349 [00:00<00:18, 1648.78it/s, now=None]  "
     ]
    },
    {
     "name": "stdout",
     "output_type": "stream",
     "text": [
      "MoviePy - Done.\n",
      "MoviePy - Writing audio in 1180_meal.wav\n"
     ]
    },
    {
     "name": "stderr",
     "output_type": "stream",
     "text": [
      "chunk:   1%|          | 217/37847 [00:00<00:17, 2167.55it/s, now=None]  "
     ]
    },
    {
     "name": "stdout",
     "output_type": "stream",
     "text": [
      "MoviePy - Done.\n",
      "MoviePy - Writing audio in 1181_meal.wav\n"
     ]
    },
    {
     "name": "stderr",
     "output_type": "stream",
     "text": [
      "chunk:   1%|▏         | 174/12126 [00:00<00:06, 1736.91it/s, now=None]  "
     ]
    },
    {
     "name": "stdout",
     "output_type": "stream",
     "text": [
      "MoviePy - Done.\n",
      "MoviePy - Writing audio in 1181_play.wav\n"
     ]
    },
    {
     "name": "stderr",
     "output_type": "stream",
     "text": [
      "chunk:   0%|          | 165/45231 [00:00<00:28, 1588.42it/s, now=None]  "
     ]
    },
    {
     "name": "stdout",
     "output_type": "stream",
     "text": [
      "MoviePy - Done.\n",
      "MoviePy - Writing audio in 1190_meal.wav\n"
     ]
    },
    {
     "name": "stderr",
     "output_type": "stream",
     "text": [
      "chunk:   1%|          | 166/14617 [00:00<00:08, 1659.31it/s, now=None]  "
     ]
    },
    {
     "name": "stdout",
     "output_type": "stream",
     "text": [
      "MoviePy - Done.\n",
      "MoviePy - Writing audio in 1190_play.wav\n"
     ]
    },
    {
     "name": "stderr",
     "output_type": "stream",
     "text": [
      "chunk:   0%|          | 104/23216 [00:00<00:22, 1039.85it/s, now=None]  "
     ]
    },
    {
     "name": "stdout",
     "output_type": "stream",
     "text": [
      "MoviePy - Done.\n",
      "MoviePy - Writing audio in 1206_meal.wav\n"
     ]
    },
    {
     "name": "stderr",
     "output_type": "stream",
     "text": [
      "chunk:   1%|          | 220/20829 [00:00<00:09, 2091.81it/s, now=None]  "
     ]
    },
    {
     "name": "stdout",
     "output_type": "stream",
     "text": [
      "MoviePy - Done.\n",
      "MoviePy - Writing audio in 1206_play.wav\n"
     ]
    },
    {
     "name": "stderr",
     "output_type": "stream",
     "text": [
      "chunk:   1%|▏         | 165/12436 [00:00<00:07, 1620.20it/s, now=None]  "
     ]
    },
    {
     "name": "stdout",
     "output_type": "stream",
     "text": [
      "MoviePy - Done.\n",
      "MoviePy - Writing audio in 1210_play.wav\n"
     ]
    },
    {
     "name": "stderr",
     "output_type": "stream",
     "text": [
      "chunk:   2%|▏         | 187/11960 [00:00<00:06, 1867.61it/s, now=None]  "
     ]
    },
    {
     "name": "stdout",
     "output_type": "stream",
     "text": [
      "MoviePy - Done.\n",
      "MoviePy - Writing audio in 1217_play.wav\n"
     ]
    },
    {
     "name": "stderr",
     "output_type": "stream",
     "text": [
      "chunk:   1%|          | 110/17175 [00:00<00:16, 1046.21it/s, now=None]  "
     ]
    },
    {
     "name": "stdout",
     "output_type": "stream",
     "text": [
      "MoviePy - Done.\n",
      "MoviePy - Writing audio in 1217_meal.wav\n"
     ]
    },
    {
     "name": "stderr",
     "output_type": "stream",
     "text": [
      "chunk:   1%|          | 174/25470 [00:00<00:14, 1734.42it/s, now=None]  "
     ]
    },
    {
     "name": "stdout",
     "output_type": "stream",
     "text": [
      "MoviePy - Done.\n",
      "MoviePy - Writing audio in 1234_play.wav\n"
     ]
    },
    {
     "name": "stderr",
     "output_type": "stream",
     "text": [
      "chunk:   2%|▏         | 165/10803 [00:00<00:06, 1629.41it/s, now=None]  "
     ]
    },
    {
     "name": "stdout",
     "output_type": "stream",
     "text": [
      "MoviePy - Done.\n",
      "MoviePy - Writing audio in 1234_meal.wav\n"
     ]
    },
    {
     "name": "stderr",
     "output_type": "stream",
     "text": [
      "chunk:   1%|          | 165/16180 [00:00<00:09, 1648.98it/s, now=None]  "
     ]
    },
    {
     "name": "stdout",
     "output_type": "stream",
     "text": [
      "MoviePy - Done.\n",
      "MoviePy - Writing audio in 1241_play.wav\n"
     ]
    },
    {
     "name": "stderr",
     "output_type": "stream",
     "text": [
      "chunk:   1%|▏         | 164/11641 [00:00<00:07, 1637.79it/s, now=None]  "
     ]
    },
    {
     "name": "stdout",
     "output_type": "stream",
     "text": [
      "MoviePy - Done.\n",
      "MoviePy - Writing audio in 1241_meal.wav\n"
     ]
    },
    {
     "name": "stderr",
     "output_type": "stream",
     "text": [
      "chunk:   1%|          | 175/22813 [00:00<00:12, 1747.15it/s, now=None]  "
     ]
    },
    {
     "name": "stdout",
     "output_type": "stream",
     "text": [
      "MoviePy - Done.\n",
      "MoviePy - Writing audio in 1245_play.wav\n"
     ]
    },
    {
     "name": "stderr",
     "output_type": "stream",
     "text": [
      "chunk:   0%|          | 110/43042 [00:00<00:41, 1035.85it/s, now=None]  "
     ]
    },
    {
     "name": "stdout",
     "output_type": "stream",
     "text": [
      "MoviePy - Done.\n",
      "MoviePy - Writing audio in 1245_meal.wav\n"
     ]
    },
    {
     "name": "stderr",
     "output_type": "stream",
     "text": [
      "chunk:   1%|          | 127/12211 [00:00<00:09, 1268.49it/s, now=None]  "
     ]
    },
    {
     "name": "stdout",
     "output_type": "stream",
     "text": [
      "MoviePy - Done.\n",
      "MoviePy - Writing audio in 1246_play.wav\n"
     ]
    },
    {
     "name": "stderr",
     "output_type": "stream",
     "text": [
      "chunk:   1%|          | 200/18361 [00:00<00:09, 1996.73it/s, now=None]  "
     ]
    },
    {
     "name": "stdout",
     "output_type": "stream",
     "text": [
      "MoviePy - Done.\n",
      "MoviePy - Writing audio in 1246_meal.wav\n"
     ]
    },
    {
     "name": "stderr",
     "output_type": "stream",
     "text": [
      "chunk:   1%|          | 145/21761 [00:00<00:14, 1449.49it/s, now=None]  "
     ]
    },
    {
     "name": "stdout",
     "output_type": "stream",
     "text": [
      "MoviePy - Done.\n",
      "MoviePy - Writing audio in 1250_play.wav\n"
     ]
    },
    {
     "name": "stderr",
     "output_type": "stream",
     "text": [
      "chunk:   1%|          | 145/20498 [00:00<00:14, 1446.46it/s, now=None]  "
     ]
    },
    {
     "name": "stdout",
     "output_type": "stream",
     "text": [
      "MoviePy - Done.\n",
      "MoviePy - Writing audio in 1250_meal.wav\n"
     ]
    },
    {
     "name": "stderr",
     "output_type": "stream",
     "text": [
      "chunk:   1%|          | 150/20224 [00:00<00:13, 1498.18it/s, now=None]  "
     ]
    },
    {
     "name": "stdout",
     "output_type": "stream",
     "text": [
      "MoviePy - Done.\n",
      "MoviePy - Writing audio in 1263_play.wav\n"
     ]
    },
    {
     "name": "stderr",
     "output_type": "stream",
     "text": [
      "chunk:   1%|          | 203/21931 [00:00<00:10, 2029.17it/s, now=None]  "
     ]
    },
    {
     "name": "stdout",
     "output_type": "stream",
     "text": [
      "MoviePy - Done.\n",
      "MoviePy - Writing audio in 1263_meal.wav\n"
     ]
    },
    {
     "name": "stderr",
     "output_type": "stream",
     "text": [
      "chunk:   1%|          | 186/22386 [00:00<00:11, 1859.18it/s, now=None]  "
     ]
    },
    {
     "name": "stdout",
     "output_type": "stream",
     "text": [
      "MoviePy - Done.\n",
      "MoviePy - Writing audio in 1264_play.wav\n"
     ]
    },
    {
     "name": "stderr",
     "output_type": "stream",
     "text": [
      "chunk:   0%|          | 167/36262 [00:00<00:21, 1667.35it/s, now=None]  "
     ]
    },
    {
     "name": "stdout",
     "output_type": "stream",
     "text": [
      "MoviePy - Done.\n",
      "MoviePy - Writing audio in 1264_meal.wav\n"
     ]
    },
    {
     "name": "stderr",
     "output_type": "stream",
     "text": [
      "chunk:   1%|          | 157/28944 [00:00<00:18, 1567.63it/s, now=None]  "
     ]
    },
    {
     "name": "stdout",
     "output_type": "stream",
     "text": [
      "MoviePy - Done.\n",
      "MoviePy - Writing audio in 1269_play.wav\n"
     ]
    },
    {
     "name": "stderr",
     "output_type": "stream",
     "text": [
      "chunk:   1%|▏         | 200/15430 [00:00<00:07, 1998.86it/s, now=None]  "
     ]
    },
    {
     "name": "stdout",
     "output_type": "stream",
     "text": [
      "MoviePy - Done.\n",
      "MoviePy - Writing audio in 1269_meal.wav\n"
     ]
    },
    {
     "name": "stderr",
     "output_type": "stream",
     "text": [
      "chunk:   1%|          | 182/21689 [00:00<00:11, 1816.61it/s, now=None]  "
     ]
    },
    {
     "name": "stdout",
     "output_type": "stream",
     "text": [
      "MoviePy - Done.\n",
      "MoviePy - Writing audio in 1282_play.wav\n"
     ]
    },
    {
     "name": "stderr",
     "output_type": "stream",
     "text": [
      "chunk:   1%|          | 182/14635 [00:00<00:07, 1819.60it/s, now=None]  "
     ]
    },
    {
     "name": "stdout",
     "output_type": "stream",
     "text": [
      "MoviePy - Done.\n",
      "MoviePy - Writing audio in 1282_meal.wav\n"
     ]
    },
    {
     "name": "stderr",
     "output_type": "stream",
     "text": [
      "chunk:   1%|▏         | 217/15326 [00:00<00:06, 2168.07it/s, now=None]  "
     ]
    },
    {
     "name": "stdout",
     "output_type": "stream",
     "text": [
      "MoviePy - Done.\n",
      "MoviePy - Writing audio in 2009_play.wav\n"
     ]
    },
    {
     "name": "stderr",
     "output_type": "stream",
     "text": [
      "chunk:   1%|          | 220/25064 [00:00<00:12, 2008.76it/s, now=None]  "
     ]
    },
    {
     "name": "stdout",
     "output_type": "stream",
     "text": [
      "MoviePy - Done.\n",
      "MoviePy - Writing audio in 2009_meal.wav\n"
     ]
    },
    {
     "name": "stderr",
     "output_type": "stream",
     "text": [
      "chunk:   1%|          | 165/31639 [00:00<00:19, 1633.70it/s, now=None]  "
     ]
    },
    {
     "name": "stdout",
     "output_type": "stream",
     "text": [
      "MoviePy - Done.\n",
      "MoviePy - Writing audio in 2025_play.wav\n"
     ]
    },
    {
     "name": "stderr",
     "output_type": "stream",
     "text": [
      "chunk:   2%|▏         | 165/10795 [00:00<00:06, 1624.42it/s, now=None]  "
     ]
    },
    {
     "name": "stdout",
     "output_type": "stream",
     "text": [
      "MoviePy - Done.\n",
      "MoviePy - Writing audio in 2025_meal.wav\n"
     ]
    },
    {
     "name": "stderr",
     "output_type": "stream",
     "text": [
      "chunk:   2%|▏         | 185/7837 [00:00<00:04, 1848.21it/s, now=None]   "
     ]
    },
    {
     "name": "stdout",
     "output_type": "stream",
     "text": [
      "MoviePy - Done.\n",
      "MoviePy - Writing audio in 2027_play.wav\n"
     ]
    },
    {
     "name": "stderr",
     "output_type": "stream",
     "text": [
      "chunk:   4%|▍         | 165/4321 [00:00<00:02, 1578.03it/s, now=None] "
     ]
    },
    {
     "name": "stdout",
     "output_type": "stream",
     "text": [
      "MoviePy - Done.\n",
      "MoviePy - Writing audio in 2027_meal.wav\n"
     ]
    },
    {
     "name": "stderr",
     "output_type": "stream",
     "text": [
      "                                                                      \r"
     ]
    },
    {
     "name": "stdout",
     "output_type": "stream",
     "text": [
      "MoviePy - Done.\n"
     ]
    }
   ],
   "source": [
    "for audio, name in zip(audio, audio_names):\n",
    "    audio.write_audiofile(str(name), 48000, 4, codec=\"pcm_s32le\")"
   ]
  },
  {
   "cell_type": "code",
   "execution_count": null,
   "metadata": {},
   "outputs": [],
   "source": []
  }
 ],
 "metadata": {
  "kernelspec": {
   "display_name": "Python 3",
   "language": "python",
   "name": "python3"
  },
  "language_info": {
   "codemirror_mode": {
    "name": "ipython",
    "version": 3
   },
   "file_extension": ".py",
   "mimetype": "text/x-python",
   "name": "python",
   "nbconvert_exporter": "python",
   "pygments_lexer": "ipython3",
   "version": "3.8.5"
  }
 },
 "nbformat": 4,
 "nbformat_minor": 4
}
