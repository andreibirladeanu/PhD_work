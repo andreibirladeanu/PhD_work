{
 "cells": [
  {
   "cell_type": "code",
   "execution_count": null,
   "id": "db2cebbd-aaba-4fad-a90c-ca1f9ecb0f4f",
   "metadata": {},
   "outputs": [],
   "source": [
    "import pandas as pd\n",
    "import numpy as np\n",
    "from pathlib import Path\n",
    "import os\n",
    "from tqdm import tqdm\n",
    "import pandas as pd\n",
    "import sys\n",
    "import numpy as np\n",
    "import matplotlib.pyplot as plt\n",
    "import cv2\n",
    "import re\n",
    "import shutil\n",
    "from pathlib import Path\n",
    "from sorted_alpha import sorted_alpha\n",
    "from scipy.spatial import distance\n",
    "from sklearn.neighbors import NearestNeighbors\n",
    "from scipy import interpolate\n",
    "from frame_count import frame_count\n",
    "from scipy.signal import savgol_filter\n",
    "from scipy.interpolate import interp1d\n",
    "from munkres import Munkres, print_matrix\n",
    "from scipy.spatial import distance"
   ]
  },
  {
   "cell_type": "code",
   "execution_count": null,
   "id": "b01450b9-3a72-4765-a5ef-8029c39796bf",
   "metadata": {},
   "outputs": [],
   "source": [
    "folder = '/Users/andrei-macpro/Documents/Data/pose/play_openpose/1062_play_1'\n",
    "poses = sorted_alpha(folder)"
   ]
  },
  {
   "cell_type": "code",
   "execution_count": null,
   "id": "941f5387-915a-4281-aa88-adab78f794fc",
   "metadata": {},
   "outputs": [],
   "source": [
    "frame_no = [int((x.split(\".\"))[0].split(\"_\")[1]) for x in poses]"
   ]
  },
  {
   "cell_type": "code",
   "execution_count": null,
   "id": "b5a619ba-dd47-4d8f-b0a5-26c1c962e60d",
   "metadata": {},
   "outputs": [],
   "source": [
    "def get_skeletons(frame_no, detection):\n",
    "    \"\"\"function that reads a detections frame, checks if necks are present, and returns the skeletons\"\"\"\n",
    "    data = pd.read_csv(detection, index_col=0)\n",
    "   # if len(data.columns)>9: # drop the fourth skeleton if detected because there can't be 4 people\n",
    "    #    data.drop(columns=['x_4', 'y_4', 'prob_4'], inplace=True)\n",
    "    ## first check if it contains the neck \n",
    "    temp_data = data\n",
    "    for i in range(0, len(data.columns),3): # drop skeletons without neck\n",
    "        if np.isnan(data[data.columns[i]].loc[1]) == True:\n",
    "            temp_data = temp_data.drop([data.columns[i],data.columns[i+1], data.columns[i+2]], axis=1) ## drop skeletons with missing neck\n",
    "    data=temp_data\n",
    "    if len(data.columns) < 3: ## if not enough skeletons with neck present return 0 \n",
    "        return(None)\n",
    "    else:\n",
    "        skeletons=[]\n",
    "        ## remove probs columns\n",
    "        for col in data.columns:\n",
    "            if data[col].name[0:3] == 'pro':\n",
    "                data=data.drop([col], axis=1)\n",
    "     # return every skeleton now  \n",
    "        for x,y, in zip(data.columns[::2], data.columns[1::2]):\n",
    "            skeletons.append(data[[x,y]].to_numpy())\n",
    "        return(skeletons) ## this is a list of skeletons(stacked)\n",
    "        \n",
    "    "
   ]
  },
  {
   "cell_type": "code",
   "execution_count": null,
   "id": "b9eb895f-d511-4727-8b7f-ae5bfd0d4b13",
   "metadata": {},
   "outputs": [],
   "source": [
    "def dist_matrix(prev_detections, new_detect):\n",
    "    \"\"\"calculates distances between each new detection and the previous detections from each track\"\"\"\n",
    "    \"\"\"returns a matrix of shape n x m where n is len(prev_detections) and m is len(new_detect)\"\"\"\n",
    "    tracklets = [x['skeleton'][-1][1] for x in prev_detections if x['skeleton']!=[]]\n",
    "    new_detect = [x[1] for x in new_detect]\n",
    "    return(distance.cdist(tracklets, new_detect, 'euclidean'))"
   ]
  },
  {
   "cell_type": "code",
   "execution_count": null,
   "id": "a56e9bb4-777f-4f75-828d-e90735de1a8a",
   "metadata": {},
   "outputs": [],
   "source": [
    "def assignment(distance_matrix):\n",
    "    \"\"\"does optimal assignment of detections to tracks using hungarian algorithm\"\"\"\n",
    "    m = Munkres()\n",
    "    if distance_matrix.shape[0]>distance_matrix.shape[1]:\n",
    "        matrix = np.transpose(distance_matrix)\n",
    "        indexes = m.compute(matrix)\n",
    "        indexes = [x[::-1] for x in indexes]\n",
    "    else:\n",
    "        matrix = m.pad_matrix(distance_matrix) # pads the matrix for when there are more detections than initialized tracks\n",
    "        indexes = m.compute(matrix)\n",
    "    return(indexes)\n"
   ]
  },
  {
   "cell_type": "code",
   "execution_count": null,
   "id": "2a24520b-cd78-4c59-8e63-00cef88f8e5c",
   "metadata": {},
   "outputs": [],
   "source": [
    "def missing_elements(L):\n",
    "    start, end = L[0], L[-1]\n",
    "    return sorted(set(range(start, end + 1)).difference(L))"
   ]
  },
  {
   "cell_type": "code",
   "execution_count": null,
   "id": "0db7da5f-f234-48e0-8b7b-a9c108bb84bc",
   "metadata": {},
   "outputs": [],
   "source": [
    "def insert_position(position, list1, list2): ## position is the upper bound\n",
    "    return list1[:position] + list2 + list1[position:]"
   ]
  },
  {
   "cell_type": "code",
   "execution_count": null,
   "id": "e077e0ec-e04b-4f27-94b9-debb6e2eecce",
   "metadata": {},
   "outputs": [],
   "source": [
    "def save_tracks(path, folder, tracks):\n",
    "    for track,k in zip(tracks, range(len(tracks))):\n",
    "        if len(track['frame'])<11:\n",
    "            continue\n",
    "        track['skeleton'] = savgol_filter(track['skeleton'], 11, 2, axis=0)\n",
    "        frames = track['frame']\n",
    "        joints = [x for x in range(0,18)]\n",
    "        frames_index = [x for x in  frames for joint in joints]\n",
    "        joints_index = joints*len(track['skeleton'])\n",
    "        track_df = pd.DataFrame((np.vstack(track['skeleton'])), index = [frames_index, joints_index],columns=['x', 'y'])\n",
    "        track_df = track_df.rename_axis(['frame','joint'])\n",
    "        track_df.to_csv(os.path.join(path, folder,'track_'+str(k+1)+'.csv'), na_rep=np.nan)\n",
    "    return('success')"
   ]
  },
  {
   "cell_type": "code",
   "execution_count": null,
   "id": "fcbeae99-abb4-4e0e-a90c-998a50afd902",
   "metadata": {},
   "outputs": [],
   "source": [
    "def find_min_round(coord):\n",
    "    coord = np.array(coord)\n",
    "    x = round(np.min(coord[np.isfinite(coord)]))\n",
    "    return(x)\n",
    "\n",
    "def find_max_round(coord):\n",
    "    coord = np.array(coord)\n",
    "    x = round(np.max(coord[np.isfinite(coord)]))\n",
    "    return(x)"
   ]
  },
  {
   "cell_type": "code",
   "execution_count": null,
   "id": "541c6a7e-4563-467e-9fc0-9aff0d992c0e",
   "metadata": {},
   "outputs": [],
   "source": [
    "a = [2,3]\n",
    "a[:5]"
   ]
  },
  {
   "cell_type": "code",
   "execution_count": null,
   "id": "a6136fbe-4fec-4598-9d23-8b6bc7f383dd",
   "metadata": {},
   "outputs": [],
   "source": [
    "track_1, track_2= {'frame':[], 'skeleton':[]}, {'frame':[], 'skeleton':[]}\n",
    "tracks = [track_1, track_2]\n",
    "frames = []\n",
    "for pose, no in zip(poses, frame_no):\n",
    "    print(no)\n",
    "    frames.append(frame_no)\n",
    "    detect = get_skeletons(no, os.path.join(folder, pose))\n",
    "    if detect == None: continue\n",
    "   # if track_1['frame'] == []: # initializing the first track \n",
    "    while track_1['frame'] == [] and track_2['frame'] ==[]:\n",
    "        for detection in range(len(detect[:2])): ## restricting to only 2 detections\n",
    "            tracks[detection]['skeleton'].append(detect[detection]) ## in the first frame initalize the tracks\n",
    "            tracks[detection]['frame'].append(no)\n",
    "       # continue\n",
    "    matrix = dist_matrix(tracks, detect) #creates a matrix of distances between previous detections and new detections\n",
    "    indexes = assignment(matrix) # get the indices of which detections belongs to which track\n",
    "    for row, column in indexes[:len(tracks)]: ## the indexes could be padded so might have 3 rows but only 2 tracks \n",
    "        tracks[row]['skeleton'].append(detect[column])\n",
    "        tracks[row]['frame'].append(no)\n",
    "    ## interpolation\n",
    "    for track in tracks:\n",
    "        if track['frame']==[] or len(track['frame'])<2:continue\n",
    "\n",
    "        gaps = missing_elements([track['frame'][-2], track['frame'][-1]]) ## the gaps are the missing frame numbers not indexes\n",
    "        if len(gaps) > 0 and len(gaps) <50:\n",
    "            f = interp1d(track['frame'], track['skeleton'], axis=0)\n",
    "            to_insert = f(gaps).tolist()\n",
    "            track['skeleton'] = insert_position(track['frame'].index(gaps[-1]+1), \n",
    "                                                track['skeleton'], to_insert)\n",
    "            track['frame'] = insert_position(track['frame'].index(gaps[-1]+1), track['frame'], gaps)\n",
    "            \n",
    "            "
   ]
  },
  {
   "cell_type": "code",
   "execution_count": null,
   "id": "1bb2d5f9-b447-4527-9528-c32e4219d64d",
   "metadata": {},
   "outputs": [],
   "source": [
    "track_2"
   ]
  },
  {
   "cell_type": "markdown",
   "id": "6b31ef7e-5583-48a4-b979-6e0e765a631c",
   "metadata": {},
   "source": [
    "## for all "
   ]
  },
  {
   "cell_type": "code",
   "execution_count": null,
   "id": "756d34af-5e7a-4ee3-8d27-a8306cb47163",
   "metadata": {},
   "outputs": [],
   "source": [
    "path = '/Users/andrei-macpro/Documents/Data/pose/play_openpose'\n",
    "folders = sorted_alpha(path)"
   ]
  },
  {
   "cell_type": "code",
   "execution_count": null,
   "id": "7071cd63-cd4e-46ed-af61-06d164a88199",
   "metadata": {},
   "outputs": [],
   "source": [
    "for folder in tqdm(folders[11:]):\n",
    "    new_path = '/Users/andrei-macpro/Documents/Data/tracking/play_tracking_2'\n",
    "    os.mkdir(os.path.join(new_path, folder))\n",
    "    os.chdir(os.path.join(path,folder))\n",
    "    detections = sorted_alpha(os.path.join(path,folder))\n",
    "    frame_no = [int((x.split(\".\"))[0].split(\"_\")[1]) for x in detections]\n",
    "    track_1, track_2 = {'frame':[], 'skeleton':[]}, {'frame':[], 'skeleton':[]}\n",
    "    tracks = [track_1, track_2]\n",
    "    frames = []\n",
    "    for pose, no in zip(detections, frame_no):\n",
    "        detect = get_skeletons(no, os.path.join(path,folder, pose))\n",
    "        if detect == None: continue\n",
    "        while track_1['frame'] == [] and track_2['frame'] ==[]: # initializing the first 2 tracks\n",
    "            for detection in range(len(detect[:2])): ## if there are more than 2 tracks can change max detection number\n",
    "                tracks[detection]['skeleton'].append(detect[detection]) ## in the first frame initalize the tracks\n",
    "                tracks[detection]['frame'].append(no)\n",
    "        matrix = dist_matrix(tracks, detect) #creates a matrix of distances between previous detections and new detections\n",
    "        indexes = assignment(matrix) # get the indices of which detections belongs to which track\n",
    "    \n",
    "        for row, column in indexes[:len(tracks)]:\n",
    "            tracks[row]['skeleton'].append(detect[column])\n",
    "            tracks[row]['frame'].append(no)\n",
    "        ## interpolation\n",
    "        for track in tracks:\n",
    "            if track['frame']==[] or len(track['frame'])<2:continue\n",
    "    \n",
    "            gaps = missing_elements([track['frame'][-2], track['frame'][-1]]) ## the gaps are the missing frame numbers not indexes\n",
    "            if len(gaps) > 0 and len(gaps) <50:\n",
    "                f = interp1d(track['frame'], track['skeleton'], axis=0)\n",
    "                to_insert = f(gaps).tolist()\n",
    "                track['skeleton'] = insert_position(track['frame'].index(gaps[-1]+1), \n",
    "                                                    track['skeleton'], to_insert)\n",
    "                track['frame'] = insert_position(track['frame'].index(gaps[-1]+1), track['frame'], gaps)\n",
    "    save_tracks(new_path,folder,tracks)\n",
    "print('done')"
   ]
  },
  {
   "cell_type": "code",
   "execution_count": null,
   "id": "34dad35c-83a5-4efb-a951-8d20c4d99b7d",
   "metadata": {},
   "outputs": [],
   "source": [
    "folders[11:]"
   ]
  },
  {
   "cell_type": "code",
   "execution_count": null,
   "id": "c0fb5295-6fa3-454e-bcf6-91b6d86b0169",
   "metadata": {},
   "outputs": [],
   "source": [
    "\n"
   ]
  },
  {
   "cell_type": "code",
   "execution_count": null,
   "id": "85adcce8-f6af-42fe-a3cf-d54fa642d827",
   "metadata": {},
   "outputs": [],
   "source": [
    "frames_index = [x for x in  frames for joint in joints]\n",
    "joints_index = joints*len(track_1)"
   ]
  },
  {
   "cell_type": "code",
   "execution_count": null,
   "id": "d65e2b0a-29d6-46e4-bbea-53c7274542dc",
   "metadata": {},
   "outputs": [],
   "source": [
    "track_1_df = pd.DataFrame((np.vstack(track_1)), index = [frames_index, joints_index],columns=['x', 'y'])"
   ]
  },
  {
   "cell_type": "code",
   "execution_count": null,
   "id": "06e45818-7f52-4594-a09b-a5e76cfb90e8",
   "metadata": {},
   "outputs": [],
   "source": [
    "track_1_df = track_1_df.rename_axis(['frame','joint'])"
   ]
  },
  {
   "cell_type": "code",
   "execution_count": null,
   "id": "cf472921-3c9d-4fe7-8c3a-40cecf69acce",
   "metadata": {},
   "outputs": [],
   "source": [
    "track_index = track_1_df.index.get_level_values('frame')\n",
    "for x in track_index:\n",
    "    print(track_1_df.loc[x])\n",
    "    break"
   ]
  },
  {
   "cell_type": "code",
   "execution_count": null,
   "id": "140b0d3a-4d71-455f-b19e-4fac68ef3a69",
   "metadata": {},
   "outputs": [],
   "source": [
    "path_video = '/Users/andrei-macpro/Documents/Data/videos/play_videos/1043_play_1.mp4'\n",
    "video_length = frame_count(path_video, manual=True)"
   ]
  },
  {
   "cell_type": "code",
   "execution_count": null,
   "id": "a703f40d-a6c0-443a-97f7-324a1019edb6",
   "metadata": {},
   "outputs": [],
   "source": [
    "cap = cv2.VideoCapture(path_video)\n",
    "fourcc = cv2.VideoWriter_fourcc(*'mp4v')# note the lower case\n",
    "width = cap.get(cv2.CAP_PROP_FRAME_WIDTH) \n",
    "height = cap.get(cv2.CAP_PROP_FRAME_HEIGHT) \n",
    "out = cv2.VideoWriter('1043_play_1_track.mp4', fourcc, 25.0, (int(width),int(height)))"
   ]
  },
  {
   "cell_type": "code",
   "execution_count": null,
   "id": "cfa2735a-abc4-4b22-87ef-bdb5149c30ad",
   "metadata": {},
   "outputs": [],
   "source": [
    "color = (100, 149, 237)\n",
    "thickness = 2\n",
    "for frame in np.unique(track_1_df.index.get_level_values('frame')):\n",
    "    cap.set(1,frame)\n",
    "    ret, image = cap.read()\n",
    "    human = cv2.rectangle(image, (find_min_round(track_1_df.loc[frame]['x']), find_min_round(track_1_df.loc[frame]['y'])),  \n",
    "                            (find_max_round(track_1_df.loc[frame]['x']), find_max_round(track_1_df.loc[frame]['y'])), color, thickness)\n",
    "  #  cv2.putText(human, f\"frame: {frame}\" , (10, 15),\n",
    "   #         cv2.FONT_HERSHEY_SIMPLEX, 0.5, (0, 255, 0), 2)\n",
    "    out.write(human)\n",
    "\n",
    "cap.release()\n",
    "out.release()\n",
    "cv2.destroyAllWindows()     "
   ]
  },
  {
   "cell_type": "code",
   "execution_count": null,
   "id": "0461ba93-697d-4568-b360-a2e3fee35575",
   "metadata": {},
   "outputs": [],
   "source": [
    "np.unique(track_1_df.index.get_level_values('frame'))\n"
   ]
  },
  {
   "cell_type": "code",
   "execution_count": null,
   "id": "70bc5ee7-53de-4cc9-837a-49c228a3e45f",
   "metadata": {},
   "outputs": [],
   "source": [
    "array[np.isfinite(array)]"
   ]
  },
  {
   "cell_type": "code",
   "execution_count": null,
   "id": "a8436f29-e6d9-439b-84d1-5d275b51d786",
   "metadata": {},
   "outputs": [],
   "source": [
    "np.max(array)"
   ]
  },
  {
   "cell_type": "code",
   "execution_count": null,
   "id": "69da1fed-ae18-448c-8d03-32a6c8c3b562",
   "metadata": {},
   "outputs": [],
   "source": [
    "### path = '/Users/andrei-macpro/Documents/Data/tracking/play_tracking_2/1043_play/track_1.csv'\n",
    "data = pd.read_csv(path, index_col=[0,1])\n",
    "data"
   ]
  },
  {
   "cell_type": "code",
   "execution_count": null,
   "id": "f1b0efad-cbcc-404a-9ff5-e69655c4e206",
   "metadata": {},
   "outputs": [],
   "source": [
    "np.unique(data.index.get_level_values('frame'))"
   ]
  },
  {
   "cell_type": "code",
   "execution_count": null,
   "id": "6199f569-d462-4c53-a2e9-a0f4acdb38c0",
   "metadata": {},
   "outputs": [],
   "source": [
    "path = '/Users/andrei-macpro/Documents/Data/tracking/play_tracking_2'\n",
    "folders = sorted_alpha(path)\n",
    "path_videos ='/Users/andrei-macpro/Documents/Data/videos/play_videos'\n",
    "np.random.seed(42) \n",
    "new_path = '/Users/andrei-macpro/Documents/Data/tracking/eval_play_tracking_2'\n",
    "for folder in tqdm(folders): \n",
    "    cap = cv2.VideoCapture(os.path.join(path_videos, folder+'.mp4' ))\n",
    "    new_p = os.path.join(new_path, folder)\n",
    "    os.makedirs(new_p)\n",
    "    for track in sorted_alpha(os.path.join(path,folder)):\n",
    "        new_dir = os.path.join(new_path, folder,track)\n",
    "        os.makedirs(new_dir)\n",
    "        data = pd.read_csv(os.path.join(path,folder,track), index_col=[0,1])\n",
    "        for frame in np.random.choice(np.unique(data.index.get_level_values('frame')), size=1000, replace=False):\n",
    "\n",
    "            df = data.loc[frame].round(0)\n",
    "            cap.set(1, frame)\n",
    "            ret,image = cap.read()\n",
    "            if ret==False:\n",
    "                continue\n",
    "            img = image[find_min_round(df['y']):find_max_round(df['y']),find_min_round(df['x']):find_max_round(df['x'])]\n",
    "            if img.shape[0]>0 and img.shape[1]>0:\n",
    "                cv2.imwrite(os.path.join(new_dir,str(frame)+'.png'), img)\n",
    "\n",
    "    "
   ]
  },
  {
   "cell_type": "code",
   "execution_count": null,
   "id": "9b5c2575-91c1-4871-8cc2-8dac538ef8d8",
   "metadata": {},
   "outputs": [],
   "source": [
    "cap = cv2.VideoCapture(os.path.join(path_videos, folders[1], '.mp4'))\n",
    "\n",
    "cap.set(1, 100)\n",
    "ret,image = cap.read()\n",
    "print(image)"
   ]
  },
  {
   "cell_type": "code",
   "execution_count": null,
   "id": "26abb2d8-41de-4472-93f4-1527a49ee342",
   "metadata": {},
   "outputs": [],
   "source": [
    "folders"
   ]
  },
  {
   "cell_type": "code",
   "execution_count": null,
   "id": "30307e11-c2b6-4159-b1af-289a077c18f5",
   "metadata": {},
   "outputs": [],
   "source": [
    "# delete the tracks that are very small \n",
    "path = '/Users/andrei-macpro/Documents/Data/tracking/play_tracking_2'\n",
    "folders = sorted_alpha(path)\n"
   ]
  },
  {
   "cell_type": "code",
   "execution_count": null,
   "id": "aab67478-d590-42ff-93e2-5867aa0d3a9f",
   "metadata": {},
   "outputs": [],
   "source": [
    "for folder in folders:\n",
    "    print(folder)\n",
    "    l = []\n",
    "    files = sorted_alpha(os.path.join(path,folder))\n",
    "\n",
    "    for file in files:\n",
    "        df = pd.read_csv(os.path.join(path,folder,file),index_col=[0,1])\n",
    "        l.append(len(np.unique(df.index.get_level_values('frame'))))\n",
    "\n",
    "    if min(l) < max(l)*20/100:\n",
    "\n",
    "        os.remove(os.path.join(path,folder,files[l.index(min(l))]))\n",
    "        \n",
    "        \n",
    "        "
   ]
  },
  {
   "cell_type": "code",
   "execution_count": null,
   "id": "cbffe51b-7cd4-4e20-b163-dea9220f770e",
   "metadata": {},
   "outputs": [],
   "source": [
    "a = [1,2,3]"
   ]
  },
  {
   "cell_type": "code",
   "execution_count": null,
   "id": "784aa23a-de7a-4fb5-bf14-a1362fca3e69",
   "metadata": {},
   "outputs": [],
   "source": [
    "for x in a: \n",
    "    l = []\n",
    "    l.append(1)\n",
    "    print(l)"
   ]
  }
 ],
 "metadata": {
  "kernelspec": {
   "display_name": "Python 3 (ipykernel)",
   "language": "python",
   "name": "python3"
  },
  "language_info": {
   "codemirror_mode": {
    "name": "ipython",
    "version": 3
   },
   "file_extension": ".py",
   "mimetype": "text/x-python",
   "name": "python",
   "nbconvert_exporter": "python",
   "pygments_lexer": "ipython3",
   "version": "3.7.6"
  }
 },
 "nbformat": 4,
 "nbformat_minor": 5
}
