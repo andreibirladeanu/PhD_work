{
 "cells": [
  {
   "cell_type": "code",
   "execution_count": null,
   "id": "db2cebbd-aaba-4fad-a90c-ca1f9ecb0f4f",
   "metadata": {},
   "outputs": [],
   "source": [
    "import pandas as pd\n",
    "import numpy as np\n",
    "from pathlib import Path\n",
    "import os\n",
    "from tqdm import tqdm\n",
    "import pandas as pd\n",
    "import sys\n",
    "import numpy as np\n",
    "import matplotlib.pyplot as plt\n",
    "import cv2\n",
    "import re\n",
    "import shutil\n",
    "from pathlib import Path\n",
    "from sorted_alpha import sorted_alpha\n",
    "from scipy.spatial import distance\n",
    "from sklearn.neighbors import NearestNeighbors\n",
    "from scipy import interpolate\n",
    "from frame_count import frame_count\n",
    "from scipy.signal import savgol_filter\n",
    "from scipy.interpolate import interp1d"
   ]
  },
  {
   "cell_type": "code",
   "execution_count": null,
   "id": "b01450b9-3a72-4765-a5ef-8029c39796bf",
   "metadata": {},
   "outputs": [],
   "source": [
    "folder = '/Users/andrei-macpro/Documents/Data/pose/play_openpose/1043_play_1'\n",
    "poses = sorted_alpha(folder)"
   ]
  },
  {
   "cell_type": "code",
   "execution_count": null,
   "id": "941f5387-915a-4281-aa88-adab78f794fc",
   "metadata": {},
   "outputs": [],
   "source": [
    "frame_no = [int((x.split(\".\"))[0].split(\"_\")[1]) for x in poses]"
   ]
  },
  {
   "cell_type": "code",
   "execution_count": null,
   "id": "b5a619ba-dd47-4d8f-b0a5-26c1c962e60d",
   "metadata": {},
   "outputs": [],
   "source": [
    "def get_skeletons(frame_no, detection):\n",
    "    \"\"\"function that reads a detections frame, checks if necks are present, and returns the skeletons\"\"\"\n",
    "    data = pd.read_csv(detection, index_col=0)\n",
    "    ## first check if it contains the neck \n",
    "    temp_data = data\n",
    "    for i in range(0, len(data.columns),3): # drop skeletons without neck\n",
    "        if np.isnan(data[data.columns[i]].loc[1]) == True:\n",
    "            temp_data = temp_data.drop([data.columns[i],data.columns[i+1], data.columns[i+2]], axis=1) ## drop skeletons with missing neck\n",
    "    data=temp_data\n",
    "    if len(data.columns) < 4: ## if not enough skeletons with neck present return 0 \n",
    "        return(None)\n",
    "    elif frame_no ==1: \n",
    "        if len(data.columns)>6:\n",
    "            track_1 = data[['x_1', 'y_1']].to_numpy()\n",
    "            track_2 = data[['x_2', 'y_2']].to_numpy()\n",
    "            track_3 = data[['x_3', 'y_3']].to_numpy()\n",
    "            return([track_1, track_2, track_3])\n",
    "        elif len(data.columns)>4:  ### when first starting tracking initialise with either one or two skeletons \n",
    "            track_1 = data[['x_1', 'y_1']].to_numpy()\n",
    "            track_2 = data[['x_2', 'y_2']].to_numpy()\n",
    "            return([track_1, track_2])\n",
    "        else: \n",
    "            track_1 = data[['x_1', 'y_1']].to_numpy()\n",
    "            return([track_1])\n",
    "    else:\n",
    "        skeletons=[]\n",
    "        ## remove probs columns\n",
    "        for col in data.columns:\n",
    "            if data[col].name[0:3] == 'pro':\n",
    "                data=data.drop([col], axis=1)\n",
    "     # return every skeleton now  \n",
    "        \n",
    "        for x,y, in zip(data.columns[::2], data.columns[1::2]):\n",
    "            skeletons.append(data[[x,y]].to_numpy())\n",
    "        return(skeletons) ## this is a list of skeletons(stacked)\n",
    "        \n",
    "    "
   ]
  },
  {
   "cell_type": "code",
   "execution_count": null,
   "id": "029a3eaa-5f4e-430e-98bc-e3deacb564a8",
   "metadata": {},
   "outputs": [],
   "source": [
    "array_nn = [np.array([499.2 , 161.28]), np.array([537.6 , 368.64])]\n",
    "array_fit = [np.array([506.88, 161.28]), np.array([537.6 , 362.88])]\n",
    "\n",
    "neigh = NearestNeighbors(n_neighbors=1, metric='euclidean', algorithm='brute')\n",
    "neigh.fit(array_fit)\n",
    "neighb = neigh.kneighbors(array_nn)\n",
    "neighb"
   ]
  },
  {
   "cell_type": "code",
   "execution_count": null,
   "id": "e860fa11-1988-45c3-8b83-7b2bd2a95775",
   "metadata": {},
   "outputs": [],
   "source": [
    "neighb[1][0][0]"
   ]
  },
  {
   "cell_type": "code",
   "execution_count": null,
   "id": "a6136fbe-4fec-4598-9d23-8b6bc7f383dd",
   "metadata": {},
   "outputs": [],
   "source": [
    "track_1, track_2, track_3 = [], [], []\n",
    "tracks = [track_1, track_2, track_3]\n",
    "frames = []\n",
    "for pose, no in zip(poses, frame_no):\n",
    "    print(no)\n",
    "    frames.append(frame_no)\n",
    "    detect = get_skeletons(no, os.path.join(folder, pose))\n",
    "    if detect == None: continue\n",
    "    elif no ==1:\n",
    "        for detection in range(len(detect)):\n",
    "            tracks[detection].append(detect[detection])\n",
    "    else:\n",
    "        neighb = nn(tracks, detect)\n",
    "        for n in range(len(neighb)):    \n",
    "            tracks[int(neighb[1][n][0])].append(detect[n])\n",
    "    "
   ]
  },
  {
   "cell_type": "code",
   "execution_count": null,
   "id": "85d62adc-d527-4076-a8ee-422bb7158839",
   "metadata": {},
   "outputs": [],
   "source": [
    "track_1"
   ]
  },
  {
   "cell_type": "code",
   "execution_count": null,
   "id": "a56e9bb4-777f-4f75-828d-e90735de1a8a",
   "metadata": {},
   "outputs": [],
   "source": [
    "def nn (prev_detections, new_detect):\n",
    "    \"\"\"function that does nn search between the new detections and previous detections\"\"\"\n",
    "    neigh = NearestNeighbors(n_neighbors=1, metric='euclidean', algorithm='brute')\n",
    "    neigh.fit([x[0][1] for x in prev_detections if x!=[]])\n",
    "    neighbours = neigh.kneighbors([x[1] for x in new_detect], 1, return_distance=True)\n",
    "    return(neighbours)\n",
    "    "
   ]
  },
  {
   "cell_type": "code",
   "execution_count": null,
   "id": "e8cecb5c-4c56-4f65-a145-afaaa3484d01",
   "metadata": {},
   "outputs": [],
   "source": [
    "tracks[]"
   ]
  },
  {
   "cell_type": "code",
   "execution_count": null,
   "id": "646bf281-ba76-4355-a032-1947ecb3a74e",
   "metadata": {},
   "outputs": [],
   "source": [
    "data_1 = pd.read_csv('/Users/andrei-macpro/Documents/Data/pose/play_openpose/1043_play_1/frame_1.csv')\n",
    "data_2 = pd.read_csv('/Users/andrei-macpro/Documents/Data/pose/play_openpose/1043_play_1/frame_2.csv')"
   ]
  },
  {
   "cell_type": "code",
   "execution_count": null,
   "id": "bf7b6079-ca30-4066-b848-e3a33302040a",
   "metadata": {},
   "outputs": [],
   "source": [
    "df_1 = get_skeletons(1,'/Users/andrei-macpro/Documents/Data/pose/play_openpose/1043_play_1/frame_1.csv')\n",
    "df_2 = get_skeletons(2,'/Users/andrei-macpro/Documents/Data/pose/play_openpose/1043_play_1/frame_2.csv')"
   ]
  },
  {
   "cell_type": "code",
   "execution_count": null,
   "id": "19fb77d6-11ca-46ca-80bc-9c7493c43b1c",
   "metadata": {},
   "outputs": [],
   "source": [
    "neigh = NearestNeighbors(n_neighbors=1, metric='euclidean')\n",
    "neigh.fit([x[0][1] for x in tracks if x!=[]])"
   ]
  },
  {
   "cell_type": "code",
   "execution_count": null,
   "id": "b94badcb-4102-41df-b720-47ab1aeef141",
   "metadata": {},
   "outputs": [],
   "source": [
    "neighbours = neigh.kneighbors([x[1] for x in df_2], 1, return_distance=True)\n",
    "neighbours"
   ]
  },
  {
   "cell_type": "code",
   "execution_count": null,
   "id": "e082d0f5-f6e0-4fc8-829d-24d6cabfe561",
   "metadata": {},
   "outputs": [],
   "source": [
    "for n in range(len(neighbours)):\n",
    "    print(neighbours[n])"
   ]
  },
  {
   "cell_type": "code",
   "execution_count": null,
   "id": "0a76b818-1e03-43c7-b54f-d19e10b5cdbf",
   "metadata": {},
   "outputs": [],
   "source": [
    "skeletons"
   ]
  },
  {
   "cell_type": "code",
   "execution_count": null,
   "id": "1bfb814b-b19f-4fbd-814f-92d56a89e245",
   "metadata": {},
   "outputs": [],
   "source": [
    "x = [1,5]\n",
    "y = [[[np.nan,np.nan],[10,11],[12,13]], [[15,16], [17,18], [22.23,20.56]]]\n",
    "f = interp1d(x, y, axis=0)"
   ]
  },
  {
   "cell_type": "code",
   "execution_count": null,
   "id": "57155143-8281-4526-b05a-05e5d850a356",
   "metadata": {},
   "outputs": [],
   "source": [
    "y = [[5,9],[10,11],[0,0],[np.nan,10],[10,11],[12,13], [15,16], [17,18], [19,20]]\n",
    "mi = pd.MultiIndex.from_arrays([[0,0,0,1,1,1,2,2,2], [1,2,3,1,2,3,1,2,3]], names=['frame', 'joint'])\n",
    "df = pd.DataFrame(y, columns = ['x','y'], index=mi)"
   ]
  },
  {
   "cell_type": "code",
   "execution_count": null,
   "id": "e884c07d-aed6-4b9e-bc7d-939a29d0c497",
   "metadata": {},
   "outputs": [],
   "source": [
    "new_array = f([1,2,3,4,5])\n"
   ]
  },
  {
   "cell_type": "code",
   "execution_count": null,
   "id": "8b75e529-0010-4d28-8b6d-7535f3e5c2ef",
   "metadata": {},
   "outputs": [],
   "source": [
    "new_array[-1] = y[-1]"
   ]
  },
  {
   "cell_type": "code",
   "execution_count": null,
   "id": "04616988-ff39-4687-b366-03b38f4cddfd",
   "metadata": {},
   "outputs": [],
   "source": [
    "new_array"
   ]
  },
  {
   "cell_type": "code",
   "execution_count": null,
   "id": "aa32819d-1a13-4920-a5e4-5a17c9db7243",
   "metadata": {},
   "outputs": [],
   "source": [
    "y = [[[5,9],[10,11],[15,16]],[[10,11],[12,13], [np.nan, np.nan]], [[17,18], [19,20],[7,8]],\n",
    "    [[10,11], [0,8], [9,8]], [[20,4], [19,8], [10,5]]]\n",
    "\n",
    "savgol_filter(np.array(y), 5, 3, axis=0,mode='interp')"
   ]
  },
  {
   "cell_type": "code",
   "execution_count": null,
   "id": "eb44fc25-c008-46e5-9a0a-95f04c984d40",
   "metadata": {},
   "outputs": [],
   "source": [
    "y = [[[5,9],[10,11],[0,0],[np.nan,10]],[[10,11],[12,13], [15,16]], [[17,18], [19,20],[0,5]],\n",
    "    [[10,11], [0,8], [9,8]], [[20,4], [19,8], [10,5]]]\n",
    "np.array(y).shape"
   ]
  },
  {
   "cell_type": "code",
   "execution_count": null,
   "id": "10fa15b6-b68a-433f-a52e-78b8ad4f6347",
   "metadata": {},
   "outputs": [],
   "source": [
    "y"
   ]
  },
  {
   "cell_type": "code",
   "execution_count": null,
   "id": "140b0d3a-4d71-455f-b19e-4fac68ef3a69",
   "metadata": {},
   "outputs": [],
   "source": [
    "x = 'nan'\n",
    "x!=x"
   ]
  }
 ],
 "metadata": {
  "kernelspec": {
   "display_name": "Python 3 (ipykernel)",
   "language": "python",
   "name": "python3"
  },
  "language_info": {
   "codemirror_mode": {
    "name": "ipython",
    "version": 3
   },
   "file_extension": ".py",
   "mimetype": "text/x-python",
   "name": "python",
   "nbconvert_exporter": "python",
   "pygments_lexer": "ipython3",
   "version": "3.7.6"
  }
 },
 "nbformat": 4,
 "nbformat_minor": 5
}
