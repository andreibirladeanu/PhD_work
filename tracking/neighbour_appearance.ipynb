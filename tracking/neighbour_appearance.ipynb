{
 "cells": [
  {
   "cell_type": "code",
   "execution_count": null,
   "id": "db2cebbd-aaba-4fad-a90c-ca1f9ecb0f4f",
   "metadata": {},
   "outputs": [],
   "source": [
    "import pandas as pd\n",
    "import numpy as np\n",
    "from pathlib import Path\n",
    "import os\n",
    "from tqdm import tqdm\n",
    "import pandas as pd\n",
    "import sys\n",
    "import numpy as np\n",
    "import matplotlib.pyplot as plt\n",
    "import cv2\n",
    "import re\n",
    "import shutil\n",
    "from pathlib import Path\n",
    "from sorted_alpha import sorted_alpha\n",
    "from scipy.spatial import distance\n",
    "from sklearn.neighbors import NearestNeighbors\n",
    "from scipy import interpolate\n",
    "from frame_count import frame_count\n",
    "from scipy.signal import savgol_filter\n",
    "from scipy.interpolate import interp1d\n",
    "from munkres import Munkres, print_matrix"
   ]
  },
  {
   "cell_type": "code",
   "execution_count": null,
   "id": "b01450b9-3a72-4765-a5ef-8029c39796bf",
   "metadata": {},
   "outputs": [],
   "source": [
    "folder = '/Users/andrei-macpro/Documents/Data/pose/play_openpose/1043_play_1'\n",
    "poses = sorted_alpha(folder)"
   ]
  },
  {
   "cell_type": "code",
   "execution_count": null,
   "id": "941f5387-915a-4281-aa88-adab78f794fc",
   "metadata": {},
   "outputs": [],
   "source": [
    "frame_no = [int((x.split(\".\"))[0].split(\"_\")[1]) for x in poses]"
   ]
  },
  {
   "cell_type": "code",
   "execution_count": null,
   "id": "b5a619ba-dd47-4d8f-b0a5-26c1c962e60d",
   "metadata": {},
   "outputs": [],
   "source": [
    "def get_skeletons(frame_no, detection):\n",
    "    \"\"\"function that reads a detections frame, checks if necks are present, and returns the skeletons\"\"\"\n",
    "    data = pd.read_csv(detection, index_col=0)\n",
    "    ## first check if it contains the neck \n",
    "    temp_data = data\n",
    "    for i in range(0, len(data.columns),3): # drop skeletons without neck\n",
    "        if np.isnan(data[data.columns[i]].loc[1]) == True:\n",
    "            temp_data = temp_data.drop([data.columns[i],data.columns[i+1], data.columns[i+2]], axis=1) ## drop skeletons with missing neck\n",
    "    data=temp_data\n",
    "    if len(data.columns) < 3: ## if not enough skeletons with neck present return 0 \n",
    "        return(None)\n",
    "    else:\n",
    "        skeletons=[]\n",
    "        ## remove probs columns\n",
    "        for col in data.columns:\n",
    "            if data[col].name[0:3] == 'pro':\n",
    "                data=data.drop([col], axis=1)\n",
    "     # return every skeleton now  \n",
    "        for x,y, in zip(data.columns[::2], data.columns[1::2]):\n",
    "            skeletons.append(data[[x,y]].to_numpy())\n",
    "        return(skeletons) ## this is a list of skeletons(stacked)\n",
    "        \n",
    "    "
   ]
  },
  {
   "cell_type": "code",
   "execution_count": null,
   "id": "029a3eaa-5f4e-430e-98bc-e3deacb564a8",
   "metadata": {},
   "outputs": [],
   "source": [
    "array_nn = [np.array([110, 100]),np.array([500, 161.28])]\n",
    "array_fit = [np.array([506.88, 161.28]),  np.array([537.6, 368.64])]\n",
    "## idea to use the argmin of distance not the index \n",
    "neigh = NearestNeighbors(n_neighbors=2, metric='euclidean', algorithm='brute')\n",
    "neigh.fit(array_nn)\n",
    "neighb = neigh.kneighbors(array_fit)\n",
    "neighb"
   ]
  },
  {
   "cell_type": "code",
   "execution_count": null,
   "id": "9f00fcce-a831-463d-bbbf-244acc95472b",
   "metadata": {},
   "outputs": [],
   "source": [
    "array_nn = [np.array([500, 161.28]), np.array([110, 100])]\n",
    "array_fit = [np.array([506.88, 161.28]),  np.array([537.6, 368.64])]\n",
    "## idea to use the argmin of distance not the index \n",
    "neigh = NearestNeighbors(n_neighbors=2, metric='euclidean', algorithm='brute')\n",
    "neigh.fit(array_nn)\n",
    "neighb = neigh.kneighbors(array_fit)\n",
    "neighb"
   ]
  },
  {
   "cell_type": "code",
   "execution_count": null,
   "id": "eb943819-ec40-4d0a-9632-63966b38050d",
   "metadata": {},
   "outputs": [],
   "source": [
    "array_fit = [np.array([110, 100]), np.array([500, 161.28])]\n",
    "array_nn = [np.array([537.6, 368.64]), np.array([506.88, 161.28]), np.array([400, 300]) ]\n",
    "neigh = NearestNeighbors(n_neighbors=1, metric='euclidean', algorithm='brute')\n",
    "distances = []\n",
    "for elem in array_fit: \n",
    "    temp_list = []\n",
    "    for x in array_nn:\n",
    "        neigh.fit([x])\n",
    "        temp_list.append(neigh.kneighbors([elem])[0])\n",
    "    distances.append(temp_list)\n",
    "distances"
   ]
  },
  {
   "cell_type": "code",
   "execution_count": null,
   "id": "9ee6cac3-18f8-4307-a77d-f5a1343adf05",
   "metadata": {},
   "outputs": [],
   "source": [
    "distances[0]"
   ]
  },
  {
   "cell_type": "code",
   "execution_count": null,
   "id": "608159d3-e1b6-412b-8bb7-f96fa19114ef",
   "metadata": {},
   "outputs": [],
   "source": [
    "from scipy.spatial import distance\n",
    "distance.euclidean(array_nn, array_fit)"
   ]
  },
  {
   "cell_type": "code",
   "execution_count": null,
   "id": "99c48f87-99e0-4304-986b-34a55a49a62c",
   "metadata": {},
   "outputs": [],
   "source": [
    "# case 1. one previous and 2 next \n",
    "array_nn = [np.array([100, 100]) , np.array([200, 300]) ]\n",
    "array_fit = [ np.array([100, 110]), np.array([95, 100])]\n",
    "neigh = NearestNeighbors(n_neighbors=2, metric='euclidean', algorithm='brute')\n",
    "neigh.fit(array_nn)\n",
    "neighb = neigh.kneighbors(array_fit)\n",
    "neighb\n",
    "## use the index of the smallest distance but check if it's less than 80 \n",
    "\n",
    "# case 1. 2 previous and 2 next \n",
    "## make sure they aren't close to each other - calculate within distance\n",
    "## pick the index of the nn "
   ]
  },
  {
   "cell_type": "code",
   "execution_count": null,
   "id": "1106a0da-c7be-40b6-be76-0b6b03ab7fa9",
   "metadata": {},
   "outputs": [],
   "source": [
    "matrix = distance.cdist(array_nn,array_fit, 'euclidean')\n",
    "\n"
   ]
  },
  {
   "cell_type": "code",
   "execution_count": null,
   "id": "8f94e690-4f35-4c88-aee4-177ebfb4b053",
   "metadata": {},
   "outputs": [],
   "source": [
    "matrix"
   ]
  },
  {
   "cell_type": "code",
   "execution_count": null,
   "id": "8e81f65f-a52b-4da9-8780-2df1a9f320b9",
   "metadata": {},
   "outputs": [],
   "source": [
    "m.pad_matrix(matrix)"
   ]
  },
  {
   "cell_type": "code",
   "execution_count": null,
   "id": "26dd670a-4d1d-4f6e-8679-eb6ea41b8e03",
   "metadata": {},
   "outputs": [],
   "source": [
    "matrix = [[504.9843657]]\n",
    "m = Munkres()"
   ]
  },
  {
   "cell_type": "code",
   "execution_count": null,
   "id": "7ecd14de-a27c-4938-81ab-d58a7b41e9c7",
   "metadata": {},
   "outputs": [],
   "source": [
    "indexes = m.compute(matrix)\n",
    "print_matrix(matrix, msg='Lowest cost through this matrix:')"
   ]
  },
  {
   "cell_type": "code",
   "execution_count": null,
   "id": "cce92c30-051b-41e5-a20d-809169c78ca1",
   "metadata": {},
   "outputs": [],
   "source": [
    "total = 0\n",
    "for row, column in indexes:\n",
    "    value = matrix[row][column]\n",
    "    total += value\n",
    "    print(f'({row}, {column}) -> {value}')\n",
    "print(total)"
   ]
  },
  {
   "cell_type": "code",
   "execution_count": null,
   "id": "19f56d1d-8f8c-4301-9bcc-788e7768b23a",
   "metadata": {},
   "outputs": [],
   "source": [
    "indexes"
   ]
  },
  {
   "cell_type": "code",
   "execution_count": null,
   "id": "bd339b6d-a912-4e76-b8d4-106b7eca1b01",
   "metadata": {},
   "outputs": [],
   "source": [
    "from scipy.spatial import distance\n",
    "detection = [np.array([110, 100])]\n",
    "tracks = [np.array([537.6, 368.64]), np.array([506.88, 161.28])]\n",
    "distance.cdist(tracks, detection, 'euclidean')\n",
    "\n"
   ]
  },
  {
   "cell_type": "code",
   "execution_count": null,
   "id": "28d376c9-417e-4329-8817-3d33a56a50ff",
   "metadata": {},
   "outputs": [],
   "source": [
    "matrix = distance.cdist(tracks, detection, 'euclidean')\n",
    "matrix =np.transpose(matrix)\n",
    "indexes = m.compute(matrix)\n",
    "print(indexes, matrix)"
   ]
  },
  {
   "cell_type": "code",
   "execution_count": null,
   "id": "7b40639f-fee2-49ac-8ae1-7e3b0e5cefcd",
   "metadata": {},
   "outputs": [],
   "source": [
    "indexes = [x[::-1] for x in indexes]\n",
    "indexes"
   ]
  },
  {
   "cell_type": "code",
   "execution_count": null,
   "id": "4932e5e0-ecf4-4e4d-96a6-961f14bd7b0c",
   "metadata": {},
   "outputs": [],
   "source": [
    "indexes = m.compute(np.transpose(matrix))\n",
    "for row, column in indexes:\n",
    "    tracks[row]['skeleton'].append(detect[column])"
   ]
  },
  {
   "cell_type": "code",
   "execution_count": null,
   "id": "8f23a66b-c888-4e84-a3e7-a81a0f46c12f",
   "metadata": {},
   "outputs": [],
   "source": [
    "matrix = distance.cdist(tracks, detection, 'euclidean')\n",
    "np.transpose(matrix).shape"
   ]
  },
  {
   "cell_type": "code",
   "execution_count": null,
   "id": "b9eb895f-d511-4727-8b7f-ae5bfd0d4b13",
   "metadata": {},
   "outputs": [],
   "source": [
    "def dist_matrix(prev_detections, new_detect):\n",
    "    \"\"\"calculates distances between each new detection and the previous detections from each track\"\"\"\n",
    "    \"\"\"returns a matrix of shape n x m where n is len(prev_detections) and m is len(new_detect)\"\"\"\n",
    "    tracklets = [x['skeleton'][-1][1] for x in prev_detections if x['skeleton']!=[]]\n",
    "    new_detect = [x[1] for x in new_detect]\n",
    "    return(distance.cdist(tracklets, new_detect, 'euclidean'))"
   ]
  },
  {
   "cell_type": "code",
   "execution_count": null,
   "id": "a56e9bb4-777f-4f75-828d-e90735de1a8a",
   "metadata": {},
   "outputs": [],
   "source": [
    "def assignment(distance_matrix):\n",
    "    \"\"\"does optimal assignment of detections to tracks using hungarian algorithm\"\"\"\n",
    "    m = Munkres()\n",
    "    if distance_matrix.shape[0]>distance_matrix.shape[1]:\n",
    "        matrix = np.transpose(distance_matrix)\n",
    "        indexes = m.compute(matrix)\n",
    "        indexes = [x[::-1] for x in indexes]\n",
    "    else:\n",
    "        matrix = m.pad_matrix(distance_matrix) # pads the matrix for when there are more detections than initialized tracks\n",
    "        indexes = m.compute(matrix)\n",
    "    return(indexes)\n"
   ]
  },
  {
   "cell_type": "code",
   "execution_count": null,
   "id": "2a24520b-cd78-4c59-8e63-00cef88f8e5c",
   "metadata": {},
   "outputs": [],
   "source": [
    "def missing_elements(L):\n",
    "    start, end = L[0], L[-1]\n",
    "    return sorted(set(range(start, end + 1)).difference(L))"
   ]
  },
  {
   "cell_type": "code",
   "execution_count": null,
   "id": "0db7da5f-f234-48e0-8b7b-a9c108bb84bc",
   "metadata": {},
   "outputs": [],
   "source": [
    "def insert_position(position, list1, list2): ## position is the upper bound\n",
    "    return list1[:position] + list2 + list1[position:]"
   ]
  },
  {
   "cell_type": "code",
   "execution_count": null,
   "id": "e077e0ec-e04b-4f27-94b9-debb6e2eecce",
   "metadata": {},
   "outputs": [],
   "source": [
    "tracklets = [x['skeleton'][-1][1] for x in tracks if x['skeleton']!=[]]\n",
    "neigh = NearestNeighbors(n_neighbors=2, metric='euclidean', algorithm='brute')\n",
    "neigh.fit(tracklets)\n",
    "neighbours = neigh.kneighbors([x[1] for x in detect], 1, return_distance=True)\n",
    "print(neighbours)"
   ]
  },
  {
   "cell_type": "code",
   "execution_count": null,
   "id": "8cdc608c-7b10-4838-b195-6f3bc20b97e9",
   "metadata": {},
   "outputs": [],
   "source": [
    "track_1, track_2, track_3 = {'frame':[], 'skeleton':[]}, {'frame':[], 'skeleton':[]}, {'frame':[], 'skeleton':[]}\n",
    "tracks = [track_1, track_2, track_3]"
   ]
  },
  {
   "cell_type": "code",
   "execution_count": null,
   "id": "e28ea614-0564-481e-af1a-2c7f8cf66223",
   "metadata": {},
   "outputs": [],
   "source": [
    "distance.cdist([[506.88,161.28],[537.6 , 362.88]], [[506.88,161.28],[537.6 , 362.88]], 'euclidean')\n",
    "    "
   ]
  },
  {
   "cell_type": "code",
   "execution_count": null,
   "id": "a6136fbe-4fec-4598-9d23-8b6bc7f383dd",
   "metadata": {},
   "outputs": [],
   "source": [
    "track_1, track_2, track_3 = {'frame':[], 'skeleton':[]}, {'frame':[], 'skeleton':[]}, {'frame':[], 'skeleton':[]}\n",
    "tracks = [track_1, track_2, track_3]\n",
    "frames = []\n",
    "for pose, no in zip(poses, frame_no):\n",
    "    print('frame_no:',no)\n",
    "    frames.append(frame_no)\n",
    "    detect = get_skeletons(no, os.path.join(folder, pose))\n",
    "    if detect == None: continue\n",
    "    if track_1['frame'] == []: # initializing the first track \n",
    "        for detection in range(len(detect)):\n",
    "            tracks[detection]['skeleton'].append(detect[detection]) ## in the first frame initalize the tracks\n",
    "            tracks[detection]['frame'].append(no)\n",
    "        continue\n",
    "    matrix = dist_matrix(tracks, detect) #creates a matrix of distances between previous detections and new detections\n",
    "    indexes = assignment(matrix) # get the indices of which detections belongs to which track\n",
    "\n",
    "    for row, column in indexes:\n",
    "        tracks[row]['skeleton'].append(detect[column])\n",
    "        tracks[row]['frame'].append(no)\n",
    "    print(type(track['skeleton']))\n",
    "    ## interpolation\n",
    "    for track in tracks:\n",
    "        if track['frame']==[] or len(track['frame'])<2:continue\n",
    "\n",
    "        gaps = missing_elements([track['frame'][-2], track['frame'][-1]]) ## the gaps are the missing frame numbers not indexes\n",
    "        if len(gaps) > 0 and len(gaps) <50:\n",
    "            f = interp1d(track['frame'], track['skeleton'], axis=0)\n",
    "            to_insert = f(gaps).tolist()\n",
    "            track['skeleton'] = insert_position(track['frame'].index(gaps[-1]+1), \n",
    "                                                track['skeleton'], to_insert)\n",
    "            track['frame'] = insert_position(track['frame'].index(gaps[-1]+1), track['frame'], gaps)\n",
    "            \n",
    "            "
   ]
  },
  {
   "cell_type": "code",
   "execution_count": null,
   "id": "c2dcfc5c-596c-41ef-99c2-fc928b3561b8",
   "metadata": {},
   "outputs": [],
   "source": [
    "tracks[1]['skeleton'][5]"
   ]
  },
  {
   "cell_type": "code",
   "execution_count": null,
   "id": "34dad35c-83a5-4efb-a951-8d20c4d99b7d",
   "metadata": {},
   "outputs": [],
   "source": [
    "track_1 = savgol_filter(tracks[1]['skeleton'], 11, 2, axis=0)"
   ]
  },
  {
   "cell_type": "code",
   "execution_count": null,
   "id": "e8cecb5c-4c56-4f65-a145-afaaa3484d01",
   "metadata": {},
   "outputs": [],
   "source": [
    "## lets now put into a dataframe\n",
    "frames = tracks[1]['frame']\n",
    "joints = [x for x in range(0,18)]"
   ]
  },
  {
   "cell_type": "code",
   "execution_count": null,
   "id": "d014be04-f032-4c62-8505-81eb428eaad0",
   "metadata": {},
   "outputs": [],
   "source": [
    "len(frames),track_1.shape, len(tracks[1]['frame']), len(frames_index)"
   ]
  },
  {
   "cell_type": "code",
   "execution_count": null,
   "id": "9db85df8-9372-4fba-8f21-eb3fe2f9ec69",
   "metadata": {},
   "outputs": [],
   "source": [
    "len(joints_index)"
   ]
  },
  {
   "cell_type": "code",
   "execution_count": null,
   "id": "c0fb5295-6fa3-454e-bcf6-91b6d86b0169",
   "metadata": {},
   "outputs": [],
   "source": [
    "a = pd.DataFrame(tracks[0]['skeleton'][0], columns=['x','y'])\n",
    "b = pd.DataFrame(tracks[1]['skeleton'][0], columns=['x','y']) "
   ]
  },
  {
   "cell_type": "code",
   "execution_count": null,
   "id": "85adcce8-f6af-42fe-a3cf-d54fa642d827",
   "metadata": {},
   "outputs": [],
   "source": [
    "frames_index = [x for x in  frames for joint in joints]\n",
    "joints_index = joints*len(track_1)"
   ]
  },
  {
   "cell_type": "code",
   "execution_count": null,
   "id": "d65e2b0a-29d6-46e4-bbea-53c7274542dc",
   "metadata": {},
   "outputs": [],
   "source": [
    "track_1_df = pd.DataFrame((np.vstack(track_1)), index = [frames_index, joints_index],columns=['x', 'y'])"
   ]
  },
  {
   "cell_type": "code",
   "execution_count": null,
   "id": "06e45818-7f52-4594-a09b-a5e76cfb90e8",
   "metadata": {},
   "outputs": [],
   "source": [
    "track_1_df = track_1_df.rename_axis(['frame','joint'])"
   ]
  },
  {
   "cell_type": "code",
   "execution_count": null,
   "id": "cf472921-3c9d-4fe7-8c3a-40cecf69acce",
   "metadata": {},
   "outputs": [],
   "source": [
    "track_index = track_1_df.index.get_level_values('frame')\n",
    "for x in track_index:\n",
    "    print(track_1_df.loc[x])\n",
    "    break"
   ]
  },
  {
   "cell_type": "code",
   "execution_count": null,
   "id": "ba6de024-d120-4379-99d9-0295a093ed0f",
   "metadata": {},
   "outputs": [],
   "source": [
    "def find_min_round(coord):\n",
    "    coord = np.array(coord)\n",
    "    x = round(np.min(coord[np.isfinite(coord)]))\n",
    "    return(x)\n",
    "\n",
    "def find_max_round(coord):\n",
    "    coord = np.array(coord)\n",
    "    x = round(np.max(coord[np.isfinite(coord)]))\n",
    "    return(x)\n",
    "\n",
    "def viz_skel(image,path_skel, color, i_d):\n",
    "    data = pd.read_csv(path_skel) \n",
    "    rekt = cv2.rectangle(image, (find_min_round(data['x']), find_min_round(data['y'])),  \n",
    "                            (find_max_round(data['x']), find_max_round(data['y'])), color, thickness)\n",
    "    #cv2.putText(image, i_d, (find_min_round(data['x']), find_min_round(data['y'])-5),  \n",
    "     #                           cv2.FONT_HERSHEY_SIMPLEX, 0.5, (36,255,12), 2)\n",
    "    return(image)"
   ]
  },
  {
   "cell_type": "code",
   "execution_count": null,
   "id": "140b0d3a-4d71-455f-b19e-4fac68ef3a69",
   "metadata": {},
   "outputs": [],
   "source": [
    "path_video = '/Users/andrei-macpro/Documents/Data/videos/play_videos/1043_play_1.mp4'\n",
    "video_length = frame_count(path_video, manual=True)"
   ]
  },
  {
   "cell_type": "code",
   "execution_count": null,
   "id": "a703f40d-a6c0-443a-97f7-324a1019edb6",
   "metadata": {},
   "outputs": [],
   "source": [
    "cap = cv2.VideoCapture(path_video)\n",
    "fourcc = cv2.VideoWriter_fourcc(*'mp4v')# note the lower case\n",
    "width = cap.get(cv2.CAP_PROP_FRAME_WIDTH) \n",
    "height = cap.get(cv2.CAP_PROP_FRAME_HEIGHT) \n",
    "out = cv2.VideoWriter('1043_play_1_track.mp4', fourcc, 25.0, (int(width),int(height)))"
   ]
  },
  {
   "cell_type": "code",
   "execution_count": null,
   "id": "cfa2735a-abc4-4b22-87ef-bdb5149c30ad",
   "metadata": {},
   "outputs": [],
   "source": [
    "color = (100, 149, 237)\n",
    "thickness = 2\n",
    "for frame in np.unique(track_1_df.index.get_level_values('frame')):\n",
    "    cap.set(1,frame)\n",
    "    ret, image = cap.read()\n",
    "    human = cv2.rectangle(image, (find_min_round(track_1_df.loc[frame]['x']), find_min_round(track_1_df.loc[frame]['y'])),  \n",
    "                            (find_max_round(track_1_df.loc[frame]['x']), find_max_round(track_1_df.loc[frame]['y'])), color, thickness)\n",
    "  #  cv2.putText(human, f\"frame: {frame}\" , (10, 15),\n",
    "   #         cv2.FONT_HERSHEY_SIMPLEX, 0.5, (0, 255, 0), 2)\n",
    "    out.write(human)\n",
    "\n",
    "cap.release()\n",
    "out.release()\n",
    "cv2.destroyAllWindows()     "
   ]
  },
  {
   "cell_type": "code",
   "execution_count": null,
   "id": "0461ba93-697d-4568-b360-a2e3fee35575",
   "metadata": {},
   "outputs": [],
   "source": [
    "np.unique(track_1_df.index.get_level_values('frame'))\n"
   ]
  },
  {
   "cell_type": "code",
   "execution_count": null,
   "id": "70bc5ee7-53de-4cc9-837a-49c228a3e45f",
   "metadata": {},
   "outputs": [],
   "source": [
    "array[np.isfinite(array)]"
   ]
  },
  {
   "cell_type": "code",
   "execution_count": null,
   "id": "a8436f29-e6d9-439b-84d1-5d275b51d786",
   "metadata": {},
   "outputs": [],
   "source": [
    "np.max(array)"
   ]
  },
  {
   "cell_type": "code",
   "execution_count": null,
   "id": "695ae1d8-1ffc-4511-a672-9684c66bbf29",
   "metadata": {},
   "outputs": [],
   "source": [
    "array"
   ]
  }
 ],
 "metadata": {
  "kernelspec": {
   "display_name": "Python 3 (ipykernel)",
   "language": "python",
   "name": "python3"
  },
  "language_info": {
   "codemirror_mode": {
    "name": "ipython",
    "version": 3
   },
   "file_extension": ".py",
   "mimetype": "text/x-python",
   "name": "python",
   "nbconvert_exporter": "python",
   "pygments_lexer": "ipython3",
   "version": "3.7.6"
  }
 },
 "nbformat": 4,
 "nbformat_minor": 5
}
