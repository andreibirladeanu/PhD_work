{
 "cells": [
  {
   "cell_type": "code",
   "execution_count": null,
   "id": "db2cebbd-aaba-4fad-a90c-ca1f9ecb0f4f",
   "metadata": {},
   "outputs": [],
   "source": [
    "import pandas as pd\n",
    "import numpy as np\n",
    "from pathlib import Path\n",
    "import os\n",
    "from tqdm import tqdm\n",
    "import pandas as pd\n",
    "import sys\n",
    "import numpy as np\n",
    "import matplotlib.pyplot as plt\n",
    "import cv2\n",
    "import re\n",
    "import shutil\n",
    "from pathlib import Path\n",
    "from sorted_alpha import sorted_alpha\n",
    "from scipy.spatial import distance\n",
    "from sklearn.neighbors import NearestNeighbors\n",
    "from scipy import interpolate\n",
    "from frame_count import frame_count\n",
    "from scipy.signal import savgol_filter\n",
    "from scipy.interpolate import interp1d"
   ]
  },
  {
   "cell_type": "code",
   "execution_count": null,
   "id": "b01450b9-3a72-4765-a5ef-8029c39796bf",
   "metadata": {},
   "outputs": [],
   "source": [
    "folder = '/Users/andreibirladeanu/Documents/Data/play_openpose/1043_play_1'\n",
    "poses = sorted_alpha(folder)"
   ]
  },
  {
   "cell_type": "code",
   "execution_count": null,
   "id": "941f5387-915a-4281-aa88-adab78f794fc",
   "metadata": {},
   "outputs": [],
   "source": [
    "frame_no = [int((x.split(\".\"))[0].split(\"_\")[1]) for x in poses]"
   ]
  },
  {
   "cell_type": "code",
   "execution_count": null,
   "id": "b5a619ba-dd47-4d8f-b0a5-26c1c962e60d",
   "metadata": {},
   "outputs": [],
   "source": [
    "def get_skeletons(frame_no, detection):\n",
    "    \"\"\"function that reads a detections frame, checks if necks are present, and returns the skeletons\"\"\"\n",
    "    data = pd.read_csv(detection, index_col=0)\n",
    "    ## first check if it contains the neck \n",
    "    temp_data = data\n",
    "    for i in range(0, len(data.columns),3): # drop skeletons without neck\n",
    "        if np.isnan(data[data.columns[i]].loc[1]) == True:\n",
    "            temp_data = temp_data.drop([data.columns[i],data.columns[i+1], data.columns[i+2]], axis=1) ## drop skeletons with missing neck\n",
    "    data=temp_data\n",
    "    if len(data.columns) < 3: ## if not enough skeletons with neck present return 0 \n",
    "        return(None)\n",
    "    else:\n",
    "        skeletons=[]\n",
    "        ## remove probs columns\n",
    "        for col in data.columns:\n",
    "            if data[col].name[0:3] == 'pro':\n",
    "                data=data.drop([col], axis=1)\n",
    "     # return every skeleton now  \n",
    "        for x,y, in zip(data.columns[::2], data.columns[1::2]):\n",
    "            skeletons.append(data[[x,y]].to_numpy())\n",
    "        return(skeletons) ## this is a list of skeletons(stacked)\n",
    "        \n",
    "    "
   ]
  },
  {
   "cell_type": "code",
   "execution_count": null,
   "id": "029a3eaa-5f4e-430e-98bc-e3deacb564a8",
   "metadata": {},
   "outputs": [],
   "source": [
    "array_nn = [np.array([110, 100]),np.array([500, 161.28])]\n",
    "array_fit = [np.array([506.88, 161.28]),  np.array([537.6, 368.64])]\n",
    "## idea to use the argmin of distance not the index \n",
    "neigh = NearestNeighbors(n_neighbors=2, metric='euclidean', algorithm='brute')\n",
    "neigh.fit(array_nn)\n",
    "neighb = neigh.kneighbors(array_fit)\n",
    "neighb"
   ]
  },
  {
   "cell_type": "code",
   "execution_count": null,
   "id": "9f00fcce-a831-463d-bbbf-244acc95472b",
   "metadata": {},
   "outputs": [],
   "source": [
    "array_nn = [np.array([500, 161.28]), np.array([110, 100])]\n",
    "array_fit = [np.array([506.88, 161.28]),  np.array([537.6, 368.64])]\n",
    "## idea to use the argmin of distance not the index \n",
    "neigh = NearestNeighbors(n_neighbors=2, metric='euclidean', algorithm='brute')\n",
    "neigh.fit(array_nn)\n",
    "neighb = neigh.kneighbors(array_fit)\n",
    "neighb"
   ]
  },
  {
   "cell_type": "code",
   "execution_count": null,
   "id": "eb943819-ec40-4d0a-9632-63966b38050d",
   "metadata": {},
   "outputs": [],
   "source": [
    "array_fit = [np.array([110, 100]), np.array([500, 161.28])]\n",
    "array_nn = [np.array([537.6, 368.64]), np.array([506.88, 161.28]), np.array([400, 300]) ]\n",
    "neigh = NearestNeighbors(n_neighbors=1, metric='euclidean', algorithm='brute')\n",
    "distances = []\n",
    "for elem in array_fit: \n",
    "    temp_list = []\n",
    "    for x in array_nn:\n",
    "        neigh.fit([x])\n",
    "        temp_list.append(neigh.kneighbors([elem])[0])\n",
    "    distances.append(temp_list)\n",
    "distances"
   ]
  },
  {
   "cell_type": "code",
   "execution_count": null,
   "id": "9ee6cac3-18f8-4307-a77d-f5a1343adf05",
   "metadata": {},
   "outputs": [],
   "source": [
    "distances[0]"
   ]
  },
  {
   "cell_type": "code",
   "execution_count": null,
   "id": "608159d3-e1b6-412b-8bb7-f96fa19114ef",
   "metadata": {},
   "outputs": [],
   "source": [
    "from scipy.spatial import distance\n",
    "distance.euclidean(array_nn, array_fit)"
   ]
  },
  {
   "cell_type": "code",
   "execution_count": null,
   "id": "d78058bd-07df-4648-b153-183d793014ef",
   "metadata": {},
   "outputs": [],
   "source": [
    "# case 1. one previous and 2 next \n",
    "array_nn = [np.array([110, 100])]\n",
    "array_fit = [np.array([506.88, 161.28]),  np.array([100, 110])]\n",
    "neigh = NearestNeighbors(n_neighbors=1, metric='euclidean', algorithm='brute')\n",
    "neigh.fit(array_nn)\n",
    "neighb = neigh.kneighbors(array_fit)\n",
    "neighb\n",
    "## use the index of the smallest distance but check if it's less than 80 \n",
    "\n",
    "# case 1. 2 previous and 2 next \n",
    "## make sure they aren't close to each other - calculate within distance\n",
    "## pick the index of the nn "
   ]
  },
  {
   "cell_type": "code",
   "execution_count": null,
   "id": "bd339b6d-a912-4e76-b8d4-106b7eca1b01",
   "metadata": {},
   "outputs": [],
   "source": [
    "np.argmin(neighb[0], axis=1) "
   ]
  },
  {
   "cell_type": "code",
   "execution_count": null,
   "id": "b9eb895f-d511-4727-8b7f-ae5bfd0d4b13",
   "metadata": {},
   "outputs": [],
   "source": [
    "for dist in range(len(neighb[0])): ## check if they are very close \n",
    "    print(neighb[0][dist])"
   ]
  },
  {
   "cell_type": "code",
   "execution_count": null,
   "id": "a56e9bb4-777f-4f75-828d-e90735de1a8a",
   "metadata": {},
   "outputs": [],
   "source": [
    "def nn (prev_detections, new_detect):\n",
    "    \"\"\"function that does nn search between the new detections and previous detections\"\"\"\n",
    "    tracklets = [x['skeleton'][-1][1] for x in prev_detections if x['skeleton']!=[]]\n",
    "    k = 2 if len(tracklets)>1 else 1\n",
    "    neigh = NearestNeighbors(n_neighbors=2, metric='euclidean', algorithm='brute')\n",
    "    neigh.fit(tracklets)\n",
    "    neighbours = neigh.kneighbors([x[1] for x in new_detect], return_distance=True)\n",
    "    return(neighbours)\n",
    "    "
   ]
  },
  {
   "cell_type": "code",
   "execution_count": null,
   "id": "2a24520b-cd78-4c59-8e63-00cef88f8e5c",
   "metadata": {},
   "outputs": [],
   "source": [
    "def missing_elements(L):\n",
    "    start, end = L[0], L[-1]\n",
    "    return sorted(set(range(start, end + 1)).difference(L))"
   ]
  },
  {
   "cell_type": "code",
   "execution_count": null,
   "id": "e077e0ec-e04b-4f27-94b9-debb6e2eecce",
   "metadata": {},
   "outputs": [],
   "source": [
    "tracklets = [x['skeleton'][-1][1] for x in tracks if x['skeleton']!=[]]\n",
    "neigh = NearestNeighbors(n_neighbors=2, metric='euclidean', algorithm='brute')\n",
    "neigh.fit(tracklets)\n",
    "neighbours = neigh.kneighbors([x[1] for x in detect], 1, return_distance=True)\n",
    "print(neighbours)"
   ]
  },
  {
   "cell_type": "code",
   "execution_count": null,
   "id": "8cdc608c-7b10-4838-b195-6f3bc20b97e9",
   "metadata": {},
   "outputs": [],
   "source": [
    "track_1, track_2, track_3 = {'frame':[1], 'skeleton':[2]}, {'frame':[4], 'skeleton':[4]}, {'frame':[], 'skeleton':[]}\n",
    "tracks = [track_1, track_2, track_3]"
   ]
  },
  {
   "cell_type": "code",
   "execution_count": null,
   "id": "6cbde29a-8cef-440d-8582-1b0b320ad607",
   "metadata": {},
   "outputs": [],
   "source": [
    "track_1, track_2, track_3 = {'frame':[1], 'skeleton':[2]}, {'frame':[4], 'skeleton':[4]}, {'frame':[], 'skeleton':[]}\n",
    "tracks = [track_1, track_2, track_3]\n",
    "track_iter = iter(tracks)\n",
    "for x in "
   ]
  },
  {
   "cell_type": "code",
   "execution_count": null,
   "id": "e28ea614-0564-481e-af1a-2c7f8cf66223",
   "metadata": {},
   "outputs": [],
   "source": [
    "\n",
    "    "
   ]
  },
  {
   "cell_type": "code",
   "execution_count": null,
   "id": "a6136fbe-4fec-4598-9d23-8b6bc7f383dd",
   "metadata": {},
   "outputs": [],
   "source": [
    "track_1, track_2, track_3 = {'frame':[], 'skeleton':[]}, {'frame':[], 'skeleton':[]}, {'frame':[], 'skeleton':[]}\n",
    "tracks = [track_1, track_2, track_3]\n",
    "frames = []\n",
    "for pose, no in zip(poses, frame_no):\n",
    "    print('frame_no:',no)\n",
    "    frames.append(frame_no)\n",
    "    detect = get_skeletons(no, os.path.join(folder, pose))\n",
    "    if detect == None: continue\n",
    "    # wait until at least 2 tracks are initialized \n",
    "    empty_tracks = 3\n",
    "    for track in tracks:\n",
    "        if track['skeleton']!=[]:\n",
    "            empty_tracks-=1\n",
    "    if empty_tracks>1:\n",
    "        for detection in range(len(detect)):\n",
    "            tracks[detection]['skeleton'].append(detect[detection]) ## in the first frame initalize the tracks\n",
    "            tracks[detection]['frame'].append(no)\n",
    "        print(tracks)\n",
    "        continue\n",
    "        \n",
    "    else:\n",
    "            \n",
    "        ## nn search\n",
    "        ## only after at least 2 tracks are initalized \n",
    "        \n",
    "        neighb = nn(tracks, detect) \n",
    "        \n",
    "    #else:\n",
    "        ### check appearance \n",
    "        \n",
    "    ## interpolation\n",
    "  #  for track in tracks:\n",
    "   #     if track['frame']==[] and len(track['frame'])<2:continue\n",
    "    #    gaps = missing_elements([track['frame'][-1],track['frame'][-2]])\n",
    "     #   if len(gaps) > 0 and len(gaps) <50:\n",
    "      #      track['frame'] = insert_position(track['frame'].index(gaps[-1]+1), track['frame'], gaps)\n",
    "            \n",
    "    \n",
    "            "
   ]
  },
  {
   "cell_type": "code",
   "execution_count": null,
   "id": "e8cecb5c-4c56-4f65-a145-afaaa3484d01",
   "metadata": {},
   "outputs": [],
   "source": [
    "track_3['frame']"
   ]
  },
  {
   "cell_type": "code",
   "execution_count": null,
   "id": "d65e2b0a-29d6-46e4-bbea-53c7274542dc",
   "metadata": {},
   "outputs": [],
   "source": [
    "track_2['frame'][126], track_2['frame'][127]"
   ]
  },
  {
   "cell_type": "code",
   "execution_count": null,
   "id": "cf472921-3c9d-4fe7-8c3a-40cecf69acce",
   "metadata": {},
   "outputs": [],
   "source": [
    "## lets try to interpolate one skeleton between two frames:\n",
    "x = [track_2['frame'][126], track_2['frame'][127]]\n",
    "y = [track_2['skeleton'][126], track_2['skeleton'][127]]\n",
    "f = interp1d(x, y, axis=0)"
   ]
  },
  {
   "cell_type": "code",
   "execution_count": null,
   "id": "ba6de024-d120-4379-99d9-0295a093ed0f",
   "metadata": {},
   "outputs": [],
   "source": [
    "missing_elements(x)[-1]+1"
   ]
  },
  {
   "cell_type": "code",
   "execution_count": null,
   "id": "0e7a922a-6faf-4952-9477-66d880b1a9f6",
   "metadata": {},
   "outputs": [],
   "source": [
    "to_insert = f(list(range(x[0]+1, x[-1])))"
   ]
  },
  {
   "cell_type": "code",
   "execution_count": null,
   "id": "b851582e-0166-419b-a0e6-5e21177f3469",
   "metadata": {},
   "outputs": [],
   "source": [
    "track_2['frame'].index(track_2['frame'][127])"
   ]
  },
  {
   "cell_type": "code",
   "execution_count": null,
   "id": "7407c6e6-7375-4adb-a30c-795ff54eed40",
   "metadata": {},
   "outputs": [],
   "source": [
    "def insert_position(position, list1, list2): ## position is the upper bound\n",
    "    return list1[:position] + list2 + list1[position:]\n",
    "insert_position(track_2['frame'].index(track_2['frame'][127]), track_2['frame'], missing_elements(x))"
   ]
  },
  {
   "cell_type": "code",
   "execution_count": null,
   "id": "073e8e8e-fbda-47e9-98ba-6e661fcb9bed",
   "metadata": {},
   "outputs": [],
   "source": [
    "## 1. get the index of the upper bound of the gap \n",
    "\n",
    "track_2['frame'].insert(track_2['frame'].index(track_2['frame'][127]), gap[0])"
   ]
  },
  {
   "cell_type": "code",
   "execution_count": null,
   "id": "a257b850-cdd2-4435-8fcb-916274f5341c",
   "metadata": {},
   "outputs": [],
   "source": [
    "track_2['frame'] = insert_position(track_2['frame'].index(track_2['frame'][127]), track_2['frame'], missing_elements(x))"
   ]
  },
  {
   "cell_type": "code",
   "execution_count": null,
   "id": "f0320822-b986-4464-bdbd-58e5321a561d",
   "metadata": {},
   "outputs": [],
   "source": [
    "track_2['frame']"
   ]
  },
  {
   "cell_type": "code",
   "execution_count": null,
   "id": "646bf281-ba76-4355-a032-1947ecb3a74e",
   "metadata": {},
   "outputs": [],
   "source": [
    "data_1 = pd.read_csv('/Users/andrei-macpro/Documents/Data/pose/play_openpose/1043_play_1/frame_1.csv')\n",
    "data_2 = pd.read_csv('/Users/andrei-macpro/Documents/Data/pose/play_openpose/1043_play_1/frame_2.csv')"
   ]
  },
  {
   "cell_type": "code",
   "execution_count": null,
   "id": "bf7b6079-ca30-4066-b848-e3a33302040a",
   "metadata": {},
   "outputs": [],
   "source": [
    "df_1 = get_skeletons(1,'/Users/andrei-macpro/Documents/Data/pose/play_openpose/1043_play_1/frame_1.csv')\n",
    "df_2 = get_skeletons(2,'/Users/andrei-macpro/Documents/Data/pose/play_openpose/1043_play_1/frame_2.csv')"
   ]
  },
  {
   "cell_type": "code",
   "execution_count": null,
   "id": "19fb77d6-11ca-46ca-80bc-9c7493c43b1c",
   "metadata": {},
   "outputs": [],
   "source": [
    "neigh = NearestNeighbors(n_neighbors=1, metric='euclidean')\n",
    "neigh.fit([x[0][1] for x in tracks if x!=[]])"
   ]
  },
  {
   "cell_type": "code",
   "execution_count": null,
   "id": "b94badcb-4102-41df-b720-47ab1aeef141",
   "metadata": {},
   "outputs": [],
   "source": [
    "neighbours = neigh.kneighbors([x[1] for x in df_2], 1, return_distance=True)\n",
    "neighbours"
   ]
  },
  {
   "cell_type": "code",
   "execution_count": null,
   "id": "e082d0f5-f6e0-4fc8-829d-24d6cabfe561",
   "metadata": {},
   "outputs": [],
   "source": [
    "for n in range(len(neighbours)):\n",
    "    print(neighbours[n])"
   ]
  },
  {
   "cell_type": "code",
   "execution_count": null,
   "id": "0a76b818-1e03-43c7-b54f-d19e10b5cdbf",
   "metadata": {},
   "outputs": [],
   "source": [
    "f = interp1d(track_1['frame'], track_1['skeleton'],axis=0)"
   ]
  },
  {
   "cell_type": "code",
   "execution_count": null,
   "id": "683b1f44-1d03-4ae5-9593-d755d8723bd9",
   "metadata": {},
   "outputs": [],
   "source": [
    "f([2,5])"
   ]
  },
  {
   "cell_type": "code",
   "execution_count": null,
   "id": "1bfb814b-b19f-4fbd-814f-92d56a89e245",
   "metadata": {},
   "outputs": [],
   "source": [
    "x = [1,5]\n",
    "y = [[[np.nan,np.nan],[10,11],[12,13]], [[15,16], [17,18], [22.23,20.56]]]\n",
    "f = interp1d(x, y, axis=0)"
   ]
  },
  {
   "cell_type": "code",
   "execution_count": null,
   "id": "57155143-8281-4526-b05a-05e5d850a356",
   "metadata": {},
   "outputs": [],
   "source": [
    "y = [[5,9],[10,11],[0,0],[np.nan,10],[10,11],[12,13], [15,16], [17,18], [19,20]]\n",
    "mi = pd.MultiIndex.from_arrays([[0,0,0,1,1,1,2,2,2], [1,2,3,1,2,3,1,2,3]], names=['frame', 'joint'])\n",
    "df = pd.DataFrame(y, columns = ['x','y'], index=mi)"
   ]
  },
  {
   "cell_type": "code",
   "execution_count": null,
   "id": "e884c07d-aed6-4b9e-bc7d-939a29d0c497",
   "metadata": {},
   "outputs": [],
   "source": [
    "new_array = f([1,2,3,4,5])\n"
   ]
  },
  {
   "cell_type": "code",
   "execution_count": null,
   "id": "8b75e529-0010-4d28-8b6d-7535f3e5c2ef",
   "metadata": {},
   "outputs": [],
   "source": [
    "new_array[-1] = y[-1]"
   ]
  },
  {
   "cell_type": "code",
   "execution_count": null,
   "id": "04616988-ff39-4687-b366-03b38f4cddfd",
   "metadata": {},
   "outputs": [],
   "source": [
    "new_array"
   ]
  },
  {
   "cell_type": "code",
   "execution_count": null,
   "id": "aa32819d-1a13-4920-a5e4-5a17c9db7243",
   "metadata": {},
   "outputs": [],
   "source": [
    "y = [[[5,9],[10,11],[15,16]],[[10,11],[12,13], [np.nan, np.nan]], [[17,18], [19,20],[7,8]],\n",
    "    [[10,11], [0,8], [9,8]], [[20,4], [19,8], [10,5]]]\n",
    "\n",
    "savgol_filter(np.array(y), 5, 3, axis=0,mode='interp')"
   ]
  },
  {
   "cell_type": "code",
   "execution_count": null,
   "id": "eb44fc25-c008-46e5-9a0a-95f04c984d40",
   "metadata": {},
   "outputs": [],
   "source": [
    "y = [[[5,9],[10,11],[0,0],[np.nan,10]],[[10,11],[12,13], [15,16]], [[17,18], [19,20],[0,5]],\n",
    "    [[10,11], [0,8], [9,8]], [[20,4], [19,8], [10,5]]]\n",
    "np.array(y).shape"
   ]
  },
  {
   "cell_type": "code",
   "execution_count": null,
   "id": "10fa15b6-b68a-433f-a52e-78b8ad4f6347",
   "metadata": {},
   "outputs": [],
   "source": [
    "y"
   ]
  },
  {
   "cell_type": "code",
   "execution_count": null,
   "id": "140b0d3a-4d71-455f-b19e-4fac68ef3a69",
   "metadata": {},
   "outputs": [],
   "source": [
    "x = 'nan'\n",
    "x!=x"
   ]
  }
 ],
 "metadata": {
  "kernelspec": {
   "display_name": "Python 3 (ipykernel)",
   "language": "python",
   "name": "python3"
  },
  "language_info": {
   "codemirror_mode": {
    "name": "ipython",
    "version": 3
   },
   "file_extension": ".py",
   "mimetype": "text/x-python",
   "name": "python",
   "nbconvert_exporter": "python",
   "pygments_lexer": "ipython3",
   "version": "3.7.6"
  }
 },
 "nbformat": 4,
 "nbformat_minor": 5
}
