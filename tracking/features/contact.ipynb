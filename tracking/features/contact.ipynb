{
 "cells": [
  {
   "cell_type": "code",
   "execution_count": null,
   "metadata": {},
   "outputs": [],
   "source": [
    "import os\n",
    "import sys\n",
    "import pandas as pd\n",
    "import matplotlib.pyplot as plt     \n",
    "import numpy as np\n",
    "from sklearn.preprocessing import StandardScaler\n",
    "import cv2"
   ]
  },
  {
   "cell_type": "code",
   "execution_count": null,
   "metadata": {},
   "outputs": [],
   "source": [
    "# Calculate z-scores for x and y columns\n",
    "# make this code into a function that takes a dataframe and returns the cleaned dataframe\n",
    "        \n",
    "from scipy.stats import zscore\n",
    "def clean_outliers(df):\n",
    "    z_scores_x = zscore(df.iloc[:,0])\n",
    "    z_scores_y = zscore(df.iloc[:,1])\n",
    "\n",
    "    # Define threshold for z-score (e.g., 3)\n",
    "    threshold = 3\n",
    "\n",
    "    # Identify outliers based on z-scores\n",
    "    outliers_x = df[abs(z_scores_x) > threshold]\n",
    "    outliers_y = df[abs(z_scores_y) > threshold]\n",
    "\n",
    "    # Remove outliers from DataFrame\n",
    "    cleaned_df = df[~df.index.isin(outliers_x.index) & ~df.index.isin(outliers_y.index)]\n",
    "    return cleaned_df"
   ]
  },
  {
   "cell_type": "code",
   "execution_count": null,
   "metadata": {},
   "outputs": [],
   "source": [
    "# lets decide what it means for contact to happen \n",
    "close_prox = 100pixels \n",
    "distant_prox = 500pixels "
   ]
  },
  {
   "cell_type": "code",
   "execution_count": null,
   "metadata": {},
   "outputs": [],
   "source": [
    "# draw lines on the frame at each 50 pixels \n",
    "# the resolution is 768 x 576\n",
    "for i in range(0, 768, 50):\n",
    "    cv2.line(frame, (i, 0), (i, 576), (0, 255, 0), 1)"
   ]
  },
  {
   "cell_type": "code",
   "execution_count": null,
   "metadata": {},
   "outputs": [],
   "source": [
    "from moviepy.editor import VideoFileClip\n",
    "video_folder = '/Users/andrei-macpro/Documents/Data/videos/meal_videos' \n",
    "\n",
    "durations_videos = []\n",
    "file_names = []\n",
    "\n",
    "for folder_name in sorted(os.listdir(video_folder)):\n",
    "    if folder_name == \".DS_Store\":\n",
    "        continue\n",
    "    file_path = os.path.join(video_folder, folder_name)\n",
    "    if os.path.isfile(file_path):\n",
    "        clip = VideoFileClip(file_path)\n",
    "        durations_videos.append(clip.duration)\n",
    "        file_names.append(folder_name.split('.')[0])\n",
    "\n",
    "durations_videos = pd.DataFrame({'file_name': file_names, 'duration': durations_videos})"
   ]
  },
  {
   "cell_type": "code",
   "execution_count": null,
   "metadata": {},
   "outputs": [],
   "source": [
    "tracking_folder = '/Users/andrei-macpro/Documents/Data/openpose/meal/tracking/meal_tracking_2' "
   ]
  },
  {
   "cell_type": "code",
   "execution_count": null,
   "metadata": {},
   "outputs": [],
   "source": [
    "file_path = '/Users/andrei-macpro/Documents/Data/openpose/play/tracking/tracking/1047_play'\n",
    "tracks = {}\n",
    "durations = []\n",
    "for file in sorted(os.listdir(file_path)):\n",
    "        # load the file in a pandas dataframe\n",
    "    if file == \".DS_Store\":\n",
    "        continue    \n",
    "    filepath = os.path.join(file_path, file)\n",
    "    df = pd.read_csv(filepath, index_col=0)\n",
    "    df = df[~df.index.duplicated(keep='first')]\n",
    "    df.columns = ['x_' + file.split('.')[0], 'y_' + file.split('.')[0]]\n",
    "    df = clean_outliers(df)\n",
    "    tracks[file.split('.')[0]] = df\n",
    "\n",
    "\n",
    "\n",
    "combined_data = pd.concat([df for df in tracks.values()], axis=1)\n",
    "track_names = list(tracks.keys())\n",
    "for i in range(0, len(track_names), 2):\n",
    "    # Get the coordinates of the two subjects\n",
    "    x1 = combined_data['x_' + track_names[i]]\n",
    "    y1 = combined_data['y_' + track_names[i]]\n",
    "    x2 = combined_data['x_' + track_names[i+1]]\n",
    "    y2 = combined_data['y_' + track_names[i+1]]\n",
    "\n",
    "# Calculate the Euclidean distance between the two subjects\n",
    "    distance = np.sqrt((x2 - x1)**2 + (y2 - y1)**2)\n",
    "    print(distance)\n",
    "\n",
    "    # Find the indices where the distance is less than 100\n",
    "    close_indices = np.where(distance < 100)[0]\n",
    "    if len(close_indices) == 0:\n",
    "        continue\n",
    "    start = close_indices[0]\n",
    "\n",
    "        # Iterate over the close indices\n",
    "    for i in range(1, len(close_indices)):\n",
    "    # If the current index is not consecutive to the previous one,\n",
    "    # it means a new contact period has started\n",
    "        if close_indices[i] != close_indices[i-1] + 1:\n",
    "        # The duration of the contact period is the difference between the start and end times\n",
    "            duration = close_indices[i-1] - start\n",
    "            durations.append(duration)\n",
    "\n",
    "        # Update the start of the new contact period\n",
    "            start = close_indices[i]\n",
    "# Count how many times the distance is less than 100\n",
    "    duration = close_indices[-1] - start\n",
    "    durations.append(duration)\n",
    "\n",
    "print(f\"The durations of the contact periods were: {durations}\")\n",
    "print(f\"The two subjects were closer than 100 a total of {len(durations)} times.\")"
   ]
  },
  {
   "cell_type": "code",
   "execution_count": null,
   "metadata": {},
   "outputs": [],
   "source": [
    "# average close contact duration\n",
    "# frequency of close contact\n"
   ]
  },
  {
   "cell_type": "code",
   "execution_count": null,
   "metadata": {},
   "outputs": [],
   "source": [
    "tracking_folder = '/Users/andrei-macpro/Documents/Data/openpose/meal/tracking/meal_tracking_2' \n",
    "\n",
    "stats = {}\n",
    "for folder_name in sorted(os.listdir(tracking_folder)):\n",
    "    if folder_name == \".DS_Store\":\n",
    "        continue\n",
    "    file_path = os.path.join(tracking_folder, folder_name)\n",
    "    tracks = {}\n",
    "    durations = []\n",
    "    for file in sorted(os.listdir(file_path)):\n",
    "            # load the file in a pandas dataframe\n",
    "        if file == \".DS_Store\":\n",
    "            continue    \n",
    "        filepath = os.path.join(tracking_folder, file_path, file)\n",
    "        df = pd.read_csv(filepath, index_col=0)\n",
    "        df = df[~df.index.duplicated(keep='first')]\n",
    "        df.columns = ['x_' + file.split('.')[0], 'y_' + file.split('.')[0]]\n",
    "        df = clean_outliers(df)\n",
    "        tracks[file.split('.')[0]] = df\n",
    "\n",
    "\n",
    "\n",
    "    combined_data = pd.concat([df for df in tracks.values()], axis=1)\n",
    "    track_names = list(tracks.keys())\n",
    "    for i in range(0, len(track_names), 2):\n",
    "        # Get the coordinates of the two subjects\n",
    "        x1 = combined_data['x_' + track_names[i]]\n",
    "        y1 = combined_data['y_' + track_names[i]]\n",
    "        x2 = combined_data['x_' + track_names[i+1]]\n",
    "        y2 = combined_data['y_' + track_names[i+1]]\n",
    "\n",
    "    # Calculate the Euclidean distance between the two subjects\n",
    "        distance = np.sqrt((x2 - x1)**2 + (y2 - y1)**2)\n",
    "\n",
    "        # Find the indices where the distance is less than 100\n",
    "        close_indices = np.where(distance < 100)[0]\n",
    "        if len(close_indices) == 0:\n",
    "            continue\n",
    "        start = close_indices[0]\n",
    "\n",
    "            # Iterate over the close indices\n",
    "        for i in range(1, len(close_indices)):\n",
    "        # If the current index is not consecutive to the previous one,\n",
    "        # it means a new contact period has started\n",
    "            if close_indices[i] != close_indices[i-1] + 1:\n",
    "            # The duration of the contact period is the difference between the start and end times\n",
    "                duration = close_indices[i-1] - start\n",
    "                durations.append(duration)\n",
    "\n",
    "            # Update the start of the new contact period\n",
    "                start = close_indices[i]\n",
    "    # Count how many times the distance is less than 100\n",
    "        duration = close_indices[-1] - start\n",
    "        durations.append(duration)\n",
    "\n",
    "    duration_video = durations_videos.loc[durations_videos['file_name'] == folder_name]['duration'].values[0]\n",
    "    if folder_name not in stats:\n",
    "        stats[folder_name] = {}\n",
    "    stats[folder_name] = {'average_contact_duration': np.mean(durations)/duration_video*100\n",
    "                                          , 'frequency_contact': len(durations)/duration_video*100}\n",
    "\n",
    "\n"
   ]
  },
  {
   "cell_type": "code",
   "execution_count": null,
   "metadata": {},
   "outputs": [],
   "source": [
    "stats"
   ]
  },
  {
   "cell_type": "code",
   "execution_count": null,
   "metadata": {},
   "outputs": [],
   "source": [
    "# turn stats into a pandas dataframe\n",
    "stats_df = pd.DataFrame(stats).T\n",
    "stats_df"
   ]
  },
  {
   "cell_type": "code",
   "execution_count": null,
   "metadata": {},
   "outputs": [],
   "source": [
    "# replace nan values with 0 in stats_df\n",
    "stats_df = stats_df.fillna(0)\n",
    "stats_df"
   ]
  },
  {
   "cell_type": "code",
   "execution_count": null,
   "metadata": {},
   "outputs": [],
   "source": [
    "stats_df.to_csv('/Users/andrei-macpro/Documents/Data/tracking/features/meal/contact_frequency_duration.csv')"
   ]
  }
 ],
 "metadata": {
  "kernelspec": {
   "display_name": "deepsort",
   "language": "python",
   "name": "python3"
  },
  "language_info": {
   "codemirror_mode": {
    "name": "ipython",
    "version": 3
   },
   "file_extension": ".py",
   "mimetype": "text/x-python",
   "name": "python",
   "nbconvert_exporter": "python",
   "pygments_lexer": "ipython3",
   "version": "3.10.6"
  }
 },
 "nbformat": 4,
 "nbformat_minor": 2
}
