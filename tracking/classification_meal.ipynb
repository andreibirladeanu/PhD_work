{
 "cells": [
  {
   "cell_type": "code",
   "execution_count": null,
   "metadata": {},
   "outputs": [],
   "source": [
    "import os\n",
    "import sys\n",
    "import pandas as pd\n",
    "import matplotlib.pyplot as plt \n",
    "import numpy as np\n",
    "from sklearn.model_selection import train_test_split\n",
    "from sklearn.preprocessing import StandardScaler\n",
    "from sklearn.pipeline import Pipeline\n",
    "from sklearn.ensemble import RandomForestClassifier\n",
    "from sklearn.metrics import accuracy_score\n",
    "from sklearn.model_selection import GridSearchCV, GroupKFold\n",
    "from sklearn.linear_model import LogisticRegression\n",
    "from sklearn.svm import SVC\n",
    "from sklearn.ensemble import RandomForestClassifier\n",
    "from sklearn.preprocessing import StandardScaler\n",
    "from sklearn.pipeline import Pipeline\n",
    "from sklearn.feature_selection import SelectKBest, f_classif\n",
    "from sklearn.utils import shuffle\n",
    "from sklearn.model_selection import cross_val_score\n",
    "from sklearn.model_selection import GroupKFold, cross_validate\n",
    "from sklearn.dummy import DummyClassifier\n",
    "from numpy.random import RandomState\n",
    "from sklearn.model_selection import KFold\n",
    "\n",
    "from sklearn.metrics import make_scorer, accuracy_score, precision_score, recall_score, f1_score\n"
   ]
  },
  {
   "cell_type": "code",
   "execution_count": null,
   "metadata": {},
   "outputs": [],
   "source": [
    "df = pd.read_csv('/Users/andrei-macpro/Documents/Data/tracking/features/meal/combined_features.csv', index_col=0)"
   ]
  },
  {
   "cell_type": "code",
   "execution_count": null,
   "metadata": {},
   "outputs": [],
   "source": [
    "\n",
    "#remove columns Age, DAI, Rinab, IQ_T2, duration_meal, duration_play, Gender from df\n",
    "df = df.drop(columns=['Age', 'DAI', 'Rinab', 'IQ_T2', 'duration_meal', 'duration_play','Gender'])\n",
    "df\n"
   ]
  },
  {
   "cell_type": "code",
   "execution_count": null,
   "metadata": {},
   "outputs": [],
   "source": [
    "df['label'] = df['label'].map({'no_rad': 0, 'rad': 1})"
   ]
  },
  {
   "cell_type": "code",
   "execution_count": null,
   "metadata": {},
   "outputs": [],
   "source": [
    "# Reset the index\n",
    "df = df.reset_index()\n",
    "\n",
    "# Create the 'group' column and group by it\n",
    "df['group'] = df['s_id'].str.split('_').str[0]\n",
    "df_grouped = df.groupby('group').mean()\n",
    "\n",
    "# Set the index back to 's_id'\n",
    "# change index name to s_id\n",
    "df.index.name = 's_id'"
   ]
  },
  {
   "cell_type": "code",
   "execution_count": null,
   "metadata": {},
   "outputs": [],
   "source": [
    "df"
   ]
  },
  {
   "cell_type": "code",
   "execution_count": null,
   "metadata": {},
   "outputs": [],
   "source": [
    "df = df.groupby('group').mean()\n",
    "df['label'] = df['label'].map({0: 'no_rad', 1: 'rad'})"
   ]
  },
  {
   "cell_type": "code",
   "execution_count": null,
   "metadata": {},
   "outputs": [],
   "source": [
    "# Perform a grid search for each classifier\n",
    "X = df.drop('label', axis=1)\n",
    "y = df['label']\n",
    "\n",
    "# Create a GroupKFold object\n",
    "gkf = KFold(n_splits=5)\n",
    "X_shuffled, y_shuffled = shuffle(X, y, random_state=0)\n",
    "# Define the classifiers and their parameters\n",
    "classifiers = [\n",
    "('lr', LogisticRegression(), {'lr__C': [0.01, 0.1, 1, 10, 100], 'lr__penalty': ['l1', 'l2'], 'lr__solver': ['liblinear', 'saga']}),\n",
    "    ('svc_linear', SVC(kernel='linear'), {'svc_linear__C': [0.01, 0.1, 1, 10, 100]}),\n",
    "    ('svc_rbf', SVC(kernel='rbf'), {'svc_rbf__C': [0.01, 0.1, 1, 10, 100], 'svc_rbf__gamma': [0.01, 0.1, 1, 10, 100]}),\n",
    "    ('rf', RandomForestClassifier(), {'rf__n_estimators': [10, 50, 100, 200], 'rf__max_depth': [None, 5, 10, 15], 'rf__min_samples_split': [2, 5, 10]})\n",
    "]\n",
    "\n",
    "# Perform a grid search for each classifier\n",
    "for name, classifier, params in classifiers:\n",
    "    pipeline = Pipeline([('scaler', StandardScaler()), (name, classifier)])\n",
    "    grid_search = GridSearchCV(pipeline, params, cv=gkf)\n",
    "    grid_search.fit(X_shuffled, y_shuffled)\n",
    "\n",
    "    print(f'Best parameters for {name}: {grid_search.best_params_}')\n",
    "    print(f'Best score for {name}: {grid_search.best_score_}')\n",
    "\n",
    "    # Calculate the cross-validated F1 score, precision, and recall\n",
    "    f1_scores = cross_val_score(grid_search.best_estimator_, X_shuffled, y_shuffled, cv=gkf, scoring='f1_macro')\n",
    "    precision_scores = cross_val_score(grid_search.best_estimator_, X_shuffled, y_shuffled, cv=gkf, scoring='precision_macro')\n",
    "    recall_scores = cross_val_score(grid_search.best_estimator_, X_shuffled, y_shuffled, cv=gkf, scoring='recall_macro')\n",
    "\n",
    "    print(f'Cross-validated F1 score for {name}: {f1_scores.mean()}')\n",
    "    print(f'Cross-validated precision for {name}: {precision_scores.mean()}')\n",
    "    print(f'Cross-validated recall for {name}: {recall_scores.mean()}')"
   ]
  },
  {
   "cell_type": "code",
   "execution_count": null,
   "metadata": {},
   "outputs": [],
   "source": [
    "from sklearn.preprocessing import StandardScaler\n",
    "from sklearn.pipeline import Pipeline\n",
    "\n",
    "# Create a dummy classifier\n",
    "dummy = DummyClassifier(strategy='most_frequent')\n",
    "\n",
    "# Create an SVC classifier with specific parameters\n",
    "svc_rbf = SVC(kernel='linear', C=10)\n",
    "\n",
    "# Initialize a RandomState\n",
    "rs = RandomState(123)\n",
    "\n",
    "# Initialize a GroupKFold\n",
    "gkf = GroupKFold(n_splits=5)\n",
    "\n",
    "# Define scoring metrics\n",
    "scoring = {'accuracy': make_scorer(accuracy_score),\n",
    "           'precision': make_scorer(precision_score, average='macro'),\n",
    "           'recall': make_scorer(recall_score, average='macro'),\n",
    "           'f1': make_scorer(f1_score, average='macro')}\n",
    "\n",
    "# Create pipelines\n",
    "pipeline_dummy = Pipeline([('scaler', StandardScaler()), ('dummy', dummy)])\n",
    "pipeline_svc = Pipeline([('scaler', StandardScaler()), ('svc', svc_rbf)])\n",
    "\n",
    "# Perform 10 random shuffles\n",
    "for i in range(10):\n",
    "    X_shuffled, y_shuffled, groups_shuffled = shuffle(X, y, groups, random_state=rs)\n",
    "\n",
    "    # Calculate the cross-validated scores of the dummy classifier\n",
    "    scores_dummy = cross_validate(pipeline_dummy, X_shuffled, y_shuffled, groups=groups_shuffled, cv=gkf, scoring=scoring)\n",
    "\n",
    "    print(f'Cross-validated scores of dummy classifier for shuffle {i+1}:')\n",
    "    for metric, scores in scores_dummy.items():\n",
    "        print(f'{metric}: {scores.mean()}')\n",
    "\n",
    "    # Calculate the cross-validated scores of the SVC classifier\n",
    "    scores_svc = cross_validate(pipeline_svc, X_shuffled, y_shuffled, groups=groups_shuffled, cv=gkf, scoring=scoring)\n",
    "\n",
    "    print(f'Cross-validated scores of SVC classifier for shuffle {i+1}:')\n",
    "    for metric, scores in scores_svc.items():\n",
    "        print(f'{metric}: {scores.mean()}')"
   ]
  },
  {
   "cell_type": "code",
   "execution_count": null,
   "metadata": {},
   "outputs": [],
   "source": [
    "# Fit the SelectKBest method\n",
    "features = list(df.columns)\n",
    "selector.fit(X_shuffled, y_shuffled)\n",
    "\n",
    "# Get the scores\n",
    "scores = selector.scores_\n",
    "\n",
    "# Create a list of tuples, each containing a feature and its score\n",
    "feature_scores = list(zip(features, scores))\n",
    "\n",
    "# Sort the list of tuples by the score, in descending order\n",
    "sorted_feature_scores = sorted(feature_scores, key=lambda x: x[1], reverse=True)\n",
    "\n",
    "# Get the names of the features, in order of their score\n",
    "sorted_features = [feature for feature, score in sorted_feature_scores]\n",
    "\n",
    "print('Features sorted by importance:', sorted_features)"
   ]
  },
  {
   "cell_type": "code",
   "execution_count": null,
   "metadata": {},
   "outputs": [],
   "source": [
    "from sklearn.model_selection import train_test_split\n",
    "from sklearn.linear_model import LogisticRegression\n",
    "from sklearn.feature_selection import SelectFromModel\n",
    "X = df.drop(['label','group'], axis=1)\n",
    "y = df['label']\n",
    "groups = df['group']\n",
    "\n",
    "\n",
    "# Split the data into training and test sets\n",
    "X_train, X_test, y_train, y_test = train_test_split(X, y, test_size=0.2, random_state=42)\n",
    "\n",
    "# Initialize the model\n",
    "model = LogisticRegression()\n",
    "\n",
    "# Initialize the selector\n",
    "# Fit the model\n",
    "model.fit(X_train, y_train)\n",
    "\n",
    "# Get the coefficients of the model\n",
    "coefficients = model.coef_[0]\n",
    "\n",
    "# Get the absolute values of the coefficients\n",
    "abs_coefficients = abs(coefficients)\n",
    "\n",
    "# Create a DataFrame with the feature names and coefficients\n",
    "feature_importances = pd.DataFrame({'feature': X.columns, 'importance': abs_coefficients})\n",
    "\n",
    "# Sort the DataFrame by the coefficients in descending order\n",
    "feature_importances = feature_importances.sort_values('importance', ascending=False)\n",
    "\n",
    "# Print the features in order of their importance\n",
    "print(feature_importances)"
   ]
  },
  {
   "cell_type": "code",
   "execution_count": null,
   "metadata": {},
   "outputs": [],
   "source": [
    "# Fit the model\n",
    "model.fit(X_train, y_train)\n",
    "\n",
    "# Get the coefficients of the model\n",
    "coefficients = model.coef_[0]\n",
    "\n",
    "# Create a DataFrame with the feature names and coefficients\n",
    "feature_importances = pd.DataFrame({'feature': X.columns, 'coefficient': coefficients})\n",
    "\n",
    "# Calculate the absolute values of the coefficients for the importance\n",
    "feature_importances['importance'] = abs(feature_importances['coefficient'])\n",
    "\n",
    "# Sort the DataFrame by the importance in descending order\n",
    "feature_importances = feature_importances.sort_values('importance', ascending=False)\n",
    "\n",
    "# Print the features in order of their importance, including the sign of the coefficients\n",
    "print(feature_importances)"
   ]
  },
  {
   "cell_type": "code",
   "execution_count": null,
   "metadata": {},
   "outputs": [],
   "source": [
    "import numpy as np\n",
    "\n",
    "# Get the sign of the coefficients\n",
    "feature_importances['coefficient'] = np.sign(feature_importances['coefficient'])\n",
    "\n",
    "# Replace positive and negative values with '+' and '-'\n",
    "feature_importances['coefficient'] = feature_importances['coefficient'].map({1: 'rad', -1: 'no_rad'})"
   ]
  },
  {
   "cell_type": "code",
   "execution_count": null,
   "metadata": {},
   "outputs": [],
   "source": [
    "feature_importances"
   ]
  },
  {
   "cell_type": "code",
   "execution_count": null,
   "metadata": {},
   "outputs": [],
   "source": [
    "feature_importances.to_csv('feature_importances_meal.csv')"
   ]
  }
 ],
 "metadata": {
  "kernelspec": {
   "display_name": "deepsort",
   "language": "python",
   "name": "python3"
  },
  "language_info": {
   "codemirror_mode": {
    "name": "ipython",
    "version": 3
   },
   "file_extension": ".py",
   "mimetype": "text/x-python",
   "name": "python",
   "nbconvert_exporter": "python",
   "pygments_lexer": "ipython3",
   "version": "3.10.6"
  }
 },
 "nbformat": 4,
 "nbformat_minor": 2
}
