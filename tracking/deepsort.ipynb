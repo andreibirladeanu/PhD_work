{
 "cells": [
  {
   "cell_type": "code",
   "execution_count": 1,
   "id": "cc5bb612",
   "metadata": {},
   "outputs": [],
   "source": [
    "import pandas as pd\n",
    "import numpy as np\n",
    "import cv2\n",
    "import os\n",
    "from deep_sort_realtime.deepsort_tracker import DeepSort, Detection\n",
    "from sorted_alpha import sorted_alpha\n",
    "#import matplotlib.pyplot as plt\n",
    "#from frame_count import frame_count\n"
   ]
  },
  {
   "cell_type": "code",
   "execution_count": 3,
   "id": "3d9e613d",
   "metadata": {},
   "outputs": [],
   "source": [
    "from deep_sort_realtime.deepsort_tracker import DeepSort, Detection\n",
    "tracker = DeepSort(max_age=30, n_init = 3, embedder_gpu=True)\n"
   ]
  },
  {
   "cell_type": "code",
   "execution_count": 56,
   "id": "d6ff3568",
   "metadata": {},
   "outputs": [],
   "source": [
    "tracker.delete_all_tracks()"
   ]
  },
  {
   "cell_type": "code",
   "execution_count": 4,
   "id": "d99c69f1",
   "metadata": {},
   "outputs": [
    {
     "data": {
      "text/plain": [
       "<deep_sort_realtime.deepsort_tracker.DeepSort at 0x10d9c44c0>"
      ]
     },
     "execution_count": 4,
     "metadata": {},
     "output_type": "execute_result"
    }
   ],
   "source": [
    "tracker"
   ]
  },
  {
   "cell_type": "code",
   "execution_count": 2,
   "id": "58f6baae",
   "metadata": {},
   "outputs": [
    {
     "name": "stdout",
     "output_type": "stream",
     "text": [
      "a\n"
     ]
    }
   ],
   "source": [
    "print('a')"
   ]
  },
  {
   "cell_type": "code",
   "execution_count": 2,
   "id": "105df46b",
   "metadata": {},
   "outputs": [
    {
     "name": "stdout",
     "output_type": "stream",
     "text": [
      "Using device: mps\n"
     ]
    }
   ],
   "source": [
    "import torch\n",
    "device = \"mps\" if torch.backends.mps.is_available() else \"cpu\"\n",
    "print(f\"Using device: {device}\")"
   ]
  },
  {
   "cell_type": "code",
   "execution_count": null,
   "id": "baac63c3",
   "metadata": {},
   "outputs": [],
   "source": [
    "def find_min_round(array):\n",
    "    array = np.array(array)#remove the arms from the equation cause the bounding boxes are too large \n",
    "    x = round(np.min(array[np.nonzero(array)]))\n",
    "    return(x)\n",
    "\n",
    "def find_max_round(array):\n",
    "    array = np.array(array)\n",
    "    x = round(np.max(array))\n",
    "    return(x)"
   ]
  },
  {
   "cell_type": "code",
   "execution_count": 4,
   "id": "06184b9c",
   "metadata": {},
   "outputs": [],
   "source": [
    "pose = '/Users/andrei-macpro/Documents/Data/pose/play_openpose/1047_play'\n",
    "detections = sorted_alpha(pose)"
   ]
  },
  {
   "cell_type": "code",
   "execution_count": 5,
   "id": "70479dfa",
   "metadata": {},
   "outputs": [],
   "source": [
    "path_video = '/Users/andrei-macpro/Documents/Data/videos/play_videos/1047_play.mp4'\n",
    "cap = cv2.VideoCapture(path_video)"
   ]
  },
  {
   "cell_type": "code",
   "execution_count": 6,
   "id": "c81567c7",
   "metadata": {
    "tags": []
   },
   "outputs": [],
   "source": [
    "frames = [int(x.split(\"_\")[1].split('.')[0]) for x in detections]\n"
   ]
  },
  {
   "cell_type": "code",
   "execution_count": 7,
   "id": "9cbd219d",
   "metadata": {},
   "outputs": [],
   "source": [
    "images = []\n",
    "for frame in frames:\n",
    "    cap.set(1,frame)\n",
    "    ret, image = cap.read()\n",
    "    images.append(image)\n"
   ]
  },
  {
   "cell_type": "code",
   "execution_count": null,
   "id": "5d576488",
   "metadata": {
    "tags": []
   },
   "outputs": [],
   "source": [
    "len(images), len(skeletons)"
   ]
  },
  {
   "cell_type": "code",
   "execution_count": 8,
   "id": "5aaa8954",
   "metadata": {},
   "outputs": [],
   "source": [
    "skeletons = []\n",
    "for det in detections: \n",
    "    temp_list = []\n",
    "    df = pd.read_csv(os.path.join(pose,det))\n",
    "    columns = df.columns[1:]\n",
    "    probs = [df.iloc[:,column+1].mean() for column in range(2, len(columns), 3)]\n",
    "    detections_x = [df.iloc[:,column+1].min() for column in range(0, len(columns), 3)]                                   \n",
    "    detections_y  = [df.iloc[:,column+1].min() for column in range(1, len(columns), 3)]\n",
    "    width = [df.iloc[:,column+1].max() for column in range(0, len(columns), 3)]\n",
    "    height = [df.iloc[:,column+1].max() for column in range(1, len(columns), 3)]\n",
    "    k=1\n",
    "    for x,y,w,h,p in zip(detections_x, detections_y, width, height, probs):\n",
    "        temp_list.append(([x,y,w-x,h-y], round(p, 2), 'person '+str(k)))\n",
    "        k+=1\n",
    "    skeletons.append(temp_list)\n",
    "             "
   ]
  },
  {
   "cell_type": "code",
   "execution_count": null,
   "id": "b2a72584",
   "metadata": {
    "collapsed": true,
    "jupyter": {
     "outputs_hidden": true
    },
    "tags": []
   },
   "outputs": [],
   "source": [
    "skeletons"
   ]
  },
  {
   "cell_type": "code",
   "execution_count": null,
   "id": "a2b47f34",
   "metadata": {},
   "outputs": [],
   "source": [
    "a = [5, 7, 11, 4, 5]\n",
    "\n",
    "for previous, current in zip(a, a[1:]):\n",
    "    print([previous, current])"
   ]
  },
  {
   "cell_type": "code",
   "execution_count": 9,
   "id": "e39477cb",
   "metadata": {},
   "outputs": [
    {
     "name": "stderr",
     "output_type": "stream",
     "text": [
      "OpenCV: Couldn't read video stream from file \"/Users/andreibirladeanu/Documents/Data/play_videos/1047_play.mp4\"\n"
     ]
    }
   ],
   "source": [
    "video = '/Users/andreibirladeanu/Documents/Data/play_videos/1047_play.mp4'\n",
    "cap = cv2.VideoCapture(video)"
   ]
  },
  {
   "cell_type": "code",
   "execution_count": null,
   "id": "bba16698",
   "metadata": {},
   "outputs": [],
   "source": [
    "(np.ones((1080, 1920, 3), dtype=np.uint8) * 255).shape"
   ]
  },
  {
   "cell_type": "code",
   "execution_count": 59,
   "id": "f5368aa3",
   "metadata": {},
   "outputs": [],
   "source": [
    "tracker.delete_all_tracks()"
   ]
  },
  {
   "cell_type": "code",
   "execution_count": null,
   "id": "16721a22",
   "metadata": {},
   "outputs": [],
   "source": [
    "tracks=[]"
   ]
  },
  {
   "cell_type": "code",
   "execution_count": null,
   "id": "164adce6",
   "metadata": {
    "collapsed": true,
    "jupyter": {
     "outputs_hidden": true
    },
    "tags": []
   },
   "outputs": [],
   "source": [
    "tracks = tracker.create_detections(skeletons)"
   ]
  },
  {
   "cell_type": "code",
   "execution_count": null,
   "id": "02239bb1",
   "metadata": {},
   "outputs": [],
   "source": [
    "tracks"
   ]
  },
  {
   "cell_type": "code",
   "execution_count": null,
   "id": "9ef6ed55",
   "metadata": {},
   "outputs": [],
   "source": [
    "for track in tracks:\n",
    "    print(track)"
   ]
  },
  {
   "cell_type": "code",
   "execution_count": null,
   "id": "4591f75b",
   "metadata": {},
   "outputs": [],
   "source": [
    "for track in tracks:\n",
    "    if not track.is_confirmed():\n",
    "        continue\n",
    "    track_id = track.track_id\n",
    "    ltrb = track.to_ltrb()"
   ]
  },
  {
   "cell_type": "code",
   "execution_count": null,
   "id": "7bb26754",
   "metadata": {
    "collapsed": true,
    "jupyter": {
     "outputs_hidden": true
    },
    "tags": []
   },
   "outputs": [],
   "source": [
    "tracks = tracker.update_tracks(raw_detections = skeletons, frame= images)"
   ]
  },
  {
   "cell_type": "code",
   "execution_count": null,
   "id": "9e9a08a1",
   "metadata": {},
   "outputs": [],
   "source": [
    "tracks = tracker.update_tracks(raw_detections = skeletons[0], frame= images[0])"
   ]
  },
  {
   "cell_type": "code",
   "execution_count": null,
   "id": "d7641251",
   "metadata": {
    "tags": []
   },
   "outputs": [],
   "source": [
    "for detection, frame in zip(skeletons[:-1], images[:-1]):\n",
    "    tracks = tracker.update_tracks(raw_detections = detection, frame=frame)\n"
   ]
  },
  {
   "cell_type": "code",
   "execution_count": null,
   "id": "810ed925",
   "metadata": {
    "tags": []
   },
   "outputs": [],
   "source": [
    "len(skeletons), len(images)"
   ]
  },
  {
   "cell_type": "code",
   "execution_count": 42,
   "id": "556ca011",
   "metadata": {
    "tags": []
   },
   "outputs": [
    {
     "ename": "AttributeError",
     "evalue": "'DeepSort' object has no attribute 'get_feature'",
     "output_type": "error",
     "traceback": [
      "\u001b[0;31m---------------------------------------------------------------------------\u001b[0m",
      "\u001b[0;31mAttributeError\u001b[0m                            Traceback (most recent call last)",
      "Cell \u001b[0;32mIn [42], line 1\u001b[0m\n\u001b[0;32m----> 1\u001b[0m \u001b[43mtracker\u001b[49m\u001b[38;5;241;43m.\u001b[39;49m\u001b[43mget_feature\u001b[49m()\n",
      "\u001b[0;31mAttributeError\u001b[0m: 'DeepSort' object has no attribute 'get_feature'"
     ]
    }
   ],
   "source": [
    "for track in tracks:\n",
    "    print(track.)"
   ]
  },
  {
   "cell_type": "code",
   "execution_count": null,
   "id": "8829c89a",
   "metadata": {},
   "outputs": [],
   "source": [
    "features = []\n",
    "for track in tracks:\n",
    "    if not track.is_confirmed():\n",
    "        continue\n",
    "    track_id = track.track_id\n",
    "    ltrb = track.to_ltrb()\n",
    "    features.append(track.features)\n",
    "    print(ltrb, track_id, track.age, track.hits, track.features)"
   ]
  },
  {
   "cell_type": "code",
   "execution_count": 49,
   "id": "1c3e9f8d",
   "metadata": {
    "tags": []
   },
   "outputs": [
    {
     "data": {
      "text/plain": [
       "array([0.00198593, 0.09976796, 0.40496138, ..., 0.02893325, 0.0692252 ,\n",
       "       0.06403359], dtype=float32)"
      ]
     },
     "execution_count": 49,
     "metadata": {},
     "output_type": "execute_result"
    }
   ],
   "source": [
    "features[1][0]"
   ]
  },
  {
   "cell_type": "code",
   "execution_count": null,
   "id": "7ddf8200",
   "metadata": {},
   "outputs": [],
   "source": [
    "new_sk[0]"
   ]
  },
  {
   "cell_type": "code",
   "execution_count": null,
   "id": "fccef486",
   "metadata": {},
   "outputs": [],
   "source": [
    "tracker.generate_embeds(frame=frame_1, raw_dets = skeletons[0])"
   ]
  },
  {
   "cell_type": "code",
   "execution_count": null,
   "id": "caf04f54",
   "metadata": {},
   "outputs": [],
   "source": [
    "# what to do now: try to get the embeddings right \n",
    "\n",
    "\n",
    "embeddings = []\n",
    "for det in range(len(skeletons)):\n",
    "    cap.set(1,det+1)\n",
    "    ret, frame = cap.read()\n",
    "    if ret==False:\n",
    "        break\n",
    "    embeddings.append(tracker.generate_embeds(frame=frame, raw_dets = skeletons[det]))\n",
    "\n",
    "    \n",
    "    "
   ]
  },
  {
   "cell_type": "code",
   "execution_count": null,
   "id": "05633e02",
   "metadata": {
    "collapsed": true,
    "jupyter": {
     "outputs_hidden": true
    },
    "tags": []
   },
   "outputs": [],
   "source": [
    "tracker.crop_bb(frame = frame_1, raw_dets = skeletons[0])"
   ]
  },
  {
   "cell_type": "code",
   "execution_count": null,
   "id": "1194f9a1",
   "metadata": {
    "tags": []
   },
   "outputs": [],
   "source": [
    "skeletons[0]"
   ]
  },
  {
   "cell_type": "code",
   "execution_count": null,
   "id": "9f3f9811",
   "metadata": {},
   "outputs": [],
   "source": [
    "len(embeddings), len(skeletons)"
   ]
  },
  {
   "cell_type": "code",
   "execution_count": null,
   "id": "674448b8",
   "metadata": {},
   "outputs": [],
   "source": [
    "len(embeddings[100][0]), len(embeddings[300][1])"
   ]
  },
  {
   "cell_type": "code",
   "execution_count": null,
   "id": "0a143229",
   "metadata": {},
   "outputs": [],
   "source": [
    "skeletons[1]"
   ]
  },
  {
   "cell_type": "code",
   "execution_count": null,
   "id": "1e9837ba",
   "metadata": {},
   "outputs": [],
   "source": [
    "bbs = tracker.crop_bb(frame_2, skeletons[1])"
   ]
  },
  {
   "cell_type": "code",
   "execution_count": null,
   "id": "8508e366",
   "metadata": {},
   "outputs": [],
   "source": [
    "plt.imshow(bbs[1])"
   ]
  },
  {
   "cell_type": "code",
   "execution_count": null,
   "id": "e03db96b",
   "metadata": {},
   "outputs": [],
   "source": [
    "cap.set(1,5000)\n",
    "ret, frame5000 = cap.read()"
   ]
  },
  {
   "cell_type": "code",
   "execution_count": null,
   "id": "d88806b2",
   "metadata": {},
   "outputs": [],
   "source": [
    "plt.imshow(frame_1)"
   ]
  },
  {
   "cell_type": "code",
   "execution_count": null,
   "id": "12794cda",
   "metadata": {},
   "outputs": [],
   "source": [
    "skeletons[1]"
   ]
  },
  {
   "cell_type": "code",
   "execution_count": null,
   "id": "320f8e19",
   "metadata": {},
   "outputs": [],
   "source": [
    "raw_dets = skeletons[1]\n",
    "frame = frame_2\n",
    "crops = []\n",
    "im_height, im_width = frame.shape[:2]\n",
    "for detection in raw_dets:\n",
    "    l, t, w, h = [int(x) for x in detection[0]]\n",
    "    r = l + w\n",
    "    b = t + h\n",
    "    crop_l = max(0, l)\n",
    "    crop_r = min(im_width, r)\n",
    "    crop_t = max(0, t)\n",
    "    crop_b = min(im_height, b)\n",
    "    crops.append(frame[crop_t:crop_b, crop_l:crop_r])"
   ]
  },
  {
   "cell_type": "code",
   "execution_count": null,
   "id": "a4fe794e",
   "metadata": {},
   "outputs": [],
   "source": [
    "for detection in raw_dets:\n",
    "    l, t, w, h = [int(x) for x in detection[0]]\n",
    "    print(l+w)\n",
    "    print(min(im_width, l+w))\n",
    "    "
   ]
  },
  {
   "cell_type": "code",
   "execution_count": null,
   "id": "9212663a",
   "metadata": {
    "jupyter": {
     "source_hidden": true
    },
    "tags": []
   },
   "outputs": [],
   "source": [
    "max(0,384)"
   ]
  },
  {
   "cell_type": "code",
   "execution_count": null,
   "id": "83b3fb22",
   "metadata": {},
   "outputs": [],
   "source": [
    "im_width"
   ]
  }
 ],
 "metadata": {
  "kernelspec": {
   "display_name": "Python 3 (ipykernel)",
   "language": "python",
   "name": "python3"
  },
  "language_info": {
   "codemirror_mode": {
    "name": "ipython",
    "version": 3
   },
   "file_extension": ".py",
   "mimetype": "text/x-python",
   "name": "python",
   "nbconvert_exporter": "python",
   "pygments_lexer": "ipython3",
   "version": "3.10.6"
  }
 },
 "nbformat": 4,
 "nbformat_minor": 5
}
