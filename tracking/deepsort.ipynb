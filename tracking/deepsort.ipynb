{
 "cells": [
  {
   "cell_type": "code",
   "execution_count": null,
   "id": "0d0b5e3e-f5db-4883-9a93-31290d0697ba",
   "metadata": {},
   "outputs": [],
   "source": [
    "import pandas as pd\n",
    "import numpy as np\n",
    "import cv2\n",
    "import os\n",
    "from deep_sort_realtime.deepsort_tracker import DeepSort\n",
    "from sorted_alpha import sorted_alpha\n",
    "import matplotlib.pyplot as plt"
   ]
  },
  {
   "cell_type": "code",
   "execution_count": null,
   "id": "d1c2924d-19b2-4520-a6af-2d3aa08f4153",
   "metadata": {},
   "outputs": [],
   "source": [
    "tracker = DeepSort(max_age=1000, override_track_class=None, embedder_gpu=False)\n"
   ]
  },
  {
   "cell_type": "code",
   "execution_count": null,
   "id": "364f3206-c620-437d-933f-588ee8daf8dd",
   "metadata": {},
   "outputs": [],
   "source": [
    "def find_min_round(array):\n",
    "    array = np.array(array)#remove the arms from the equation cause the bounding boxes are too large \n",
    "    x = round(np.min(array[np.nonzero(array)]))\n",
    "    return(x)\n",
    "\n",
    "def find_max_round(array):\n",
    "    array = np.array(array)\n",
    "    x = round(np.max(array))\n",
    "    return(x)"
   ]
  },
  {
   "cell_type": "code",
   "execution_count": null,
   "id": "38eeb5cc-338f-44e4-a5a8-016aaf647936",
   "metadata": {},
   "outputs": [],
   "source": [
    "detection = Detection()"
   ]
  },
  {
   "cell_type": "code",
   "execution_count": null,
   "id": "4fcac159-b495-48c5-a671-c3efe75e1764",
   "metadata": {},
   "outputs": [],
   "source": [
    "pose = '/Users/andrei-macpro/Documents/Data/pose/play_openpose/1047_play'\n",
    "detections = sorted_alpha(pose)"
   ]
  },
  {
   "cell_type": "code",
   "execution_count": null,
   "id": "89e14d37-1239-494e-b899-617d2e0850b2",
   "metadata": {},
   "outputs": [],
   "source": [
    "skeletons = []\n",
    "for det in detections: \n",
    "    temp_list = []\n",
    "    df = pd.read_csv(os.path.join(pose,det))\n",
    "    columns = df.columns[1:]\n",
    "    probs = [df.iloc[:,column+1].mean() for column in range(2, len(columns), 3)]\n",
    "    detections_x = [df.iloc[:,column+1].min() for column in range(0, len(columns), 3)]                                   \n",
    "    detections_y  = [df.iloc[:,column+1].min() for column in range(1, len(columns), 3)]\n",
    "    width = [df.iloc[:,column+1].max() for column in range(0, len(columns), 3)]\n",
    "    height = [df.iloc[:,column+1].max() for column in range(1, len(columns), 3)]\n",
    "    k=1\n",
    "    for x,y,w,h,p in zip(detections_x, detections_y, width, height, probs):\n",
    "        temp_list.append(([x,y,w-x,h-y], round(p, 2), 'person '+str(k)))\n",
    "        k+=1\n",
    "    skeletons.append(temp_list)\n",
    "             "
   ]
  },
  {
   "cell_type": "code",
   "execution_count": null,
   "id": "81ebfc8a-6334-4a2b-8624-f672f12f995f",
   "metadata": {},
   "outputs": [],
   "source": [
    "skeletons[100]\n"
   ]
  },
  {
   "cell_type": "code",
   "execution_count": null,
   "id": "1e8ddde6-ffa8-4205-92b1-377f551183fd",
   "metadata": {},
   "outputs": [],
   "source": [
    "a = [5, 7, 11, 4, 5]\n",
    "\n",
    "for previous, current in zip(a, a[1:]):\n",
    "    print([previous, current])"
   ]
  },
  {
   "cell_type": "code",
   "execution_count": null,
   "id": "b7122cbf-2b82-4bd2-afd8-338a0fa37b0c",
   "metadata": {},
   "outputs": [],
   "source": [
    "video = '/Users/andrei-macpro/Documents/Data/videos/play_videos/1047_play.mp4'\n",
    "cap = cv2.VideoCapture(video)"
   ]
  },
  {
   "cell_type": "code",
   "execution_count": null,
   "id": "3a2149cf-b0ac-499a-9b60-424f9e93f81d",
   "metadata": {},
   "outputs": [],
   "source": [
    "(np.ones((1080, 1920, 3), dtype=np.uint8) * 255).shape"
   ]
  },
  {
   "cell_type": "code",
   "execution_count": null,
   "id": "b378a998-1095-4894-a7f1-043813da2f1d",
   "metadata": {},
   "outputs": [],
   "source": [
    "tracker.delete_all_tracks()"
   ]
  },
  {
   "cell_type": "code",
   "execution_count": null,
   "id": "dd006e9b-1a34-445b-914b-058910db64af",
   "metadata": {},
   "outputs": [],
   "source": [
    "cap.set(1,1)\n",
    "ret, frame_1 = cap.read()\n",
    "cap.set(1,2)\n",
    "ret, frame_2 = cap.read()\n",
    "cap.set(1,3)\n",
    "ret, frame_3 = cap.read()"
   ]
  },
  {
   "cell_type": "code",
   "execution_count": null,
   "id": "c3156fc1-7f07-4032-9e6d-5d333db7e562",
   "metadata": {},
   "outputs": [],
   "source": [
    "tracks=[]"
   ]
  },
  {
   "cell_type": "code",
   "execution_count": null,
   "id": "1a6b343b-be15-4e5f-b220-9b9045e27060",
   "metadata": {},
   "outputs": [],
   "source": [
    "tracks = tracker.update_tracks(skeletons[0], frame=frame_1)"
   ]
  },
  {
   "cell_type": "code",
   "execution_count": null,
   "id": "6caf7d8a-0de8-4bbe-887d-269c9900eae2",
   "metadata": {},
   "outputs": [],
   "source": [
    "for track in tracks:\n",
    "        print(track.track_id)\n",
    "        print(track.to_tlwh())\n",
    "        "
   ]
  },
  {
   "cell_type": "code",
   "execution_count": null,
   "id": "28f05342-0512-46e5-9e3f-2434b6a7c10d",
   "metadata": {},
   "outputs": [],
   "source": [
    "tracker.generate_embeds(frame=frame_1, raw_dets = skeletons[0])"
   ]
  },
  {
   "cell_type": "code",
   "execution_count": null,
   "id": "c17e6f7d-fc65-4e19-a12b-bec4b509bb34",
   "metadata": {},
   "outputs": [],
   "source": [
    "embeddings = []\n",
    "for det in range(len(skeletons)):\n",
    "    cap.set(1,det+1)\n",
    "    ret, frame = cap.read()\n",
    "    if ret==False:\n",
    "        break\n",
    "    embeddings.append(tracker.generate_embeds(frame=frame, raw_dets = skeletons[det]))\n",
    "\n",
    "    \n",
    "    "
   ]
  },
  {
   "cell_type": "code",
   "execution_count": null,
   "id": "aaba26ae-a722-4c7a-8d57-f1621ed7b389",
   "metadata": {},
   "outputs": [],
   "source": [
    "embeddings[0]"
   ]
  },
  {
   "cell_type": "code",
   "execution_count": null,
   "id": "39989513-6f42-435b-8c31-409bc25b37ca",
   "metadata": {},
   "outputs": [],
   "source": [
    "len(embeddings), len(skeletons)"
   ]
  },
  {
   "cell_type": "code",
   "execution_count": null,
   "id": "13a99021-dd7b-49e0-bd3c-3a201fdc99ea",
   "metadata": {},
   "outputs": [],
   "source": [
    "len(embeddings[100][0]), len(embeddings[300][1])"
   ]
  },
  {
   "cell_type": "code",
   "execution_count": null,
   "id": "3f35b7ce-809d-4b27-a692-5426e0fbbcb6",
   "metadata": {},
   "outputs": [],
   "source": [
    "skeletons[1]"
   ]
  },
  {
   "cell_type": "code",
   "execution_count": null,
   "id": "3e031966-5da1-4610-82ed-2fd28eebe249",
   "metadata": {},
   "outputs": [],
   "source": [
    "bbs = tracker.crop_bb(frame_2, skeletons[1])"
   ]
  },
  {
   "cell_type": "code",
   "execution_count": null,
   "id": "6379dcbf-7321-419f-8db4-9a217bb7c99d",
   "metadata": {},
   "outputs": [],
   "source": [
    "plt.imshow(bbs[1])"
   ]
  },
  {
   "cell_type": "code",
   "execution_count": null,
   "id": "efa22739-6662-4d4e-815a-860e54d00539",
   "metadata": {},
   "outputs": [],
   "source": [
    "cap.set(1,5000)\n",
    "ret, frame5000 = cap.read()"
   ]
  },
  {
   "cell_type": "code",
   "execution_count": null,
   "id": "4cdd8bed-1dff-486c-86ce-ad19d272b896",
   "metadata": {},
   "outputs": [],
   "source": [
    "plt.imshow(frame_1)"
   ]
  },
  {
   "cell_type": "code",
   "execution_count": null,
   "id": "7aa395cb-265a-43ba-abb0-4f16cfb6cb81",
   "metadata": {},
   "outputs": [],
   "source": [
    "skeletons[1]"
   ]
  },
  {
   "cell_type": "code",
   "execution_count": null,
   "id": "c640e0e9-01d0-4aa1-b3ca-e5d85016b7e7",
   "metadata": {},
   "outputs": [],
   "source": [
    "raw_dets = skeletons[1]\n",
    "frame = frame_2\n",
    "crops = []\n",
    "im_height, im_width = frame.shape[:2]\n",
    "for detection in raw_dets:\n",
    "    l, t, w, h = [int(x) for x in detection[0]]\n",
    "    r = l + w\n",
    "    b = t + h\n",
    "    crop_l = max(0, l)\n",
    "    crop_r = min(im_width, r)\n",
    "    crop_t = max(0, t)\n",
    "    crop_b = min(im_height, b)\n",
    "    crops.append(frame[crop_t:crop_b, crop_l:crop_r])"
   ]
  },
  {
   "cell_type": "code",
   "execution_count": null,
   "id": "0d210f8c-44a5-4789-8fd8-bd57dd9e801c",
   "metadata": {},
   "outputs": [],
   "source": [
    "for detection in raw_dets:\n",
    "    l, t, w, h = [int(x) for x in detection[0]]\n",
    "    print(l+w)\n",
    "    print(min(im_width, l+w))\n",
    "    "
   ]
  },
  {
   "cell_type": "code",
   "execution_count": null,
   "id": "3b4ab215-4467-4f8d-aa3e-f48c61fd291c",
   "metadata": {},
   "outputs": [],
   "source": [
    "max(0,384)"
   ]
  },
  {
   "cell_type": "code",
   "execution_count": null,
   "id": "2a0939da-b3a1-4f5b-bb46-987c67418ebb",
   "metadata": {},
   "outputs": [],
   "source": [
    "im_width"
   ]
  }
 ],
 "metadata": {
  "kernelspec": {
   "display_name": "Python 3 (ipykernel)",
   "language": "python",
   "name": "python3"
  },
  "language_info": {
   "codemirror_mode": {
    "name": "ipython",
    "version": 3
   },
   "file_extension": ".py",
   "mimetype": "text/x-python",
   "name": "python",
   "nbconvert_exporter": "python",
   "pygments_lexer": "ipython3",
   "version": "3.7.6"
  }
 },
 "nbformat": 4,
 "nbformat_minor": 5
}
