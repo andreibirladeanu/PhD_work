{
 "cells": [
  {
   "cell_type": "code",
   "execution_count": null,
   "metadata": {},
   "outputs": [],
   "source": [
    "import os\n",
    "import sys\n",
    "import pandas as pd\n",
    "import matplotlib.pyplot as plt \n",
    "import numpy as np\n",
    "from sklearn.model_selection import train_test_split\n",
    "from sklearn.preprocessing import StandardScaler\n",
    "from sklearn.pipeline import Pipeline\n",
    "from sklearn.ensemble import RandomForestClassifier\n",
    "from sklearn.metrics import accuracy_score\n",
    "from sklearn.model_selection import KFold\n",
    "from sklearn.model_selection import StratifiedKFold \n",
    "from sklearn.model_selection import LeaveOneGroupOut\n",
    "from sklearn.model_selection import GridSearchCV, KFold\n",
    "from sklearn.linear_model import LogisticRegression\n",
    "from sklearn.preprocessing import StandardScaler\n",
    "from sklearn.pipeline import Pipeline\n",
    "from sklearn.utils import shuffle\n",
    "from sklearn.model_selection import cross_val_score\n",
    "from sklearn.model_selection import GridSearchCV, GroupKFold\n",
    "from sklearn.linear_model import LogisticRegression\n",
    "from sklearn.svm import SVC\n",
    "from sklearn.ensemble import RandomForestClassifier\n",
    "from sklearn.preprocessing import StandardScaler\n",
    "from sklearn.pipeline import Pipeline\n",
    "from sklearn.feature_selection import SelectKBest, f_classif\n",
    "from sklearn.utils import shuffle\n",
    "from sklearn.model_selection import cross_val_score\n"
   ]
  },
  {
   "cell_type": "code",
   "execution_count": null,
   "metadata": {},
   "outputs": [],
   "source": [
    "df_meal = pd.read_csv('/Users/andrei-macpro/Documents/Data/tracking/features/meal/combined_features.csv', index_col=0)\n",
    "df_meal = df_meal.drop(columns=['Age', 'DAI', 'Rinab', 'IQ_T2', 'duration_meal', 'duration_play','Gender'])\n",
    "\n",
    "df_play = pd.read_csv('/Users/andrei-macpro/Documents/Data/tracking/features/play/combined_features.csv', index_col=0)\n",
    "df_play = df_play.drop(columns=['Age', 'DAI', 'Rinab', 'IQ_T2', 'duration_meal', 'duration_play','Gender'])"
   ]
  },
  {
   "cell_type": "code",
   "execution_count": null,
   "metadata": {},
   "outputs": [],
   "source": [
    "df_meal"
   ]
  },
  {
   "cell_type": "code",
   "execution_count": null,
   "metadata": {},
   "outputs": [],
   "source": [
    "# Map 'no_rad' to 0 and 'rad' to 1\n",
    "df_meal['label'] = df_meal['label'].map({'no_rad': 0, 'rad': 1})\n",
    "df_play['label'] = df_play['label'].map({'no_rad': 0, 'rad': 1})\n",
    "\n"
   ]
  },
  {
   "cell_type": "code",
   "execution_count": null,
   "metadata": {},
   "outputs": [],
   "source": [
    "import pandas as pd\n",
    "\n",
    "# Reset the index\n",
    "df_meal = df_meal.reset_index()\n",
    "\n",
    "# Create the 'group' column and group by it\n",
    "df_meal['group'] = df_meal['s_id'].str.split('_').str[0]\n",
    "df_grouped_meal = df_meal.groupby('group').mean()\n",
    "\n",
    "# Set the index back to 's_id'\n",
    "# change index name to s_id\n",
    "df_grouped_meal.index.name = 's_id'"
   ]
  },
  {
   "cell_type": "code",
   "execution_count": null,
   "metadata": {},
   "outputs": [],
   "source": [
    "# Reset the index\n",
    "df_play = df_meal.reset_index()\n",
    "\n",
    "# Create the 'group' column and group by it\n",
    "df_play['group'] = df_play['s_id'].str.split('_').str[0]\n",
    "df_grouped_play = df_play.groupby('group').mean()\n",
    "\n",
    "# Set the index back to 's_id'\n",
    "# change index name to s_id\n",
    "df_grouped_play.index.name = 's_id'"
   ]
  },
  {
   "cell_type": "code",
   "execution_count": null,
   "metadata": {},
   "outputs": [],
   "source": [
    "# Reset the index of the grouped dataframes\n",
    "df_grouped_meal = df_grouped_meal.reset_index()\n",
    "df_grouped_play = df_grouped_play.reset_index()\n",
    "\n",
    "# Add a new 'group' column to each DataFrame\n",
    "df_grouped_meal['group'] = 'meal'\n",
    "df_grouped_play['group'] = 'play'\n",
    "\n",
    "# Concatenate the DataFrames\n",
    "final_df = pd.concat([df_grouped_meal, df_grouped_play], axis=0)\n",
    "\n",
    "final_df"
   ]
  },
  {
   "cell_type": "code",
   "execution_count": null,
   "metadata": {},
   "outputs": [],
   "source": [
    "#drop last column from final_df\n",
    "final_df = final_df.drop(columns=['index'])"
   ]
  },
  {
   "cell_type": "code",
   "execution_count": null,
   "metadata": {},
   "outputs": [],
   "source": [
    "final_df.set_index('s_id', inplace=True)\n",
    "final_df\n"
   ]
  },
  {
   "cell_type": "code",
   "execution_count": null,
   "metadata": {},
   "outputs": [],
   "source": [
    "final_df = final_df.drop(columns=['level_0'])"
   ]
  },
  {
   "cell_type": "code",
   "execution_count": null,
   "metadata": {},
   "outputs": [],
   "source": [
    "# Map 'no_rad' to 0 and 'rad' to 1\n",
    "final_df['label'] = final_df['label'].map({0: 'no_rad', 1: 'rad'})"
   ]
  },
  {
   "cell_type": "code",
   "execution_count": null,
   "metadata": {},
   "outputs": [],
   "source": [
    "final_df"
   ]
  },
  {
   "cell_type": "code",
   "execution_count": null,
   "metadata": {},
   "outputs": [],
   "source": [
    "\n",
    "\n",
    "# Perform a grid search for each classifier\n",
    "X = final_df.drop(['label','group'], axis=1)\n",
    "y = final_df['label']\n",
    "groups = final_df['group']\n",
    "\n",
    "# Create a GroupKFold object\n",
    "gkf = KFold(n_splits=5)\n",
    "\n",
    "# Define the classifiers and their parameters\n",
    "classifiers = [\n",
    "('lr', LogisticRegression(), {'lr__C': [0.01, 0.1, 1, 10, 100], 'lr__penalty': ['l1', 'l2'], 'lr__solver': ['liblinear', 'saga']}),\n",
    "    ('svc_linear', SVC(kernel='linear'), {'svc_linear__C': [0.01, 0.1, 1, 10, 100]}),\n",
    "    ('svc_rbf', SVC(kernel='rbf'), {'svc_rbf__C': [0.01, 0.1, 1, 10, 100], 'svc_rbf__gamma': [0.01, 0.1, 1, 10, 100]}),\n",
    "    ('rf', RandomForestClassifier(), {'rf__n_estimators': [10, 50, 100, 200], 'rf__max_depth': [None, 5, 10, 15], 'rf__min_samples_split': [2, 5, 10]})\n",
    "]\n",
    "\n",
    "\n",
    "import pandas as pd\n",
    "\n",
    "# Initialize a list to store the results\n",
    "results = []\n",
    "\n",
    "# Perform the grid search 10 times with different random states\n",
    "for i in range(10):\n",
    "    # Shuffle the data with a different random state each time\n",
    "    X_shuffled, y_shuffled, groups_shuffled = shuffle(X, y, groups, random_state=i)\n",
    "\n",
    "    # Perform a grid search for each classifier\n",
    "    for name, classifier, params in classifiers:\n",
    "        pipeline = Pipeline([('scaler', StandardScaler()), (name, classifier)])\n",
    "        grid_search = GridSearchCV(pipeline, params, cv=gkf)\n",
    "        grid_search.fit(X_shuffled, y_shuffled, groups=groups_shuffled)\n",
    "\n",
    "        # Calculate the cross-validated F1 score, precision, and recall\n",
    "        f1_scores = cross_val_score(grid_search.best_estimator_, X_shuffled, y_shuffled, cv=gkf, scoring='f1_macro', groups=groups_shuffled)\n",
    "        precision_scores = cross_val_score(grid_search.best_estimator_, X_shuffled, y_shuffled, cv=gkf, scoring='precision_macro', groups=groups_shuffled)\n",
    "        recall_scores = cross_val_score(grid_search.best_estimator_, X_shuffled, y_shuffled, cv=gkf, scoring='recall_macro', groups=groups_shuffled)\n",
    "\n",
    "        # Store the results in a dictionary and add it to the list\n",
    "        results.append({\n",
    "            'random_state': i,\n",
    "            'classifier': name,\n",
    "            'best_params': grid_search.best_params_,\n",
    "            'best_score': grid_search.best_score_,\n",
    "            'f1_score': f1_scores.mean(),\n",
    "            'precision': precision_scores.mean(),\n",
    "            'recall': recall_scores.mean()\n",
    "        })\n",
    "\n",
    "# Convert the results to a DataFrame\n",
    "results_df = pd.DataFrame(results)"
   ]
  },
  {
   "cell_type": "code",
   "execution_count": null,
   "metadata": {},
   "outputs": [],
   "source": [
    "results_df.groupby('classifier').mean()"
   ]
  },
  {
   "cell_type": "code",
   "execution_count": null,
   "metadata": {},
   "outputs": [],
   "source": [
    "from sklearn.model_selection import train_test_split\n",
    "from sklearn.linear_model import LogisticRegression\n",
    "from sklearn.feature_selection import SelectFromModel\n",
    "X = final_df.drop(['label','group'], axis=1)\n",
    "y = final_df['label']\n",
    "groups = final_df['group']\n",
    "\n",
    "\n",
    "# Split the data into training and test sets\n",
    "X_train, X_test, y_train, y_test = train_test_split(X, y, test_size=0.2, random_state=42)\n",
    "\n",
    "# Initialize the model\n",
    "model = LogisticRegression()\n",
    "\n",
    "# Initialize the selector\n",
    "# Fit the model\n",
    "model.fit(X_train, y_train)\n",
    "\n",
    "# Get the coefficients of the model\n",
    "coefficients = model.coef_[0]\n",
    "\n",
    "# Get the absolute values of the coefficients\n",
    "abs_coefficients = abs(coefficients)\n",
    "\n",
    "# Create a DataFrame with the feature names and coefficients\n",
    "feature_importances = pd.DataFrame({'feature': X.columns, 'importance': abs_coefficients})\n",
    "\n",
    "# Sort the DataFrame by the coefficients in descending order\n",
    "feature_importances = feature_importances.sort_values('importance', ascending=False)\n",
    "\n",
    "# Print the features in order of their importance\n",
    "print(feature_importances)"
   ]
  },
  {
   "cell_type": "code",
   "execution_count": null,
   "metadata": {},
   "outputs": [],
   "source": [
    "# Fit the model\n",
    "model.fit(X_train, y_train)\n",
    "\n",
    "# Get the coefficients of the model\n",
    "coefficients = model.coef_[0]\n",
    "\n",
    "# Create a DataFrame with the feature names and coefficients\n",
    "feature_importances = pd.DataFrame({'feature': X.columns, 'coefficient': coefficients})\n",
    "\n",
    "# Calculate the absolute values of the coefficients for the importance\n",
    "feature_importances['importance'] = abs(feature_importances['coefficient'])\n",
    "\n",
    "# Sort the DataFrame by the importance in descending order\n",
    "feature_importances = feature_importances.sort_values('importance', ascending=False)\n",
    "\n",
    "# Print the features in order of their importance, including the sign of the coefficients\n",
    "print(feature_importances)"
   ]
  },
  {
   "cell_type": "code",
   "execution_count": null,
   "metadata": {},
   "outputs": [],
   "source": [
    "import numpy as np\n",
    "\n",
    "# Get the sign of the coefficients\n",
    "feature_importances['coefficient'] = np.sign(feature_importances['coefficient'])\n",
    "\n",
    "# Replace positive and negative values with '+' and '-'\n",
    "feature_importances['coefficient'] = feature_importances['coefficient'].map({1: '+', -1: '-'})"
   ]
  },
  {
   "cell_type": "code",
   "execution_count": null,
   "metadata": {},
   "outputs": [],
   "source": [
    "import matplotlib.pyplot as plt\n",
    "\n",
    "# Assume that 'feature_importances' is a DataFrame where the first column is the feature names\n",
    "# and the second column is the feature importances\n",
    "\n",
    "# Get only the features with negative coefficients\n",
    "negative_features = feature_importances[feature_importances.iloc[:, 1] < 0]\n",
    "\n",
    "# Sort the DataFrame by the absolute values of the feature importances in descending order\n",
    "sorted_features = negative_features.sort_values(by=negative_features.columns[1], key=abs, ascending=False)\n",
    "\n",
    "# Get the 10 most important feature names and absolute importances\n",
    "important_feature_names = sorted_features.iloc[:10, 0]\n",
    "important_feature_importances = sorted_features.iloc[:10, 1].abs()\n",
    "\n",
    "# Plot the feature importances\n",
    "plt.figure(figsize=(20, 10))  # Increase the figure size to make the labels more readable\n",
    "plt.title(\"Feature importances no_rad\")\n",
    "plt.bar(important_feature_names, important_feature_importances, color=\"b\", align=\"center\")\n",
    "plt.xticks(rotation=45, fontsize = 14)  # Rotate the x-axis labels to make them more readable\n",
    "plt.show()"
   ]
  },
  {
   "cell_type": "code",
   "execution_count": null,
   "metadata": {},
   "outputs": [],
   "source": [
    "import matplotlib.pyplot as plt\n",
    "\n",
    "# Assume that 'feature_importances' is a DataFrame where the first column is the feature names\n",
    "# and the second column is the feature importances\n",
    "\n",
    "# Get only the features with positive coefficients\n",
    "positive_features = feature_importances[feature_importances.iloc[:, 1] > 0]\n",
    "\n",
    "# Sort the DataFrame by the feature importances in descending order\n",
    "sorted_features = positive_features.sort_values(by=positive_features.columns[1], ascending=False)\n",
    "\n",
    "# Get the 10 most important feature names and importances\n",
    "important_feature_names = sorted_features.iloc[:10, 0]\n",
    "important_feature_importances = sorted_features.iloc[:10, 1]\n",
    "\n",
    "# Plot the feature importances\n",
    "plt.figure(figsize=(20, 10))  # Increase the figure size to make the labels more readable\n",
    "plt.title(\"Feature importances rad\")\n",
    "plt.bar(important_feature_names, important_feature_importances, color=\"b\", align=\"center\")\n",
    "plt.xticks(rotation=45, fontsize=14)  # Rotate the x-axis labels to make them more readable\n",
    "plt.show()"
   ]
  },
  {
   "cell_type": "code",
   "execution_count": null,
   "metadata": {},
   "outputs": [],
   "source": [
    "feature_importances.to_csv('/Users/andrei-macpro/Documents/Data/tracking/features/combined_feature_importance.csv')"
   ]
  },
  {
   "cell_type": "code",
   "execution_count": null,
   "metadata": {},
   "outputs": [],
   "source": [
    "# Get the 15 most important features\n",
    "top_15_features = feature_importances.sort_values('importance', ascending=False).head(15)\n",
    "\n",
    "print(top_15_features)"
   ]
  },
  {
   "cell_type": "code",
   "execution_count": null,
   "metadata": {},
   "outputs": [],
   "source": [
    "import matplotlib.pyplot as plt\n",
    "# Assuming 'label' is your target variable\n",
    "class_counts = final_df['label'].value_counts()\n",
    "\n",
    "print(class_counts)\n",
    "\n",
    "class_counts.plot(kind='bar')\n",
    "plt.xlabel('Class')\n",
    "plt.ylabel('Count')\n",
    "plt.title('Class Distribution')\n",
    "plt.show()"
   ]
  },
  {
   "cell_type": "code",
   "execution_count": null,
   "metadata": {},
   "outputs": [],
   "source": [
    "from sklearn.preprocessing import StandardScaler\n",
    "from sklearn.pipeline import Pipeline\n",
    "\n",
    "\n",
    "#import dummy classifier\n",
    "from sklearn.dummy import DummyClassifier\n",
    "# import random state\n",
    "from numpy.random import RandomState\n",
    "# Create a dummy classifier\n",
    "# import make scorer\n",
    "from sklearn.metrics import make_scorer\n",
    "#import precision score\n",
    "from sklearn.metrics import precision_score\n",
    "#import recall score    \n",
    "from sklearn.metrics import recall_score\n",
    "#import f1 score\n",
    "from sklearn.metrics import f1_score\n",
    "# import cross validate\n",
    "from sklearn.model_selection import cross_validate\n",
    "\n",
    "dummy = DummyClassifier(strategy='most_frequent')\n",
    "\n",
    "# Create an SVC classifier with specific parameters\n",
    "svc_rbf = SVC(kernel='rbf', C=1, gamma=0.1)\n",
    "\n",
    "# Initialize a RandomState\n",
    "rs = RandomState(123)\n",
    "\n",
    "# Initialize a GroupKFold\n",
    "gkf = KFold(n_splits=5)\n",
    "\n",
    "# Define scoring metrics\n",
    "scoring = {'accuracy': make_scorer(accuracy_score),\n",
    "           'precision': make_scorer(precision_score, average='macro'),\n",
    "           'recall': make_scorer(recall_score, average='macro'),\n",
    "           'f1': make_scorer(f1_score, average='macro')}\n",
    "\n",
    "# Create pipelines\n",
    "pipeline_dummy = Pipeline([('scaler', StandardScaler()), ('dummy', dummy)])\n",
    "pipeline_svc = Pipeline([('scaler', StandardScaler()), ('svc', svc_rbf)])\n",
    "\n",
    "# Perform 10 random shuffles\n",
    "for i in range(10):\n",
    "    X_shuffled, y_shuffled, groups_shuffled = shuffle(X, y, groups, random_state=rs)\n",
    "\n",
    "    # Calculate the cross-validated scores of the dummy classifier\n",
    "    scores_dummy = cross_validate(pipeline_dummy, X_shuffled, y_shuffled, groups=groups_shuffled, cv=gkf, scoring=scoring)\n",
    "\n",
    "    print(f'Cross-validated scores of dummy classifier for shuffle {i+1}:')\n",
    "    for metric, scores in scores_dummy.items():\n",
    "        print(f'{metric}: {scores.mean()}')\n",
    "\n",
    "    # Calculate the cross-validated scores of the SVC classifier\n",
    "    scores_svc = cross_validate(pipeline_svc, X_shuffled, y_shuffled, groups=groups_shuffled, cv=gkf, scoring=scoring)\n",
    "\n",
    "    print(f'Cross-validated scores of SVC classifier for shuffle {i+1}:')\n",
    "    for metric, scores in scores_svc.items():\n",
    "        print(f'{metric}: {scores.mean()}')"
   ]
  },
  {
   "cell_type": "code",
   "execution_count": null,
   "metadata": {},
   "outputs": [],
   "source": [
    "final_df.describe()"
   ]
  },
  {
   "cell_type": "code",
   "execution_count": null,
   "metadata": {},
   "outputs": [],
   "source": [
    "import matplotlib.pyplot as plt\n",
    "final_df.hist(bins=30, figsize=(20,15))\n",
    "plt.show()"
   ]
  },
  {
   "cell_type": "code",
   "execution_count": null,
   "metadata": {},
   "outputs": [],
   "source": [
    "sns.pairplot(final_df)\n",
    "plt.show()"
   ]
  }
 ],
 "metadata": {
  "kernelspec": {
   "display_name": "deepsort",
   "language": "python",
   "name": "python3"
  },
  "language_info": {
   "codemirror_mode": {
    "name": "ipython",
    "version": 3
   },
   "file_extension": ".py",
   "mimetype": "text/x-python",
   "name": "python",
   "nbconvert_exporter": "python",
   "pygments_lexer": "ipython3",
   "version": "3.10.6"
  }
 },
 "nbformat": 4,
 "nbformat_minor": 2
}
