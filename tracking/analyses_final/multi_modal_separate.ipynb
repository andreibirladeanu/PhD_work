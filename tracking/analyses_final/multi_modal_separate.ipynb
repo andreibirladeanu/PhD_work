{
 "cells": [
  {
   "cell_type": "code",
   "execution_count": null,
   "metadata": {},
   "outputs": [],
   "source": [
    "import os\n",
    "import sys\n",
    "import pandas as pd\n",
    "import matplotlib.pyplot as plt \n",
    "import numpy as np\n",
    "from sklearn.model_selection import train_test_split\n",
    "from sklearn.preprocessing import StandardScaler\n",
    "from sklearn.pipeline import Pipeline\n",
    "from sklearn.ensemble import RandomForestClassifier\n",
    "from sklearn.metrics import accuracy_score\n",
    "from sklearn.model_selection import KFold\n",
    "from sklearn.model_selection import StratifiedKFold \n",
    "from sklearn.model_selection import LeaveOneGroupOut\n",
    "from sklearn.model_selection import GridSearchCV, KFold\n",
    "from sklearn.linear_model import LogisticRegression\n",
    "from sklearn.preprocessing import StandardScaler\n",
    "from sklearn.pipeline import Pipeline\n",
    "from sklearn.utils import shuffle\n",
    "from sklearn.model_selection import cross_val_score\n",
    "from sklearn.model_selection import GridSearchCV, GroupKFold\n",
    "from sklearn.linear_model import LogisticRegression\n",
    "from sklearn.svm import SVC\n",
    "from sklearn.ensemble import RandomForestClassifier\n",
    "from sklearn.preprocessing import StandardScaler\n",
    "from sklearn.pipeline import Pipeline\n",
    "from sklearn.feature_selection import SelectKBest, f_classif\n",
    "from sklearn.utils import shuffle\n",
    "from sklearn.model_selection import cross_val_score\n",
    "# import dummy classifier\n",
    "from sklearn.dummy import DummyClassifier\n",
    "from sklearn.ensemble import GradientBoostingClassifier, AdaBoostClassifier, ExtraTreesClassifier\n",
    "from sklearn.neighbors import KNeighborsClassifier\n",
    "from xgboost import XGBClassifier\n",
    "from sklearn.neural_network import MLPClassifier\n",
    "from sklearn.decomposition import PCA\n",
    "from sklearn.base import BaseEstimator, TransformerMixin\n",
    "from sklearn.compose import ColumnTransformer\n"
   ]
  },
  {
   "cell_type": "code",
   "execution_count": null,
   "metadata": {},
   "outputs": [],
   "source": [
    "df_meal = pd.read_csv('/Users/andrei-macpro/Documents/Data/tracking/features/meal/combined_features.csv', index_col=0)\n",
    "df_meal = df_meal.drop(columns=['Age', 'DAI', 'Rinab', 'IQ_T2', 'duration_meal', 'duration_play','Gender'])\n",
    "\n",
    "df_play = pd.read_csv('/Users/andrei-macpro/Documents/Data/tracking/features/play/combined_features.csv', index_col=0)\n",
    "df_play = df_play.drop(columns=['Age', 'DAI', 'Rinab', 'IQ_T2', 'duration_meal', 'duration_play','Gender'])"
   ]
  },
  {
   "cell_type": "code",
   "execution_count": null,
   "metadata": {},
   "outputs": [],
   "source": [
    "# Map 'no_rad' to 0 and 'rad' to 1\n",
    "df_meal['label'] = df_meal['label'].map({'no_rad': 0, 'rad': 1})\n",
    "df_play['label'] = df_play['label'].map({'no_rad': 0, 'rad': 1})\n",
    "\n"
   ]
  },
  {
   "cell_type": "code",
   "execution_count": null,
   "metadata": {},
   "outputs": [],
   "source": [
    "df_meal"
   ]
  },
  {
   "cell_type": "code",
   "execution_count": null,
   "metadata": {},
   "outputs": [],
   "source": [
    "# Reset the index\n",
    "df_meal = df_meal.reset_index()\n",
    "\n",
    "# Create the 'group' column and group by it\n",
    "df_meal['group'] = df_meal['s_id'].str.split('_').str[0].astype(int)\n",
    "df_grouped_meal = df_meal.drop(columns=['s_id']).groupby('group').mean()\n",
    "\n",
    "# Set the index back to 's_id'\n",
    "# change index name to s_id\n",
    "#df_grouped_meal['s_id'] = df_meal.groupby('group')['s_id'].first()\n",
    "df_grouped_meal.index.name = 's_id'\n",
    "\n",
    "# Reset the index\n",
    "df_play = df_play.reset_index()\n",
    "\n",
    "# Create the 'group' column and group by it\n",
    "df_play['group'] = df_play['s_id'].str.split('_').str[0].astype(int)\n",
    "df_grouped_play = df_play.drop(columns=['s_id']).groupby('group').mean()\n",
    "\n",
    "# Set the index back to 's_id'\n",
    "# change index name to s_id\n",
    "df_grouped_meal.index.name = 's_id'\n",
    "df_grouped_play.index.name = 's_id'\n",
    "\n",
    "\n",
    "# Reset the index of the grouped dataframes\n",
    "#df_grouped_meal = df_grouped_meal.reset_index()\n",
    "#df_grouped_play = df_grouped_play.reset_index()\n",
    "\n",
    "# Add a new 'group' column to each DataFrame\n",
    "df_grouped_meal['group'] = 'meal'\n",
    "df_grouped_play['group'] = 'play'\n",
    "\n"
   ]
  },
  {
   "cell_type": "code",
   "execution_count": null,
   "metadata": {},
   "outputs": [],
   "source": [
    "len(speech_play.index)"
   ]
  },
  {
   "cell_type": "code",
   "execution_count": null,
   "metadata": {},
   "outputs": [],
   "source": [
    "df_grouped_play"
   ]
  },
  {
   "cell_type": "code",
   "execution_count": null,
   "metadata": {},
   "outputs": [],
   "source": [
    "speech = pd.read_excel('/Users/andrei-macpro/Documents/Data/classification/speech/classification.xlsx', index_col=0)"
   ]
  },
  {
   "cell_type": "code",
   "execution_count": null,
   "metadata": {},
   "outputs": [],
   "source": [
    "# set index name to s_id\n",
    "speech.index.name = 's_id'\n",
    "# remove age column from speech\n",
    "speech = speech.drop(columns=['age'])"
   ]
  },
  {
   "cell_type": "code",
   "execution_count": null,
   "metadata": {},
   "outputs": [],
   "source": [
    "# Create a boolean mask where True indicates a duplicated index\n",
    "mask = speech.index.duplicated(keep='first')\n",
    "\n",
    "# Use np.where to assign 'meal' to the first occurrence and 'play' to the second\n",
    "speech['group'] = np.where(mask, 'play', 'meal')"
   ]
  },
  {
   "cell_type": "code",
   "execution_count": null,
   "metadata": {},
   "outputs": [],
   "source": [
    "speech.set_index('group', append=True, inplace=True)"
   ]
  },
  {
   "cell_type": "code",
   "execution_count": null,
   "metadata": {},
   "outputs": [],
   "source": [
    "speech['label'] = speech['label'].map({'no_rad': 0, 'rad': 1})\n"
   ]
  },
  {
   "cell_type": "code",
   "execution_count": null,
   "metadata": {},
   "outputs": [],
   "source": [
    "# select only meal group from speech index\n",
    "speech_meal = speech.xs('meal', level='group')\n",
    "speech_play = speech.xs('play', level='group')"
   ]
  },
  {
   "cell_type": "code",
   "execution_count": null,
   "metadata": {},
   "outputs": [],
   "source": [
    "speech_meal"
   ]
  },
  {
   "cell_type": "code",
   "execution_count": null,
   "metadata": {},
   "outputs": [],
   "source": [
    "# remove label column from df_grouped_meal \n",
    "df_grouped_meal.reset_index()\n",
    "df_grouped_meal.set_index('s_id', append=True, inplace=True)\n"
   ]
  },
  {
   "cell_type": "code",
   "execution_count": null,
   "metadata": {},
   "outputs": [],
   "source": [
    "#df_grouped_meal = df_grouped_meal.reset_index(level=0, drop=True)\n",
    "meal_data = pd.concat([df_grouped_meal, speech_meal], axis=1)\n",
    "meal_data = meal_data.dropna()"
   ]
  },
  {
   "cell_type": "code",
   "execution_count": null,
   "metadata": {},
   "outputs": [],
   "source": [
    "meal_data.columns"
   ]
  },
  {
   "cell_type": "code",
   "execution_count": null,
   "metadata": {},
   "outputs": [],
   "source": [
    "meal_data = meal_data.drop(['label'], axis=1)\n",
    "meal_data"
   ]
  },
  {
   "cell_type": "code",
   "execution_count": null,
   "metadata": {},
   "outputs": [],
   "source": [
    "meal_data.columns"
   ]
  },
  {
   "cell_type": "code",
   "execution_count": null,
   "metadata": {},
   "outputs": [],
   "source": [
    "meal_data = meal_data.dropna()"
   ]
  },
  {
   "cell_type": "code",
   "execution_count": null,
   "metadata": {},
   "outputs": [],
   "source": [
    "df_grouped_play"
   ]
  },
  {
   "cell_type": "code",
   "execution_count": null,
   "metadata": {},
   "outputs": [],
   "source": [
    "play_data = pd.concat([df_grouped_play, speech_play], axis=1)\n",
    "#meal_data = meal_data.drop(columns=['index'])\n",
    "play_data = play_data.dropna()"
   ]
  },
  {
   "cell_type": "code",
   "execution_count": null,
   "metadata": {},
   "outputs": [],
   "source": [
    "play_data"
   ]
  },
  {
   "cell_type": "markdown",
   "metadata": {},
   "source": [
    "## Classification with just one movement either cg or child"
   ]
  },
  {
   "cell_type": "code",
   "execution_count": null,
   "metadata": {},
   "outputs": [],
   "source": [
    "X = df_grouped_meal[[\n",
    "       'cg_movement_mean', 'cg_movement_var', 'cg_movement_min', 'cg_movement_max']]\n",
    "y = df_grouped_meal['label']\n",
    "gkf = KFold(n_splits=5)\n",
    "\n",
    "results = []\n",
    "best_models = {}\n",
    "# Define the classifiers and their parameters\n",
    "classifiers = [\n",
    "    ('dummy', DummyClassifier(strategy='most_frequent'), {}),\n",
    "    ('lr', LogisticRegression(), {\n",
    "        'lr__C': [0.01, 0.1, 1, 10, 100],\n",
    "        'lr__penalty': ['l1', 'l2'],\n",
    "        'lr__solver': ['liblinear', 'saga']\n",
    "    }),\n",
    "    ('svc_linear', SVC(kernel='linear'), {\n",
    "        'svc_linear__C': [0.01, 0.1, 1, 10, 100]\n",
    "    }),\n",
    "    ('svc_rbf', SVC(kernel='rbf'), {\n",
    "        'svc_rbf__C': [0.01, 0.1, 1, 10, 100],\n",
    "        'svc_rbf__gamma': [0.01, 0.1, 1, 10, 100]\n",
    "    }),\n",
    "    ('rf', RandomForestClassifier(), {\n",
    "        'rf__n_estimators': [10, 50, 100, 200],\n",
    "        'rf__max_depth': [None, 5, 10, 15],\n",
    "        'rf__min_samples_split': [2, 5, 10]\n",
    "    }),\n",
    "    ('et', ExtraTreesClassifier(), {\n",
    "        'et__n_estimators': [50, 100, 200],\n",
    "        'et__max_depth': [None, 5, 10, 20],\n",
    "        'et__min_samples_split': [2, 5, 10]\n",
    "    }),\n",
    "    ('xgb', XGBClassifier(use_label_encoder=False, eval_metric='logloss'), {\n",
    "        'xgb__n_estimators': [50, 100, 200],\n",
    "        'xgb__learning_rate': [0.01, 0.1, 0.2],\n",
    "        'xgb__max_depth': [3, 5, 10]\n",
    "    }),\n",
    "    ('mlp', MLPClassifier(max_iter=500), {\n",
    "        'mlp__hidden_layer_sizes': [(3,), (6,), (3, 3)],\n",
    "        'mlp__activation': ['tanh', 'relu'],\n",
    "        'mlp__alpha': [0.0001, 0.001, 0.01], \n",
    "        'mlp__solver': ['adam', 'lbfgs']\n",
    "    })\n",
    "]\n",
    "for i in range(10):\n",
    "    # Shuffle the data with a different random state each time\n",
    "    X_shuffled, y_shuffled  = shuffle(X, y, random_state=i)\n",
    "\n",
    "    # Perform a grid search for each classifier\n",
    "    for name, classifier, params in classifiers:\n",
    "        pipeline = Pipeline([('scaler', StandardScaler()), (name, classifier)])\n",
    "        grid_search = GridSearchCV(pipeline, params, cv=gkf, n_jobs=-1)\n",
    "        grid_search.fit(X_shuffled, y_shuffled)\n",
    "\n",
    "        # Calculate the cross-validated F1 score, precision, and recall\n",
    "        f1_scores = cross_val_score(grid_search.best_estimator_, X_shuffled, y_shuffled, cv=gkf, scoring='f1_macro', n_jobs=-1)\n",
    "        precision_scores = cross_val_score(grid_search.best_estimator_, X_shuffled, y_shuffled, cv=gkf, scoring='precision_macro', n_jobs=-1)\n",
    "        recall_scores = cross_val_score(grid_search.best_estimator_, X_shuffled, y_shuffled, cv=gkf, scoring='recall_macro', n_jobs=-1)\n",
    "        \n",
    "        # Store the results in a dictionary and add it to the list\n",
    "        results.append({\n",
    "            'random_state': i,\n",
    "            'classifier': name,\n",
    "            'best_params': grid_search.best_params_,\n",
    "            'best_score': grid_search.best_score_,\n",
    "            'f1_score': f1_scores.mean(),\n",
    "            'precision': precision_scores.mean(),\n",
    "            'recall': recall_scores.mean()\n",
    "        })\n",
    "        \n",
    "        if name not in best_models or grid_search.best_score_ > best_models[name]['best_score']:\n",
    "            best_models[name] = {\n",
    "                'best_estimator': grid_search.best_estimator_,\n",
    "                'best_params': grid_search.best_params_,\n",
    "                'best_score': grid_search.best_score_\n",
    "            }\n",
    "\n",
    "# Convert the results to a DataFrame\n",
    "results_df = pd.DataFrame(results)"
   ]
  },
  {
   "cell_type": "code",
   "execution_count": null,
   "metadata": {},
   "outputs": [],
   "source": [
    "results_df.groupby('classifier').std() "
   ]
  },
  {
   "cell_type": "markdown",
   "metadata": {},
   "source": [
    "# Classification with just movement"
   ]
  },
  {
   "cell_type": "code",
   "execution_count": null,
   "metadata": {},
   "outputs": [],
   "source": [
    "len(X)"
   ]
  },
  {
   "cell_type": "code",
   "execution_count": null,
   "metadata": {},
   "outputs": [],
   "source": [
    "\n",
    "\n",
    "# Perform a grid search for each classifier\n",
    "X = df_grouped_meal[[\n",
    "       'child_movement_mean', 'child_movement_var', 'child_movement_min', 'child_movement_max',\n",
    "       'cg_movement_mean', 'cg_movement_var', 'cg_movement_min', 'cg_movement_max']]\n",
    "y = df_grouped_meal['label']\n",
    "\n",
    "\n",
    "\n",
    "# Create a GroupKFold object\n",
    "gkf = KFold(n_splits=5)\n",
    "# Define the classifiers and their parameters\n",
    "classifiers = [\n",
    "    ('dummy', DummyClassifier(strategy='most_frequent'), {}),\n",
    "    ('lr', LogisticRegression(), {\n",
    "        'pca__n_components': [2, 4],\n",
    "        'lr__C': [0.01, 0.1, 1, 10, 100],\n",
    "        'lr__penalty': ['l1', 'l2'],\n",
    "        'lr__solver': ['liblinear', 'saga']\n",
    "    }),\n",
    "    ('svc_linear', SVC(kernel='linear'), {\n",
    "        'pca__n_components': [2, 4],\n",
    "        'svc_linear__C': [0.01, 0.1, 1, 10, 100]\n",
    "    }),\n",
    "    ('svc_rbf', SVC(kernel='rbf'), {\n",
    "        'pca__n_components': [2, 4],\n",
    "        'svc_rbf__C': [0.01, 0.1, 1, 10, 100],\n",
    "        'svc_rbf__gamma': [0.01, 0.1, 1, 10, 100]\n",
    "    }),\n",
    "    ('rf', RandomForestClassifier(), {\n",
    "        'pca__n_components': [2, 4],\n",
    "        'rf__n_estimators': [10, 50, 100, 200],\n",
    "        'rf__max_depth': [None, 5, 10, 15],\n",
    "        'rf__min_samples_split': [2, 5, 10]\n",
    "    }),\n",
    "    ('et', ExtraTreesClassifier(), {\n",
    "        'pca__n_components': [2, 4],\n",
    "        'et__n_estimators': [50, 100, 200],\n",
    "        'et__max_depth': [None, 5, 10, 20],\n",
    "        'et__min_samples_split': [2, 5, 10]\n",
    "    }),\n",
    "    ('xgb', XGBClassifier(use_label_encoder=False, eval_metric='logloss'), {\n",
    "        'pca__n_components': [2, 4],\n",
    "        'xgb__n_estimators': [50, 100, 200],\n",
    "        'xgb__learning_rate': [0.01, 0.1, 0.2],\n",
    "        'xgb__max_depth': [3, 5, 10]\n",
    "    }),\n",
    "    ('mlp', MLPClassifier(max_iter=500), {\n",
    "        'pca__n_components': [2, 4],\n",
    "        'mlp__hidden_layer_sizes': [(3,), (6,), (3, 3)],\n",
    "        'mlp__activation': ['tanh', 'relu'],\n",
    "        'mlp__alpha': [0.0001, 0.001, 0.01],\n",
    "        'mlp__solver': ['adam', 'lbfgs']\n",
    "    })\n",
    "]\n",
    "    \n",
    "    \n",
    "\n",
    "import pandas as pd\n",
    "\n",
    "# Initialize a list to store the results\n",
    "results = []\n",
    "\n",
    "# Perform the grid search 10 times with different random states\n",
    "for i in range(10):\n",
    "    # Shuffle the data with a different random state each time\n",
    "    X_shuffled, y_shuffled = shuffle(X, y, random_state=i)\n",
    "\n",
    "    # Perform a grid search for each classifier\n",
    "    for name, classifier, params in classifiers:\n",
    "        pipeline = Pipeline([('scaler', StandardScaler()),\n",
    "                             ('pca', PCA()), (name, classifier)])\n",
    "        grid_search = GridSearchCV(pipeline, params, cv=gkf, n_jobs=-1)\n",
    "        grid_search.fit(X_shuffled, y_shuffled)\n",
    "\n",
    "        # Calculate the cross-validated F1 score, precision, and recall\n",
    "        f1_scores = cross_val_score(grid_search.best_estimator_, X_shuffled, y_shuffled, cv=gkf, scoring='f1_macro', n_jobs=-1)\n",
    "        precision_scores = cross_val_score(grid_search.best_estimator_, X_shuffled, y_shuffled, cv=gkf, scoring='precision_macro',  n_jobs=-1)\n",
    "        recall_scores = cross_val_score(grid_search.best_estimator_, X_shuffled, y_shuffled, cv=gkf, scoring='recall_macro',  n_jobs=-1)\n",
    "        accuracy_scores = cross_val_score(grid_search.best_estimator_, X_shuffled, y_shuffled, cv=gkf, scoring='accuracy',  n_jobs=-1)\n",
    "         # Extract the number of PCA components from the best parameters\n",
    "        best_pca_components = grid_search.best_params_.get('pca__n_components', None)\n",
    "        # Store the results in a dictionary and add it to the list\n",
    "        results.append({\n",
    "            'random_state': i,\n",
    "            'classifier': name,\n",
    "            'best_params': grid_search.best_params_,\n",
    "            'accuracy': accuracy_scores.mean(),\n",
    "            'f1_score': f1_scores.mean(),   \n",
    "            'precision': precision_scores.mean(),\n",
    "            'recall': recall_scores.mean(),\n",
    "            'pca_components': best_pca_components\n",
    "        })\n",
    "\n",
    "# Convert the results to a DataFrame\n",
    "results_df = pd.DataFrame(results)"
   ]
  },
  {
   "cell_type": "code",
   "execution_count": null,
   "metadata": {},
   "outputs": [],
   "source": [
    "results_df.groupby('classifier').std()"
   ]
  },
  {
   "cell_type": "code",
   "execution_count": null,
   "metadata": {},
   "outputs": [],
   "source": [
    " results_df.loc[results_df['f1_score'].idxmax()][2]"
   ]
  },
  {
   "cell_type": "markdown",
   "metadata": {},
   "source": [
    "# sanity check combine movement from play and meal"
   ]
  },
  {
   "cell_type": "markdown",
   "metadata": {},
   "source": [
    "## Speech child + movement child"
   ]
  },
  {
   "cell_type": "code",
   "execution_count": null,
   "metadata": {},
   "outputs": [],
   "source": [
    "\n",
    "# Custom transformer to apply PCA to a subset of features\n",
    "\n",
    "# Pipeline with PCA applied to a subset of features\n",
    "class SubsetPCA(BaseEstimator, TransformerMixin):\n",
    "    def __init__(self, subset_features, n_components):\n",
    "        self.subset_features = subset_features\n",
    "        self.n_components = n_components\n",
    "        self.pca = PCA(n_components=n_components)\n",
    "    \n",
    "    def fit(self, data, y=None):\n",
    "        # Ensure X is a DataFrame\n",
    "        data_subset = data[self.subset_features]\n",
    "        self.pca.fit(data_subset)\n",
    "        return self\n",
    "    \n",
    "    def transform(self, data):\n",
    "        # Ensure X is a DataFrame\n",
    "        data_subset = data[self.subset_features]\n",
    "        data_pca = self.pca.transform(data_subset)\n",
    "        data_remaining = data.drop(columns=self.subset_features)\n",
    "        data_pca_df = pd.DataFrame(data_pca, index=data_remaining.index)\n",
    "        return pd.concat([data_remaining, data_pca_df], axis=1)\n",
    "    \n",
    "X = play_data[['Proportion speech child',\n",
    "       'cg_movement_mean', 'cg_movement_var', 'cg_movement_min', 'cg_movement_max',\n",
    "       'child_movement_mean', 'child_movement_var', 'child_movement_min', 'child_movement_max']]\n",
    "\n",
    "subset_pca = ['cg_movement_mean', 'cg_movement_var', 'cg_movement_min', 'cg_movement_max', \n",
    "            'child_movement_mean', 'child_movement_var', 'child_movement_min', 'child_movement_max']\n",
    "\n",
    "\n",
    "y = play_data['label'].iloc[:, 0]   \n",
    "\n",
    "\n",
    "remaining_features = [feat for feat in X.columns if feat not in subset_pca]\n",
    "\n",
    "# Create a ColumnTransformer\n",
    "preprocessor = ColumnTransformer(transformers=[\n",
    "    ('pca_pipeline', SubsetPCA(subset_features=subset_pca, n_components=4), subset_pca),\n",
    "    ('remaining', StandardScaler(), remaining_features)\n",
    "])\n",
    "\n",
    "# Create a GroupKFold object\n",
    "gkf = KFold(n_splits=5, shuffle=False)\n",
    "\n",
    "# Define the classifiers and their parameters\n",
    "classifiers = [\n",
    "    ('dummy', DummyClassifier(strategy='most_frequent'), {}),\n",
    "    ('lr', LogisticRegression(), {\n",
    "        'preprocessor__pca_pipeline__n_components': [2, 4],\n",
    "        'lr__C': [0.01, 0.1, 1, 10, 100],\n",
    "        'lr__penalty': ['l1', 'l2'],\n",
    "        'lr__solver': ['liblinear', 'saga']\n",
    "    }),\n",
    "    ('svc_linear', SVC(kernel='linear'), {\n",
    "        'preprocessor__pca_pipeline__n_components': [2, 4],\n",
    "        'svc_linear__C': [0.01, 0.1, 1, 10, 100]\n",
    "    }),\n",
    "    ('svc_rbf', SVC(kernel='rbf'), {\n",
    "        'preprocessor__pca_pipeline__n_components': [2, 4],\n",
    "        'svc_rbf__C': [0.01, 0.1, 1, 10, 100],\n",
    "        'svc_rbf__gamma': [0.01, 0.1, 1, 10, 100]\n",
    "    }),\n",
    "    ('rf', RandomForestClassifier(), {\n",
    "        'preprocessor__pca_pipeline__n_components': [2, 4],\n",
    "        'rf__n_estimators': [10, 50, 100, 200],\n",
    "        'rf__max_depth': [None, 5, 10, 15],\n",
    "        'rf__min_samples_split': [2, 5, 10]\n",
    "    }),\n",
    "    ('et', ExtraTreesClassifier(), {\n",
    "        'preprocessor__pca_pipeline__n_components': [2, 4],\n",
    "        'et__n_estimators': [50, 100, 200],\n",
    "        'et__max_depth': [None, 5, 10, 20],\n",
    "        'et__min_samples_split': [2, 5, 10]\n",
    "    }),\n",
    "    ('xgb', XGBClassifier(use_label_encoder=False, eval_metric='logloss'), {\n",
    "        'preprocessor__pca_pipeline__n_components': [2, 4],\n",
    "        'xgb__n_estimators': [50, 100, 200],\n",
    "        'xgb__learning_rate': [0.01, 0.1, 0.2],\n",
    "        'xgb__max_depth': [3, 5, 10]\n",
    "    }),\n",
    "    ('mlp', MLPClassifier(max_iter=500), {\n",
    "        'preprocessor__pca_pipeline__n_components': [2, 4],\n",
    "        'mlp__hidden_layer_sizes': [(3,), (6,), (3, 3)],\n",
    "        'mlp__activation': ['tanh', 'relu'],\n",
    "        'mlp__alpha': [0.0001, 0.001, 0.01],\n",
    "        'mlp__solver': ['adam', 'lbfgs']\n",
    "    })\n",
    "]\n",
    "  \n",
    "    \n",
    "\n",
    "import pandas as pd\n",
    "\n",
    "# Initialize a list to store the results\n",
    "results = []\n",
    "best_models = {}\n",
    "# Perform the grid search 10 times with different random states\n",
    "for i in range(10):\n",
    "    # Shuffle the data with a different random state each time\n",
    "    X_shuffled, y_shuffled= shuffle(X, y, random_state=i)\n",
    "\n",
    "    # Perform a grid search for each classifier\n",
    "    for name, classifier, params in classifiers:\n",
    "        pipeline = Pipeline([ ('preprocessor', preprocessor), (name, classifier)])\n",
    "        grid_search = GridSearchCV(pipeline, params, cv=gkf, n_jobs=-1)\n",
    "        grid_search.fit(X_shuffled, y_shuffled)\n",
    "\n",
    "        # Calculate the cross-validated F1 score, precision, and recall\n",
    "        # Store the results in a dictionary and add it to the list\n",
    "        f1_scores = cross_val_score(grid_search.best_estimator_, X_shuffled, y_shuffled, cv=gkf, scoring='f1_macro', n_jobs=-1)\n",
    "        precision_scores = cross_val_score(grid_search.best_estimator_, X_shuffled, y_shuffled, cv=gkf, scoring='precision_macro', n_jobs=-1)\n",
    "        recall_scores = cross_val_score(grid_search.best_estimator_, X_shuffled, y_shuffled, cv=gkf, scoring='recall_macro',  n_jobs=-1)\n",
    "        accuracy_scores = cross_val_score(grid_search.best_estimator_, X_shuffled, y_shuffled, cv=gkf, scoring='accuracy',  n_jobs=-1)\n",
    "        # Store the results in a dictionary and add it to the list\n",
    "        results.append({\n",
    "            'random_state': i,\n",
    "            'classifier': name,\n",
    "            'best_params': grid_search.best_params_,\n",
    "            'accuracy': accuracy_scores.mean(),\n",
    "            'f1_score': f1_scores.mean(),\n",
    "            'precision': precision_scores.mean(),\n",
    "            'recall': recall_scores.mean(),\n",
    "            'pca_components': grid_search.best_params_.get('preprocessor__pca_pipeline__n_components', None)\n",
    "        })\n",
    "        if name not in best_models or grid_search.best_score_ > best_models[name]['best_score']:\n",
    "                best_models[name] = {\n",
    "                    'best_estimator': grid_search.best_estimator_,\n",
    "                    'best_params': grid_search.best_params_,\n",
    "                    'best_score': grid_search.best_score_,\n",
    "                    'random_state': i\n",
    "                }\n",
    "\n",
    "# Convert the results to a DataFrame\n",
    "results_df = pd.DataFrame(results)"
   ]
  },
  {
   "cell_type": "code",
   "execution_count": null,
   "metadata": {},
   "outputs": [],
   "source": [
    "results_df.groupby('classifier').std()"
   ]
  },
  {
   "cell_type": "code",
   "execution_count": null,
   "metadata": {},
   "outputs": [],
   "source": [
    "results_df"
   ]
  },
  {
   "cell_type": "markdown",
   "metadata": {},
   "source": [
    "## save the model"
   ]
  },
  {
   "cell_type": "code",
   "execution_count": null,
   "metadata": {},
   "outputs": [],
   "source": [
    "results_df{'preprocessor__pca_pipeline__n_components': 4, 'svc_rbf__C': 100, 'svc_rbf__gamma': 1}"
   ]
  },
  {
   "cell_type": "code",
   "execution_count": null,
   "metadata": {},
   "outputs": [],
   "source": [
    "# check correlation of cg_movement_mean and child_movement_mean in meal_data\n",
    "play_data[['cg_movement_mean', 'child_movement_mean']].corr()"
   ]
  },
  {
   "cell_type": "markdown",
   "metadata": {},
   "source": [
    "# speech child play + meal movement"
   ]
  },
  {
   "cell_type": "code",
   "execution_count": null,
   "metadata": {},
   "outputs": [],
   "source": [
    "df_grouped_meal.index, speech_play.index"
   ]
  },
  {
   "cell_type": "code",
   "execution_count": null,
   "metadata": {},
   "outputs": [],
   "source": [
    "meal_mov_speech_play = pd.merge(df_grouped_meal[[\n",
    "       'child_movement_mean', 'child_movement_var', 'child_movement_min', 'child_movement_max',\n",
    "       'cg_movement_mean', 'cg_movement_var', 'cg_movement_min', 'cg_movement_max','label']], \n",
    "       speech_play['Proportion speech child'], on='s_id')"
   ]
  },
  {
   "cell_type": "code",
   "execution_count": null,
   "metadata": {},
   "outputs": [],
   "source": [
    "len(meal_mov_speech_play)"
   ]
  },
  {
   "cell_type": "code",
   "execution_count": null,
   "metadata": {},
   "outputs": [],
   "source": [
    "\n",
    "# Custom transformer to apply PCA to a subset of features\n",
    "\n",
    "# Pipeline with PCA applied to a subset of features\n",
    "class SubsetPCA(BaseEstimator, TransformerMixin):\n",
    "    def __init__(self, subset_features, n_components):\n",
    "        self.subset_features = subset_features\n",
    "        self.n_components = n_components\n",
    "        self.pca = PCA(n_components=n_components)\n",
    "    \n",
    "    def fit(self, data, y=None):\n",
    "        # Ensure X is a DataFrame\n",
    "        data_subset = data[self.subset_features]\n",
    "        self.pca.fit(data_subset)\n",
    "        return self\n",
    "    \n",
    "    def transform(self, data):\n",
    "        # Ensure X is a DataFrame\n",
    "        data_subset = data[self.subset_features]\n",
    "        data_pca = self.pca.transform(data_subset)\n",
    "        data_remaining = data.drop(columns=self.subset_features)\n",
    "        data_pca_df = pd.DataFrame(data_pca, index=data_remaining.index)\n",
    "        return pd.concat([data_remaining, data_pca_df], axis=1)\n",
    "    \n",
    "X = meal_mov_speech_play[['Proportion speech child',\n",
    "       'cg_movement_mean', 'cg_movement_var', 'cg_movement_min', 'cg_movement_max',\n",
    "       'child_movement_mean', 'child_movement_var', 'child_movement_min', 'child_movement_max']]\n",
    "\n",
    "subset_pca = ['cg_movement_mean', 'cg_movement_var', 'cg_movement_min', 'cg_movement_max', \n",
    "            'child_movement_mean', 'child_movement_var', 'child_movement_min', 'child_movement_max']\n",
    "\n",
    "\n",
    "y = meal_mov_speech_play['label']\n",
    "\n",
    "\n",
    "remaining_features = [feat for feat in X.columns if feat not in subset_pca]\n",
    "\n",
    "# Create a ColumnTransformer\n",
    "preprocessor = ColumnTransformer(transformers=[\n",
    "    ('pca_pipeline', SubsetPCA(subset_features=subset_pca, n_components=4), subset_pca),\n",
    "    ('remaining', StandardScaler(), remaining_features)\n",
    "])\n",
    "\n",
    "# Create a GroupKFold object\n",
    "gkf = KFold(n_splits=5, shuffle=False)\n",
    "\n",
    "# Define the classifiers and their parameters\n",
    "classifiers = [\n",
    "    ('dummy', DummyClassifier(strategy='most_frequent'), {}),\n",
    "    ('lr', LogisticRegression(), {\n",
    "        'preprocessor__pca_pipeline__n_components': [2, 4],\n",
    "        'lr__C': [0.01, 0.1, 1, 10, 100],\n",
    "        'lr__penalty': ['l1', 'l2'],\n",
    "        'lr__solver': ['liblinear', 'saga']\n",
    "    }),\n",
    "    ('svc_linear', SVC(kernel='linear'), {\n",
    "        'preprocessor__pca_pipeline__n_components': [2, 4],\n",
    "        'svc_linear__C': [0.01, 0.1, 1, 10, 100]\n",
    "    }),\n",
    "    ('svc_rbf', SVC(kernel='rbf'), {\n",
    "        'preprocessor__pca_pipeline__n_components': [2, 4],\n",
    "        'svc_rbf__C': [0.01, 0.1, 1, 10, 100],\n",
    "        'svc_rbf__gamma': [0.01, 0.1, 1, 10, 100]\n",
    "    }),\n",
    "    ('rf', RandomForestClassifier(), {\n",
    "        'preprocessor__pca_pipeline__n_components': [2, 4],\n",
    "        'rf__n_estimators': [10, 50, 100, 200],\n",
    "        'rf__max_depth': [None, 5, 10, 15],\n",
    "        'rf__min_samples_split': [2, 5, 10]\n",
    "    }),\n",
    "    ('et', ExtraTreesClassifier(), {\n",
    "        'preprocessor__pca_pipeline__n_components': [2, 4],\n",
    "        'et__n_estimators': [50, 100, 200],\n",
    "        'et__max_depth': [None, 5, 10, 20],\n",
    "        'et__min_samples_split': [2, 5, 10]\n",
    "    }),\n",
    "    ('xgb', XGBClassifier(use_label_encoder=False, eval_metric='logloss'), {\n",
    "        'preprocessor__pca_pipeline__n_components': [2, 4],\n",
    "        'xgb__n_estimators': [50, 100, 200],\n",
    "        'xgb__learning_rate': [0.01, 0.1, 0.2],\n",
    "        'xgb__max_depth': [3, 5, 10]\n",
    "    }),\n",
    "    ('mlp', MLPClassifier(max_iter=500), {\n",
    "        'preprocessor__pca_pipeline__n_components': [2, 4],\n",
    "        'mlp__hidden_layer_sizes': [(3,), (6,), (3, 3)],\n",
    "        'mlp__activation': ['tanh', 'relu'],\n",
    "        'mlp__alpha': [0.0001, 0.001, 0.01],\n",
    "        'mlp__solver': ['adam', 'lbfgs']\n",
    "    })\n",
    "]\n",
    "  \n",
    "    \n",
    "\n",
    "import pandas as pd\n",
    "\n",
    "# Initialize a list to store the results\n",
    "results = []\n",
    "best_models = {}\n",
    "# Perform the grid search 10 times with different random states\n",
    "for i in range(10):\n",
    "    # Shuffle the data with a different random state each time\n",
    "    X_shuffled, y_shuffled= shuffle(X, y, random_state=i)\n",
    "\n",
    "    # Perform a grid search for each classifier\n",
    "    for name, classifier, params in classifiers:\n",
    "        pipeline = Pipeline([ ('preprocessor', preprocessor), (name, classifier)])\n",
    "        grid_search = GridSearchCV(pipeline, params, cv=gkf, n_jobs=-1)\n",
    "        grid_search.fit(X_shuffled, y_shuffled)\n",
    "\n",
    "        # Calculate the cross-validated F1 score, precision, and recall\n",
    "        # Store the results in a dictionary and add it to the list\n",
    "        f1_scores = cross_val_score(grid_search.best_estimator_, X_shuffled, y_shuffled, cv=gkf, scoring='f1_macro', n_jobs=-1)\n",
    "        precision_scores = cross_val_score(grid_search.best_estimator_, X_shuffled, y_shuffled, cv=gkf, scoring='precision_macro', n_jobs=-1)\n",
    "        recall_scores = cross_val_score(grid_search.best_estimator_, X_shuffled, y_shuffled, cv=gkf, scoring='recall_macro',  n_jobs=-1)\n",
    "        accuracy_scores = cross_val_score(grid_search.best_estimator_, X_shuffled, y_shuffled, cv=gkf, scoring='accuracy',  n_jobs=-1)\n",
    "        # Store the results in a dictionary and add it to the list\n",
    "        results.append({\n",
    "            'random_state': i,\n",
    "            'classifier': name,\n",
    "            'best_params': grid_search.best_params_,\n",
    "            'accuracy': accuracy_scores.mean(),\n",
    "            'f1_score': f1_scores.mean(),\n",
    "            'precision': precision_scores.mean(),\n",
    "            'recall': recall_scores.mean(),\n",
    "            'pca_components': grid_search.best_params_.get('preprocessor__pca_pipeline__n_components', None)\n",
    "        })\n",
    "        if name not in best_models or grid_search.best_score_ > best_models[name]['best_score']:\n",
    "                best_models[name] = {\n",
    "                    'best_estimator': grid_search.best_estimator_,\n",
    "                    'best_params': grid_search.best_params_,\n",
    "                    'best_score': grid_search.best_score_,\n",
    "                    'random_state': i\n",
    "                }\n",
    "\n",
    "# Convert the results to a DataFrame\n",
    "results_df = pd.DataFrame(results)"
   ]
  },
  {
   "cell_type": "code",
   "execution_count": null,
   "metadata": {},
   "outputs": [],
   "source": [
    "results_df.groupby('classifier').mean()"
   ]
  },
  {
   "cell_type": "code",
   "execution_count": null,
   "metadata": {},
   "outputs": [],
   "source": [
    "best_models['svc_rbf']['best_estimator']"
   ]
  },
  {
   "cell_type": "code",
   "execution_count": null,
   "metadata": {},
   "outputs": [],
   "source": [
    "result = permutation_importance(best_models['svc_rbf']['best_estimator'], X, y, n_repeats=30, random_state=0, scoring='accuracy')\n"
   ]
  },
  {
   "cell_type": "code",
   "execution_count": null,
   "metadata": {},
   "outputs": [],
   "source": [
    "feature_importances_combined = pd.DataFrame({\n",
    "    'Feature': X.columns,\n",
    "    'Importance': result['importances_mean']\n",
    "})\n",
    "\n",
    "feature_importances_combined = feature_importances_combined.sort_values(by='Importance', ascending=False)\n",
    "# Plot the feature importances\n",
    "plt.figure(figsize=(10, 6))\n",
    "sns.barplot(x='Importance', y='Feature', data=feature_importances_combined)\n",
    "plt.title('Feature Importances Play Speech + Meal Movement')\n",
    "plt.xlabel('Importance')\n",
    "plt.ylabel('Feature')\n",
    "plt.show()"
   ]
  },
  {
   "cell_type": "markdown",
   "metadata": {},
   "source": [
    "# Movement feature differences per class "
   ]
  },
  {
   "cell_type": "code",
   "execution_count": null,
   "metadata": {},
   "outputs": [],
   "source": [
    "features_play = df_grouped_play[['cg_movement_max', 'cg_movement_min', 'cg_movement_mean', 'cg_movement_var',\n",
    " 'child_movement_mean', 'child_movement_max', 'child_movement_var', 'child_movement_min', 'label']]\n",
    "features_meal = df_grouped_meal[['cg_movement_max', 'cg_movement_min', 'cg_movement_mean', 'cg_movement_var',\n",
    "                                 'child_movement_mean', 'child_movement_max', 'child_movement_var', 'child_movement_min', 'label']]"
   ]
  },
  {
   "cell_type": "code",
   "execution_count": null,
   "metadata": {},
   "outputs": [],
   "source": [
    "import seaborn as sns\n",
    "import matplotlib.pyplot as plt\n",
    "# Create a figure with subplots\n",
    "features = ['child_movement_max', 'child_movement_min', 'child_movement_mean', 'child_movement_var']\n",
    "label_column = 'label'\n",
    "fig, axes = plt.subplots(2, 2, figsize=(15, 10))\n",
    "\n",
    "# Flatten the axes array for easy iteration\n",
    "axes = axes.flatten()\n",
    "\n",
    "# Plot each feature\n",
    "for i, feature in enumerate(features):\n",
    "    sns.boxplot(x=label_column, y=feature, data=df_grouped_play, ax=axes[i])\n",
    "    axes[i].set_title(f'{feature} by {label_column}')\n",
    "    axes[i].set_xlabel('Label')\n",
    "    axes[i].set_ylabel(feature)\n",
    "\n",
    "# Adjust layout\n",
    "plt.tight_layout()\n",
    "plt.show()"
   ]
  },
  {
   "cell_type": "code",
   "execution_count": null,
   "metadata": {},
   "outputs": [],
   "source": [
    "import seaborn as sns\n",
    "import matplotlib.pyplot as plt\n",
    "# Create a figure with subplots\n",
    "features = ['child_movement_max', 'child_movement_min', 'child_movement_mean', 'child_movement_var']\n",
    "label_column = 'label'\n",
    "fig, axes = plt.subplots(2, 2, figsize=(15, 10))\n",
    "\n",
    "# Flatten the axes array for easy iteration\n",
    "axes = axes.flatten()\n",
    "\n",
    "# Plot each feature\n",
    "for i, feature in enumerate(features):\n",
    "    sns.boxplot(x=label_column, y=feature, data=df_grouped_meal, ax=axes[i])\n",
    "    axes[i].set_title(f'{feature} by {label_column}')\n",
    "    axes[i].set_xlabel('Label')\n",
    "    axes[i].set_ylabel(feature)\n",
    "\n",
    "# Adjust layout\n",
    "plt.tight_layout()\n",
    "plt.show()"
   ]
  },
  {
   "cell_type": "code",
   "execution_count": null,
   "metadata": {},
   "outputs": [],
   "source": [
    "final_df = pd.concat([df_grouped_meal, df_grouped_play], axis=0)\n",
    "final_df"
   ]
  },
  {
   "cell_type": "code",
   "execution_count": null,
   "metadata": {},
   "outputs": [],
   "source": [
    "import seaborn as sns\n",
    "import matplotlib.pyplot as plt\n",
    "# Create a figure with subplots\n",
    "features = ['child_movement_max', 'child_movement_min', 'child_movement_mean', 'child_movement_var']\n",
    "label_column = 'label'\n",
    "fig, axes = plt.subplots(2, 2, figsize=(15, 10))\n",
    "\n",
    "# Flatten the axes array for easy iteration\n",
    "axes = axes.flatten()\n",
    "\n",
    "# Plot each feature\n",
    "for i, feature in enumerate(features):\n",
    "    sns.boxplot(x=label_column, y=feature, data=final_df, ax=axes[i])\n",
    "    axes[i].set_title(f'{feature} by {label_column}')\n",
    "    axes[i].set_xlabel('Label')\n",
    "    axes[i].set_ylabel(feature)\n",
    "\n",
    "# Adjust layout\n",
    "plt.tight_layout()\n",
    "plt.show()"
   ]
  },
  {
   "cell_type": "code",
   "execution_count": null,
   "metadata": {},
   "outputs": [],
   "source": [
    "sns.boxplot(x=final_df['label'], y=final_df['average_proximity'], data=final_df)"
   ]
  },
  {
   "cell_type": "markdown",
   "metadata": {},
   "source": [
    "## Testing for differences between features in the two classes "
   ]
  },
  {
   "cell_type": "code",
   "execution_count": null,
   "metadata": {},
   "outputs": [],
   "source": [
    "# For the combined dataset\n",
    "from scipy.stats import mannwhitneyu\n",
    "\n",
    "# Example data\n",
    "# Assuming final_df is your DataFrame and 'label' is the column with the labels\n",
    "feature = 'cg_movement_max'\n",
    "label_column = 'label'\n",
    "\n",
    "# Separate the data into two groups based on the labels\n",
    "group_0 = final_df[final_df[label_column] == 0][feature]\n",
    "group_1 = final_df[final_df[label_column] == 1][feature]\n",
    "\n",
    "# Perform the Mann-Whitney U test\n",
    "stat, p_value = mannwhitneyu(group_0, group_1)\n",
    "\n",
    "print(f'Mann-Whitney U test statistic: {stat}')\n",
    "print(f'Mann-Whitney U test p-value: {p_value}')\n",
    "\n",
    "# Interpretation\n",
    "alpha = 0.05\n",
    "if p_value < alpha:\n",
    "    print('There is a significant difference between the two groups.')\n",
    "else:\n",
    "    print('There is no significant difference between the two groups.')"
   ]
  },
  {
   "cell_type": "code",
   "execution_count": null,
   "metadata": {},
   "outputs": [],
   "source": [
    "# For the separate datasets\n",
    "# For the combined dataset\n",
    "from scipy.stats import mannwhitneyu\n",
    "\n",
    "# Example data\n",
    "# Assuming final_df is your DataFrame and 'label' is the column with the labels\n",
    "feature = 'cg_movement_var'\n",
    "label_column = 'label'\n",
    "\n",
    "# Separate the data into two groups based on the labels\n",
    "group_0 = df_grouped_play[df_grouped_play[label_column] == 0][feature]\n",
    "group_1 = df_grouped_play[df_grouped_play[label_column] == 1][feature]\n",
    "\n",
    "# Perform the Mann-Whitney U test\n",
    "stat, p_value = mannwhitneyu(group_0, group_1)\n",
    "\n",
    "print(f'Mann-Whitney U test statistic: {stat}')\n",
    "print(f'Mann-Whitney U test p-value: {p_value}')\n",
    "\n",
    "# Interpretation\n",
    "alpha = 0.05\n",
    "if p_value < alpha:\n",
    "    print('There is a significant difference between the two groups.')\n",
    "else:\n",
    "    print('There is no significant difference between the two groups.')"
   ]
  },
  {
   "cell_type": "markdown",
   "metadata": {},
   "source": [
    "# Combining speech child + movement features (with PCA)"
   ]
  },
  {
   "cell_type": "code",
   "execution_count": null,
   "metadata": {},
   "outputs": [],
   "source": [
    "play_data = play_data.dropna()\n",
    "play_data"
   ]
  },
  {
   "cell_type": "code",
   "execution_count": null,
   "metadata": {},
   "outputs": [],
   "source": [
    "# Custom transformer to apply PCA to a subset of features\n",
    "\n",
    "# Pipeline with PCA applied to a subset of features\n",
    "class SubsetPCA(BaseEstimator, TransformerMixin):\n",
    "    def __init__(self, subset_features, n_components):\n",
    "        self.subset_features = subset_features\n",
    "        self.n_components = n_components\n",
    "        self.pca = PCA(n_components=n_components)\n",
    "    \n",
    "    def fit(self, data, y=None):\n",
    "        # Ensure X is a DataFrame\n",
    "        data_subset = data[self.subset_features]\n",
    "        self.pca.fit(data_subset)\n",
    "        return self\n",
    "    \n",
    "    def transform(self, data):\n",
    "        # Ensure X is a DataFrame\n",
    "        data_subset = data[self.subset_features]\n",
    "        data_pca = self.pca.transform(data_subset)\n",
    "        data_remaining = data.drop(columns=self.subset_features)\n",
    "        data_pca_df = pd.DataFrame(data_pca, index=data_remaining.index)\n",
    "        return pd.concat([data_remaining, data_pca_df], axis=1)\n",
    "    \n",
    "\n",
    "X = play_data[['Proportion speech child',\n",
    "       'cg_movement_mean', 'cg_movement_var', 'cg_movement_min', 'cg_movement_max',\n",
    "       'child_movement_mean', 'child_movement_var', 'child_movement_min', 'child_movement_max']]\n",
    "\n",
    "subset_pca = ['cg_movement_mean', 'cg_movement_var', 'cg_movement_min', 'cg_movement_max', \n",
    "            'child_movement_mean', 'child_movement_var', 'child_movement_min', 'child_movement_max']\n",
    "\n",
    "\n",
    "y = play_data['label'].iloc[:,0]\n",
    "\n",
    "\n",
    "remaining_features = [feat for feat in X.columns if feat not in subset_pca]\n",
    "\n",
    "# Create a ColumnTransformer\n",
    "preprocessor = ColumnTransformer(transformers=[\n",
    "    ('pca_pipeline', SubsetPCA(subset_features=subset_pca, n_components=4), subset_pca),\n",
    "    ('remaining', StandardScaler(), remaining_features)\n",
    "])\n",
    "\n",
    "# Create a GroupKFold object\n",
    "gkf = KFold(n_splits=5, shuffle=False)\n",
    "\n",
    "# Define the classifiers and their parameters\n",
    "classifiers = [\n",
    "    ('dummy', DummyClassifier(strategy='most_frequent'), {}),\n",
    "    ('lr', LogisticRegression(), {\n",
    "        'preprocessor__pca_pipeline__n_components': [2, 4],\n",
    "        'lr__C': [0.01, 0.1, 1, 10, 100],\n",
    "        'lr__penalty': ['l1', 'l2'],\n",
    "        'lr__solver': ['liblinear', 'saga']\n",
    "    }),\n",
    "    ('svc_linear', SVC(kernel='linear'), {\n",
    "        'preprocessor__pca_pipeline__n_components': [2, 4],\n",
    "        'svc_linear__C': [0.01, 0.1, 1, 10, 100]\n",
    "    }),\n",
    "    ('svc_rbf', SVC(kernel='rbf'), {\n",
    "        'preprocessor__pca_pipeline__n_components': [2, 4],\n",
    "        'svc_rbf__C': [0.01, 0.1, 1, 10, 100],\n",
    "        'svc_rbf__gamma': [0.01, 0.1, 1, 10, 100]\n",
    "    }),\n",
    "    ('rf', RandomForestClassifier(), {\n",
    "        'preprocessor__pca_pipeline__n_components': [2, 4],\n",
    "        'rf__n_estimators': [10, 50, 100, 200],\n",
    "        'rf__max_depth': [None, 5, 10, 15],\n",
    "        'rf__min_samples_split': [2, 5, 10]\n",
    "    }),\n",
    "    ('et', ExtraTreesClassifier(), {\n",
    "        'preprocessor__pca_pipeline__n_components': [2, 4],\n",
    "        'et__n_estimators': [50, 100, 200],\n",
    "        'et__max_depth': [None, 5, 10, 20],\n",
    "        'et__min_samples_split': [2, 5, 10]\n",
    "    }),\n",
    "    ('xgb', XGBClassifier(use_label_encoder=False, eval_metric='logloss'), {\n",
    "        'preprocessor__pca_pipeline__n_components': [2, 4],\n",
    "        'xgb__n_estimators': [50, 100, 200],\n",
    "        'xgb__learning_rate': [0.01, 0.1, 0.2],\n",
    "        'xgb__max_depth': [3, 5, 10]\n",
    "    }),\n",
    "    ('mlp', MLPClassifier(max_iter=500), {\n",
    "        'preprocessor__pca_pipeline__n_components': [2, 4],\n",
    "        'mlp__hidden_layer_sizes': [(3,), (6,), (3, 3)],\n",
    "        'mlp__activation': ['tanh', 'relu'],\n",
    "        'mlp__alpha': [0.0001, 0.001, 0.01],\n",
    "        'mlp__solver': ['adam', 'lbfgs']\n",
    "    })\n",
    "]\n",
    "  \n",
    "    \n",
    "\n",
    "import pandas as pd\n",
    "\n",
    "# Initialize a list to store the results\n",
    "results = []\n",
    "best_models = {}\n",
    "# Perform the grid search 10 times with different random states\n",
    "for i in range(10):\n",
    "    # Shuffle the data with a different random state each time\n",
    "    X_shuffled, y_shuffled= shuffle(X, y, random_state=i)\n",
    "\n",
    "    # Perform a grid search for each classifier\n",
    "    for name, classifier, params in classifiers:\n",
    "        pipeline = Pipeline([ ('preprocessor', preprocessor), (name, classifier)])\n",
    "        grid_search = GridSearchCV(pipeline, params, cv=gkf, n_jobs=-1)\n",
    "        grid_search.fit(X_shuffled, y_shuffled)\n",
    "\n",
    "        # Calculate the cross-validated F1 score, precision, and recall\n",
    "        # Store the results in a dictionary and add it to the list\n",
    "        f1_scores = cross_val_score(grid_search.best_estimator_, X_shuffled, y_shuffled, cv=gkf, scoring='f1_macro', n_jobs=-1)\n",
    "        precision_scores = cross_val_score(grid_search.best_estimator_, X_shuffled, y_shuffled, cv=gkf, scoring='precision_macro', n_jobs=-1)\n",
    "        recall_scores = cross_val_score(grid_search.best_estimator_, X_shuffled, y_shuffled, cv=gkf, scoring='recall_macro',  n_jobs=-1)\n",
    "        accuracy_scores = cross_val_score(grid_search.best_estimator_, X_shuffled, y_shuffled, cv=gkf, scoring='accuracy',  n_jobs=-1)\n",
    "        # Store the results in a dictionary and add it to the list\n",
    "        results.append({\n",
    "            'random_state': i,\n",
    "            'classifier': name,\n",
    "            'best_params': grid_search.best_params_,\n",
    "            'accuracy': accuracy_scores.mean(),\n",
    "            'f1_score': f1_scores.mean(),\n",
    "            'precision': precision_scores.mean(),\n",
    "            'recall': recall_scores.mean(),\n",
    "            'pca_components': grid_search.best_params_.get('preprocessor__pca_pipeline__n_components', None)\n",
    "        })\n",
    "        if name not in best_models or grid_search.best_score_ > best_models[name]['best_score']:\n",
    "                best_models[name] = {\n",
    "                    'best_estimator': grid_search.best_estimator_,\n",
    "                    'best_params': grid_search.best_params_,\n",
    "                    'best_score': grid_search.best_score_,\n",
    "                    'random_state': i\n",
    "                }\n",
    "\n",
    "# Convert the results to a DataFrame\n",
    "results_df = pd.DataFrame(results)"
   ]
  },
  {
   "cell_type": "code",
   "execution_count": null,
   "metadata": {},
   "outputs": [],
   "source": [
    "results_df.groupby('classifier').mean()"
   ]
  },
  {
   "cell_type": "code",
   "execution_count": null,
   "metadata": {},
   "outputs": [],
   "source": [
    "results_df"
   ]
  },
  {
   "cell_type": "markdown",
   "metadata": {},
   "source": [
    "## take the best performing model outside of the pipeline and test it and then validate it on the other dataset"
   ]
  },
  {
   "cell_type": "code",
   "execution_count": null,
   "metadata": {},
   "outputs": [],
   "source": [
    "from sklearn.base import BaseEstimator, TransformerMixin\n",
    "from sklearn.decomposition import PCA\n",
    "from sklearn.pipeline import Pipeline\n",
    "from sklearn.compose import ColumnTransformer\n",
    "from sklearn.neural_network import MLPClassifier\n",
    "from sklearn.preprocessing import StandardScaler\n",
    "from sklearn.model_selection import cross_val_score, KFold\n",
    "from sklearn.metrics import accuracy_score, f1_score, precision_score, recall_score\n",
    "import pandas as pd\n",
    "import numpy as np\n",
    "from sklearn.inspection import permutation_importance\n",
    "\n",
    "# Custom transformer to apply PCA to a subset of features\n",
    "class SubsetPCA(BaseEstimator, TransformerMixin):\n",
    "    def __init__(self, subset_features, n_components):\n",
    "        self.subset_features = subset_features\n",
    "        self.n_components = n_components\n",
    "        self.pca = PCA(n_components=n_components)\n",
    "    \n",
    "    def fit(self, data, y=None):\n",
    "        # Ensure X is a DataFrame\n",
    "        data_subset = data[self.subset_features]\n",
    "        self.pca.fit(data_subset)\n",
    "        return self\n",
    "    \n",
    "    def transform(self, data):\n",
    "        # Ensure X is a DataFrame\n",
    "        data_subset = data[self.subset_features]\n",
    "        data_pca = self.pca.transform(data_subset)\n",
    "        data_remaining = data.drop(columns=self.subset_features)\n",
    "        data_pca_df = pd.DataFrame(data_pca, index=data_remaining.index)\n",
    "        return pd.concat([data_remaining, data_pca_df], axis=1)\n",
    "\n",
    "# Example data\n",
    "X_meal = meal_data[['Proportion speech child',\n",
    "       'cg_movement_mean', 'cg_movement_var', 'cg_movement_min', 'cg_movement_max',\n",
    "       'child_movement_mean', 'child_movement_var', 'child_movement_min', 'child_movement_max']]\n",
    "\n",
    "subset_pca = ['cg_movement_mean', 'cg_movement_var', 'cg_movement_min', 'cg_movement_max', \n",
    "            'child_movement_mean', 'child_movement_var', 'child_movement_min', 'child_movement_max']\n",
    "\n",
    "y_meal = meal_data['label'].iloc[:,0]\n",
    "\n",
    "cv = KFold(n_splits=5, shuffle=True, random_state=0)\n",
    "remaining_features = [feat for feat in X_meal.columns if feat not in subset_pca]\n",
    "best_params = {'preprocessor__pca_pipeline__n_components': 4, 'svc_rbf__C': 100, 'svc_rbf__gamma': 1}\n",
    "preprocessor = ColumnTransformer(transformers=[\n",
    "    ('pca_pipeline', SubsetPCA(subset_features=subset_pca, n_components=4), subset_pca),\n",
    "    ('remaining', StandardScaler(), remaining_features)\n",
    "])\n",
    "\n",
    "# Define the MLPClassifier with specified hyperparameters\n",
    "svc_rbf = SVC(C=best_params['svc_rbf__C'], gamma=best_params['svc_rbf__gamma'], kernel='rbf', probability=True)\n",
    "# Create the final pipeline\n",
    "pipeline_meal = Pipeline([\n",
    "    ('preprocessor', preprocessor),\n",
    "    ('svc_rbf', svc_rbf)\n",
    "])\n",
    "\n",
    "# Fit the pipeline\n",
    "pipeline_meal.fit(X_meal, y_meal)\n",
    "\n",
    "# Evaluate the model using cross-validation\n",
    "scores = cross_val_score(pipeline_meal, X_meal, y_meal, scoring = 'accuracy', cv=cv)\n",
    "print(f'Cross-validation scores: {scores}')\n",
    "print(f'Mean cross-validation score: {np.mean(scores)}')\n",
    "\n",
    "# Make predictions on the dataset\n",
    "\n",
    "\n",
    "\n"
   ]
  },
  {
   "cell_type": "code",
   "execution_count": null,
   "metadata": {},
   "outputs": [],
   "source": [
    "result = permutation_importance(pipeline_meal, X_meal, y_meal, n_repeats=30, random_state=0, scoring='accuracy')\n"
   ]
  },
  {
   "cell_type": "code",
   "execution_count": null,
   "metadata": {},
   "outputs": [],
   "source": [
    "feature_importances_df = pd.DataFrame({\n",
    "    'Feature': X_meal.columns,\n",
    "    'Importance': result['importances_mean']\n",
    "})"
   ]
  },
  {
   "cell_type": "code",
   "execution_count": null,
   "metadata": {},
   "outputs": [],
   "source": [
    "feature_importances_meal = feature_importances_df.sort_values(by='Importance', ascending=False)"
   ]
  },
  {
   "cell_type": "code",
   "execution_count": null,
   "metadata": {},
   "outputs": [],
   "source": [
    "# Plot the feature importances\n",
    "plt.figure(figsize=(10, 6))\n",
    "sns.barplot(x='Importance', y='Feature', data=feature_importances_meal)\n",
    "plt.title('Feature Importances Meal Data')\n",
    "plt.xlabel('Importance')\n",
    "plt.ylabel('Feature')\n",
    "plt.show()"
   ]
  },
  {
   "cell_type": "code",
   "execution_count": null,
   "metadata": {},
   "outputs": [],
   "source": [
    "from sklearn.base import BaseEstimator, TransformerMixin\n",
    "from sklearn.decomposition import PCA\n",
    "from sklearn.pipeline import Pipeline\n",
    "from sklearn.compose import ColumnTransformer\n",
    "from sklearn.neural_network import MLPClassifier\n",
    "from sklearn.preprocessing import StandardScaler\n",
    "from sklearn.model_selection import cross_val_score, KFold\n",
    "from sklearn.metrics import accuracy_score, f1_score, precision_score, recall_score\n",
    "import pandas as pd\n",
    "import numpy as np\n",
    "\n",
    "# Custom transformer to apply PCA to a subset of features\n",
    "class SubsetPCA(BaseEstimator, TransformerMixin):\n",
    "    def __init__(self, subset_features, n_components):\n",
    "        self.subset_features = subset_features\n",
    "        self.n_components = n_components\n",
    "        self.pca = PCA(n_components=n_components)\n",
    "    \n",
    "    def fit(self, data, y=None):\n",
    "        # Ensure X is a DataFrame\n",
    "        data_subset = data[self.subset_features]\n",
    "        self.pca.fit(data_subset)\n",
    "        return self\n",
    "    \n",
    "    def transform(self, data):\n",
    "        # Ensure X is a DataFrame\n",
    "        data_subset = data[self.subset_features]\n",
    "        data_pca = self.pca.transform(data_subset)\n",
    "        data_remaining = data.drop(columns=self.subset_features)\n",
    "        data_pca_df = pd.DataFrame(data_pca, index=data_remaining.index)\n",
    "        return pd.concat([data_remaining, data_pca_df], axis=1)\n",
    "\n",
    "# Example data\n",
    "X_play = play_data[['Proportion speech child',\n",
    "       'cg_movement_mean', 'cg_movement_var', 'cg_movement_min', 'cg_movement_max',\n",
    "       'child_movement_mean', 'child_movement_var', 'child_movement_min', 'child_movement_max']]\n",
    "\n",
    "subset_pca = ['cg_movement_mean', 'cg_movement_var', 'cg_movement_min', 'cg_movement_max', \n",
    "            'child_movement_mean', 'child_movement_var', 'child_movement_min', 'child_movement_max']\n",
    "\n",
    "y_play = play_data['label'].iloc[:,0]\n",
    "\n",
    "cv = KFold(n_splits=5, shuffle=True, random_state=9)\n",
    "remaining_features = [feat for feat in X_play.columns if feat not in subset_pca]\n",
    "best_params = {'preprocessor__pca_pipeline__n_components': 4, 'svc_rbf__C': 100, 'svc_rbf__gamma': 0.01}\n",
    "preprocessor = ColumnTransformer(transformers=[\n",
    "    ('pca_pipeline', SubsetPCA(subset_features=subset_pca, n_components=4), subset_pca),\n",
    "    ('remaining', StandardScaler(), remaining_features)\n",
    "])\n",
    "\n",
    "# Define the MLPClassifier with specified hyperparameters\n",
    "scv_rbf = SVC(C=best_params['svc_rbf__C'], gamma=best_params['svc_rbf__gamma'], kernel='rbf', probability=True)\n",
    "# Create the final pipeline\n",
    "pipeline_play = Pipeline([\n",
    "    ('preprocessor', preprocessor),\n",
    "    ('svc_rbf', svc_rbf)\n",
    "])\n",
    "\n",
    "# Fit the pipeline\n",
    "pipeline_play.fit(X_play, y_play)\n",
    "\n",
    "# Evaluate the model using cross-validation\n",
    "scores = cross_val_score(pipeline_play, X_play, y_play, scoring = 'accuracy', cv=cv)\n",
    "print(f'Cross-validation scores: {scores}')\n",
    "print(f'Mean cross-validation score: {np.mean(scores)}')\n",
    "\n",
    "# Make predictions on the dataset\n",
    "\n",
    "\n",
    "\n"
   ]
  },
  {
   "cell_type": "code",
   "execution_count": null,
   "metadata": {},
   "outputs": [],
   "source": [
    "result = permutation_importance(pipeline_play, X_play, y_play, n_repeats=30, random_state=0, scoring='accuracy')\n"
   ]
  },
  {
   "cell_type": "code",
   "execution_count": null,
   "metadata": {},
   "outputs": [],
   "source": [
    "feature_importances_df = pd.DataFrame({\n",
    "    'Feature': X_play.columns,\n",
    "    'Importance': result['importances_mean']\n",
    "})\n",
    "features_importances_play = feature_importances_df.sort_values(by='Importance', ascending=False)\n"
   ]
  },
  {
   "cell_type": "code",
   "execution_count": null,
   "metadata": {},
   "outputs": [],
   "source": [
    "# Plot the feature importances\n",
    "plt.figure(figsize=(10, 6))\n",
    "sns.barplot(x='Importance', y='Feature', data=features_importances_play)\n",
    "plt.title('Feature Importances Play Data')\n",
    "plt.xlabel('Importance')\n",
    "plt.ylabel('Feature')\n",
    "plt.show()"
   ]
  },
  {
   "cell_type": "code",
   "execution_count": null,
   "metadata": {},
   "outputs": [],
   "source": [
    "meal_data_selected = meal_data[['Proportion speech child',\n",
    "       'cg_movement_mean', 'cg_movement_var', 'cg_movement_min', 'cg_movement_max',\n",
    "       'child_movement_mean', 'child_movement_var', 'child_movement_min', 'child_movement_max', 'group','label']]\n",
    "play_data_selected = play_data[['Proportion speech child',\n",
    "       'cg_movement_mean', 'cg_movement_var', 'cg_movement_min', 'cg_movement_max',\n",
    "       'child_movement_mean', 'child_movement_var', 'child_movement_min', 'child_movement_max', 'group', 'label']]\n",
    "\n",
    "# Find the common indices\n",
    "common_indices = meal_data_selected.index.intersection(play_data_selected.index)\n",
    "\n",
    "# Filter the DataFrames to keep only the common indices\n",
    "meal_data_filtered = meal_data_selected.loc[common_indices]\n",
    "play_data_filtered = play_data_selected.loc[common_indices]\n",
    "\n",
    "# Concatenate the filtered DataFrames\n",
    "combined_data = pd.concat([meal_data_filtered, play_data_filtered])"
   ]
  },
  {
   "cell_type": "code",
   "execution_count": null,
   "metadata": {},
   "outputs": [],
   "source": [
    "meal_data_filtered.iloc[:,:-3]"
   ]
  },
  {
   "cell_type": "code",
   "execution_count": null,
   "metadata": {},
   "outputs": [],
   "source": [
    "## correlations between the two models \n",
    "# Get predictions from the LR model\n",
    "meal_predictions =  pipeline_meal.predict_proba(meal_data_filtered.iloc[:,:-3])[:,1]\n",
    "\n",
    "# Get predictions from the MLP model\n",
    "play_predictions = pipeline_play.predict_proba(play_data_filtered.iloc[:,:-3])[:,1]"
   ]
  },
  {
   "cell_type": "code",
   "execution_count": null,
   "metadata": {},
   "outputs": [],
   "source": [
    "accuracy_meal = pipeline_play.score(X_meal, y_meal)\n",
    "print(f'Accuracy of model trained on play data evaluated on meal data: {accuracy_meal}')"
   ]
  },
  {
   "cell_type": "code",
   "execution_count": null,
   "metadata": {},
   "outputs": [],
   "source": [
    "y_pred = pipeline_play.predict(X_meal)\n",
    "f1 = f1_score(y_meal, y_pred, average='weighted')\n",
    "precision = precision_score(y_meal, y_pred, average='weighted')\n",
    "recall = recall_score(y_meal, y_pred, average='weighted')\n",
    "print(f1, precision, recall)"
   ]
  },
  {
   "cell_type": "code",
   "execution_count": null,
   "metadata": {},
   "outputs": [],
   "source": [
    "accuracy_play = pipeline_meal.score(X_play, y_play)\n",
    "print(f'Accuracy of model trained on meal data evaluated on play data: {accuracy_play}')"
   ]
  },
  {
   "cell_type": "code",
   "execution_count": null,
   "metadata": {},
   "outputs": [],
   "source": [
    "y_pred = pipeline_meal.predict(X_play)\n",
    "f1 = f1_score(y_play, y_pred, average='weighted')\n",
    "precision = precision_score(y_play, y_pred, average='weighted')\n",
    "recall = recall_score(y_play, y_pred, average='weighted')\n",
    "print(f1, precision, recall)"
   ]
  },
  {
   "cell_type": "code",
   "execution_count": null,
   "metadata": {},
   "outputs": [],
   "source": [
    "combined_data = combined_data.dropna()\n",
    "combined_labels = combined_data['label'].iloc[:,0]"
   ]
  },
  {
   "cell_type": "markdown",
   "metadata": {},
   "source": [
    "# Combining the two models"
   ]
  },
  {
   "cell_type": "code",
   "execution_count": null,
   "metadata": {},
   "outputs": [],
   "source": [
    "combined_data"
   ]
  },
  {
   "cell_type": "markdown",
   "metadata": {},
   "source": [
    "## soft voting"
   ]
  },
  {
   "cell_type": "code",
   "execution_count": null,
   "metadata": {},
   "outputs": [],
   "source": [
    "import pandas as pd\n",
    "from sklearn.pipeline import Pipeline\n",
    "from sklearn.preprocessing import StandardScaler\n",
    "from sklearn.linear_model import LogisticRegression\n",
    "from sklearn.decomposition import PCA\n",
    "from sklearn.neural_network import MLPClassifier\n",
    "from sklearn.ensemble import VotingClassifier, RandomForestClassifier, ExtraTreesClassifier, GradientBoostingClassifier\n",
    "\n",
    "\n",
    "# Define the base models for voting\n",
    "base_models = [\n",
    "    ('play', pipeline_play),\n",
    "    ('meal', pipeline_meal)\n",
    "]\n",
    "\n",
    "gkf = GroupKFold(n_splits=5)\n",
    "\n",
    "# Create the voting classifier\n",
    "voting_ensemble = VotingClassifier(estimators=base_models, voting='soft', weights = [0.4, 0.6])\n",
    "\n",
    "# Evaluate the voting ensemble using cross-validation\n",
    "f1_scores = cross_val_score(voting_ensemble, combined_data, combined_data.iloc[:,-1], cv=gkf, groups = combined_data.index, scoring='f1_macro', n_jobs=-1)\n",
    "precision_scores = cross_val_score(voting_ensemble, combined_data, combined_data.iloc[:,-1], cv=gkf,groups = combined_data.index, scoring='precision_macro',  n_jobs=-1)\n",
    "recall_scores = cross_val_score(voting_ensemble, combined_data, combined_data.iloc[:,-1], cv=gkf, groups = combined_data.index,scoring='recall_macro',  n_jobs=-1)\n",
    "accuracy_scores = cross_val_score(voting_ensemble, combined_data, combined_data.iloc[:,-1], cv=gkf,groups = combined_data.index, scoring='accuracy', n_jobs=-1)\n",
    "\n",
    "# Print the evaluation results\n",
    "print(f\"F1 Score: {f1_scores.mean()}\")\n",
    "print(f\"Precision: {precision_scores.mean()}\")\n",
    "print(f\"Recall: {recall_scores.mean()}\")\n",
    "print(f\"Accuracy: {accuracy_scores.mean()}\") "
   ]
  },
  {
   "cell_type": "markdown",
   "metadata": {},
   "source": [
    "## stacking"
   ]
  },
  {
   "cell_type": "code",
   "execution_count": null,
   "metadata": {},
   "outputs": [],
   "source": [
    "from sklearn.base import BaseEstimator, TransformerMixin\n",
    "from sklearn.decomposition import PCA\n",
    "from sklearn.pipeline import Pipeline\n",
    "from sklearn.compose import ColumnTransformer\n",
    "from sklearn.neural_network import MLPClassifier\n",
    "from sklearn.preprocessing import StandardScaler\n",
    "from sklearn.model_selection import KFold, cross_val_predict, GridSearchCV\n",
    "from sklearn.ensemble import StackingClassifier\n",
    "from sklearn.linear_model import LogisticRegression\n",
    "from sklearn.metrics import accuracy_score, f1_score, precision_score, recall_score\n",
    "import pandas as pd\n",
    "import numpy as np\n",
    "\n",
    "\n",
    "cv = KFold(n_splits=5, shuffle=True, random_state=42)\n",
    "# Get cross-validated predictions for both models\n",
    "meal_predictions = cross_val_predict(pipeline_meal, X_meal, y_meal, cv=cv, method='predict_proba')\n",
    "play_predictions = cross_val_predict(pipeline_play, X_play, y_play, cv=cv, method='predict_proba')\n",
    "\n",
    "# Align the predictions based on participants\n",
    "# Assuming the index of X_meal and X_play are participant IDs\n",
    "meal_predictions_df = pd.DataFrame(meal_predictions, columns=['meal_class_0', 'meal_class_1'], index=X_meal.index)\n",
    "play_predictions_df = pd.DataFrame(play_predictions, columns=['play_class_0', 'play_class_1'], index=X_play.index)\n",
    "\n",
    "# Combine the aligned predictions\n",
    "combined_predictions = pd.concat([meal_predictions_df, play_predictions_df], axis=1).dropna()\n",
    "combined_labels = pd.concat([y_meal, y_play], axis=1).dropna().iloc[:,0]\n",
    "\n",
    "# Define the meta-model\n",
    "meta_model = SVC(kernel='rbf', probability=True)\n",
    "\n",
    "\n",
    "# Define the parameter grid for the meta-model\n",
    "param_grid = {\n",
    "    'C': [0.01, 0.1, 1, 10, 100],\n",
    "    'gamma': [0.01, 0.1, 1, 10, 100]\n",
    "}\n",
    "\n",
    "# Perform grid search for the meta-model\n",
    "grid_search = GridSearchCV(meta_model, param_grid, cv=cv, scoring='accuracy')\n",
    "grid_search.fit(combined_predictions, combined_labels)\n",
    "\n",
    "# Evaluate the best meta-model using cross-validation\n",
    "best_meta_model = grid_search.best_estimator_\n",
    "cross_val_scores = cross_val_score(best_meta_model, combined_predictions, combined_labels, cv=cv, scoring='accuracy')\n",
    "\n",
    "# Calculate cross-validated accuracy, F1 score, precision, and recall\n",
    "meta_predictions = cross_val_predict(best_meta_model, combined_predictions, combined_labels, cv=cv)\n",
    "accuracy = accuracy_score(combined_labels, meta_predictions)\n",
    "f1 = f1_score(combined_labels, meta_predictions, average='weighted')\n",
    "precision = precision_score(combined_labels, meta_predictions, average='weighted')\n",
    "recall = recall_score(combined_labels, meta_predictions, average='weighted')\n",
    "\n",
    "print(f'Best Meta-Model Parameters: {grid_search.best_params_}')\n",
    "print(f'Cross-Validated Accuracy: {cross_val_scores.mean()}')\n",
    "print(f'Accuracy: {accuracy}')\n",
    "print(f'F1 Score: {f1}')\n",
    "print(f'Precision: {precision}')\n",
    "print(f'Recall: {recall}')"
   ]
  },
  {
   "cell_type": "markdown",
   "metadata": {},
   "source": [
    "# Looking at relationship between the two models"
   ]
  },
  {
   "cell_type": "code",
   "execution_count": null,
   "metadata": {},
   "outputs": [],
   "source": [
    "## correlations between the two models \n",
    "# Get predictions from the LR model\n",
    "meal_predictions =  pipeline_meal.predict_proba(meal_data_filtered.iloc[:,:-3])[:,1]\n",
    "\n",
    "# Get predictions from the MLP model\n",
    "play_predictions = pipeline_play.predict_proba(play_data_filtered.iloc[:,:-3])[:,1]\n",
    "\n"
   ]
  },
  {
   "cell_type": "code",
   "execution_count": null,
   "metadata": {},
   "outputs": [],
   "source": [
    "# Compute the correlation between the predictions\n"
   ]
  },
  {
   "cell_type": "code",
   "execution_count": null,
   "metadata": {},
   "outputs": [],
   "source": [
    "cv = KFold(n_splits=5, shuffle=True, random_state=0)"
   ]
  },
  {
   "cell_type": "code",
   "execution_count": null,
   "metadata": {},
   "outputs": [],
   "source": [
    "predictions_meal = cross_val_predict(pipeline_meal, meal_data_filtered.iloc[:,:-3], combined_labels, cv=cv)\n",
    "predictions_play = cross_val_predict(pipeline_play, play_data_filtered.iloc[:,:-3], combined_labels, cv=cv)"
   ]
  },
  {
   "cell_type": "code",
   "execution_count": null,
   "metadata": {},
   "outputs": [],
   "source": [
    "meals = []\n",
    "plays = []\n",
    "\n",
    "for i in range(10):\n",
    "    cv = KFold(n_splits=5, shuffle=True, random_state=i)\n",
    "    meals.append(cross_val_predict(pipeline_meal, meal_data_filtered.iloc[:,:-3], combined_labels, cv=cv))\n",
    "    plays.append(cross_val_predict(pipeline_play, play_data_filtered.iloc[:,:-3], combined_labels, cv=cv))"
   ]
  },
  {
   "cell_type": "code",
   "execution_count": null,
   "metadata": {},
   "outputs": [],
   "source": [
    "from scipy.stats import pearsonr\n",
    "correlations = []\n",
    "for x, y in zip(meals, plays):\n",
    "    correlation, p_value = pearsonr(x, y)\n",
    "    correlations.append(correlation)\n",
    "\n",
    "print(f\"Correlation between LR and MLP model predictions: {np.mean(correlations)}\")"
   ]
  },
  {
   "cell_type": "code",
   "execution_count": null,
   "metadata": {},
   "outputs": [],
   "source": [
    "from sklearn.metrics import cohen_kappa_score\n",
    "kappa_avg = []\n",
    "# Calculate Cohen's Kappa\n",
    "for x, y in zip (meals, plays):\n",
    "    kappa_score = cohen_kappa_score(x, y)\n",
    "    kappa_avg.append(kappa_score)\n",
    "print(\"Cohen's Kappa score:\", np.mean(kappa_avg))\n"
   ]
  },
  {
   "cell_type": "code",
   "execution_count": null,
   "metadata": {},
   "outputs": [],
   "source": [
    "from statsmodels.stats.contingency_tables import mcnemar\n",
    "from sklearn.metrics import confusion_matrix\n",
    "p_values = []\n",
    "for x, y in zip (meals, plays):\n",
    "    contingency_table = confusion_matrix(predictions_play, predictions_meal)\n",
    "    result = mcnemar(contingency_table)\n",
    "    p_values.append(result.pvalue)\n",
    "\n",
    "\n",
    "print(\"McNemar's test p-value:\", np.mean(p_values))"
   ]
  },
  {
   "cell_type": "code",
   "execution_count": null,
   "metadata": {},
   "outputs": [],
   "source": [
    "agreements = []\n",
    "for x,y in zip(meals, plays):\n",
    "    agreement_rate = np.mean(x == y)\n",
    "    agreements.append(agreement_rate)\n",
    "\n",
    "print(\"Prediction Agreement Rate:\", np.mean(agreements))"
   ]
  },
  {
   "cell_type": "markdown",
   "metadata": {},
   "source": [
    "# Getting the accuracy for the cases where the two classifiers output the same prediction"
   ]
  },
  {
   "cell_type": "code",
   "execution_count": null,
   "metadata": {},
   "outputs": [],
   "source": [
    "meal_data_filtered.iloc[:,-1]"
   ]
  },
  {
   "cell_type": "code",
   "execution_count": null,
   "metadata": {},
   "outputs": [],
   "source": [
    "predictions_play"
   ]
  },
  {
   "cell_type": "code",
   "execution_count": null,
   "metadata": {},
   "outputs": [],
   "source": [
    "same_predictions_indices = predictions_meal == predictions_play\n",
    "filtered_meal_data = meal_data_filtered[same_predictions_indices]\n",
    "filtered_play_data = play_data_filtered[same_predictions_indices]\n",
    "\n",
    "\n",
    "true_labels_meal = meal_data_filtered.iloc[:, -1][same_predictions_indices]\n",
    "true_labels_play = play_data_filtered.iloc[:, -1][same_predictions_indices]\n",
    "\n",
    "# Calculate accuracy score\n",
    "accuracy_meal = accuracy_score(true_labels_meal, predictions_meal[same_predictions_indices])\n",
    "accuracy_play = accuracy_score(true_labels_play, predictions_play[same_predictions_indices])\n",
    "# Calculate precision, recall, and f1 score\n",
    "precision_meal = precision_score(true_labels_meal, predictions_meal[same_predictions_indices], average='weighted')\n",
    "recall_meal = recall_score(true_labels_meal, predictions_meal[same_predictions_indices], average='weighted')\n",
    "f1_meal = f1_score(true_labels_meal, predictions_meal[same_predictions_indices], average='weighted')\n",
    "\n",
    "precision_play = precision_score(true_labels_play, predictions_play[same_predictions_indices], average='weighted')\n",
    "recall_play = recall_score(true_labels_play, predictions_play[same_predictions_indices], average='weighted')\n",
    "f1_play = f1_score(true_labels_play, predictions_play[same_predictions_indices], average='weighted')\n",
    "\n",
    "\n",
    "\n",
    "print(f\"Accuracy for same predictions: {accuracy_play}\")\n",
    "print(f\"Precision for same predictions: {precision_play}\")\n",
    "print(f\"Recall for same predictions: {recall_play}\")\n",
    "print(f\"F1 Score for same predictions: {f1_play}\")"
   ]
  },
  {
   "cell_type": "code",
   "execution_count": null,
   "metadata": {},
   "outputs": [],
   "source": [
    "accuracies = []\n",
    "precisions = []\n",
    "recalls = []\n",
    "f1_scores = []\n",
    "lenghts = []\n",
    "for x,y in zip(meals, plays):\n",
    "    same_predictions_indices = x == y\n",
    "    filtered_meal_data = meal_data_filtered[same_predictions_indices]\n",
    "    filtered_play_data = play_data_filtered[same_predictions_indices]\n",
    "    lenghts.append(len(filtered_meal_data))\n",
    "    true_labels_meal = meal_data_filtered.iloc[:, -1][same_predictions_indices]\n",
    "    true_labels_play = play_data_filtered.iloc[:, -1][same_predictions_indices]\n",
    "    # Calculate accuracy score\n",
    "    accuracy_meal = accuracy_score(true_labels_meal, x[same_predictions_indices])\n",
    "    # Calculate precision, recall, and f1 score\n",
    "    precision_meal = precision_score(true_labels_meal, x[same_predictions_indices], average='weighted')\n",
    "    recall_meal = recall_score(true_labels_meal, x[same_predictions_indices], average='weighted')\n",
    "    f1_meal = f1_score(true_labels_meal, x[same_predictions_indices], average='weighted')\n",
    "    accuracies.append(accuracy_meal)\n",
    "    precisions.append(precision_meal)\n",
    "    recalls.append(recall_meal)\n",
    "    f1_scores.append(f1_meal)\n",
    "\n",
    "\n",
    "print(f\"Accuracy for same predictions: {np.mean(accuracies)}\")\n",
    "print(f\"Precision for same predictions: {np.mean(precisions)}\")\n",
    "print(f\"Recall for same predictions: {np.mean(recalls)}\")\n",
    "print(f\"F1 Score for same predictions: {np.mean(f1_scores)}\")\n",
    "print(f\"Number of same predictions: {np.mean(lenghts)}\")"
   ]
  },
  {
   "cell_type": "code",
   "execution_count": null,
   "metadata": {},
   "outputs": [],
   "source": [
    "len(filtered_play_data)"
   ]
  },
  {
   "cell_type": "code",
   "execution_count": null,
   "metadata": {},
   "outputs": [],
   "source": [
    "33.5/49"
   ]
  },
  {
   "cell_type": "code",
   "execution_count": null,
   "metadata": {},
   "outputs": [],
   "source": [
    "combined_data"
   ]
  },
  {
   "cell_type": "code",
   "execution_count": null,
   "metadata": {},
   "outputs": [],
   "source": [
    "combined_data.iloc[:,:-3]"
   ]
  },
  {
   "cell_type": "code",
   "execution_count": null,
   "metadata": {},
   "outputs": [],
   "source": [
    "X"
   ]
  },
  {
   "cell_type": "code",
   "execution_count": null,
   "metadata": {},
   "outputs": [],
   "source": [
    "weights = [0.6, 0.4]  # Adjust these weights based on model performance\n",
    "\n",
    "# Initialize lists to store the evaluation metrics\n",
    "f1_scores = []\n",
    "precision_scores = []\n",
    "recall_scores = []\n",
    "accuracy_scores = []\n",
    "gkf = GroupKFold(n_splits=5)\n",
    "X = combined_data.iloc[:,:-3]\n",
    "y = combined_data['label'].iloc[:,0]\n",
    "groups = combined_data.index\n",
    "# Perform manual cross-validation\n",
    "for train_index, test_index in gkf.split(X, y, groups=groups):\n",
    "    X_train, X_test = X.iloc[train_index], X.iloc[test_index]\n",
    "    y_train, y_test = y.iloc[train_index], y.iloc[test_index]\n",
    "    \n",
    "    # Fit the base models\n",
    "    for name, model in base_models:\n",
    "        model.fit(X_train, y_train)\n",
    "    \n",
    "    # Get the predicted probabilities from each base model\n",
    "    meal_probs = pipeline_meal.predict_proba(X_test)[:, 1]\n",
    "    play_probs = pipeline_play.predict_proba(X_test)[:, 1]\n",
    "    \n",
    "    # Combine the predicted probabilities using weighted averaging\n",
    "    combined_probs = (weights[0] * meal_probs) + (weights[1] * play_probs)\n",
    "    \n",
    "    # Convert combined probabilities to class predictions\n",
    "    combined_preds = np.where(combined_probs > 0.5, 1, 0)\n",
    "    \n",
    "    # Calculate evaluation metrics\n",
    "    f1_scores.append(f1_score(y_test, combined_preds, average='macro'))\n",
    "    precision_scores.append(precision_score(y_test, combined_preds, average='macro'))\n",
    "    recall_scores.append(recall_score(y_test, combined_preds, average='macro'))\n",
    "    accuracy_scores.append(accuracy_score(y_test, combined_preds))\n",
    "\n",
    "# Print the evaluation results\n",
    "print(f\"F1 Score: {np.mean(f1_scores)}\")\n",
    "print(f\"Precision: {np.mean(precision_scores)}\")\n",
    "print(f\"Recall: {np.mean(recall_scores)}\")\n",
    "print(f\"Accuracy: {np.mean(accuracy_scores)}\")"
   ]
  }
 ],
 "metadata": {
  "kernelspec": {
   "display_name": "deepsort",
   "language": "python",
   "name": "python3"
  },
  "language_info": {
   "codemirror_mode": {
    "name": "ipython",
    "version": 3
   },
   "file_extension": ".py",
   "mimetype": "text/x-python",
   "name": "python",
   "nbconvert_exporter": "python",
   "pygments_lexer": "ipython3",
   "version": "3.10.6"
  }
 },
 "nbformat": 4,
 "nbformat_minor": 2
}
