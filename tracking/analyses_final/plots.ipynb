{
 "cells": [
  {
   "cell_type": "code",
   "execution_count": null,
   "metadata": {},
   "outputs": [],
   "source": [
    "import pandas as pd\n",
    "import matplotlib.pyplot as plt \n",
    "import seaborn as sns\n"
   ]
  },
  {
   "cell_type": "code",
   "execution_count": null,
   "metadata": {},
   "outputs": [],
   "source": [
    "data = {'dataset':['Meal', 'Play', 'Combined', 'Combined','Combined'], 'classifier':['SVM', 'SVM', \n",
    "                                                                                        'SVM', 'CNN', 'LSTM'], \n",
    "        'accuracy':[68.0, 54.25, 59.64, 43.08, 44.48], 'std':[3, 4, 0, 5, 4]}\n",
    "df = pd.DataFrame(data)\n",
    "df"
   ]
  },
  {
   "cell_type": "code",
   "execution_count": null,
   "metadata": {},
   "outputs": [],
   "source": [
    "df['std']"
   ]
  },
  {
   "cell_type": "code",
   "execution_count": null,
   "metadata": {},
   "outputs": [],
   "source": [
    "plt.figure(figsize=(10, 6))\n",
    "#sns.catplot(data=df, x='classifier', y='accuracy', hue='dataset', kind='bar', height=6, aspect=1.5)\n",
    "ax = sns.barplot(data=df, x='classifier', y='accuracy', hue='dataset', errorbar=None, capsize=0.1)\n",
    "for bar, std in zip(ax.patches, df['std']):\n",
    "    x = bar.get_x() + bar.get_width() / 2\n",
    "    y = bar.get_height()\n",
    "    ax.errorbar(x, y, yerr=std, fmt='none', c='black', capsize=5)\n",
    "plt.title('Best classifier accuracy for each dataset')\n",
    "plt.xlabel('Classifier')\n",
    "plt.ylabel('Accuracy')\n",
    "plt.xticks(ticks=[0,1.25, 2.25], labels=['SVM', 'CNN', 'LSTM'], rotation=0)\n",
    "plt.legend(loc='upper right')\n",
    "plt.show()"
   ]
  },
  {
   "cell_type": "code",
   "execution_count": null,
   "metadata": {},
   "outputs": [],
   "source": [
    "## visualizing cross evaluation\n",
    "data = {'Training':['Play', 'Meal', 'Play', 'Meal'], 'Evaluation':['Play', 'Play', 'Meal', 'Meal'], \n",
    "        'accuracy':[75.47, 63.30, 59.45, 71.45], 'std':[1.99, 4.28, 4.45, 3.43]}\n",
    "df = pd.DataFrame(data)\n",
    "df"
   ]
  },
  {
   "cell_type": "code",
   "execution_count": null,
   "metadata": {},
   "outputs": [],
   "source": [
    "\n",
    "plt.figure(figsize=(10, 6))\n",
    "ax = sns.barplot(data=df, x='Training', y='accuracy', hue='Evaluation', ci=None, capsize=0.1)\n",
    "for bar, std in zip(ax.patches, df['std']):\n",
    "    x = bar.get_x() + bar.get_width() / 2\n",
    "    y = bar.get_height()\n",
    "    ax.errorbar(x, y, yerr=std, fmt='none', c='black', capsize=5)\n",
    "plt.title('Cross Evaluation Multimodal')\n",
    "plt.xlabel('Training data')\n",
    "plt.ylabel('Accuracy')\n",
    "plt.legend(loc='upper right',  bbox_to_anchor=(0.9, 1.15), ncol=3)\n",
    "plt.show()"
   ]
  },
  {
   "cell_type": "code",
   "execution_count": null,
   "metadata": {},
   "outputs": [],
   "source": [
    "df"
   ]
  },
  {
   "cell_type": "code",
   "execution_count": null,
   "metadata": {},
   "outputs": [],
   "source": [
    "data = {'features':['Caregiver Prosody', 'Caregiver MFCC', 'Caregiver Prosody', 'Caregiver MFCC','Child Prosody', 'Child MFCC'], 'scenario':['Meal', 'Meal', \n",
    "                                                                                        'Play', 'Play', 'Meal', 'Meal'], \n",
    "        'accuracy':[49.28, 48.16, 50.81, 46.31, 50.55, 46.51]}\n",
    "df = pd.DataFrame(data)\n",
    "df"
   ]
  },
  {
   "cell_type": "code",
   "execution_count": null,
   "metadata": {},
   "outputs": [],
   "source": [
    "plt.figure(figsize=(10, 6))\n",
    "#sns.catplot(data=df, x='classifier', y='accuracy', hue='dataset', kind='bar', height=6, aspect=1.5)\n",
    "custom_palette = {'Play': 'blue', 'Meal': 'orange'}\n",
    "ax = sns.barplot(data=df, x='features', y='accuracy', hue='scenario', palette= custom_palette)\n",
    "\n",
    "plt.title('Best classifier accuracy for each dataset')\n",
    "plt.xlabel('Feature set')\n",
    "plt.ylabel('Accuracy')\n",
    "plt.legend(loc='upper right')\n",
    "plt.show()"
   ]
  }
 ],
 "metadata": {
  "kernelspec": {
   "display_name": "deepsort",
   "language": "python",
   "name": "python3"
  },
  "language_info": {
   "codemirror_mode": {
    "name": "ipython",
    "version": 3
   },
   "file_extension": ".py",
   "mimetype": "text/x-python",
   "name": "python",
   "nbconvert_exporter": "python",
   "pygments_lexer": "ipython3",
   "version": "3.10.6"
  }
 },
 "nbformat": 4,
 "nbformat_minor": 2
}
