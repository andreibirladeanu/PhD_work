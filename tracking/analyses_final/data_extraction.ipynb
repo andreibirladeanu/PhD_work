{
 "cells": [
  {
   "cell_type": "code",
   "execution_count": null,
   "metadata": {},
   "outputs": [],
   "source": [
    "import os\n",
    "import sys\n",
    "import pandas as pd\n",
    "import matplotlib.pyplot as plt \n",
    "import numpy as np\n",
    "from sorted_alpha import sorted_alpha"
   ]
  },
  {
   "cell_type": "markdown",
   "metadata": {},
   "source": [
    "# the first 2 minutes of each video "
   ]
  },
  {
   "cell_type": "code",
   "execution_count": null,
   "metadata": {},
   "outputs": [],
   "source": [
    "import os\n",
    "import pandas as pd\n",
    "\n",
    "folder_name = '/Users/andrei-macpro/Documents/Data/openpose/play/tracking/tracking/1206_play_1'\n",
    "\n",
    "tracks = []\n",
    "f_names = sorted_alpha(folder_name)\n",
    "for filename in f_names:\n",
    "    # load the file in a pandas dataframe\n",
    "    print(filename)\n",
    "    filepath = os.path.join(folder_name, filename)\n",
    "    df = pd.read_csv(filepath)\n",
    "    df = df[~df.index.duplicated(keep='first')]\n",
    "    tracks.append(df)\n",
    "\n",
    "# Function to average x, y values for every 50 rows in the first 3000 frames \n",
    "def average_xy(df):\n",
    "    averaged_data = []\n",
    "    df = df[df.index < 3000]\n",
    "    \n",
    "    # Iterate through the DataFrame in chunks of 50 frames\n",
    "    for i in range(0, len(df), 50):\n",
    "        chunk = df.iloc[i:i+50]\n",
    "        \n",
    "        \n",
    "        # Calculate the average x and y values for the chunk\n",
    "        avg_x = chunk['x'].mean()\n",
    "        avg_y = chunk['y'].mean()\n",
    "        averaged_data.append({'frame': chunk.index[0], 'avg_x': avg_x, 'avg_y': avg_y})\n",
    "    \n",
    "    return pd.DataFrame(averaged_data)\n",
    "\n",
    "# Apply the function to each DataFrame in tracks\n",
    "averaged_tracks = [average_xy(df) for df in tracks]\n",
    "\n",
    "# Print the averaged tracks\n",
    "for i, avg_df in enumerate(averaged_tracks):\n",
    "    print(f\"Averaged DataFrame {i+1}:\\n\", avg_df)\n",
    "\n",
    "# Print the cleaned tracks\n",
    "for i, df in enumerate(tracks):\n",
    "    print(f\"Cleaned DataFrame {i+1}:\\n\", df)"
   ]
  },
  {
   "cell_type": "code",
   "execution_count": null,
   "metadata": {},
   "outputs": [],
   "source": [
    "averaged_tracks[0]"
   ]
  },
  {
   "cell_type": "code",
   "execution_count": null,
   "metadata": {},
   "outputs": [],
   "source": [
    "combined = pd.merge(averaged_tracks[0], averaged_tracks[1], on='frame', suffixes=('_caregiver', '_child'))\n",
    "print(\"Aligned Positions Data:\")\n",
    "print(combined)"
   ]
  },
  {
   "cell_type": "code",
   "execution_count": null,
   "metadata": {},
   "outputs": [],
   "source": [
    "# Calculate the differences between consecutive rows for 'avg_x_child' and 'avg_y_child'\n",
    "diff_x = combined['avg_x_child'].diff().dropna()\n",
    "diff_y = combined['avg_y_child'].diff().dropna()\n",
    "\n",
    "# Calculate the Euclidean distance\n",
    "child_movement = np.sqrt(diff_x**2 + diff_y**2)\n",
    "print(\"Euclidean differences between consecutive rows for 'avg_x_child' and 'avg_y_child':\")\n",
    "print(euclidean_distances)"
   ]
  },
  {
   "cell_type": "code",
   "execution_count": null,
   "metadata": {},
   "outputs": [],
   "source": [
    "# Calculate the Euclidean distances between avg x and y positions of caregiver and child\n",
    "diff_x = combined['avg_x_caregiver'] - combined['avg_x_child']\n",
    "diff_y = combined['avg_y_caregiver'] - combined['avg_y_child']\n",
    "\n",
    "# Calculate the Euclidean distance\n",
    "proximity = np.sqrt(diff_x**2 + diff_y**2)\n",
    "print(\"Euclidean distances between avg x and y positions of caregiver and child:\")\n",
    "print(euclidean_distances)"
   ]
  },
  {
   "cell_type": "code",
   "execution_count": null,
   "metadata": {},
   "outputs": [],
   "source": [
    "## now for all the files in the folder\n",
    "from moviepy.editor import VideoFileClip\n",
    "video_folder = '/Users/andrei-macpro/Documents/Data/videos/play_videos' \n",
    "\n",
    "durations = []\n",
    "file_names = []\n",
    "\n",
    "for folder_name in sorted(os.listdir(video_folder)):\n",
    "    if folder_name == \".DS_Store\":\n",
    "        continue\n",
    "    file_path = os.path.join(video_folder, folder_name)\n",
    "    if os.path.isfile(file_path):\n",
    "        clip = VideoFileClip(file_path)\n",
    "        print(clip.fps)\n",
    "        durations.append(clip.duration)\n",
    "\n"
   ]
  },
  {
   "cell_type": "code",
   "execution_count": null,
   "metadata": {},
   "outputs": [],
   "source": [
    "# find a way to align the recordings in terms of time\n",
    "durations_meal = pd.Series(durations)\n",
    "durations_meal.sort_values()"
   ]
  },
  {
   "cell_type": "code",
   "execution_count": null,
   "metadata": {},
   "outputs": [],
   "source": [
    "durations_meal.hist()\n"
   ]
  },
  {
   "cell_type": "code",
   "execution_count": null,
   "metadata": {},
   "outputs": [],
   "source": [
    "# find a way to align the recordings in terms of time\n",
    "durations_play = pd.Series(durations)\n",
    "durations_play.sort_values()"
   ]
  },
  {
   "cell_type": "code",
   "execution_count": null,
   "metadata": {},
   "outputs": [],
   "source": [
    "durations_play.hist()"
   ]
  },
  {
   "cell_type": "code",
   "execution_count": null,
   "metadata": {},
   "outputs": [],
   "source": [
    "# the features are child movement, caregiver movement, and proximity \n",
    "# it doesn't make sense to align the recordings of the same participant in terms of time\n",
    "# so find a way to combine them \n",
    "# also resample for same fps \n"
   ]
  },
  {
   "cell_type": "markdown",
   "metadata": {},
   "source": [
    "# Dynamic Time Warping"
   ]
  },
  {
   "cell_type": "code",
   "execution_count": null,
   "metadata": {},
   "outputs": [],
   "source": [
    "# resample all to 25 fps\n",
    "def resample_df(df, original_fps, target_fps):\n",
    "    # Convert frame indices to time-based index\n",
    "    df['time'] = pd.to_timedelta(df.index / original_fps, unit='s')\n",
    "    df.set_index('time', inplace=True)\n",
    "    \n",
    "    # Resample the data to the target fps\n",
    "    resample_interval = f'{int(1e9 / target_fps)}N'  # Nanoseconds interval\n",
    "    df_resampled = df.resample(resample_interval).mean().dropna()\n",
    "    \n",
    "    # Convert time-based index back to frame indices\n",
    "    df_resampled.index = (df_resampled.index.total_seconds() * target_fps).astype(int)\n",
    "    return df_resampled"
   ]
  },
  {
   "cell_type": "code",
   "execution_count": null,
   "metadata": {},
   "outputs": [],
   "source": [
    "tracking_folder = '/Users/andrei-macpro/Documents/Data/openpose/play/tracking/tracking/' \n",
    "video_folder = '/Users/andrei-macpro/Documents/Data/videos/play_videos'   # Assuming video files \n",
    "\n",
    "features_dict = {}\n",
    "for folder_name in sorted(os.listdir(tracking_folder)):\n",
    "    if folder_name == \".DS_Store\":\n",
    "        continue\n",
    "    file_path = os.path.join(tracking_folder, folder_name)\n",
    "    tracks = {}\n",
    "    clip = VideoFileClip(os.path.join(video_folder, folder_name+'.mp4',))\n",
    "    if clip.fps > 25:\n",
    "        for file in sorted(os.listdir(file_path)):\n",
    "            if file == \".DS_Store\":\n",
    "                continue    \n",
    "            filepath = os.path.join(tracking_folder,folder_name, file)\n",
    "            df = pd.read_csv(filepath, index_col=0)\n",
    "            df = df[~df.index.duplicated(keep='first')]\n",
    "            df.columns = ['x_' + file.split('.')[0], 'y_' + file.split('.')[0]]\n",
    "            df_resampled = resample_df(df, original_fps=clip.fps, target_fps=25)\n",
    "            tracks[file.split('.')[0]] = df_resampled\n",
    "        # Combine the resampled DataFrames\n",
    "        combined = pd.concat([df for df in tracks.values()], axis=1).dropna()\n",
    "        # Calculate the differences between consecutive rows for 'x_child' and 'y_child'\n",
    "        diff_x = combined['x_child'].diff().dropna()\n",
    "        diff_y = combined['y_child'].diff().dropna()\n",
    "        child_movement = np.sqrt(diff_x**2 + diff_y**2)\n",
    "        # Calculate the differences between consecutive rows for 'x_cg' and 'y_cg'\n",
    "        diff_x = combined['x_cg'].diff().dropna()\n",
    "        diff_y = combined['y_cg'].diff().dropna()\n",
    "        caregiver_movement = np.sqrt(diff_x**2 + diff_y**2)\n",
    "        # Calculate proximiy\n",
    "        diff_x = combined['x_cg'] - combined['x_child']\n",
    "        diff_y = combined['y_cg'] - combined['y_child']\n",
    "        proximity = np.sqrt(diff_x**2 + diff_y**2)\n",
    "        merged_df = pd.concat([child_movement, caregiver_movement, proximity], axis=1).dropna()\n",
    "        merged_df.columns = ['child_movement', 'caregiver_movement', 'proximity']   \n",
    "        features_dict[int(folder_name.split('_')[0])] = merged_df\n",
    "    else:\n",
    "        for file in sorted(os.listdir(file_path)):\n",
    "            if file == \".DS_Store\":\n",
    "                continue    \n",
    "            filepath = os.path.join(tracking_folder,folder_name, file)\n",
    "            df = pd.read_csv(filepath, index_col=0)\n",
    "            df = df[~df.index.duplicated(keep='first')]\n",
    "            df.columns = ['x_' + file.split('.')[0], 'y_' + file.split('.')[0]]\n",
    "            tracks[file.split('.')[0]] = df\n",
    "        # Combine the resampled DataFrames\n",
    "        combined = pd.concat([df for df in tracks.values()], axis=1).dropna()\n",
    "        # Calculate the differences between consecutive rows for 'x_child' and 'y_child'\n",
    "        diff_x = combined['x_child'].diff().dropna()\n",
    "        diff_y = combined['y_child'].diff().dropna()\n",
    "        child_movement = np.sqrt(diff_x**2 + diff_y**2)\n",
    "        # Calculate the differences between consecutive rows for 'x_cg' and 'y_cg'\n",
    "        diff_x = combined['x_cg'].diff().dropna()\n",
    "        diff_y = combined['y_cg'].diff().dropna()\n",
    "        caregiver_movement = np.sqrt(diff_x**2 + diff_y**2)\n",
    "        # Calculate proximiy\n",
    "        diff_x = combined['x_cg'] - combined['x_child']\n",
    "        diff_y = combined['y_cg'] - combined['y_child']\n",
    "        proximity = np.sqrt(diff_x**2 + diff_y**2)\n",
    "        merged_df = pd.concat([child_movement, caregiver_movement, proximity], axis=1).dropna()\n",
    "        merged_df.columns = ['child_movement', 'caregiver_movement', 'proximity']   \n",
    "        features_dict[int(folder_name.split('_')[0])] = merged_df\n",
    "         \n",
    "\n",
    "\n",
    "\n"
   ]
  },
  {
   "cell_type": "code",
   "execution_count": null,
   "metadata": {},
   "outputs": [],
   "source": [
    "features_dict"
   ]
  },
  {
   "cell_type": "code",
   "execution_count": null,
   "metadata": {},
   "outputs": [],
   "source": [
    "import numpy as np\n",
    "from fastdtw import fastdtw\n",
    "from scipy.spatial.distance import euclidean\n",
    "\n",
    "\n",
    "\n",
    "# Identify the shortest sequence\n",
    "shortest_sequence_key = min(features_dict, key=lambda k: len(features_dict[k]))\n",
    "shortest_sequence = features_dict[shortest_sequence_key]\n",
    "\n",
    "# Align sequences using DTW\n",
    "aligned_features_dict = {}\n",
    "\n",
    "for key, sequence in features_dict.items():\n",
    "    print(f\"Aligning sequence for {key}...\")\n",
    "    if key == shortest_sequence_key:\n",
    "        aligned_features_dict[key] = sequence\n",
    "        continue\n",
    "    \n",
    "    # Perform DTW alignment\n",
    "    distance, path = fastdtw(sequence, shortest_sequence, dist=euclidean)\n",
    "\n",
    "    # Create an aligned sequence based on the DTW path\n",
    "    aligned_sequence = pd.DataFrame(np.zeros_like(shortest_sequence.values), columns=shortest_sequence.columns)\n",
    "    for (i, j) in path:\n",
    "        aligned_sequence.iloc[j] = sequence.iloc[i]\n",
    "        # Interpolate to fill in any gaps\n",
    "    aligned_sequence = aligned_sequence.interpolate(method='linear', limit_direction='both')\n",
    "    aligned_features_dict[key] = aligned_sequence\n",
    "\n",
    "# Print the aligned features\n",
    "for key, aligned_sequence in aligned_features_dict.items():\n",
    "    print(f\"Aligned sequence for {key}:\")\n",
    "    print(aligned_sequence)"
   ]
  },
  {
   "cell_type": "code",
   "execution_count": null,
   "metadata": {},
   "outputs": [],
   "source": [
    "# turn all the sequences into numpy arrays then use PCA\n",
    "\n",
    "\n"
   ]
  },
  {
   "cell_type": "code",
   "execution_count": null,
   "metadata": {},
   "outputs": [],
   "source": [
    "next(iter(aligned_features_dict.values()))"
   ]
  },
  {
   "cell_type": "code",
   "execution_count": null,
   "metadata": {},
   "outputs": [],
   "source": [
    "list(aligned_features_dict.values())[-1]"
   ]
  },
  {
   "cell_type": "code",
   "execution_count": null,
   "metadata": {},
   "outputs": [],
   "source": [
    "shortest_sequence_key"
   ]
  }
 ],
 "metadata": {
  "kernelspec": {
   "display_name": "deepsort",
   "language": "python",
   "name": "python3"
  },
  "language_info": {
   "codemirror_mode": {
    "name": "ipython",
    "version": 3
   },
   "file_extension": ".py",
   "mimetype": "text/x-python",
   "name": "python",
   "nbconvert_exporter": "python",
   "pygments_lexer": "ipython3",
   "version": "3.10.6"
  }
 },
 "nbformat": 4,
 "nbformat_minor": 2
}
