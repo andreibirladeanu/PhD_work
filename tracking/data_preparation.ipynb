{
 "cells": [
  {
   "cell_type": "code",
   "execution_count": null,
   "metadata": {},
   "outputs": [],
   "source": [
    "import os\n",
    "import sys\n",
    "import pandas as pd"
   ]
  },
  {
   "cell_type": "code",
   "execution_count": null,
   "metadata": {},
   "outputs": [],
   "source": [
    "folder_name = '/Users/andrei-macpro/Documents/Data/openpose/play/tracking/tracking/1206_play_1'"
   ]
  },
  {
   "cell_type": "code",
   "execution_count": null,
   "metadata": {},
   "outputs": [],
   "source": [
    "# do it for one folder first\n",
    "# load each file in a pandas dataframe\n",
    "\n",
    "tracks = []\n",
    "for filename in sorted(os.listdir(folder_name)):\n",
    "        # load the file in a pandas dataframe\n",
    "    print(filename)\n",
    "    filepath = os.path.join(folder_name, filename)\n",
    "    df = pd.read_csv(filepath, index_col=0)\n",
    "    tracks.append(df)\n"
   ]
  },
  {
   "cell_type": "code",
   "execution_count": null,
   "metadata": {},
   "outputs": [],
   "source": [
    "df1 = tracks[0] # check for missing values\n"
   ]
  },
  {
   "cell_type": "code",
   "execution_count": null,
   "metadata": {},
   "outputs": [],
   "source": [
    "df1"
   ]
  },
  {
   "cell_type": "code",
   "execution_count": null,
   "metadata": {},
   "outputs": [],
   "source": [
    "# plot a 2d graph of x and y\n",
    "\n",
    "# cg\n",
    "\n",
    "import matplotlib.pyplot as plt \n",
    "import numpy as np\n",
    "plt.subplot(1, 2, 1)\n",
    "plt.plot(df1.index, df1['x'], label='x')\n",
    "plt.xlabel('Time')\n",
    "plt.ylabel('X')\n",
    "plt.title('X over Time')\n",
    "plt.legend()\n",
    "\n",
    "plt.subplot(1, 2, 1)\n",
    "plt.plot(df1.index, df1['y'], label='x')\n",
    "plt.xlabel('Time')\n",
    "plt.ylabel('Y')\n",
    "plt.title('Y over Time')\n",
    "plt.legend()\n",
    "\n",
    "plt.tight_layout()\n",
    "plt.show()"
   ]
  },
  {
   "cell_type": "code",
   "execution_count": null,
   "metadata": {},
   "outputs": [],
   "source": [
    "df2 = tracks[1]\n",
    "\n",
    "# CG\n",
    "\n",
    "plt.subplot(1, 2, 1)\n",
    "plt.plot(df2.index, df2['x'], label='x')\n",
    "plt.xlabel('Time')\n",
    "plt.ylabel('X')\n",
    "plt.title('X over Time')\n",
    "plt.legend()\n",
    "\n",
    "plt.subplot(1, 2, 1)\n",
    "plt.plot(df2.index, df2['y'], label='x')\n",
    "plt.xlabel('Time')\n",
    "plt.ylabel('Y')\n",
    "plt.title('Y over Time')\n",
    "plt.legend()\n",
    "\n",
    "plt.tight_layout()\n",
    "plt.show()"
   ]
  },
  {
   "cell_type": "code",
   "execution_count": null,
   "metadata": {},
   "outputs": [],
   "source": [
    "plt.subplot(1, 2, 1)\n",
    "plt.plot(df1.index, df1['x'], label='x')\n",
    "plt.xlabel('x')\n",
    "plt.ylabel('X')\n",
    "plt.title('X over Time')\n",
    "plt.legend()\n",
    "\n",
    "plt.subplot(1, 2, 1)\n",
    "plt.plot(df1.index, df1['y'], label='y')\n",
    "plt.xlabel('Time')\n",
    "plt.ylabel('pixel')\n",
    "plt.title('cg')\n",
    "plt.legend()\n",
    "\n",
    "plt.tight_layout()\n",
    "plt.show()\n",
    "\n",
    "\n",
    "plt.subplot(1, 2, 1)\n",
    "plt.plot(df2.index, df2['x'], label='x')\n",
    "plt.xlabel('x')\n",
    "plt.ylabel('X')\n",
    "plt.title('X over Time')\n",
    "plt.legend()\n",
    "\n",
    "plt.subplot(1, 2, 1)\n",
    "plt.plot(df2.index, df2['y'], label='y')\n",
    "plt.xlabel('Time')\n",
    "plt.ylabel('pixel')\n",
    "plt.title('child')\n",
    "plt.legend()\n",
    "\n",
    "plt.tight_layout()\n",
    "plt.show()"
   ]
  },
  {
   "cell_type": "code",
   "execution_count": null,
   "metadata": {},
   "outputs": [],
   "source": [
    "plt.figure(figsize=(10, 5))\n",
    "\n",
    "# Plot 'x' from df1\n",
    "plt.plot(df1.index, df1['x'], label='cg x')\n",
    "\n",
    "# Plot 'x' from df2\n",
    "plt.plot(df2.index, df2['x'], label='child x')\n",
    "\n",
    "plt.xlabel('Time')\n",
    "plt.ylabel('X')\n",
    "plt.title('X over Time')\n",
    "plt.legend()\n",
    "\n",
    "plt.tight_layout()\n",
    "plt.show()"
   ]
  },
  {
   "cell_type": "code",
   "execution_count": null,
   "metadata": {},
   "outputs": [],
   "source": [
    "df1['x_shifted'] = df1['x'].shift()\n",
    "df1['y_shifted'] = df1['y'].shift()\n",
    "\n",
    "df1['euclidean_diff'] = ((df1['x'] - df1['x_shifted'])**2 + (df1['y'] - df1['y_shifted'])**2)**0.5\n",
    "\n",
    "# Drop the rows with NaN values\n",
    "df1 = df1.dropna()"
   ]
  },
  {
   "cell_type": "code",
   "execution_count": null,
   "metadata": {},
   "outputs": [],
   "source": [
    "df1['x_shifted'] = df1['x'].shift()\n",
    "df1['y_shifted'] = df1['y'].shift()\n",
    "\n",
    "df1['euclidean_diff'] = ((df1['x'] - df1['x_shifted'])**2 + (df1['y'] - df1['y_shifted'])**2)**0.5\n"
   ]
  },
  {
   "cell_type": "code",
   "execution_count": null,
   "metadata": {},
   "outputs": [],
   "source": [
    "df1"
   ]
  },
  {
   "cell_type": "code",
   "execution_count": null,
   "metadata": {},
   "outputs": [],
   "source": [
    "df1"
   ]
  },
  {
   "cell_type": "code",
   "execution_count": null,
   "metadata": {},
   "outputs": [],
   "source": [
    "# Calculate z-scores for x and y columns\n",
    "from scipy.stats import zscore\n",
    "z_scores_x = zscore(df1['x'])\n",
    "z_scores_y = zscore(df1['y'])\n",
    "\n",
    "# Define threshold for z-score (e.g., 3)\n",
    "threshold = 3\n",
    "\n",
    "# Identify outliers based on z-scores\n",
    "outliers_x = df1[abs(z_scores_x) > threshold]\n",
    "outliers_y = df1[abs(z_scores_y) > threshold]\n",
    "\n",
    "# Remove outliers from DataFrame\n",
    "cleaned_df = df1[~df1.index.isin(outliers_x.index) & ~df1.index.isin(outliers_y.index)]"
   ]
  },
  {
   "cell_type": "code",
   "execution_count": null,
   "metadata": {},
   "outputs": [],
   "source": [
    "cleaned_df #### nooooice "
   ]
  }
 ],
 "metadata": {
  "kernelspec": {
   "display_name": "deepsort",
   "language": "python",
   "name": "python3"
  },
  "language_info": {
   "codemirror_mode": {
    "name": "ipython",
    "version": 3
   },
   "file_extension": ".py",
   "mimetype": "text/x-python",
   "name": "python",
   "nbconvert_exporter": "python",
   "pygments_lexer": "ipython3",
   "version": "3.10.6"
  }
 },
 "nbformat": 4,
 "nbformat_minor": 2
}
