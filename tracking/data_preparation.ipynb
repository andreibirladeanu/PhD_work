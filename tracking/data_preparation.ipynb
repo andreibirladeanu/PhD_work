{
 "cells": [
  {
   "cell_type": "code",
   "execution_count": null,
   "metadata": {},
   "outputs": [],
   "source": [
    "import os\n",
    "import sys\n",
    "import pandas as pd\n",
    "import matplotlib.pyplot as plt \n",
    "import numpy as np"
   ]
  },
  {
   "cell_type": "code",
   "execution_count": null,
   "metadata": {},
   "outputs": [],
   "source": [
    "folder_name = '/Users/andrei-macpro/Documents/Data/openpose/play/tracking/tracking/1206_play_1'"
   ]
  },
  {
   "cell_type": "code",
   "execution_count": null,
   "metadata": {},
   "outputs": [],
   "source": [
    "# do it for one folder first\n",
    "# load each file in a pandas dataframe\n",
    "\n",
    "tracks = []\n",
    "for filename in sorted(os.listdir(folder_name)):\n",
    "        # load the file in a pandas dataframe\n",
    "    print(filename)\n",
    "    filepath = os.path.join(folder_name, filename)\n",
    "    df = pd.read_csv(filepath, index_col=0)\n",
    "    tracks.append(df)\n"
   ]
  },
  {
   "cell_type": "code",
   "execution_count": null,
   "metadata": {},
   "outputs": [],
   "source": [
    "df1 = tracks[0] # check for missing values\n"
   ]
  },
  {
   "cell_type": "code",
   "execution_count": null,
   "metadata": {},
   "outputs": [],
   "source": [
    "df1"
   ]
  },
  {
   "cell_type": "code",
   "execution_count": null,
   "metadata": {},
   "outputs": [],
   "source": [
    "# save df1 to csv\n",
    "df1.to_csv('df1.csv')"
   ]
  },
  {
   "cell_type": "code",
   "execution_count": null,
   "metadata": {},
   "outputs": [],
   "source": [
    "# plot a 2d graph of x and y\n",
    "\n",
    "# cg\n",
    "\n",
    "\n",
    "plt.subplot(1, 2, 1)\n",
    "plt.plot(df1.index, df1['x'], label='x')\n",
    "plt.xlabel('Time')\n",
    "plt.ylabel('X')\n",
    "plt.title('X over Time')\n",
    "plt.legend()\n",
    "\n",
    "plt.subplot(1, 2, 1)\n",
    "plt.plot(df1.index, df1['y'], label='x')\n",
    "plt.xlabel('Time')\n",
    "plt.ylabel('Y')\n",
    "plt.title('Y over Time')\n",
    "plt.legend()\n",
    "\n",
    "plt.tight_layout()\n",
    "plt.show()"
   ]
  },
  {
   "cell_type": "code",
   "execution_count": null,
   "metadata": {},
   "outputs": [],
   "source": [
    "df2 = tracks[1]\n",
    "\n",
    "# CG\n",
    "\n",
    "plt.subplot(1, 2, 1)\n",
    "plt.plot(df2.index, df2['x'], label='x')\n",
    "plt.xlabel('Time')\n",
    "plt.ylabel('X')\n",
    "plt.title('X over Time')\n",
    "plt.legend()\n",
    "\n",
    "plt.subplot(1, 2, 1)\n",
    "plt.plot(df2.index, df2['y'], label='x')\n",
    "plt.xlabel('Time')\n",
    "plt.ylabel('Y')\n",
    "plt.title('Y over Time')\n",
    "plt.legend()\n",
    "\n",
    "plt.tight_layout()\n",
    "plt.show()"
   ]
  },
  {
   "cell_type": "code",
   "execution_count": null,
   "metadata": {},
   "outputs": [],
   "source": [
    "plt.subplot(1, 2, 1)\n",
    "plt.plot(df1.index, df1['x'], label='x')\n",
    "plt.xlabel('x')\n",
    "plt.ylabel('X')\n",
    "plt.title('X over Time')\n",
    "plt.legend()\n",
    "\n",
    "plt.subplot(1, 2, 1)\n",
    "plt.plot(df1.index, df1['y'], label='y')\n",
    "plt.xlabel('Time')\n",
    "plt.ylabel('pixel')\n",
    "plt.title('cg')\n",
    "plt.legend()\n",
    "\n",
    "plt.tight_layout()\n",
    "plt.show()\n",
    "\n",
    "\n",
    "plt.subplot(1, 2, 1)\n",
    "plt.plot(df2.index, df2['x'], label='x')\n",
    "plt.xlabel('x')\n",
    "plt.ylabel('X')\n",
    "plt.title('X over Time')\n",
    "plt.legend()\n",
    "\n",
    "plt.subplot(1, 2, 1)\n",
    "plt.plot(df2.index, df2['y'], label='y')\n",
    "plt.xlabel('Time')\n",
    "plt.ylabel('pixel')\n",
    "plt.title('child')\n",
    "plt.legend()\n",
    "\n",
    "plt.tight_layout()\n",
    "plt.show()"
   ]
  },
  {
   "cell_type": "code",
   "execution_count": null,
   "metadata": {},
   "outputs": [],
   "source": [
    "plt.figure(figsize=(10, 5))\n",
    "\n",
    "# Plot 'x' from df1\n",
    "plt.plot(df1.index, df1['x'], label='cg x')\n",
    "\n",
    "# Plot 'x' from df2\n",
    "plt.plot(df2.index, df2['x'], label='child x')\n",
    "\n",
    "plt.xlabel('Time')\n",
    "plt.ylabel('X')\n",
    "plt.title('X over Time')\n",
    "plt.legend()\n",
    "\n",
    "plt.tight_layout()\n",
    "plt.show()"
   ]
  },
  {
   "cell_type": "code",
   "execution_count": null,
   "metadata": {},
   "outputs": [],
   "source": [
    "df1['x_shifted'] = df1['x'].shift()\n",
    "df1['y_shifted'] = df1['y'].shift()\n",
    "\n",
    "df1['euclidean_diff'] = ((df1['x'] - df1['x_shifted'])**2 + (df1['y'] - df1['y_shifted'])**2)**0.5\n",
    "\n",
    "# Drop the rows with NaN values\n",
    "df1 = df1.dropna()"
   ]
  },
  {
   "cell_type": "code",
   "execution_count": null,
   "metadata": {},
   "outputs": [],
   "source": [
    "df1['x_shifted'] = df1['x'].shift()\n",
    "df1['y_shifted'] = df1['y'].shift()\n",
    "\n",
    "df1['euclidean_diff'] = ((df1['x'] - df1['x_shifted'])**2 + (df1['y'] - df1['y_shifted'])**2)**0.5\n"
   ]
  },
  {
   "cell_type": "code",
   "execution_count": null,
   "metadata": {},
   "outputs": [],
   "source": [
    "df1"
   ]
  },
  {
   "cell_type": "code",
   "execution_count": null,
   "metadata": {},
   "outputs": [],
   "source": [
    "df1"
   ]
  },
  {
   "cell_type": "code",
   "execution_count": null,
   "metadata": {},
   "outputs": [],
   "source": [
    "# Calculate z-scores for x and y columns\n",
    "from scipy.stats import zscore\n",
    "z_scores_x = zscore(df1['x'])\n",
    "z_scores_y = zscore(df1['y'])\n",
    "\n",
    "# Define threshold for z-score (e.g., 3)\n",
    "threshold = 3\n",
    "\n",
    "# Identify outliers based on z-scores\n",
    "outliers_x = df1[abs(z_scores_x) > threshold]\n",
    "outliers_y = df1[abs(z_scores_y) > threshold]\n",
    "\n",
    "# Remove outliers from DataFrame\n",
    "cleaned_df = df1[~df1.index.isin(outliers_x.index) & ~df1.index.isin(outliers_y.index)]"
   ]
  },
  {
   "cell_type": "code",
   "execution_count": null,
   "metadata": {},
   "outputs": [],
   "source": [
    "cleaned_df #### nooooice "
   ]
  },
  {
   "cell_type": "code",
   "execution_count": null,
   "metadata": {},
   "outputs": [],
   "source": [
    "import numpy as np\n",
    "\n",
    "def calculate_velocity(pos1, pos2, time_diff):\n",
    "    distance = np.linalg.norm(np.array(pos2) - np.array(pos1))\n",
    "    velocity = distance / time_diff\n",
    "    return velocity\n",
    "\n",
    "def calculate_angle_change(vel1, vel2):\n",
    "    dot_product = np.dot(vel1, vel2)\n",
    "    magnitudes = np.linalg.norm(vel1) * np.linalg.norm(vel2)\n",
    "    cos_angle = dot_product / magnitudes\n",
    "    angle = np.arccos(cos_angle)\n",
    "    return np.degrees(angle)\n",
    "\n",
    "def calculate_rate_of_movement_changes(positions, timestamps, time_window):\n",
    "    rate_of_changes = []\n",
    "    \n",
    "    for i in range(len(positions) - 1):\n",
    "        pos1 = positions[i]\n",
    "        pos2 = positions[i + 1]\n",
    "        time_diff = (timestamps[i + 1] - timestamps[i]).total_seconds()\n",
    "        \n",
    "        velocity1 = calculate_velocity(pos1, pos2, time_diff)\n",
    "        \n",
    "        if i > 0:\n",
    "            pos0 = positions[i - 1]\n",
    "            velocity0 = calculate_velocity(pos0, pos1, time_diff)\n",
    "            angle_change = calculate_angle_change(velocity0, velocity1)\n",
    "            if angle_change > 45:  # Threshold for significant angle change\n",
    "                rate_of_changes.append(angle_change)\n",
    "    \n",
    "    rate_per_window = len(rate_of_changes) / ((timestamps[-1] - timestamps[0]).total_seconds() / time_window)\n",
    "    return rate_per_window\n",
    "\n",
    "# Example usage\n",
    "positions = [(1, 1), (2, 2), (3, 3), ...]  # List of (x, y) coordinates\n",
    "timestamps = [1, 2, 3, ...]  # List of datetime timestamps\n",
    "time_window = 60  # Time window in seconds\n",
    "\n",
    "rate_of_changes = calculate_rate_of_movement_changes(positions, timestamps, time_window)\n",
    "print(\"Rate of movement changes:\", rate_of_changes)"
   ]
  },
  {
   "cell_type": "code",
   "execution_count": null,
   "metadata": {},
   "outputs": [],
   "source": [
    "df1 = pd.read_csv('/Users/andrei-macpro/Documents/Data/tracking/features/play/movement_each.csv', index_col=0)\n",
    "df2 = pd.read_csv('/Users/andrei-macpro/Documents/Data/tracking/features/play/area_travelled_each.csv', index_col=0)\n",
    "df3 = pd.read_csv('/Users/andrei-macpro/Documents/Data/tracking/features/play/angles_each.csv', index_col=0)\n",
    "df4 = pd.read_csv('/Users/andrei-macpro/Documents/Data/tracking/features/play/contact_frequency_duration.csv', index_col=0)\n",
    "df5 = pd.read_csv('/Users/andrei-macpro/Documents/Data/tracking/features/play/distance_frequency_duration.csv', index_col=0)\n",
    "df6 = pd.read_csv('/Users/andrei-macpro/Documents/Data/tracking/features/play/proximity.csv', index_col=0)\n",
    "df7 = pd.read_csv('/Users/andrei-macpro/Documents/Data/tracking/features/play/correlation.csv', index_col=0)\n",
    "df8 = pd.read_csv('/Users/andrei-macpro/Documents/Data/tracking/features/play/cross_correlation.csv', index_col=0)"
   ]
  },
  {
   "cell_type": "code",
   "execution_count": null,
   "metadata": {},
   "outputs": [],
   "source": [
    "# concatenate all the dataframes on s_id\n",
    "df = pd.concat([df1, df2, df3, df4, df5, df6, df7, df8], axis=1)\n"
   ]
  },
  {
   "cell_type": "code",
   "execution_count": null,
   "metadata": {},
   "outputs": [],
   "source": [
    "df.to_csv('/Users/andrei-macpro/Documents/Data/tracking/features/play/combined_features.csv')"
   ]
  },
  {
   "cell_type": "code",
   "execution_count": null,
   "metadata": {},
   "outputs": [],
   "source": [
    "df.head()  # first 5 rows\n",
    "df.tail()  # last 5 rows\n",
    "df.sample(5)  # random 5 rows"
   ]
  },
  {
   "cell_type": "code",
   "execution_count": null,
   "metadata": {},
   "outputs": [],
   "source": [
    "df.info()  # general info about data\n",
    "df.describe()  # statistical summary of numerical columns"
   ]
  },
  {
   "cell_type": "code",
   "execution_count": null,
   "metadata": {},
   "outputs": [],
   "source": [
    "df.isnull().sum()  # number of missing values in each column"
   ]
  },
  {
   "cell_type": "code",
   "execution_count": null,
   "metadata": {},
   "outputs": [],
   "source": [
    "import matplotlib.pyplot as plt\n",
    "import seaborn as sns\n",
    "\n",
    "sns.histplot(df['your_column'])  # histogram\n",
    "plt.scatter(df['column1'], df['column2'])  # scatter plot"
   ]
  },
  {
   "cell_type": "code",
   "execution_count": null,
   "metadata": {},
   "outputs": [],
   "source": [
    "labels = pd.read_csv('/Users/andrei-macpro/Documents/Data/Results/corpus_processed/corpus_labelled.csv', index_col=0) \n",
    "labels"
   ]
  },
  {
   "cell_type": "code",
   "execution_count": null,
   "metadata": {},
   "outputs": [],
   "source": [
    "# change the index label of labels to s_id\n",
    "labels.index.names = ['s_id']"
   ]
  },
  {
   "cell_type": "code",
   "execution_count": null,
   "metadata": {},
   "outputs": [],
   "source": [
    "# Reset the index of df\n",
    "df.reset_index(inplace=True)\n",
    "\n",
    "# Extract the numeric part of s_id in df\n",
    "df['s_id_numeric'] = df['s_id'].str.extract('(\\d+)').astype(int)\n",
    "\n",
    "# Join df and labels on the numeric s_id\n",
    "df = df.join(labels, on='s_id_numeric', rsuffix='_labels')\n",
    "\n",
    "# Drop the temporary s_id_numeric column\n",
    "df.drop(columns='s_id_numeric', inplace=True)\n",
    "\n",
    "# Set the index back to s_id\n",
    "df.set_index('s_id', inplace=True)\n",
    "\n",
    "df"
   ]
  },
  {
   "cell_type": "code",
   "execution_count": null,
   "metadata": {},
   "outputs": [],
   "source": [
    "df.to_csv('/Users/andrei-macpro/Documents/Data/tracking/features/play/combined_features.csv')"
   ]
  }
 ],
 "metadata": {
  "kernelspec": {
   "display_name": "deepsort",
   "language": "python",
   "name": "python3"
  },
  "language_info": {
   "codemirror_mode": {
    "name": "ipython",
    "version": 3
   },
   "file_extension": ".py",
   "mimetype": "text/x-python",
   "name": "python",
   "nbconvert_exporter": "python",
   "pygments_lexer": "ipython3",
   "version": "3.10.6"
  }
 },
 "nbformat": 4,
 "nbformat_minor": 2
}
