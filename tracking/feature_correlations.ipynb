{
 "cells": [
  {
   "cell_type": "code",
   "execution_count": null,
   "id": "e0858676-8bba-47c5-be3c-0e8da7f9147c",
   "metadata": {},
   "outputs": [],
   "source": [
    "import pandas as pd\n",
    "import numpy as np\n",
    "from pathlib import Path\n",
    "import os\n",
    "import seaborn as sns"
   ]
  },
  {
   "cell_type": "code",
   "execution_count": null,
   "id": "0d204855-71ec-41dc-9df7-b65595072a49",
   "metadata": {},
   "outputs": [],
   "source": [
    "meal = pd.read_excel('/Users/andrei-macpro/Documents/Data/classification/speech/feature_correlations.xlsx', sheet_name = 'meal', index_col=0)"
   ]
  },
  {
   "cell_type": "code",
   "execution_count": null,
   "id": "8e8423a4-e407-4c2c-be74-938e5428d4b4",
   "metadata": {},
   "outputs": [],
   "source": [
    "play = pd.read_excel('/Users/andrei-macpro/Documents/Data/classification/speech/feature_correlations.xlsx', sheet_name = 'play', index_col=0)"
   ]
  },
  {
   "cell_type": "code",
   "execution_count": null,
   "id": "5bcc8250-2975-46fb-92d0-2282d64124f5",
   "metadata": {},
   "outputs": [],
   "source": [
    "meal.corrwith(play, axis=0, method='spearman')"
   ]
  },
  {
   "cell_type": "code",
   "execution_count": null,
   "id": "5d8bf8f4-6c64-47eb-bc9d-2f25e6a94082",
   "metadata": {},
   "outputs": [],
   "source": [
    "corr = pd.concat([meal, play], axis=1, keys=['meal', 'play']).corr(method='spearman').loc['play', 'meal']"
   ]
  },
  {
   "cell_type": "code",
   "execution_count": null,
   "id": "912a68df-2e8a-4967-b65f-f94f06317aec",
   "metadata": {},
   "outputs": [],
   "source": [
    "corr = corr.abs()"
   ]
  },
  {
   "cell_type": "code",
   "execution_count": null,
   "id": "c17fbf97-0f47-4ba8-9e0b-bb458c0f722a",
   "metadata": {},
   "outputs": [],
   "source": [
    "corr"
   ]
  },
  {
   "cell_type": "code",
   "execution_count": null,
   "id": "26ac8d04-3ed1-4401-a726-6f4b80edc346",
   "metadata": {},
   "outputs": [],
   "source": [
    "heatmap = sns.heatmap(corr, \n",
    "        xticklabels=corr.columns,\n",
    "        yticklabels=corr.columns, cmap=\"YlGnBu\")\n",
    "\n",
    "heatmap.figure.savefig(\"heatmap_features.png\")"
   ]
  },
  {
   "cell_type": "code",
   "execution_count": null,
   "id": "3eeb28fa-d309-4251-81fd-59604cab41bd",
   "metadata": {},
   "outputs": [],
   "source": [
    "pwd"
   ]
  },
  {
   "cell_type": "code",
   "execution_count": null,
   "id": "0aef26a6-0ec0-47a2-aac9-265145264c5d",
   "metadata": {},
   "outputs": [],
   "source": [
    "meal['F1'].corr(play['F1'], method='spearman')"
   ]
  },
  {
   "cell_type": "code",
   "execution_count": null,
   "id": "7b51e329-7b9d-4c4f-877b-162330d9bf4a",
   "metadata": {},
   "outputs": [],
   "source": [
    "pd.concat([meal, play], axis=1, keys=['meal', 'play']).corr(method='spearman').loc['play', 'meal']"
   ]
  }
 ],
 "metadata": {
  "kernelspec": {
   "display_name": "Python 3 (ipykernel)",
   "language": "python",
   "name": "python3"
  },
  "language_info": {
   "codemirror_mode": {
    "name": "ipython",
    "version": 3
   },
   "file_extension": ".py",
   "mimetype": "text/x-python",
   "name": "python",
   "nbconvert_exporter": "python",
   "pygments_lexer": "ipython3",
   "version": "3.7.6"
  }
 },
 "nbformat": 4,
 "nbformat_minor": 5
}
