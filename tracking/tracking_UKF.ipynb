{
 "cells": [
  {
   "cell_type": "code",
   "execution_count": null,
   "metadata": {},
   "outputs": [],
   "source": [
    "import pandas as pd\n",
    "import numpy as np\n",
    "from sklearn.neighbors import NearestNeighbors\n",
    "from pathlib import Path\n",
    "import os\n",
    "from tqdm import tqdm\n",
    "import pandas as pd\n",
    "import sys\n",
    "import numpy as np\n",
    "import matplotlib.pyplot as plt\n",
    "import cv2\n",
    "import re\n",
    "import shutil\n",
    "from pathlib import Path\n",
    "from sorted_alpha import sorted_alpha\n",
    "from scipy.spatial import distance\n",
    "from sklearn.neighbors import NearestNeighbors\n",
    "from scipy import interpolate\n",
    "from scipy.interpolate import interp1d\n",
    "from frame_count import frame_count\n",
    "from scipy.signal import savgol_filter\n",
    "from pykalman import UnscentedKalmanFilter\n"
   ]
  },
  {
   "cell_type": "code",
   "execution_count": null,
   "metadata": {},
   "outputs": [],
   "source": [
    "import torch\n",
    "from strongsort import StrongSORT\n",
    "\n",
    "tracker = StrongSORT(model_weights=\"osnet_x0_25_msmt17.pt\", device=torch.device(\"cpu\"), fp16=False)\n"
   ]
  },
  {
   "cell_type": "code",
   "execution_count": null,
   "metadata": {},
   "outputs": [],
   "source": [
    "pose = '/Users/andrei-macpro/Documents/Data/pose/play_openpose/1047_play'\n",
    "detections = sorted_alpha(pose)"
   ]
  },
  {
   "cell_type": "code",
   "execution_count": null,
   "metadata": {},
   "outputs": [],
   "source": [
    "path_video = '/Users/andrei-macpro/Documents/Data/videos/play_videos/1047_play.mp4'\n",
    "cap = cv2.VideoCapture(path_video)"
   ]
  },
  {
   "cell_type": "code",
   "execution_count": null,
   "metadata": {},
   "outputs": [],
   "source": [
    "frames = [int(x.split(\"_\")[1].split('.')[0]) for x in detections]"
   ]
  },
  {
   "cell_type": "code",
   "execution_count": null,
   "metadata": {},
   "outputs": [],
   "source": [
    "images = []\n",
    "for frame in frames[:10]:\n",
    "    cap.set(1,frame)\n",
    "    ret, image = cap.read()\n",
    "    images.append(image)\n"
   ]
  },
  {
   "cell_type": "code",
   "execution_count": null,
   "metadata": {},
   "outputs": [],
   "source": [
    "detections"
   ]
  },
  {
   "cell_type": "code",
   "execution_count": null,
   "metadata": {},
   "outputs": [],
   "source": [
    "skeletons = []\n",
    "for det in detections[:10]: \n",
    "    temp_list = []\n",
    "    df = pd.read_csv(os.path.join(pose,det))\n",
    "    columns = df.columns[1:]\n",
    "    probs = [df.iloc[:,column+1].mean() for column in range(2, len(columns), 3)]\n",
    "    detections_x = [df.iloc[:,column+1].min() for column in range(0, len(columns), 3)]                                   \n",
    "    detections_y  = [df.iloc[:,column+1].min() for column in range(1, len(columns), 3)]\n",
    "    width = [df.iloc[:,column+1].max() for column in range(0, len(columns), 3)]\n",
    "    height = [df.iloc[:,column+1].max() for column in range(1, len(columns), 3)]\n",
    "    k=1\n",
    "    for x,y,w,h,p in zip(detections_x, detections_y, width, height, probs):\n",
    "        temp_list.append([x,y,w-x,h-y, round(p, 2), 'person '+str(k)])\n",
    "        k+=1\n",
    "    skeletons.append(np.array(temp_list))\n",
    "             "
   ]
  },
  {
   "cell_type": "code",
   "execution_count": null,
   "metadata": {},
   "outputs": [],
   "source": [
    "type(skeletons[1][0][0]), skeletons[1][0][0]\n",
    "\n",
    "# probs is the mean probability lol "
   ]
  },
  {
   "cell_type": "code",
   "execution_count": null,
   "metadata": {},
   "outputs": [],
   "source": [
    "sk_1 = np.array(skeletons[1])\n",
    "# convert sk_1 from 6 rows and 1 column to 1 row and 6 columns\n",
    "sk_1 = sk_1.reshape(1, -1)\n",
    "sk_1  \n",
    "\n",
    "\n",
    "\n"
   ]
  },
  {
   "cell_type": "code",
   "execution_count": null,
   "metadata": {},
   "outputs": [],
   "source": [
    "skeletons[1].shape"
   ]
  },
  {
   "cell_type": "code",
   "execution_count": null,
   "metadata": {},
   "outputs": [],
   "source": [
    "sk_1[:, :4]"
   ]
  },
  {
   "cell_type": "code",
   "execution_count": null,
   "metadata": {},
   "outputs": [],
   "source": [
    "# convert skeletons[0][0] into a numpy array\n",
    "sk_1 = np.array(skeletons[0][0])\n",
    "sk_1"
   ]
  },
  {
   "cell_type": "code",
   "execution_count": null,
   "metadata": {},
   "outputs": [],
   "source": [
    "for detection, frame in zip(skeletons, images):\n",
    "    print(detection, frame.shape)\n",
    "    tracks = tracker.update(detection, frame)"
   ]
  },
  {
   "cell_type": "code",
   "execution_count": null,
   "metadata": {},
   "outputs": [],
   "source": [
    "def xyxy2xywh(x):\n",
    "    # Convert nx4 boxes from [x1, y1, x2, y2] to [x, y, w, h] where xy1=top-left, xy2=bottom-right\n",
    "    y = x.clone() if isinstance(x, torch.Tensor) else np.copy(x)\n",
    "    y[:, 0] = (x[:, 0] + x[:, 2]) / 2  # x center\n",
    "    y[:, 1] = (x[:, 1] + x[:, 3]) / 2  # y center\n",
    "    y[:, 2] = x[:, 2] - x[:, 0]  # width\n",
    "    y[:, 3] = x[:, 3] - x[:, 1]  # height\n",
    "    return y\n",
    "\n",
    "\n",
    "xyxys"
   ]
  },
  {
   "cell_type": "code",
   "execution_count": null,
   "metadata": {},
   "outputs": [],
   "source": [
    "dets = skeletons[1]\n",
    "xyxys = dets[:, :4]\n",
    "xyxys = dets[:, 0:4]\n",
    "confs = dets[:, 4]\n",
    "clss = dets[:, 5]"
   ]
  },
  {
   "cell_type": "code",
   "execution_count": null,
   "metadata": {},
   "outputs": [],
   "source": [
    "def _get_features(self, bbox_xywh, ori_img): # where can i find the bbox_xywh?\n",
    "    im_crops = []\n",
    "    for box in bbox_xywh:\n",
    "        x1, y1, x2, y2 = self._xywh_to_xyxy(box)\n",
    "        im = ori_img[y1:y2, x1:x2]\n",
    "        im_crops.append(im)\n",
    "    if im_crops:\n",
    "        features = self.model(im_crops)\n",
    "    else:\n",
    "        features = np.array([])\n",
    "    return features"
   ]
  },
  {
   "cell_type": "code",
   "execution_count": null,
   "metadata": {},
   "outputs": [],
   "source": [
    "_get_features(self, bbox_xywh, ori_img) # what is bbox_xywh\n",
    "\n"
   ]
  },
  {
   "cell_type": "code",
   "execution_count": null,
   "metadata": {},
   "outputs": [],
   "source": [
    " bbox_tlwh = self._xywh_to_tlwh(xywhs)\n",
    "xywhs = xyxy2xywh(np.array(xyxys.astype(float)))"
   ]
  },
  {
   "cell_type": "code",
   "execution_count": null,
   "metadata": {},
   "outputs": [],
   "source": [
    "xywhs = xyxy2xywh(np.array(xyxys.astype(float)))\n"
   ]
  },
  {
   "cell_type": "code",
   "execution_count": null,
   "metadata": {},
   "outputs": [],
   "source": [
    "xywhs"
   ]
  }
 ],
 "metadata": {
  "kernelspec": {
   "display_name": "deepsort",
   "language": "python",
   "name": "python3"
  },
  "language_info": {
   "codemirror_mode": {
    "name": "ipython",
    "version": 3
   },
   "file_extension": ".py",
   "mimetype": "text/x-python",
   "name": "python",
   "nbconvert_exporter": "python",
   "pygments_lexer": "ipython3",
   "version": "3.10.6"
  }
 },
 "nbformat": 4,
 "nbformat_minor": 2
}
