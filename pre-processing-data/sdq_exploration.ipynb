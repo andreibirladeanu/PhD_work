{
 "cells": [
  {
   "cell_type": "code",
   "execution_count": null,
   "metadata": {},
   "outputs": [],
   "source": [
    "import pandas as pd\n",
    "import numpy as np\n",
    "import matplotlib.pyplot as plt\n",
    "import seaborn as sns\n",
    "\n"
   ]
  },
  {
   "cell_type": "code",
   "execution_count": null,
   "metadata": {},
   "outputs": [],
   "source": [
    "data = pd.read_csv('/Users/andrei-macpro/Documents/Data/SDQ/sdq_scores.csv')\n",
    "data"
   ]
  },
  {
   "cell_type": "markdown",
   "metadata": {},
   "source": [
    "## only subject 1146 does not have SDQ for either time point"
   ]
  },
  {
   "cell_type": "code",
   "execution_count": null,
   "metadata": {},
   "outputs": [],
   "source": [
    "non_na_pemotion_v1_count = data['pemotion_v1'].notna().sum()\n",
    "non_na_pemotion_v2_count = data['pemotion_v2'].notna().sum()\n",
    "non_na_pemotion_v3_count = data['pemotion_v3'].notna().sum()\n",
    "\n"
   ]
  },
  {
   "cell_type": "code",
   "execution_count": null,
   "metadata": {},
   "outputs": [],
   "source": [
    "non_na_pemotion_v1_count, non_na_pemotion_v2_count, non_na_pemotion_v3_count"
   ]
  },
  {
   "cell_type": "code",
   "execution_count": null,
   "metadata": {},
   "outputs": [],
   "source": [
    "data['pebdtot_v2'].hist(bins=10)\n",
    "plt.xlabel('Total Score')\n",
    "plt.ylabel('Frequency')\n",
    "plt.show()"
   ]
  },
  {
   "cell_type": "code",
   "execution_count": null,
   "metadata": {},
   "outputs": [],
   "source": [
    "data['pprosoc_v2'].hist()\n",
    "plt.xlabel('Prosocial Score')\n",
    "plt.ylabel('Frequency')\n",
    "plt.show()"
   ]
  },
  {
   "cell_type": "code",
   "execution_count": null,
   "metadata": {},
   "outputs": [],
   "source": [
    "data['pemotion_v2'].hist()\n",
    "plt.xlabel('Emotion Score')\n",
    "plt.ylabel('Frequency')\n",
    "plt.show()"
   ]
  },
  {
   "cell_type": "code",
   "execution_count": null,
   "metadata": {},
   "outputs": [],
   "source": [
    "data['pconduct_v2'].hist()\n",
    "plt.xlabel('Conduct Score')\n",
    "plt.ylabel('Frequency')\n",
    "plt.show()"
   ]
  },
  {
   "cell_type": "code",
   "execution_count": null,
   "metadata": {},
   "outputs": [],
   "source": [
    "data['phyper_v2'].hist()\n",
    "plt.xlabel('Hyper Score')\n",
    "plt.ylabel('Frequency')\n",
    "plt.show()"
   ]
  },
  {
   "cell_type": "code",
   "execution_count": null,
   "metadata": {},
   "outputs": [],
   "source": [
    "data['pimpact_v2'].hist()\n",
    "plt.xlabel('Impact Score')\n",
    "plt.ylabel('Frequency')\n",
    "plt.show()"
   ]
  },
  {
   "cell_type": "code",
   "execution_count": null,
   "metadata": {},
   "outputs": [],
   "source": [
    "data['ppeer_v2'].hist(bins=7)\n",
    "plt.xlabel('Peer problems Score')\n",
    "plt.ylabel('Frequency')\n",
    "plt.show()"
   ]
  },
  {
   "cell_type": "code",
   "execution_count": null,
   "metadata": {},
   "outputs": [],
   "source": [
    "data.boxplot(column='pebdtot_v2')\n",
    "plt.xlabel('Total Score')\n",
    "plt.ylabel('Value')\n",
    "plt.title('Boxplot of Total Score')\n",
    "\n",
    "plt.show()\n",
    "\n"
   ]
  },
  {
   "cell_type": "code",
   "execution_count": null,
   "metadata": {},
   "outputs": [],
   "source": [
    "\n",
    "sns.kdeplot(data['pebdtot_v2'], shade=True)\n",
    "plt.xlabel('Total Score')\n",
    "plt.ylabel('Density')\n",
    "plt.title('KDE of Total Score')\n",
    "plt.show()"
   ]
  },
  {
   "cell_type": "code",
   "execution_count": null,
   "metadata": {},
   "outputs": [],
   "source": [
    "# check for correlations with rinab and DAI \n",
    "# create scatter plot of pemotion_v2 and p_conduct_v2 and set labels and title\n",
    "\n",
    "\n",
    "sns.regplot(x='pemotion_v2', y='pconduct_v2', data=data, scatter_kws={'s': 10})\n",
    "plt.xlabel('Emotion Score')\n",
    "plt.ylabel('Conduct Score')\n",
    "# calculate the correlation between the two variables\n",
    "correlation = data['pemotion_v2'].corr(data['pconduct_v2'])\n",
    "# add the rounded correlation to the plot \n",
    "\n",
    "plt.title(f'Correlation: {round(correlation, ndigits=2)}')\n",
    "plt.xlim(data['pemotion_v2'].min() - 0.5, data['pemotion_v2'].max() + 0.5)\n",
    "\n",
    "# add a correlation line to the plot\n",
    "plt.show()"
   ]
  },
  {
   "cell_type": "code",
   "execution_count": null,
   "metadata": {},
   "outputs": [],
   "source": [
    "\n",
    "import numpy as np\n",
    "import pandas as pd\n",
    "\n",
    "# Select the relevant columns\n",
    "data_subset = data[['pemotion_v2', 'pconduct_v2', 'phyper_v2', 'ppeer_v2', 'pprosoc_v2', 'pimpact_v2']]\n",
    "\n",
    "# Function to add correlation values\n",
    "def corrfunc(x, y, **kws):\n",
    "    # Remove NaN values\n",
    "    df = pd.DataFrame({'x': x, 'y': y}).dropna()\n",
    "    r = np.corrcoef(df['x'], df['y'])[0, 1]\n",
    "    ax = plt.gca()\n",
    "    ax.annotate(f'Correlation: {r:.2f}', xy=(0.1, 0.9), xycoords=ax.transAxes)\n",
    "\n",
    "# Create PairGrid\n",
    "g = sns.PairGrid(data_subset)\n",
    "g.map_upper(sns.regplot, scatter_kws={'s': 10})\n",
    "g.map_lower(sns.regplot, scatter_kws={'s': 10})\n",
    "g.map_diag(sns.histplot, kde=True)\n",
    "\n",
    "# Add correlation values to the upper and lower triangles\n",
    "g.map_upper(corrfunc)\n",
    "g.map_lower(corrfunc)\n",
    "# Set x-axis limits for all plots\n",
    "for ax in g.axes.flatten():\n",
    "    ax.set_xlim(data['pemotion_v2'].min() - 0.5, data['pemotion_v2'].max() + 0.5)\n",
    "\n",
    "# Show the plot\n",
    "plt.show()"
   ]
  },
  {
   "cell_type": "code",
   "execution_count": null,
   "metadata": {},
   "outputs": [],
   "source": [
    "# plot the correlation between pebdtot_v2 and RINAB\n",
    "sns.regplot(x='pebdtot_v2', y='Rinab', data=data, scatter_kws={'s': 10})\n",
    "plt.xlabel('SDQ Score')\n",
    "plt.ylabel('Rinab')\n",
    "# calculate the correlation between the two variables\n",
    "correlation = data['pebdtot_v2'].corr(data['Rinab'])\n",
    "# add the rounded correlation to the plot\n",
    "plt.title(f'Correlation: {round(correlation, ndigits=2)}')\n",
    "plt.show()\n"
   ]
  },
  {
   "cell_type": "code",
   "execution_count": null,
   "metadata": {},
   "outputs": [],
   "source": [
    "# plot the correlation between pebdtot_v2 and RINAB\n",
    "sns.regplot(x='pebdtot_v2', y='DAI', data=data, scatter_kws={'s': 10})\n",
    "plt.xlabel('SDQ Score')\n",
    "plt.ylabel('DAI')\n",
    "# calculate the correlation between the two variables\n",
    "correlation = data['pebdtot_v2'].corr(data['DAI'])\n",
    "# add the rounded correlation to the plot\n",
    "plt.title(f'Correlation: {round(correlation, ndigits=2)}')\n",
    "plt.show()\n"
   ]
  }
 ],
 "metadata": {
  "kernelspec": {
   "display_name": "deepsort",
   "language": "python",
   "name": "deepsort"
  },
  "language_info": {
   "codemirror_mode": {
    "name": "ipython",
    "version": 3
   },
   "file_extension": ".py",
   "mimetype": "text/x-python",
   "name": "python",
   "nbconvert_exporter": "python",
   "pygments_lexer": "ipython3",
   "version": "3.8.5"
  }
 },
 "nbformat": 4,
 "nbformat_minor": 2
}
