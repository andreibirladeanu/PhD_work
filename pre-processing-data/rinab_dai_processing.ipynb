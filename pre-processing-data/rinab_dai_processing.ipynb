{
 "cells": [
  {
   "cell_type": "code",
   "execution_count": null,
   "metadata": {},
   "outputs": [],
   "source": [
    "cd /Users/andreibirladeanu/Documents/Data"
   ]
  },
  {
   "cell_type": "code",
   "execution_count": null,
   "metadata": {},
   "outputs": [],
   "source": [
    "import pandas as pd\n",
    "data = pd.read_excel('rinab_processing.xlsx')\n"
   ]
  },
  {
   "cell_type": "code",
   "execution_count": null,
   "metadata": {},
   "outputs": [],
   "source": [
    "# creating one series for subject ID's\n",
    "filtered_subjects = pd.Series(data=data['Subject_id_FILTERED'])"
   ]
  },
  {
   "cell_type": "code",
   "execution_count": null,
   "metadata": {},
   "outputs": [],
   "source": [
    "# remove filtered_subjects column from data so that I can merge it later\n",
    "data = data.iloc[:,1:] \n",
    "#.ix[row slice, column slice] "
   ]
  },
  {
   "cell_type": "code",
   "execution_count": null,
   "metadata": {},
   "outputs": [],
   "source": [
    "rinab_data = data.merge(filtered_subjects, how='inner', left_on='Subject_ID', right_on='Subject_id_FILTERED')"
   ]
  },
  {
   "cell_type": "code",
   "execution_count": null,
   "metadata": {},
   "outputs": [],
   "source": [
    "#pd.set_option(\"display.max_rows\", None, \"display.max_columns\", None)"
   ]
  },
  {
   "cell_type": "code",
   "execution_count": null,
   "metadata": {},
   "outputs": [],
   "source": [
    "rinab_data = rinab_data.iloc[:,:-1]\n",
    "rinab_data = rinab_data.sort_values(by='Subject_ID', ignore_index=True)"
   ]
  },
  {
   "cell_type": "code",
   "execution_count": null,
   "metadata": {},
   "outputs": [],
   "source": [
    "rinab_data"
   ]
  },
  {
   "cell_type": "code",
   "execution_count": null,
   "metadata": {},
   "outputs": [],
   "source": [
    "#rinab_data.to_excel(\"rinab_processed.xlsx\")"
   ]
  },
  {
   "cell_type": "code",
   "execution_count": null,
   "metadata": {},
   "outputs": [],
   "source": [
    "# taking total of each row\n",
    "rinab_data[\"total\"]= rinab_data.iloc[:,1:].sum(axis=1)"
   ]
  },
  {
   "cell_type": "code",
   "execution_count": null,
   "metadata": {},
   "outputs": [],
   "source": [
    "rinab_data"
   ]
  },
  {
   "cell_type": "code",
   "execution_count": null,
   "metadata": {},
   "outputs": [],
   "source": [
    "#rinab_nona = rinab_data.dropna()"
   ]
  },
  {
   "cell_type": "code",
   "execution_count": null,
   "metadata": {},
   "outputs": [],
   "source": [
    "rinab_nona.total.hist()"
   ]
  },
  {
   "cell_type": "code",
   "execution_count": null,
   "metadata": {},
   "outputs": [],
   "source": [
    "rinab_nona.total.describe()"
   ]
  },
  {
   "cell_type": "code",
   "execution_count": null,
   "metadata": {},
   "outputs": [],
   "source": [
    "rinab_nona.total.var()"
   ]
  },
  {
   "cell_type": "code",
   "execution_count": null,
   "metadata": {},
   "outputs": [],
   "source": [
    "#number of bins = sqrt(total no of points)\n",
    "#bin width = (max-min) / number of bins"
   ]
  },
  {
   "cell_type": "code",
   "execution_count": null,
   "metadata": {},
   "outputs": [],
   "source": [
    "import numpy as np\n",
    "import matplotlib.pyplot as plt\n",
    "\n",
    "# code from https://github.com/AnalyticsInsightsNinja/PythonVisualAnalytics/blob/master/01_AV_Adavced_Histogram.ipynb\n",
    "# Plot the Histogram from the random data\n",
    "\n",
    "def histogram_plot(column, title='Rinab', ylabel='frequency', xlabel='rinab', bin_no=7, legend_title='N=61'):\n",
    "    fig, ax = plt.subplots(figsize=(8,8))\n",
    "    counts, bins, patches = ax.hist(column, bins=bin_no, facecolor='mediumaquamarine', edgecolor='gray')\n",
    "\n",
    "    ax.set_xticks(bins.round(2))\n",
    "    plt.xticks(rotation=0)\n",
    "\n",
    "    # Set the graph title and axes titles\n",
    "    plt.title(title, fontsize=20)\n",
    "    plt.ylabel(ylabel, fontsize=15)\n",
    "    plt.xlabel(xlabel, fontsize=15)\n",
    "\n",
    "    # Calculate bar centre to display the count of data points and %\n",
    "    bin_x_centers = 0.5 * np.diff(bins) + bins[:-1]\n",
    "    bin_y_centers = ax.get_yticks()[1] * 0.25\n",
    "\n",
    "    #Display the the count of data points and % for each bar in histogram\n",
    "    for i in range(len(bins)-1):\n",
    "        bin_label = \"{0:,}\".format(counts[i]) + \"  ({0:,.2f}%)\".format((counts[i]/counts.sum())*100)\n",
    "        plt.text(bin_x_centers[i], bin_y_centers, bin_label, rotation=90, rotation_mode='anchor')\n",
    "\n",
    "    plt.legend(fontsize=10, title=legend_title)\n",
    "    "
   ]
  },
  {
   "cell_type": "code",
   "execution_count": null,
   "metadata": {},
   "outputs": [],
   "source": [
    "histogram_plot(rinab_nona.total, title='Rinab without NA', legend_title='N=55', xlabel='Rinab score')\n",
    "histogram_plot(rinab_data.total, title='Rinab with NA', legend_title='N=61', xlabel='Rinab score')\n",
    "\n"
   ]
  },
  {
   "cell_type": "code",
   "execution_count": null,
   "metadata": {},
   "outputs": [],
   "source": [
    "rinab_data.total.apply(np.log).hist()"
   ]
  },
  {
   "cell_type": "code",
   "execution_count": null,
   "metadata": {},
   "outputs": [],
   "source": [
    "rinab_data.total.apply(np.log)"
   ]
  },
  {
   "cell_type": "code",
   "execution_count": null,
   "metadata": {},
   "outputs": [],
   "source": [
    "# now trying to merge the DAI with the previous dataset\n",
    "data2 = pd.read_excel('Rinab+DAI+age.xlsx')"
   ]
  },
  {
   "cell_type": "code",
   "execution_count": null,
   "metadata": {},
   "outputs": [],
   "source": [
    "# setting a common index so I can merge them\n",
    "rinab_data=rinab_data.set_index('Subject_ID')\n",
    "data2=data2.set_index('Subject_ID')"
   ]
  },
  {
   "cell_type": "code",
   "execution_count": null,
   "metadata": {},
   "outputs": [],
   "source": [
    "# merging the two datasets\n",
    "rinab_dai_age = data2.merge(rinab_data, how='right', left_on='Subject_ID', right_on='Subject_ID')\n",
    "rinab_dai_age"
   ]
  },
  {
   "cell_type": "code",
   "execution_count": null,
   "metadata": {},
   "outputs": [],
   "source": [
    "cd ~/Documents/Data"
   ]
  },
  {
   "cell_type": "code",
   "execution_count": null,
   "metadata": {},
   "outputs": [],
   "source": [
    "rinab_dai_age.to_excel('final_rinab+dai.xlsx', na_rep='NA')"
   ]
  },
  {
   "cell_type": "code",
   "execution_count": null,
   "metadata": {},
   "outputs": [],
   "source": [
    "# Scores on Rinab for participants with missing q's B3 and B4\n",
    "# loc selects index by label, iloc by position\n",
    "rinab_data.loc[[1059,1195,1250],'total']"
   ]
  },
  {
   "cell_type": "code",
   "execution_count": null,
   "metadata": {},
   "outputs": [],
   "source": [
    "# the mean of the rinab total score excluding those NA subjects rounded to 22 decimals\n",
    "round(rinab_nona.total.mean(), 2), round(rinab_nona.total.median(), 2) "
   ]
  },
  {
   "cell_type": "code",
   "execution_count": null,
   "metadata": {},
   "outputs": [],
   "source": [
    "# Scores on Rinab for participants with missing q A3\n",
    "rinab_data.loc[[1112,1188,1217,1195],'total']"
   ]
  },
  {
   "cell_type": "code",
   "execution_count": null,
   "metadata": {},
   "outputs": [],
   "source": [
    "# compute Spearman correlation (due to data being ordinal and non-normally distributed)\n",
    "rinab_dai_age.corr(method='spearman')"
   ]
  },
  {
   "cell_type": "code",
   "execution_count": null,
   "metadata": {},
   "outputs": [],
   "source": [
    "from scipy.stats import spearmanr\n",
    "import pandas as pd\n",
    "\n",
    "def calculate_pvalues(df):\n",
    "    df = df._get_numeric_data()\n",
    "    dfcols = pd.DataFrame(columns=df.columns)\n",
    "    pvalues = dfcols.transpose().join(dfcols, how='outer')\n",
    "    for r in df.columns:\n",
    "        for c in df.columns:\n",
    "            pvalues[r][c] = round(spearmanr(df[r], df[c],nan_policy='omit')[1], 4)\n",
    "    return pvalues"
   ]
  },
  {
   "cell_type": "code",
   "execution_count": null,
   "metadata": {},
   "outputs": [],
   "source": [
    "calculate_pvalues(rinab_dai_age) "
   ]
  },
  {
   "cell_type": "code",
   "execution_count": null,
   "metadata": {},
   "outputs": [],
   "source": [
    "histogram.plot(rinab_dai_age['DAIscoreT1'], title='DAI histogram', ylabel='frequency', xlabel='DAI score', bin_no=[0,1,2,3,4,5,6,7,8], legend_title='N=55')"
   ]
  },
  {
   "cell_type": "code",
   "execution_count": null,
   "metadata": {},
   "outputs": [],
   "source": [
    "rinab_dai_age.plot.scatter(x='DAIscoreT1', y='total')"
   ]
  },
  {
   "cell_type": "code",
   "execution_count": null,
   "metadata": {},
   "outputs": [],
   "source": [
    "rinab_dai_age.boxplot(column='total', by='DAIscoreT1')"
   ]
  }
 ],
 "metadata": {
  "kernelspec": {
   "display_name": "Python 3",
   "language": "python",
   "name": "python3"
  },
  "language_info": {
   "codemirror_mode": {
    "name": "ipython",
    "version": 3
   },
   "file_extension": ".py",
   "mimetype": "text/x-python",
   "name": "python",
   "nbconvert_exporter": "python",
   "pygments_lexer": "ipython3",
   "version": "3.8.5"
  }
 },
 "nbformat": 4,
 "nbformat_minor": 4
}
