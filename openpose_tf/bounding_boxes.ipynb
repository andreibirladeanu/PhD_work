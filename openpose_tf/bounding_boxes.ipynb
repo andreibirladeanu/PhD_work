{
 "cells": [
  {
   "cell_type": "code",
   "execution_count": null,
   "id": "cfbeba2f-52cd-430f-bd10-206db060970a",
   "metadata": {},
   "outputs": [],
   "source": [
    "import os\n",
    "from tqdm import tqdm\n",
    "import pandas as pd\n",
    "import sys\n",
    "import time\n",
    "import logging\n",
    "import numpy as np\n",
    "import matplotlib.pyplot as plt\n",
    "import cv2\n",
    "import re\n",
    "from pathlib import Path \n",
    "from unidip import UniDip\n",
    "import unidip.dip as dip\n",
    "from sorted_alpha import sorted_alphanumeric"
   ]
  },
  {
   "cell_type": "code",
   "execution_count": null,
   "id": "5f5e4b31-4c07-4303-ab57-8c2044528dfa",
   "metadata": {},
   "outputs": [],
   "source": [
    "def sorted_alphanumeric(data):\n",
    "    convert = lambda text: int(text) if text.isdigit() else text.lower()\n",
    "    alphanum_key = lambda key: [ convert(c) for c in re.split('([0-9]+)', key) ] \n",
    "    return sorted(data, key=alphanum_key)"
   ]
  },
  {
   "cell_type": "code",
   "execution_count": null,
   "id": "c917499c-1234-4775-afc1-5fd2d1a2aa2f",
   "metadata": {},
   "outputs": [],
   "source": [
    "path_boxes = '/Users/andreibirladeanu/Documents/Data/experimenting/visualize/1117_meal/skel1_tr1/'\n",
    "boxes = [x for x in sorted_alphanumeric(os.listdir(path_boxes)) if x[0]!=\".\"]\n",
    "boxes = [cv2.imread(path_boxes + x) for x in boxes]"
   ]
  },
  {
   "cell_type": "code",
   "execution_count": null,
   "id": "a6404cfd-e73c-4fc8-ab69-09e6b335e034",
   "metadata": {},
   "outputs": [],
   "source": [
    "boxes = [np.mean(box,dtype=np.float32, axis=2) for box in boxes]"
   ]
  },
  {
   "cell_type": "code",
   "execution_count": null,
   "id": "8c062af6-764f-4988-b697-5b3abde81ce8",
   "metadata": {},
   "outputs": [],
   "source": [
    "plt.imshow(np.mean(boxes[0],dtype=np.float16, axis=2))"
   ]
  },
  {
   "cell_type": "code",
   "execution_count": null,
   "id": "5da309ae-95ef-4da6-a6be-79e446c876e9",
   "metadata": {},
   "outputs": [],
   "source": [
    "type(boxes[0])"
   ]
  },
  {
   "cell_type": "code",
   "execution_count": null,
   "id": "f3344b0c-1a33-4cbe-90b8-6ffa3a055190",
   "metadata": {},
   "outputs": [],
   "source": [
    "boxes[0].nbytes"
   ]
  },
  {
   "cell_type": "code",
   "execution_count": null,
   "id": "877f8142-7dbf-4669-8f53-ba33fdda3bd1",
   "metadata": {},
   "outputs": [],
   "source": [
    "np.mean(boxes[0], axis=2).nbytes, np.mean(boxes[0], axis=2).shape"
   ]
  },
  {
   "cell_type": "code",
   "execution_count": null,
   "id": "7cded6ca-d5c8-461e-9428-918af644d389",
   "metadata": {},
   "outputs": [],
   "source": [
    "new = np.round(np.mean(boxes[0], axis=2),2)"
   ]
  },
  {
   "cell_type": "code",
   "execution_count": null,
   "id": "d29c38df-deac-4eab-8d4e-b7d4c94460bf",
   "metadata": {},
   "outputs": [],
   "source": [
    "np.round(np.mean(boxes[0], axis=2),2).nbytes"
   ]
  },
  {
   "cell_type": "code",
   "execution_count": null,
   "id": "37a7e3e7-97f5-4c1c-8032-13e44560a9e7",
   "metadata": {},
   "outputs": [],
   "source": [
    "np.mean(boxes[0],dtype=np.float32, axis=2).nbytes"
   ]
  },
  {
   "cell_type": "code",
   "execution_count": null,
   "id": "c8393f2e-f16b-4581-ae54-9395a79d773a",
   "metadata": {},
   "outputs": [],
   "source": [
    "np.mean(boxes[0],dtype=np.float16, axis=2)"
   ]
  },
  {
   "cell_type": "code",
   "execution_count": null,
   "id": "0dc7c7f1-2db5-4b8b-95e6-2c18678cab13",
   "metadata": {},
   "outputs": [],
   "source": [
    "np.mean(boxes[0], axis=2)"
   ]
  },
  {
   "cell_type": "code",
   "execution_count": null,
   "id": "94a1225e-8bf7-449f-b9bc-89cbca5ed2d7",
   "metadata": {},
   "outputs": [],
   "source": [
    "def find_min_round(array):\n",
    "    array = np.array(array)\n",
    "    x = round(np.min(array[np.nonzero(array)]))\n",
    "    return(x)\n",
    "\n",
    "def find_max_round(array):\n",
    "    array = np.array(array)\n",
    "    x = round(np.max(array))\n",
    "    return(x)"
   ]
  },
  {
   "cell_type": "code",
   "execution_count": null,
   "id": "19349b1f-61b6-46bd-b1c9-daaa15a7f641",
   "metadata": {},
   "outputs": [],
   "source": [
    "### mean across the first channel of all the pics\n",
    "np.mean(boxes[0], axis=2).shape"
   ]
  },
  {
   "cell_type": "code",
   "execution_count": null,
   "id": "ad626a58-5fcd-4151-a986-a8d9d772014d",
   "metadata": {},
   "outputs": [],
   "source": [
    "plt.imshow(np.mean(boxes[1], axis=2))\n"
   ]
  },
  {
   "cell_type": "code",
   "execution_count": null,
   "id": "77bc0fd7-3d0d-48b9-a34e-c3acd27d7aae",
   "metadata": {},
   "outputs": [],
   "source": [
    "for_hist =  np.array([[np.mean(x)] for x in boxes])\n",
    "for_dip =  np.array([np.mean(x) for x in boxes])"
   ]
  },
  {
   "cell_type": "code",
   "execution_count": null,
   "id": "e5877487-0bea-4c20-8fad-178da474718c",
   "metadata": {},
   "outputs": [],
   "source": [
    "for_dip"
   ]
  },
  {
   "cell_type": "code",
   "execution_count": null,
   "id": "cfb4e767-ae42-4a1a-82db-536ae15dbb15",
   "metadata": {},
   "outputs": [],
   "source": [
    "a  = np.zeros((2,3,2))\n",
    "a.shape"
   ]
  },
  {
   "cell_type": "code",
   "execution_count": null,
   "id": "7bd7d1ce-11b4-46c5-a53c-1cde0a864ef4",
   "metadata": {},
   "outputs": [],
   "source": [
    "a"
   ]
  },
  {
   "cell_type": "code",
   "execution_count": null,
   "id": "6e5602eb-e4f9-459b-8db7-e8805991e320",
   "metadata": {},
   "outputs": [],
   "source": [
    "np.mean(a, axis=2).shape[1]"
   ]
  },
  {
   "cell_type": "code",
   "execution_count": null,
   "id": "b8c387c4-9baa-444e-a69a-eb00c23ef5a9",
   "metadata": {},
   "outputs": [],
   "source": [
    "for x,y in zip(range(len(for_hist)), range(len(boxes))):\n",
    "    if for_hist[x]<np.mean(for_hist):\n",
    "        cv2.imshow('below mode',boxes[y])\n",
    "        cv2.waitKey(0)\n",
    "        cv2.destroyAllWindows()"
   ]
  },
  {
   "cell_type": "code",
   "execution_count": null,
   "id": "997c0b1a-e5c4-4b09-a1cb-2d753e050b70",
   "metadata": {},
   "outputs": [],
   "source": [
    "from sklearn.mixture import GaussianMixture\n",
    "gm = GaussianMixture(n_components=2, random_state=0).fit(for_hist)"
   ]
  },
  {
   "cell_type": "code",
   "execution_count": null,
   "id": "4b4c73f1-7cbc-49fc-8a7d-51b087b6b9d7",
   "metadata": {},
   "outputs": [],
   "source": [
    "gm.means_"
   ]
  },
  {
   "cell_type": "code",
   "execution_count": null,
   "id": "e24f7724-66aa-4358-b55d-b00590187dd0",
   "metadata": {},
   "outputs": [],
   "source": [
    "labels = gm.predict(for_hist) "
   ]
  },
  {
   "cell_type": "code",
   "execution_count": null,
   "id": "f2bc8c33-4e4f-4474-8a60-9b18266b76c1",
   "metadata": {},
   "outputs": [],
   "source": [
    "labels[0]"
   ]
  },
  {
   "cell_type": "code",
   "execution_count": null,
   "id": "3ac04e91-d5c4-480f-bfdc-a08df67d3b60",
   "metadata": {},
   "outputs": [],
   "source": [
    "np.where(labels==1)"
   ]
  },
  {
   "cell_type": "code",
   "execution_count": null,
   "id": "58ba7f53-8dc6-4d5f-8c9d-bb444645a628",
   "metadata": {},
   "outputs": [],
   "source": [
    "for x in np.where(labels==2)[0]:\n",
    "    cv2.imshow('child', boxes[x])\n",
    "    cv2.waitKey(0)\n",
    "    cv2.destroyAllWindows()"
   ]
  },
  {
   "cell_type": "code",
   "execution_count": null,
   "id": "2b7fbc4d-4ad2-4962-995f-ec3bd853e4a7",
   "metadata": {},
   "outputs": [],
   "source": [
    "#### idea: get 3 gaussians and if the third one is less than 15% of the data throw it away "
   ]
  },
  {
   "cell_type": "code",
   "execution_count": null,
   "id": "c7295b56-bbe5-4a72-8e48-a9db14791a21",
   "metadata": {},
   "outputs": [],
   "source": [
    "data = np.msort(for_dip)\n",
    "print(dip.diptst(data))\n"
   ]
  },
  {
   "cell_type": "code",
   "execution_count": null,
   "id": "85209418-7d6e-4db6-9725-33fa10773460",
   "metadata": {},
   "outputs": [],
   "source": [
    "intervals"
   ]
  },
  {
   "cell_type": "code",
   "execution_count": null,
   "id": "ad9e0136-35d7-4c80-a59b-7aed48676213",
   "metadata": {},
   "outputs": [],
   "source": [
    "unimodal = dip.diptst(data)"
   ]
  },
  {
   "cell_type": "code",
   "execution_count": null,
   "id": "f5827e02-4bd3-4510-9418-cc88dce69694",
   "metadata": {},
   "outputs": [],
   "source": [
    "unimodal[1]"
   ]
  },
  {
   "cell_type": "code",
   "execution_count": null,
   "id": "971a614f-f7cc-4f46-ba95-94349c9a4573",
   "metadata": {},
   "outputs": [],
   "source": [
    "####### try it with bounding boxes"
   ]
  },
  {
   "cell_type": "code",
   "execution_count": null,
   "id": "ebe3fa76-f2c4-4bc2-9427-8e4607a15698",
   "metadata": {},
   "outputs": [],
   "source": [
    "path_openpose = '/Users/andreibirladeanu/Documents/Data/experimenting/tracked/1122_meal/skel1/'\n",
    "coords = [file for file in sorted_alphanumeric(os.listdir(path_openpose)) if file[0] !=\".\"]\n"
   ]
  },
  {
   "cell_type": "code",
   "execution_count": null,
   "id": "46bff8c1-7416-487b-ba7f-642dc240bc21",
   "metadata": {},
   "outputs": [],
   "source": [
    "### get bounding boxes now \n",
    "path_video = '/Users/andreibirladeanu/Documents/Data/experimenting/videos/1122_meal.mp4'\n",
    "path_boxes = '/Users/andreibirladeanu/Documents/Data/experimenting/bounding_boxes/skel1/'\n",
    "cap = cv2.VideoCapture(path_video)\n",
    "\n",
    "#for skel in skeletons1:\n",
    "#    x_array = list(skel.values())[0][0]\n",
    "#    y_array = list(skel.values())[0][1]\n",
    "#    cap.set(1, list(skel.keys())[0])\n",
    "#    ret, image = cap.read()\n",
    "#    print(skel)\n",
    "#    cv2.imwrite(path_boxes + str(list(skel.keys())[0]) + '.png', image[find_min_round(y_array):find_max_round(y_array),\n",
    "#                   find_min_round(x_array):find_max_round(x_array)])"
   ]
  },
  {
   "cell_type": "code",
   "execution_count": null,
   "id": "7d85add1-ddb4-456f-9dbb-a193e6cc1088",
   "metadata": {},
   "outputs": [],
   "source": [
    "for frame in coords:\n",
    "    skel = pd.read_csv(path_openpose + frame)\n",
    "    cap.set(1,int(frame.split('.')[0]))\n",
    "    ret, image = cap.read()\n",
    "    cv2.imwrite(path_boxes + str(frame.split('.')[0]) + '.png', image[find_min_round(skel['y']):find_max_round(skel['y']),\n",
    "           find_min_round(skel['x']):find_max_round(skel['x'])])"
   ]
  },
  {
   "cell_type": "code",
   "execution_count": null,
   "id": "ace18906-7898-4613-b806-457ecfa35cf0",
   "metadata": {},
   "outputs": [],
   "source": [
    "coords"
   ]
  },
  {
   "cell_type": "code",
   "execution_count": null,
   "id": "ce481ac9-8803-4a90-b3e1-1041630ab0fd",
   "metadata": {},
   "outputs": [],
   "source": [
    "path = \"/Users/andreibirladeanu/Documents/Data/experimenting/tracked/1117_meal/skel1_tr1/2.csv\"\n",
    "data = pd.read_csv(path)"
   ]
  },
  {
   "cell_type": "code",
   "execution_count": null,
   "id": "ffe54daa-a644-45d9-bcb8-87113b6a3612",
   "metadata": {},
   "outputs": [],
   "source": [
    "data['x'].loc[8]"
   ]
  },
  {
   "cell_type": "code",
   "execution_count": null,
   "id": "47c31c72-0b8f-4af4-9206-4d198cf3e3cf",
   "metadata": {},
   "outputs": [],
   "source": [
    "### lets try to draw proper contours around people\n",
    "def torso_size(data):\n",
    "    neck = [data['x'].loc[1], data['y'].loc[1]]\n",
    "    if neck ==0:\n",
    "        return(0)\n",
    "    hip1 = [data['x'].loc[8], data['y'].loc[8]]\n",
    "    hip2 = [data['x'].loc[11], data['y'].loc[11]]\n",
    "    if hip1[0]>0 and hip2[0]>0:\n",
    "        probabilities = [data['p'].loc[8], data['p'].loc[11]]\n",
    "        max_p = np.argmax(probabilities)\n",
    "        if max_p==0:\n",
    "            torso = np.subtract(hip1, neck)\n",
    "        else:\n",
    "            torso = np.subtract(hip2, neck)\n",
    "    elif hip1[0]==0:\n",
    "        torso = np.subtract(hip2, neck)\n",
    "    else:\n",
    "        torso = np.subtract(hip1, neck)\n",
    "    return(torso)\n",
    "        \n",
    "        "
   ]
  },
  {
   "cell_type": "code",
   "execution_count": null,
   "id": "e1908b89-2dd0-4c44-bb4d-4a5edc1dbe01",
   "metadata": {},
   "outputs": [],
   "source": [
    "tuple1 = [2,3]\n",
    "tuple2 = [1,2]"
   ]
  },
  {
   "cell_type": "code",
   "execution_count": null,
   "id": "13b4e3da-dadf-41a5-9d4b-87ff4568d423",
   "metadata": {},
   "outputs": [],
   "source": [
    "np.subtract(tuple1, tuple2)"
   ]
  },
  {
   "cell_type": "code",
   "execution_count": null,
   "id": "125b8106-aa0f-47f7-9181-a1a44d620e9c",
   "metadata": {},
   "outputs": [],
   "source": [
    "torso_size(data)"
   ]
  },
  {
   "cell_type": "code",
   "execution_count": null,
   "id": "8b61df22-2d88-43b2-a839-1b81d10de499",
   "metadata": {},
   "outputs": [],
   "source": [
    "data"
   ]
  }
 ],
 "metadata": {
  "kernelspec": {
   "display_name": "Python 3 (ipykernel)",
   "language": "python",
   "name": "python3"
  },
  "language_info": {
   "codemirror_mode": {
    "name": "ipython",
    "version": 3
   },
   "file_extension": ".py",
   "mimetype": "text/x-python",
   "name": "python",
   "nbconvert_exporter": "python",
   "pygments_lexer": "ipython3",
   "version": "3.7.6"
  }
 },
 "nbformat": 4,
 "nbformat_minor": 5
}
