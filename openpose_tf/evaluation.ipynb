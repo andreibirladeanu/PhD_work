{
 "cells": [
  {
   "cell_type": "code",
   "execution_count": null,
   "id": "a58a612c-acf0-453a-a4ca-9ef3f9ac7859",
   "metadata": {},
   "outputs": [],
   "source": [
    "import os\n",
    "from tqdm import tqdm\n",
    "import pandas as pd\n",
    "import sys\n",
    "import numpy as np\n",
    "import matplotlib.pyplot as plt\n",
    "import cv2\n",
    "import re\n",
    "import shutil\n",
    "from pathlib import Path\n",
    "from sort_alpha import sorted_alpha\n",
    "import random\n",
    "from scipy.special import kl_div\n",
    "from scipy.spatial import distance\n",
    "from sklearn.cluster import KMeans"
   ]
  },
  {
   "cell_type": "code",
   "execution_count": null,
   "id": "2943d24b-5a8a-4426-8447-2552b6b02967",
   "metadata": {},
   "outputs": [],
   "source": [
    "def torso_size(data):\n",
    "    neck = [data['x'].loc[1], data['y'].loc[1]]\n",
    "    if neck ==0:\n",
    "        return([0])\n",
    "    hip1 = [data['x'].loc[8], data['y'].loc[8]]\n",
    "    hip2 = [data['x'].loc[11], data['y'].loc[11]]\n",
    "    if hip1[0]>0 and hip2[0]>0:\n",
    "        probabilities = [data['p'].loc[8], data['p'].loc[11]]\n",
    "        max_p = np.argmax(probabilities)\n",
    "        if max_p==0:\n",
    "            torso = distance.euclidean(hip1, neck)\n",
    "        else:\n",
    "            torso = distance.euclidean(hip2, neck)\n",
    "    elif hip1[0]==0:\n",
    "        torso = distance.euclidean(hip2, neck)\n",
    "    else:\n",
    "        torso = distance.euclidean(hip1, neck)\n",
    "    return(torso)"
   ]
  },
  {
   "cell_type": "code",
   "execution_count": null,
   "id": "7aaede77-503e-41db-a927-2ee0da224705",
   "metadata": {},
   "outputs": [],
   "source": [
    "def CountQuads(Arr2D, point):\n",
    "    \"\"\" Computes the probabilities of finding points in each 4 quadrant\n",
    "    defined by a vertical and horizontal lines crossing the point, by counting\n",
    "    the proportion of points in Arr2D in each quadrant.\n",
    "    :param list Arr2D: Array of points to be counted.\n",
    "    :param array point: A 2 element list, point, which is the center of\n",
    "    4 square quadrants.\n",
    "    :returns: a tuple of 4 floats.  The probabilities of finding a point in\n",
    "    each quadrants, with point as the origin.  p stands for positive, n for\n",
    "    negative, with the first and second positions meaning the x and y\n",
    "    directions respectively.\n",
    "    \"\"\"\n",
    "    if isinstance(point, list):\n",
    "        point = np.asarray((np.ravel(point)))\n",
    "    elif type(point).__module__+type(point).__name__ == 'numpyndarray':\n",
    "        point = np.ravel(point.copy())\n",
    "    else:\n",
    "        raise TypeError('Input point is neither list nor numpyndarray')\n",
    "    if len(point) != 2:\n",
    "        return\n",
    "    if isinstance(Arr2D, list):\n",
    "        Arr2D = np.asarray((Arr2D))\n",
    "    elif type(Arr2D).__module__+type(Arr2D).__name__ == 'numpyndarray':\n",
    "        pass\n",
    "    else:\n",
    "        raise TypeError('Input Arr2D is neither list nor numpyndarray')\n",
    "    if Arr2D.shape[1] > Arr2D.shape[0]:  # Reshape to A[row,column]\n",
    "        Arr2D = Arr2D.copy().T\n",
    "    if Arr2D.shape[1] != 2:\n",
    "        raise TypeError('Input Arr2D is not 2D')\n",
    "    # The pp of Qpp refer to p for 'positive' and n for 'negative' quadrants.\n",
    "    # In order. first subscript is x, second is y.\n",
    "    Qpp = Arr2D[(Arr2D[:, 0] > point[0]) & (Arr2D[:, 1] > point[1]), :]\n",
    "    Qnp = Arr2D[(Arr2D[:, 0] < point[0]) & (Arr2D[:, 1] > point[1]), :]\n",
    "    Qpn = Arr2D[(Arr2D[:, 0] > point[0]) & (Arr2D[:, 1] < point[1]), :]\n",
    "    Qnn = Arr2D[(Arr2D[:, 0] < point[0]) & (Arr2D[:, 1] < point[1]), :]\n",
    "    # Normalized fractions:\n",
    "    ff = 1./len(Arr2D)\n",
    "    fpp = len(Qpp)*ff\n",
    "    fnp = len(Qnp)*ff\n",
    "    fpn = len(Qpn)*ff\n",
    "    fnn = len(Qnn)*ff\n",
    "    # NOTE:  all the f's are supposed to sum to 1.0. Float representation\n",
    "    # cause SOMETIMES sum to 1.000000002 or something. I don't know how to\n",
    "    # test for that reliably, OR what to do about it yet. Keep in mind.\n",
    "    return(fpp, fnp, fpn, fnn)\n",
    "\n",
    "\n",
    "def FuncQuads(func2D, point, xlim, ylim, rounddig=4):\n",
    "    \"\"\" Computes the probabilities of finding points in each 4 quadrant\n",
    "    defined by a vertical and horizontal lines crossing the point, by\n",
    "    integrating the density function func2D in each quadrant.\n",
    "    :param array func2D: Density function that takes 2 arguments: x and y.\n",
    "    :param list point: A 2 element list, point, which is the center of 4\n",
    "    square quadrants.\n",
    "    :param array xlim,ylim: Domain of numerical integration necessary to\n",
    "    compute the quadrant probabilities.\n",
    "    :returns: a tuple of 4 floats. The probabilities of finding a point in\n",
    "    each quadrants, with point as the origin.  p stands for positive,\n",
    "    n for negative, with the first and second positions meaning the x and y\n",
    "    directions respectively.\n",
    "    \"\"\"\n",
    "    if callable(func2D):\n",
    "        if len(inspect.getfullargspec(func2D)[0]) != 2:\n",
    "            raise TypeError('Input func2D is not a function with 2 arguments')\n",
    "        pass\n",
    "    else:\n",
    "        raise TypeError('Input func2D is not a function')\n",
    "    # If xlim, ylim and point are not lists or ndarray, exit.\n",
    "    if isinstance(point, list):\n",
    "        point = np.asarray((np.ravel(point)))\n",
    "    elif type(point).__module__+type(point).__name__ == 'numpyndarray':\n",
    "        point = np.ravel(point.copy())\n",
    "    else:\n",
    "        raise TypeError('Input point is not a list or numpyndarray')\n",
    "    if len(point) != 2:\n",
    "        raise TypeError('Input point has not exactly 2 elements')\n",
    "    if isinstance(xlim, list):\n",
    "        xlim = np.asarray((np.sort(np.ravel(xlim))))\n",
    "    elif type(xlim).__module__+type(xlim).__name__ == 'numpyndarray':\n",
    "        xlim = np.sort(np.ravel(xlim.copy()))\n",
    "    else:\n",
    "        raise TypeError('Input xlim is not a list or ndarray')\n",
    "    if len(xlim) != 2:\n",
    "        raise TypeError('Input xlim has not exactly 2 elements')\n",
    "    if xlim[0] == xlim[1]:\n",
    "        raise TypeError('Input xlim[0] should be different to xlim[1]')\n",
    "    if isinstance(ylim, list):\n",
    "        ylim = np.asarray((np.sort(np.ravel(ylim))))\n",
    "    elif type(ylim).__module__+type(ylim).__name__ == 'numpyndarray':\n",
    "        ylim = np.sort(np.ravel(ylim.copy()))\n",
    "    else:\n",
    "        raise TypeError('Input ylim is not a list or ndarray')\n",
    "    if len(ylim) != 2:\n",
    "        raise TypeError('Input ylim has not exactly 2 elements')\n",
    "    if ylim[0] == ylim[1]:\n",
    "        raise TypeError('Input ylim[0] should be different to ylim[1]')\n",
    "    # Numerical integration to find the quadrant probabilities.\n",
    "    totInt = scipy.integrate.dblquad(func2D, *xlim,\n",
    "                                     lambda x: np.amin(ylim),\n",
    "                                     lambda x: np.amax(ylim))[0]\n",
    "    Qpp = scipy.integrate.dblquad(func2D, point[0], np.amax(xlim),\n",
    "                                  lambda x: point[1],\n",
    "                                  lambda x: np.amax(ylim))[0]\n",
    "    Qpn = scipy.integrate.dblquad(func2D, point[0], np.amax(xlim),\n",
    "                                  lambda x: np.amin(ylim),\n",
    "                                  lambda x: point[1])[0]\n",
    "    Qnp = scipy.integrate.dblquad(func2D, np.amin(xlim), point[0],\n",
    "                                  lambda x: point[1],\n",
    "                                  lambda x: np.amax(ylim))[0]\n",
    "    Qnn = scipy.integrate.dblquad(func2D, np.amin(xlim), point[0],\n",
    "                                  lambda x: np.amin(ylim),\n",
    "                                  lambda x: point[1])[0]\n",
    "    fpp = round(Qpp/totInt, rounddig)\n",
    "    fnp = round(Qnp/totInt, rounddig)\n",
    "    fpn = round(Qpn/totInt, rounddig)\n",
    "    fnn = round(Qnn/totInt, rounddig)\n",
    "    return(fpp, fnp, fpn, fnn)\n",
    "\n",
    "\n",
    "def Qks(alam, iter=100, prec=1e-17):\n",
    "    \"\"\" Computes the value of the KS probability function, as a function of\n",
    "    alam, the D statistic. From *Numerical recipes in C* page 623: '[...]\n",
    "    the K–S statistic useful is that its distribution in the case of the null\n",
    "    hypothesis (data sets drawn from the same distribution) can be calculated,\n",
    "    at least to useful approximation, thus giving the significance of any\n",
    "    observed nonzero value of D.' (D being the KS statistic).\n",
    "    :param float alam: D statistic.\n",
    "    :param int iter: Number of iterations to be perfomed. On non-convergence,\n",
    "    returns 1.0.\n",
    "    :param float prec: Convergence criteria of the qks. Stops converging if\n",
    "    that precision is attained.\n",
    "    :returns: a float. The significance level of the observed D statistic.\n",
    "    \"\"\"\n",
    "    # If j iterations are performed, meaning that toadd\n",
    "    # is still 2 times larger than the precision.\n",
    "    if isinstance(alam, int) | isinstance(alam, float):\n",
    "        pass\n",
    "    else:\n",
    "        raise TypeError('Input alam is neither int nor float')\n",
    "    toadd = [1]\n",
    "    qks = 0.\n",
    "    j = 1\n",
    "    while (j < iter) & (abs(toadd[-1]) > prec*2):\n",
    "        toadd.append(2.*(-1.)**(j-1.)*np.exp(-2.*j**2.*alam**2.))\n",
    "        qks += toadd[-1]\n",
    "        j += 1\n",
    "    if (j == iter) | (qks > 1):  # If no convergence after j iter, return 1.0\n",
    "        return(1.0)\n",
    "    if qks < prec:\n",
    "        return(0.)\n",
    "    else:\n",
    "        return(qks)\n",
    "\n",
    "\n",
    "\n",
    "\n",
    "\n",
    "\n",
    "\n",
    "def ks2d2s(Arr2D1, Arr2D2):\n",
    "    \"\"\" ks stands for Kolmogorov-Smirnov, 2d for 2 dimensional,\n",
    "    2s for 2 samples.\n",
    "    KS test for goodness-of-fit on two 2D samples. Tests the hypothesis that\n",
    "    the two samples are from the same distribution.\n",
    "    :param array Arr2D1: 2D array of points/samples.\n",
    "    :param array Arr2D2: 2D array of points/samples.\n",
    "    :returns: a tuple of two floats. First, the two-sample K-S statistic.\n",
    "    If this value is higher than the significance level of the hypothesis,\n",
    "    it is rejected. Second, the significance level of *d*. Small values of\n",
    "    prob show that the two samples are significantly different.\n",
    "    \"\"\"\n",
    "    if type(Arr2D1).__module__+type(Arr2D1).__name__ == 'numpyndarray':\n",
    "        pass\n",
    "    else:\n",
    "        raise TypeError('Input Arr2D1 is neither list nor numpyndarray')\n",
    "    if Arr2D1.shape[1] > Arr2D1.shape[0]:\n",
    "        Arr2D1 = Arr2D1.copy().T\n",
    "    if type(Arr2D2).__module__+type(Arr2D2).__name__ == 'numpyndarray':\n",
    "        pass\n",
    "    else:\n",
    "        raise TypeError('Input Arr2D2 is neither list nor numpyndarray')\n",
    "    if Arr2D2.shape[1] > Arr2D2.shape[0]:\n",
    "        Arr2D2 = Arr2D2.copy().T\n",
    "    if Arr2D1.shape[1] != 2:\n",
    "        raise TypeError('Input Arr2D1 is not 2D')\n",
    "    if Arr2D2.shape[1] != 2:\n",
    "        raise TypeError('Input Arr2D2 is not 2D')\n",
    "    d1, d2 = 0., 0.\n",
    "    for point1 in Arr2D1:\n",
    "        fpp1, fmp1, fpm1, fmm1 = CountQuads(Arr2D1, point1)\n",
    "        fpp2, fmp2, fpm2, fmm2 = CountQuads(Arr2D2, point1)\n",
    "        d1 = max(d1, abs(fpp1-fpp2))\n",
    "        d1 = max(d1, abs(fpm1-fpm2))\n",
    "        d1 = max(d1, abs(fmp1-fmp2))\n",
    "        d1 = max(d1, abs(fmm1-fmm2))\n",
    "    for point2 in Arr2D2:\n",
    "        fpp1, fmp1, fpm1, fmm1 = CountQuads(Arr2D1, point2)\n",
    "        fpp2, fmp2, fpm2, fmm2 = CountQuads(Arr2D2, point2)\n",
    "        d2 = max(d2, abs(fpp1-fpp2))\n",
    "        d2 = max(d2, abs(fpm1-fpm2))\n",
    "        d2 = max(d2, abs(fmp1-fmp2))\n",
    "        d2 = max(d2, abs(fmm1-fmm2))\n",
    "    d = (d1+d2)/2.\n",
    "    sqen = np.sqrt(len(Arr2D1)*len(Arr2D2)/(len(Arr2D1)+len(Arr2D2)))\n",
    "    R1 = scipy.stats.pearsonr(Arr2D1[:, 0], Arr2D1[:, 1])[0]\n",
    "    R2 = scipy.stats.pearsonr(Arr2D2[:, 0], Arr2D2[:, 1])[0]\n",
    "    RR = np.sqrt(1.-(R1*R1+R2*R2)/2.)\n",
    "    prob = Qks(d*sqen/(1.+RR*(0.25-0.75/sqen)))\n",
    "    # Small values of prob show that the two samples are significantly\n",
    "    # different. Prob is the significance level of an observed value of d.\n",
    "    # NOT the same as the significance level that ou set and compare to D.\n",
    "    return(d, prob)"
   ]
  },
  {
   "cell_type": "code",
   "execution_count": null,
   "id": "79ca24d4-8ff0-4d39-a73d-f362331e5b96",
   "metadata": {},
   "outputs": [],
   "source": [
    "path_openpose = Path('/Users/andreibirladeanu/Documents/Data/bounding_boxes/1043_meal')\n",
    "folders = sorted_alpha(path_openpose)"
   ]
  },
  {
   "cell_type": "code",
   "execution_count": null,
   "id": "8963cc0b-ce36-438a-b1dc-4ee495da886f",
   "metadata": {},
   "outputs": [],
   "source": [
    "means = []\n",
    "for folder in folders:\n",
    "    temp_list= []\n",
    "    for coord in sorted_alpha(os.path.join(path_openpose, folder)):\n",
    "        image = cv2.imread(os.path.join(path_openpose, folder, coord))\n",
    "        mean = np.mean(image,axis=2, dtype=np.float32)\n",
    "        temp_list.append(np.mean(mean))\n",
    "    means.append(temp_list)"
   ]
  },
  {
   "cell_type": "code",
   "execution_count": null,
   "id": "c3ef72fb-4ff2-4a9a-9b40-0a6dab5428a6",
   "metadata": {},
   "outputs": [],
   "source": [
    "import sys\n",
    "import inspect\n",
    "import numpy as np\n",
    "import scipy.stats\n",
    "\n",
    "ks2d2s(np.array(locations[0]), np.array(locations[1]))"
   ]
  },
  {
   "cell_type": "code",
   "execution_count": null,
   "id": "283a8071-8722-49d7-a34c-93b9001d9e6e",
   "metadata": {},
   "outputs": [],
   "source": [
    "means[0]"
   ]
  },
  {
   "cell_type": "code",
   "execution_count": null,
   "id": "1f4f51a5-029a-415d-9156-fe0b82c79572",
   "metadata": {},
   "outputs": [],
   "source": [
    "np.mean(kl_div(means[0], means[1]))"
   ]
  },
  {
   "cell_type": "code",
   "execution_count": null,
   "id": "79e7d994-cef2-457d-afc3-9c31fc6fe9a9",
   "metadata": {},
   "outputs": [],
   "source": [
    "def euclidean_distance(detection, tracked_object):\n",
    "    return np.linalg.norm(detection.points - tracked_object.estimate)\n"
   ]
  },
  {
   "cell_type": "code",
   "execution_count": null,
   "id": "a314e87f-239a-431b-ad0b-7836365fad66",
   "metadata": {},
   "outputs": [],
   "source": [
    "from norfair import Detection, Tracker, Video, draw_tracked_objects, draw_tracked_boxes\n",
    "from norfair import FilterPyKalmanFilterFactory\n",
    "from norfair import OptimizedKalmanFilterFactory\n",
    "from norfair import NoFilterFactory"
   ]
  },
  {
   "cell_type": "code",
   "execution_count": null,
   "id": "58525387-c48b-4322-ad16-8ddcb1951b92",
   "metadata": {},
   "outputs": [],
   "source": [
    "video = Video(input_path=\"/Users/andreibirladeanu/Documents/Data/meal_videos/1053_meal.mp4\")\n",
    "tracker = Tracker(distance_function=euclidean_distance, distance_threshold=100, hit_counter_max=100, initialization_delay =0, \n",
    "                 past_detections_length=10)"
   ]
  },
  {
   "cell_type": "code",
   "execution_count": null,
   "id": "a486c23a-8da4-4fa1-891c-6bb8a3ec0439",
   "metadata": {},
   "outputs": [],
   "source": [
    "path_openpose = '/Users/andreibirladeanu/Documents/Data/meal_tracked_bbox/1053_meal/skel1'\n",
    "coords = sorted_alpha(path_openpose)"
   ]
  },
  {
   "cell_type": "code",
   "execution_count": null,
   "id": "e3aac3d9-2e9f-4537-ac76-44c13e05cfde",
   "metadata": {},
   "outputs": [],
   "source": [
    "filter = NoFilterFactory(create_filter(detections))"
   ]
  },
  {
   "cell_type": "code",
   "execution_count": null,
   "id": "26f70eb9-ccc1-4b11-87f2-64b64d5c184a",
   "metadata": {},
   "outputs": [],
   "source": [
    "points = []\n",
    "scores=[]\n",
    "for coord in coords:\n",
    "    data = pd.read_csv(os.path.join(path_openpose,coord))\n",
    "    points.append(data[['x','y']].to_numpy())\n",
    "    scores.append(data['p'].to_numpy())"
   ]
  },
  {
   "cell_type": "code",
   "execution_count": null,
   "id": "1d6bb0ad-128e-4ee4-950a-fea5a5c4e688",
   "metadata": {},
   "outputs": [],
   "source": [
    "coords_frames = [int(x.split(\".\")[0]) for x in coords]"
   ]
  },
  {
   "cell_type": "code",
   "execution_count": null,
   "id": "27d684fd-f058-4b40-acf3-26a239d25f0c",
   "metadata": {},
   "outputs": [],
   "source": [
    "cap = cv2.VideoCapture(\"/Users/andreibirladeanu/Documents/Data/meal_videos/1053_meal.mp4\")\n",
    "tracked_ = []\n",
    "for point,score,coord in zip(points,scores,coords_frames):\n",
    "    detections = [Detection(points=point,scores=score)]\n",
    "    tracked_objects = tracker.update(detections=detections)\n",
    "    tracked_.append(tracked_objects)\n",
    "    print(coord, tracked_objects)\n",
    "    cap.set(1,coord-1)\n",
    "    ret,image = cap.read()\n",
    "    draw_tracked_boxes(image, tracked_objects, id_size =2, draw_box=True, draw_labels=True)\n",
    "    cv2.imshow('frame'+str(coord),image)\n",
    "    cv2.waitKey(0)\n",
    "    cv2.destroyAllWindows()\n",
    "    video.write(image)"
   ]
  },
  {
   "cell_type": "code",
   "execution_count": null,
   "id": "78b925c8-9ed4-4cb9-a8b2-d2442ad0be7c",
   "metadata": {},
   "outputs": [],
   "source": [
    "### do k means on the lenghts \n",
    "path_openpose = '/Users/andreibirladeanu/Documents/Data/tracking/skeletons/meal_final_tracking/'\n",
    "folders = sorted_alpha(path_openpose)\n"
   ]
  },
  {
   "cell_type": "code",
   "execution_count": null,
   "id": "ae266f0e-9e91-4be1-ba91-1deb10ff7b51",
   "metadata": {},
   "outputs": [],
   "source": [
    "coords_1 = []\n",
    "for coord in sorted_alpha(os.path.join(path_openpose,folders[0])):\n",
    "    data = pd.read_csv(os.path.join(path_openpose,folders[0],coord))\n",
    "    neck = [data['x'].loc[1], data['y'].loc[1]]\n",
    "    coords_1.append(np.array(neck))"
   ]
  },
  {
   "cell_type": "code",
   "execution_count": null,
   "id": "e51e3df1-f08b-43f9-8205-207e4a4b5a23",
   "metadata": {},
   "outputs": [],
   "source": [
    "coords_2 = []\n",
    "for coord in sorted_alpha(os.path.join(path_openpose,folders[1])):\n",
    "    data = pd.read_csv(os.path.join(path_openpose,folders[1],coord))\n",
    "    neck = [data['x'].loc[1], data['y'].loc[1]]\n",
    "    coords_2.append(np.array(neck))"
   ]
  },
  {
   "cell_type": "code",
   "execution_count": null,
   "id": "d41d907c-bd4e-4b0a-bd9e-f6c5a566ae06",
   "metadata": {},
   "outputs": [],
   "source": [
    "from sklearn.metrics import silhouette_samples, silhouette_score"
   ]
  },
  {
   "cell_type": "code",
   "execution_count": null,
   "id": "cb51198d-2e34-487f-903c-783feaacdcee",
   "metadata": {},
   "outputs": [],
   "source": [
    "labels_1 = [0 for i in range(len(coords_1))]\n",
    "labels_2 = [1 for i in range(len(coords_2))]"
   ]
  },
  {
   "cell_type": "code",
   "execution_count": null,
   "id": "03d429d7-aee8-4d29-8405-b891226ea3a6",
   "metadata": {},
   "outputs": [],
   "source": [
    "X = np.concatenate((coords_1, coords_2))"
   ]
  },
  {
   "cell_type": "code",
   "execution_count": null,
   "id": "935a176e-2d46-4a6a-ac73-32e35caf2a1f",
   "metadata": {},
   "outputs": [],
   "source": [
    "len(labels_2), len(coords_2)"
   ]
  },
  {
   "cell_type": "code",
   "execution_count": null,
   "id": "e3b18100-20c8-4234-ae13-5e214dc2dd7b",
   "metadata": {},
   "outputs": [],
   "source": [
    "len(np.concatenate((labels_1, labels_2)))"
   ]
  },
  {
   "cell_type": "code",
   "execution_count": null,
   "id": "e80f23c3-fab2-4217-aa8d-1376cbb1ef40",
   "metadata": {},
   "outputs": [],
   "source": [
    "samples = silhouette_samples(X, np.concatenate((labels_1, labels_2)))"
   ]
  },
  {
   "cell_type": "code",
   "execution_count": null,
   "id": "aa49d098-81c3-4550-a135-5fc2589cd199",
   "metadata": {},
   "outputs": [],
   "source": [
    "silhouette_score(X, np.concatenate((labels_1, labels_2)))"
   ]
  },
  {
   "cell_type": "code",
   "execution_count": null,
   "id": "9bbefa3b-28c4-4b04-b383-591639538501",
   "metadata": {},
   "outputs": [],
   "source": [
    "samples"
   ]
  },
  {
   "cell_type": "code",
   "execution_count": null,
   "id": "5b9a2e89-e681-456c-8642-282957012b50",
   "metadata": {},
   "outputs": [],
   "source": [
    "### do it for the whole sampel now \n",
    "similarity = []\n",
    "for folder in tqdm(folders): \n",
    "    if len(sorted_alpha(os.path.join(path_openpose,folder)))<2:\n",
    "        continue\n",
    "    skel1 = []\n",
    "    skel2 = []\n",
    "    for skel in enumerate(sorted_alpha(os.path.join(path_openpose,folder))):\n",
    "        for coord in sorted_alpha(os.path.join(path_openpose,folder,skel[1])):\n",
    "            data = pd.read_csv(os.path.join(path_openpose,folder,skel[1], coord))\n",
    "            neck = [data['x'].loc[1], data['y'].loc[1]]\n",
    "            if skel[0]== 0:\n",
    "                skel1.append(neck)\n",
    "            else:\n",
    "                skel2.append(neck)\n",
    "    labels_1 = [0 for i in range(len(skel1))]\n",
    "    labels_2 = [1 for i in range(len(skel2))]\n",
    "    labels = np.concatenate((labels_1, labels_2))\n",
    "    X = np.concatenate((skel1, skel2))\n",
    "    score = silhouette_score(X, labels)\n",
    "    similarity.append(score)\n",
    "            "
   ]
  },
  {
   "cell_type": "code",
   "execution_count": null,
   "id": "f8c8928e-0f69-40c3-b7ab-9318175f5f28",
   "metadata": {},
   "outputs": [],
   "source": [
    "### how many humans tracked\n",
    "path_openpose = '/Users/andreibirladeanu/Documents/Data/tracking/skeletons/meal_final_tracking/'\n",
    "folders = sorted_alpha(path_openpose)"
   ]
  },
  {
   "cell_type": "code",
   "execution_count": null,
   "id": "305270ca-589c-4b7b-8b79-354923be64ee",
   "metadata": {},
   "outputs": [],
   "source": [
    "folders"
   ]
  },
  {
   "cell_type": "code",
   "execution_count": null,
   "id": "ad840ed8-ddf5-4fb4-84e7-0ffc507c144e",
   "metadata": {},
   "outputs": [],
   "source": [
    "skel1 = []\n",
    "skel2 = []\n",
    "for folder in folders:\n",
    "    if len(sorted_alpha(os.path.join(path_openpose,folder)))<2:\n",
    "        continue\n",
    "    skeletons=[]\n",
    "    for skeleton in enumerate(sorted_alpha(os.path.join(path_openpose,folder))):\n",
    "        if skeleton[0]==0:\n",
    "            skel1.append(len(os.listdir(os.path.join(path_openpose,folder,skeleton[1]))))\n",
    "        else:\n",
    "            skel2.append(len(os.listdir(os.path.join(path_openpose,folder,skeleton[1]))))"
   ]
  },
  {
   "cell_type": "code",
   "execution_count": null,
   "id": "7acb4a6b-93f4-487c-a4ea-3582316786e9",
   "metadata": {},
   "outputs": [],
   "source": [
    "len(skel1), len(skel2)"
   ]
  },
  {
   "cell_type": "code",
   "execution_count": null,
   "id": "e2a7529c-e462-4cae-806a-de3000604f17",
   "metadata": {},
   "outputs": [],
   "source": [
    "folders.remove('1091_meal')"
   ]
  },
  {
   "cell_type": "code",
   "execution_count": null,
   "id": "29ce3b61-b7ef-427b-848c-b78fbb895ca5",
   "metadata": {},
   "outputs": [],
   "source": [
    "np.mean(similarity)"
   ]
  },
  {
   "cell_type": "code",
   "execution_count": null,
   "id": "bff618da-3c90-4417-9d91-f51816067e48",
   "metadata": {},
   "outputs": [],
   "source": [
    "humans = pd.DataFrame(list(zip(folders,skel1,skel2, similarity)), columns=['video', 'human1','human2','similarity'])"
   ]
  },
  {
   "cell_type": "code",
   "execution_count": null,
   "id": "cb648df9-c4ee-4730-9448-992b4c66b495",
   "metadata": {},
   "outputs": [],
   "source": [
    "humans"
   ]
  },
  {
   "cell_type": "code",
   "execution_count": null,
   "id": "43be8068-2c1e-4fc5-ba16-8ab3ca7d0925",
   "metadata": {},
   "outputs": [],
   "source": [
    "with pd.option_context('display.max_rows', None, 'display.max_columns', None):  # more options can be specified also\n",
    "    print(humans)"
   ]
  },
  {
   "cell_type": "code",
   "execution_count": null,
   "id": "4400eaeb-4fda-484b-b897-a77b9ece5bc4",
   "metadata": {},
   "outputs": [],
   "source": [
    "humans.to_csv('tracking_stats.csv')"
   ]
  },
  {
   "cell_type": "code",
   "execution_count": null,
   "id": "1f048bd2-6be5-4026-96f8-8019c2322f99",
   "metadata": {},
   "outputs": [],
   "source": [
    "### another clustering based on rgb channels\n",
    "path_folders = '/Users/andreibirladeanu/Documents/Data/tracking/bboxes/final_bbox_clustering'\n",
    "path_videos = '/Users/andreibirladeanu/Documents/Data/meal_videos'\n",
    "similarity = []\n",
    "for folder in folders:\n",
    "    print(folder)\n",
    "    skel1 = []\n",
    "    skel2 = []\n",
    "    if len(sorted_alpha(os.path.join(path_openpose,folder)))<2:\n",
    "        continue\n",
    "    for skel in enumerate(sorted_alpha(os.path.join(path_folders,folder))):\n",
    "        for coord in sorted_alpha(os.path.join(path_folders,folder,skel[1])):\n",
    "            img = cv2.imread(os.path.join(path_folders, folder, skel[1], coord))\n",
    "            b,g,r = cv2.split(img)\n",
    "            if skel[0]== 0:\n",
    "                skel1.append([np.mean(b), np.mean(g), np.mean(r)])\n",
    "            else:\n",
    "                skel2.append([np.mean(b), np.mean(g), np.mean(r)])\n",
    "    labels_1 = [0 for i in range(len(skel1))]\n",
    "    labels_2 = [1 for i in range(len(skel2))]\n",
    "    labels = np.concatenate((labels_1, labels_2))\n",
    "    X = np.concatenate((skel1, skel2))\n",
    "    score = silhouette_score(X, labels)\n",
    "    print(score)\n",
    "    similarity.append(score)\n",
    "            \n",
    "            "
   ]
  },
  {
   "cell_type": "code",
   "execution_count": null,
   "id": "bdcfff21-ebb5-4f80-bdba-4fedae91dfe8",
   "metadata": {},
   "outputs": [],
   "source": [
    "\n",
    "for x , y in zip(np.round_(similarity, decimals=2), folders):\n",
    "    if x <=0.15:\n",
    "        print(x,y)"
   ]
  },
  {
   "cell_type": "code",
   "execution_count": null,
   "id": "9b9c5c3b-7183-486c-808f-9033f234632a",
   "metadata": {},
   "outputs": [],
   "source": [
    "len(folders)"
   ]
  },
  {
   "cell_type": "code",
   "execution_count": null,
   "id": "f006e328-0ba0-4228-9751-c8d51f980163",
   "metadata": {},
   "outputs": [],
   "source": [
    "round(np.array(similarity))"
   ]
  },
  {
   "cell_type": "code",
   "execution_count": null,
   "id": "c9b4eab8-540b-4ef6-a4ae-579b6492bad4",
   "metadata": {},
   "outputs": [],
   "source": [
    "huh =np.round_(similarity, decimals=2)"
   ]
  },
  {
   "cell_type": "code",
   "execution_count": null,
   "id": "0e916b95-54db-47b7-8916-f7831bfc46a1",
   "metadata": {},
   "outputs": [],
   "source": [
    "huh[0]==0.63"
   ]
  },
  {
   "cell_type": "code",
   "execution_count": null,
   "id": "d53b7b7b-71e9-4888-904d-e138607169ec",
   "metadata": {},
   "outputs": [],
   "source": [
    "len(folders)"
   ]
  }
 ],
 "metadata": {
  "kernelspec": {
   "display_name": "Python 3 (ipykernel)",
   "language": "python",
   "name": "python3"
  },
  "language_info": {
   "codemirror_mode": {
    "name": "ipython",
    "version": 3
   },
   "file_extension": ".py",
   "mimetype": "text/x-python",
   "name": "python",
   "nbconvert_exporter": "python",
   "pygments_lexer": "ipython3",
   "version": "3.7.6"
  }
 },
 "nbformat": 4,
 "nbformat_minor": 5
}
