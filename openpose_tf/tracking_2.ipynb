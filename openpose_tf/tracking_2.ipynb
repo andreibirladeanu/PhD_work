{
 "cells": [
  {
   "cell_type": "code",
   "execution_count": 138,
   "id": "d1755827-010d-4310-bd78-25c6ee767d91",
   "metadata": {},
   "outputs": [],
   "source": [
    "import os\n",
    "import os.path\n",
    "from os import path\n",
    "import shutil\n",
    "from tqdm import tqdm\n",
    "import pandas as pd\n",
    "import sys\n",
    "import time\n",
    "import logging\n",
    "import numpy as np\n",
    "import matplotlib.pyplot as plt\n",
    "import cv2\n",
    "import re\n",
    "from pathlib import Path\n",
    "from unidip import UniDip\n",
    "import unidip.dip as dip\n",
    "from sklearn.mixture import GaussianMixture\n",
    "from frame_count import frame_count"
   ]
  },
  {
   "cell_type": "code",
   "execution_count": 3,
   "id": "cf8e134e-8d50-4968-9b4c-768706f900d5",
   "metadata": {},
   "outputs": [],
   "source": [
    "def sorted_alphanumeric(data):\n",
    "    convert = lambda text: int(text) if text.isdigit() else text.lower()\n",
    "    alphanum_key = lambda key: [ convert(c) for c in re.split('([0-9]+)', key) ] \n",
    "    return sorted(data, key=alphanum_key)"
   ]
  },
  {
   "cell_type": "code",
   "execution_count": null,
   "id": "c28f3e2e-973f-412e-ac85-df162794a8a7",
   "metadata": {},
   "outputs": [],
   "source": []
  },
  {
   "cell_type": "code",
   "execution_count": 4,
   "id": "863f64c7-fd4c-432c-a0d6-3e0bbb002507",
   "metadata": {},
   "outputs": [],
   "source": [
    "def find_min_round(array):\n",
    "    array = np.array(array.loc[[0,1,2,5,8,11,15,16,17]])#remove the arms from the equation cause the bounding boxes are too large \n",
    "    x = round(np.min(array[np.nonzero(array)]))\n",
    "    return(x)\n",
    "\n",
    "def find_max_round(array):\n",
    "    array = np.array(array.loc[[0,1,2,5,8,11,15,16,17]])\n",
    "    x = round(np.max(array))\n",
    "    return(x)"
   ]
  },
  {
   "cell_type": "code",
   "execution_count": 4,
   "id": "81f39afb-2e03-469b-85a8-fb0c32b1c45d",
   "metadata": {},
   "outputs": [],
   "source": [
    "def bounding_box(frame,coords):\n",
    "    bbox = frame[find_min_round(coords['y']):find_max_round(coords['y']),\n",
    "           find_min_round(coords['x']):find_max_round(coords['x'])]\n",
    "    return(bbox)"
   ]
  },
  {
   "cell_type": "markdown",
   "id": "414284d7-5d32-4ba9-8936-4fd20c125429",
   "metadata": {},
   "source": [
    "## iterate thru all of skeleton 1 (tracked) in all the videos\n"
   ]
  },
  {
   "cell_type": "code",
   "execution_count": 142,
   "id": "cdde6a83-8e2b-4d48-be37-1d67994f6127",
   "metadata": {},
   "outputs": [],
   "source": [
    "path_skeletons = Path('/Users/andreibirladeanu/Documents/Data/meal_tracked_exp/')\n",
    "folders = [x for x in sorted_alphanumeric(os.listdir(path_skeletons)) if x[0]!=\".\"]\n",
    "path_videos = Path('/Users/andreibirladeanu/Documents/Data/meal_videos/')"
   ]
  },
  {
   "cell_type": "code",
   "execution_count": 145,
   "id": "85dc0091-3717-4a36-a6b2-da3540c17d8a",
   "metadata": {},
   "outputs": [],
   "source": [
    "### if one of the 3 skeleton folders is less than 10% of the whole data then discard\n",
    "\n",
    "    \n",
    "for folder in folders:\n",
    "    sample_size = 0\n",
    "    if folder[0] == \".\":\n",
    "        continue\n",
    "    for skeleton in os.listdir(os.path.join(path_skeletons, folder)):\n",
    "        if skeleton[0] ==\".\":\n",
    "            continue\n",
    "        sample_size += len(os.listdir(os.path.join(path_skeletons, folder, skeleton)))\n",
    "    for skeleton in os.listdir(os.path.join(path_skeletons, folder)):\n",
    "        if skeleton[0] ==\".\":\n",
    "            continue\n",
    "        if len(os.listdir(os.path.join(path_skeletons, folder, skeleton))) < (5/100*sample_size):\n",
    "            shutil.rmtree(os.path.join(path_skeletons, folder, skeleton))\n",
    "        "
   ]
  },
  {
   "cell_type": "code",
   "execution_count": 143,
   "id": "c5b9ce76-f0c1-4635-9db7-33e9c7d06c73",
   "metadata": {},
   "outputs": [],
   "source": [
    "sk = 'skel1'\n",
    "skeleton_folders = [os.path.join(path_skeletons, folder, sk) for folder in folders if folder[0]!=\".\"]"
   ]
  },
  {
   "cell_type": "code",
   "execution_count": 126,
   "id": "d25e22b9-ef13-4816-9a25-bfcec98be4f8",
   "metadata": {
    "collapsed": true,
    "jupyter": {
     "outputs_hidden": true
    },
    "tags": []
   },
   "outputs": [
    {
     "data": {
      "text/plain": [
       "['1043_meal',\n",
       " '1047_meal',\n",
       " '1049_meal',\n",
       " '1049_meal_1',\n",
       " '1053_meal',\n",
       " '1059_meal',\n",
       " '1059_meal_1',\n",
       " '1062_meal',\n",
       " '1069_meal',\n",
       " '1073_meal',\n",
       " '1073_meal_1',\n",
       " '1079_meal',\n",
       " '1079_meal_1',\n",
       " '1080_meal',\n",
       " '1082_meal',\n",
       " '1082_meal_1',\n",
       " '1089_meal',\n",
       " '1089_meal_1',\n",
       " '1089_meal_2',\n",
       " '1091_meal',\n",
       " '1092_meal',\n",
       " '1093_meal',\n",
       " '1096_meal',\n",
       " '1096_meal_1',\n",
       " '1097_meal',\n",
       " '1098_meal',\n",
       " '1098_meal_1',\n",
       " '1099_meal',\n",
       " '1104_meal',\n",
       " '1104_meal_1',\n",
       " '1105_meal',\n",
       " '1107_meal',\n",
       " '1108_meal',\n",
       " '1108_meal_1',\n",
       " '1108_meal_2',\n",
       " '1112_meal',\n",
       " '1112_meal_1',\n",
       " '1112_meal_2',\n",
       " '1117_meal',\n",
       " '1118_meal',\n",
       " '1118_meal_1',\n",
       " '1122_meal',\n",
       " '1124_meal',\n",
       " '1125_meal',\n",
       " '1129_meal',\n",
       " '1130_meal',\n",
       " '1131_meal',\n",
       " '1132_meal',\n",
       " '1148_meal',\n",
       " '1161_meal',\n",
       " '1161_meal_1',\n",
       " '1170_meal',\n",
       " '1180_meal',\n",
       " '1181_meal',\n",
       " '1184_meal',\n",
       " '1186_meal',\n",
       " '1190_meal',\n",
       " '1190_meal_1',\n",
       " '1195_meal',\n",
       " '1195_meal_1',\n",
       " '1206_meal',\n",
       " '1206_meal_1',\n",
       " '1210_meal',\n",
       " '1217_meal',\n",
       " '1217_meal_1',\n",
       " '1230_meal',\n",
       " '1234_meal',\n",
       " '1241_meal',\n",
       " '1245_meal',\n",
       " '1246_meal',\n",
       " '1250_meal',\n",
       " '1263_meal',\n",
       " '1264_meal',\n",
       " '1282_meal',\n",
       " '2009_meal',\n",
       " '2025_meal',\n",
       " '2025_meal_1',\n",
       " '2027_meal']"
      ]
     },
     "execution_count": 126,
     "metadata": {},
     "output_type": "execute_result"
    }
   ],
   "source": [
    "folders"
   ]
  },
  {
   "cell_type": "code",
   "execution_count": 144,
   "id": "84869021-992c-4d82-86f2-4b1421308e0c",
   "metadata": {
    "collapsed": true,
    "jupyter": {
     "outputs_hidden": true
    },
    "tags": []
   },
   "outputs": [
    {
     "data": {
      "text/plain": [
       "(['/Users/andreibirladeanu/Documents/Data/meal_tracked_exp/1043_meal/skel3',\n",
       "  '/Users/andreibirladeanu/Documents/Data/meal_tracked_exp/1047_meal/skel3',\n",
       "  '/Users/andreibirladeanu/Documents/Data/meal_tracked_exp/1049_meal/skel3',\n",
       "  '/Users/andreibirladeanu/Documents/Data/meal_tracked_exp/1049_meal_1/skel3',\n",
       "  '/Users/andreibirladeanu/Documents/Data/meal_tracked_exp/1053_meal/skel3',\n",
       "  '/Users/andreibirladeanu/Documents/Data/meal_tracked_exp/1059_meal/skel3',\n",
       "  '/Users/andreibirladeanu/Documents/Data/meal_tracked_exp/1059_meal_1/skel3',\n",
       "  '/Users/andreibirladeanu/Documents/Data/meal_tracked_exp/1062_meal/skel3',\n",
       "  '/Users/andreibirladeanu/Documents/Data/meal_tracked_exp/1069_meal/skel3',\n",
       "  '/Users/andreibirladeanu/Documents/Data/meal_tracked_exp/1073_meal/skel3',\n",
       "  '/Users/andreibirladeanu/Documents/Data/meal_tracked_exp/1073_meal_1/skel3',\n",
       "  '/Users/andreibirladeanu/Documents/Data/meal_tracked_exp/1079_meal/skel3',\n",
       "  '/Users/andreibirladeanu/Documents/Data/meal_tracked_exp/1079_meal_1/skel3',\n",
       "  '/Users/andreibirladeanu/Documents/Data/meal_tracked_exp/1080_meal/skel3',\n",
       "  '/Users/andreibirladeanu/Documents/Data/meal_tracked_exp/1082_meal/skel3',\n",
       "  '/Users/andreibirladeanu/Documents/Data/meal_tracked_exp/1082_meal_1/skel3',\n",
       "  '/Users/andreibirladeanu/Documents/Data/meal_tracked_exp/1089_meal/skel3',\n",
       "  '/Users/andreibirladeanu/Documents/Data/meal_tracked_exp/1089_meal_1/skel3',\n",
       "  '/Users/andreibirladeanu/Documents/Data/meal_tracked_exp/1089_meal_2/skel3',\n",
       "  '/Users/andreibirladeanu/Documents/Data/meal_tracked_exp/1091_meal/skel3',\n",
       "  '/Users/andreibirladeanu/Documents/Data/meal_tracked_exp/1092_meal/skel3',\n",
       "  '/Users/andreibirladeanu/Documents/Data/meal_tracked_exp/1093_meal/skel3',\n",
       "  '/Users/andreibirladeanu/Documents/Data/meal_tracked_exp/1096_meal/skel3',\n",
       "  '/Users/andreibirladeanu/Documents/Data/meal_tracked_exp/1096_meal_1/skel3',\n",
       "  '/Users/andreibirladeanu/Documents/Data/meal_tracked_exp/1097_meal/skel3',\n",
       "  '/Users/andreibirladeanu/Documents/Data/meal_tracked_exp/1098_meal/skel3',\n",
       "  '/Users/andreibirladeanu/Documents/Data/meal_tracked_exp/1098_meal_1/skel3',\n",
       "  '/Users/andreibirladeanu/Documents/Data/meal_tracked_exp/1099_meal/skel3',\n",
       "  '/Users/andreibirladeanu/Documents/Data/meal_tracked_exp/1104_meal/skel3',\n",
       "  '/Users/andreibirladeanu/Documents/Data/meal_tracked_exp/1104_meal_1/skel3',\n",
       "  '/Users/andreibirladeanu/Documents/Data/meal_tracked_exp/1105_meal/skel3',\n",
       "  '/Users/andreibirladeanu/Documents/Data/meal_tracked_exp/1107_meal/skel3',\n",
       "  '/Users/andreibirladeanu/Documents/Data/meal_tracked_exp/1108_meal/skel3',\n",
       "  '/Users/andreibirladeanu/Documents/Data/meal_tracked_exp/1108_meal_1/skel3',\n",
       "  '/Users/andreibirladeanu/Documents/Data/meal_tracked_exp/1108_meal_2/skel3',\n",
       "  '/Users/andreibirladeanu/Documents/Data/meal_tracked_exp/1112_meal/skel3',\n",
       "  '/Users/andreibirladeanu/Documents/Data/meal_tracked_exp/1112_meal_1/skel3',\n",
       "  '/Users/andreibirladeanu/Documents/Data/meal_tracked_exp/1112_meal_2/skel3',\n",
       "  '/Users/andreibirladeanu/Documents/Data/meal_tracked_exp/1117_meal/skel3',\n",
       "  '/Users/andreibirladeanu/Documents/Data/meal_tracked_exp/1118_meal/skel3',\n",
       "  '/Users/andreibirladeanu/Documents/Data/meal_tracked_exp/1118_meal_1/skel3',\n",
       "  '/Users/andreibirladeanu/Documents/Data/meal_tracked_exp/1122_meal/skel3',\n",
       "  '/Users/andreibirladeanu/Documents/Data/meal_tracked_exp/1124_meal/skel3',\n",
       "  '/Users/andreibirladeanu/Documents/Data/meal_tracked_exp/1125_meal/skel3',\n",
       "  '/Users/andreibirladeanu/Documents/Data/meal_tracked_exp/1129_meal/skel3',\n",
       "  '/Users/andreibirladeanu/Documents/Data/meal_tracked_exp/1130_meal/skel3',\n",
       "  '/Users/andreibirladeanu/Documents/Data/meal_tracked_exp/1131_meal/skel3',\n",
       "  '/Users/andreibirladeanu/Documents/Data/meal_tracked_exp/1132_meal/skel3',\n",
       "  '/Users/andreibirladeanu/Documents/Data/meal_tracked_exp/1148_meal/skel3',\n",
       "  '/Users/andreibirladeanu/Documents/Data/meal_tracked_exp/1161_meal/skel3',\n",
       "  '/Users/andreibirladeanu/Documents/Data/meal_tracked_exp/1161_meal_1/skel3',\n",
       "  '/Users/andreibirladeanu/Documents/Data/meal_tracked_exp/1170_meal/skel3',\n",
       "  '/Users/andreibirladeanu/Documents/Data/meal_tracked_exp/1180_meal/skel3',\n",
       "  '/Users/andreibirladeanu/Documents/Data/meal_tracked_exp/1181_meal/skel3',\n",
       "  '/Users/andreibirladeanu/Documents/Data/meal_tracked_exp/1184_meal/skel3',\n",
       "  '/Users/andreibirladeanu/Documents/Data/meal_tracked_exp/1186_meal/skel3',\n",
       "  '/Users/andreibirladeanu/Documents/Data/meal_tracked_exp/1190_meal/skel3',\n",
       "  '/Users/andreibirladeanu/Documents/Data/meal_tracked_exp/1190_meal_1/skel3',\n",
       "  '/Users/andreibirladeanu/Documents/Data/meal_tracked_exp/1195_meal/skel3',\n",
       "  '/Users/andreibirladeanu/Documents/Data/meal_tracked_exp/1195_meal_1/skel3',\n",
       "  '/Users/andreibirladeanu/Documents/Data/meal_tracked_exp/1206_meal/skel3',\n",
       "  '/Users/andreibirladeanu/Documents/Data/meal_tracked_exp/1206_meal_1/skel3',\n",
       "  '/Users/andreibirladeanu/Documents/Data/meal_tracked_exp/1210_meal/skel3',\n",
       "  '/Users/andreibirladeanu/Documents/Data/meal_tracked_exp/1217_meal/skel3',\n",
       "  '/Users/andreibirladeanu/Documents/Data/meal_tracked_exp/1217_meal_1/skel3',\n",
       "  '/Users/andreibirladeanu/Documents/Data/meal_tracked_exp/1230_meal/skel3',\n",
       "  '/Users/andreibirladeanu/Documents/Data/meal_tracked_exp/1234_meal/skel3',\n",
       "  '/Users/andreibirladeanu/Documents/Data/meal_tracked_exp/1241_meal/skel3',\n",
       "  '/Users/andreibirladeanu/Documents/Data/meal_tracked_exp/1245_meal/skel3',\n",
       "  '/Users/andreibirladeanu/Documents/Data/meal_tracked_exp/1246_meal/skel3',\n",
       "  '/Users/andreibirladeanu/Documents/Data/meal_tracked_exp/1250_meal/skel3',\n",
       "  '/Users/andreibirladeanu/Documents/Data/meal_tracked_exp/1263_meal/skel3',\n",
       "  '/Users/andreibirladeanu/Documents/Data/meal_tracked_exp/1264_meal/skel3',\n",
       "  '/Users/andreibirladeanu/Documents/Data/meal_tracked_exp/1282_meal/skel3',\n",
       "  '/Users/andreibirladeanu/Documents/Data/meal_tracked_exp/2009_meal/skel3',\n",
       "  '/Users/andreibirladeanu/Documents/Data/meal_tracked_exp/2025_meal/skel3',\n",
       "  '/Users/andreibirladeanu/Documents/Data/meal_tracked_exp/2025_meal_1/skel3',\n",
       "  '/Users/andreibirladeanu/Documents/Data/meal_tracked_exp/2027_meal/skel3'],\n",
       " ['1043_meal',\n",
       "  '1047_meal',\n",
       "  '1049_meal',\n",
       "  '1049_meal_1',\n",
       "  '1053_meal',\n",
       "  '1059_meal',\n",
       "  '1059_meal_1',\n",
       "  '1062_meal',\n",
       "  '1069_meal',\n",
       "  '1073_meal',\n",
       "  '1073_meal_1',\n",
       "  '1079_meal',\n",
       "  '1079_meal_1',\n",
       "  '1080_meal',\n",
       "  '1082_meal',\n",
       "  '1082_meal_1',\n",
       "  '1089_meal',\n",
       "  '1089_meal_1',\n",
       "  '1089_meal_2',\n",
       "  '1091_meal',\n",
       "  '1092_meal',\n",
       "  '1093_meal',\n",
       "  '1096_meal',\n",
       "  '1096_meal_1',\n",
       "  '1097_meal',\n",
       "  '1098_meal',\n",
       "  '1098_meal_1',\n",
       "  '1099_meal',\n",
       "  '1104_meal',\n",
       "  '1104_meal_1',\n",
       "  '1105_meal',\n",
       "  '1107_meal',\n",
       "  '1108_meal',\n",
       "  '1108_meal_1',\n",
       "  '1108_meal_2',\n",
       "  '1112_meal',\n",
       "  '1112_meal_1',\n",
       "  '1112_meal_2',\n",
       "  '1117_meal',\n",
       "  '1118_meal',\n",
       "  '1118_meal_1',\n",
       "  '1122_meal',\n",
       "  '1124_meal',\n",
       "  '1125_meal',\n",
       "  '1129_meal',\n",
       "  '1130_meal',\n",
       "  '1131_meal',\n",
       "  '1132_meal',\n",
       "  '1148_meal',\n",
       "  '1161_meal',\n",
       "  '1161_meal_1',\n",
       "  '1170_meal',\n",
       "  '1180_meal',\n",
       "  '1181_meal',\n",
       "  '1184_meal',\n",
       "  '1186_meal',\n",
       "  '1190_meal',\n",
       "  '1190_meal_1',\n",
       "  '1195_meal',\n",
       "  '1195_meal_1',\n",
       "  '1206_meal',\n",
       "  '1206_meal_1',\n",
       "  '1210_meal',\n",
       "  '1217_meal',\n",
       "  '1217_meal_1',\n",
       "  '1230_meal',\n",
       "  '1234_meal',\n",
       "  '1241_meal',\n",
       "  '1245_meal',\n",
       "  '1246_meal',\n",
       "  '1250_meal',\n",
       "  '1263_meal',\n",
       "  '1264_meal',\n",
       "  '1282_meal',\n",
       "  '2009_meal',\n",
       "  '2025_meal',\n",
       "  '2025_meal_1',\n",
       "  '2027_meal'])"
      ]
     },
     "execution_count": 144,
     "metadata": {},
     "output_type": "execute_result"
    }
   ],
   "source": [
    "skeleton_folders, folders"
   ]
  },
  {
   "cell_type": "code",
   "execution_count": 137,
   "id": "e7ff6f13-674c-4d33-bbad-f9858b9b99d1",
   "metadata": {
    "collapsed": true,
    "jupyter": {
     "outputs_hidden": true
    },
    "tags": []
   },
   "outputs": [
    {
     "name": "stdout",
     "output_type": "stream",
     "text": [
      "/Users/andreibirladeanu/Documents/Data/meal_tracked/1043_meal/skel3\n",
      "/Users/andreibirladeanu/Documents/Data/meal_tracked/1047_meal/skel3\n",
      "/Users/andreibirladeanu/Documents/Data/meal_tracked/1049_meal/skel3\n",
      "/Users/andreibirladeanu/Documents/Data/meal_tracked/1049_meal_1/skel3\n",
      "/Users/andreibirladeanu/Documents/Data/meal_tracked/1053_meal/skel3\n",
      "/Users/andreibirladeanu/Documents/Data/meal_tracked/1059_meal/skel3\n",
      "/Users/andreibirladeanu/Documents/Data/meal_tracked/1059_meal_1/skel3\n",
      "/Users/andreibirladeanu/Documents/Data/meal_tracked/1062_meal/skel3\n",
      "/Users/andreibirladeanu/Documents/Data/meal_tracked/1069_meal/skel3\n",
      "/Users/andreibirladeanu/Documents/Data/meal_tracked/1073_meal/skel3\n",
      "/Users/andreibirladeanu/Documents/Data/meal_tracked/1073_meal_1/skel3\n",
      "/Users/andreibirladeanu/Documents/Data/meal_tracked/1079_meal/skel3\n",
      "/Users/andreibirladeanu/Documents/Data/meal_tracked/1079_meal_1/skel3\n",
      "/Users/andreibirladeanu/Documents/Data/meal_tracked/1080_meal/skel3\n",
      "/Users/andreibirladeanu/Documents/Data/meal_tracked/1082_meal/skel3\n",
      "/Users/andreibirladeanu/Documents/Data/meal_tracked/1082_meal_1/skel3\n",
      "/Users/andreibirladeanu/Documents/Data/meal_tracked/1089_meal/skel3\n",
      "/Users/andreibirladeanu/Documents/Data/meal_tracked/1089_meal_1/skel3\n",
      "/Users/andreibirladeanu/Documents/Data/meal_tracked/1089_meal_2/skel3\n",
      "/Users/andreibirladeanu/Documents/Data/meal_tracked/1091_meal/skel3\n",
      "/Users/andreibirladeanu/Documents/Data/meal_tracked/1092_meal/skel3\n",
      "/Users/andreibirladeanu/Documents/Data/meal_tracked/1093_meal/skel3\n",
      "/Users/andreibirladeanu/Documents/Data/meal_tracked/1096_meal/skel3\n",
      "/Users/andreibirladeanu/Documents/Data/meal_tracked/1096_meal_1/skel3\n",
      "/Users/andreibirladeanu/Documents/Data/meal_tracked/1097_meal/skel3\n",
      "/Users/andreibirladeanu/Documents/Data/meal_tracked/1098_meal/skel3\n",
      "/Users/andreibirladeanu/Documents/Data/meal_tracked/1098_meal_1/skel3\n",
      "/Users/andreibirladeanu/Documents/Data/meal_tracked/1099_meal/skel3\n",
      "/Users/andreibirladeanu/Documents/Data/meal_tracked/1104_meal/skel3\n",
      "/Users/andreibirladeanu/Documents/Data/meal_tracked/1104_meal_1/skel3\n",
      "/Users/andreibirladeanu/Documents/Data/meal_tracked/1105_meal/skel3\n",
      "/Users/andreibirladeanu/Documents/Data/meal_tracked/1107_meal/skel3\n",
      "/Users/andreibirladeanu/Documents/Data/meal_tracked/1108_meal/skel3\n",
      "/Users/andreibirladeanu/Documents/Data/meal_tracked/1108_meal_1/skel3\n",
      "/Users/andreibirladeanu/Documents/Data/meal_tracked/1108_meal_2/skel3\n",
      "/Users/andreibirladeanu/Documents/Data/meal_tracked/1112_meal/skel3\n",
      "/Users/andreibirladeanu/Documents/Data/meal_tracked/1112_meal_1/skel3\n",
      "/Users/andreibirladeanu/Documents/Data/meal_tracked/1112_meal_2/skel3\n",
      "/Users/andreibirladeanu/Documents/Data/meal_tracked/1117_meal/skel3\n",
      "/Users/andreibirladeanu/Documents/Data/meal_tracked/1118_meal/skel3\n",
      "/Users/andreibirladeanu/Documents/Data/meal_tracked/1118_meal_1/skel3\n",
      "/Users/andreibirladeanu/Documents/Data/meal_tracked/1122_meal/skel3\n",
      "/Users/andreibirladeanu/Documents/Data/meal_tracked/1124_meal/skel3\n",
      "/Users/andreibirladeanu/Documents/Data/meal_tracked/1125_meal/skel3\n",
      "/Users/andreibirladeanu/Documents/Data/meal_tracked/1129_meal/skel3\n",
      "/Users/andreibirladeanu/Documents/Data/meal_tracked/1130_meal/skel3\n",
      "/Users/andreibirladeanu/Documents/Data/meal_tracked/1131_meal/skel3\n",
      "/Users/andreibirladeanu/Documents/Data/meal_tracked/1132_meal/skel3\n",
      "/Users/andreibirladeanu/Documents/Data/meal_tracked/1148_meal/skel3\n",
      "/Users/andreibirladeanu/Documents/Data/meal_tracked/1161_meal/skel3\n",
      "/Users/andreibirladeanu/Documents/Data/meal_tracked/1161_meal_1/skel3\n",
      "/Users/andreibirladeanu/Documents/Data/meal_tracked/1170_meal/skel3\n",
      "/Users/andreibirladeanu/Documents/Data/meal_tracked/1180_meal/skel3\n",
      "/Users/andreibirladeanu/Documents/Data/meal_tracked/1181_meal/skel3\n",
      "/Users/andreibirladeanu/Documents/Data/meal_tracked/1184_meal/skel3\n",
      "/Users/andreibirladeanu/Documents/Data/meal_tracked/1186_meal/skel3\n",
      "/Users/andreibirladeanu/Documents/Data/meal_tracked/1190_meal/skel3\n",
      "/Users/andreibirladeanu/Documents/Data/meal_tracked/1190_meal_1/skel3\n",
      "/Users/andreibirladeanu/Documents/Data/meal_tracked/1195_meal/skel3\n",
      "/Users/andreibirladeanu/Documents/Data/meal_tracked/1195_meal_1/skel3\n",
      "/Users/andreibirladeanu/Documents/Data/meal_tracked/1206_meal/skel3\n",
      "/Users/andreibirladeanu/Documents/Data/meal_tracked/1206_meal_1/skel3\n",
      "/Users/andreibirladeanu/Documents/Data/meal_tracked/1210_meal/skel3\n",
      "/Users/andreibirladeanu/Documents/Data/meal_tracked/1217_meal/skel3\n",
      "/Users/andreibirladeanu/Documents/Data/meal_tracked/1217_meal_1/skel3\n",
      "/Users/andreibirladeanu/Documents/Data/meal_tracked/1230_meal/skel3\n",
      "/Users/andreibirladeanu/Documents/Data/meal_tracked/1234_meal/skel3\n",
      "/Users/andreibirladeanu/Documents/Data/meal_tracked/1241_meal/skel3\n",
      "/Users/andreibirladeanu/Documents/Data/meal_tracked/1245_meal/skel3\n",
      "/Users/andreibirladeanu/Documents/Data/meal_tracked/1246_meal/skel3\n",
      "/Users/andreibirladeanu/Documents/Data/meal_tracked/1250_meal/skel3\n",
      "/Users/andreibirladeanu/Documents/Data/meal_tracked/1263_meal/skel3\n",
      "/Users/andreibirladeanu/Documents/Data/meal_tracked/1264_meal/skel3\n",
      "/Users/andreibirladeanu/Documents/Data/meal_tracked/1282_meal/skel3\n",
      "/Users/andreibirladeanu/Documents/Data/meal_tracked/2009_meal/skel3\n",
      "/Users/andreibirladeanu/Documents/Data/meal_tracked/2025_meal/skel3\n",
      "/Users/andreibirladeanu/Documents/Data/meal_tracked/2025_meal_1/skel3\n",
      "/Users/andreibirladeanu/Documents/Data/meal_tracked/2027_meal/skel3\n"
     ]
    }
   ],
   "source": [
    "for x in skeleton_folders:\n",
    "    print(x)"
   ]
  },
  {
   "cell_type": "markdown",
   "id": "7300b2fb-6d4e-4bdd-974c-98f3f45c5153",
   "metadata": {},
   "source": [
    "## 2. for each folder get bounding boxes by using the skeleton and save them inside a numpy array"
   ]
  },
  {
   "cell_type": "code",
   "execution_count": null,
   "id": "d3aa717e-3e81-4c59-ba3a-b2869078fe47",
   "metadata": {
    "tags": []
   },
   "outputs": [
    {
     "name": "stderr",
     "output_type": "stream",
     "text": [
      "0it [00:00, ?it/s]"
     ]
    },
    {
     "name": "stdout",
     "output_type": "stream",
     "text": [
      "1049_meal\n"
     ]
    },
    {
     "name": "stderr",
     "output_type": "stream",
     "text": [
      "/Users/andreibirladeanu/opt/anaconda3/envs/openpose/lib/python3.7/site-packages/ipykernel_launcher.py:26: VisibleDeprecationWarning: Creating an ndarray from ragged nested sequences (which is a list-or-tuple of lists-or-tuples-or ndarrays with different lengths or shapes) is deprecated. If you meant to do this, you must specify 'dtype=object' when creating the ndarray.\n",
      "3it [01:09, 23.08s/it]"
     ]
    },
    {
     "name": "stdout",
     "output_type": "stream",
     "text": [
      "1049_meal_1\n"
     ]
    },
    {
     "name": "stderr",
     "output_type": "stream",
     "text": [
      "4it [01:33, 23.47s/it]"
     ]
    },
    {
     "name": "stdout",
     "output_type": "stream",
     "text": [
      "1053_meal\n"
     ]
    },
    {
     "name": "stderr",
     "output_type": "stream",
     "text": [
      "5it [04:19, 68.46s/it]"
     ]
    },
    {
     "name": "stdout",
     "output_type": "stream",
     "text": [
      "1059_meal_1\n",
      "0.002997002997002997\n"
     ]
    },
    {
     "name": "stderr",
     "output_type": "stream",
     "text": [
      "7it [04:49, 43.09s/it]"
     ]
    },
    {
     "name": "stdout",
     "output_type": "stream",
     "text": [
      "1069_meal\n"
     ]
    },
    {
     "name": "stderr",
     "output_type": "stream",
     "text": [
      "/Users/andreibirladeanu/opt/anaconda3/envs/openpose/lib/python3.7/site-packages/ipykernel_launcher.py:26: VisibleDeprecationWarning: Creating an ndarray from ragged nested sequences (which is a list-or-tuple of lists-or-tuples-or ndarrays with different lengths or shapes) is deprecated. If you meant to do this, you must specify 'dtype=object' when creating the ndarray.\n"
     ]
    },
    {
     "name": "stdout",
     "output_type": "stream",
     "text": [
      "0.002997002997002997\n"
     ]
    },
    {
     "name": "stderr",
     "output_type": "stream",
     "text": [
      "9it [06:18, 43.75s/it]"
     ]
    },
    {
     "name": "stdout",
     "output_type": "stream",
     "text": [
      "1073_meal\n"
     ]
    },
    {
     "name": "stderr",
     "output_type": "stream",
     "text": [
      "/Users/andreibirladeanu/opt/anaconda3/envs/openpose/lib/python3.7/site-packages/ipykernel_launcher.py:26: VisibleDeprecationWarning: Creating an ndarray from ragged nested sequences (which is a list-or-tuple of lists-or-tuples-or ndarrays with different lengths or shapes) is deprecated. If you meant to do this, you must specify 'dtype=object' when creating the ndarray.\n",
      "10it [06:36, 37.80s/it]"
     ]
    },
    {
     "name": "stdout",
     "output_type": "stream",
     "text": [
      "0.04795204795204795\n",
      "1079_meal\n"
     ]
    },
    {
     "name": "stderr",
     "output_type": "stream",
     "text": [
      "/Users/andreibirladeanu/opt/anaconda3/envs/openpose/lib/python3.7/site-packages/ipykernel_launcher.py:26: VisibleDeprecationWarning: Creating an ndarray from ragged nested sequences (which is a list-or-tuple of lists-or-tuples-or ndarrays with different lengths or shapes) is deprecated. If you meant to do this, you must specify 'dtype=object' when creating the ndarray.\n",
      "12it [07:23, 32.24s/it]"
     ]
    },
    {
     "name": "stdout",
     "output_type": "stream",
     "text": [
      "1080_meal\n",
      "0.000999000999000999\n"
     ]
    },
    {
     "name": "stderr",
     "output_type": "stream",
     "text": [
      "14it [08:58, 37.77s/it]"
     ]
    },
    {
     "name": "stdout",
     "output_type": "stream",
     "text": [
      "1089_meal_2\n"
     ]
    },
    {
     "name": "stderr",
     "output_type": "stream",
     "text": [
      "/Users/andreibirladeanu/opt/anaconda3/envs/openpose/lib/python3.7/site-packages/ipykernel_launcher.py:26: VisibleDeprecationWarning: Creating an ndarray from ragged nested sequences (which is a list-or-tuple of lists-or-tuples-or ndarrays with different lengths or shapes) is deprecated. If you meant to do this, you must specify 'dtype=object' when creating the ndarray.\n",
      "19it [09:43, 21.57s/it]"
     ]
    },
    {
     "name": "stdout",
     "output_type": "stream",
     "text": [
      "1096_meal\n"
     ]
    },
    {
     "name": "stderr",
     "output_type": "stream",
     "text": [
      "23it [10:50, 19.76s/it]"
     ]
    },
    {
     "name": "stdout",
     "output_type": "stream",
     "text": [
      "1096_meal_1\n"
     ]
    },
    {
     "name": "stderr",
     "output_type": "stream",
     "text": [
      "24it [11:02, 18.82s/it]"
     ]
    },
    {
     "name": "stdout",
     "output_type": "stream",
     "text": [
      "1097_meal\n"
     ]
    },
    {
     "name": "stderr",
     "output_type": "stream",
     "text": [
      "25it [12:05, 25.35s/it]"
     ]
    },
    {
     "name": "stdout",
     "output_type": "stream",
     "text": [
      "1108_meal\n",
      "0.000999000999000999\n"
     ]
    },
    {
     "name": "stderr",
     "output_type": "stream",
     "text": [
      "33it [13:01, 13.82s/it]"
     ]
    },
    {
     "name": "stdout",
     "output_type": "stream",
     "text": [
      "1108_meal_2\n"
     ]
    },
    {
     "name": "stderr",
     "output_type": "stream",
     "text": [
      "/Users/andreibirladeanu/opt/anaconda3/envs/openpose/lib/python3.7/site-packages/ipykernel_launcher.py:26: VisibleDeprecationWarning: Creating an ndarray from ragged nested sequences (which is a list-or-tuple of lists-or-tuples-or ndarrays with different lengths or shapes) is deprecated. If you meant to do this, you must specify 'dtype=object' when creating the ndarray.\n",
      "35it [13:14, 12.45s/it]"
     ]
    },
    {
     "name": "stdout",
     "output_type": "stream",
     "text": [
      "1112_meal_1\n"
     ]
    },
    {
     "name": "stderr",
     "output_type": "stream",
     "text": [
      "37it [13:52, 13.75s/it]"
     ]
    },
    {
     "name": "stdout",
     "output_type": "stream",
     "text": [
      "1117_meal\n",
      "0.001998001998001998\n"
     ]
    },
    {
     "name": "stderr",
     "output_type": "stream",
     "text": [
      "39it [15:04, 18.88s/it]"
     ]
    },
    {
     "name": "stdout",
     "output_type": "stream",
     "text": [
      "1122_meal\n"
     ]
    },
    {
     "name": "stderr",
     "output_type": "stream",
     "text": [
      "/Users/andreibirladeanu/opt/anaconda3/envs/openpose/lib/python3.7/site-packages/ipykernel_launcher.py:26: VisibleDeprecationWarning: Creating an ndarray from ragged nested sequences (which is a list-or-tuple of lists-or-tuples-or ndarrays with different lengths or shapes) is deprecated. If you meant to do this, you must specify 'dtype=object' when creating the ndarray.\n",
      "42it [15:42, 16.83s/it]"
     ]
    },
    {
     "name": "stdout",
     "output_type": "stream",
     "text": [
      "1124_meal\n",
      "0.000999000999000999\n"
     ]
    },
    {
     "name": "stderr",
     "output_type": "stream",
     "text": [
      "43it [16:20, 19.74s/it]"
     ]
    },
    {
     "name": "stdout",
     "output_type": "stream",
     "text": [
      "1125_meal\n"
     ]
    },
    {
     "name": "stderr",
     "output_type": "stream",
     "text": [
      "/Users/andreibirladeanu/opt/anaconda3/envs/openpose/lib/python3.7/site-packages/ipykernel_launcher.py:26: VisibleDeprecationWarning: Creating an ndarray from ragged nested sequences (which is a list-or-tuple of lists-or-tuples-or ndarrays with different lengths or shapes) is deprecated. If you meant to do this, you must specify 'dtype=object' when creating the ndarray.\n"
     ]
    },
    {
     "name": "stdout",
     "output_type": "stream",
     "text": [
      "0.000999000999000999\n"
     ]
    },
    {
     "name": "stderr",
     "output_type": "stream",
     "text": [
      "44it [24:46, 98.53s/it]"
     ]
    },
    {
     "name": "stdout",
     "output_type": "stream",
     "text": [
      "1148_meal\n"
     ]
    },
    {
     "name": "stderr",
     "output_type": "stream",
     "text": [
      "/Users/andreibirladeanu/opt/anaconda3/envs/openpose/lib/python3.7/site-packages/ipykernel_launcher.py:26: VisibleDeprecationWarning: Creating an ndarray from ragged nested sequences (which is a list-or-tuple of lists-or-tuples-or ndarrays with different lengths or shapes) is deprecated. If you meant to do this, you must specify 'dtype=object' when creating the ndarray.\n",
      "49it [25:13, 48.57s/it]"
     ]
    },
    {
     "name": "stdout",
     "output_type": "stream",
     "text": [
      "1170_meal\n"
     ]
    },
    {
     "name": "stderr",
     "output_type": "stream",
     "text": [
      "52it [25:33, 35.33s/it]"
     ]
    },
    {
     "name": "stdout",
     "output_type": "stream",
     "text": [
      "0.000999000999000999\n",
      "1184_meal\n"
     ]
    },
    {
     "name": "stderr",
     "output_type": "stream",
     "text": [
      "/Users/andreibirladeanu/opt/anaconda3/envs/openpose/lib/python3.7/site-packages/ipykernel_launcher.py:26: VisibleDeprecationWarning: Creating an ndarray from ragged nested sequences (which is a list-or-tuple of lists-or-tuples-or ndarrays with different lengths or shapes) is deprecated. If you meant to do this, you must specify 'dtype=object' when creating the ndarray.\n",
      "55it [29:22, 48.05s/it]"
     ]
    },
    {
     "name": "stdout",
     "output_type": "stream",
     "text": [
      "1217_meal\n",
      "0.000999000999000999\n"
     ]
    },
    {
     "name": "stderr",
     "output_type": "stream",
     "text": [
      "64it [30:07, 23.51s/it]"
     ]
    },
    {
     "name": "stdout",
     "output_type": "stream",
     "text": [
      "1217_meal_1\n"
     ]
    },
    {
     "name": "stderr",
     "output_type": "stream",
     "text": [
      "/Users/andreibirladeanu/opt/anaconda3/envs/openpose/lib/python3.7/site-packages/ipykernel_launcher.py:26: VisibleDeprecationWarning: Creating an ndarray from ragged nested sequences (which is a list-or-tuple of lists-or-tuples-or ndarrays with different lengths or shapes) is deprecated. If you meant to do this, you must specify 'dtype=object' when creating the ndarray.\n",
      "65it [30:26, 23.17s/it]"
     ]
    },
    {
     "name": "stdout",
     "output_type": "stream",
     "text": [
      "1241_meal\n"
     ]
    },
    {
     "name": "stderr",
     "output_type": "stream",
     "text": [
      "68it [30:57, 19.78s/it]"
     ]
    },
    {
     "name": "stdout",
     "output_type": "stream",
     "text": [
      "1245_meal\n",
      "0.000999000999000999\n"
     ]
    },
    {
     "name": "stderr",
     "output_type": "stream",
     "text": [
      "69it [38:56, 70.81s/it]"
     ]
    },
    {
     "name": "stdout",
     "output_type": "stream",
     "text": [
      "1263_meal\n"
     ]
    },
    {
     "name": "stderr",
     "output_type": "stream",
     "text": [
      "/Users/andreibirladeanu/opt/anaconda3/envs/openpose/lib/python3.7/site-packages/ipykernel_launcher.py:26: VisibleDeprecationWarning: Creating an ndarray from ragged nested sequences (which is a list-or-tuple of lists-or-tuples-or ndarrays with different lengths or shapes) is deprecated. If you meant to do this, you must specify 'dtype=object' when creating the ndarray.\n",
      "72it [39:29, 51.48s/it]"
     ]
    },
    {
     "name": "stdout",
     "output_type": "stream",
     "text": [
      "1264_meal\n"
     ]
    }
   ],
   "source": [
    "\n",
    "for skeleton, folder in tqdm(zip(skeleton_folders, folders)): ## outermost loop - iterate thru the video openpose folders\n",
    "    if path.exists(skeleton) == False:\n",
    "        continue\n",
    "    cap = cv2.VideoCapture(os.path.join(path_videos, folder+'.mp4')) ## get video capture for the video\n",
    "    skel = sorted_alphanumeric(os.listdir(skeleton)) ### get a list of skeleton files inside the folder\n",
    "    if len(skel) < 10000: ## lower p value if the sample size is very high to avoid false positives\n",
    "        p = 0.05\n",
    "    else:\n",
    "        p = 0.01\n",
    "    if '.DS_Store' in skel:\n",
    "        skel.remove('.DS_Store')\n",
    "    bboxes = []\n",
    "    print(folder)\n",
    "    for file in skel: ### iterate thru the skeleton - innermost loop\n",
    "        cap.set(1,int(file.split('.')[0])-1)\n",
    "        ret, image = cap.read()\n",
    "        coords = pd.read_csv(os.path.join(path_skeletons, skeleton, file))\n",
    "\n",
    "        bbox = image[find_min_round(coords['y']):find_max_round(coords['y']),\n",
    "           find_min_round(coords['x']):find_max_round(coords['x'])]\n",
    "        if bbox.shape[0]==0 or bbox.shape[1] ==0:\n",
    "            continue\n",
    "        bboxes.append(image[find_min_round(coords['y']):find_max_round(coords['y']),\n",
    "           find_min_round(coords['x']):find_max_round(coords['x'])])\n",
    "\n",
    "    bboxes = np.array(bboxes)\n",
    "    for_hist = np.array([[np.mean(np.mean(x, axis=1))] for x in bboxes])\n",
    "    for_test = np.array([np.mean(np.mean(x, axis=1)) for x in bboxes])\n",
    "    for_test= np.msort(for_test)\n",
    "    #plt.hist(for_hist)\n",
    "    unimodal = dip.diptst(for_test)[1]\n",
    "    if unimodal < p:\n",
    "        gm = GaussianMixture(n_components=2, random_state=0).fit(for_hist)\n",
    "        labels = gm.predict(for_hist) #### \n",
    "        ## make 2 new folders \n",
    "        \n",
    "        path_1 = os.path.join(path_skeletons, folder, sk +'_tr1')\n",
    "        path_2 = os.path.join(path_skeletons, folder, sk +'_tr2')\n",
    "        os.mkdir(path_1);os.mkdir(path_2)\n",
    "        for label, coords in zip(range(len(labels)),range(len(skel))):\n",
    "            if labels[label] == 0:\n",
    "                Path(os.path.join(skeleton, skel[coords])).rename(os.path.join(path_1, skel[coords]))\n",
    "            elif labels[label] == 1:\n",
    "                Path(os.path.join(skeleton, skel[coords])).rename(os.path.join(path_2, skel[coords]))\n",
    "        shutil.rmtree(skeleton) # delete the original folder after the files have been split\n",
    "    \n",
    "        \n",
    "        \n",
    "print('success')\n",
    "    \n",
    "    \n",
    "    \n",
    "        \n"
   ]
  },
  {
   "cell_type": "code",
   "execution_count": 1,
   "id": "f9d8b0a6-53ca-47f4-9766-3602b3d66584",
   "metadata": {},
   "outputs": [
    {
     "name": "stdout",
     "output_type": "stream",
     "text": [
      "a\n"
     ]
    }
   ],
   "source": [
    "print('a')"
   ]
  },
  {
   "cell_type": "markdown",
   "id": "0e54e9a4-d3fd-49ee-a6b9-d1c2e301daf1",
   "metadata": {},
   "source": [
    "### Evaluation"
   ]
  },
  {
   "cell_type": "code",
   "execution_count": 209,
   "id": "ce7871d4-4c68-40ad-8f30-6b5d4d3f3ec8",
   "metadata": {
    "collapsed": true,
    "jupyter": {
     "outputs_hidden": true,
     "source_hidden": true
    },
    "tags": []
   },
   "outputs": [
    {
     "ename": "FileNotFoundError",
     "evalue": "[Errno 2] No such file or directory: '/Users/andreibirladeanu/Documents/Data/experimenting/tracked/1250_meal/skel2_tr1'",
     "output_type": "error",
     "traceback": [
      "\u001b[0;31m---------------------------------------------------------------------------\u001b[0m",
      "\u001b[0;31mFileNotFoundError\u001b[0m                         Traceback (most recent call last)",
      "\u001b[0;32m/var/folders/02/tbtgqj615xgfmzqw5gqf0mm80000gn/T/ipykernel_2466/3690630472.py\u001b[0m in \u001b[0;36m<module>\u001b[0;34m\u001b[0m\n\u001b[1;32m      1\u001b[0m \u001b[0mevaluation_path\u001b[0m \u001b[0;34m=\u001b[0m \u001b[0mPath\u001b[0m\u001b[0;34m(\u001b[0m\u001b[0;34m'/Users/andreibirladeanu/Documents/Data/experimenting/tracked/1250_meal/skel2_tr1'\u001b[0m\u001b[0;34m)\u001b[0m\u001b[0;34m\u001b[0m\u001b[0;34m\u001b[0m\u001b[0m\n\u001b[0;32m----> 2\u001b[0;31m \u001b[0mfiles\u001b[0m \u001b[0;34m=\u001b[0m \u001b[0;34m[\u001b[0m\u001b[0mx\u001b[0m \u001b[0;32mfor\u001b[0m \u001b[0mx\u001b[0m \u001b[0;32min\u001b[0m \u001b[0msorted_alphanumeric\u001b[0m\u001b[0;34m(\u001b[0m\u001b[0mos\u001b[0m\u001b[0;34m.\u001b[0m\u001b[0mlistdir\u001b[0m\u001b[0;34m(\u001b[0m\u001b[0mevaluation_path\u001b[0m\u001b[0;34m)\u001b[0m\u001b[0;34m)\u001b[0m \u001b[0;32mif\u001b[0m \u001b[0mx\u001b[0m\u001b[0;34m[\u001b[0m\u001b[0;36m0\u001b[0m\u001b[0;34m]\u001b[0m\u001b[0;34m!=\u001b[0m\u001b[0;34m\".\"\u001b[0m\u001b[0;34m]\u001b[0m\u001b[0;34m\u001b[0m\u001b[0;34m\u001b[0m\u001b[0m\n\u001b[0m\u001b[1;32m      3\u001b[0m \u001b[0mcap\u001b[0m \u001b[0;34m=\u001b[0m \u001b[0mcv2\u001b[0m\u001b[0;34m.\u001b[0m\u001b[0mVideoCapture\u001b[0m\u001b[0;34m(\u001b[0m\u001b[0mos\u001b[0m\u001b[0;34m.\u001b[0m\u001b[0mpath\u001b[0m\u001b[0;34m.\u001b[0m\u001b[0mjoin\u001b[0m\u001b[0;34m(\u001b[0m\u001b[0mpath_videos\u001b[0m\u001b[0;34m,\u001b[0m\u001b[0;34m'1250_meal.mp4'\u001b[0m\u001b[0;34m)\u001b[0m\u001b[0;34m)\u001b[0m\u001b[0;34m\u001b[0m\u001b[0;34m\u001b[0m\u001b[0m\n\u001b[1;32m      4\u001b[0m \u001b[0mnew_viz_path\u001b[0m \u001b[0;34m=\u001b[0m  \u001b[0mPath\u001b[0m\u001b[0;34m(\u001b[0m\u001b[0;34m'/Users/andreibirladeanu/Documents/Data/experimenting/visualize/1250_meal/skel2_tr1'\u001b[0m\u001b[0;34m)\u001b[0m\u001b[0;34m\u001b[0m\u001b[0;34m\u001b[0m\u001b[0m\n\u001b[1;32m      5\u001b[0m \u001b[0mos\u001b[0m\u001b[0;34m.\u001b[0m\u001b[0mmkdir\u001b[0m\u001b[0;34m(\u001b[0m\u001b[0mnew_viz_path\u001b[0m\u001b[0;34m)\u001b[0m\u001b[0;34m\u001b[0m\u001b[0;34m\u001b[0m\u001b[0m\n",
      "\u001b[0;31mFileNotFoundError\u001b[0m: [Errno 2] No such file or directory: '/Users/andreibirladeanu/Documents/Data/experimenting/tracked/1250_meal/skel2_tr1'"
     ]
    }
   ],
   "source": [
    "evaluation_path = Path('/Users/andreibirladeanu/Documents/Data/experimenting/tracked/1053_meal/skel1_tr1')\n",
    "files = [x for x in sorted_alphanumeric(os.listdir(evaluation_path)) if x[0]!=\".\"]\n",
    "cap = cv2.VideoCapture(os.path.join(path_videos,'1053_meal.mp4'))\n",
    "new_viz_path =  Path('/Users/andreibirladeanu/Documents/Data/experimenting/visualize/1053_meal/skel1_tr1')\n",
    "os.mkdir(new_viz_path)\n",
    "histogram = []\n",
    "\n",
    "for file in files:\n",
    "    cap.set(1,int(file.split('.')[0])-1)\n",
    "    ret, image = cap.read()\n",
    "    coords = pd.read_csv(os.path.join(evaluation_path, file))\n",
    "    cv2.imwrite(os.path.join(new_viz_path, file.split('.')[0]+'.png'), image[find_min_round(coords['y']):find_max_round(coords['y']),\n",
    "           find_min_round(coords['x']):find_max_round(coords['x'])])\n",
    "   # histogram.append(image[find_min_round(coords['y']):find_max_round(coords['y']),\n",
    "    #       find_min_round(coords['x']):find_max_round(coords['x'])])\n",
    "    "
   ]
  },
  {
   "cell_type": "code",
   "execution_count": 201,
   "id": "9360ecd6-34dc-44f8-9475-2f91249fc50c",
   "metadata": {},
   "outputs": [],
   "source": [
    "for_hist =  np.array([[np.mean(np.mean(x, axis=2))] for x in histogram])\n",
    "for_dip =  np.array([np.mean(np.mean(x, axis=2)) for x in histogram])"
   ]
  },
  {
   "cell_type": "code",
   "execution_count": 202,
   "id": "3fe018f1-4cd5-4e42-a8a7-2b8199589ac1",
   "metadata": {},
   "outputs": [
    {
     "data": {
      "text/plain": [
       "(array([ 10.,  48.,  36.,  68.,  74., 130., 139.,  95.,  86.,  31.]),\n",
       " array([ 73.44623656,  79.63830995,  85.83038334,  92.02245673,\n",
       "         98.21453012, 104.40660352, 110.59867691, 116.7907503 ,\n",
       "        122.98282369, 129.17489708, 135.36697047]),\n",
       " <BarContainer object of 10 artists>)"
      ]
     },
     "execution_count": 202,
     "metadata": {},
     "output_type": "execute_result"
    },
    {
     "data": {
      "image/png": "[encoded data removed]",
      "text/plain": [
       "<Figure size 432x288 with 1 Axes>"
      ]
     },
     "metadata": {
      "needs_background": "light"
     },
     "output_type": "display_data"
    }
   ],
   "source": [
    "plt.hist(for_hist)\n"
   ]
  },
  {
   "cell_type": "code",
   "execution_count": 101,
   "id": "10cecd61-0c20-4b7b-9b28-e21ad4f5321b",
   "metadata": {
    "collapsed": true,
    "jupyter": {
     "outputs_hidden": true
    },
    "tags": []
   },
   "outputs": [
    {
     "ename": "KeyboardInterrupt",
     "evalue": "",
     "output_type": "error",
     "traceback": [
      "\u001b[0;31m---------------------------------------------------------------------------\u001b[0m",
      "\u001b[0;31mKeyboardInterrupt\u001b[0m                         Traceback (most recent call last)",
      "\u001b[0;32m/var/folders/02/tbtgqj615xgfmzqw5gqf0mm80000gn/T/ipykernel_6552/3924195786.py\u001b[0m in \u001b[0;36m<module>\u001b[0;34m\u001b[0m\n\u001b[1;32m      8\u001b[0m \u001b[0;32mfor\u001b[0m \u001b[0mfile\u001b[0m \u001b[0;32min\u001b[0m \u001b[0mfiles\u001b[0m\u001b[0;34m:\u001b[0m\u001b[0;34m\u001b[0m\u001b[0;34m\u001b[0m\u001b[0m\n\u001b[1;32m      9\u001b[0m     \u001b[0mcap\u001b[0m\u001b[0;34m.\u001b[0m\u001b[0mset\u001b[0m\u001b[0;34m(\u001b[0m\u001b[0;36m1\u001b[0m\u001b[0;34m,\u001b[0m\u001b[0mint\u001b[0m\u001b[0;34m(\u001b[0m\u001b[0mfile\u001b[0m\u001b[0;34m.\u001b[0m\u001b[0msplit\u001b[0m\u001b[0;34m(\u001b[0m\u001b[0;34m'.'\u001b[0m\u001b[0;34m)\u001b[0m\u001b[0;34m[\u001b[0m\u001b[0;36m0\u001b[0m\u001b[0;34m]\u001b[0m\u001b[0;34m)\u001b[0m\u001b[0;34m-\u001b[0m\u001b[0;36m1\u001b[0m\u001b[0;34m)\u001b[0m\u001b[0;34m\u001b[0m\u001b[0;34m\u001b[0m\u001b[0m\n\u001b[0;32m---> 10\u001b[0;31m     \u001b[0mret\u001b[0m\u001b[0;34m,\u001b[0m \u001b[0mimage\u001b[0m \u001b[0;34m=\u001b[0m \u001b[0mcap\u001b[0m\u001b[0;34m.\u001b[0m\u001b[0mread\u001b[0m\u001b[0;34m(\u001b[0m\u001b[0;34m)\u001b[0m\u001b[0;34m\u001b[0m\u001b[0;34m\u001b[0m\u001b[0m\n\u001b[0m\u001b[1;32m     11\u001b[0m     \u001b[0mcoords\u001b[0m \u001b[0;34m=\u001b[0m \u001b[0mpd\u001b[0m\u001b[0;34m.\u001b[0m\u001b[0mread_csv\u001b[0m\u001b[0;34m(\u001b[0m\u001b[0mos\u001b[0m\u001b[0;34m.\u001b[0m\u001b[0mpath\u001b[0m\u001b[0;34m.\u001b[0m\u001b[0mjoin\u001b[0m\u001b[0;34m(\u001b[0m\u001b[0mevaluation_path\u001b[0m\u001b[0;34m,\u001b[0m \u001b[0mfile\u001b[0m\u001b[0;34m)\u001b[0m\u001b[0;34m)\u001b[0m\u001b[0;34m\u001b[0m\u001b[0;34m\u001b[0m\u001b[0m\n\u001b[1;32m     12\u001b[0m     bbox = image[find_min_round(coords['y']):find_max_round(coords['y']),\n",
      "\u001b[0;31mKeyboardInterrupt\u001b[0m: "
     ]
    }
   ],
   "source": [
    "evaluation_path = Path('/Users/andreibirladeanu/Documents/Data/experimenting/tracked/1117_meal/skel3_tr1')\n",
    "files = [x for x in sorted_alphanumeric(os.listdir(evaluation_path)) if x[0]!=\".\"]\n",
    "cap = cv2.VideoCapture(os.path.join(path_videos,'1117_meal.mp4'))\n",
    "new_viz_path =  Path('/Users/andreibirladeanu/Documents/Data/experimenting/visualize/1117_meal/skel3_tr1')\n",
    "new_viz_path.mkdir(parents=True, exist_ok=True)\n",
    "histogram = []\n",
    "\n",
    "for file in files:\n",
    "    cap.set(1,int(file.split('.')[0])-1)\n",
    "    ret, image = cap.read()\n",
    "    coords = pd.read_csv(os.path.join(evaluation_path, file))\n",
    "    bbox = image[find_min_round(coords['y']):find_max_round(coords['y']),\n",
    "           find_min_round(coords['x']):find_max_round(coords['x'])]\n",
    "    if bbox.shape[0]==0 or bbox.shape[1] ==0:\n",
    "            continue\n",
    "    cv2.imwrite(os.path.join(new_viz_path, file.split('.')[0]+'.png'), image[find_min_round(coords['y']):find_max_round(coords['y']),\n",
    "           find_min_round(coords['x']):find_max_round(coords['x'])])"
   ]
  },
  {
   "cell_type": "code",
   "execution_count": 30,
   "id": "f9e716fc-da18-4ec3-85c6-ea58b85e5699",
   "metadata": {},
   "outputs": [
    {
     "data": {
      "text/plain": [
       "array([], shape=(92, 0, 3), dtype=uint8)"
      ]
     },
     "execution_count": 30,
     "metadata": {},
     "output_type": "execute_result"
    }
   ],
   "source": [
    "histogram[-1]"
   ]
  },
  {
   "cell_type": "code",
   "execution_count": 31,
   "id": "67f23505-4479-4c4f-b6ba-b8ef0ac32f6e",
   "metadata": {
    "tags": []
   },
   "outputs": [],
   "source": [
    "filename = Path('/Users/andreibirladeanu/Documents/Data/experimenting/tracked/1122_meal/skel2/1206.csv')\n",
    "data = pd.read_csv(filename)"
   ]
  },
  {
   "cell_type": "code",
   "execution_count": 32,
   "id": "8b006a09-9452-4697-8010-1e5f0993e16f",
   "metadata": {},
   "outputs": [
    {
     "data": {
      "text/plain": [
       "(173, 265)"
      ]
     },
     "execution_count": 32,
     "metadata": {},
     "output_type": "execute_result"
    }
   ],
   "source": [
    "find_min_round(data['y']), find_max_round(data['y'])"
   ]
  },
  {
   "cell_type": "code",
   "execution_count": 33,
   "id": "81c6e6b3-1a4c-4f27-8b87-a9e67666eccc",
   "metadata": {},
   "outputs": [
    {
     "data": {
      "text/plain": [
       "(230, 230)"
      ]
     },
     "execution_count": 33,
     "metadata": {},
     "output_type": "execute_result"
    }
   ],
   "source": [
    "find_min_round(data['x']), find_max_round(data['x'])"
   ]
  },
  {
   "cell_type": "code",
   "execution_count": 131,
   "id": "02d5b120-f6c2-42af-b74b-284fb55a0e0a",
   "metadata": {},
   "outputs": [
    {
     "data": {
      "text/plain": [
       "21353"
      ]
     },
     "execution_count": 131,
     "metadata": {},
     "output_type": "execute_result"
    }
   ],
   "source": [
    "frame_count(os.path.join(path_videos,'1097_meal.mp4'), manual=True)"
   ]
  },
  {
   "cell_type": "code",
   "execution_count": 149,
   "id": "6354e71e-f3ef-4f50-ad04-03bdcbfcc2ea",
   "metadata": {},
   "outputs": [],
   "source": [
    "cap.set(1,21350)\n",
    "ret,image= cap.read()"
   ]
  },
  {
   "cell_type": "code",
   "execution_count": 150,
   "id": "4e3e1aaf-1b96-4337-8b89-a62e45630626",
   "metadata": {},
   "outputs": [
    {
     "data": {
      "text/plain": [
       "<matplotlib.image.AxesImage at 0x7faa58a9bf10>"
      ]
     },
     "execution_count": 150,
     "metadata": {},
     "output_type": "execute_result"
    },
    {
     "data": {
      "image/png": "[encoded data removed]",
      "text/plain": [
       "<Figure size 432x288 with 1 Axes>"
      ]
     },
     "metadata": {
      "needs_background": "light"
     },
     "output_type": "display_data"
    }
   ],
   "source": [
    "plt.imshow(image)"
   ]
  },
  {
   "cell_type": "code",
   "execution_count": null,
   "id": "ebe686aa-a439-4f5e-b767-62a25efb88ed",
   "metadata": {},
   "outputs": [],
   "source": []
  },
  {
   "cell_type": "code",
   "execution_count": null,
   "id": "733b5bde-6f8f-45f4-8e74-9a5b847ae457",
   "metadata": {},
   "outputs": [],
   "source": []
  },
  {
   "cell_type": "code",
   "execution_count": null,
   "id": "7f8847b4-4dd6-44b7-9307-458633163925",
   "metadata": {},
   "outputs": [],
   "source": []
  },
  {
   "cell_type": "markdown",
   "id": "1955836d-9669-45ce-bfc6-4f58075d287f",
   "metadata": {},
   "source": [
    "## let's converge: cluster the folders into 2 "
   ]
  },
  {
   "cell_type": "code",
   "execution_count": 139,
   "id": "d61e2537-d156-49fb-b360-8f2ab093373c",
   "metadata": {},
   "outputs": [],
   "source": [
    "path_to_tracked = Path('/Users/andreibirladeanu/Documents/Data/experimenting/tracked/1117_meal')\n",
    "skeletons = [x for x in sorted_alphanumeric(os.listdir(path_to_tracked)) if x[0]!=\".\"]"
   ]
  },
  {
   "cell_type": "code",
   "execution_count": 141,
   "id": "d8769809-4a65-4d4b-bc8c-cb8a82cd99e9",
   "metadata": {},
   "outputs": [
    {
     "data": {
      "text/plain": [
       "6"
      ]
     },
     "execution_count": 141,
     "metadata": {},
     "output_type": "execute_result"
    }
   ],
   "source": []
  },
  {
   "cell_type": "code",
   "execution_count": null,
   "id": "f99d4cdc-0e4f-4f94-8ffc-ece615c13d3c",
   "metadata": {},
   "outputs": [],
   "source": [
    "all_torsos = []\n",
    "for skeleton in skeletons:\n",
    "    torso_sizes = []\n",
    "    for coords in skeleton:\n",
    "        data = pd.read_csv(os.path.join(path_to_tracked, skeleton, coords))\n",
    "        torso = torso_size(data)\n",
    "        if torso != 0:\n",
    "            torso_sizes.append(torso)\n",
    "    all_torsos.append(np.mean(torso_sizes))\n",
    "    "
   ]
  },
  {
   "cell_type": "code",
   "execution_count": null,
   "id": "e6d15821-fc15-4c6b-8bb2-cee95a49cf71",
   "metadata": {},
   "outputs": [],
   "source": [
    "neigh = NearestNeighbors(n_neighbors=1, algorithm = 'brute', metric='euclidean')\n",
    "\n",
    "neigh.fit([[new_skeleton1[-1][0][1],  new_skeleton1[-1][1][1]]])\n",
    "dist, nn = neigh.kneighbors([[skeletons[i]['skeleton1'][0][1],  skeletons[i]['skeleton1'][1][1]]], \n",
    "                                    return_distance = True)"
   ]
  }
 ],
 "metadata": {
  "kernelspec": {
   "display_name": "Python 3 (ipykernel)",
   "language": "python",
   "name": "python3"
  },
  "language_info": {
   "codemirror_mode": {
    "name": "ipython",
    "version": 3
   },
   "file_extension": ".py",
   "mimetype": "text/x-python",
   "name": "python",
   "nbconvert_exporter": "python",
   "pygments_lexer": "ipython3",
   "version": "3.7.6"
  }
 },
 "nbformat": 4,
 "nbformat_minor": 5
}
