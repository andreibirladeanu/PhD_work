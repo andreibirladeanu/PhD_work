{
 "cells": [
  {
   "cell_type": "code",
   "execution_count": null,
   "id": "d1755827-010d-4310-bd78-25c6ee767d91",
   "metadata": {},
   "outputs": [],
   "source": [
    "import os\n",
    "import os.path\n",
    "from os import path\n",
    "import shutil\n",
    "from tqdm import tqdm\n",
    "import pandas as pd\n",
    "import sys\n",
    "import time\n",
    "import logging\n",
    "import numpy as np\n",
    "import matplotlib.pyplot as plt\n",
    "import cv2\n",
    "import re\n",
    "from pathlib import Path\n",
    "from unidip import UniDip\n",
    "import unidip.dip as dip\n",
    "from sklearn.mixture import GaussianMixture\n",
    "from frame_count import frame_count"
   ]
  },
  {
   "cell_type": "code",
   "execution_count": null,
   "id": "cf8e134e-8d50-4968-9b4c-768706f900d5",
   "metadata": {},
   "outputs": [],
   "source": [
    "def sorted_alphanumeric(data):\n",
    "    convert = lambda text: int(text) if text.isdigit() else text.lower()\n",
    "    alphanum_key = lambda key: [ convert(c) for c in re.split('([0-9]+)', key) ] \n",
    "    return sorted(data, key=alphanum_key)"
   ]
  },
  {
   "cell_type": "code",
   "execution_count": null,
   "id": "863f64c7-fd4c-432c-a0d6-3e0bbb002507",
   "metadata": {},
   "outputs": [],
   "source": [
    "def find_min_round(array):\n",
    "    array = np.array(array.loc[[0,1,2,5,8,11,15,16,17]])#remove the arms from the equation cause the bounding boxes are too large \n",
    "    x = round(np.min(array[np.nonzero(array)]))\n",
    "    return(x)\n",
    "\n",
    "def find_max_round(array):\n",
    "    array = np.array(array.loc[[0,1,2,5,8,11,15,16,17]])\n",
    "    x = round(np.max(array))\n",
    "    return(x)"
   ]
  },
  {
   "cell_type": "code",
   "execution_count": null,
   "id": "81f39afb-2e03-469b-85a8-fb0c32b1c45d",
   "metadata": {},
   "outputs": [],
   "source": [
    "def bounding_box(frame,coords):\n",
    "    bbox = frame[find_min_round(coords['y']):find_max_round(coords['y']),\n",
    "           find_min_round(coords['x']):find_max_round(coords['x'])]\n",
    "    return(bbox)"
   ]
  },
  {
   "cell_type": "markdown",
   "id": "414284d7-5d32-4ba9-8936-4fd20c125429",
   "metadata": {},
   "source": [
    "## iterate thru all of skeleton 1 (tracked) in all the videos\n"
   ]
  },
  {
   "cell_type": "code",
   "execution_count": null,
   "id": "cdde6a83-8e2b-4d48-be37-1d67994f6127",
   "metadata": {},
   "outputs": [],
   "source": [
    "path_skeletons = Path('/Users/andreibirladeanu/Documents/Data/meal_tracked_exp/')\n",
    "folders = [x for x in sorted_alphanumeric(os.listdir(path_skeletons)) if x[0]!=\".\"]\n",
    "path_videos = Path('/Users/andreibirladeanu/Documents/Data/meal_videos/')"
   ]
  },
  {
   "cell_type": "code",
   "execution_count": null,
   "id": "85dc0091-3717-4a36-a6b2-da3540c17d8a",
   "metadata": {},
   "outputs": [],
   "source": [
    "### if one of the 3 skeleton folders is less than 10% of the whole data then discard\n",
    "\n",
    "    \n",
    "for folder in folders:\n",
    "    sample_size = 0\n",
    "    if folder[0] == \".\":\n",
    "        continue\n",
    "    for skeleton in os.listdir(os.path.join(path_skeletons, folder)):\n",
    "        if skeleton[0] ==\".\":\n",
    "            continue\n",
    "        sample_size += len(os.listdir(os.path.join(path_skeletons, folder, skeleton)))\n",
    "    for skeleton in os.listdir(os.path.join(path_skeletons, folder)):\n",
    "        if skeleton[0] ==\".\":\n",
    "            continue\n",
    "        if len(os.listdir(os.path.join(path_skeletons, folder, skeleton))) < (5/100*sample_size):\n",
    "            shutil.rmtree(os.path.join(path_skeletons, folder, skeleton))\n",
    "        "
   ]
  },
  {
   "cell_type": "code",
   "execution_count": null,
   "id": "c5b9ce76-f0c1-4635-9db7-33e9c7d06c73",
   "metadata": {},
   "outputs": [],
   "source": [
    "sk = 'skel3'\n",
    "skeleton_folders = [os.path.join(path_skeletons, folder, sk) for folder in folders if folder[0]!=\".\"]"
   ]
  },
  {
   "cell_type": "code",
   "execution_count": null,
   "id": "d25e22b9-ef13-4816-9a25-bfcec98be4f8",
   "metadata": {},
   "outputs": [],
   "source": [
    "folders"
   ]
  },
  {
   "cell_type": "code",
   "execution_count": null,
   "id": "84869021-992c-4d82-86f2-4b1421308e0c",
   "metadata": {},
   "outputs": [],
   "source": [
    "skeleton_folders, folders"
   ]
  },
  {
   "cell_type": "code",
   "execution_count": null,
   "id": "e7ff6f13-674c-4d33-bbad-f9858b9b99d1",
   "metadata": {},
   "outputs": [],
   "source": [
    "for x in skeleton_folders:\n",
    "    print(x)"
   ]
  },
  {
   "cell_type": "markdown",
   "id": "7300b2fb-6d4e-4bdd-974c-98f3f45c5153",
   "metadata": {},
   "source": [
    "## 2. for each folder get bounding boxes by using the skeleton and save them inside a numpy array"
   ]
  },
  {
   "cell_type": "code",
   "execution_count": null,
   "id": "d3aa717e-3e81-4c59-ba3a-b2869078fe47",
   "metadata": {},
   "outputs": [],
   "source": [
    "\n",
    "for skeleton, folder in tqdm(zip(skeleton_folders, folders)): ## outermost loop - iterate thru the video openpose folders\n",
    "    if path.exists(skeleton) == False:\n",
    "        continue\n",
    "    cap = cv2.VideoCapture(os.path.join(path_videos, folder+'.mp4')) ## get video capture for the video\n",
    "    skel = sorted_alphanumeric(os.listdir(skeleton)) ### get a list of skeleton files inside the folder\n",
    "    if len(skel) < 10000: ## lower p value if the sample size is very high to avoid false positives\n",
    "        p = 0.05\n",
    "    else:\n",
    "        p = 0.01\n",
    "    if '.DS_Store' in skel:\n",
    "        skel.remove('.DS_Store')\n",
    "    bboxes = []\n",
    "    print(folder)\n",
    "    for file in skel: ### iterate thru the skeleton - innermost loop\n",
    "        cap.set(1,int(file.split('.')[0])-1)\n",
    "        ret, image = cap.read()\n",
    "        coords = pd.read_csv(os.path.join(path_skeletons, skeleton, file))\n",
    "\n",
    "        bbox = np.mean(image[find_min_round(coords['y']):find_max_round(coords['y']),\n",
    "           find_min_round(coords['x']):find_max_round(coords['x'])], dtype=np.float32, axis=2)\n",
    "        if bbox.shape[0]==0 or bbox.shape[1] ==0:\n",
    "            continue\n",
    "        bboxes.append(bbox)\n",
    "\n",
    "    bboxes = np.array(bboxes)\n",
    "    for_hist = np.array([[np.mean(x)] for x in bboxes])\n",
    "    for_test = np.array([np.mean(x) for x in bboxes])\n",
    "    for_test= np.msort(for_test)\n",
    "    #plt.hist(for_hist)\n",
    "    unimodal = dip.diptst(for_test)[1]\n",
    "    if unimodal < p:\n",
    "        gm = GaussianMixture(n_components=2, random_state=0).fit(for_hist)\n",
    "        labels = gm.predict(for_hist) #### \n",
    "        ## make 2 new folders \n",
    "        \n",
    "        path_1 = os.path.join(path_skeletons, folder, sk +'_tr1')\n",
    "        path_2 = os.path.join(path_skeletons, folder, sk +'_tr2')\n",
    "        os.mkdir(path_1);os.mkdir(path_2)\n",
    "        for label, coords in zip(range(len(labels)),range(len(skel))):\n",
    "            if labels[label] == 0:\n",
    "                Path(os.path.join(skeleton, skel[coords])).rename(os.path.join(path_1, skel[coords]))\n",
    "            elif labels[label] == 1:\n",
    "                Path(os.path.join(skeleton, skel[coords])).rename(os.path.join(path_2, skel[coords]))\n",
    "        shutil.rmtree(skeleton) # delete the original folder after the files have been split\n",
    "    \n",
    "        \n",
    "        \n",
    "print('success')\n",
    "    \n",
    "    \n",
    "    \n",
    "        \n"
   ]
  },
  {
   "cell_type": "code",
   "execution_count": null,
   "id": "f9d8b0a6-53ca-47f4-9766-3602b3d66584",
   "metadata": {},
   "outputs": [],
   "source": [
    "print('a')"
   ]
  },
  {
   "cell_type": "markdown",
   "id": "0e54e9a4-d3fd-49ee-a6b9-d1c2e301daf1",
   "metadata": {},
   "source": [
    "### Evaluation"
   ]
  },
  {
   "cell_type": "code",
   "execution_count": null,
   "id": "ce7871d4-4c68-40ad-8f30-6b5d4d3f3ec8",
   "metadata": {},
   "outputs": [],
   "source": [
    "evaluation_path = Path('/Users/andreibirladeanu/Documents/Data/experimenting/tracked/1053_meal/skel1_tr1')\n",
    "files = [x for x in sorted_alphanumeric(os.listdir(evaluation_path)) if x[0]!=\".\"]\n",
    "cap = cv2.VideoCapture(os.path.join(path_videos,'1053_meal.mp4'))\n",
    "new_viz_path =  Path('/Users/andreibirladeanu/Documents/Data/experimenting/visualize/1053_meal/skel1_tr1')\n",
    "os.mkdir(new_viz_path)\n",
    "histogram = []\n",
    "\n",
    "for file in files:\n",
    "    cap.set(1,int(file.split('.')[0])-1)\n",
    "    ret, image = cap.read()\n",
    "    coords = pd.read_csv(os.path.join(evaluation_path, file))\n",
    "    cv2.imwrite(os.path.join(new_viz_path, file.split('.')[0]+'.png'), image[find_min_round(coords['y']):find_max_round(coords['y']),\n",
    "           find_min_round(coords['x']):find_max_round(coords['x'])])\n",
    "   # histogram.append(image[find_min_round(coords['y']):find_max_round(coords['y']),\n",
    "    #       find_min_round(coords['x']):find_max_round(coords['x'])])\n",
    "    "
   ]
  },
  {
   "cell_type": "code",
   "execution_count": null,
   "id": "9360ecd6-34dc-44f8-9475-2f91249fc50c",
   "metadata": {},
   "outputs": [],
   "source": [
    "for_hist =  np.array([[np.mean(np.mean(x, axis=2))] for x in histogram])\n",
    "for_dip =  np.array([np.mean(np.mean(x, axis=2)) for x in histogram])"
   ]
  },
  {
   "cell_type": "code",
   "execution_count": null,
   "id": "3fe018f1-4cd5-4e42-a8a7-2b8199589ac1",
   "metadata": {},
   "outputs": [],
   "source": [
    "plt.hist(for_hist)\n"
   ]
  },
  {
   "cell_type": "code",
   "execution_count": null,
   "id": "10cecd61-0c20-4b7b-9b28-e21ad4f5321b",
   "metadata": {},
   "outputs": [],
   "source": [
    "evaluation_path = Path('/Users/andreibirladeanu/Documents/Data/experimenting/tracked/1117_meal/skel3_tr1')\n",
    "files = [x for x in sorted_alphanumeric(os.listdir(evaluation_path)) if x[0]!=\".\"]\n",
    "cap = cv2.VideoCapture(os.path.join(path_videos,'1117_meal.mp4'))\n",
    "new_viz_path =  Path('/Users/andreibirladeanu/Documents/Data/experimenting/visualize/1117_meal/skel3_tr1')\n",
    "new_viz_path.mkdir(parents=True, exist_ok=True)\n",
    "histogram = []\n",
    "\n",
    "for file in files:\n",
    "    cap.set(1,int(file.split('.')[0])-1)\n",
    "    ret, image = cap.read()\n",
    "    coords = pd.read_csv(os.path.join(evaluation_path, file))\n",
    "    bbox = image[find_min_round(coords['y']):find_max_round(coords['y']),\n",
    "           find_min_round(coords['x']):find_max_round(coords['x'])]\n",
    "    if bbox.shape[0]==0 or bbox.shape[1] ==0:\n",
    "            continue\n",
    "    cv2.imwrite(os.path.join(new_viz_path, file.split('.')[0]+'.png'), image[find_min_round(coords['y']):find_max_round(coords['y']),\n",
    "           find_min_round(coords['x']):find_max_round(coords['x'])])"
   ]
  },
  {
   "cell_type": "code",
   "execution_count": null,
   "id": "f9e716fc-da18-4ec3-85c6-ea58b85e5699",
   "metadata": {},
   "outputs": [],
   "source": [
    "histogram[-1]"
   ]
  },
  {
   "cell_type": "code",
   "execution_count": null,
   "id": "67f23505-4479-4c4f-b6ba-b8ef0ac32f6e",
   "metadata": {},
   "outputs": [],
   "source": [
    "filename = Path('/Users/andreibirladeanu/Documents/Data/experimenting/tracked/1122_meal/skel2/1206.csv')\n",
    "data = pd.read_csv(filename)"
   ]
  },
  {
   "cell_type": "code",
   "execution_count": null,
   "id": "8b006a09-9452-4697-8010-1e5f0993e16f",
   "metadata": {},
   "outputs": [],
   "source": [
    "find_min_round(data['y']), find_max_round(data['y'])"
   ]
  },
  {
   "cell_type": "code",
   "execution_count": null,
   "id": "81c6e6b3-1a4c-4f27-8b87-a9e67666eccc",
   "metadata": {},
   "outputs": [],
   "source": [
    "find_min_round(data['x']), find_max_round(data['x'])"
   ]
  },
  {
   "cell_type": "code",
   "execution_count": null,
   "id": "02d5b120-f6c2-42af-b74b-284fb55a0e0a",
   "metadata": {},
   "outputs": [],
   "source": [
    "frame_count(os.path.join(path_videos,'1097_meal.mp4'), manual=True)"
   ]
  },
  {
   "cell_type": "code",
   "execution_count": null,
   "id": "6354e71e-f3ef-4f50-ad04-03bdcbfcc2ea",
   "metadata": {},
   "outputs": [],
   "source": [
    "cap.set(1,21350)\n",
    "ret,image= cap.read()"
   ]
  },
  {
   "cell_type": "code",
   "execution_count": null,
   "id": "4e3e1aaf-1b96-4337-8b89-a62e45630626",
   "metadata": {},
   "outputs": [],
   "source": [
    "plt.imshow(image)"
   ]
  },
  {
   "cell_type": "markdown",
   "id": "1955836d-9669-45ce-bfc6-4f58075d287f",
   "metadata": {},
   "source": [
    "## let's converge: cluster the folders into 2 "
   ]
  },
  {
   "cell_type": "code",
   "execution_count": null,
   "id": "d61e2537-d156-49fb-b360-8f2ab093373c",
   "metadata": {},
   "outputs": [],
   "source": [
    "path_to_tracked = Path('/Users/andreibirladeanu/Documents/Data/experimenting/tracked/1117_meal')\n",
    "skeletons = [x for x in sorted_alphanumeric(os.listdir(path_to_tracked)) if x[0]!=\".\"]"
   ]
  },
  {
   "cell_type": "code",
   "execution_count": null,
   "id": "f99d4cdc-0e4f-4f94-8ffc-ece615c13d3c",
   "metadata": {},
   "outputs": [],
   "source": [
    "all_torsos = []\n",
    "for skeleton in skeletons:\n",
    "    torso_sizes = []\n",
    "    for coords in skeleton:\n",
    "        data = pd.read_csv(os.path.join(path_to_tracked, skeleton, coords))\n",
    "        torso = torso_size(data)\n",
    "        if torso != 0:\n",
    "            torso_sizes.append(torso)\n",
    "    all_torsos.append(np.mean(torso_sizes))\n",
    "    "
   ]
  },
  {
   "cell_type": "code",
   "execution_count": null,
   "id": "e6d15821-fc15-4c6b-8bb2-cee95a49cf71",
   "metadata": {},
   "outputs": [],
   "source": [
    "neigh = NearestNeighbors(n_neighbors=1, algorithm = 'brute', metric='euclidean')\n",
    "\n",
    "neigh.fit([[new_skeleton1[-1][0][1],  new_skeleton1[-1][1][1]]])\n",
    "dist, nn = neigh.kneighbors([[skeletons[i]['skeleton1'][0][1],  skeletons[i]['skeleton1'][1][1]]], \n",
    "                                    return_distance = True)"
   ]
  }
 ],
 "metadata": {
  "kernelspec": {
   "display_name": "Python 3 (ipykernel)",
   "language": "python",
   "name": "python3"
  },
  "language_info": {
   "codemirror_mode": {
    "name": "ipython",
    "version": 3
   },
   "file_extension": ".py",
   "mimetype": "text/x-python",
   "name": "python",
   "nbconvert_exporter": "python",
   "pygments_lexer": "ipython3",
   "version": "3.7.6"
  }
 },
 "nbformat": 4,
 "nbformat_minor": 5
}
