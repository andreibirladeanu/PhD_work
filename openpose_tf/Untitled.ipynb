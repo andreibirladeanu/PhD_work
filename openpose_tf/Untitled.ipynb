{
 "cells": [
  {
   "cell_type": "code",
   "execution_count": null,
   "id": "4e35c68c-054f-4372-8c1f-6991fc3926d0",
   "metadata": {},
   "outputs": [],
   "source": [
    "from scipy import interpolate\n",
    "import numpy as np"
   ]
  },
  {
   "cell_type": "code",
   "execution_count": null,
   "id": "c4461170-6386-43bc-8f8d-088dc5e3a1fe",
   "metadata": {},
   "outputs": [],
   "source": [
    "x = np.arange(0, 10)\n"
   ]
  },
  {
   "cell_type": "code",
   "execution_count": null,
   "id": "513f4bb1-a2df-488d-8b86-ce7659fab376",
   "metadata": {},
   "outputs": [],
   "source": [
    "y = np.exp(-x/3.0)"
   ]
  },
  {
   "cell_type": "code",
   "execution_count": null,
   "id": "9c4e1788-7fda-4f30-9e69-ce81e3a95dcf",
   "metadata": {},
   "outputs": [],
   "source": [
    "y"
   ]
  },
  {
   "cell_type": "code",
   "execution_count": null,
   "id": "95b206d7-8b74-41da-960a-c6a9cb1dda7c",
   "metadata": {},
   "outputs": [],
   "source": [
    "x"
   ]
  },
  {
   "cell_type": "code",
   "execution_count": null,
   "id": "90c32daa-46da-421f-91aa-44c398fd9e41",
   "metadata": {},
   "outputs": [],
   "source": [
    "f = interpolate.interp1d(x, y)"
   ]
  },
  {
   "cell_type": "code",
   "execution_count": null,
   "id": "74980203-829e-42ee-a6f1-64dc6337e069",
   "metadata": {},
   "outputs": [],
   "source": [
    "xnew = np.arange(0, 9, 0.1)"
   ]
  },
  {
   "cell_type": "code",
   "execution_count": null,
   "id": "c29cddf3-5a21-4df8-b095-baadc3207df5",
   "metadata": {},
   "outputs": [],
   "source": [
    "x = [1,2,3,5]"
   ]
  },
  {
   "cell_type": "code",
   "execution_count": null,
   "id": "aaeff898-2ea6-4537-8214-731f1a109183",
   "metadata": {},
   "outputs": [],
   "source": [
    "y = [202, 204, 207, 210]"
   ]
  },
  {
   "cell_type": "code",
   "execution_count": null,
   "id": "9e65d39f-1791-422e-b522-08e18dd74ee6",
   "metadata": {},
   "outputs": [],
   "source": [
    "f = interpolate.interp1d(x, y, kind='cubic')"
   ]
  },
  {
   "cell_type": "code",
   "execution_count": null,
   "id": "18c60aba-6d5f-41a9-acb2-c2392b5120c0",
   "metadata": {},
   "outputs": [],
   "source": [
    "xnew = [1,2,3,4,5]"
   ]
  },
  {
   "cell_type": "code",
   "execution_count": null,
   "id": "554dea65-ca5a-4aa9-84e1-d617a0cd609f",
   "metadata": {},
   "outputs": [],
   "source": [
    "ynew = f(xnew)"
   ]
  },
  {
   "cell_type": "code",
   "execution_count": null,
   "id": "b4d934c8-e6c4-413c-94ed-65a28a7d33c0",
   "metadata": {},
   "outputs": [],
   "source": [
    "y, ynew"
   ]
  },
  {
   "cell_type": "code",
   "execution_count": null,
   "id": "8fe9691a-d544-47f3-b03c-0608bed3205e",
   "metadata": {},
   "outputs": [],
   "source": [
    "### 2d data\n",
    "x = [202, 204, 207, 215]\n",
    "y = [404, 406, 410, 417]\n",
    "xx, yy = np.meshgrid(x,y)\n",
    "\n",
    "f = interpolate.interp2d(x, y, z, kind='cubic')"
   ]
  },
  {
   "cell_type": "code",
   "execution_count": null,
   "id": "548f3e38-2180-4e8e-b1f3-fb7ad0062b6f",
   "metadata": {},
   "outputs": [],
   "source": [
    "from scipy.interpolate import griddata\n",
    "x = [202, 204, 207, 215]\n",
    "y = [404, 406, 410, 417]\n",
    "z = [1,2,3,5]\n",
    "extent = (min(x), max(x), min(y), max(y))\n",
    "xs,ys = np.mgrid[extent[0]:extent[1]:3j, extent[2]:extent[3]:2j]\n",
    "Z_resampled = griddata((x, y), z, (xs, ys))"
   ]
  },
  {
   "cell_type": "code",
   "execution_count": null,
   "id": "ce89dd3a-5066-4d09-be2e-f278a83967d7",
   "metadata": {},
   "outputs": [],
   "source": [
    "x1 = [202, 202, 207, 215,250]\n",
    "frames_1 = [1,2,3,4, 6, 11, ]\n",
    "\n",
    "x2 = [202, 202, 207, 215, 216,240, ]\n",
    "frames_2 = [1,2,3,4,5, 6, 7, 8, 9 , 10]\n",
    "\n",
    "z = [1,2,3,5]\n",
    "linfit = interp1d(z, np.vstack([x, y]), axis=1, kind='')"
   ]
  },
  {
   "cell_type": "code",
   "execution_count": null,
   "id": "20aa686f-6b87-4c0e-a7de-bea5572ff46d",
   "metadata": {},
   "outputs": [],
   "source": [
    "x1 = [202, 202, 207, 215,250]\n",
    "z = [1,2,3,4, 5]\n",
    "linfit = interp1d(z,x1, axis=0, fill_value='extrapolate', kind='linear')"
   ]
  },
  {
   "cell_type": "code",
   "execution_count": null,
   "id": "63e65ebb-e2e1-4159-9921-f4b2356ebf7c",
   "metadata": {},
   "outputs": [],
   "source": [
    "import numpy as np\n",
    "x = np.arange(50)\n",
    "y = np.arange(51,101)"
   ]
  },
  {
   "cell_type": "code",
   "execution_count": null,
   "id": "8b5c677c-636a-4b34-b280-76c8f40b39c8",
   "metadata": {},
   "outputs": [],
   "source": [
    "z = np.arange(50)\n",
    "linfit = interp1d(z,np.vstack([x, y]), axis=1, kind='cubic')"
   ]
  },
  {
   "cell_type": "code",
   "execution_count": null,
   "id": "26e1971d-5e91-4ebe-b9b0-a730881c3608",
   "metadata": {},
   "outputs": [],
   "source": [
    "x = np.append(x,70)\n",
    "y = np.append(y,150)\n",
    "z = np.append(z,73)"
   ]
  },
  {
   "cell_type": "code",
   "execution_count": null,
   "id": "899025e1-4e3d-47e7-83d8-fbdb739f70ae",
   "metadata": {},
   "outputs": [],
   "source": [
    "x[50], y[50], z[50]"
   ]
  },
  {
   "cell_type": "code",
   "execution_count": null,
   "id": "14f1423d-8fd3-44a1-8274-47accc63417c",
   "metadata": {},
   "outputs": [],
   "source": [
    "linfit = interp1d(z,np.vstack([x, y]), axis=1, kind='cubic')"
   ]
  },
  {
   "cell_type": "code",
   "execution_count": null,
   "id": "3d14cd8a-17e9-456d-b50d-8f335c98505d",
   "metadata": {},
   "outputs": [],
   "source": [
    "linfit(60)"
   ]
  },
  {
   "cell_type": "code",
   "execution_count": null,
   "id": "22212b04-be3f-44cf-b4af-b077164648b8",
   "metadata": {},
   "outputs": [],
   "source": [
    "x=[202,202, 201, 290]\n",
    "y = [405,402, 404, 370]\n",
    "z = [1,2, 3, 102]\n",
    "linfit = interp1d(z,np.vstack([x, y]), axis=1, kind='cubic')"
   ]
  },
  {
   "cell_type": "code",
   "execution_count": null,
   "id": "59f7ae66-39a4-484c-910d-b8d287145299",
   "metadata": {},
   "outputs": [],
   "source": [
    "z.shape, np.vstack([x, y])"
   ]
  },
  {
   "cell_type": "code",
   "execution_count": null,
   "id": "d23c8b98-40b0-443d-ab22-d9c537e97131",
   "metadata": {},
   "outputs": [],
   "source": [
    "a = [[214, 400], [250,410], [270,400]]"
   ]
  },
  {
   "cell_type": "code",
   "execution_count": null,
   "id": "f5ad0e0d-1c00-4046-8d70-ed5dc1c7114f",
   "metadata": {},
   "outputs": [],
   "source": [
    "b = [[220, 420], [200,500], [250,300]]"
   ]
  },
  {
   "cell_type": "code",
   "execution_count": null,
   "id": "91db5637-c972-4713-a567-7e346f8dddc1",
   "metadata": {},
   "outputs": [],
   "source": [
    "a = (5,6)\n",
    "print(type(a)) t"
   ]
  },
  {
   "cell_type": "code",
   "execution_count": null,
   "id": "38e38d36-1838-45fb-84c9-08b1e0d67c2d",
   "metadata": {},
   "outputs": [],
   "source": [
    "a = [2,3]\n",
    "np.mean(a)"
   ]
  },
  {
   "cell_type": "code",
   "execution_count": null,
   "id": "4539761c-3227-4384-ba18-bf46de857aff",
   "metadata": {},
   "outputs": [],
   "source": [
    "for detect1, detect2 in zip(a,b):\n",
    "    for index,coords in enumerate(zip(detect1, detect2)):\n",
    "        if index%2==0:\n",
    "            (coords[0]-coords[1])\n",
    "        else:\n",
    "            (coords[0]-coords[1])"
   ]
  },
  {
   "cell_type": "code",
   "execution_count": null,
   "id": "2cda8794-45a0-424e-a24b-d6fbb531964d",
   "metadata": {},
   "outputs": [],
   "source": [
    "z = [1,2, 3]"
   ]
  },
  {
   "cell_type": "code",
   "execution_count": null,
   "id": "c423d378-df1f-4554-9282-40b6caf0ba45",
   "metadata": {},
   "outputs": [],
   "source": [
    "linfit = interp1d(z, a, axis=1, kind='linear')"
   ]
  },
  {
   "cell_type": "code",
   "execution_count": null,
   "id": "35afebba-8d53-4cca-8e9f-a2d674cee2fd",
   "metadata": {},
   "outputs": [],
   "source": [
    "linfit(2.5)"
   ]
  },
  {
   "cell_type": "code",
   "execution_count": null,
   "id": "0fae8eeb-b00e-40e8-9e15-36c388ee304b",
   "metadata": {},
   "outputs": [],
   "source": [
    "x=[202,202, 201, 290]\n",
    "y = [405,402, 404, 370]"
   ]
  }
 ],
 "metadata": {
  "kernelspec": {
   "display_name": "Python 3 (ipykernel)",
   "language": "python",
   "name": "python3"
  },
  "language_info": {
   "codemirror_mode": {
    "name": "ipython",
    "version": 3
   },
   "file_extension": ".py",
   "mimetype": "text/x-python",
   "name": "python",
   "nbconvert_exporter": "python",
   "pygments_lexer": "ipython3",
   "version": "3.7.6"
  }
 },
 "nbformat": 4,
 "nbformat_minor": 5
}
