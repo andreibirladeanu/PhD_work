{
 "cells": [
  {
   "cell_type": "code",
   "execution_count": null,
   "id": "b45ebcf9-d295-4631-82b8-02ad753bbdd2",
   "metadata": {},
   "outputs": [],
   "source": [
    "import pandas as pd\n",
    "import numpy as np\n",
    "from pathlib import Path\n",
    "import os\n",
    "from tqdm import tqdm\n",
    "import pandas as pd\n",
    "import sys\n",
    "import numpy as np\n",
    "import matplotlib.pyplot as plt\n",
    "import cv2\n",
    "import re\n",
    "import shutil\n",
    "from pathlib import Path\n",
    "from pathlib import Path\n",
    "from sorted_alpha import sorted_alpha"
   ]
  },
  {
   "cell_type": "code",
   "execution_count": null,
   "id": "9ae26a9c-cc74-4545-8703-0f219c6602c9",
   "metadata": {},
   "outputs": [],
   "source": [
    "### \n",
    "cap = cv2.VideoCapture('/Users/andrei-macpro/Documents/Data/meal_videos/1112_meal_1.mp4')"
   ]
  },
  {
   "cell_type": "code",
   "execution_count": null,
   "id": "f7c5fddf-4ce1-47ce-8914-ff3f27c86738",
   "metadata": {},
   "outputs": [],
   "source": [
    "cap.set(1, 12793)\n",
    "ret, image = cap.read()"
   ]
  },
  {
   "cell_type": "code",
   "execution_count": null,
   "id": "31aa0740-500a-43bd-bab3-5f63ecc53dae",
   "metadata": {},
   "outputs": [],
   "source": [
    "plt.imshow(image)"
   ]
  },
  {
   "cell_type": "code",
   "execution_count": null,
   "id": "9b17b260-1730-4bc7-ac1a-91e1b151f57e",
   "metadata": {},
   "outputs": [],
   "source": [
    "data = pd.read_csv('/Users/andrei-macpro/Documents/Data/meal_tracking/1043_meal/track1.csv')\n",
    "data = data.set_index('frame')\n",
    "data = data.round(0)"
   ]
  },
  {
   "cell_type": "code",
   "execution_count": null,
   "id": "ae036f74-30d7-4382-93af-84f02389165f",
   "metadata": {},
   "outputs": [],
   "source": [
    "data"
   ]
  },
  {
   "cell_type": "code",
   "execution_count": null,
   "id": "4532872a-265a-4fe2-af6f-d2ebc463fea4",
   "metadata": {},
   "outputs": [],
   "source": [
    "plt.imshow(image[(270-60):(270+60),(230-50):(230+50)])"
   ]
  },
  {
   "cell_type": "code",
   "execution_count": null,
   "id": "0465f300-504d-44fe-aea8-40275b197906",
   "metadata": {},
   "outputs": [],
   "source": [
    "folders = Path('/Users/andrei-macpro/Documents/Data/play_tracking')\n",
    "videos = Path('/Users/andrei-macpro/Documents/Data/Play')"
   ]
  },
  {
   "cell_type": "code",
   "execution_count": null,
   "id": "8553200b-af45-4e27-9a4d-a02ac87e8eed",
   "metadata": {},
   "outputs": [],
   "source": [
    "\n",
    "for folder, video in zip(sorted_alpha(folders)[69:], sorted_alpha(videos)[69:]):\n",
    "    cap = cv2.VideoCapture(os.path.join(videos,folder)+'.mp4')\n",
    "    for track in sorted_alpha(os.path.join(folders, folder)):\n",
    "        new_path = (os.path.join(folders.parent, 'more_evaluation_tracking_play',folder, track.split('.')[0]))\n",
    "        os.makedirs(new_path, exist_ok=True)\n",
    "        data = pd.read_csv(os.path.join(folders, folder, track))\n",
    "        data = data.round(0)\n",
    "        data.set_index('frame', inplace=True)\n",
    "        for index,row in data.sample(n=1000, random_state=42).iterrows():\n",
    "            cap.set(1, index-1)\n",
    "            ret,image = cap.read()\n",
    "            img = image[int(row['y']-50):int(row['y']+60),int(row['x']-50):int(row['x']+50)]\n",
    "            if img.shape[0]>0 and img.shape[1]>0:\n",
    "                cv2.imwrite(os.path.join(new_path,str(index)+'.png'), img)\n",
    "            "
   ]
  },
  {
   "cell_type": "code",
   "execution_count": null,
   "id": "3eceab3c-a37e-43eb-845b-d81ccebaaa7c",
   "metadata": {},
   "outputs": [],
   "source": [
    "sorted_alpha(videos)[69:]"
   ]
  },
  {
   "cell_type": "code",
   "execution_count": null,
   "id": "e6368ddf-b2cf-4d19-a9eb-4045933d8f15",
   "metadata": {},
   "outputs": [],
   "source": [
    "path = Path('/Users/andrei-macpro/Documents/Data/evaluation_tracking_play')\n",
    "folders = sorted_alpha(path)"
   ]
  },
  {
   "cell_type": "code",
   "execution_count": null,
   "id": "975b0f59-aa13-484a-8aee-64bba92fe9e2",
   "metadata": {},
   "outputs": [],
   "source": [
    "folders.remove('1264_play')"
   ]
  },
  {
   "cell_type": "code",
   "execution_count": null,
   "id": "4233a7fd-b5a9-4727-bda8-bdeab720f762",
   "metadata": {},
   "outputs": [],
   "source": [
    "track1 = []\n",
    "track2 = []\n",
    "tracks = []\n",
    "for folder in folders:\n",
    "    for i,track in enumerate(sorted_alpha(os.path.join(path,folder))):\n",
    "        if i==0:\n",
    "            os.chdir(os.path.join(path,folder,track))\n",
    "            lenghts = [len(os.listdir(os.path.join(Path(x).parent,x))) for x in sorted_alpha(os.path.join(path,folder,track))\n",
    "                      if x[0]=='c']\n",
    "            track1.append(max(lenghts))\n",
    "        elif i==1:\n",
    "            os.chdir(os.path.join(path,folder,track))\n",
    "            lenghts = [len(os.listdir(os.path.join(Path(x).parent,x))) for x in sorted_alpha(os.path.join(path,folder,track))\n",
    "                      if x[0]=='c']\n",
    "            track2.append(max(lenghts))\n",
    "            \n",
    "   "
   ]
  },
  {
   "cell_type": "code",
   "execution_count": null,
   "id": "33046b03-8ede-44a6-9ea9-76376794a009",
   "metadata": {},
   "outputs": [],
   "source": [
    "len(track1), len(track2)"
   ]
  },
  {
   "cell_type": "code",
   "execution_count": null,
   "id": "16d45899-6ba4-4971-9ec7-2f0a94a693e7",
   "metadata": {},
   "outputs": [],
   "source": [
    "data = pd.DataFrame([folders, track1, track2]).T\n",
    "data.columns = ['video', 'track1', 'track2']"
   ]
  },
  {
   "cell_type": "code",
   "execution_count": null,
   "id": "7905d88a-87ac-4b7f-85d6-ea5f9e0371fb",
   "metadata": {},
   "outputs": [],
   "source": [
    "data[['track1','track2']] = data[['track1','track2']].div(1000)*100\n",
    "data"
   ]
  },
  {
   "cell_type": "code",
   "execution_count": null,
   "id": "a7cfb06a-0ac8-44d5-bc4e-f7678683739c",
   "metadata": {},
   "outputs": [],
   "source": [
    "pd.set_option('display.max_rows', data.shape[0]+1)\n",
    "print(data)"
   ]
  },
  {
   "cell_type": "code",
   "execution_count": null,
   "id": "4b06891f-7100-4d7f-8500-51066f730748",
   "metadata": {},
   "outputs": [],
   "source": [
    "data[['track1','track2']].mean()"
   ]
  },
  {
   "cell_type": "code",
   "execution_count": null,
   "id": "b48ee626-5ee7-4831-8420-92ca8a93a7ec",
   "metadata": {},
   "outputs": [],
   "source": [
    "data.at[data.index[39], 'track1'] = 100"
   ]
  }
 ],
 "metadata": {
  "kernelspec": {
   "display_name": "Python 3 (ipykernel)",
   "language": "python",
   "name": "python3"
  },
  "language_info": {
   "codemirror_mode": {
    "name": "ipython",
    "version": 3
   },
   "file_extension": ".py",
   "mimetype": "text/x-python",
   "name": "python",
   "nbconvert_exporter": "python",
   "pygments_lexer": "ipython3",
   "version": "3.8.10"
  }
 },
 "nbformat": 4,
 "nbformat_minor": 5
}
