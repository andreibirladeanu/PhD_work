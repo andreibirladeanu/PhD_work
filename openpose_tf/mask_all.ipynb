{
 "cells": [
  {
   "cell_type": "code",
   "execution_count": null,
   "id": "4972db15-a63d-4c09-863b-c431bd89431f",
   "metadata": {},
   "outputs": [],
   "source": [
    "import sys\n",
    "import time\n",
    "import logging\n",
    "import numpy as np\n",
    "import matplotlib.pyplot as plt\n",
    "import cv2\n",
    "import os\n",
    "from tqdm import tqdm"
   ]
  },
  {
   "cell_type": "code",
   "execution_count": null,
   "id": "472ebcd0-cbbe-4ee4-8f89-7c318cd2477c",
   "metadata": {},
   "outputs": [],
   "source": [
    "import re\n",
    "def sorted_alphanumeric(data):\n",
    "    convert = lambda text: int(text) if text.isdigit() else text.lower()\n",
    "    alphanum_key = lambda key: [ convert(c) for c in re.split('([0-9]+)', key) ] \n",
    "    return sorted(data, key=alphanum_key)"
   ]
  },
  {
   "cell_type": "code",
   "execution_count": null,
   "id": "e89a2bad-a5cf-40e5-8cbf-50c2b43c072a",
   "metadata": {},
   "outputs": [],
   "source": [
    "video_path = '/Users/andrei-macpro/Documents/Data/goddamit/'"
   ]
  },
  {
   "cell_type": "code",
   "execution_count": null,
   "id": "664e3b06-db52-4e27-8b91-42c3940437da",
   "metadata": {},
   "outputs": [],
   "source": [
    "os.chdir('/Users/andrei-macpro/Documents/Data/goddamit')"
   ]
  },
  {
   "cell_type": "code",
   "execution_count": null,
   "id": "0862a4cf-e9f3-4c29-a866-b966f20b81eb",
   "metadata": {},
   "outputs": [],
   "source": [
    "videos = [x for x in sorted_alphanumeric(os.listdir(video_path)) if x[0] !=\".\"]"
   ]
  },
  {
   "cell_type": "code",
   "execution_count": null,
   "id": "f290aa4e-1847-4e34-8a45-2c1bcaa3be10",
   "metadata": {},
   "outputs": [],
   "source": [
    "videos"
   ]
  },
  {
   "cell_type": "code",
   "execution_count": null,
   "id": "662eec63-11f3-4ee2-8807-8e41a5c7ebae",
   "metadata": {},
   "outputs": [],
   "source": [
    "for video in tqdm(videos):\n",
    "    cap = cv2.VideoCapture(video)\n",
    "    fourcc = cv2.VideoWriter_fourcc(*'mp4v')# note the lower case\n",
    "    width = cap.get(cv2.CAP_PROP_FRAME_WIDTH) \n",
    "    height = cap.get(cv2.CAP_PROP_FRAME_HEIGHT) \n",
    "    print(width, height)\n",
    "    out = cv2.VideoWriter(video.split('.')[0]+'_masked'+'.mp4', fourcc, 25.0, (int(width),int(height)))\n",
    "    frames = []\n",
    "    while(cap.isOpened()):\n",
    "        ret, frame = cap.read()\n",
    "        if ret==True:\n",
    "            cv2.rectangle(frame,(50, 395),(225, 535) ,(0, 0, 0),-1)\n",
    "            \n",
    "            # write the flipped frame\n",
    "            out.write(frame)\n",
    "            \n",
    "           # cv2.imshow('frame',frame)\n",
    "            #if cv2.waitKey(1) & 0xFF == ord('q'):\n",
    "             #   break\n",
    "        else:\n",
    "            break\n",
    "cap.release()\n",
    "out.release()\n",
    "cv2.destroyAllWindows()"
   ]
  },
  {
   "cell_type": "code",
   "execution_count": null,
   "id": "e8aebc2b-b641-4851-ab8c-0d2fe93ffb64",
   "metadata": {},
   "outputs": [],
   "source": [
    "for index, video in enumerate(videos):\n",
    "    os.rename(os.path.join(video_path, video), os.path.join(video_path, video.split('_masked')[0]+'.mp4'))"
   ]
  },
  {
   "cell_type": "code",
   "execution_count": null,
   "id": "aae94a1a-ffdd-435b-8439-c6cab4fe7b2e",
   "metadata": {},
   "outputs": [],
   "source": [
    "video = '/Users/andrei-macpro/Documents/Data/1190_meal.mp4'\n",
    "cap = cv2.VideoCapture(video)\n",
    "fourcc = cv2.VideoWriter_fourcc(*'mp4v')# note the lower case\n",
    "width = cap.get(cv2.CAP_PROP_FRAME_WIDTH) \n",
    "height = cap.get(cv2.CAP_PROP_FRAME_HEIGHT) \n",
    "print(width, height)\n",
    "out = cv2.VideoWriter('1190_meal_1.mp4', fourcc, 25.0, (int(width),int(height)))\n",
    "frames = []\n",
    "while(cap.isOpened()):\n",
    "    ret, frame = cap.read()\n",
    "    if ret==True:\n",
    "        cv2.rectangle(frame,(50, 365),(210, 500) ,(0, 0, 0),-1)\n",
    "        \n",
    "        # write the flipped frame\n",
    "        out.write(frame)\n",
    "        \n",
    "        #cv2.imshow('frame',frame)\n",
    "        #if cv2.waitKey(1) & 0xFF == ord('q'):\n",
    "         #   break\n",
    "    else:\n",
    "        break\n",
    "cap.release()\n",
    "out.release()"
   ]
  }
 ],
 "metadata": {
  "kernelspec": {
   "display_name": "Python 3 (ipykernel)",
   "language": "python",
   "name": "python3"
  },
  "language_info": {
   "codemirror_mode": {
    "name": "ipython",
    "version": 3
   },
   "file_extension": ".py",
   "mimetype": "text/x-python",
   "name": "python",
   "nbconvert_exporter": "python",
   "pygments_lexer": "ipython3",
   "version": "3.7.6"
  }
 },
 "nbformat": 4,
 "nbformat_minor": 5
}
