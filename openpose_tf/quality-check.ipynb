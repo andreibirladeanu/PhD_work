{
 "cells": [
  {
   "cell_type": "code",
   "execution_count": null,
   "id": "9a7eaf59-0c11-4dc4-a3d2-0341d384b74d",
   "metadata": {},
   "outputs": [],
   "source": [
    "import os\n",
    "from tqdm import tqdm\n",
    "import pandas as pd\n",
    "import sys\n",
    "import time\n",
    "import logging\n",
    "import numpy as np\n",
    "import matplotlib.pyplot as plt\n",
    "import cv2\n",
    "import re\n",
    "from sklearn.neighbors import NearestNeighbors\n",
    "from pathlib import Path \n",
    "import random\n",
    "from frame_count import frame_count\n",
    "import itertools"
   ]
  },
  {
   "cell_type": "code",
   "execution_count": null,
   "id": "aaf9d4cb-d6e6-45a5-8aa9-f3eeb205c6bc",
   "metadata": {},
   "outputs": [],
   "source": [
    "def find_min_round(array):\n",
    "    array = np.array(array)\n",
    "    x = round(np.min(array[np.nonzero(array)]))\n",
    "    return(x)\n",
    "\n",
    "def find_max_round(array):\n",
    "    array = np.array(array)\n",
    "    x = round(np.max(array))\n",
    "    return(x)"
   ]
  },
  {
   "cell_type": "code",
   "execution_count": null,
   "id": "d52c4421-abd3-41bd-97b6-56e260262981",
   "metadata": {},
   "outputs": [],
   "source": [
    "def sorted_alphanumeric(data):\n",
    "    convert = lambda text: int(text) if text.isdigit() else text.lower()\n",
    "    alphanum_key = lambda key: [ convert(c) for c in re.split('([0-9]+)', key) ] \n",
    "    return sorted(data, key=alphanum_key)"
   ]
  },
  {
   "cell_type": "code",
   "execution_count": null,
   "id": "9758df8f-b9a7-4eea-8a57-1cb36823d734",
   "metadata": {},
   "outputs": [],
   "source": [
    "def find_min_round(array):\n",
    "    array = np.array(array.loc[[0,1,2,5,8,11,15,16,17]])#remove the arms from the equation cause the bounding boxes are too large \n",
    "    x = round(np.min(array[np.nonzero(array)]))\n",
    "    return(x)\n",
    "\n",
    "def find_max_round(array):\n",
    "    array = np.array(array.loc[[0,1,2,5,8,11,15,16,17]])\n",
    "    x = round(np.max(array))\n",
    "    return(x)"
   ]
  },
  {
   "cell_type": "code",
   "execution_count": null,
   "id": "140c069f-f47f-49e8-8c77-69b7b2dfc1fc",
   "metadata": {},
   "outputs": [],
   "source": [
    "path_skel = Path('/Users/andrei-macpro/Documents/Data/1047_meal/skel2_tr1')\n",
    "coords = [x for x in sorted_alphanumeric(os.listdir(path_skel)) if x[0]!=\".\"]"
   ]
  },
  {
   "cell_type": "code",
   "execution_count": null,
   "id": "bb4381c5-cfbc-46ae-942d-334b6b9fbf5c",
   "metadata": {},
   "outputs": [],
   "source": [
    "path_video = Path('/Users/andrei-macpro/Documents/Data/Meal/1047_meal.mp4')\n"
   ]
  },
  {
   "cell_type": "code",
   "execution_count": null,
   "id": "f280e76d-dc72-4915-ac0e-aba851c15605",
   "metadata": {},
   "outputs": [],
   "source": [
    "skeletons1 = []\n",
    "for pose, video in zip(sorted_alphanumeric(os.listdir(path_openpose)), sorted_alphanumeric(os.listdir(path_videos))):\n",
    "    temp_list = []\n",
    "    if pose[0] != \".\":\n",
    "        for skeleton in random.sample(sorted_alphanumeric(os.listdir(path_openpose+ pose+'/skel1')), k=100):\n",
    "            temp_list.append(skeleton)\n",
    "    skeletons1.append(temp_list)"
   ]
  },
  {
   "cell_type": "code",
   "execution_count": null,
   "id": "6d9990e5-aa9d-41df-b287-5dc2b13efdc6",
   "metadata": {},
   "outputs": [],
   "source": [
    "cap = cv2.VideoCapture(path_video)\n",
    "for pose in sorted_alphanumeric(os.listdir(path_openpose)):\n",
    "    if pose[0] != \".\":\n",
    "            skel = pd.read_csv(path_openpose + pose)\n",
    "            cap.set(1,int(pose.split('.')[0]))\n",
    "            ret, image = cap.read()\n",
    "            cv2.imshow(\"skel1 + \" + str(pose.split('.')[0]), image[find_min_round(skel['y']):find_max_round(skel['y']),\n",
    "                   find_min_round(skel['x']):find_max_round(skel['x'])])\n",
    "           # cv2.imwrite(\"skel3\" + str(pose.split('.')[0]) + '.png', image[find_min_round(skel['y']):find_max_round(skel['y']),\n",
    "            #       find_min_round(skel['x']):find_max_round(skel['x' ])])\n",
    "            cv2.waitKey(0)\n",
    "            cv2.destroyAllWindows()\n",
    "            cv2.waitKey(1)\n",
    "    else:\n",
    "        continue"
   ]
  },
  {
   "cell_type": "code",
   "execution_count": null,
   "id": "7785ae2e-70f8-42ae-a040-355ef18d4315",
   "metadata": {},
   "outputs": [],
   "source": [
    "print('a')"
   ]
  },
  {
   "cell_type": "code",
   "execution_count": null,
   "id": "8e1bdbbc-8ae7-4894-9a0f-ff29b4d935db",
   "metadata": {},
   "outputs": [],
   "source": [
    "%matplotlib auto"
   ]
  },
  {
   "cell_type": "code",
   "execution_count": null,
   "id": "c5201e67-70d3-4004-8541-c85d79a3e8ce",
   "metadata": {},
   "outputs": [],
   "source": [
    "print('a')"
   ]
  },
  {
   "cell_type": "code",
   "execution_count": null,
   "id": "b0f8d239-dad6-45f7-83d6-0c26a6c1affd",
   "metadata": {},
   "outputs": [],
   "source": [
    "path_videos = '/Users/andreibirladeanu/Documents/Data/meal_videos/1053_meal.mp4'\n",
    "\n",
    "\n",
    "skeletons3 = []\n",
    "for pose, video in zip(sorted_alphanumeric(os.listdir(path_openpose)), sorted_alphanumeric(os.listdir(path_videos))):\n",
    "    temp_list = []\n",
    "    if pose[0] != \".\":\n",
    "        for skeleton in random.sample(sorted_alphanumeric(os.listdir(path_openpose+ pose+'/skel2')), k=30):\n",
    "            temp_list.append(skeleton)\n",
    "    skeletons2.append(temp_list)"
   ]
  },
  {
   "cell_type": "code",
   "execution_count": null,
   "id": "2364e0ca-cbf9-4067-9040-216c0e9b7eef",
   "metadata": {},
   "outputs": [],
   "source": [
    "path_openpose = '/Users/andreibirladeanu/Documents/Data/1047_meal_openpose/'\n",
    "path_video = '/Users/andreibirladeanu/Documents/Data/meal_videos/1047_meal.mp4'\n",
    "skeleton = []\n",
    "\n",
    "for pose in sorted_alphanumeric(os.listdir(path_openpose)):\n",
    "    if pose[0] != \".\":\n",
    "        for skelet in random.sample(sorted_alphanumeric(os.listdir(path_openpose+'skel1')), k=100):\n",
    "                                      skeleton.append(skelet)"
   ]
  },
  {
   "cell_type": "code",
   "execution_count": null,
   "id": "b6bb8362-befb-4e11-9a5c-ab674200ef8d",
   "metadata": {},
   "outputs": [],
   "source": [
    "cap = cv2.VideoCapture(path_video)\n",
    "new_folder = '/Users/andreibirladeanu/Documents/Data/quality_check_1047/skel1/'\n",
    "os.makedirs(new_folder, exist_ok = True)\n",
    "os.chdir(new_folder)\n",
    "for pose in skeleton:\n",
    "    skel = pd.read_csv(path_openpose + 'skel1/' + pose)\n",
    "    cap.set(1,int(pose.split('.')[0]))\n",
    "    ret, image = cap.read()\n",
    "    cv2.imwrite(\"frame\" + str(pose.split('.')[0]) + '.png', image[find_min_round(skel['y']):find_max_round(skel['y']),\n",
    "                   find_min_round(skel['x']):find_max_round(skel['x' ])])"
   ]
  },
  {
   "cell_type": "code",
   "execution_count": null,
   "id": "2e0efaf5-d2f3-4f20-bffb-7fba0e8417c7",
   "metadata": {},
   "outputs": [],
   "source": [
    "skeleton3"
   ]
  },
  {
   "cell_type": "code",
   "execution_count": null,
   "id": "4dd0bf77-d139-459e-aab3-b3562884fd1d",
   "metadata": {},
   "outputs": [],
   "source": [
    "skeletons3"
   ]
  },
  {
   "cell_type": "code",
   "execution_count": null,
   "id": "910ea34b-be7a-485e-8449-1e36fdc2a89c",
   "metadata": {},
   "outputs": [],
   "source": [
    "### check skeletons 1 for all \n",
    "\n",
    "videos = [video for video in sorted_alphanumeric(os.listdir(path_videos)) if video[0] !=\".\"]\n",
    "for frames, video in zip(skeletons2, videos):\n",
    "    cap = cv2.VideoCapture(path_videos+video)\n",
    "    count = 0 \n",
    "    new_folder = '/Users/andreibirladeanu/Documents/Data/quality_check/skel2/'+video.split('.')[0]\n",
    "    os.makedirs(new_folder, exist_ok = True)\n",
    "    os.chdir(new_folder)\n",
    "    for frame in frames:\n",
    "        skel = pd.read_csv(path_openpose + video.split('.')[0] + \"/\" + 'skel2/' + frame)\n",
    "        cap.set(1,int(frame.split('.')[0]))\n",
    "        ret, image = cap.read()\n",
    "        cv2.imwrite(\"frame\" + str(frame.split('.')[0]) + '.png', image[find_min_round(skel['y']):find_max_round(skel['y']),\n",
    "                   find_min_round(skel['x']):find_max_round(skel['x' ])])\n",
    "       # cv2.imshow('window_name', frame)\n",
    "       # cv2.waitKey(0)\n",
    "         "
   ]
  },
  {
   "cell_type": "code",
   "execution_count": null,
   "id": "956d6b9d-072d-49e0-902c-72bc000d5054",
   "metadata": {},
   "outputs": [],
   "source": [
    "videos"
   ]
  },
  {
   "cell_type": "code",
   "execution_count": null,
   "id": "a411995a-8bf1-42fe-a0c4-88d5c04475d9",
   "metadata": {},
   "outputs": [],
   "source": [
    "### do a quality check of detection itself not of tracking\n",
    "path_openpose = '/Users/andreibirladeanu/Documents/Data/meal_openpose/1053_meal/'\n",
    "path_video = '/Users/andreibirladeanu/Documents/Data/meal_videos/1053_meal.mp4'"
   ]
  },
  {
   "cell_type": "code",
   "execution_count": null,
   "id": "ce1b32bb-0ef5-447e-b913-6b872490071e",
   "metadata": {},
   "outputs": [],
   "source": [
    "color = (64, 224, 208)\n",
    "color_2 = (222, 49, 99)\n",
    "color_3 = (100, 149, 237)\n",
    "thickness = 2\n"
   ]
  },
  {
   "cell_type": "code",
   "execution_count": null,
   "id": "d3720ef7-4450-44e8-888d-2ce98edd66f8",
   "metadata": {},
   "outputs": [],
   "source": [
    "#### visualizing!!\n",
    "\n",
    "cap = cv2.VideoCapture(path_video)\n",
    "for pose in sorted_alphanumeric(os.listdir(path_openpose)):\n",
    "    if pose[0] != \".\" and int(str(pose.split('.')[0]).split('_')[1])==3781:\n",
    "        data = pd.read_csv(path_openpose+pose) \n",
    "        data = data.replace(np.nan,0)\n",
    "        cap.set(1,int(str(pose.split('.')[0]).split('_')[1]))\n",
    "        ret, image = cap.read()\n",
    "        if (len(data.columns)-1)/3 == 3:\n",
    "            rekt = cv2.rectangle(image, (find_min_round(data['x_1']), find_min_round(data['y_1'])),  \n",
    "                                 (find_max_round(data['x_1']), find_max_round(data['y_1'])), color, thickness)\n",
    "            cv2.putText(image, 'ID1', (find_min_round(data['x_1']), find_min_round(data['y_1'])-5),  \n",
    "                                  cv2.FONT_HERSHEY_SIMPLEX, 0.5, (36,255,12), 2)\n",
    "            rekt2 = cv2.rectangle(image, (find_min_round(data['x_2']), find_min_round(data['y_2'])),  \n",
    "                                 (find_max_round(data['x_2']), find_max_round(data['y_2'])), color_2, thickness)\n",
    "            cv2.putText(image, 'ID2', (find_min_round(data['x_2']), find_min_round(data['y_2'])-5),  \n",
    "                                  cv2.FONT_HERSHEY_SIMPLEX, 0.5, (36,255,12), 2)\n",
    "            rekt3 = cv2.rectangle(image, (find_min_round(data['x_3']), find_min_round(data['y_3'])),  \n",
    "                                 (find_max_round(data['x_3']), find_max_round(data['y_3'])), color_3, thickness)\n",
    "            cv2.putText(image, 'ID3', (find_min_round(data['x_3']), find_min_round(data['y_3'])-5),  \n",
    "                                  cv2.FONT_HERSHEY_SIMPLEX, 0.5, (36,255,12), 2)\n",
    "            cv2.imshow('frame'+str(pose.split('.')[0].split('_')[1]), rekt)\n",
    "            cv2.waitKey(0)\n",
    "            cv2.destroyAllWindows()\n",
    "        \n",
    "        elif (len(data.columns)-1)/3 == 2:\n",
    "            rekt = cv2.rectangle(image, (find_min_round(data['x_1']), find_min_round(data['y_1'])),  \n",
    "                                 (find_max_round(data['x_1']), find_max_round(data['y_1'])), color, thickness)\n",
    "            cv2.putText(image, 'ID1', (find_min_round(data['x_1']), find_min_round(data['y_1'])-5),  \n",
    "                                  cv2.FONT_HERSHEY_SIMPLEX, 0.5, (36,255,12), 2)\n",
    "            rekt2 = cv2.rectangle(image, (find_min_round(data['x_2']), find_min_round(data['y_2'])),  \n",
    "                                 (find_max_round(data['x_2']), find_max_round(data['y_2'])), color_2, thickness)\n",
    "            cv2.putText(image, 'ID2', (find_min_round(data['x_2']), find_min_round(data['y_2'])-5),  \n",
    "                                  cv2.FONT_HERSHEY_SIMPLEX, 0.5, (36,255,12), 2)\n",
    "            cv2.imshow('frame'+str(pose.split('.')[0].split('_')[1]), rekt)\n",
    "            cv2.waitKey(0)\n",
    "            cv2.destroyAllWindows()\n",
    "        elif (len(data.columns)-1)/3 == 1:\n",
    "            rekt = cv2.rectangle(image, (find_min_round(data['x_1']), find_min_round(data['y_1'])),  \n",
    "                                (find_max_round(data['x_1']), find_max_round(data['y_1'])), color, thickness)\n",
    "            cv2.putText(image, 'ID1', (find_min_round(data['x_1']), find_min_round(data['y_1'])-5),  \n",
    "                                  cv2.FONT_HERSHEY_SIMPLEX, 0.5, (36,255,12), 2)\n",
    "            cv2.imshow('frame'+str(pose.split('.')[0].split('_')[1]), rekt)\n",
    "            cv2.waitKey(0)\n",
    "            cv2.destroyAllWindows()\n",
    "        else:\n",
    "            continue\n",
    "\n",
    "cv2.destroyAllWindows()\n",
    "\n",
    "        "
   ]
  },
  {
   "cell_type": "code",
   "execution_count": null,
   "id": "ddc651e6-a4b6-4c6f-8345-4a6b0ae10d6e",
   "metadata": {},
   "outputs": [],
   "source": [
    "check confidence of the chair detection\n",
    "idea: if there are 3 people, remove the lowest confidence one \n",
    "use torso size for when they are very close together \n",
    "\n",
    "\n",
    "observation: sometimes when its only 2 humans it might only be the chair + just the caregiver detected \n",
    "\n",
    "indeed the chair skeleton has the lowest probability "
   ]
  },
  {
   "cell_type": "code",
   "execution_count": null,
   "id": "5b7bcf20-25b7-4c97-aaf1-9ad46f18319f",
   "metadata": {},
   "outputs": [],
   "source": [
    "#look at probabilities for frame 991\n",
    "path = path_openpose = '/Users/andreibirladeanu/Documents/Data/meal_openpose/1053_meal/frame_1111.csv'\n",
    "frame = pd.read_csv(path) \n",
    "frame"
   ]
  },
  {
   "cell_type": "code",
   "execution_count": null,
   "id": "978ab7c4-a49c-4e58-9d75-82b67ed5e32f",
   "metadata": {},
   "outputs": [],
   "source": [
    "frame.mean()\n"
   ]
  },
  {
   "cell_type": "code",
   "execution_count": null,
   "id": "96f73e30-609f-49e9-b29f-a02453538bb3",
   "metadata": {},
   "outputs": [],
   "source": [
    "ok so first idea: remove third skeleton if it has the lowest probability (unless its probability (upper body) is like >70)\n"
   ]
  },
  {
   "cell_type": "code",
   "execution_count": null,
   "id": "b3b84c72-6f00-44c4-aa3c-d374b0bc23fb",
   "metadata": {},
   "outputs": [],
   "source": [
    "###vizualization after tracking\n",
    "path_video = '/Users/andreibirladeanu/Documents/Data/meal_videos/1043_meal.mp4'\n",
    "\n",
    "path_openpose = '/Users/andreibirladeanu/Documents/Data/1043_meal_openpose/'\n",
    "cap = cv2.VideoCapture(path_video)\n",
    "\n",
    "\n",
    "skel1 =[int(x.split('.')[0]) for x in sorted_alphanumeric(os.listdir(path_openpose+'skel1/')) if x[0]!='.']\n",
    "skel2 = [int(x.split('.')[0]) for x in sorted_alphanumeric(os.listdir(path_openpose+'skel2/')) if x[0]!='.']\n",
    "skel3 = [int(x.split('.')[0]) for x in sorted_alphanumeric(os.listdir(path_openpose+'skel3/')) if x[0]!='.']\n"
   ]
  },
  {
   "cell_type": "code",
   "execution_count": null,
   "id": "83bf4ffd-4397-4c9c-a76a-775653a51e2d",
   "metadata": {},
   "outputs": [],
   "source": [
    "## 1. count the frames\n",
    "from frame_count import frame_count\n",
    "video_length = frame_count(path_video, manual=True)\n",
    "\n"
   ]
  },
  {
   "cell_type": "code",
   "execution_count": null,
   "id": "52f00313-455f-4313-92d6-2d91fb0faf98",
   "metadata": {},
   "outputs": [],
   "source": [
    "def viz_skel(image,path_skel, color, i_d):\n",
    "    data = pd.read_csv(path_skel) \n",
    "    rekt = cv2.rectangle(image, (find_min_round(data['x']), find_min_round(data['y'])),  \n",
    "                            (find_max_round(data['x']), find_max_round(data['y'])), color, thickness)\n",
    "    cv2.putText(image, \"id\"+str(i_d), (find_min_round(data['x']), find_min_round(data['y'])-5),  \n",
    "                                cv2.FONT_HERSHEY_SIMPLEX, 0.5, (36,255,12), 2)\n",
    "    return(image)"
   ]
  },
  {
   "cell_type": "code",
   "execution_count": null,
   "id": "31fb96c9-98b7-43de-84ce-778e05502e64",
   "metadata": {},
   "outputs": [],
   "source": [
    "color = (64, 224, 208)\n",
    "color_2 = (222, 49, 99)\n",
    "color_3 = (100, 149, 237)\n",
    "colors = [color, color_2, color_3]\n",
    "thickness = 2\n",
    "ids = [1,2,3]\n",
    "cap = cv2.VideoCapture(path_video)\n",
    "for frame in (range(1,video_length)):\n",
    "    search = np.any([[frame in skel1], [frame in skel2], [frame in skel3]], axis=1)\n",
    "    select = np.where(search ==True)[0]\n",
    "    if frame>12080:\n",
    "        if len(select) == 3:\n",
    "            cap.set(1,frame)\n",
    "            ret, image = cap.read()\n",
    "            new = viz_skel(image, path_openpose+'skel1/'+str(frame) + '.csv', color, 'id1')\n",
    "            new = viz_skel(image, path_openpose+'skel2/'+str(frame) + '.csv', color_2, 'id2')\n",
    "            new = viz_skel(image, path_openpose+'skel3/'+str(frame) + '.csv', color_3, 'id3')\n",
    "            cv2.imshow('frame'+str(frame), new)\n",
    "            cv2.waitKey(0)\n",
    "            cv2.destroyAllWindows()\n",
    "        elif len(select) ==2:\n",
    "            cap.set(1,frame)\n",
    "            ret, image = cap.read()\n",
    "            new = viz_skel(image, path_openpose+'skel'+ str(select[0]+1) +\"/\"+ str(frame) + '.csv', colors[select[0]], select[0]+1)\n",
    "            new = viz_skel(image, path_openpose+'skel'+ str(select[1]+1) + \"/\"+ str(frame) + '.csv', colors[select[1]], select[1]+1)\n",
    "            cv2.imshow('frame'+str(frame), new)\n",
    "            cv2.waitKey(0)\n",
    "            cv2.destroyAllWindows()\n",
    "        elif len(select) ==1:\n",
    "            cap.set(1,frame)\n",
    "            ret, image = cap.read()\n",
    "            new = viz_skel(image, path_openpose+'skel'+ str(select[0]+1) +\"/\"+ str(frame) + '.csv', colors[select[0]], select[0]+1)\n",
    "            cv2.imshow('frame'+str(frame), new)\n",
    "            cv2.waitKey(0)\n",
    "            cv2.destroyAllWindows()\n",
    "        else:\n",
    "            continue"
   ]
  },
  {
   "cell_type": "code",
   "execution_count": null,
   "id": "0f41672d-6c66-453c-94eb-693a644b4d9b",
   "metadata": {},
   "outputs": [],
   "source": [
    "fourcc = cv2.VideoWriter_fourcc(*'mp4v')# note the lower case\n",
    "width = cap.get(cv2.CAP_PROP_FRAME_WIDTH) \n",
    "height = cap.get(cv2.CAP_PROP_FRAME_HEIGHT) \n",
    "out = cv2.VideoWriter('1043_meal_track.mp4', fourcc, 25.0, (int(width),int(height)))"
   ]
  },
  {
   "cell_type": "code",
   "execution_count": null,
   "id": "ab835dfa-b375-422a-94bb-ccbe3398e394",
   "metadata": {},
   "outputs": [],
   "source": [
    "### saving the tracking video \n",
    "\n",
    "color = (64, 224, 208)\n",
    "color_2 = (222, 49, 99)\n",
    "color_3 = (100, 149, 237)\n",
    "colors = [color, color_2, color_3]\n",
    "thickness = 2\n",
    "ids = [1,2,3]\n",
    "cap = cv2.VideoCapture(path_video)\n",
    "for frame in (range(1,video_length)):\n",
    "    search = np.any([[frame in skel1], [frame in skel2], [frame in skel3]], axis=1)\n",
    "    select = np.where(search ==True)[0]\n",
    "    \n",
    "    if len(select) == 3:\n",
    "        cap.set(1,frame)\n",
    "        ret, image = cap.read()\n",
    "        new = viz_skel(image, path_openpose+'skel1/'+str(frame) + '.csv', color, 'id1')\n",
    "        new = viz_skel(image, path_openpose+'skel2/'+str(frame) + '.csv', color_2, 'id2')\n",
    "        new = viz_skel(image, path_openpose+'skel3/'+str(frame) + '.csv', color_3, 'id3')\n",
    "        cv2.putText(new, f\"frame: {frame}\" , (10, 15),\n",
    "                cv2.FONT_HERSHEY_SIMPLEX, 0.5, (0, 255, 0), 2)\n",
    "        out.write(new)\n",
    "    elif len(select) ==2:\n",
    "        cap.set(1,frame)\n",
    "        ret, image = cap.read()\n",
    "        new = viz_skel(image, path_openpose+'skel'+ str(select[0]+1) +\"/\"+ str(frame) + '.csv', colors[select[0]], select[0]+1)\n",
    "        new = viz_skel(image, path_openpose+'skel'+ str(select[1]+1) + \"/\"+ str(frame) + '.csv', colors[select[1]], select[1]+1)\n",
    "        cv2.putText(new, f\"frame: {frame}\" , (10, 15),cv2.FONT_HERSHEY_SIMPLEX, 0.5, (0, 255, 0), 2)\n",
    "        out.write(new)\n",
    "    elif len(select) ==1:\n",
    "        cap.set(1,frame)\n",
    "        ret, image = cap.read()\n",
    "        new = viz_skel(image, path_openpose+'skel'+ str(select[0]+1) +\"/\"+ str(frame) + '.csv', colors[select[0]], select[0]+1)\n",
    "        cv2.putText(new, f\"frame: {frame}\" , (10, 15),\n",
    "                cv2.FONT_HERSHEY_SIMPLEX, 0.5, (0, 255, 0), 2)\n",
    "        out.write(new)\n",
    "    else:\n",
    "        continue\n",
    "cap.release()\n",
    "out.release()\n",
    "cv2.destroyAllWindows()"
   ]
  },
  {
   "cell_type": "code",
   "execution_count": null,
   "id": "b18e362b-f3a3-4b4c-b926-e1512fef8ca3",
   "metadata": {},
   "outputs": [],
   "source": [
    "select = np.where(out==True)[0]"
   ]
  },
  {
   "cell_type": "code",
   "execution_count": null,
   "id": "6040c431-48f4-4cf5-a36b-217021c97c4f",
   "metadata": {},
   "outputs": [],
   "source": [
    "!ls"
   ]
  },
  {
   "cell_type": "code",
   "execution_count": null,
   "id": "27723372-0a69-4ab6-bc16-6b829ed9ef52",
   "metadata": {},
   "outputs": [],
   "source": [
    "print('a')"
   ]
  },
  {
   "cell_type": "code",
   "execution_count": null,
   "id": "0b2249dd-ad27-4efc-8ce8-61eb799a2ddc",
   "metadata": {},
   "outputs": [],
   "source": [
    "##### only skel1\n",
    "color = (64, 224, 208)\n",
    "thickness = 2\n",
    "cap = cv2.VideoCapture(path_video)\n",
    "for frame in (range(1,video_length)):\n",
    "    if frame in skel1:\n",
    "        cap.set(1,frame)\n",
    "        ret, image = cap.read()\n",
    "        data1 = pd.read_csv(path_openpose+'skel1/'+str(frame) + '.csv') \n",
    "        rekt = cv2.rectangle(image, (find_min_round(data1['x']), find_min_round(data1['y'])),  \n",
    "                            (find_max_round(data1['x']), find_max_round(data1['y'])), color, thickness)\n",
    "        cv2.putText(image, 'ID1', (find_min_round(data1['x']), find_min_round(data1['y'])-5),  \n",
    "                                  cv2.FONT_HERSHEY_SIMPLEX, 0.5, (36,255,12), 2)\n",
    "        cv2.putText(image, f\"frame: {frame}\" , (10, 15),\n",
    "                cv2.FONT_HERSHEY_SIMPLEX, 0.5, (0, 255, 0), 2)\n",
    "        cv2.imshow('frame'+str(frame), rekt)\n",
    "        cv2.waitKey(0)\n",
    "        cv2.destroyAllWindows()\n",
    "    else:\n",
    "        print(frame)"
   ]
  },
  {
   "cell_type": "code",
   "execution_count": null,
   "id": "fc5bc823-e409-4187-a4ff-f63780849a87",
   "metadata": {},
   "outputs": [],
   "source": [
    "### Idea: choose 1-2 essential points and if the skeleton doesn't have them then ignore and go forward\n",
    "### then do an avg distance of those points "
   ]
  },
  {
   "cell_type": "code",
   "execution_count": null,
   "id": "2141356b-c5bd-4d12-b3cc-753024273f96",
   "metadata": {},
   "outputs": [],
   "source": [
    "print('a')"
   ]
  }
 ],
 "metadata": {
  "kernelspec": {
   "display_name": "Python 3 (ipykernel)",
   "language": "python",
   "name": "python3"
  },
  "language_info": {
   "codemirror_mode": {
    "name": "ipython",
    "version": 3
   },
   "file_extension": ".py",
   "mimetype": "text/x-python",
   "name": "python",
   "nbconvert_exporter": "python",
   "pygments_lexer": "ipython3",
   "version": "3.7.6"
  },
  "toc-autonumbering": false,
  "toc-showmarkdowntxt": true,
  "toc-showtags": false
 },
 "nbformat": 4,
 "nbformat_minor": 5
}
