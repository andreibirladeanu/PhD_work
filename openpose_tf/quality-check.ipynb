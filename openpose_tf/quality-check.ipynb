{
 "cells": [
  {
   "cell_type": "code",
   "execution_count": null,
   "id": "9a7eaf59-0c11-4dc4-a3d2-0341d384b74d",
   "metadata": {},
   "outputs": [],
   "source": [
    "import os\n",
    "from tqdm import tqdm\n",
    "import pandas as pd\n",
    "import sys\n",
    "import time\n",
    "import logging\n",
    "import numpy as np\n",
    "import matplotlib.pyplot as plt\n",
    "import cv2\n",
    "import re\n",
    "from sklearn.neighbors import NearestNeighbors\n",
    "from pathlib import Path \n",
    "import random"
   ]
  },
  {
   "cell_type": "code",
   "execution_count": null,
   "id": "aaf9d4cb-d6e6-45a5-8aa9-f3eeb205c6bc",
   "metadata": {},
   "outputs": [],
   "source": [
    "def find_min_round(array):\n",
    "    array = np.array(array)\n",
    "    x = round(np.min(array[np.nonzero(array)]))\n",
    "    return(x)\n",
    "\n",
    "def find_max_round(array):\n",
    "    array = np.array(array)\n",
    "    x = round(np.max(array))\n",
    "    return(x)"
   ]
  },
  {
   "cell_type": "code",
   "execution_count": null,
   "id": "d52c4421-abd3-41bd-97b6-56e260262981",
   "metadata": {},
   "outputs": [],
   "source": [
    "def sorted_alphanumeric(data):\n",
    "    convert = lambda text: int(text) if text.isdigit() else text.lower()\n",
    "    alphanum_key = lambda key: [ convert(c) for c in re.split('([0-9]+)', key) ] \n",
    "    return sorted(data, key=alphanum_key)"
   ]
  },
  {
   "cell_type": "code",
   "execution_count": null,
   "id": "140c069f-f47f-49e8-8c77-69b7b2dfc1fc",
   "metadata": {},
   "outputs": [],
   "source": [
    "path_openpose = '/Users/andreibirladeanu/Documents/Data/new_meal_openpose/1117_meal/skel1/'"
   ]
  },
  {
   "cell_type": "code",
   "execution_count": null,
   "id": "bd9ce7f4-9f78-4a93-bb68-43ff9fbc8cad",
   "metadata": {},
   "outputs": [],
   "source": [
    "for pose in sorted_alphanumeric(os.listdir(path_openpose)):\n",
    "    if pose[0] != \".\" and int(pose.split('.')[0]) > 9242:\n",
    "        print(pose)"
   ]
  },
  {
   "cell_type": "code",
   "execution_count": null,
   "id": "bb4381c5-cfbc-46ae-942d-334b6b9fbf5c",
   "metadata": {},
   "outputs": [],
   "source": [
    "path_video = '/Users/andreibirladeanu/Documents/Data/meal_videos/1117_meal.mp4'"
   ]
  },
  {
   "cell_type": "code",
   "execution_count": null,
   "id": "f280e76d-dc72-4915-ac0e-aba851c15605",
   "metadata": {},
   "outputs": [],
   "source": [
    "skeletons1 = []\n",
    "for pose, video in zip(sorted_alphanumeric(os.listdir(path_openpose)), sorted_alphanumeric(os.listdir(path_videos))):\n",
    "    temp_list = []\n",
    "    if pose[0] != \".\":\n",
    "        for skeleton in random.sample(sorted_alphanumeric(os.listdir(path_openpose+ pose+'/skel1')), k=30):\n",
    "            temp_list.append(skeleton)\n",
    "    skeletons1.append(temp_list)"
   ]
  },
  {
   "cell_type": "code",
   "execution_count": null,
   "id": "6d9990e5-aa9d-41df-b287-5dc2b13efdc6",
   "metadata": {},
   "outputs": [],
   "source": [
    "cap = cv2.VideoCapture(path_video)\n",
    "for pose in sorted_alphanumeric(os.listdir(path_openpose)):\n",
    "    if pose[0] != \".\":\n",
    "            skel = pd.read_csv(path_openpose + pose)\n",
    "            cap.set(1,int(pose.split('.')[0]))\n",
    "            ret, image = cap.read()\n",
    "            cv2.imshow(\"skel1 + \" + str(pose.split('.')[0]), image[find_min_round(skel['y']):find_max_round(skel['y']),\n",
    "                   find_min_round(skel['x']):find_max_round(skel['x'])])\n",
    "           # cv2.imwrite(\"skel3\" + str(pose.split('.')[0]) + '.png', image[find_min_round(skel['y']):find_max_round(skel['y']),\n",
    "            #       find_min_round(skel['x']):find_max_round(skel['x' ])])\n",
    "            cv2.waitKey(0)\n",
    "            cv2.destroyAllWindows()\n",
    "            cv2.waitKey(1)\n",
    "    else:\n",
    "        continue"
   ]
  },
  {
   "cell_type": "code",
   "execution_count": null,
   "id": "9ad4f154-20cb-4bb6-ad90-b61c589c6dc2",
   "metadata": {},
   "outputs": [],
   "source": [
    "cap = cv2.VideoCapture(path_video)\n",
    "for pose in sorted_alphanumeric(os.listdir(path_openpose)):\n",
    "     if pose[0] != \".\" and pose=='9255.csv':\n",
    "            skel = pd.read_csv(path_openpose + pose)\n",
    "            cap.set(1,int(pose.split('.')[0]))\n",
    "            ret, image = cap.read()\n",
    "            cv2.imshow(\"skel2\"  + str(pose.split('.')[0]), image[find_min_round(skel['y']):find_max_round(skel['y']),\n",
    "                   find_min_round(skel['x']):find_max_round(skel['x' ])])\n",
    "            cv2.imwrite(\"frame\" + str(frame.split('.')[0]) + '.png', image[find_min_round(skel['y']):find_max_round(skel['y']),\n",
    "                   find_min_round(skel['x']):find_max_round(skel['x' ])])\n",
    "            cv2.waitKey(0)"
   ]
  },
  {
   "cell_type": "code",
   "execution_count": null,
   "id": "8f9a17fc-ce01-4766-b527-86299af19da9",
   "metadata": {},
   "outputs": [],
   "source": [
    "cv2.waitKey(0); cv2.destroyAllWindows() ; cv2.waitKey(1)"
   ]
  },
  {
   "cell_type": "code",
   "execution_count": null,
   "id": "7785ae2e-70f8-42ae-a040-355ef18d4315",
   "metadata": {},
   "outputs": [],
   "source": [
    "print('a')"
   ]
  },
  {
   "cell_type": "code",
   "execution_count": null,
   "id": "8e1bdbbc-8ae7-4894-9a0f-ff29b4d935db",
   "metadata": {},
   "outputs": [],
   "source": [
    "%matplotlib auto"
   ]
  },
  {
   "cell_type": "code",
   "execution_count": null,
   "id": "8caed443-402d-493a-8ae6-fbc53691c366",
   "metadata": {},
   "outputs": [],
   "source": [
    "path_openpose = '/Users/andreibirladeanu/Documents/Data/new_meal_openpose/'"
   ]
  },
  {
   "cell_type": "code",
   "execution_count": null,
   "id": "b0f8d239-dad6-45f7-83d6-0c26a6c1affd",
   "metadata": {},
   "outputs": [],
   "source": [
    "path_videos = '/Users/andreibirladeanu/Documents/Data/meal_videos/'\n",
    "\n",
    "\n",
    "skeletons2 = []\n",
    "for pose, video in zip(sorted_alphanumeric(os.listdir(path_openpose)), sorted_alphanumeric(os.listdir(path_videos))):\n",
    "    temp_list = []\n",
    "    if pose[0] != \".\":\n",
    "        for skeleton in random.sample(sorted_alphanumeric(os.listdir(path_openpose+ pose+'/skel2')), k=30):\n",
    "            temp_list.append(skeleton)\n",
    "    skeletons2.append(temp_list)"
   ]
  },
  {
   "cell_type": "code",
   "execution_count": null,
   "id": "4dd0bf77-d139-459e-aab3-b3562884fd1d",
   "metadata": {},
   "outputs": [],
   "source": [
    "skeletons3"
   ]
  },
  {
   "cell_type": "code",
   "execution_count": null,
   "id": "910ea34b-be7a-485e-8449-1e36fdc2a89c",
   "metadata": {},
   "outputs": [],
   "source": [
    "### check skeletons 1\n",
    "\n",
    "videos = [video for video in sorted_alphanumeric(os.listdir(path_videos)) if video[0] !=\".\"]\n",
    "for frames, video in zip(skeletons2, videos):\n",
    "    cap = cv2.VideoCapture(path_videos+video)\n",
    "    count = 0 \n",
    "    new_folder = '/Users/andreibirladeanu/Documents/Data/quality_check/skel2/'+video.split('.')[0]\n",
    "    os.makedirs(new_folder, exist_ok = True)\n",
    "    os.chdir(new_folder)\n",
    "    for frame in frames:\n",
    "        skel = pd.read_csv(path_openpose + video.split('.')[0] + \"/\" + 'skel2/' + frame)\n",
    "        cap.set(1,int(frame.split('.')[0]))\n",
    "        ret, image = cap.read()\n",
    "        cv2.imwrite(\"frame\" + str(frame.split('.')[0]) + '.png', image[find_min_round(skel['y']):find_max_round(skel['y']),\n",
    "                   find_min_round(skel['x']):find_max_round(skel['x' ])])\n",
    "       # cv2.imshow('window_name', frame)\n",
    "       # cv2.waitKey(0)\n",
    "         "
   ]
  },
  {
   "cell_type": "code",
   "execution_count": null,
   "id": "956d6b9d-072d-49e0-902c-72bc000d5054",
   "metadata": {},
   "outputs": [],
   "source": [
    "videos"
   ]
  },
  {
   "cell_type": "code",
   "execution_count": null,
   "id": "a411995a-8bf1-42fe-a0c4-88d5c04475d9",
   "metadata": {},
   "outputs": [],
   "source": [
    "### do a quality check of detection itself not of tracking\n",
    "path_openpose = '/Users/andreibirladeanu/Documents/Data/meal_openpose/1117_meal/'\n",
    "path_video = '/Users/andreibirladeanu/Documents/Data/meal_videos/1117_meal.mp4'"
   ]
  },
  {
   "cell_type": "code",
   "execution_count": null,
   "id": "ce1b32bb-0ef5-447e-b913-6b872490071e",
   "metadata": {},
   "outputs": [],
   "source": [
    "color = (64, 224, 208)\n",
    "color_2 = (222, 49, 99)\n",
    "color_3 = (100, 149, 237)\n",
    "thickness = 2\n"
   ]
  },
  {
   "cell_type": "code",
   "execution_count": null,
   "id": "d3720ef7-4450-44e8-888d-2ce98edd66f8",
   "metadata": {},
   "outputs": [],
   "source": [
    "cap = cv2.VideoCapture(path_video)\n",
    "for pose in sorted_alphanumeric(os.listdir(path_openpose)):\n",
    "    if pose[0] != \".\":\n",
    "        data = pd.read_csv(path_openpose+pose) \n",
    "        data = data.replace(np.nan,0)\n",
    "        cap.set(1,int(str(pose.split('.')[0]).split('_')[1]))\n",
    "        ret, image = cap.read()\n",
    "        if (len(data.columns)-1)/3 == 3:\n",
    "            rekt = cv2.rectangle(image, (find_min_round(data['x_1']), find_min_round(data['y_1'])),  \n",
    "                                 (find_max_round(data['x_1']), find_max_round(data['y_1'])), color, thickness)\n",
    "            rekt2 = cv2.rectangle(image, (find_min_round(data['x_2']), find_min_round(data['y_2'])),  \n",
    "                                 (find_max_round(data['x_2']), find_max_round(data['y_2'])), color_2, thickness)\n",
    "            rekt23 = cv2.rectangle(image, (find_min_round(data['x_3']), find_min_round(data['y_3'])),  \n",
    "                                 (find_max_round(data['x_3']), find_max_round(data['y_3'])), color_3, thickness)\n",
    "            cv2.imshow('frame'+str(pose.split('.')[0].split('_')[1]), rekt)\n",
    "            cv2.waitKey(0)\n",
    "        \n",
    "        elif (len(data.columns)-1)/3 == 2:\n",
    "            rekt = cv2.rectangle(image, (find_min_round(data['x_1']), find_min_round(data['y_1'])),  \n",
    "                                 (find_max_round(data['x_1']), find_max_round(data['y_1'])), color, thickness)\n",
    "            rekt2 = cv2.rectangle(image, (find_min_round(data['x_2']), find_min_round(data['y_2'])),  \n",
    "                                 (find_max_round(data['x_2']), find_max_round(data['y_2'])), color_2, thickness)\n",
    "            cv2.imshow('frame'+str(pose.split('.')[0].split('_')[1]), rekt)\n",
    "            cv2.waitKey(0)\n",
    "        elif (len(data.columns)-1)/3 == 1:\n",
    "            rekt = cv2.rectangle(image, (find_min_round(data['x_1']), find_min_round(data['y_1'])),  \n",
    "                                (find_max_round(data['x_1']), find_max_round(data['y_1'])), color, thickness)\n",
    "            cv2.imshow('frame'+str(pose.split('.')[0].split('_')[1]), rekt)\n",
    "            cv2.waitKey(0)\n",
    "        else:\n",
    "            continue\n",
    "\n",
    "cv2.destroyAllWindows()\n",
    "        "
   ]
  },
  {
   "cell_type": "code",
   "execution_count": null,
   "id": "ddc651e6-a4b6-4c6f-8345-4a6b0ae10d6e",
   "metadata": {},
   "outputs": [],
   "source": [
    "check confidence of the chair detection\n",
    "idea: if there are 3 people, remove the lowest confidence one \n",
    "use torso size for when they are very close together \n",
    "\n",
    "\n",
    "observation: sometimes when its only 2 humans it might only be the chair + just the caregiver detected "
   ]
  },
  {
   "cell_type": "code",
   "execution_count": null,
   "id": "d4a0bad9-8ee6-4a09-8b54-be3a8281ccf1",
   "metadata": {},
   "outputs": [],
   "source": [
    "cv2.destroyAllWindows()\n",
    "\n"
   ]
  }
 ],
 "metadata": {
  "kernelspec": {
   "display_name": "Python 3 (ipykernel)",
   "language": "python",
   "name": "python3"
  },
  "language_info": {
   "codemirror_mode": {
    "name": "ipython",
    "version": 3
   },
   "file_extension": ".py",
   "mimetype": "text/x-python",
   "name": "python",
   "nbconvert_exporter": "python",
   "pygments_lexer": "ipython3",
   "version": "3.7.6"
  }
 },
 "nbformat": 4,
 "nbformat_minor": 5
}
