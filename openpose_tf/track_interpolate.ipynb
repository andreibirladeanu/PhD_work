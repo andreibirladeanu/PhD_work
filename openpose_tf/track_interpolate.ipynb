{
 "cells": [
  {
   "cell_type": "code",
   "execution_count": null,
   "id": "0321cae3-4531-4b88-af6e-095b2d636edc",
   "metadata": {},
   "outputs": [],
   "source": [
    "import pandas as pd\n",
    "import numpy as np\n",
    "from sklearn.neighbors import NearestNeighbors"
   ]
  },
  {
   "cell_type": "code",
   "execution_count": null,
   "id": "a18ffa97-447a-414d-83a8-a22cc4ad221c",
   "metadata": {},
   "outputs": [],
   "source": [
    "def get_skeletons(frame, track1, track2):\n",
    "    \"\"\"function that reads a detections frame, checks if necks are present, and returns the 2 closest skeletons from previous detections (in case 3 have been detected)\"\"\"\n",
    "    data = pd.read_csv(frame)\n",
    "    data = data.fillna(0)\n",
    "    ## first check if it contains the neck \n",
    "    for i in range(0, len(data.columns[1:]),3):  \n",
    "        if data[data.columns[1:][i]].loc[1] == 0:\n",
    "            data = data.drop([data.columns[1:][i],data.columns[1:][i+1], data.columns[1:][i+2]]) ## drop skeletons with missing neck\n",
    "    if len(data.columns) < 4: ## if not enough skeletons with neck present return 0 \n",
    "        return([0])\n",
    "    elif frame ==0: \n",
    "        if len(data.columns)>4:  ### when first starting tracking initialise with either one or two skeletons \n",
    "            neck_1 = [data['x_1'].loc[1], data['y_1'].loc[1]]\n",
    "            neck_2 = [data['x_2'].loc[1], data['y_2'].loc[1]]\n",
    "            return(neck_1, neck_2)\n",
    "        else: \n",
    "            neck_1 = [data['x_1'].loc[1], data['y_1'].loc[1]]\n",
    "            neck_2 = [0,0]\n",
    "            return([neck_1, neck_2])\n",
    "    else:\n",
    "        if len(data.columns)> 10: ### drop the fourth skeleton if it has been detected\n",
    "            data = data.drop(data.columns[10:]) \n",
    "        ## trying to tell which one is neck 1 and which is neck 2 \n",
    "\n",
    "        if track2.coords = []:         ## if track2 isn't initialized yet:\n",
    "            detections_x = [data[data.columns[1:][col]].loc[1] for col in  range(0, len(data.columns[1:]), 3)]; detections_y = [data[data.columns[2:][col]].loc[1] for col in  range(0, len(data.columns[2:]), 3)]\n",
    "            detections = np.vstack([detections_x, detections_y]).T\n",
    "            probs = [data[data.columns[3:][col]].loc[1] for col in  range(0, len(data.columns[3:]), 3)]\n",
    "            ## fit knn with the current detections and see which is closer to track1.lastitem\n",
    "            knn.fit(detections); closest_index = knn.kneighbors([track1[-1]])[1];\n",
    "            neck_1 = detections[closest_index]\n",
    "            detections= np.delete(detections, closest_index, axis=0)\n",
    "            probs = np.delete(probs, closest_index)\n",
    "            if detections !=[]  ## ensuring that if there was just one skeleton there isn't a point in doing any comparisons as neck_2 will be empty\n",
    "                neck_2 = detections[np.argmax(probs)]\n",
    "            else:\n",
    "                neck_2 = [0,0]\n",
    "            return([neck_1,neck_2])\n",
    "        else:\n",
    "            \n",
    "            detections_x = [data[data.columns[1:][col]].loc[1] for col in  range(0, len(data.columns[1:]), 3)]; detections_y = [data[data.columns[2:][col]].loc[1] for col in  range(0, len(data.columns[2:]), 3)]\n",
    "            detections = np.vstack([detections_x, detections_y]).T\n",
    "            probs = [data[data.columns[3:][col]].loc[1] for col in  range(0, len(data.columns[3:]), 3)]\n",
    "            ## fit knn with the current detections and see which is closer to track1.lastitem\n",
    "            knn.fit(detections); closest_index = knn.kneighbors([track1[-1]])[1];\n",
    "            neck_1 = detections[closest_index]\n",
    "            detections= np.delete(detections, closest_index, axis=0)\n",
    "            probs = np.delete(probs, closest_index)\n",
    "            ## get the closest neck to last detection in track2\n",
    "            knn.fit(detections); closest_index = knn.kneighbors([track2[-1]])[1];\n",
    "            neck_2 = detections[closest_index]\n",
    "            return([neck_1, neck_2])\n",
    "\n",
    "        \n",
    "    \n",
    "        "
   ]
  },
  {
   "cell_type": "code",
   "execution_count": null,
   "id": "5982ca68-a01b-4246-ba24-39f0ba239cb5",
   "metadata": {},
   "outputs": [],
   "source": [
    "def interpolation (window, detected_frames, tracklet):\n",
    "    interp = interp1d(detected frames, tracklet, axis=1, kind='cubic', assume_sorted=False)\n",
    "    return (interp(window))"
   ]
  },
  {
   "cell_type": "code",
   "execution_count": null,
   "id": "214cabed-76a9-4467-875d-c392c8b67121",
   "metadata": {},
   "outputs": [],
   "source": [
    "def relative_position(track1, track2, new_detection1, new_detection2):\n",
    "    x_difference = []\n",
    "    y_difference = []\n",
    "    for detect1, detect2 in zip(tracklet1[-10:-1], tracklet2[-10:-1]):\n",
    "        for index,coord in enumerate(zip(detect1, detect2)):\n",
    "            if index%2 ==0:\n",
    "                x_difference.append(coords[0]-coords[1])\n",
    "            else:\n",
    "                y_difference.append(coords[0]-coords[1])\n",
    "    if np.mean(np.abs(x_difference)) > np.mean(np.abs(y_difference)): ### do they tend to be farther on the x axis? \n",
    "        if np.mean(x_difference) > 0: # is tracklet1 farther on x axis than tracklet2? relative position\n",
    "            if new_detection1[0] - new_detection2[0] > 0: # is detection 1 farther on x axis than detection 2? i.e. does new detection converge with past history \n",
    "                return(1)\n",
    "            else:\n",
    "                return(2)\n",
    "        elif np.mean(x_difference) <0:  # is tracklet2 farther on x axis than tracklet1?\n",
    "            if new_detection1[0] - new_detection2[0] < 0: # is detection 2 farther on x axis than detection 1? i.e. does new detection converge with past history \n",
    "                return(1)\n",
    "            else:\n",
    "                return(2)\n",
    "    else: ### do they tend to be farther on the y axis? \n",
    "        if np.mean(y_difference) > 0: # is tracklet1 farther on y axis than tracklet2? relative position\n",
    "            if new_detection1[1] - new_detection2[1] > 0: # is detection 1 farther on y axis than detection 2? i.e. does new detection converge with past history \n",
    "                return(1)\n",
    "            else:\n",
    "                return(2)\n",
    "        elif np.mean(y_difference) < 0:  # is tracklet2 farther on y axis than tracklet1?\n",
    "            if new_detection1[1] - new_detection2[2] < 0: # is detection 2 farther on y axis than detection 1? i.e. does new detection converge with past history \n",
    "                return(2)\n",
    "            else:\n",
    "                return(1)        "
   ]
  },
  {
   "cell_type": "code",
   "execution_count": null,
   "id": "affd7060-b628-4a3e-bf43-33b76a24b06c",
   "metadata": {},
   "outputs": [],
   "source": [
    "frames = [1,2,5,6,7]\n",
    "frames[2:4] = [9,9,9]"
   ]
  },
  {
   "cell_type": "code",
   "execution_count": null,
   "id": "b3d89bfc-80a1-45fe-98ed-090933efd746",
   "metadata": {},
   "outputs": [],
   "source": [
    "frames"
   ]
  },
  {
   "cell_type": "code",
   "execution_count": null,
   "id": "0c032ed5-4f04-413f-a3a8-593a8c2601af",
   "metadata": {},
   "outputs": [],
   "source": [
    "threshold = 80\n",
    "\n",
    "track1, frames1 = [], []\n",
    "track2, frames2 = [], []\n",
    "\n",
    "\n",
    "frames = []\n",
    "count = 0\n",
    "\n",
    "# if discrepancy between last el in frames1 and last elem in frames is less than 50 then interpolate\n",
    "\n",
    "window = []\n",
    "count = 0\n",
    "for i in range(len(detects)):\n",
    "    if len(window) > 100:\n",
    "        window = []\n",
    "    frames.append(i+1) \n",
    "    if i ==0:  ### for the first frame just get the skeletons don't do anything\n",
    "        necks = get_skeletons(frame, track1, track2)\n",
    "        neck1 = get_skeletons[0] \n",
    "        neck2 = get_skeletons[1]\n",
    "\n",
    "        if neck1[0]>0 and neck2[0] > 0:\n",
    "            track1.coords.append(neck1); frames1.append(i+1)\n",
    "            track2.coords.append(neck2); frames2.append(i+1)\n",
    "        else:\n",
    "            track1.coords.append(neck1); frames1.append(i+1)\n",
    "        continue\n",
    "        \n",
    "    else:\n",
    "        necks = read_frame(frame, track1, track2)\n",
    "        neck1 = read_frame[0] \n",
    "        neck2 = read_frame[1] \n",
    "        \n",
    "        while len(track1) < 100 or len(track2)<100:\n",
    "            ## 1. if only one skeleton has been detected \n",
    "            if neck2[0]==0: #if new detection only has one skel\n",
    "                if track2.coords == []: ## if second tracking hasn't been initialised it\n",
    "                    if distance.euclidean(track1.coords[-1], neck1) < threshold:\n",
    "                        track1.coords.append(neck1); ; track1.frame.append(i+1); window.append(i+1)\n",
    "                else:\n",
    "                    knn.fit([track1[-1]]); distance1 = knn.kneighbors(neck1)[0]  #  \n",
    "                    knn.fit([track1[-2]]); distance2 = knn.kneighbors(neck1)[0]\n",
    "                    if distance1>distance2:\n",
    "                        track1.coords.append(neck1); track1.frame.append(i+1); window.append(i+1)\n",
    "                        frames.append(i)\n",
    "                    else:\n",
    "                        track2.coords.append(neck1); track2.frame.append(i+1); window.append(i+1)\n",
    "            else: ## if two skeletons have been detected\n",
    "                if track2.coords == []: ### if second tracking hasn't been initialised it\n",
    "                    knn.fit([track1[-1]]); distance1 = knn.kneighbors(neck1)[0];  #  \n",
    "                    distance2 = knn.kneighbors(neck2)[0]\n",
    "                    track1.coords.append([neck1,neck2][np.argmin([distance1,distance2])]); track1.frame.append(i+1); window.append(i+1)\n",
    "                    track2.coords.append([neck1,neck2][np.argmax([distance1,distance2])]); track2.frame.append(i+1); \n",
    "                else:\n",
    "                    knn.fit([track1[-1], track2[-1]]); ## if both tracks have been initialized \n",
    "                    if knn.kneighbors(neck1)[0][0] == 0 and knn.kneighbors(neck1)[0][0]==1:\n",
    "                        track1.coords.append(neck1);track1.frame.append(i+1); window.append(i+1)\n",
    "                        track2.coords.append(neck2); track2.frame.append(i+1); \n",
    "                    elif knn.kneighbors(neck1)[0][0] == 1 and knn.kneighbors(neck1)[0][0]==0:\n",
    "                        track1.coords.append(neck2) ;track1.frame.append(i+1); window.append(i+1)\n",
    "                        track2.coords.append(neck1) ; track2.frame.append(i+1); \n",
    "                    else:\n",
    "                        continue                \n",
    "                \n",
    "    if distance.euclidean(neck1, neck2) < threshold: ## if they are very close together\n",
    "        if relative_position(tracklet1, tracklet2, neck1, neck2) == 1:\n",
    "            track1.coords.append(neck1); track1.frame.append(i+1); window.append(i+1)\n",
    "            track2.coords.append(neck2); track2.frame.append(i+1); \n",
    "        else:\n",
    "            track1.coords.append(neck2) ; track1.frame.append(i+1); window.append(i+1)\n",
    "            track2.coords.append(neck1); track2.frame.append(i+1); \n",
    "                           \n",
    "    \n",
    "    else:  ### if they close aren't just do location based tracking\n",
    "            knn.fit([track1[-1], track2[-1]]);\n",
    "        if knn.kneighbors(neck1)[0][0] == 0 and knn.kneighbors(neck1)[0][0]==1:\n",
    "            track1.coords.append(neck1); track1.frame.append(i+1); window.append(i+1)\n",
    "            track2.coords.append(neck2); track2.frame.append(i+1);\n",
    "        elif knn.kneighbors(neck1)[0][0] == 1 and knn.kneighbors(neck1)[0][0]==0:\n",
    "            track1.coords.append(neck2); track1.frame.append(i+1); window.append(i+1)\n",
    "            track2.coords.append(neck1); track2.frame.append(i+1);\n",
    "        else:\n",
    "            continue\n",
    "    \n",
    "    if len(frames1)>100:\n",
    "        if (frames1[-1] - frames2[-2]) < 50:\n",
    "            track1[-100:-1] = interpolation(frames[-100:-1], frames1[-100:-1], track1)\n",
    "            frames1[-100:-1] = frames[-100:-1]\n",
    "\n",
    "    if len(frames2) > 100:\n",
    "        if (frames2[-1] - frames2[-2]) < 50:\n",
    "            track1[-100:-1] = interpolation(frames[-100:-1], frames2[-100:-1], track2)\n",
    "            frames2[-100:-1] = frames[-100:-1]\n",
    "    \n",
    "    else:\n",
    "        count = 0\n",
    "\n",
    "       \n",
    "        \n",
    "\n",
    "\n"
   ]
  },
  {
   "cell_type": "code",
   "execution_count": null,
   "id": "dcd7f0e5-f2ff-49bb-9a5d-3f44b949ea24",
   "metadata": {},
   "outputs": [],
   "source": [
    "print([4,6][np.argmax([5,6])"
   ]
  },
  {
   "cell_type": "code",
   "execution_count": null,
   "id": "c15f624c-7d93-4ffc-88ac-2a88b3e22e06",
   "metadata": {},
   "outputs": [],
   "source": [
    "print([4,5][np.argmax([5,6])])"
   ]
  },
  {
   "cell_type": "code",
   "execution_count": null,
   "id": "9a55e12d-29eb-4295-bc0a-1be0d0b51a7a",
   "metadata": {},
   "outputs": [],
   "source": [
    "b"
   ]
  },
  {
   "cell_type": "code",
   "execution_count": null,
   "id": "97bebc03-e421-4590-a507-b3fd4acff922",
   "metadata": {},
   "outputs": [],
   "source": [
    "data = pd.read_csv('/Users/andreibirladeanu/Documents/Data/meal_openpose/1043_meal/frame_12023.csv')"
   ]
  },
  {
   "cell_type": "code",
   "execution_count": null,
   "id": "0d38bc13-292e-4a87-bbb3-27833bafdd19",
   "metadata": {},
   "outputs": [],
   "source": [
    "data.columns[1:]"
   ]
  },
  {
   "cell_type": "code",
   "execution_count": null,
   "id": "07c84b86-9c9c-41c0-8246-b7c4f020e2e0",
   "metadata": {},
   "outputs": [],
   "source": [
    "for i in range(0, len(data.columns[1:]),3):\n",
    "    print(data[data.columns[1:][i]])"
   ]
  },
  {
   "cell_type": "code",
   "execution_count": null,
   "id": "cf269a1b-c2f4-45b6-bb8c-7def2c97fd7a",
   "metadata": {},
   "outputs": [],
   "source": [
    "data.columns[1:][3]"
   ]
  },
  {
   "cell_type": "code",
   "execution_count": null,
   "id": "6022e094-d37d-4daa-b691-8e004b3c3b97",
   "metadata": {},
   "outputs": [],
   "source": [
    "data.drop(['Unnamed: 0','prob_1','prob' axis=1)"
   ]
  },
  {
   "cell_type": "code",
   "execution_count": null,
   "id": "a5277b48-7748-48f7-aa5c-4b1cbe3c9837",
   "metadata": {},
   "outputs": [],
   "source": [
    "neck_x = [214]\n",
    "neck_y = [400]\n",
    "\n",
    "np.vstack([neck_x, neck_y]).shape"
   ]
  },
  {
   "cell_type": "code",
   "execution_count": null,
   "id": "6d588963-3f6d-424c-ab9f-e26a7f38931e",
   "metadata": {},
   "outputs": [],
   "source": [
    "detections = [data[col].loc[1] for col in data.columns[1:]]"
   ]
  },
  {
   "cell_type": "code",
   "execution_count": null,
   "id": "125d2423-5678-464a-a55b-11f21a1a7201",
   "metadata": {},
   "outputs": [],
   "source": [
    "detections"
   ]
  },
  {
   "cell_type": "code",
   "execution_count": null,
   "id": "38c8c31c-625a-4075-a137-e24c625509c1",
   "metadata": {},
   "outputs": [],
   "source": [
    "detections_x = [data[data.columns[1:][col]].loc[1] for col in  range(0, len(data.columns[1:]), 3)]"
   ]
  },
  {
   "cell_type": "code",
   "execution_count": null,
   "id": "8286a0a7-5c84-4020-9228-48ec0f91f012",
   "metadata": {},
   "outputs": [],
   "source": [
    "data.columns[0]"
   ]
  },
  {
   "cell_type": "code",
   "execution_count": null,
   "id": "741dca22-06b6-4080-b708-c31ed444f770",
   "metadata": {},
   "outputs": [],
   "source": [
    "detections_x"
   ]
  },
  {
   "cell_type": "code",
   "execution_count": null,
   "id": "05d09510-716a-43b0-8900-31f0535b4af5",
   "metadata": {},
   "outputs": [],
   "source": [
    "detections_y = [data[data.columns[2:][col]].loc[1] for col in  range(0, len(data.columns[2:]), 3)]"
   ]
  },
  {
   "cell_type": "code",
   "execution_count": null,
   "id": "9beffc3e-30d3-4675-b908-a52145dd67cb",
   "metadata": {},
   "outputs": [],
   "source": [
    "probs = [data[data.columns[3:][col]].loc[1] for col in  range(0, len(data.columns[3:]), 3)]"
   ]
  },
  {
   "cell_type": "code",
   "execution_count": null,
   "id": "8c5ae758-f761-4e9b-baad-a4f0e9e3bef2",
   "metadata": {},
   "outputs": [],
   "source": [
    "detections = np.vstack([detections_x, detections_y]).T"
   ]
  },
  {
   "cell_type": "code",
   "execution_count": null,
   "id": "c4e972c2-aed5-4124-b73e-9ebbc32c91a1",
   "metadata": {},
   "outputs": [],
   "source": [
    "data"
   ]
  },
  {
   "cell_type": "code",
   "execution_count": null,
   "id": "56851c4e-3b1e-4011-ac5f-970795f115c6",
   "metadata": {},
   "outputs": [],
   "source": [
    "probs"
   ]
  },
  {
   "cell_type": "code",
   "execution_count": null,
   "id": "075659b1-9aea-4c06-adea-2edb03489839",
   "metadata": {},
   "outputs": [],
   "source": [
    "probs = np.delete(probs, 1, axis=0)"
   ]
  },
  {
   "cell_type": "code",
   "execution_count": null,
   "id": "7036dba1-0341-479d-8526-a14d863acd3f",
   "metadata": {},
   "outputs": [],
   "source": [
    "detections[0]"
   ]
  },
  {
   "cell_type": "code",
   "execution_count": null,
   "id": "f7c4dbc5-1c50-40bf-8fa4-3081491527ab",
   "metadata": {},
   "outputs": [],
   "source": [
    "probs = np.delete(probs, 0, axis=0)"
   ]
  },
  {
   "cell_type": "code",
   "execution_count": null,
   "id": "9052f3af-5b31-474b-859f-ad2b5f9de591",
   "metadata": {},
   "outputs": [],
   "source": [
    "np.argmax(probs)"
   ]
  },
  {
   "cell_type": "code",
   "execution_count": null,
   "id": "03b81b76-157d-4bba-b17c-617143ab9d2d",
   "metadata": {},
   "outputs": [],
   "source": [
    "probs[0]"
   ]
  },
  {
   "cell_type": "code",
   "execution_count": null,
   "id": "5d02b1a3-9071-4cea-930e-c230a55cd827",
   "metadata": {},
   "outputs": [],
   "source": [
    "neigh = NearestNeighbors(n_neighbors=1)\n",
    "samples = [[2,4]]\n"
   ]
  },
  {
   "cell_type": "code",
   "execution_count": null,
   "id": "b3981145-abcd-4e77-96f2-57056ee7581e",
   "metadata": {},
   "outputs": [],
   "source": [
    "neigh.fit(samples)"
   ]
  }
 ],
 "metadata": {
  "kernelspec": {
   "display_name": "Python 3 (ipykernel)",
   "language": "python",
   "name": "python3"
  },
  "language_info": {
   "codemirror_mode": {
    "name": "ipython",
    "version": 3
   },
   "file_extension": ".py",
   "mimetype": "text/x-python",
   "name": "python",
   "nbconvert_exporter": "python",
   "pygments_lexer": "ipython3",
   "version": "3.7.6"
  }
 },
 "nbformat": 4,
 "nbformat_minor": 5
}
