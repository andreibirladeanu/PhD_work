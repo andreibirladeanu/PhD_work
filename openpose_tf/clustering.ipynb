{
 "cells": [
  {
   "cell_type": "code",
   "execution_count": null,
   "id": "9468707c-3da5-44b4-881d-f4f4ec47b5a3",
   "metadata": {},
   "outputs": [],
   "source": [
    "import os\n",
    "from tqdm import tqdm\n",
    "import pandas as pd\n",
    "import sys\n",
    "import numpy as np\n",
    "import matplotlib.pyplot as plt\n",
    "import cv2\n",
    "import re\n",
    "from sklearn.mixture import GaussianMixture\n",
    "from sklearn.decomposition import PCA\n",
    "import shutil\n",
    "from pathlib import Path\n",
    "from sorted_alpha import sorted_alpha\n",
    "from norfair import draw_tracked_boxes"
   ]
  },
  {
   "cell_type": "code",
   "execution_count": null,
   "id": "e3ca0f65-9fc5-4c9f-9cd5-9b93f80de2d5",
   "metadata": {},
   "outputs": [],
   "source": [
    "path_skeletons = Path('/Users/andrei-macpro/Documents/Data/quality_check/1053_meal')\n",
    "skeletons = sorted_alpha(path_skeletons)"
   ]
  },
  {
   "cell_type": "code",
   "execution_count": null,
   "id": "23dd1240-1227-448d-84de-9aab1fc9fff8",
   "metadata": {},
   "outputs": [],
   "source": [
    "images = []\n",
    "for skeleton in skeletons:\n",
    "    temp_list= []\n",
    "    for image in sorted_alpha(os.path.join(path_skeletons,skeleton)):\n",
    "        b, g, r = cv2.split(cv2.imread(os.path.join(path_skeletons,skeleton,image)))\n",
    "        images.append([np.mean(b),np.mean(g),np.mean(r)])\n"
   ]
  },
  {
   "cell_type": "code",
   "execution_count": null,
   "id": "7362a861-9165-4da3-bb77-6108059b5efb",
   "metadata": {},
   "outputs": [],
   "source": [
    "from sklearn.cluster import KMeans\n",
    "X = np.array(images)"
   ]
  },
  {
   "cell_type": "code",
   "execution_count": null,
   "id": "12e8a520-9d46-4877-823e-f5b3c5b30910",
   "metadata": {},
   "outputs": [],
   "source": [
    "kmeans = KMeans(n_clusters=2, random_state=0).fit(X)"
   ]
  },
  {
   "cell_type": "code",
   "execution_count": null,
   "id": "d9f1ddf4-6881-4a00-9408-8c3787411a97",
   "metadata": {},
   "outputs": [],
   "source": [
    "images[0]"
   ]
  },
  {
   "cell_type": "code",
   "execution_count": null,
   "id": "bb833e68-23a8-41ef-bbea-fbb30c0fb38d",
   "metadata": {},
   "outputs": [],
   "source": [
    "labels = []\n",
    "for skeleton in skeletons:\n",
    "    temp_list=[]\n",
    "    for image in sorted_alpha(os.path.join(path_skeletons,skeleton)):\n",
    "        b, g, r = cv2.split(cv2.imread(os.path.join(path_skeletons,skeleton,image)))\n",
    "        temp_list.append(kmeans.predict(np.reshape(np.array([np.mean(b),np.mean(g),np.mean(r)]),(1,-1))))\n",
    "    labels.append(temp_list)"
   ]
  },
  {
   "cell_type": "code",
   "execution_count": null,
   "id": "733b89ae-aebb-4bdf-ab38-9fc23e9178de",
   "metadata": {},
   "outputs": [],
   "source": [
    "np.where(labels[0]==0)"
   ]
  },
  {
   "cell_type": "code",
   "execution_count": null,
   "id": "b386e30b-fc6f-4010-932d-ddf03a982166",
   "metadata": {},
   "outputs": [],
   "source": [
    "labels[1][-5]"
   ]
  },
  {
   "cell_type": "code",
   "execution_count": null,
   "id": "10a2996c-41f5-4c71-86e0-e938936267ba",
   "metadata": {},
   "outputs": [],
   "source": [
    "pip install norfair[metrics,video]"
   ]
  },
  {
   "cell_type": "code",
   "execution_count": null,
   "id": "a2024be1-2aa6-442d-afca-ccf3c3a09cf3",
   "metadata": {},
   "outputs": [],
   "source": [
    "from norfair import Detection, Tracker, Video,draw_tracked_objects\n",
    "\n",
    "from scipy.spatial import distance"
   ]
  },
  {
   "cell_type": "code",
   "execution_count": null,
   "id": "0e2d580c-8e8e-4e6b-b6ed-7feb57a2afc6",
   "metadata": {},
   "outputs": [],
   "source": [
    "cap = cv2.VideoCapture(\"/Users/andrei-macpro/Documents/Data/Meal/1117_meal.mp4\")"
   ]
  },
  {
   "cell_type": "code",
   "execution_count": null,
   "id": "2c467a4f-a7ba-4f26-9398-bf6ea8cf0b59",
   "metadata": {},
   "outputs": [],
   "source": [
    "cap.set(1,1)"
   ]
  },
  {
   "cell_type": "code",
   "execution_count": null,
   "id": "dc2ce176-aee7-4b16-9931-42eb089b3219",
   "metadata": {},
   "outputs": [],
   "source": [
    "video = Video(input_path=\"/Users/andrei-macpro/Documents/Data/Meal/1117_meal.mp4\")\n",
    "tracker = Tracker(distance_function=euclidean_distance, distance_threshold=40, hit_counter_max=100, initialization_delay =3, \n",
    "                 past_detections_length=4)"
   ]
  },
  {
   "cell_type": "code",
   "execution_count": null,
   "id": "bce7a041-0bdf-4fcb-bae7-0f06eb14c0ee",
   "metadata": {},
   "outputs": [],
   "source": [
    "def euclidean_distance(detection, tracked_object):\n",
    "    return np.linalg.norm(detection.points - tracked_object.estimate)"
   ]
  },
  {
   "cell_type": "code",
   "execution_count": null,
   "id": "9a46a76a-201d-40ef-8b41-ca1893e8cfa5",
   "metadata": {},
   "outputs": [],
   "source": [
    "path_openpose = '/Users/andrei-macpro/Documents/Data/1117_meal/1'\n",
    "coords = sorted_alpha(path_openpose)"
   ]
  },
  {
   "cell_type": "code",
   "execution_count": null,
   "id": "7021f4c1-fe11-46db-8598-02daaa3f70f5",
   "metadata": {},
   "outputs": [],
   "source": [
    "points = []\n",
    "scores=[]\n",
    "for coord in coords:\n",
    "    data = pd.read_csv(os.path.join(path_openpose,coord))\n",
    "    points.append(data[['x','y']].to_numpy())\n",
    "    scores.append(data['p'].to_numpy())\n",
    "    "
   ]
  },
  {
   "cell_type": "code",
   "execution_count": null,
   "id": "bf2e77c7-5622-4a99-b1c9-02eebbc41fd0",
   "metadata": {},
   "outputs": [],
   "source": [
    "sorted_alpha(path_openpose)"
   ]
  },
  {
   "cell_type": "code",
   "execution_count": null,
   "id": "62fcd5d7-0883-48e2-9c4b-db05e41833f2",
   "metadata": {},
   "outputs": [],
   "source": [
    "ret, frame = cap.read()"
   ]
  },
  {
   "cell_type": "code",
   "execution_count": null,
   "id": "ae3fe094-f6dd-4db2-a99f-629f31081aa4",
   "metadata": {},
   "outputs": [],
   "source": [
    "detections = [Detection(points=points[0],scores=scores[0])]"
   ]
  },
  {
   "cell_type": "code",
   "execution_count": null,
   "id": "49e97da8-78f0-43c6-a8c3-a567428403d7",
   "metadata": {},
   "outputs": [],
   "source": [
    "points[0]"
   ]
  },
  {
   "cell_type": "code",
   "execution_count": null,
   "id": "768df3ac-3f3c-4ad5-af2d-e022ce0cd13e",
   "metadata": {},
   "outputs": [],
   "source": [
    "tracked_objects = tracker.update(detections=detections)"
   ]
  },
  {
   "cell_type": "code",
   "execution_count": null,
   "id": "1f316aed-59f2-45fe-8a57-3c1761b452dc",
   "metadata": {},
   "outputs": [],
   "source": [
    "draw_tracked_objects(frame, tracked_objects)"
   ]
  },
  {
   "cell_type": "code",
   "execution_count": null,
   "id": "c50f0503-9a04-40d7-9484-c6e8e43ba1d6",
   "metadata": {},
   "outputs": [],
   "source": [
    "coords_frames = [int(x.split(\".\")[0]) for x in coords]"
   ]
  },
  {
   "cell_type": "code",
   "execution_count": null,
   "id": "d1cceea8-5f80-447a-876d-2edfbe38c27e",
   "metadata": {},
   "outputs": [],
   "source": [
    "tracked_ = []\n",
    "for point,score,coord in zip(points,scores,coords_frames):\n",
    "    detections = [Detection(points=point,scores=score)]\n",
    "    tracked_objects = tracker.update(detections=detections)\n",
    "    tracked_.append(tracked_objects)\n",
    "    print(coord, tracked_objects)\n",
    "   # if tracked_objects!=[]:  \n",
    "    #    print((tracked_objects[0].estimate))\n",
    "    cap.set(1,coord-1)\n",
    "    ret,image = cap.read()\n",
    "    draw_tracked_boxes(image, tracked_objects, id_size =2, draw_box=True, draw_labels=True)\n",
    "    cv2.imshow('frame'+str(coord),image)\n",
    "    cv2.waitKey(0)\n",
    "    video.write(image)"
   ]
  },
  {
   "cell_type": "code",
   "execution_count": null,
   "id": "1f380d19-119a-4b62-88ab-e0aa66ddb207",
   "metadata": {},
   "outputs": [],
   "source": [
    "tracked_[0][0].estimate"
   ]
  },
  {
   "cell_type": "code",
   "execution_count": null,
   "id": "25cb4c23-7701-4d18-91c7-d09212e2e56b",
   "metadata": {},
   "outputs": [],
   "source": [
    "tracked_[50][0].estimate"
   ]
  },
  {
   "cell_type": "code",
   "execution_count": null,
   "id": "02f46a7e-1fe7-4c0b-940f-f473e5ecf731",
   "metadata": {},
   "outputs": [],
   "source": [
    "tracked_[50][1].estimate"
   ]
  },
  {
   "cell_type": "code",
   "execution_count": null,
   "id": "98fd9ace-3f2d-44ec-9fb3-521103159b43",
   "metadata": {},
   "outputs": [],
   "source": [
    "### test distributions\n",
    "path_openpose = '/Users/andrei-macpro/Documents/Data/1117_meal/'\n",
    "folders = sorted_alpha(path_openpose)"
   ]
  },
  {
   "cell_type": "code",
   "execution_count": null,
   "id": "c91efb57-78f9-4065-b673-cd89ccea87a5",
   "metadata": {},
   "outputs": [],
   "source": [
    "locations = []\n",
    "for folder in folders:\n",
    "    temp_list= []\n",
    "    for coord in sorted_alpha(os.path.join(path_openpose, folder)):\n",
    "        data = pd.read_csv(os.path.join(path_openpose, folder, coord))\n",
    "        neck = [data['x'].loc[1], data['y'].loc[1]]\n",
    "        temp_list.append(neck)\n",
    "    locations.append(temp_list)"
   ]
  },
  {
   "cell_type": "code",
   "execution_count": null,
   "id": "1819987e-6f12-49c5-bc80-bd8744e9795a",
   "metadata": {},
   "outputs": [],
   "source": [
    "neck_x_1 = [x[0] for x in locations[0]]\n",
    "neck_y_1 = [x[1] for x in locations[0]]"
   ]
  },
  {
   "cell_type": "code",
   "execution_count": null,
   "id": "672323db-a6b4-40b9-b95c-3ed58346ebc6",
   "metadata": {},
   "outputs": [],
   "source": [
    "neck_x_2 = [x[0] for x in locations[1]]\n",
    "neck_y_2 = [x[1] for x in locations[1]]"
   ]
  },
  {
   "cell_type": "code",
   "execution_count": null,
   "id": "2131bfc6-4202-4d20-b2f1-fb72cc2fb85c",
   "metadata": {},
   "outputs": [],
   "source": [
    "np.array(locations[0]).shape"
   ]
  },
  {
   "cell_type": "code",
   "execution_count": null,
   "id": "711fd67a-33ef-4603-9c10-1664fc7d8135",
   "metadata": {},
   "outputs": [],
   "source": [
    "import sys\n",
    "import inspect\n",
    "import numpy as np\n",
    "import scipy.stats\n",
    "\n",
    "ks2d2s(np.array(locations[0]), np.array(locations[0]))"
   ]
  },
  {
   "cell_type": "code",
   "execution_count": null,
   "id": "c551c4c8-c9c0-45c0-8da3-6d4166c4832c",
   "metadata": {},
   "outputs": [],
   "source": [
    "from __future__ import division\n",
    "import numpy as np\n",
    "from numpy import random\n",
    "from scipy.spatial.distance import pdist, cdist\n",
    "from scipy.stats import kstwobign, pearsonr\n",
    "from scipy.stats import genextreme\n",
    "\n",
    "\n",
    "\n",
    "def ks2d2s(x1, y1, x2, y2, nboot=None, extra=False):\n",
    "    '''Two-dimensional Kolmogorov-Smirnov test on two samples. \n",
    "    Parameters\n",
    "    ----------\n",
    "    x1, y1 : ndarray, shape (n1, )\n",
    "        Data of sample 1.\n",
    "    x2, y2 : ndarray, shape (n2, )\n",
    "        Data of sample 2. Size of two samples can be different.\n",
    "    extra: bool, optional\n",
    "        If True, KS statistic is also returned. Default is False.\n",
    "\n",
    "    Returns\n",
    "    -------\n",
    "    p : float\n",
    "        Two-tailed p-value.\n",
    "    D : float, optional\n",
    "        KS statistic. Returned if keyword `extra` is True.\n",
    "\n",
    "    Notes\n",
    "    -----\n",
    "    This is the two-sided K-S test. Small p-values means that the two samples are significantly different. Note that the p-value is only an approximation as the analytic distribution is unkonwn. The approximation is accurate enough when N > ~20 and p-value < ~0.20 or so. When p-value > 0.20, the value may not be accurate, but it certainly implies that the two samples are not significantly different. (cf. Press 2007)\n",
    "\n",
    "    References\n",
    "    ----------\n",
    "    Peacock, J.A. 1983, Two-Dimensional Goodness-of-Fit Testing in Astronomy, Monthly Notices of the Royal Astronomical Society, vol. 202, pp. 615-627\n",
    "    Fasano, G. and Franceschini, A. 1987, A Multidimensional Version of the Kolmogorov-Smirnov Test, Monthly Notices of the Royal Astronomical Society, vol. 225, pp. 155-170\n",
    "    Press, W.H. et al. 2007, Numerical Recipes, section 14.8\n",
    "\n",
    "    '''\n",
    "    assert (len(x1) == len(y1)) and (len(x2) == len(y2))\n",
    "    n1, n2 = len(x1), len(x2)\n",
    "    D = avgmaxdist(x1, y1, x2, y2)\n",
    "\n",
    "    if nboot is None:\n",
    "        sqen = np.sqrt(n1 * n2 / (n1 + n2))\n",
    "        r1 = pearsonr(x1, y1)[0]\n",
    "        r2 = pearsonr(x2, y2)[0]\n",
    "        r = np.sqrt(1 - 0.5 * (r1**2 + r2**2))\n",
    "        d = D * sqen / (1 + r * (0.25 - 0.75 / sqen))\n",
    "        p = kstwobign.sf(d)\n",
    "    else:\n",
    "        n = n1 + n2\n",
    "        x = np.concatenate([x1, x2])\n",
    "        y = np.concatenate([y1, y2])\n",
    "        d = np.empty(nboot, 'f')\n",
    "        for i in range(nboot):\n",
    "            idx = random.choice(n, n, replace=True)\n",
    "            ix1, ix2 = idx[:n1], idx[n1:]\n",
    "            #ix1 = random.choice(n, n1, replace=True)\n",
    "            #ix2 = random.choice(n, n2, replace=True)\n",
    "            d[i] = avgmaxdist(x[ix1], y[ix1], x[ix2], y[ix2])\n",
    "        p = np.sum(d > D).astype('f') / nboot\n",
    "    if extra:\n",
    "        return p, D\n",
    "    else:\n",
    "        return p\n",
    "\n",
    "\n",
    "def avgmaxdist(x1, y1, x2, y2):\n",
    "    D1 = maxdist(x1, y1, x2, y2)\n",
    "    D2 = maxdist(x2, y2, x1, y1)\n",
    "    return (D1 + D2) / 2\n",
    "\n",
    "\n",
    "def maxdist(x1, y1, x2, y2):\n",
    "    n1 = len(x1)\n",
    "    D1 = np.empty((n1, 4))\n",
    "    for i in range(n1):\n",
    "        a1, b1, c1, d1 = quadct(x1[i], y1[i], x1, y1)\n",
    "        a2, b2, c2, d2 = quadct(x1[i], y1[i], x2, y2)\n",
    "        D1[i] = [a1 - a2, b1 - b2, c1 - c2, d1 - d2]\n",
    "\n",
    "    # re-assign the point to maximize difference,\n",
    "    # the discrepancy is significant for N < ~50\n",
    "    D1[:, 0] -= 1 / n1\n",
    "\n",
    "    dmin, dmax = -D1.min(), D1.max() + 1 / n1\n",
    "    return max(dmin, dmax)\n",
    "\n",
    "\n",
    "def quadct(x, y, xx, yy):\n",
    "    n = len(xx)\n",
    "    ix1, ix2 = xx <= x, yy <= y\n",
    "    a = np.sum(ix1 & ix2) / n\n",
    "    b = np.sum(ix1 & ~ix2) / n\n",
    "    c = np.sum(~ix1 & ix2) / n\n",
    "    d = 1 - a - b - c\n",
    "    return a, b, c, d\n",
    "\n",
    "\n",
    "def estat2d(x1, y1, x2, y2, **kwds):\n",
    "    return estat(np.c_[x1, y1], np.c_[x2, y2], **kwds)\n"
   ]
  },
  {
   "cell_type": "code",
   "execution_count": null,
   "id": "928bc4b3-a841-4066-9f41-c24d18d4b239",
   "metadata": {},
   "outputs": [],
   "source": [
    "def CountQuads(Arr2D, point):\n",
    "    \"\"\" Computes the probabilities of finding points in each 4 quadrant\n",
    "    defined by a vertical and horizontal lines crossing the point, by counting\n",
    "    the proportion of points in Arr2D in each quadrant.\n",
    "    :param list Arr2D: Array of points to be counted.\n",
    "    :param array point: A 2 element list, point, which is the center of\n",
    "    4 square quadrants.\n",
    "    :returns: a tuple of 4 floats.  The probabilities of finding a point in\n",
    "    each quadrants, with point as the origin.  p stands for positive, n for\n",
    "    negative, with the first and second positions meaning the x and y\n",
    "    directions respectively.\n",
    "    \"\"\"\n",
    "    if isinstance(point, list):\n",
    "        point = np.asarray((np.ravel(point)))\n",
    "    elif type(point).__module__+type(point).__name__ == 'numpyndarray':\n",
    "        point = np.ravel(point.copy())\n",
    "    else:\n",
    "        raise TypeError('Input point is neither list nor numpyndarray')\n",
    "    if len(point) != 2:\n",
    "        return\n",
    "    if isinstance(Arr2D, list):\n",
    "        Arr2D = np.asarray((Arr2D))\n",
    "    elif type(Arr2D).__module__+type(Arr2D).__name__ == 'numpyndarray':\n",
    "        pass\n",
    "    else:\n",
    "        raise TypeError('Input Arr2D is neither list nor numpyndarray')\n",
    "    if Arr2D.shape[1] > Arr2D.shape[0]:  # Reshape to A[row,column]\n",
    "        Arr2D = Arr2D.copy().T\n",
    "    if Arr2D.shape[1] != 2:\n",
    "        raise TypeError('Input Arr2D is not 2D')\n",
    "    # The pp of Qpp refer to p for 'positive' and n for 'negative' quadrants.\n",
    "    # In order. first subscript is x, second is y.\n",
    "    Qpp = Arr2D[(Arr2D[:, 0] > point[0]) & (Arr2D[:, 1] > point[1]), :]\n",
    "    Qnp = Arr2D[(Arr2D[:, 0] < point[0]) & (Arr2D[:, 1] > point[1]), :]\n",
    "    Qpn = Arr2D[(Arr2D[:, 0] > point[0]) & (Arr2D[:, 1] < point[1]), :]\n",
    "    Qnn = Arr2D[(Arr2D[:, 0] < point[0]) & (Arr2D[:, 1] < point[1]), :]\n",
    "    # Normalized fractions:\n",
    "    ff = 1./len(Arr2D)\n",
    "    fpp = len(Qpp)*ff\n",
    "    fnp = len(Qnp)*ff\n",
    "    fpn = len(Qpn)*ff\n",
    "    fnn = len(Qnn)*ff\n",
    "    # NOTE:  all the f's are supposed to sum to 1.0. Float representation\n",
    "    # cause SOMETIMES sum to 1.000000002 or something. I don't know how to\n",
    "    # test for that reliably, OR what to do about it yet. Keep in mind.\n",
    "    return(fpp, fnp, fpn, fnn)\n",
    "\n",
    "\n",
    "def FuncQuads(func2D, point, xlim, ylim, rounddig=4):\n",
    "    \"\"\" Computes the probabilities of finding points in each 4 quadrant\n",
    "    defined by a vertical and horizontal lines crossing the point, by\n",
    "    integrating the density function func2D in each quadrant.\n",
    "    :param array func2D: Density function that takes 2 arguments: x and y.\n",
    "    :param list point: A 2 element list, point, which is the center of 4\n",
    "    square quadrants.\n",
    "    :param array xlim,ylim: Domain of numerical integration necessary to\n",
    "    compute the quadrant probabilities.\n",
    "    :returns: a tuple of 4 floats. The probabilities of finding a point in\n",
    "    each quadrants, with point as the origin.  p stands for positive,\n",
    "    n for negative, with the first and second positions meaning the x and y\n",
    "    directions respectively.\n",
    "    \"\"\"\n",
    "    if callable(func2D):\n",
    "        if len(inspect.getfullargspec(func2D)[0]) != 2:\n",
    "            raise TypeError('Input func2D is not a function with 2 arguments')\n",
    "        pass\n",
    "    else:\n",
    "        raise TypeError('Input func2D is not a function')\n",
    "    # If xlim, ylim and point are not lists or ndarray, exit.\n",
    "    if isinstance(point, list):\n",
    "        point = np.asarray((np.ravel(point)))\n",
    "    elif type(point).__module__+type(point).__name__ == 'numpyndarray':\n",
    "        point = np.ravel(point.copy())\n",
    "    else:\n",
    "        raise TypeError('Input point is not a list or numpyndarray')\n",
    "    if len(point) != 2:\n",
    "        raise TypeError('Input point has not exactly 2 elements')\n",
    "    if isinstance(xlim, list):\n",
    "        xlim = np.asarray((np.sort(np.ravel(xlim))))\n",
    "    elif type(xlim).__module__+type(xlim).__name__ == 'numpyndarray':\n",
    "        xlim = np.sort(np.ravel(xlim.copy()))\n",
    "    else:\n",
    "        raise TypeError('Input xlim is not a list or ndarray')\n",
    "    if len(xlim) != 2:\n",
    "        raise TypeError('Input xlim has not exactly 2 elements')\n",
    "    if xlim[0] == xlim[1]:\n",
    "        raise TypeError('Input xlim[0] should be different to xlim[1]')\n",
    "    if isinstance(ylim, list):\n",
    "        ylim = np.asarray((np.sort(np.ravel(ylim))))\n",
    "    elif type(ylim).__module__+type(ylim).__name__ == 'numpyndarray':\n",
    "        ylim = np.sort(np.ravel(ylim.copy()))\n",
    "    else:\n",
    "        raise TypeError('Input ylim is not a list or ndarray')\n",
    "    if len(ylim) != 2:\n",
    "        raise TypeError('Input ylim has not exactly 2 elements')\n",
    "    if ylim[0] == ylim[1]:\n",
    "        raise TypeError('Input ylim[0] should be different to ylim[1]')\n",
    "    # Numerical integration to find the quadrant probabilities.\n",
    "    totInt = scipy.integrate.dblquad(func2D, *xlim,\n",
    "                                     lambda x: np.amin(ylim),\n",
    "                                     lambda x: np.amax(ylim))[0]\n",
    "    Qpp = scipy.integrate.dblquad(func2D, point[0], np.amax(xlim),\n",
    "                                  lambda x: point[1],\n",
    "                                  lambda x: np.amax(ylim))[0]\n",
    "    Qpn = scipy.integrate.dblquad(func2D, point[0], np.amax(xlim),\n",
    "                                  lambda x: np.amin(ylim),\n",
    "                                  lambda x: point[1])[0]\n",
    "    Qnp = scipy.integrate.dblquad(func2D, np.amin(xlim), point[0],\n",
    "                                  lambda x: point[1],\n",
    "                                  lambda x: np.amax(ylim))[0]\n",
    "    Qnn = scipy.integrate.dblquad(func2D, np.amin(xlim), point[0],\n",
    "                                  lambda x: np.amin(ylim),\n",
    "                                  lambda x: point[1])[0]\n",
    "    fpp = round(Qpp/totInt, rounddig)\n",
    "    fnp = round(Qnp/totInt, rounddig)\n",
    "    fpn = round(Qpn/totInt, rounddig)\n",
    "    fnn = round(Qnn/totInt, rounddig)\n",
    "    return(fpp, fnp, fpn, fnn)\n",
    "\n",
    "\n",
    "def Qks(alam, iter=100, prec=1e-17):\n",
    "    \"\"\" Computes the value of the KS probability function, as a function of\n",
    "    alam, the D statistic. From *Numerical recipes in C* page 623: '[...]\n",
    "    the K–S statistic useful is that its distribution in the case of the null\n",
    "    hypothesis (data sets drawn from the same distribution) can be calculated,\n",
    "    at least to useful approximation, thus giving the significance of any\n",
    "    observed nonzero value of D.' (D being the KS statistic).\n",
    "    :param float alam: D statistic.\n",
    "    :param int iter: Number of iterations to be perfomed. On non-convergence,\n",
    "    returns 1.0.\n",
    "    :param float prec: Convergence criteria of the qks. Stops converging if\n",
    "    that precision is attained.\n",
    "    :returns: a float. The significance level of the observed D statistic.\n",
    "    \"\"\"\n",
    "    # If j iterations are performed, meaning that toadd\n",
    "    # is still 2 times larger than the precision.\n",
    "    if isinstance(alam, int) | isinstance(alam, float):\n",
    "        pass\n",
    "    else:\n",
    "        raise TypeError('Input alam is neither int nor float')\n",
    "    toadd = [1]\n",
    "    qks = 0.\n",
    "    j = 1\n",
    "    while (j < iter) & (abs(toadd[-1]) > prec*2):\n",
    "        toadd.append(2.*(-1.)**(j-1.)*np.exp(-2.*j**2.*alam**2.))\n",
    "        qks += toadd[-1]\n",
    "        j += 1\n",
    "    if (j == iter) | (qks > 1):  # If no convergence after j iter, return 1.0\n",
    "        return(1.0)\n",
    "    if qks < prec:\n",
    "        return(0.)\n",
    "    else:\n",
    "        return(qks)\n",
    "\n",
    "\n",
    "\n",
    "\n",
    "\n",
    "\n",
    "\n",
    "def ks2d2s(Arr2D1, Arr2D2):\n",
    "    \"\"\" ks stands for Kolmogorov-Smirnov, 2d for 2 dimensional,\n",
    "    2s for 2 samples.\n",
    "    KS test for goodness-of-fit on two 2D samples. Tests the hypothesis that\n",
    "    the two samples are from the same distribution.\n",
    "    :param array Arr2D1: 2D array of points/samples.\n",
    "    :param array Arr2D2: 2D array of points/samples.\n",
    "    :returns: a tuple of two floats. First, the two-sample K-S statistic.\n",
    "    If this value is higher than the significance level of the hypothesis,\n",
    "    it is rejected. Second, the significance level of *d*. Small values of\n",
    "    prob show that the two samples are significantly different.\n",
    "    \"\"\"\n",
    "    if type(Arr2D1).__module__+type(Arr2D1).__name__ == 'numpyndarray':\n",
    "        pass\n",
    "    else:\n",
    "        raise TypeError('Input Arr2D1 is neither list nor numpyndarray')\n",
    "    if Arr2D1.shape[1] > Arr2D1.shape[0]:\n",
    "        Arr2D1 = Arr2D1.copy().T\n",
    "    if type(Arr2D2).__module__+type(Arr2D2).__name__ == 'numpyndarray':\n",
    "        pass\n",
    "    else:\n",
    "        raise TypeError('Input Arr2D2 is neither list nor numpyndarray')\n",
    "    if Arr2D2.shape[1] > Arr2D2.shape[0]:\n",
    "        Arr2D2 = Arr2D2.copy().T\n",
    "    if Arr2D1.shape[1] != 2:\n",
    "        raise TypeError('Input Arr2D1 is not 2D')\n",
    "    if Arr2D2.shape[1] != 2:\n",
    "        raise TypeError('Input Arr2D2 is not 2D')\n",
    "    d1, d2 = 0., 0.\n",
    "    for point1 in Arr2D1:\n",
    "        fpp1, fmp1, fpm1, fmm1 = CountQuads(Arr2D1, point1)\n",
    "        fpp2, fmp2, fpm2, fmm2 = CountQuads(Arr2D2, point1)\n",
    "        d1 = max(d1, abs(fpp1-fpp2))\n",
    "        d1 = max(d1, abs(fpm1-fpm2))\n",
    "        d1 = max(d1, abs(fmp1-fmp2))\n",
    "        d1 = max(d1, abs(fmm1-fmm2))\n",
    "    for point2 in Arr2D2:\n",
    "        fpp1, fmp1, fpm1, fmm1 = CountQuads(Arr2D1, point2)\n",
    "        fpp2, fmp2, fpm2, fmm2 = CountQuads(Arr2D2, point2)\n",
    "        d2 = max(d2, abs(fpp1-fpp2))\n",
    "        d2 = max(d2, abs(fpm1-fpm2))\n",
    "        d2 = max(d2, abs(fmp1-fmp2))\n",
    "        d2 = max(d2, abs(fmm1-fmm2))\n",
    "    d = (d1+d2)/2.\n",
    "    sqen = np.sqrt(len(Arr2D1)*len(Arr2D2)/(len(Arr2D1)+len(Arr2D2)))\n",
    "    R1 = scipy.stats.pearsonr(Arr2D1[:, 0], Arr2D1[:, 1])[0]\n",
    "    R2 = scipy.stats.pearsonr(Arr2D2[:, 0], Arr2D2[:, 1])[0]\n",
    "    RR = np.sqrt(1.-(R1*R1+R2*R2)/2.)\n",
    "    prob = Qks(d*sqen/(1.+RR*(0.25-0.75/sqen)))\n",
    "    # Small values of prob show that the two samples are significantly\n",
    "    # different. Prob is the significance level of an observed value of d.\n",
    "    # NOT the same as the significance level that ou set and compare to D.\n",
    "    return(d, prob)"
   ]
  }
 ],
 "metadata": {
  "kernelspec": {
   "display_name": "Python 3 (ipykernel)",
   "language": "python",
   "name": "python3"
  },
  "language_info": {
   "codemirror_mode": {
    "name": "ipython",
    "version": 3
   },
   "file_extension": ".py",
   "mimetype": "text/x-python",
   "name": "python",
   "nbconvert_exporter": "python",
   "pygments_lexer": "ipython3",
   "version": "3.7.6"
  }
 },
 "nbformat": 4,
 "nbformat_minor": 5
}
