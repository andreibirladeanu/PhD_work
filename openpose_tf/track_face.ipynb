{
 "cells": [
  {
   "cell_type": "code",
   "execution_count": 2,
   "id": "59e252a1-ac04-41f9-88c4-7cd5400bf844",
   "metadata": {},
   "outputs": [],
   "source": [
    "import os\n",
    "from tqdm import tqdm\n",
    "import pandas as pd\n",
    "import sys\n",
    "import time\n",
    "import logging\n",
    "import numpy as np\n",
    "import matplotlib.pyplot as plt\n",
    "import cv2\n",
    "import re\n",
    "from sklearn.neighbors import NearestNeighbors\n",
    "from pathlib import Path "
   ]
  },
  {
   "cell_type": "code",
   "execution_count": 3,
   "id": "dd1ed55c-33ca-44c8-a628-85a718971834",
   "metadata": {},
   "outputs": [],
   "source": [
    "def sorted_alphanumeric(data):\n",
    "    convert = lambda text: int(text) if text.isdigit() else text.lower()\n",
    "    alphanum_key = lambda key: [ convert(c) for c in re.split('([0-9]+)', key) ] \n",
    "    return sorted(data, key=alphanum_key)"
   ]
  },
  {
   "cell_type": "code",
   "execution_count": 29,
   "id": "c41f979d-edbf-4a68-aa85-54e7b772fefa",
   "metadata": {},
   "outputs": [],
   "source": [
    "def nearest_neighbour(new_skeleton, various_skeletons):\n",
    "    joint=1\n",
    "    neigh.fit([[new_skeleton1[-1][0][joint],  new_skeleton1[-1][1][joint]]])\n",
    "    if len(various_skeletons) ==1:\n",
    "        dist, nn = neigh.kneighbors([[list(various_skeletons.values())[0][0][joint], list(various_skeletons.values())[0][1][joint]]], \n",
    "                                        return_distance = True)\n",
    "        return([dist])\n",
    "    elif len(various_skeletons)==2:\n",
    "        dist1, nn = neigh.kneighbors([[list(various_skeletons.values())[0][0][joint], list(various_skeletons.values())[0][1][joint]]], \n",
    "                                        return_distance = True)\n",
    "        dist2, nn = neigh.kneighbors([[list(various_skeletons.values())[1][0][joint], list(various_skeletons.values())[1][1][joint]]], \n",
    "                                        return_distance = True)\n",
    "        return([dist1, dist2])\n",
    "    elif len(various_skeletons) ==3:\n",
    "        dist1, nn = neigh.kneighbors([[list(various_skeletons.values())[0][0][joint], list(various_skeletons.values())[0][1][joint]]], \n",
    "                                        return_distance = True)\n",
    "        dist2, nn = neigh.kneighbors([[list(various_skeletons.values())[1][0][joint], list(various_skeletons.values())[1][1][joint]]], \n",
    "                                        return_distance = True)\n",
    "        dist3, nn = neigh.kneighbors([[list(various_skeletons.values())[2][0][joint], list(various_skeletons.values())[2][1][joint]]], \n",
    "                                        return_distance = True)\n",
    "        return([dist1,dist2,dist3])"
   ]
  },
  {
   "cell_type": "code",
   "execution_count": 26,
   "id": "ce617974-cbe6-4212-8451-4bf9373a83e9",
   "metadata": {},
   "outputs": [
    {
     "data": {
      "text/plain": [
       "{'skeleton1': [array([476.16, 499.2 , 453.12, 407.04, 422.4 , 545.28, 545.28, 476.16,\n",
       "         437.76,   0.  ,   0.  , 514.56, 460.8 ,   0.  , 476.16, 491.52,\n",
       "           0.  , 522.24]),\n",
       "  array([132.48, 155.52, 144.  , 230.4 , 282.24, 172.8 , 264.96, 299.52,\n",
       "         288.  ,   0.  ,   0.  , 299.52, 374.4 ,   0.  , 120.96, 126.72,\n",
       "           0.  , 126.72]),\n",
       "  array([0.31, 0.68, 0.64, 0.72, 0.37, 0.66, 0.71, 0.54, 0.17, 0.  , 0.  ,\n",
       "         0.32, 0.19, 0.  , 0.22, 0.37, 0.  , 0.6 ])],\n",
       " 'skeleton2': [array([391.68, 445.44,   0.  ,   0.  ,   0.  , 445.44, 391.68, 322.56,\n",
       "           0.  ,   0.  ,   0.  ,   0.  ,   0.  ,   0.  ,   0.  , 407.04,\n",
       "           0.  , 437.76]),\n",
       "  array([357.12, 362.88,   0.  ,   0.  ,   0.  , 385.92, 432.  , 420.48,\n",
       "           0.  ,   0.  ,   0.  ,   0.  ,   0.  ,   0.  ,   0.  , 339.84,\n",
       "           0.  , 339.84]),\n",
       "  array([0.15, 0.15, 0.  , 0.  , 0.  , 0.35, 0.66, 0.62, 0.  , 0.  , 0.  ,\n",
       "         0.  , 0.  , 0.  , 0.  , 0.18, 0.  , 0.51])]}"
      ]
     },
     "execution_count": 26,
     "metadata": {},
     "output_type": "execute_result"
    }
   ],
   "source": [
    "skeletons[20]"
   ]
  },
  {
   "cell_type": "code",
   "execution_count": 28,
   "id": "c07b073e-a23f-4039-85af-ca9875679223",
   "metadata": {},
   "outputs": [
    {
     "data": {
      "text/plain": [
       "499.2"
      ]
     },
     "execution_count": 28,
     "metadata": {},
     "output_type": "execute_result"
    }
   ],
   "source": [
    "list(skeletons[20].values())[0][0][1]"
   ]
  },
  {
   "cell_type": "code",
   "execution_count": 22,
   "id": "bae7fed0-39db-423c-a918-b3993019f621",
   "metadata": {},
   "outputs": [
    {
     "name": "stdout",
     "output_type": "stream",
     "text": [
      "[[14.4222051]]\n"
     ]
    }
   ],
   "source": [
    "neigh.fit([[514,155]])\n",
    "dist, nn = neigh.kneighbors([[506,167]], return_distance = True)\n",
    "print(dist)"
   ]
  },
  {
   "cell_type": "code",
   "execution_count": 36,
   "id": "56e465e9-526d-4177-ad42-1c3c86fec487",
   "metadata": {},
   "outputs": [],
   "source": [
    "def check_missing(skeletons):\n",
    "    \"\"\"if value is missing then it returns True\"\"\"\n",
    "    temp_list = []\n",
    "    for key,value in skeletons.items():\n",
    "        \n",
    "        if value[0][1] ==0:\n",
    "            temp_list.append(True)\n",
    "        else:\n",
    "            temp_list.append(False)\n",
    "    return(np.all(temp_list))"
   ]
  },
  {
   "cell_type": "code",
   "execution_count": 4,
   "id": "32af9ed5-337a-4843-8747-4f1c4c0b9aa1",
   "metadata": {},
   "outputs": [],
   "source": [
    "openpose_path = '/Users/andreibirladeanu/Documents/Data/meal_openpose/1053_meal/'"
   ]
  },
  {
   "cell_type": "code",
   "execution_count": 5,
   "id": "8af8983c-1673-478a-b436-b85e59f03796",
   "metadata": {
    "tags": []
   },
   "outputs": [],
   "source": [
    "coords = [file for file in sorted_alphanumeric(os.listdir(openpose_path)) if file[0] !=\".\"]\n"
   ]
  },
  {
   "cell_type": "code",
   "execution_count": 44,
   "id": "659db94f-faee-455d-aa68-71fe05820c57",
   "metadata": {},
   "outputs": [],
   "source": [
    "thr = 100\n",
    "skeletons = []\n",
    "frames = []\n",
    "for frame in coords:\n",
    "    data = pd.read_csv(openpose_path + frame)\n",
    "    data = data.fillna(0)\n",
    "    if (len(data.columns)-1)/3 == 1:\n",
    "        skeletons.append({'skeleton1':[np.array(data['x_1']), np.array(data['y_1']), np.array(data['prob_1'])]})\n",
    "        frames.append(int(str(frame.split('.')[0]).split(\"_\")[1]))\n",
    "    elif (len(data.columns)-1)/3 == 2:\n",
    "        skeletons.append({'skeleton1':[np.array(data['x_1']), np.array(data['y_1']),  np.array(data['prob_1'])],'skeleton2':[np.array(data['x_2']), np.array(data['y_2']),\n",
    "                                                                                                                         np.array(data['prob_2'])]})\n",
    "        frames.append(int(str(frame.split('.')[0]).split(\"_\")[1]))\n",
    "    elif (len(data.columns)-1)/3 == 3:\n",
    "        skeletons.append({'skeleton1':[np.array(data['x_1']), np.array(data['y_1']),  np.array(data['prob_1'])],'skeleton2':[np.array(data['x_2']), np.array(data['y_2']),\n",
    "                         np.array(data['prob_2'])],\n",
    "                      'skeleton3':[np.array(data['x_3']), np.array(data['y_3']),  np.array(data['prob_3'])]}) \n",
    "        frames.append(int(str(frame.split('.')[0]).split(\"_\")[1]))"
   ]
  },
  {
   "cell_type": "code",
   "execution_count": 104,
   "id": "32b2db22-fd2c-4553-b8c0-4c4d8d174915",
   "metadata": {
    "collapsed": true,
    "jupyter": {
     "outputs_hidden": true
    },
    "tags": []
   },
   "outputs": [
    {
     "name": "stdout",
     "output_type": "stream",
     "text": [
      "{'skeleton1': [array([506.88, 522.24, 476.16, 414.72, 414.72, 568.32, 552.96, 468.48,\n",
      "       445.44,   0.  ,   0.  , 522.24,   0.  ,   0.  , 499.2 , 522.24,\n",
      "         0.  , 552.96]), array([109.44, 144.  , 120.96, 167.04, 224.64, 161.28, 253.44, 293.76,\n",
      "       253.44,   0.  ,   0.  , 282.24,   0.  ,   0.  ,  97.92, 103.68,\n",
      "         0.  , 103.68]), array([0.65, 0.71, 0.6 , 0.66, 0.41, 0.67, 0.74, 0.23, 0.2 , 0.  , 0.  ,\n",
      "       0.26, 0.  , 0.  , 0.44, 0.61, 0.  , 0.79])]}\n"
     ]
    }
   ],
   "source": [
    "print(skeletons[0])"
   ]
  },
  {
   "cell_type": "code",
   "execution_count": 45,
   "id": "fa50e488-1cf8-4ec7-bdc0-0e05d7515d0f",
   "metadata": {
    "tags": []
   },
   "outputs": [
    {
     "name": "stdout",
     "output_type": "stream",
     "text": [
      "done\n"
     ]
    }
   ],
   "source": [
    "### extracting skel 1\n",
    "joint = 1\n",
    "thr = 100\n",
    "neigh = NearestNeighbors(n_neighbors=1, algorithm = 'brute', metric='euclidean')\n",
    "new_skeleton1 = []\n",
    "main_kpt = 1\n",
    "fallback = 0\n",
    "frame_no = []\n",
    "for i, frm in zip(range(len(skeletons)), frames): \n",
    "    if check_missing(skeletons[i])==True: ### checks if the joint was detected in all the skeletons\n",
    "        continue\n",
    "    elif new_skeleton1 == []:\n",
    "        new_skeleton1.append(skeletons[i]['skeleton1'])\n",
    "        skeletons[i].pop('skeleton1')\n",
    "        frame_no.append(frm)\n",
    "    elif len(skeletons[i])==1:\n",
    "        dist = nearest_neighbour(new_skeleton1[-1], skeletons[i])\n",
    "        #print(dist[0][0][0], frm)\n",
    "        if dist[0][0][0] < thr:\n",
    "            new_skeleton1.append(list(skeletons[i].values())[0])\n",
    "            frame_no.append(frm)\n",
    "            skeletons[i].pop(list(skeletons[i].keys())[0])\n",
    "        else:\n",
    "            continue                  \n",
    "    elif len(skeletons[i])==2:\n",
    "        dist = nearest_neighbour(new_skeleton1[-1], skeletons[i])\n",
    "        distance_1 = dist[0][0][0]; distance_2 = dist[1][0][0]\n",
    "        if distance_1 < distance_2 and distance_1< thr:\n",
    "            new_skeleton1.append(skeletons[i]['skeleton1'])\n",
    "            frame_no.append(frm)\n",
    "            skeletons[i].pop('skeleton1') \n",
    "        elif distance_1 > distance_2 and distance_2<thr:\n",
    "            new_skeleton1.append(skeletons[i]['skeleton2'])\n",
    "            frame_no.append(frm)\n",
    "            skeletons[i].pop('skeleton2')  \n",
    "        else:\n",
    "            continue\n",
    "    elif len(skeletons[i])==3:\n",
    "        dist = nearest_neighbour(new_skeleton1[-1], skeletons[i])\n",
    "        distance_1 = dist[0][0][0]; distance_2 = dist[1][0][0]; distance_3 = dist[2][0][0]\n",
    "        if distance_1 < distance_2 < distance_3 and distance_1 < thr:\n",
    "            new_skeleton1.append(skeletons[i]['skeleton1'])\n",
    "            frame_no.append(frm)\n",
    "            skeletons[i].pop('skeleton1')  \n",
    "        elif distance_2 < distance_1 < distance_3 and distance_2 < thr:\n",
    "            new_skeleton1.append(skeletons[i]['skeleton2'])\n",
    "            frame_no.append(frm)\n",
    "            skeletons[i].pop('skeleton2')\n",
    "        elif distance_3 < distance_1 < distance_2 and distance_3 < thr:\n",
    "            new_skeleton1.append(skeletons[i]['skeleton3'])\n",
    "            frame_no.append(frm)\n",
    "            skeletons[i].pop('skeleton3')\n",
    "        else:\n",
    "            continue\n",
    "for skeleton, f_no in zip(new_skeleton1, frame_no):\n",
    "    out = pd.DataFrame(np.transpose(skeleton),  columns=['x', 'y', 'p'])\n",
    "    filepath = Path('/Users/andreibirladeanu/Documents/Data/1053_meal_openpose/' +'skel1/' +str(f_no) +'.csv')\n",
    "    filepath.parent.mkdir(parents=True, exist_ok=True)  \n",
    "    out.to_csv(filepath)\n",
    "\n",
    "print('done')\n",
    "    "
   ]
  },
  {
   "cell_type": "code",
   "execution_count": 181,
   "id": "c0f9d7d3-847d-4cb2-8506-b8e1f520806d",
   "metadata": {},
   "outputs": [
    {
     "data": {
      "text/plain": [
       "'skeleton2'"
      ]
     },
     "execution_count": 181,
     "metadata": {},
     "output_type": "execute_result"
    }
   ],
   "source": [
    "list(skeletons[20].keys())[0]\n"
   ]
  },
  {
   "cell_type": "code",
   "execution_count": 46,
   "id": "f437f017-ee1b-4a09-b3ae-6bec52f25043",
   "metadata": {},
   "outputs": [],
   "source": [
    "### second pass skeleton2:\n",
    "neigh = NearestNeighbors(n_neighbors=1, algorithm = 'brute', metric='euclidean')\n",
    "new_skeleton2 = []\n",
    "frame_no = []\n",
    "for i, frm in zip(range(len(skeletons)), frames): \n",
    "    if skeletons[i] == {}:\n",
    "        continue\n",
    "    elif check_missing(skeletons[i])==True: ### checks if the joint was detected in all the skeletons\n",
    "        continue\n",
    "    elif new_skeleton2 == []:\n",
    "        new_skeleton2.append(list(skeletons[i].values())[0])\n",
    "        skeletons[i].pop(list(skeletons[i].keys())[0])\n",
    "        frame_no.append(frm)\n",
    "    elif len(skeletons[i])==1:\n",
    "        dist = nearest_neighbour(new_skeleton1[-1], skeletons[i])\n",
    "        distance = dist[0][0][0]\n",
    "        if distance < thr:\n",
    "            new_skeleton2.append(list(skeletons[i].values())[0])\n",
    "            frame_no.append(frm)\n",
    "            skeletons[i].pop(list(skeletons[i].keys())[0])\n",
    "        else:\n",
    "            continue                  \n",
    "    elif len(skeletons[i]) ==2:\n",
    "        dist = nearest_neighbour(new_skeleton1[-1], skeletons[i])\n",
    "        distance_1 = dist[0][0][0]; distance_2 = dist[1][0][0]\n",
    "        if distance_1 < distance_2 and distance_1< thr:\n",
    "            new_skeleton2.append(list(skeletons[i].values())[0])\n",
    "            frame_no.append(frm)\n",
    "            skeletons[i].pop(list(skeletons[i].keys())[0])\n",
    "        elif distance_1 > distance_2 and distance_2<thr:\n",
    "            new_skeleton2.append(list(skeletons[i].values())[1])\n",
    "            frame_no.append(frm)\n",
    "            skeletons[i].pop(list(skeletons[i].keys())[1])\n",
    "        else:\n",
    "            continue\n",
    "for skeleton, f_no in zip(new_skeleton2, frame_no):\n",
    "    out = pd.DataFrame(np.transpose(skeleton),  columns=['x', 'y', 'p'])\n",
    "    filepath = Path('/Users/andreibirladeanu/Documents/Data/1053_meal_openpose/' +'skel2/' +str(f_no) +'.csv')\n",
    "    filepath.parent.mkdir(parents=True, exist_ok=True)  \n",
    "    out.to_csv(filepath)"
   ]
  },
  {
   "cell_type": "code",
   "execution_count": 47,
   "id": "f304bcbf-ef92-41cb-a538-2925180df1b5",
   "metadata": {},
   "outputs": [],
   "source": [
    "#### third pass\n",
    "new_skeleton3 = []\n",
    "frame_no = []\n",
    "for i, frm in zip(range(len(skeletons)), frames): \n",
    "    if skeletons[i] == {}:\n",
    "        continue\n",
    "    elif check_missing(skeletons[i])==True: ### checks if the joint was detected in all the skeletons\n",
    "        continue\n",
    "    if len(skeletons[i]) != {}:\n",
    "        new_skeleton3.append(list(skeletons[i].items())[0][1])\n",
    "        frame_no.append(frm)\n",
    "for skeleton, f_no in zip(new_skeleton3, frame_no):\n",
    "    out = pd.DataFrame(np.transpose(skeleton),  columns=['x', 'y', 'p'])\n",
    "    filepath = Path('/Users/andreibirladeanu/Documents/Data/1053_meal_openpose/' +'skel3/' +str(f_no) +'.csv')\n",
    "    filepath.parent.mkdir(parents=True, exist_ok=True)  \n",
    "    out.to_csv(filepath)\n"
   ]
  },
  {
   "cell_type": "code",
   "execution_count": null,
   "id": "0fc11571-0cb6-485f-ac5d-a70bf55f4fe8",
   "metadata": {
    "tags": []
   },
   "outputs": [],
   "source": [
    "print('a')"
   ]
  },
  {
   "cell_type": "code",
   "execution_count": 188,
   "id": "70a370a7-7ab2-4f6f-b795-5cf9f9d91ea9",
   "metadata": {},
   "outputs": [],
   "source": []
  },
  {
   "cell_type": "code",
   "execution_count": 119,
   "id": "0cc1941c-4559-4c38-87b9-1cd5d55fe732",
   "metadata": {},
   "outputs": [
    {
     "data": {
      "text/plain": [
       "array([109.44, 144.  , 120.96, 172.8 , 236.16, 161.28, 259.2 , 288.  ,\n",
       "       259.2 ,   0.  ,   0.  , 276.48,   0.  ,   0.  , 103.68, 103.68,\n",
       "         0.  , 109.44])"
      ]
     },
     "execution_count": 119,
     "metadata": {},
     "output_type": "execute_result"
    }
   ],
   "source": [
    "skeletons[1]['skeleton1'][1]"
   ]
  },
  {
   "cell_type": "code",
   "execution_count": 69,
   "id": "8d34e5ea-6cdc-4dcf-bc9e-00a82f1c5abe",
   "metadata": {},
   "outputs": [],
   "source": []
  },
  {
   "cell_type": "code",
   "execution_count": 73,
   "id": "f21836ac-1dd5-49db-a336-741ad4dda2b2",
   "metadata": {},
   "outputs": [
    {
     "data": {
      "text/plain": [
       "False"
      ]
     },
     "execution_count": 73,
     "metadata": {},
     "output_type": "execute_result"
    }
   ],
   "source": [
    "check_missing(skeletons[20])"
   ]
  },
  {
   "cell_type": "code",
   "execution_count": 72,
   "id": "0cddb3cf-6657-4662-b955-07ac48201dfc",
   "metadata": {},
   "outputs": [
    {
     "data": {
      "text/plain": [
       "True"
      ]
     },
     "execution_count": 72,
     "metadata": {},
     "output_type": "execute_result"
    }
   ],
   "source": [
    "check_missing(skeletons[20]) == False"
   ]
  },
  {
   "cell_type": "code",
   "execution_count": 54,
   "id": "54227ab3-7f87-448b-b1fb-fca467d90bc3",
   "metadata": {},
   "outputs": [
    {
     "name": "stdout",
     "output_type": "stream",
     "text": [
      "False\n",
      "False\n"
     ]
    }
   ],
   "source": [
    "for key,value in skeletons[20].items():\n",
    "    if value[0][0] !=0:\n",
    "        print (False)\n",
    "    else:\n",
    "        print(True)"
   ]
  },
  {
   "cell_type": "code",
   "execution_count": null,
   "id": "734c785a-4660-4dcf-ac48-f09864e47cf2",
   "metadata": {},
   "outputs": [],
   "source": [
    "dist, nn =  neigh.kneighbors(skeletons[20].items()"
   ]
  },
  {
   "cell_type": "code",
   "execution_count": null,
   "id": "2e3c0139-005a-469e-b5a6-28cc27c8a6e6",
   "metadata": {},
   "outputs": [],
   "source": []
  },
  {
   "cell_type": "code",
   "execution_count": 39,
   "id": "fe5a92a5-d396-436b-bff7-75d92b65fcb9",
   "metadata": {},
   "outputs": [
    {
     "data": {
      "text/plain": [
       "{'skeleton1': [array([476.16, 499.2 , 453.12, 407.04, 422.4 , 545.28, 545.28, 476.16,\n",
       "         437.76,   0.  ,   0.  , 514.56, 460.8 ,   0.  , 476.16, 491.52,\n",
       "           0.  , 522.24]),\n",
       "  array([132.48, 155.52, 144.  , 230.4 , 282.24, 172.8 , 264.96, 299.52,\n",
       "         288.  ,   0.  ,   0.  , 299.52, 374.4 ,   0.  , 120.96, 126.72,\n",
       "           0.  , 126.72]),\n",
       "  array([0.31, 0.68, 0.64, 0.72, 0.37, 0.66, 0.71, 0.54, 0.17, 0.  , 0.  ,\n",
       "         0.32, 0.19, 0.  , 0.22, 0.37, 0.  , 0.6 ])],\n",
       " 'skeleton2': [array([391.68, 445.44,   0.  ,   0.  ,   0.  , 445.44, 391.68, 322.56,\n",
       "           0.  ,   0.  ,   0.  ,   0.  ,   0.  ,   0.  ,   0.  , 407.04,\n",
       "           0.  , 437.76]),\n",
       "  array([357.12, 362.88,   0.  ,   0.  ,   0.  , 385.92, 432.  , 420.48,\n",
       "           0.  ,   0.  ,   0.  ,   0.  ,   0.  ,   0.  ,   0.  , 339.84,\n",
       "           0.  , 339.84]),\n",
       "  array([0.15, 0.15, 0.  , 0.  , 0.  , 0.35, 0.66, 0.62, 0.  , 0.  , 0.  ,\n",
       "         0.  , 0.  , 0.  , 0.  , 0.18, 0.  , 0.51])]}"
      ]
     },
     "execution_count": 39,
     "metadata": {},
     "output_type": "execute_result"
    }
   ],
   "source": [
    "skeletons[20]"
   ]
  },
  {
   "cell_type": "code",
   "execution_count": null,
   "id": "a6b32681-cb2b-4e14-adc1-584955ded386",
   "metadata": {},
   "outputs": [],
   "source": []
  }
 ],
 "metadata": {
  "kernelspec": {
   "display_name": "Python 3 (ipykernel)",
   "language": "python",
   "name": "python3"
  },
  "language_info": {
   "codemirror_mode": {
    "name": "ipython",
    "version": 3
   },
   "file_extension": ".py",
   "mimetype": "text/x-python",
   "name": "python",
   "nbconvert_exporter": "python",
   "pygments_lexer": "ipython3",
   "version": "3.7.6"
  }
 },
 "nbformat": 4,
 "nbformat_minor": 5
}
