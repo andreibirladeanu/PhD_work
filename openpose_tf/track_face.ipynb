{
 "cells": [
  {
   "cell_type": "code",
   "execution_count": 3,
   "id": "59e252a1-ac04-41f9-88c4-7cd5400bf844",
   "metadata": {},
   "outputs": [],
   "source": [
    "import os\n",
    "from tqdm import tqdm\n",
    "import pandas as pd\n",
    "import sys\n",
    "import time\n",
    "import logging\n",
    "import numpy as np\n",
    "import matplotlib.pyplot as plt\n",
    "import cv2\n",
    "import re\n",
    "from sklearn.neighbors import NearestNeighbors\n",
    "from pathlib import Path "
   ]
  },
  {
   "cell_type": "code",
   "execution_count": 4,
   "id": "dd1ed55c-33ca-44c8-a628-85a718971834",
   "metadata": {},
   "outputs": [],
   "source": [
    "def sorted_alphanumeric(data):\n",
    "    convert = lambda text: int(text) if text.isdigit() else text.lower()\n",
    "    alphanum_key = lambda key: [ convert(c) for c in re.split('([0-9]+)', key) ] \n",
    "    return sorted(data, key=alphanum_key)"
   ]
  },
  {
   "cell_type": "code",
   "execution_count": 5,
   "id": "bc714669-29ef-484e-9f9d-bff81a0cc427",
   "metadata": {},
   "outputs": [],
   "source": [
    "def find_min_round(array):\n",
    "    array = np.array(array)\n",
    "    x = round(np.min(array[np.nonzero(array)]))\n",
    "    return(x)\n",
    "\n",
    "def find_max_round(array):\n",
    "    array = np.array(array)\n",
    "    x = round(np.max(array))\n",
    "    return(x)"
   ]
  },
  {
   "cell_type": "code",
   "execution_count": 6,
   "id": "56e465e9-526d-4177-ad42-1c3c86fec487",
   "metadata": {},
   "outputs": [],
   "source": [
    "def filtering(skeletons):\n",
    "    \"\"\"if value is missing or low proba then it returns True\"\"\"\n",
    "    temp_list = []\n",
    "    for key,value in skeletons.items():\n",
    "        x_coord = value[0][1]\n",
    "        proba = value[2][1]\n",
    "        if x_coord ==0 or proba<0.4:\n",
    "            temp_list.append(True)\n",
    "        else:\n",
    "            temp_list.append(False)\n",
    "    return(np.any(temp_list))"
   ]
  },
  {
   "cell_type": "code",
   "execution_count": 7,
   "id": "c41f979d-edbf-4a68-aa85-54e7b772fefa",
   "metadata": {},
   "outputs": [],
   "source": [
    "def nearest_neighbour(new_skeleton, various_skeletons):\n",
    "    joint=1\n",
    "    neigh.fit([[new_skeleton[-1][0][joint],  new_skeleton[-1][1][joint]]])\n",
    "    if len(various_skeletons) ==1:\n",
    "        dist, nn = neigh.kneighbors([[list(various_skeletons.values())[0][0][joint], list(various_skeletons.values())[0][1][joint]]], \n",
    "                                        return_distance = True)\n",
    "        return([dist])\n",
    "    elif len(various_skeletons)==2:\n",
    "        dist1, nn = neigh.kneighbors([[list(various_skeletons.values())[0][0][joint], list(various_skeletons.values())[0][1][joint]]], \n",
    "                                        return_distance = True)\n",
    "        dist2, nn = neigh.kneighbors([[list(various_skeletons.values())[1][0][joint], list(various_skeletons.values())[1][1][joint]]], \n",
    "                                        return_distance = True)\n",
    "        return([dist1, dist2])\n",
    "    elif len(various_skeletons) ==3:\n",
    "        dist1, nn = neigh.kneighbors([[list(various_skeletons.values())[0][0][joint], list(various_skeletons.values())[0][1][joint]]], \n",
    "                                        return_distance = True)\n",
    "        dist2, nn = neigh.kneighbors([[list(various_skeletons.values())[1][0][joint], list(various_skeletons.values())[1][1][joint]]], \n",
    "                                        return_distance = True)\n",
    "        dist3, nn = neigh.kneighbors([[list(various_skeletons.values())[2][0][joint], list(various_skeletons.values())[2][1][joint]]], \n",
    "                                        return_distance = True)\n",
    "        return([dist1,dist2,dist3])"
   ]
  },
  {
   "cell_type": "code",
   "execution_count": 8,
   "id": "d6439a52-59f3-42b6-a0b1-141076a7bb6f",
   "metadata": {},
   "outputs": [],
   "source": [
    "def max_proba(skeleton):\n",
    "    prob_list = []\n",
    "    keys = list(skeleton.keys())\n",
    "    values = list(skeleton.values())\n",
    "    if len(skeleton) ==1:\n",
    "        return(keys[0],values[0])\n",
    "    elif len(skeleton) ==2:\n",
    "        for key in skeleton.keys():\n",
    "            prob_list.append(np.mean(skeleton[key][2]))\n",
    "        return(keys[np.argmax(prob_list)],values[np.argmax(prob_list)])\n",
    "           \n",
    "    elif len(skeleton) ==3:\n",
    "        for key in skeleton.keys():\n",
    "            prob_list.append(np.mean(skeleton[key][2]))\n",
    "        return(keys[np.argmax(prob_list)],values[np.argmax(prob_list)])\n",
    "    \n",
    "    "
   ]
  },
  {
   "cell_type": "code",
   "execution_count": 141,
   "id": "f48d2424-f886-49ac-b41d-b67bef059e78",
   "metadata": {},
   "outputs": [
    {
     "data": {
      "text/plain": [
       "False"
      ]
     },
     "execution_count": 141,
     "metadata": {},
     "output_type": "execute_result"
    }
   ],
   "source": [
    "skeletons[74]['skeleton2'][0][0] ==0"
   ]
  },
  {
   "cell_type": "code",
   "execution_count": 148,
   "id": "e71a8cc5-724a-466d-929b-77cf17909339",
   "metadata": {},
   "outputs": [
    {
     "data": {
      "text/plain": [
       "array([0.66, 0.68, 0.67, 0.46, 0.45, 0.62, 0.36, 0.18, 0.38, 0.26, 0.41,\n",
       "       0.21, 0.2 , 0.18, 0.68, 0.69, 0.22, 0.84])"
      ]
     },
     "execution_count": 148,
     "metadata": {},
     "output_type": "execute_result"
    }
   ],
   "source": [
    "list(skeletons[74].values())[0][2]"
   ]
  },
  {
   "cell_type": "code",
   "execution_count": 143,
   "id": "f73c9683-8413-4ac9-a7b5-d4287753cb5a",
   "metadata": {
    "tags": []
   },
   "outputs": [
    {
     "data": {
      "text/plain": [
       "0.07"
      ]
     },
     "execution_count": 143,
     "metadata": {},
     "output_type": "execute_result"
    }
   ],
   "source": [
    "np.mean(skeletons[74]['skeleton2'][2])"
   ]
  },
  {
   "cell_type": "code",
   "execution_count": 18,
   "id": "32af9ed5-337a-4843-8747-4f1c4c0b9aa1",
   "metadata": {},
   "outputs": [],
   "source": [
    "openpose_path = '/Users/andreibirladeanu/Documents/Data/meal_openpose/1047_meal/'"
   ]
  },
  {
   "cell_type": "code",
   "execution_count": 19,
   "id": "8af8983c-1673-478a-b436-b85e59f03796",
   "metadata": {
    "tags": []
   },
   "outputs": [],
   "source": [
    "coords = [file for file in sorted_alphanumeric(os.listdir(openpose_path)) if file[0] !=\".\"]\n"
   ]
  },
  {
   "cell_type": "code",
   "execution_count": 41,
   "id": "659db94f-faee-455d-aa68-71fe05820c57",
   "metadata": {},
   "outputs": [],
   "source": [
    "skeletons = []\n",
    "frames = []\n",
    "for frame in coords:\n",
    "    data = pd.read_csv(openpose_path + frame)\n",
    "    data = data.fillna(0)\n",
    "    if (len(data.columns)-1)/3 == 1:\n",
    "        skeletons.append({'skeleton1':[np.array(data['x_1']), np.array(data['y_1']), np.array(data['prob_1'])]})\n",
    "        frames.append(int(str(frame.split('.')[0]).split(\"_\")[1]))\n",
    "    elif (len(data.columns)-1)/3 == 2:\n",
    "        skeletons.append({'skeleton1':[np.array(data['x_1']), np.array(data['y_1']),  np.array(data['prob_1'])],'skeleton2':[np.array(data['x_2']), np.array(data['y_2']),\n",
    "                                                                                                                         np.array(data['prob_2'])]})\n",
    "        frames.append(int(str(frame.split('.')[0]).split(\"_\")[1]))\n",
    "    elif (len(data.columns)-1)/3 == 3:\n",
    "        skeletons.append({'skeleton1':[np.array(data['x_1']), np.array(data['y_1']),  np.array(data['prob_1'])],'skeleton2':[np.array(data['x_2']), np.array(data['y_2']),\n",
    "                         np.array(data['prob_2'])],\n",
    "                      'skeleton3':[np.array(data['x_3']), np.array(data['y_3']),  np.array(data['prob_3'])]}) \n",
    "        frames.append(int(str(frame.split('.')[0]).split(\"_\")[1]))"
   ]
  },
  {
   "cell_type": "code",
   "execution_count": 21,
   "id": "f7fe55e3-919b-4ea7-86cc-6729f5cd4d38",
   "metadata": {},
   "outputs": [
    {
     "data": {
      "text/plain": [
       "{'skeleton1': [array([445.44, 483.84, 437.76, 407.04, 368.64, 522.24, 522.24, 399.36,\n",
       "         460.8 , 353.28,   0.  , 529.92,   0.  ,   0.  , 437.76, 460.8 ,\n",
       "           0.  , 491.52]),\n",
       "  array([213.12, 213.12, 190.08, 253.44, 288.  , 230.4 , 299.52, 293.76,\n",
       "         276.48, 311.04,   0.  , 293.76,   0.  ,   0.  , 195.84, 207.36,\n",
       "           0.  , 195.84]),\n",
       "  array([0.71, 0.62, 0.6 , 0.65, 0.64, 0.55, 0.27, 0.11, 0.26, 0.13, 0.  ,\n",
       "         0.14, 0.  , 0.  , 0.39, 0.7 , 0.  , 0.7 ])]}"
      ]
     },
     "execution_count": 21,
     "metadata": {},
     "output_type": "execute_result"
    }
   ],
   "source": [
    "for "
   ]
  },
  {
   "cell_type": "code",
   "execution_count": 238,
   "id": "fa50e488-1cf8-4ec7-bdc0-0e05d7515d0f",
   "metadata": {
    "tags": []
   },
   "outputs": [
    {
     "name": "stdout",
     "output_type": "stream",
     "text": [
      "done\n"
     ]
    }
   ],
   "source": [
    "### extracting skel 1\n",
    "joint = 1\n",
    "thr = 150\n",
    "neigh = NearestNeighbors(n_neighbors=1, algorithm = 'brute', metric='euclidean')\n",
    "new_skeleton1 = []\n",
    "frame_no = []\n",
    "for i, frm in zip(range(len(skeletons)), frames): \n",
    "    if filtering(skeletons[i])==True: ### checks if the joint was detected in all the skeletons and probability is high\n",
    "        continue\n",
    "    elif new_skeleton1 == []:\n",
    "        new_skeleton1.append(max_proba(skeletons[i])[1]\n",
    "        skeletons[i].pop((max_proba(skeletons[i])[0])\n",
    "        frame_no.append(frm)\n",
    "    elif len(skeletons[i])==1:\n",
    "        dist = nearest_neighbour(new_skeleton1, skeletons[i])\n",
    "        if dist[0][0][0] < thr:\n",
    "            new_skeleton1.append(list(skeletons[i].values())[0])\n",
    "            frame_no.append(frm)\n",
    "            skeletons[i].pop(list(skeletons[i].keys())[0])\n",
    "        else:\n",
    "            continue                  \n",
    "    elif len(skeletons[i])==2:\n",
    "        dist = nearest_neighbour(new_skeleton1, skeletons[i])\n",
    "        distance_1 = dist[0][0][0]; distance_2 = dist[1][0][0]\n",
    "        if distance_1 < distance_2 and distance_1< thr:\n",
    "            new_skeleton1.append(skeletons[i]['skeleton1'])\n",
    "            frame_no.append(frm)\n",
    "            skeletons[i].pop('skeleton1') \n",
    "        elif distance_1 > distance_2 and distance_2<thr:\n",
    "            new_skeleton1.append(skeletons[i]['skeleton2'])\n",
    "            frame_no.append(frm)\n",
    "            skeletons[i].pop('skeleton2')  \n",
    "        else:\n",
    "            continue\n",
    "    elif len(skeletons[i])==3:\n",
    "        dist = nearest_neighbour(new_skeleton1, skeletons[i])\n",
    "        distance_1 = dist[0][0][0]; distance_2 = dist[1][0][0]; distance_3 = dist[2][0][0]\n",
    "        if distance_1 < distance_2 < distance_3 and distance_1 < thr:\n",
    "            new_skeleton1.append(skeletons[i]['skeleton1'])\n",
    "            frame_no.append(frm)\n",
    "            skeletons[i].pop('skeleton1')  \n",
    "        elif distance_2 < distance_1 < distance_3 and distance_2 < thr:\n",
    "            new_skeleton1.append(skeletons[i]['skeleton2'])\n",
    "            frame_no.append(frm)\n",
    "            skeletons[i].pop('skeleton2')\n",
    "        elif distance_3 < distance_1 < distance_2 and distance_3 < thr:\n",
    "            new_skeleton1.append(skeletons[i]['skeleton3'])\n",
    "            frame_no.append(frm)\n",
    "            skeletons[i].pop('skeleton3')\n",
    "        else:\n",
    "            continue\n",
    "for skeleton, f_no in zip(new_skeleton1, frame_no):\n",
    "    out = pd.DataFrame(np.transpose(skeleton),  columns=['x', 'y', 'p'])\n",
    "    filepath = Path('/Users/andreibirladeanu/Documents/Data/1047_meal_openpose/' +'skel1/' +str(f_no) +'.csv')\n",
    "    filepath.parent.mkdir(parents=True, exist_ok=True)  \n",
    "    out.to_csv(filepath)\n",
    "\n",
    "print('done')\n",
    "    "
   ]
  },
  {
   "cell_type": "code",
   "execution_count": 239,
   "id": "f437f017-ee1b-4a09-b3ae-6bec52f25043",
   "metadata": {
    "tags": []
   },
   "outputs": [],
   "source": [
    "### second pass skeleton2:\n",
    "thr = 80\n",
    "neigh = NearestNeighbors(n_neighbors=1, algorithm = 'brute', metric='euclidean')\n",
    "new_skeleton2 = []\n",
    "frame_no = []\n",
    "for i, frm in zip(range(len(skeletons)), frames): \n",
    "    if skeletons[i] == {}:\n",
    "        continue\n",
    "    elif filtering(skeletons[i])==True: ### checks if the joint was detected in all the skeletons\n",
    "        continue\n",
    "    elif new_skeleton2 == []:\n",
    "        new_skeleton2.append(list(skeletons[i].values())[0])\n",
    "        skeletons[i].pop(list(skeletons[i].keys())[0])\n",
    "        frame_no.append(frm)\n",
    "    elif len(skeletons[i])==1:\n",
    "        dist = nearest_neighbour(new_skeleton2, skeletons[i])\n",
    "        distance = dist[0][0][0]\n",
    "        if distance < thr:\n",
    "            new_skeleton2.append(list(skeletons[i].values())[0])\n",
    "            frame_no.append(frm)\n",
    "            skeletons[i].pop(list(skeletons[i].keys())[0])\n",
    "        else:\n",
    "            continue                  \n",
    "    elif len(skeletons[i]) ==2:\n",
    "        dist = nearest_neighbour(new_skeleton2, skeletons[i])\n",
    "        distance_1 = dist[0][0][0]; distance_2 = dist[1][0][0]\n",
    "        if distance_1 < distance_2 and distance_1< thr:\n",
    "            new_skeleton2.append(list(skeletons[i].values())[0])\n",
    "            frame_no.append(frm)\n",
    "            skeletons[i].pop(list(skeletons[i].keys())[0])\n",
    "        elif distance_1 > distance_2 and distance_2<thr:\n",
    "            new_skeleton2.append(list(skeletons[i].values())[1])\n",
    "            frame_no.append(frm)\n",
    "            skeletons[i].pop(list(skeletons[i].keys())[1])\n",
    "        else:\n",
    "            continue\n",
    "for skeleton, f_no in zip(new_skeleton2, frame_no):\n",
    "    out = pd.DataFrame(np.transpose(skeleton),  columns=['x', 'y', 'p'])\n",
    "    filepath = Path('/Users/andreibirladeanu/Documents/Data/1047_meal_openpose/' +'skel2/' +str(f_no) +'.csv')\n",
    "    filepath.parent.mkdir(parents=True, exist_ok=True)  \n",
    "    out.to_csv(filepath)"
   ]
  },
  {
   "cell_type": "code",
   "execution_count": null,
   "id": "15f24cbb-5c17-4ce2-bca3-ab12caf9760f",
   "metadata": {},
   "outputs": [],
   "source": [
    "skeletons[0]"
   ]
  },
  {
   "cell_type": "code",
   "execution_count": 117,
   "id": "587826ca-d291-455d-83c7-411f734fd35b",
   "metadata": {},
   "outputs": [
    {
     "name": "stdout",
     "output_type": "stream",
     "text": [
      "[[0.]]\n"
     ]
    }
   ],
   "source": [
    "neigh.fit([[5, 10]])\n",
    "dist, nn = neigh.kneighbors([[5,10]])\n",
    "print(dist)"
   ]
  },
  {
   "cell_type": "code",
   "execution_count": 240,
   "id": "f304bcbf-ef92-41cb-a538-2925180df1b5",
   "metadata": {},
   "outputs": [],
   "source": [
    "#### third pass\n",
    "new_skeleton3 = []\n",
    "frame_no = []\n",
    "for i, frm in zip(range(len(skeletons)), frames): \n",
    "    if skeletons[i] == {}:\n",
    "        continue\n",
    "    elif check_missing(skeletons[i])==True: ### checks if the joint was detected in all the skeletons\n",
    "        continue\n",
    "    if len(skeletons[i]) != {}:\n",
    "        new_skeleton3.append(list(skeletons[i].items())[0][1])\n",
    "        frame_no.append(frm)\n",
    "for skeleton, f_no in zip(new_skeleton3, frame_no):\n",
    "    out = pd.DataFrame(np.transpose(skeleton),  columns=['x', 'y', 'p'])\n",
    "    filepath = Path('/Users/andreibirladeanu/Documents/Data/1047_meal_openpose/' +'skel3/' +str(f_no) +'.csv')\n",
    "    filepath.parent.mkdir(parents=True, exist_ok=True)  \n",
    "    out.to_csv(filepath)\n"
   ]
  },
  {
   "cell_type": "code",
   "execution_count": null,
   "id": "0fc11571-0cb6-485f-ac5d-a70bf55f4fe8",
   "metadata": {
    "tags": []
   },
   "outputs": [],
   "source": [
    "print('a')"
   ]
  },
  {
   "cell_type": "code",
   "execution_count": 188,
   "id": "70a370a7-7ab2-4f6f-b795-5cf9f9d91ea9",
   "metadata": {},
   "outputs": [],
   "source": []
  },
  {
   "cell_type": "code",
   "execution_count": 119,
   "id": "0cc1941c-4559-4c38-87b9-1cd5d55fe732",
   "metadata": {},
   "outputs": [
    {
     "data": {
      "text/plain": [
       "array([109.44, 144.  , 120.96, 172.8 , 236.16, 161.28, 259.2 , 288.  ,\n",
       "       259.2 ,   0.  ,   0.  , 276.48,   0.  ,   0.  , 103.68, 103.68,\n",
       "         0.  , 109.44])"
      ]
     },
     "execution_count": 119,
     "metadata": {},
     "output_type": "execute_result"
    }
   ],
   "source": [
    "skeletons[1]['skeleton1'][1]"
   ]
  },
  {
   "cell_type": "code",
   "execution_count": 69,
   "id": "8d34e5ea-6cdc-4dcf-bc9e-00a82f1c5abe",
   "metadata": {},
   "outputs": [],
   "source": []
  },
  {
   "cell_type": "code",
   "execution_count": 73,
   "id": "f21836ac-1dd5-49db-a336-741ad4dda2b2",
   "metadata": {},
   "outputs": [
    {
     "data": {
      "text/plain": [
       "False"
      ]
     },
     "execution_count": 73,
     "metadata": {},
     "output_type": "execute_result"
    }
   ],
   "source": [
    "check_missing(skeletons[20])"
   ]
  },
  {
   "cell_type": "code",
   "execution_count": null,
   "id": "0eb88955-32f0-4dbd-91c9-6dd4685cf819",
   "metadata": {},
   "outputs": [],
   "source": [
    "######### sample 5 videos"
   ]
  },
  {
   "cell_type": "code",
   "execution_count": 25,
   "id": "7d5cc507-b8c4-4854-a19a-5c99e4a5ad89",
   "metadata": {},
   "outputs": [],
   "source": [
    "video_path = '/Users/andreibirladeanu/Documents/Data/meal_videos/'\n",
    "videos = [x for x in sorted_alphanumeric(os.listdir(video_path)) if x[0]!='.']"
   ]
  },
  {
   "cell_type": "code",
   "execution_count": 26,
   "id": "e13698d7-6be6-4766-9c93-3f007903729c",
   "metadata": {},
   "outputs": [],
   "source": [
    "openpose_path = '/Users/andreibirladeanu/Documents/Data/meal_openpose/'\n",
    "coords = [x for x in sorted_alphanumeric(os.listdir(openpose_path)) if x[0]!='.']"
   ]
  },
  {
   "cell_type": "code",
   "execution_count": 27,
   "id": "9b21ea99-fe29-4efc-95b2-3c1d0842e302",
   "metadata": {
    "collapsed": true,
    "jupyter": {
     "outputs_hidden": true
    },
    "tags": []
   },
   "outputs": [
    {
     "data": {
      "text/plain": [
       "['1043_meal',\n",
       " '1047_meal',\n",
       " '1049_meal',\n",
       " '1049_meal_1',\n",
       " '1053_meal',\n",
       " '1059_meal',\n",
       " '1059_meal_1',\n",
       " '1062_meal',\n",
       " '1069_meal',\n",
       " '1073_meal',\n",
       " '1073_meal_1',\n",
       " '1079_meal',\n",
       " '1079_meal_1',\n",
       " '1080_meal',\n",
       " '1082_meal',\n",
       " '1082_meal_1',\n",
       " '1089_meal',\n",
       " '1089_meal_1',\n",
       " '1089_meal_2',\n",
       " '1091_meal',\n",
       " '1092_meal',\n",
       " '1093_meal',\n",
       " '1096_meal',\n",
       " '1096_meal_1',\n",
       " '1097_meal',\n",
       " '1098_meal',\n",
       " '1098_meal_1',\n",
       " '1099_meal',\n",
       " '1104_meal',\n",
       " '1104_meal_1',\n",
       " '1105_meal',\n",
       " '1107_meal',\n",
       " '1108_meal',\n",
       " '1108_meal_1',\n",
       " '1108_meal_2',\n",
       " '1112_meal',\n",
       " '1112_meal_1',\n",
       " '1112_meal_2',\n",
       " '1117_meal',\n",
       " '1118_meal',\n",
       " '1118_meal_1',\n",
       " '1122_meal',\n",
       " '1124_meal',\n",
       " '1125_meal',\n",
       " '1129_meal',\n",
       " '1130_meal',\n",
       " '1131_meal',\n",
       " '1132_meal',\n",
       " '1148_meal',\n",
       " '1161_meal',\n",
       " '1161_meal_1',\n",
       " '1170_meal',\n",
       " '1180_meal',\n",
       " '1181_meal',\n",
       " '1184_meal',\n",
       " '1186_meal',\n",
       " '1190_meal',\n",
       " '1190_meal_1',\n",
       " '1195_meal',\n",
       " '1195_meal_1',\n",
       " '1206_meal',\n",
       " '1206_meal_1',\n",
       " '1210_meal',\n",
       " '1217_meal',\n",
       " '1217_meal_1',\n",
       " '1230_meal',\n",
       " '1234_meal',\n",
       " '1241_meal',\n",
       " '1245_meal',\n",
       " '1246_meal',\n",
       " '1250_meal',\n",
       " '1263_meal',\n",
       " '1264_meal',\n",
       " '1282_meal',\n",
       " '2009_meal',\n",
       " '2025_meal',\n",
       " '2025_meal_1',\n",
       " '2027_meal']"
      ]
     },
     "execution_count": 27,
     "metadata": {},
     "output_type": "execute_result"
    }
   ],
   "source": [
    "coords"
   ]
  },
  {
   "cell_type": "code",
   "execution_count": 30,
   "id": "89c10ee8-57ce-4156-a15b-22e9f5d97287",
   "metadata": {
    "tags": []
   },
   "outputs": [
    {
     "name": "stderr",
     "output_type": "stream",
     "text": [
      "100%|█████████████████████████████████████████| 78/78 [1:21:21<00:00, 62.58s/it]\n"
     ]
    }
   ],
   "source": [
    "for coord in tqdm(coords):\n",
    "    new_path = openpose_path+coord\n",
    "    os.chdir(new_path)\n",
    "    skeletons = []\n",
    "    frames = []\n",
    "    for frame in  sorted_alphanumeric(os.listdir(new_path))[1:]:\n",
    "        data = pd.read_csv(openpose_path + coord+'/'+frame)\n",
    "        data = data.fillna(0)\n",
    "        if (len(data.columns)-1)/3 == 1:\n",
    "            skeletons.append({'skeleton1':[np.array(data['x_1']), np.array(data['y_1']), np.array(data['prob_1'])]})\n",
    "            frames.append(int(str(frame.split('.')[0]).split(\"_\")[1]))\n",
    "        elif (len(data.columns)-1)/3 == 2:\n",
    "            skeletons.append({'skeleton1':[np.array(data['x_1']), np.array(data['y_1']),  np.array(data['prob_1'])],'skeleton2':[np.array(data['x_2']), np.array(data['y_2']),\n",
    "                                                                                                                             np.array(data['prob_2'])]})\n",
    "            frames.append(int(str(frame.split('.')[0]).split(\"_\")[1]))\n",
    "        elif (len(data.columns)-1)/3 == 3:\n",
    "            skeletons.append({'skeleton1':[np.array(data['x_1']), np.array(data['y_1']),  np.array(data['prob_1'])],'skeleton2':[np.array(data['x_2']), np.array(data['y_2']),\n",
    "                             np.array(data['prob_2'])],\n",
    "                          'skeleton3':[np.array(data['x_3']), np.array(data['y_3']),  np.array(data['prob_3'])]}) \n",
    "            frames.append(int(str(frame.split('.')[0]).split(\"_\")[1]))\n",
    "    ### first pass \n",
    "    ### extracting skel 1\n",
    "    joint = 1\n",
    "    thr = 150\n",
    "    neigh = NearestNeighbors(n_neighbors=1, algorithm = 'brute', metric='euclidean')\n",
    "    new_skeleton1 = []\n",
    "    frame_no = []\n",
    "    for i, frm in zip(range(len(skeletons)), frames): \n",
    "        if filtering(skeletons[i])==True: ### checks if the joint was detected in all the skeletons and probability is high\n",
    "            continue\n",
    "        elif new_skeleton1 == []:\n",
    "            new_skeleton1.append(max_proba(skeletons[i])[1])\n",
    "            skeletons[i].pop(max_proba(skeletons[i])[0])\n",
    "            frame_no.append(frm)\n",
    "        elif len(skeletons[i])==1:\n",
    "            dist = nearest_neighbour(new_skeleton1, skeletons[i])\n",
    "            if dist[0][0][0] < thr:\n",
    "                new_skeleton1.append(list(skeletons[i].values())[0])\n",
    "                frame_no.append(frm)\n",
    "                skeletons[i].pop(list(skeletons[i].keys())[0])\n",
    "            else:\n",
    "                continue                  \n",
    "        elif len(skeletons[i])==2:\n",
    "            dist = nearest_neighbour(new_skeleton1, skeletons[i])\n",
    "            distance_1 = dist[0][0][0]; distance_2 = dist[1][0][0]\n",
    "            if distance_1 < distance_2 and distance_1< thr:\n",
    "                new_skeleton1.append(list(skeletons[i].values())[0])\n",
    "                frame_no.append(frm)\n",
    "                skeletons[i].pop(list(skeletons[i].keys())[0])\n",
    "            elif distance_1 > distance_2 and distance_2<thr:\n",
    "                new_skeleton1.append(list(skeletons[i].values())[1])\n",
    "                frame_no.append(frm)\n",
    "                skeletons[i].pop(list(skeletons[i].keys())[1])\n",
    "            else:\n",
    "                continue\n",
    "        elif len(skeletons[i])==3:\n",
    "            dist = nearest_neighbour(new_skeleton1, skeletons[i])\n",
    "            distance_1 = dist[0][0][0]; distance_2 = dist[1][0][0]; distance_3 = dist[2][0][0]\n",
    "            if distance_1 < distance_2 < distance_3 and distance_1 < thr:\n",
    "                new_skeleton1.append(list(skeletons[i].values())[0])\n",
    "                frame_no.append(frm)\n",
    "                skeletons[i].pop(list(skeletons[i].keys())[0]) \n",
    "            elif distance_2 < distance_1 < distance_3 and distance_2 < thr:\n",
    "                new_skeleton1.append(list(skeletons[i].values())[1])\n",
    "                frame_no.append(frm)\n",
    "                skeletons[i].pop(list(skeletons[i].keys())[1])\n",
    "            elif distance_3 < distance_1 < distance_2 and distance_3 < thr:\n",
    "                new_skeleton1.append(list(skeletons[i].values())[2])\n",
    "                frame_no.append(frm)\n",
    "                skeletons[i].pop(list(skeletons[i].keys())[2])\n",
    "            else:\n",
    "                continue\n",
    "    for skeleton, f_no in zip(new_skeleton1, frame_no):\n",
    "        out = pd.DataFrame(np.transpose(skeleton),  columns=['x', 'y', 'p'])\n",
    "        filepath = Path('/Users/andreibirladeanu/Documents/Data/meal_tracked/'+coord +'/skel1/' +str(f_no) +'.csv')\n",
    "        filepath.parent.mkdir(parents=True, exist_ok=True)  \n",
    "        out.to_csv(filepath)\n",
    "\n",
    "        \n",
    "    ### second pass\n",
    "    thr = 80\n",
    "    neigh = NearestNeighbors(n_neighbors=1, algorithm = 'brute', metric='euclidean')\n",
    "    new_skeleton2 = []\n",
    "    frame_no = []\n",
    "    for i, frm in zip(range(len(skeletons)), frames): \n",
    "        if skeletons[i] == {}:\n",
    "            continue\n",
    "        elif filtering(skeletons[i])==True: ### checks if the joint was detected in all the skeletons\n",
    "            continue\n",
    "        elif new_skeleton2 == []:\n",
    "            new_skeleton2.append(list(skeletons[i].values())[0])\n",
    "            skeletons[i].pop(list(skeletons[i].keys())[0])\n",
    "            frame_no.append(frm)\n",
    "        elif len(skeletons[i])==1:\n",
    "            dist = nearest_neighbour(new_skeleton2, skeletons[i])\n",
    "            distance = dist[0][0][0]\n",
    "            if distance < thr:\n",
    "                new_skeleton2.append(list(skeletons[i].values())[0])\n",
    "                frame_no.append(frm)\n",
    "                skeletons[i].pop(list(skeletons[i].keys())[0])\n",
    "            else:\n",
    "                continue                  \n",
    "        elif len(skeletons[i]) ==2:\n",
    "            dist = nearest_neighbour(new_skeleton2, skeletons[i])\n",
    "            distance_1 = dist[0][0][0]; distance_2 = dist[1][0][0]\n",
    "            if distance_1 < distance_2 and distance_1< thr:\n",
    "                new_skeleton2.append(list(skeletons[i].values())[0])\n",
    "                frame_no.append(frm)\n",
    "                skeletons[i].pop(list(skeletons[i].keys())[0])\n",
    "            elif distance_1 > distance_2 and distance_2<thr:\n",
    "                new_skeleton2.append(list(skeletons[i].values())[1])\n",
    "                frame_no.append(frm)\n",
    "                skeletons[i].pop(list(skeletons[i].keys())[1])\n",
    "            else:\n",
    "                continue\n",
    "    for skeleton, f_no in zip(new_skeleton2, frame_no):\n",
    "        out = pd.DataFrame(np.transpose(skeleton),  columns=['x', 'y', 'p'])\n",
    "        filepath = Path('/Users/andreibirladeanu/Documents/Data/meal_tracked/'+coord +'/skel2/' +str(f_no) +'.csv')\n",
    "        filepath.parent.mkdir(parents=True, exist_ok=True)  \n",
    "        out.to_csv(filepath)\n",
    "        \n",
    "        \n",
    "    ### third pass \n",
    "    new_skeleton3 = []\n",
    "    frame_no = []\n",
    "    for i, frm in zip(range(len(skeletons)), frames): \n",
    "        if skeletons[i] == {}:\n",
    "            continue\n",
    "        elif filtering(skeletons[i])==True: ### checks if the joint was detected in all the skeletons\n",
    "            continue\n",
    "        if len(skeletons[i]) != {}:\n",
    "            head = list(skeletons[i].values())[0][0][0]\n",
    "            avg_prob = np.mean(list(skeletons[i].values())[0][2])\n",
    "        ### if the head is missing and overall probabilities less than 50%\n",
    "            if head ==0 and avg_prob <0.5:\n",
    "                continue\n",
    "            else:\n",
    "                new_skeleton3.append(list(skeletons[i].items())[0][1])\n",
    "                frame_no.append(frm)\n",
    "    for skeleton, f_no in zip(new_skeleton3, frame_no):\n",
    "        out = pd.DataFrame(np.transpose(skeleton),  columns=['x', 'y', 'p'])\n",
    "        filepath = Path('/Users/andreibirladeanu/Documents/Data/meal_tracked/'+coord+ '/skel3/' +str(f_no) +'.csv')\n",
    "        filepath.parent.mkdir(parents=True, exist_ok=True)  \n",
    "        out.to_csv(filepath)"
   ]
  },
  {
   "cell_type": "code",
   "execution_count": null,
   "id": "a71bf2db-77e1-4f31-8ffe-612bff818faa",
   "metadata": {},
   "outputs": [],
   "source": []
  },
  {
   "cell_type": "code",
   "execution_count": 307,
   "id": "2e3c0139-005a-469e-b5a6-28cc27c8a6e6",
   "metadata": {},
   "outputs": [],
   "source": [
    "import random\n",
    "path_tracked = '/Users/andreibirladeanu/Documents/Data/experimenting/tracked/'\n",
    "tracked = [x for x in sorted_alphanumeric(os.listdir(path_tracked)) if x[0]!='.']\n",
    "path_video = '/Users/andreibirladeanu/Documents/Data/experimenting/videos/'\n",
    "skeleton = []\n",
    "skel = '/skel1/'\n",
    "skeletons = []\n",
    "for pose, video in zip(tracked, coords):\n",
    "    temp_list = []\n",
    "    for skelet in random.sample(sorted_alphanumeric(os.listdir(path_tracked+ pose+skel)), k=100):\n",
    "            temp_list.append(skelet)\n",
    "    skeletons.append(temp_list)"
   ]
  },
  {
   "cell_type": "code",
   "execution_count": 308,
   "id": "fe5a92a5-d396-436b-bff7-75d92b65fcb9",
   "metadata": {
    "tags": []
   },
   "outputs": [],
   "source": [
    "for skelet, video in zip(skeletons, videos):\n",
    "    cap = cv2.VideoCapture(path_video+video)\n",
    "    new_folder = '/Users/andreibirladeanu/Documents/Data/experimenting/visualize/'+ video.split(\".\")[0]+skel\n",
    "    os.makedirs(new_folder, exist_ok = True)\n",
    "    os.chdir(new_folder)\n",
    "    for frame in skelet:\n",
    "        data = pd.read_csv(path_tracked + video.split(\".\")[0] + skel + frame)\n",
    "        cap.set(1,int(frame.split('.')[0]))\n",
    "        ret, image = cap.read()\n",
    "        cv2.imwrite(\"frame\" + str(frame.split('.')[0]) + '.png', image[find_min_round(data['y']):find_max_round(data['y']),\n",
    "                       find_min_round(data['x']):find_max_round(data['x'])])\n"
   ]
  },
  {
   "cell_type": "code",
   "execution_count": 297,
   "id": "1c792370-12e9-4b94-957d-eee7f3cdf863",
   "metadata": {},
   "outputs": [
    {
     "data": {
      "text/plain": [
       "'/Users/andreibirladeanu/Documents/Data/visualize/1097_meal/skel1/'"
      ]
     },
     "execution_count": 297,
     "metadata": {},
     "output_type": "execute_result"
    }
   ],
   "source": [
    "new_folder"
   ]
  },
  {
   "cell_type": "code",
   "execution_count": null,
   "id": "fd9a6a26-39aa-486f-9682-341c57f533c8",
   "metadata": {},
   "outputs": [],
   "source": []
  }
 ],
 "metadata": {
  "kernelspec": {
   "display_name": "Python 3 (ipykernel)",
   "language": "python",
   "name": "python3"
  },
  "language_info": {
   "codemirror_mode": {
    "name": "ipython",
    "version": 3
   },
   "file_extension": ".py",
   "mimetype": "text/x-python",
   "name": "python",
   "nbconvert_exporter": "python",
   "pygments_lexer": "ipython3",
   "version": "3.7.6"
  }
 },
 "nbformat": 4,
 "nbformat_minor": 5
}
