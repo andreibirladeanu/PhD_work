{
 "cells": [
  {
   "cell_type": "code",
   "execution_count": null,
   "id": "25e836a4-000a-4a47-86e5-e69de6ae8bdd",
   "metadata": {},
   "outputs": [],
   "source": [
    "import os\n",
    "from tqdm import tqdm\n",
    "import pandas as pd\n",
    "import sys\n",
    "import time\n",
    "import logging\n",
    "import numpy as np\n",
    "import matplotlib.pyplot as plt\n",
    "import cv2\n",
    "import re"
   ]
  },
  {
   "cell_type": "code",
   "execution_count": null,
   "id": "7cccb50a-e336-468b-96cf-80dc8fa17948",
   "metadata": {},
   "outputs": [],
   "source": [
    "def sorted_alphanumeric(data):\n",
    "    convert = lambda text: int(text) if text.isdigit() else text.lower()\n",
    "    alphanum_key = lambda key: [ convert(c) for c in re.split('([0-9]+)', key) ] \n",
    "    return sorted(data, key=alphanum_key)"
   ]
  },
  {
   "cell_type": "code",
   "execution_count": null,
   "id": "ec12e7e7-9eb5-4cc2-a6a5-8667ddea23c4",
   "metadata": {},
   "outputs": [],
   "source": [
    "openpose_path = '/Users/andrei-macpro/Documents/Data/1042_meal/'"
   ]
  },
  {
   "cell_type": "code",
   "execution_count": null,
   "id": "0d5a301c-56f3-466c-8dcc-2a45d9d97bb4",
   "metadata": {},
   "outputs": [],
   "source": [
    "poses = [x for x in sorted_alphanumeric(os.listdir(openpose_path))]\n",
    "#poses = [int(x.split('.')[0].split(\"_\")[1]) for x in poses]"
   ]
  },
  {
   "cell_type": "code",
   "execution_count": null,
   "id": "a57f628e-946e-4c6f-86d7-b177543dbafd",
   "metadata": {},
   "outputs": [],
   "source": [
    "human_no = []\n",
    "for frame in sorted_alphanumeric(os.listdir(openpose_path)):\n",
    "    data = pd.read_csv(openpose_path + frame)\n",
    "       # print(len(data.columns)-1)\n",
    "    human_no.append((len(data.columns)-1)/3)\n",
    "human_no"
   ]
  },
  {
   "cell_type": "code",
   "execution_count": null,
   "id": "4810db1e-2e0b-4489-bfef-32981b6c6aee",
   "metadata": {},
   "outputs": [],
   "source": [
    "## frames\n",
    "def return_frames(video_path):\n",
    "    cap = cv2.VideoCapture(video_path)\n",
    "    frames = []\n",
    "    count = 0\n",
    "    while(cap.isOpened()):\n",
    "            ret_val, image = cap.read()\n",
    "            if ret_val == False:\n",
    "                break\n",
    "            frames.append(image)\n",
    "            count = count+1\n",
    "    return (frames)\n",
    "frames = return_frames('/Users/andrei-macpro/Documents/Data/videoss/1042_meal.mp4')"
   ]
  },
  {
   "cell_type": "code",
   "execution_count": null,
   "id": "b814406f-d180-4299-bc90-7f606a5ae5b5",
   "metadata": {},
   "outputs": [],
   "source": [
    "frames"
   ]
  },
  {
   "cell_type": "code",
   "execution_count": null,
   "id": "be4d18ce-31ef-4dae-8fbe-791385f19494",
   "metadata": {},
   "outputs": [],
   "source": [
    "storage = [] ## store 10 frames\n",
    "counter = 0\n",
    "skeletons = []\n",
    "for frame in sorted_alphanumeric(os.listdir(openpose_path)):\n",
    "    data = pd.read_csv(openpose_path + frame)\n",
    "    if (len(data.columns)-1)/3 == 1:\n",
    "        skeletons.append({'skeleton1':[np.array(data['x_1']), np.array(data['y_1'])]})\n",
    "    elif (len(data.columns)-1)/3 == 2:\n",
    "        skeletons.append({'skeleton1':[np.array(data['x_1']), np.array(data['y_1'])],'skeleton2':[np.array(data['x_2']), np.array(data['y_2'])]})\n"
   ]
  },
  {
   "cell_type": "code",
   "execution_count": null,
   "id": "a7f034ac-a952-47d3-bc73-802db7837887",
   "metadata": {},
   "outputs": [],
   "source": [
    "len(skeletons)"
   ]
  },
  {
   "cell_type": "code",
   "execution_count": null,
   "id": "c6510491-3c9c-41f5-85dc-0b21d83a4973",
   "metadata": {},
   "outputs": [],
   "source": [
    "type(skeletons[0]['skeleton1'][0][1]), skeletons[0]['skeleton1'][1][1]"
   ]
  },
  {
   "cell_type": "code",
   "execution_count": null,
   "id": "d9c6e97d-948a-4240-9934-e0960860976b",
   "metadata": {},
   "outputs": [],
   "source": [
    "skeletons[0]['skeleton1']"
   ]
  },
  {
   "cell_type": "code",
   "execution_count": null,
   "id": "5e01598b-0042-4170-a05d-c5b528e50d36",
   "metadata": {},
   "outputs": [],
   "source": [
    "from sklearn.neighbors import NearestNeighbors\n",
    "neigh = NearestNeighbors(n_neighbors=1, algorithm = 'brute', metric='euclidean')\n",
    "new_skeleton1 = []\n",
    "new_skeleton2 = []\n",
    "hooman1 = []\n",
    "counter=0\n",
    "hooman2_frames = []\n",
    "for i in range(len(skeletons)): \n",
    "\n",
    "    if i == 0 and len(skeletons[i])==1:   # we start in the case where only one skeleton is available\n",
    "        new_skeleton1.append(skeletons[i]['skeleton1'])\n",
    "        continue\n",
    "    if i==0 and len(skeletons[i])==2: ## if both skeletons are available \n",
    "        new_skeleton1.append(skeletons[i]['skeleton1'])\n",
    "        new_skeleton2.append(skeletons[i]['skeleton2'])\n",
    "        hooman2_frames.append(i)\n",
    "        continue\n",
    "    if len(skeletons[i])==1 and len(skeletons[i-1])==1:\n",
    "        neigh.fit([[new_skeleton1[-1][0][1],  new_skeleton1[-1][1][1]]])\n",
    "        dist, nn = neigh.kneighbors([[skeletons[i]['skeleton1'][0][1],  skeletons[i]['skeleton1'][1][1]]], \n",
    "                                    return_distance = True)\n",
    "        if dist[0][0] < 10:\n",
    "            new_skeleton1.append(skeletons[i]['skeleton1'])\n",
    "\n",
    "\n",
    "    if len(skeletons[i])==2 and len(skeletons[i-1])==1:\n",
    "        neigh.fit([[new_skeleton1[-1][0][1], new_skeleton1[-1][1][1]]])\n",
    "        dist_1, nn_1 = neigh.kneighbors([[skeletons[i]['skeleton1'][0][1],  skeletons[i]['skeleton1'][1][1]]], \n",
    "                                    return_distance = True)\n",
    "        dist_2, nn_2 =  neigh.kneighbors([[skeletons[i]['skeleton2'][0][1],  skeletons[i]['skeleton2'][1][1]]], \n",
    "                                    return_distance = True)\n",
    "\n",
    "        if dist_1 < dist_2 and dist_1 <10:\n",
    "            new_skeleton1.append(skeletons[i]['skeleton1'])\n",
    "            new_skeleton2.append(skeletons[i]['skeleton2'])\n",
    "            hooman2_frames.append(i)\n",
    "        elif dist_2 < dist_1 and dist_2 <10:\n",
    "            new_skeleton1.append(skeletons[i]['skeleton2'])\n",
    "            new_skeleton2.append(skeletons[i]['skeleton1'])\n",
    "            hooman2_frames.append(i)\n",
    "\n",
    "\n",
    "\n",
    "    if len(skeletons[i])==1 and len(skeletons[i-1])==2:\n",
    "        neigh.fit([[new_skeleton1[-1][0][1], new_skeleton1[-1][1][1]], \n",
    "                [new_skeleton2[-1][0][1], new_skeleton2[-1][1][1]]])\n",
    "        dist, nn = neigh.kneighbors([[skeletons[i]['skeleton1'][0][1],  skeletons[i]['skeleton1'][1][1]]], \n",
    "                                    return_distance = True)\n",
    "        if nn[0][0] ==0 and dist[0][0] < 10:\n",
    "            new_skeleton1.append(skeletons[i]['skeleton1'])\n",
    "        elif nn[0][0] ==1 and dist[0][0] < 10:\n",
    "            new_skeleton2.append(skeletons[i]['skeleton1'])\n",
    "\n",
    "\n",
    "    if len(skeletons[i])==2 and len(skeletons[i-1])==2:\n",
    "        neigh.fit([[new_skeleton1[-1][0][1], new_skeleton1[-1][1][1]], \n",
    "                [new_skeleton2[-1][0][1], new_skeleton2[-1][1][1]]])\n",
    "    \n",
    "        \n",
    "        dist_1, nn_1 = neigh.kneighbors([[skeletons[i]['skeleton1'][0][1],  skeletons[i]['skeleton1'][1][1]]], \n",
    "                                    n_neighbors=1, return_distance = True)\n",
    "      #  if i==26:\n",
    "       #     print([[new_skeleton1[-1][0][1], new_skeleton1[-1][1][1]]], \n",
    "        #        [[new_skeleton2[-1][0][1], new_skeleton2[-1][1][1]]])\n",
    "         #   print([[skeletons[i]['skeleton1'][0][1],  skeletons[i]['skeleton1'][1][1]]])\n",
    "          #  print(dist_1, nn_1)\n",
    "        \n",
    "        dist_2, nn_2 = neigh.kneighbors([[skeletons[i]['skeleton2'][0][1],  skeletons[i]['skeleton2'][1][1]]], \n",
    "                                    return_distance = True)\n",
    "     #   \n",
    "      #      print(dist_1, nn_1, dist_2, nn_2)\n",
    "       #     print(new_skeleton1[-1], new_skeleton2[-1])\n",
    "            \n",
    "\n",
    "\n",
    "        if nn_1[0][0] == 0 and dist_1[0][0] < 15:\n",
    "            new_skeleton1.append(skeletons[i]['skeleton1'])\n",
    "            if dist_2[0][0] <15: ## making sure the other person hasn't suddenly switched to something/someone else\n",
    "                new_skeleton2.append(skeletons[i]['skeleton2'])\n",
    "                hooman2_frames.append(i)\n",
    "        elif nn_1[0][0] == 1 and dist_1[0][0] < 15:\n",
    "            new_skeleton2.append(skeletons[i]['skeleton1'])\n",
    "            if dist_2[0][0] <15:\n",
    "                new_skeleton1.append(skeletons[i]['skeleton2'])\n",
    "                hooman2_frames.append(i)\n",
    "        else:\n",
    "            print(\"2 and 2\", i)\n",
    "\n",
    "    counter +=1\n",
    "\n",
    "   # print(counter)\n",
    "    hooman1.append(frames[i][round(np.nanmin(new_skeleton1[i][1])):round(np.nanmax(new_skeleton1[i][1])),\n",
    "                        round(np.nanmin(new_skeleton1[i][0])):round(np.nanmax(new_skeleton1[i][0]))])\n",
    "\n",
    "   # hooman2.append(frames[i][round(np.nanmin(new_skeleton2[i][1])):round(np.nanmax(new_skeleton2[i][1])),\n",
    "    #                    round(np.nanmin(new_skeleton2[i][0])):round(np.nanmax(new_skeleton2[i][0]))])\n",
    "            \n",
    "\n",
    "        "
   ]
  },
  {
   "cell_type": "code",
   "execution_count": null,
   "id": "73af17f7-c392-4f54-b9e9-6e58d97cd3f5",
   "metadata": {},
   "outputs": [],
   "source": [
    "for hooman in hooman1:\n",
    "    cv2.imshow('human1', hooman)\n",
    "    cv2.waitKey(0) "
   ]
  },
  {
   "cell_type": "code",
   "execution_count": null,
   "id": "cddf9181-07a6-479b-8b62-0bd9ce2b1aa6",
   "metadata": {},
   "outputs": [],
   "source": [
    "hooman2=[]\n",
    "for ind, skel in zip(hooman2_frames, new_skeleton2):\n",
    "    hooman2.append(frames[ind][round(np.nanmin(skel[1])):round(np.nanmax(skel[1])),\n",
    "                        round(np.nanmin(skel[0])):round(np.nanmax(skel[0]))])"
   ]
  },
  {
   "cell_type": "code",
   "execution_count": null,
   "id": "fd85bcea-e3c3-4d14-aa1b-9048ab241c37",
   "metadata": {},
   "outputs": [],
   "source": [
    "for hooman in hooman2:\n",
    "    cv2.imshow('human2', hooman)\n",
    "    cv2.waitKey(0) "
   ]
  },
  {
   "cell_type": "code",
   "execution_count": null,
   "id": "f2bc0c7a-7c3c-4526-b533-1bd1b2c3f9d2",
   "metadata": {},
   "outputs": [],
   "source": [
    "len(frames)"
   ]
  },
  {
   "cell_type": "code",
   "execution_count": null,
   "id": "b51f9951-b7c4-49f8-a146-fd82adfd556d",
   "metadata": {},
   "outputs": [],
   "source": [
    "skeletons[25], skeletons[26]"
   ]
  }
 ],
 "metadata": {
  "kernelspec": {
   "display_name": "Python 3 (ipykernel)",
   "language": "python",
   "name": "python3"
  },
  "language_info": {
   "codemirror_mode": {
    "name": "ipython",
    "version": 3
   },
   "file_extension": ".py",
   "mimetype": "text/x-python",
   "name": "python",
   "nbconvert_exporter": "python",
   "pygments_lexer": "ipython3",
   "version": "3.7.6"
  }
 },
 "nbformat": 4,
 "nbformat_minor": 5
}
