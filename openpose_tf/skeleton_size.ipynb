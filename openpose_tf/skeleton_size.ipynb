{
 "cells": [
  {
   "cell_type": "code",
   "execution_count": null,
   "id": "6632bdd2-0f55-4b5e-83f8-3b65e43d963e",
   "metadata": {},
   "outputs": [],
   "source": [
    "import os\n",
    "from tqdm import tqdm\n",
    "import pandas as pd\n",
    "import sys\n",
    "import time\n",
    "import logging\n",
    "import numpy as np\n",
    "import matplotlib.pyplot as plt\n",
    "import cv2\n",
    "import math\n"
   ]
  },
  {
   "cell_type": "code",
   "execution_count": null,
   "id": "a50ae2ce-c47f-4213-9d9b-b6a84585c9c5",
   "metadata": {},
   "outputs": [],
   "source": [
    "import re\n",
    "def sorted_alphanumeric(data):\n",
    "    convert = lambda text: int(text) if text.isdigit() else text.lower()\n",
    "    alphanum_key = lambda key: [ convert(c) for c in re.split('([0-9]+)', key) ] \n",
    "    return sorted(data, key=alphanum_key)"
   ]
  },
  {
   "cell_type": "code",
   "execution_count": null,
   "id": "6babf4d0-da9a-4980-b48c-103d5402da0f",
   "metadata": {},
   "outputs": [],
   "source": [
    "video_path = '/Users/andrei-macpro/Documents/Data/videos/1059_meal.mp4'"
   ]
  },
  {
   "cell_type": "code",
   "execution_count": null,
   "id": "9acf7693-a157-4387-b53a-efda901cdbbf",
   "metadata": {},
   "outputs": [],
   "source": [
    "openpose_path = '/Users/andrei-macpro/Documents/Data/openpose_output/1059_meal/'"
   ]
  },
  {
   "cell_type": "code",
   "execution_count": null,
   "id": "154bcc79-f446-46bc-93f2-ee4bd49d6d29",
   "metadata": {},
   "outputs": [],
   "source": [
    "poses = [x for x in sorted_alphanumeric(os.listdir(openpose_path))]"
   ]
  },
  {
   "cell_type": "code",
   "execution_count": null,
   "id": "cf2618bb-be9b-4330-b175-ce678dea9cd6",
   "metadata": {},
   "outputs": [],
   "source": [
    "poses_frames = [int(x.split('.')[0].split(\"_\")[1]) for x in poses]"
   ]
  },
  {
   "cell_type": "code",
   "execution_count": null,
   "id": "f17e8f58-a816-4f7b-8798-2fd8eb2d0317",
   "metadata": {},
   "outputs": [],
   "source": [
    "cap = cv2.VideoCapture(video_path)\n",
    "frames = []\n",
    "count = 0\n",
    "while(cap.isOpened()):\n",
    "        ret_val, image = cap.read()\n",
    "        if ret_val == False:\n",
    "            break\n",
    "        frames.append(image)\n",
    "        count = count+1"
   ]
  },
  {
   "cell_type": "code",
   "execution_count": null,
   "id": "9256ca88-fd99-4a2c-9bfd-3f8769912d86",
   "metadata": {},
   "outputs": [],
   "source": [
    "for i in range(len(frames)):\n",
    "    if i not in poses_frames and i!=0:\n",
    "        frames.pop(i-1)\n"
   ]
  },
  {
   "cell_type": "code",
   "execution_count": null,
   "id": "6533f304-a165-4be6-b2c2-9cdb30865b8a",
   "metadata": {},
   "outputs": [],
   "source": [
    "len(frames)"
   ]
  },
  {
   "cell_type": "code",
   "execution_count": null,
   "id": "f711207c-bdc5-47f6-8468-a7b88515fcb8",
   "metadata": {},
   "outputs": [],
   "source": [
    "coords = pd.read_csv(openpose_path+pose_frames, index_col=0)"
   ]
  },
  {
   "cell_type": "code",
   "execution_count": null,
   "id": "95afac18-2d0b-4566-8a95-aabba7771077",
   "metadata": {},
   "outputs": [],
   "source": [
    "len(poses_frames)"
   ]
  },
  {
   "cell_type": "code",
   "execution_count": null,
   "id": "5f8eb2e7-b0a3-47b2-9610-27fbf2b2e601",
   "metadata": {},
   "outputs": [],
   "source": [
    "coords.round(0)"
   ]
  },
  {
   "cell_type": "code",
   "execution_count": null,
   "id": "95d7e0c2-e084-4043-8bf4-742710480594",
   "metadata": {},
   "outputs": [],
   "source": [
    "person_1 = (coords['x_1'].max()-coords['x_1'].min()) * (coords['y_1'].max()-coords['y_1'].min())\n",
    "person_2 = (coords['x_2'].max()-coords['x_2'].min()) * (coords['y_2'].max()-coords['y_2'].min())\n",
    "person_3 = (coords['x_3'].max()-coords['x_3'].min()) * (coords['y_3'].max()-coords['y_3'].min())"
   ]
  },
  {
   "cell_type": "code",
   "execution_count": null,
   "id": "04f41727-a318-4ee9-9401-ee2371af297a",
   "metadata": {},
   "outputs": [],
   "source": [
    "person_2\n"
   ]
  },
  {
   "cell_type": "code",
   "execution_count": null,
   "id": "5bd2cae4-cfcc-48d1-b264-3ef37dbca79e",
   "metadata": {},
   "outputs": [],
   "source": [
    "rect = frames[2][int(coords['y_3'].min()):int(coords['y_3'].max()), int(coords['x_3'].min()):int(coords['x_3'].max())]"
   ]
  },
  {
   "cell_type": "code",
   "execution_count": null,
   "id": "b06c0c76-5242-466d-95d3-071ee2726dfb",
   "metadata": {},
   "outputs": [],
   "source": [
    "plt.imshow(rect)"
   ]
  },
  {
   "cell_type": "code",
   "execution_count": null,
   "id": "3a04e2ae-3784-47e2-ab07-76e752c9b782",
   "metadata": {},
   "outputs": [],
   "source": [
    "rect = frame[0][int(coords['y_3'].min()):int(coords['y_3'].max()), int(coords['x_3'].min()):int(coords['x_3'].max())]"
   ]
  },
  {
   "cell_type": "code",
   "execution_count": null,
   "id": "e71074ef-cfad-4a92-9780-25ac35e6b2d0",
   "metadata": {},
   "outputs": [],
   "source": [
    "## right arm length: 2 to 4\n",
    "# euclidean distance: sqrt((x2 -x1)*2 + (y2-y1)*2))\n",
    "\n",
    "person_1 = math.sqrt( (coords.at[1,'x_1'] - coords.at[3,'x_1'])**2 + (coords.at[1,'y_1'] - coords.at[3,'y_1'])**2)\n",
    "\n",
    "person_2 = math.sqrt( (coords.at[1,'x_2'] - coords.at[3,'x_2'])**2 + (coords.at[1,'y_2'] - coords.at[3,'y_2'])**2)\n",
    "\n",
    "person_3 = math.sqrt( (coords.at[1,'x_3'] - coords.at[3,'x_3'])**2 + (coords.at[1,'y_3'] - coords.at[3,'y_3'])**2)\n"
   ]
  },
  {
   "cell_type": "code",
   "execution_count": null,
   "id": "6a6516e6-15de-4882-ab63-22b44d82b910",
   "metadata": {},
   "outputs": [],
   "source": [
    "output_path = '/Users/andrei-macpro/Documents/Data/openpose_output/1059_meal_skeleton/'\n"
   ]
  },
  {
   "cell_type": "code",
   "execution_count": null,
   "id": "fb154af9-7935-4588-9aa0-7570dd0217ab",
   "metadata": {},
   "outputs": [],
   "source": [
    "os.chdir(output_path)\n",
    "missing_values = []\n",
    "count = 0\n",
    "for pose,frame in zip(poses[::100], frames[::100]):\n",
    "    coords = pd.read_csv(openpose_path+pose, index_col=0)\n",
    "    coords = coords.round(0)\n",
    "    if len(coords.columns)/3== 3:\n",
    "        # if missing data in right arm use left arm\n",
    "        if pd.isnull(coords.at[1,'x_1']) == pd.isnull(coords.at[3,'x_1']) == pd.isnull(coords.at[1,'y_1']) == \\\n",
    "        pd.isnull(coords.at[3,'y_1'])== pd.isnull(coords.at[1,'x_2']) == pd.isnull(coords.at[3,'x_2']) == \\\n",
    "        pd.isnull(coords.at[1,'y_2']) == pd.isnull(coords.at[3,'y_2'])== pd.isnull(coords.at[1,'x_3']) == \\\n",
    "        pd.isnull(coords.at[3,'x_3']) == pd.isnull(coords.at[1,'y_3']) == pd.isnull(coords.at[3,'y_3'])== False:\n",
    "            right_1 = math.sqrt( (coords.at[1,'x_1'] - coords.at[3,'x_1'])**2 + (coords.at[1,'y_1'] - coords.at[3,'y_1'])**2)\n",
    "            right_2 = math.sqrt( (coords.at[1,'x_2'] - coords.at[3,'x_2'])**2 + (coords.at[1,'y_2'] - coords.at[3,'y_2'])**2)\n",
    "            right_3 = math.sqrt( (coords.at[1,'x_3'] - coords.at[3,'x_3'])**2 + (coords.at[1,'y_3'] - coords.at[3,'y_3'])**2)\n",
    "            right_hand = np.array([right_1, right_2, right_3])\n",
    "            if np.argmin(right_hand) == 2:\n",
    "                smallest = frame[int(coords['y_3'].min()):int(coords['y_3'].max()), int(coords['x_3'].min()):int(coords['x_3'].max())]\n",
    "                cv2.imwrite(pose.split('.')[0] + '.png', smallest)\n",
    "            elif np.argmin(right_hand) == 1:\n",
    "                smallest = frame[int(coords['y_2'].min()):int(coords['y_2'].max()), int(coords['x_2'].min()):int(coords['x_2'].max())]\n",
    "                cv2.imwrite(pose.split('.')[0] + '.png', smallest)\n",
    "            elif np.argmin(right_hand) == 0:\n",
    "                smallest = frame[int(coords['y_1'].min()):int(coords['y_1'].max()), int(coords['x_1'].min()):int(coords['x_1'].max())]\n",
    "                cv2.imwrite(pose.split('.')[0]+ '.png', smallest)\n",
    "                \n",
    "        elif pd.isnull(coords.at[4,'x_1']) == pd.isnull(coords.at[6,'x_1']) == pd.isnull(coords.at[4,'y_1']) == pd.isnull(coords.at[6,'y_1'])\\\n",
    "        == pd.isnull(coords.at[4,'x_2']) == pd.isnull(coords.at[6,'x_2']) == pd.isnull(coords.at[4,'y_2']) == pd.isnull(coords.at[6,'y_2'])\\\n",
    "        == pd.isnull(coords.at[4,'x_3']) == pd.isnull(coords.at[6,'x_3']) == pd.isnull(coords.at[4,'y_3']) == pd.isnull(coords.at[6,'y_3'])\\\n",
    "        == False:\n",
    "            left_1 = math.sqrt( (coords.at[4,'x_1'] - coords.at[6,'x_1'])**2 + (coords.at[4,'y_1'] - coords.at[6,'y_1'])**2)\n",
    "            left_2 = math.sqrt( (coords.at[4,'x_2'] - coords.at[6,'x_2'])**2 + (coords.at[4,'y_2'] - coords.at[6,'y_2'])**2)\n",
    "            left_3 = math.sqrt( (coords.at[4,'x_3'] - coords.at[6,'x_3'])**2 + (coords.at[4,'y_3'] - coords.at[6,'y_3'])**2)\n",
    "            left_hand = np.array([left_1, left_2, left_3])\n",
    "            if np.argmin(left_hand) == 2:\n",
    "                smallest = frame[int(coords['y_3'].min()):int(coords['y_3'].max()), int(coords['x_3'].min()):int(coords['x_3'].max())]\n",
    "                cv2.imwrite(pose.split('.')[0]+ '.png', smallest)\n",
    "            elif np.argmin(right_hand) == 1:\n",
    "                smallest = frame[int(coords['y_2'].min()):int(coords['y_2'].max()), int(coords['x_2'].min()):int(coords['x_2'].max())]\n",
    "                cv2.imwrite(pose.split('.')[0]+'.png', smallest)\n",
    "            elif np.argmin(right_hand) == 0:\n",
    "                smallest = frame[int(coords['y_1'].min()):int(coords['y_1'].max()), int(coords['x_1'].min()):int(coords['x_1'].max())]\n",
    "                cv2.imwrite(pose.split('.')[0]+ '.png', smallest)\n",
    "        else:\n",
    "            missing_values.append(pose.split('.')[0])\n",
    "            \n",
    "\n",
    "                \n",
    "    "
   ]
  },
  {
   "cell_type": "code",
   "execution_count": null,
   "id": "2fef7458-b84c-46fc-9057-65b3ece62b83",
   "metadata": {},
   "outputs": [],
   "source": [
    "len(missing_values)"
   ]
  },
  {
   "cell_type": "code",
   "execution_count": null,
   "id": "99139df5-2156-48d3-8ca1-9d27e9108ade",
   "metadata": {},
   "outputs": [],
   "source": [
    "plt.imshow(frames[0])"
   ]
  },
  {
   "cell_type": "code",
   "execution_count": null,
   "id": "b6888a29-3b01-49ab-b9f1-e2c0f8f0138b",
   "metadata": {},
   "outputs": [],
   "source": [
    "(coords.at[1,'x_3'] - coords.at[3,'x_3'])*2 + (coords.at[1,'y_3'] - coords.at[3,'y_3'])*2"
   ]
  },
  {
   "cell_type": "code",
   "execution_count": null,
   "id": "6b351ec2-d8ad-4fd0-914b-edacd94a6329",
   "metadata": {},
   "outputs": [],
   "source": [
    "math.sqrt(-96)"
   ]
  },
  {
   "cell_type": "code",
   "execution_count": null,
   "id": "d6d48a96-5c6c-4ec2-ba40-9d560eac50cb",
   "metadata": {},
   "outputs": [],
   "source": [
    "(coords.at[1,'x_3'] - coords.at[3,'x_3'])*2"
   ]
  },
  {
   "cell_type": "code",
   "execution_count": null,
   "id": "121b0ffd-8f75-4fdc-af44-95de61837e62",
   "metadata": {},
   "outputs": [],
   "source": [
    "coords.at[1,'x_3'] - coords.at[3,'x_3']"
   ]
  },
  {
   "cell_type": "code",
   "execution_count": null,
   "id": "af8e3e28-46b5-437e-8139-83493f8ec8dc",
   "metadata": {},
   "outputs": [],
   "source": [
    "np.argmin(np.array([person_1, person_3, person_2]))"
   ]
  },
  {
   "cell_type": "code",
   "execution_count": null,
   "id": "66137655-d262-4f46-9460-0c99d00fabe8",
   "metadata": {},
   "outputs": [],
   "source": [
    "type(coords.at[1,'x_1'], coords.at[3,'x_1'], coords.at[2,'x_1'])"
   ]
  },
  {
   "cell_type": "code",
   "execution_count": null,
   "id": "105314d0-e8dc-49ca-9352-e068844cdcb7",
   "metadata": {},
   "outputs": [],
   "source": [
    "type(coords.round(0).at[1,'x_1'])"
   ]
  },
  {
   "cell_type": "code",
   "execution_count": null,
   "id": "7e7bf3c8-329b-4ad5-a1ff-14dac3e49e4d",
   "metadata": {},
   "outputs": [],
   "source": [
    "coords.at[6,'x_1'] == 'NaN'"
   ]
  },
  {
   "cell_type": "code",
   "execution_count": null,
   "id": "175e1ac1-9f6c-4c3e-8018-4538175c0c3b",
   "metadata": {},
   "outputs": [],
   "source": [
    "coords.at[6,'x_1']"
   ]
  },
  {
   "cell_type": "code",
   "execution_count": null,
   "id": "4e0bbd25-539f-4d7e-b205-245c6459231d",
   "metadata": {},
   "outputs": [],
   "source": [
    "pd.isnull(coords.at[6,'x_1'])"
   ]
  },
  {
   "cell_type": "code",
   "execution_count": null,
   "id": "b71e81d9-5ad8-460f-a7c7-9558e8cfdeca",
   "metadata": {},
   "outputs": [],
   "source": [
    "coords['x_1'].loc[1]"
   ]
  }
 ],
 "metadata": {
  "kernelspec": {
   "display_name": "Python 3 (ipykernel)",
   "language": "python",
   "name": "python3"
  },
  "language_info": {
   "codemirror_mode": {
    "name": "ipython",
    "version": 3
   },
   "file_extension": ".py",
   "mimetype": "text/x-python",
   "name": "python",
   "nbconvert_exporter": "python",
   "pygments_lexer": "ipython3",
   "version": "3.7.6"
  }
 },
 "nbformat": 4,
 "nbformat_minor": 5
}
