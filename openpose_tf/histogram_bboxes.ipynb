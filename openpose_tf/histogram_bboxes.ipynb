{
 "cells": [
  {
   "cell_type": "code",
   "execution_count": null,
   "id": "056aea79-f397-48bf-83d3-a6f8d869e3fb",
   "metadata": {},
   "outputs": [],
   "source": [
    "import os\n",
    "from tqdm import tqdm\n",
    "import pandas as pd\n",
    "import sys\n",
    "import numpy as np\n",
    "import matplotlib.pyplot as plt\n",
    "import cv2\n",
    "import re\n",
    "import shutil\n",
    "from pathlib import Path\n",
    "from sort_alpha import sorted_alpha\n",
    "import random\n",
    "import unidip.dip as dip\n",
    "from sklearn.mixture import GaussianMixture\n",
    "from scipy.spatial import distance"
   ]
  },
  {
   "cell_type": "code",
   "execution_count": null,
   "id": "52ca3c39-33a5-46b7-a073-d26ce7be77a5",
   "metadata": {},
   "outputs": [],
   "source": [
    "def torso_size(data):\n",
    "    neck = [data['x'].loc[1], data['y'].loc[1]]\n",
    "    if neck ==0:\n",
    "        return([0])\n",
    "    hip1 = [data['x'].loc[8], data['y'].loc[8]]\n",
    "    hip2 = [data['x'].loc[11], data['y'].loc[11]]\n",
    "    if hip1[0]>0 and hip2[0]>0:\n",
    "        probabilities = [data['p'].loc[8], data['p'].loc[11]]\n",
    "        max_p = np.argmax(probabilities)\n",
    "        if max_p==0:\n",
    "            torso = distance.euclidean(hip1, neck)\n",
    "        else:\n",
    "            torso = distance.euclidean(hip2, neck)\n",
    "    elif hip1[0]==0:\n",
    "        torso = distance.euclidean(hip2, neck)\n",
    "    else:\n",
    "        torso = distance.euclidean(hip1, neck)\n",
    "    return(torso)"
   ]
  },
  {
   "cell_type": "code",
   "execution_count": null,
   "id": "05dc9a78-c216-4810-a612-bebf645c96ad",
   "metadata": {},
   "outputs": [],
   "source": [
    "path_folders = Path('/Users/andreibirladeanu/Documents/Data/bounding_boxes')\n",
    "folders = sorted_alpha(path_folders)\n"
   ]
  },
  {
   "cell_type": "code",
   "execution_count": null,
   "id": "f838c461-4771-47db-bb2f-760d46bdbcfc",
   "metadata": {},
   "outputs": [],
   "source": [
    "path_openpose = Path('/Users/andreibirladeanu/Documents/Data/meal_tracked_bbox')"
   ]
  },
  {
   "cell_type": "code",
   "execution_count": null,
   "id": "358d4de0-a405-439c-9cc2-bdc65b963dfa",
   "metadata": {},
   "outputs": [],
   "source": [
    "openpose = sorted_alpha(path_openpose)\n"
   ]
  },
  {
   "cell_type": "code",
   "execution_count": null,
   "id": "b44fb5ae-835a-4312-a7db-530ce33fd0e5",
   "metadata": {},
   "outputs": [],
   "source": [
    "openpose"
   ]
  },
  {
   "cell_type": "code",
   "execution_count": null,
   "id": "3c72f3f3-d977-472d-b159-2b1773325ac0",
   "metadata": {},
   "outputs": [],
   "source": [
    "images = []\n",
    "\n",
    "for folder,pose in zip(folders[0:1],openpose[0:1]):\n",
    "    print(folder)\n",
    "    folder_path = Path(os.path.join(path_folders, folder))\n",
    "    list_images = []\n",
    "    skeletons = []\n",
    "    for skel in sorted_alpha(os.path.join(path_folders,folder)):\n",
    "        skeletons.append(skel)\n",
    "        if len(skeletons)>1:\n",
    "            continue\n",
    "        for bbox in sorted_alpha(Path(os.path.join(folder_path,skeletons[0]))):\n",
    "            bboxes = sorted_alpha(Path(os.path.join(folder_path,sorted_alpha(folder_path)[0])))\n",
    "            image = cv2.imread(os.path.join(folder_path,sorted_alpha(folder_path)[0],bbox))\n",
    "            \n",
    "            torso = pd.read_csv(os.path.join(path_openpose, pose, skel, bbox.split(\".\")[0]+'.csv'))\n",
    "            mean = np.mean(image,axis=2, dtype=np.float32)\n",
    "            list_images.append(np.mean([np.mean(mean),torso_size(torso)]))\n",
    "    images.append(list_images)                          "
   ]
  },
  {
   "cell_type": "code",
   "execution_count": null,
   "id": "e671ee9b-a3a2-4e98-9256-eb6ec5a24827",
   "metadata": {},
   "outputs": [],
   "source": [
    "print('success')"
   ]
  },
  {
   "cell_type": "code",
   "execution_count": null,
   "id": "0e3d0d23-cc93-4f3e-b949-08ba43871296",
   "metadata": {},
   "outputs": [],
   "source": [
    "path_boxes = '/Users/andreibirladeanu/Documents/Data/bounding_boxes/1043_meal/skel1'\n",
    "boxes = [x for x in sorted_alpha(path_boxes)]\n",
    "boxes = [cv2.imread(path_boxes + x) for x in boxes]"
   ]
  },
  {
   "cell_type": "code",
   "execution_count": null,
   "id": "7e0e0d0d-e4a4-4eca-b90c-3c7911a3fcd3",
   "metadata": {},
   "outputs": [],
   "source": [
    "boxes = [np.mean(box,dtype=np.float32, axis=2) for box in boxes]\n",
    "for_hist =  np.array([[np.mean(x)] for x in boxes])\n",
    "for_dip =  np.array([np.mean(x) for x in boxes])"
   ]
  },
  {
   "cell_type": "code",
   "execution_count": null,
   "id": "b155de15-2e47-47e5-8901-d06dedc4dcba",
   "metadata": {},
   "outputs": [],
   "source": [
    "### check 1053 and 1069 i.e. images[4] against 1132 [images[47]]"
   ]
  },
  {
   "cell_type": "code",
   "execution_count": null,
   "id": "d12d43d9-5904-44d5-bf51-c45fdc481e18",
   "metadata": {},
   "outputs": [],
   "source": [
    "plt.hist(images[4])"
   ]
  },
  {
   "cell_type": "code",
   "execution_count": null,
   "id": "2f6570cd-25bc-42c5-9227-89d3a6d6d530",
   "metadata": {},
   "outputs": [],
   "source": [
    "plt.hist(images[-1])"
   ]
  },
  {
   "cell_type": "code",
   "execution_count": null,
   "id": "2754c96f-9952-4ffb-b863-cf1110ad6ba6",
   "metadata": {},
   "outputs": [],
   "source": [
    "for_hist =  np.array([[x] for x in images[-2]])\n",
    "gm = GaussianMixture(n_components=2, random_state=0).fit(for_hist)"
   ]
  },
  {
   "cell_type": "code",
   "execution_count": null,
   "id": "d3521614-fdd4-4066-9e28-b4fcfebfe680",
   "metadata": {},
   "outputs": [],
   "source": [
    "labels = gm.predict(for_hist) \n",
    "labels"
   ]
  },
  {
   "cell_type": "code",
   "execution_count": null,
   "id": "fd808d66-5e1e-445d-b130-beb000ef0f39",
   "metadata": {},
   "outputs": [],
   "source": [
    "gm.means_"
   ]
  },
  {
   "cell_type": "code",
   "execution_count": null,
   "id": "949c654b-7b67-45ed-8a61-54290123faa6",
   "metadata": {},
   "outputs": [],
   "source": [
    "plt.hist(images[-2])"
   ]
  },
  {
   "cell_type": "code",
   "execution_count": null,
   "id": "21cde002-47c5-44d9-9685-2bcc0a4774d3",
   "metadata": {},
   "outputs": [],
   "source": [
    "len(np.where(labels==1)[0]), len(np.where(labels==0)[0])"
   ]
  },
  {
   "cell_type": "code",
   "execution_count": null,
   "id": "45cb564f-cc9c-4787-82c9-66c67fc2ea07",
   "metadata": {},
   "outputs": [],
   "source": [
    "data = np.msort(images[4])\n",
    "print(dip.diptst(data))"
   ]
  },
  {
   "cell_type": "code",
   "execution_count": null,
   "id": "46e582ce-4086-4956-b6b1-295ea1a55158",
   "metadata": {},
   "outputs": [],
   "source": [
    "data = np.msort(images[8])\n",
    "print(dip.diptst(data))"
   ]
  },
  {
   "cell_type": "code",
   "execution_count": null,
   "id": "f2424bcd-f248-40e4-b3f0-22309f163ea6",
   "metadata": {},
   "outputs": [],
   "source": [
    "dip = UniDip()"
   ]
  },
  {
   "cell_type": "code",
   "execution_count": null,
   "id": "3fc28c87-5771-4728-bd17-ad26e4f06e38",
   "metadata": {},
   "outputs": [],
   "source": [
    "for folder, histogram in zip(folders, images):\n",
    "    if histogram == []:\n",
    "        continue\n",
    "    data =  np.msort(histogram)\n",
    "    p_value = dip.diptst(data)[1]\n",
    "    if p_value<0.001:\n",
    "        print(p_value, folder)"
   ]
  },
  {
   "cell_type": "code",
   "execution_count": null,
   "id": "2a43b193-0df6-4210-b09b-41686eb8068e",
   "metadata": {},
   "outputs": [],
   "source": [
    "folders[19]"
   ]
  },
  {
   "cell_type": "code",
   "execution_count": null,
   "id": "343d95e2-38b4-4692-962a-08a61d4ac9f9",
   "metadata": {},
   "outputs": [],
   "source": [
    "images[19]"
   ]
  },
  {
   "cell_type": "code",
   "execution_count": null,
   "id": "c3902009-54ac-4e68-8374-68cc6604362e",
   "metadata": {},
   "outputs": [],
   "source": [
    "edges.shape"
   ]
  },
  {
   "cell_type": "code",
   "execution_count": null,
   "id": "1033859c-93ef-4ac2-b882-ad525aadcdd2",
   "metadata": {},
   "outputs": [],
   "source": [
    "## perform KS test on 2 histograms"
   ]
  },
  {
   "cell_type": "code",
   "execution_count": null,
   "id": "97e5d2c2-84d1-4563-8b6c-bb5322b48e72",
   "metadata": {},
   "outputs": [],
   "source": [
    "distr1_path = '/Users/andreibirladeanu/Documents/Data/bounding_boxes/1148_meal/skel2/'\n",
    "distr1 = [x for x in sorted_alpha(distr1_path)]\n",
    "\n",
    "distr2_path = '/Users/andreibirladeanu/Documents/Data/bounding_boxes/1148_meal/skel3/'\n",
    "distr2 = [x for x in sorted_alpha(distr2_path)]"
   ]
  },
  {
   "cell_type": "code",
   "execution_count": null,
   "id": "8e450fce-c6c1-4627-ab15-20073d4bf8cc",
   "metadata": {},
   "outputs": [],
   "source": [
    "boxes1 = [np.mean(cv2.imread(distr1_path + x), axis=2, dtype=np.float32) for x in distr1]\n",
    "boxes2 = [np.mean(cv2.imread(distr2_path + x), axis=2, dtype=np.float32) for x in distr2]"
   ]
  },
  {
   "cell_type": "code",
   "execution_count": null,
   "id": "92d495f2-267a-4b9b-a2a9-ff35fbdd9c8e",
   "metadata": {},
   "outputs": [],
   "source": [
    "for_hist1 = np.array([np.mean(x)for x in boxes1])\n",
    "for_hist2 =np.array([np.mean(x)for x in boxes2])"
   ]
  },
  {
   "cell_type": "code",
   "execution_count": null,
   "id": "b6afa630-7e83-4180-b9b5-01d0178751c2",
   "metadata": {},
   "outputs": [],
   "source": [
    "for_hist1"
   ]
  },
  {
   "cell_type": "code",
   "execution_count": null,
   "id": "1f9f7a44-a015-4218-86ce-4e7fe24b599b",
   "metadata": {},
   "outputs": [],
   "source": [
    "from scipy import stats\n",
    "stats.kstest(for_hist1, for_hist2)"
   ]
  },
  {
   "cell_type": "code",
   "execution_count": null,
   "id": "c263306d-fbee-4aeb-9036-c181983d9ff7",
   "metadata": {},
   "outputs": [],
   "source": [
    "plt.hist(for_hist1), plt.hist(for_hist2)"
   ]
  }
 ],
 "metadata": {
  "kernelspec": {
   "display_name": "Python 3 (ipykernel)",
   "language": "python",
   "name": "python3"
  },
  "language_info": {
   "codemirror_mode": {
    "name": "ipython",
    "version": 3
   },
   "file_extension": ".py",
   "mimetype": "text/x-python",
   "name": "python",
   "nbconvert_exporter": "python",
   "pygments_lexer": "ipython3",
   "version": "3.7.6"
  }
 },
 "nbformat": 4,
 "nbformat_minor": 5
}
