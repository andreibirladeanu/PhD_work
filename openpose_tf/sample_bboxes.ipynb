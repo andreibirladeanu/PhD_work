{
 "cells": [
  {
   "cell_type": "code",
   "execution_count": null,
   "id": "a9bdbf43-c368-4a33-9833-8c4a663f64d9",
   "metadata": {},
   "outputs": [],
   "source": [
    "import os\n",
    "from tqdm import tqdm\n",
    "import pandas as pd\n",
    "import sys\n",
    "import numpy as np\n",
    "import matplotlib.pyplot as plt\n",
    "import cv2\n",
    "import re\n",
    "import shutil\n",
    "from pathlib import Path\n",
    "from sort_alpha import sorted_alpha\n",
    "import random"
   ]
  },
  {
   "cell_type": "code",
   "execution_count": null,
   "id": "b3decde8-92c5-4642-932a-046aba4e268c",
   "metadata": {},
   "outputs": [],
   "source": [
    "def find_min_round(array):\n",
    "    array = np.array(array.loc[[0,1,2,3,5,6,8,11,15,16,17]])#remove the arms from the equation cause the bounding boxes are too large \n",
    "    x = round(np.min(array[np.nonzero(array)]))\n",
    "    return(x)\n",
    "\n",
    "def find_max_round(array):\n",
    "    array = np.array(array.loc[[0,1,2,3,5,6,8,11,15,16,17]])\n",
    "    x = round(np.max(array))\n",
    "    return(x)"
   ]
  },
  {
   "cell_type": "code",
   "execution_count": null,
   "id": "65e29d99-d24f-4f28-b66b-da2aa4e41de6",
   "metadata": {},
   "outputs": [],
   "source": [
    "path_folders = Path('/Users/andreibirladeanu/Documents/Data/meal_tracked_exp_copy')\n",
    "folders = sorted_alpha(path_folders)"
   ]
  },
  {
   "cell_type": "code",
   "execution_count": null,
   "id": "0ed5647e-b527-47c0-b249-bc97b63699e0",
   "metadata": {},
   "outputs": [],
   "source": [
    "path_videos = Path('/Users/andreibirladeanu/Documents/Data/meal_videos')\n",
    "videos = sorted_alpha(path_videos)"
   ]
  },
  {
   "cell_type": "code",
   "execution_count": null,
   "id": "ba3fc980-7c16-402a-89c1-029993018dbd",
   "metadata": {},
   "outputs": [],
   "source": [
    "for folder, video in tqdm(zip(folders[48:55], videos[48:55])):\n",
    "    cap = cv2.VideoCapture(os.path.join(path_videos, video))\n",
    "    for skel in sorted_alpha(os.path.join(path_folders,folder)):\n",
    "        new_path = Path(os.path.join(path_folders.parent,\"bounding_boxes\", folder, skel))\n",
    "        new_path.mkdir(parents=True,exist_ok=True)\n",
    "        if len(sorted_alpha(os.path.join(path_folders,folder, skel)))<500:\n",
    "            k = len(sorted_alpha(os.path.join(path_folders,folder, skel)))\n",
    "        else:\n",
    "            k=500\n",
    "            \n",
    "        for coord in random.sample(sorted_alpha(os.path.join(path_folders, folder, skel)), k=k):\n",
    "            cap.set(1, int(coord.split('.')[0])-1)\n",
    "            ret, image = cap.read()\n",
    "            data = pd.read_csv(os.path.join(path_folders, folder, skel, coord))\n",
    "            cv2.imwrite(os.path.join(new_path,coord+'.png'), image[find_min_round(data['y']):find_max_round(data['y']),\n",
    "                   find_min_round(data['x']):find_max_round(data['x'])])\n",
    "            \n",
    "        "
   ]
  },
  {
   "cell_type": "code",
   "execution_count": null,
   "id": "e9787964-1621-44d8-a8be-9441a6d72984",
   "metadata": {},
   "outputs": [],
   "source": [
    "folders[47:55]"
   ]
  },
  {
   "cell_type": "code",
   "execution_count": null,
   "id": "bcc88c58-7459-4802-8204-71403c91f740",
   "metadata": {},
   "outputs": [],
   "source": [
    "videos[47:55]"
   ]
  },
  {
   "cell_type": "code",
   "execution_count": null,
   "id": "b31d31dd-1a61-4f15-9d85-4b4507534b9c",
   "metadata": {},
   "outputs": [],
   "source": [
    "parts = [x.split(\"_\")[0] for x in folders]\n",
    "parts"
   ]
  },
  {
   "cell_type": "code",
   "execution_count": null,
   "id": "6c98cbe5-0b62-404d-9922-5cd15eddaba0",
   "metadata": {},
   "outputs": [],
   "source": [
    "len(np.unique(parts))"
   ]
  }
 ],
 "metadata": {
  "kernelspec": {
   "display_name": "Python 3 (ipykernel)",
   "language": "python",
   "name": "python3"
  },
  "language_info": {
   "codemirror_mode": {
    "name": "ipython",
    "version": 3
   },
   "file_extension": ".py",
   "mimetype": "text/x-python",
   "name": "python",
   "nbconvert_exporter": "python",
   "pygments_lexer": "ipython3",
   "version": "3.7.6"
  }
 },
 "nbformat": 4,
 "nbformat_minor": 5
}
