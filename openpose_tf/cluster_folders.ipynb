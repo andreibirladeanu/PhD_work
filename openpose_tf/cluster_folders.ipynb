{
 "cells": [
  {
   "cell_type": "code",
   "execution_count": null,
   "id": "277c7c30-2619-4d7e-bb8b-bd722ec097ee",
   "metadata": {},
   "outputs": [],
   "source": [
    "import os\n",
    "from tqdm import tqdm\n",
    "import pandas as pd\n",
    "import sys\n",
    "import numpy as np\n",
    "import matplotlib.pyplot as plt\n",
    "import cv2\n",
    "import re\n",
    "import shutil\n",
    "from pathlib import Path\n",
    "from sort_alpha import sorted_alpha\n",
    "from scipy.spatial import distance"
   ]
  },
  {
   "cell_type": "code",
   "execution_count": null,
   "id": "b19fbad7-5f74-4af8-a2c2-4be52d3ef99b",
   "metadata": {},
   "outputs": [],
   "source": [
    "def torso_size(data):\n",
    "    neck = [data['x'].loc[1], data['y'].loc[1]]\n",
    "    if_hip_missing = [data['x'].min(), data['y'].max()]\n",
    "    if neck ==0:\n",
    "        torso=0\n",
    "        return(torso)\n",
    "    hip1 = [data['x'].loc[8], data['y'].loc[8]]\n",
    "    hip2 = [data['x'].loc[11], data['y'].loc[11]]\n",
    "    if hip1[0]>0 and hip2[0]>0:\n",
    "        probabilities = [data['p'].loc[8], data['p'].loc[11]]\n",
    "        max_p = np.argmax(probabilities)\n",
    "        if max_p==0:\n",
    "            torso = distance.euclidean(hip1, neck)\n",
    "        else:\n",
    "            torso = distance.euclidean(hip2, neck)\n",
    "    elif hip1[0]==0 and hip2[0]>0:\n",
    "        torso = distance.euclidean(hip2, neck)\n",
    "    elif hip2[0]==0 and hip1[0]>0:\n",
    "        torso = distance.euclidean(hip1, neck)\n",
    "    else:\n",
    "        torso = distance.euclidean(if_hip_missing, neck)\n",
    "    return(torso)"
   ]
  },
  {
   "cell_type": "code",
   "execution_count": null,
   "id": "a6a38913-a87a-42fc-b148-e30bed5b4436",
   "metadata": {},
   "outputs": [],
   "source": [
    "def shoulder_size(data):\n",
    "    right_shoulder = [data['x'].loc[2], data['y'].loc[2]]\n",
    "    left_shoulder = [data['x'].loc[5], data['y'].loc[5]]\n",
    "    if right_shoulder[0] ==0:\n",
    "        length = distance.euclidean([data['x'].min(), data['y'].max()] ,left_shoulder)\n",
    "    elif left_shoulder[0] == 0:\n",
    "        length = distance.euclidean([data['x'].min(), data['y'].max()] ,right_shoulder)\n",
    "    elif right_shoulder[0]>0 and left_shoulder[0]>0:\n",
    "        length = distance.euclidean(right_shoulder, left_shoulder)\n",
    "    else:\n",
    "        length=0   \n",
    "    return(length)"
   ]
  },
  {
   "cell_type": "code",
   "execution_count": null,
   "id": "55d29045-b0aa-41b2-abc8-3903c01de29e",
   "metadata": {},
   "outputs": [],
   "source": [
    "def find_min_round(array):\n",
    "    array = np.array(array.loc[[0,1,2,5,8,11,15,16,17]])#remove the arms from the equation cause the bounding boxes are too large \n",
    "    x = round(np.min(array[np.nonzero(array)]))\n",
    "    return(x)\n",
    "\n",
    "def find_max_round(array):\n",
    "    array = np.array(array.loc[[0,1,2,5,8,11,15,16,17]])\n",
    "    x = round(np.max(array))\n",
    "    return(x)"
   ]
  },
  {
   "cell_type": "code",
   "execution_count": null,
   "id": "9d94de46-27be-45aa-9fdc-9775b3e02696",
   "metadata": {},
   "outputs": [],
   "source": [
    "path_folders = Path('/Users/andreibirladeanu/Documents/Data/tracking/skeletons/meal_tracked_missing_joints_2')\n",
    "folders = sorted_alpha(path_folders)"
   ]
  },
  {
   "cell_type": "code",
   "execution_count": null,
   "id": "43461d32-e47a-4a68-9d4a-b1d04da7862a",
   "metadata": {},
   "outputs": [],
   "source": [
    "for folder in tqdm(folders): ###outermost loop thru the videos\n",
    "    while len(sorted_alpha(os.path.join(path_folders,folder))[1:])>2: ### check each video/folder has more than 2 skeletons\n",
    "        skeletons=[]\n",
    "        all_sizes = [] ### initiate list of all torsos in the video\n",
    "        for skeleton in sorted_alpha(os.path.join(path_folders, folder))[1:]: ## loop thru skeletons in video/folder\n",
    "            body_sizes = []\n",
    "            skeletons.append(skeleton) ## get a list of skeleton folders inside video\n",
    "            for coords in sorted_alpha(os.path.join(path_folders, folder, skeleton)): ### loop thru coordinates inside skeleton\n",
    "                data = pd.read_csv(os.path.join(path_folders, folder, skeleton, coords))\n",
    "                shoulder = shoulder_size(data)\n",
    "                torso = torso_size(data)\n",
    "                body = [shoulder,torso]\n",
    "                body_sizes.append(np.average(body, weights=[7./10 ,3./10])) ## for each skeleton folder get a list of torso sizes\n",
    "            all_sizes.append(np.mean(body_sizes,dtype=np.float32)) ## a list of mean torso sizes for each skeleton folder\n",
    "                                       \n",
    "        dist = np.subtract(all_sizes, all_sizes[0]) ## compute distance btwn first skel folder and the others\n",
    "        dist[dist==0]='nan'\n",
    "                                       \n",
    "        for file in sorted_alpha(os.path.join(path_folders, folder, skeletons[0])): ## loop thru coordinates in first skel folder\n",
    "            src_file = Path(os.path.join(path_folders, folder, skeletons[0], file))\n",
    "            dest_file = Path(os.path.join(path_folders,folder, skeletons[np.nanargmin(dist)], file))\n",
    "            if dest_file.is_file():\n",
    "                dest_file = os.path.join(dest_file.parent, f\"{(dest_file).stem}_1\"+dest_file.suffix)\n",
    "                shutil.move(src_file,dest_file) ## move each coord file to closest skel folder in terms of torso size\n",
    "            else:\n",
    "                shutil.move(src_file,dest_file)\n",
    "        shutil.rmtree(src_file.parent)   ## delete original skel folder \n",
    "\n",
    "print('success')\n"
   ]
  },
  {
   "cell_type": "code",
   "execution_count": null,
   "id": "212bafc3-4b83-4e49-8d9b-c0148899e88c",
   "metadata": {},
   "outputs": [],
   "source": [
    "type(folders.remove('1043_meal'))"
   ]
  },
  {
   "cell_type": "code",
   "execution_count": null,
   "id": "26c23581-b759-4917-8cb8-26b395b9d567",
   "metadata": {},
   "outputs": [],
   "source": [
    "folders.pop(0)"
   ]
  },
  {
   "cell_type": "code",
   "execution_count": null,
   "id": "a95bd0a4-8d1a-4428-9b0b-b91bfe98d348",
   "metadata": {},
   "outputs": [],
   "source": [
    "folders[1:]"
   ]
  }
 ],
 "metadata": {
  "kernelspec": {
   "display_name": "Python 3 (ipykernel)",
   "language": "python",
   "name": "python3"
  },
  "language_info": {
   "codemirror_mode": {
    "name": "ipython",
    "version": 3
   },
   "file_extension": ".py",
   "mimetype": "text/x-python",
   "name": "python",
   "nbconvert_exporter": "python",
   "pygments_lexer": "ipython3",
   "version": "3.7.6"
  }
 },
 "nbformat": 4,
 "nbformat_minor": 5
}
