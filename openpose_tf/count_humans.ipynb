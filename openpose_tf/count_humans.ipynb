{
 "cells": [
  {
   "cell_type": "code",
   "execution_count": null,
   "id": "d4e826c7-2184-4bae-a65b-33a83f3ca24d",
   "metadata": {},
   "outputs": [],
   "source": [
    "##count humans and numbers of frames detected vs total no of frames \n",
    "import os\n",
    "from tqdm import tqdm\n",
    "import pandas as pd\n",
    "import sys\n",
    "import time\n",
    "import logging\n",
    "import numpy as np\n",
    "import matplotlib.pyplot as plt\n",
    "import cv2\n",
    "import re"
   ]
  },
  {
   "cell_type": "code",
   "execution_count": null,
   "id": "4bde491b-f39d-4383-9a97-db068a8ccd6c",
   "metadata": {},
   "outputs": [],
   "source": [
    "def sorted_alphanumeric(data):\n",
    "    convert = lambda text: int(text) if text.isdigit() else text.lower()\n",
    "    alphanum_key = lambda key: [ convert(c) for c in re.split('([0-9]+)', key) ] \n",
    "    return sorted(data, key=alphanum_key)"
   ]
  },
  {
   "cell_type": "code",
   "execution_count": null,
   "id": "8983cc02-f75e-4202-8ced-f4c485317ffb",
   "metadata": {},
   "outputs": [],
   "source": [
    "def frame_count(video_path, manual=False):\n",
    "    def manual_count(handler):\n",
    "        frames = 0\n",
    "        while True:\n",
    "            status, frame = handler.read()\n",
    "            if not status:\n",
    "                break\n",
    "            frames += 1\n",
    "        return frames \n",
    "\n",
    "    cap = cv2.VideoCapture(video_path)\n",
    "    # Slow, inefficient but 100% accurate method \n",
    "    if manual:\n",
    "        frames = manual_count(cap)\n",
    "    # Fast, efficient but inaccurate method\n",
    "    else:\n",
    "        try:\n",
    "            frames = int(cap.get(cv2.CAP_PROP_FRAME_COUNT))\n",
    "        except:\n",
    "            frames = manual_count(cap)\n",
    "    cap.release()\n",
    "    return frames"
   ]
  },
  {
   "cell_type": "code",
   "execution_count": null,
   "id": "9e14a496-b395-4f7e-bb82-726438f25166",
   "metadata": {},
   "outputs": [],
   "source": [
    "path_openpose = '/Users/andreibirladeanu/Documents/Data/meal_openpose/'\n",
    "\n",
    "coords = [file for file in sorted(os.listdir(path_openpose)) if file[0] !=\".\"]\n",
    "print(coords)"
   ]
  },
  {
   "cell_type": "code",
   "execution_count": null,
   "id": "88c2a9b6-b83b-48dd-ba9b-9379c0e791d3",
   "metadata": {},
   "outputs": [],
   "source": [
    "count_1 = []\n",
    "count_2 = []\n",
    "count_3 = []\n",
    "count_4 = []\n",
    "\n",
    "for coord in tqdm(coords):\n",
    "    person_1 = 0\n",
    "    person_2 = 0\n",
    "    person_3 = 0\n",
    "    person_4 = 0\n",
    "    new_path = path_openpose+coord\n",
    "    os.chdir(new_path)\n",
    "    for frame in sorted_alphanumeric(os.listdir(new_path)):\n",
    "\n",
    "        data = pd.read_csv(frame)\n",
    "        if (len(data.columns)-1)/3 == 1:\n",
    "            person_1 += 1\n",
    "        elif (len(data.columns)-1)/3 == 2:\n",
    "            person_2 += 1\n",
    "        elif (len(data.columns)-1)/3 == 3:\n",
    "            person_3 += 1\n",
    "        \n",
    "        elif (len(data.columns)-1)/3 == 4:\n",
    "            person_4 += 1\n",
    "    \n",
    "    count_1.append(person_1)\n",
    "    count_2.append(person_2)\n",
    "    count_3.append(person_3)\n",
    "    count_4.append(person_4)\n"
   ]
  },
  {
   "cell_type": "code",
   "execution_count": null,
   "id": "4867d2e8-a885-4685-9efd-143173e72754",
   "metadata": {},
   "outputs": [],
   "source": [
    "path_videos = '/Users/andreibirladeanu/Documents/Data/meal_videos/'\n",
    "videos = [file for file in sorted(os.listdir(path_videos)) if file[0] !=\".\"]\n"
   ]
  },
  {
   "cell_type": "code",
   "execution_count": null,
   "id": "c5005d56-e63f-410b-808a-674287c94264",
   "metadata": {},
   "outputs": [],
   "source": [
    "total_frames_detected = [len(os.listdir(path_openpose+coord)) for coord in coords]\n"
   ]
  },
  {
   "cell_type": "code",
   "execution_count": null,
   "id": "5011265b-75ed-4e18-a9bf-cdc703d4808c",
   "metadata": {},
   "outputs": [],
   "source": [
    "total_frames_detected"
   ]
  },
  {
   "cell_type": "code",
   "execution_count": null,
   "id": "acb8fe53-5141-4e83-b7a5-7c563a44101f",
   "metadata": {},
   "outputs": [],
   "source": [
    "frames = []\n",
    "for video in tqdm(videos):\n",
    "    frames.append(frame_count(path_videos+video, manual=True))\n"
   ]
  },
  {
   "cell_type": "code",
   "execution_count": null,
   "id": "954f2dc6-d9df-44d1-87e8-c3b3e1b6c111",
   "metadata": {},
   "outputs": [],
   "source": [
    "stats = pd.DataFrame([np.transpose(count_1), np.transpose(count_2), np.transpose(count_3), \n",
    "                      np.transpose(total_frames_detected), np.transpose(frames)])\n",
    "index = [video.split('.')[0] for video in videos]\n"
   ]
  },
  {
   "cell_type": "code",
   "execution_count": null,
   "id": "0b9746d9-3329-4b1f-8e87-85d43b036a08",
   "metadata": {},
   "outputs": [],
   "source": [
    "stats = stats.T\n",
    "stats.index = index\n"
   ]
  },
  {
   "cell_type": "code",
   "execution_count": null,
   "id": "a438b196-48ee-496c-a5f8-ee67b6294c88",
   "metadata": {},
   "outputs": [],
   "source": [
    "stats.columns = ['1 human', '2 humans', '3 humans', 'frames_detected', 'total_frames']\n",
    "stats"
   ]
  },
  {
   "cell_type": "code",
   "execution_count": null,
   "id": "e7aae754-52ca-4685-8245-29fa2a5751f7",
   "metadata": {},
   "outputs": [],
   "source": [
    "videos"
   ]
  },
  {
   "cell_type": "code",
   "execution_count": null,
   "id": "1f8c84ea-c227-4180-869e-5a03a3e6a980",
   "metadata": {},
   "outputs": [],
   "source": [
    "total = stats.loc[['1043_meal', '1047_meal']].sum()"
   ]
  },
  {
   "cell_type": "code",
   "execution_count": null,
   "id": "8db00546-ff9b-439a-b430-1dda99e58fdd",
   "metadata": {},
   "outputs": [],
   "source": [
    "stats.loc['1043_meal'] = total\n",
    "stats"
   ]
  },
  {
   "cell_type": "code",
   "execution_count": null,
   "id": "3bce36fe-884d-4f36-9c0a-09368ab7574d",
   "metadata": {},
   "outputs": [],
   "source": [
    "stats.drop(['1078_meal'])"
   ]
  },
  {
   "cell_type": "code",
   "execution_count": null,
   "id": "a6ac02a5-fdde-4f69-9abb-339b06661cde",
   "metadata": {},
   "outputs": [],
   "source": [
    "videos = [video.split(\".\")[0] for video in videos]\n",
    "videos2 = videos\n",
    "\n",
    "to_drop = []\n",
    "for i in range(len(videos2)):\n",
    "    if i ==0:\n",
    "        continue\n",
    "    if videos2[i].split('_')[0] == videos2[i-1].split('_')[0]:\n",
    "        total= stats.loc[[videos2[i], videos2[i-1]]].sum()\n",
    "        stats.loc[videos2[i-1]] = total\n",
    "        if videos2[i][-1] == '1':\n",
    "            to_drop.append([videos2[i]])\n",
    "            \n",
    "for drop in to_drop:\n",
    "    stats = stats.drop(drop)\n",
    "    \n",
    "removed = stats.index\n",
    "    \n",
    "to_drop = []\n",
    "for i in range(len(removed)):\n",
    "    if i ==0:\n",
    "        continue\n",
    "    if removed[i].split('_')[0] == removed[i-1].split('_')[0]:\n",
    "        total= stats.loc[[removed[i], removed[i-1]]].sum()\n",
    "        stats.loc[removed[i-1]] = total\n",
    "        if removed[i][-1] == '2':\n",
    "            to_drop.append([removed[i]])\n",
    "\n",
    "for drop in to_drop:\n",
    "    stats = stats.drop(drop)"
   ]
  },
  {
   "cell_type": "code",
   "execution_count": null,
   "id": "7c90adb7-10ec-40a2-bab7-a6e1725f5d19",
   "metadata": {},
   "outputs": [],
   "source": [
    "stats['percentage 1 human'] = stats['1 human']/stats['frames_detected']*100\n",
    "stats['percentage 2 humans'] = stats['2 humans']/stats['frames_detected']*100\n",
    "stats['percentage 3 humans'] = stats['3 humans']/stats['frames_detected']*100\n",
    "stats['percentage frames detected'] = stats['frames_detected']/stats['total_frames']*100"
   ]
  },
  {
   "cell_type": "code",
   "execution_count": null,
   "id": "34be6c31-43b4-4e4e-bb80-364afcef6098",
   "metadata": {},
   "outputs": [],
   "source": [
    "stats"
   ]
  },
  {
   "cell_type": "code",
   "execution_count": null,
   "id": "fde28fa4-14f3-4454-b4b6-3e423e17342e",
   "metadata": {},
   "outputs": [],
   "source": [
    "stats['percentage 1 human'].mean()"
   ]
  },
  {
   "cell_type": "code",
   "execution_count": null,
   "id": "8da301ac-52ce-4a56-a459-a0888e0df225",
   "metadata": {},
   "outputs": [],
   "source": [
    "stats['percentage 2 humans'].mean(), stats['percentage 3 humans'].mean()"
   ]
  },
  {
   "cell_type": "code",
   "execution_count": null,
   "id": "2f650f4e-167a-459f-8633-cbe4a5621772",
   "metadata": {},
   "outputs": [],
   "source": [
    "stats['percentage 1 human'].std(), stats['percentage 2 humans'].std()"
   ]
  },
  {
   "cell_type": "code",
   "execution_count": null,
   "id": "daae735f-c90c-45fe-bf31-cb344bf69044",
   "metadata": {},
   "outputs": [],
   "source": [
    "stats['percentage 3 humans'].std()"
   ]
  },
  {
   "cell_type": "code",
   "execution_count": null,
   "id": "24197b96-69e6-49b9-80db-b8fdb3c98119",
   "metadata": {},
   "outputs": [],
   "source": [
    "stats['percentage frames detected'].mean(), stats['percentage frames detected'].std()"
   ]
  }
 ],
 "metadata": {
  "kernelspec": {
   "display_name": "Python 3 (ipykernel)",
   "language": "python",
   "name": "python3"
  },
  "language_info": {
   "codemirror_mode": {
    "name": "ipython",
    "version": 3
   },
   "file_extension": ".py",
   "mimetype": "text/x-python",
   "name": "python",
   "nbconvert_exporter": "python",
   "pygments_lexer": "ipython3",
   "version": "3.7.6"
  }
 },
 "nbformat": 4,
 "nbformat_minor": 5
}
