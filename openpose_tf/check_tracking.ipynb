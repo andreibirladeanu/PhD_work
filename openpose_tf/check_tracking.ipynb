{
 "cells": [
  {
   "cell_type": "code",
   "execution_count": null,
   "id": "1e692077-0cbe-414f-b901-dec0f68bbc55",
   "metadata": {},
   "outputs": [],
   "source": [
    "import os\n",
    "from tqdm import tqdm\n",
    "import pandas as pd\n",
    "import sys\n",
    "import numpy as np\n",
    "import matplotlib.pyplot as plt\n",
    "import cv2\n",
    "import re\n",
    "from sklearn.mixture import GaussianMixture\n",
    "from sklearn.decomposition import PCA\n",
    "import shutil\n",
    "from pathlib import Path\n",
    "from sort_alpha import sorted_alpha"
   ]
  },
  {
   "cell_type": "code",
   "execution_count": null,
   "id": "216d64c3-662b-4178-8a6c-c95bffdb6db7",
   "metadata": {},
   "outputs": [],
   "source": [
    "### lets try to draw proper contours around people\n",
    "def torso_size(data):\n",
    "    neck = [data['x'].loc[1], data['y'].loc[1]]\n",
    "    if neck ==0:\n",
    "        return([0])\n",
    "    hip1 = [data['x'].loc[8], data['y'].loc[8]]\n",
    "    hip2 = [data['x'].loc[11], data['y'].loc[11]]\n",
    "    if hip1[0]>0 and hip2[0]>0:\n",
    "        probabilities = [data['p'].loc[8], data['p'].loc[11]]\n",
    "        max_p = np.argmax(probabilities)\n",
    "        if max_p==0:\n",
    "            torso = distance.euclidean(hip1, neck)\n",
    "        else:\n",
    "            torso = distance.euclidean(hip2, neck)\n",
    "    elif hip1[0]==0:\n",
    "        torso = distance.euclidean(hip2, neck)\n",
    "    else:\n",
    "        torso = distance.euclidean(hip1, neck)\n",
    "    return(torso)\n",
    "        \n",
    "        "
   ]
  },
  {
   "cell_type": "code",
   "execution_count": null,
   "id": "2b127a78-2810-40f5-9565-8d0996cf8366",
   "metadata": {},
   "outputs": [],
   "source": [
    "def find_min_round(array):\n",
    "    array = np.array(array.loc[[0,1,2,5,8,11,15,16,17]])#remove the arms from the equation cause the bounding boxes are too large \n",
    "    x = round(np.min(array[np.nonzero(array)]))\n",
    "    return(x)\n",
    "\n",
    "def find_max_round(array):\n",
    "    array = np.array(array.loc[[0,1,2,5,8,11,15,16,17]])\n",
    "    x = round(np.max(array))\n",
    "    return(x)"
   ]
  },
  {
   "cell_type": "code",
   "execution_count": null,
   "id": "3cdd5006-509a-48a1-9f06-21649f52da78",
   "metadata": {},
   "outputs": [],
   "source": [
    "evaluation_path = Path('/Users/andrei-macpro/Documents/Data/1117_meal/skel3_tr2')\n",
    "files = [x for x in sorted_alphanumeric(evaluation_path) if x[0]!=\".\"]\n",
    "cap = cv2.VideoCapture('/Users/andrei-macpro/Documents/Data/Meal/1117_meal.mp4')\n",
    "new_viz_path =  Path('/Users/andrei-macpro/Documents/Data/quality_check/1117_meal/sk2')\n",
    "new_viz_path.mkdir(parents=True, exist_ok=True)\n",
    "histogram = []\n",
    "\n",
    "for file in files:\n",
    "    cap.set(1,int(file.split('.')[0])-1)\n",
    "    ret, image = cap.read()\n",
    "    coords = pd.read_csv(os.path.join(evaluation_path, file))\n",
    "    cv2.imwrite(os.path.join(new_viz_path, file.split('.')[0]+'.png'), image[find_min_round(coords['y']):find_max_round(coords['y']),\n",
    "           find_min_round(coords['x']):find_max_round(coords['x'])])\n",
    "   # histogram.append(image[find_min_round(coords['y']):find_max_round(coords['y']),\n",
    "    #       find_min_round(coords['x']):find_max_round(coords['x'])])\n",
    "    "
   ]
  },
  {
   "cell_type": "code",
   "execution_count": null,
   "id": "9afe82dc-b6fe-4d13-b2c9-41288d144623",
   "metadata": {},
   "outputs": [],
   "source": [
    "for file in files:\n",
    "    cap.set(1,int(file.split('.')[0])-1)\n",
    "    ret, image = cap.read()\n",
    "    coords = pd.read_csv(os.path.join(evaluation_path, file))\n",
    "    cv2.imshow('image', image[find_min_round(coords['y']):find_max_round(coords['y']),\n",
    "           find_min_round(coords['x']):find_max_round(coords['x'])])\n",
    "    cv2.waitKey(0)\n",
    "    cv2.destroyAllWindows()"
   ]
  },
  {
   "cell_type": "code",
   "execution_count": null,
   "id": "b3b4edfd-1e9a-491c-bbad-c3bd05f62f83",
   "metadata": {},
   "outputs": [],
   "source": [
    "path_to_tracked = Path('/Users/andrei-macpro/Documents/Data/1047_meal')\n",
    "skeletons = sorted_alpha(path_to_tracked) "
   ]
  },
  {
   "cell_type": "code",
   "execution_count": null,
   "id": "94f77113-9a98-477b-a604-b3311a9d8922",
   "metadata": {},
   "outputs": [],
   "source": [
    "skeletons"
   ]
  },
  {
   "cell_type": "code",
   "execution_count": null,
   "id": "71a9df38-0599-43d5-92cc-c3ccd6054ad5",
   "metadata": {},
   "outputs": [],
   "source": [
    "skeletons"
   ]
  },
  {
   "cell_type": "code",
   "execution_count": null,
   "id": "6db269e7-ee48-4f34-809f-0db36cd8ac3f",
   "metadata": {},
   "outputs": [],
   "source": [
    "while len(os.listdir(path_to_tracked)>2:\n",
    "          "
   ]
  },
  {
   "cell_type": "code",
   "execution_count": null,
   "id": "324d8145-eaf6-4079-afea-12ea61b9b773",
   "metadata": {},
   "outputs": [],
   "source": [
    "all_torsos = []\n",
    "for skeleton in skeletons:\n",
    "    torso_sizes = []\n",
    "    for coords in sorted_alpha(os.path.join(path_to_tracked, skeleton)):\n",
    "        data = pd.read_csv(os.path.join(path_to_tracked, skeleton, coords))\n",
    "        torso = torso_size(data)\n",
    "        if torso != 0:\n",
    "            torso_sizes.append(torso)\n",
    "        print(np.mean(torso_sizes, axis=0))\n",
    "    all_torsos.append(np.mean(torso_sizes,dtype=np.float32))\n",
    "    "
   ]
  },
  {
   "cell_type": "code",
   "execution_count": null,
   "id": "eb0aad42-5501-4594-a5e7-6f7055642a21",
   "metadata": {},
   "outputs": [],
   "source": [
    "all_torsos"
   ]
  },
  {
   "cell_type": "code",
   "execution_count": null,
   "id": "a4bd30d2-d461-4bba-b9bc-9f384a3a2187",
   "metadata": {},
   "outputs": [],
   "source": [
    "distance= np.subtract(all_torsos, all_torsos[0])\n",
    "distance[distance==0]='nan'\n",
    "distance\n"
   ]
  },
  {
   "cell_type": "code",
   "execution_count": null,
   "id": "9242e060-c5d7-441c-8022-28b70c7c34cf",
   "metadata": {},
   "outputs": [],
   "source": [
    "torso_sizes"
   ]
  },
  {
   "cell_type": "code",
   "execution_count": null,
   "id": "f1f14316-2239-45b2-9e8f-eac79a696ef2",
   "metadata": {},
   "outputs": [],
   "source": [
    "a = [[10,20], [3,5]]\n",
    "np.mean(a)"
   ]
  },
  {
   "cell_type": "code",
   "execution_count": null,
   "id": "4f012ba6-e905-41e7-a7f3-4ef856dd2d00",
   "metadata": {},
   "outputs": [],
   "source": [
    "from scipy.spatial import distance\n",
    "distance.euclidean(a[0], a[1])"
   ]
  },
  {
   "cell_type": "code",
   "execution_count": null,
   "id": "a649c74c-b33e-4b8a-9dac-f2b18a6a9a69",
   "metadata": {},
   "outputs": [],
   "source": [
    "## now put it in the closest folder \n",
    "\n",
    "for file in sorted_alpha(os.path.join(path_to_tracked,skeletons[0])):\n",
    "    src_file = os.path.join(path_to_tracked,skeletons[0], file)\n",
    "    dest_file = os.path.join(path_to_tracked,skeletons[np.nanargmin(distance)], file)\n",
    "    shutil.move(src_file,dest_file)\n",
    "\n",
    "shutil.rmtree(Path(src_file).parent)"
   ]
  },
  {
   "cell_type": "code",
   "execution_count": null,
   "id": "ef072477-10a7-4726-aea3-37e8c5da77ed",
   "metadata": {},
   "outputs": [],
   "source": [
    "while len(skeletons)>2:\n",
    "    \n",
    "        for skel in [x for x in sorted_alphanumeric(os.path.join(path_to_tracked,skeleton)) if x[0]!=\".\"]:\n",
    "            shutil.move(os.path.join(path_to_tracked,skeleton,skel),folder[np.nanargmin])\n",
    "        "
   ]
  },
  {
   "cell_type": "code",
   "execution_count": null,
   "id": "23199de8-dd3f-4e42-b85e-b1e63d60e248",
   "metadata": {},
   "outputs": [],
   "source": [
    "distances[0][distances[0] == 0] = 'nan'"
   ]
  },
  {
   "cell_type": "code",
   "execution_count": null,
   "id": "22c528fc-aa10-4691-ac8f-8301f2882743",
   "metadata": {},
   "outputs": [],
   "source": [
    "np.absolute(np.nonzero(distances[0]))"
   ]
  },
  {
   "cell_type": "code",
   "execution_count": null,
   "id": "befe922e-ccdb-4750-b37e-0915e8b9ed72",
   "metadata": {},
   "outputs": [],
   "source": [
    "np.nanargmin(np.absolute(distances[0]))"
   ]
  },
  {
   "cell_type": "code",
   "execution_count": null,
   "id": "efd99ba1-8105-47b3-85bd-bac7876a0339",
   "metadata": {},
   "outputs": [],
   "source": [
    "all_torsos"
   ]
  },
  {
   "cell_type": "code",
   "execution_count": null,
   "id": "c50fc063-b699-452a-8c12-8d0da2249a33",
   "metadata": {},
   "outputs": [],
   "source": [
    "len(X)"
   ]
  },
  {
   "cell_type": "code",
   "execution_count": null,
   "id": "a01050f9-2c68-44f2-aa2b-6be80bd022c2",
   "metadata": {},
   "outputs": [],
   "source": [
    "all_torsos[0]"
   ]
  },
  {
   "cell_type": "code",
   "execution_count": null,
   "id": "3d9d6da3-18ef-44c9-9056-dc29f3f1c092",
   "metadata": {},
   "outputs": [],
   "source": [
    "np."
   ]
  },
  {
   "cell_type": "code",
   "execution_count": null,
   "id": "759eb8ee-4c87-46ad-a3f8-d5fd1933e502",
   "metadata": {},
   "outputs": [],
   "source": [
    "from sklearn.cluster import KMeans\n",
    "kmeans = KMeans(n_clusters=2, random_state=0).fit(X)"
   ]
  },
  {
   "cell_type": "code",
   "execution_count": null,
   "id": "f8d18c87-7418-47d0-88f6-475428272cea",
   "metadata": {},
   "outputs": [],
   "source": [
    "neigh = NearestNeighbors(n_neighbors=1, algorithm = 'brute', metric='euclidean')\n",
    "for torso, folder in zip(all_torsos, skeletons):\n",
    "    if torso"
   ]
  },
  {
   "cell_type": "code",
   "execution_count": null,
   "id": "33262181-3de5-41ee-9e45-8511ead3303f",
   "metadata": {},
   "outputs": [],
   "source": [
    "#### what if we run clustering on the images\n",
    "\n",
    "path_images = Path('/Users/andrei-macpro/Documents/Data/1117_meal_images')"
   ]
  },
  {
   "cell_type": "code",
   "execution_count": null,
   "id": "3a3ebcb2-6966-4e36-bf78-e84d5c1df7c2",
   "metadata": {},
   "outputs": [],
   "source": [
    "skeletons = [x for x in sorted_alphanumeric(path_images) if x[0]!=\".\"]"
   ]
  },
  {
   "cell_type": "code",
   "execution_count": null,
   "id": "2b6aa671-7620-4206-8f37-91dc3b294c39",
   "metadata": {},
   "outputs": [],
   "source": [
    "images[0].shape"
   ]
  },
  {
   "cell_type": "code",
   "execution_count": null,
   "id": "a2c2d758-eab7-4472-9b16-6c1ef6c99334",
   "metadata": {},
   "outputs": [],
   "source": [
    "images = []\n",
    "for skel in skeletons:\n",
    "    for image in [x for x in sorted_alphanumeric(os.path.join(path_images,skel)) if x[0]!=\".\"]:\n",
    "        images.append(np.mean(cv2.imread(os.path.join(path_images,skel,image)), dtype = np.float32,axis=2))"
   ]
  },
  {
   "cell_type": "code",
   "execution_count": null,
   "id": "d43870bd-7179-40a3-9305-c5f5e54837b2",
   "metadata": {},
   "outputs": [],
   "source": [
    "plt.imshow(images[0])"
   ]
  },
  {
   "cell_type": "code",
   "execution_count": null,
   "id": "736d3bf2-2bed-40d9-9e28-d953f9be2f8e",
   "metadata": {},
   "outputs": [],
   "source": [
    "images[0].shape"
   ]
  },
  {
   "cell_type": "code",
   "execution_count": null,
   "id": "3701ddd8-0804-4956-93a7-a475e9b27056",
   "metadata": {},
   "outputs": [],
   "source": [
    "compressed = []\n",
    "for image in images:\n",
    "    if min(image.shape[0], image.shape[1])<50:\n",
    "        continue\n",
    "    compressed.append(pca.fit_transform(image))\n",
    "        "
   ]
  },
  {
   "cell_type": "code",
   "execution_count": null,
   "id": "6e1e017a-5aa9-4928-8d2e-a8a88b6cd07a",
   "metadata": {},
   "outputs": [],
   "source": [
    "from sklearn.cluster import KMeans\n",
    "kmeans = KMeans(n_clusters=2, random_state=0).fit(compressed)"
   ]
  },
  {
   "cell_type": "code",
   "execution_count": null,
   "id": "55210910-9fee-4250-bbd4-88455629209a",
   "metadata": {},
   "outputs": [],
   "source": [
    "compressed = np.array(compressed)\n"
   ]
  },
  {
   "cell_type": "code",
   "execution_count": null,
   "id": "0511e9c2-6af2-4e26-aae9-242b8c973b0e",
   "metadata": {},
   "outputs": [],
   "source": [
    "compressed.transpose().shape"
   ]
  },
  {
   "cell_type": "code",
   "execution_count": null,
   "id": "7fc89fc2-1121-4436-b64d-10511a14cd3f",
   "metadata": {},
   "outputs": [],
   "source": [
    "compressed = []\n",
    "for image in images:\n",
    "    compressed.append(compress(image))"
   ]
  },
  {
   "cell_type": "code",
   "execution_count": null,
   "id": "9cb3f219-5b69-4cf1-a010-3a7a3d4275fc",
   "metadata": {},
   "outputs": [],
   "source": [
    "plt.imshow(compressed[0])"
   ]
  }
 ],
 "metadata": {
  "kernelspec": {
   "display_name": "Python 3 (ipykernel)",
   "language": "python",
   "name": "python3"
  },
  "language_info": {
   "codemirror_mode": {
    "name": "ipython",
    "version": 3
   },
   "file_extension": ".py",
   "mimetype": "text/x-python",
   "name": "python",
   "nbconvert_exporter": "python",
   "pygments_lexer": "ipython3",
   "version": "3.7.6"
  }
 },
 "nbformat": 4,
 "nbformat_minor": 5
}
