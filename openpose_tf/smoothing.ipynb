{
 "cells": [
  {
   "cell_type": "code",
   "execution_count": null,
   "id": "ea23c8c7-0f89-4ecf-862f-02e52f0a8222",
   "metadata": {},
   "outputs": [],
   "source": [
    "import os\n",
    "from tqdm import tqdm\n",
    "import pandas as pd\n",
    "import sys\n",
    "import time\n",
    "import logging\n",
    "import numpy as np\n",
    "import matplotlib.pyplot as plt\n",
    "import cv2\n",
    "import re"
   ]
  },
  {
   "cell_type": "code",
   "execution_count": null,
   "id": "3bf123d8-48aa-4776-8b27-0885697344d7",
   "metadata": {},
   "outputs": [],
   "source": [
    "def sorted_alphanumeric(data):\n",
    "    convert = lambda text: int(text) if text.isdigit() else text.lower()\n",
    "    alphanum_key = lambda key: [ convert(c) for c in re.split('([0-9]+)', key) ] \n",
    "    return sorted(data, key=alphanum_key)"
   ]
  },
  {
   "cell_type": "code",
   "execution_count": null,
   "id": "f742c908-88e7-4ca0-80d4-484dd7b30ae2",
   "metadata": {},
   "outputs": [],
   "source": [
    "path_openpose = '/Users/andreibirladeanu/Documents/Data/new_meal_openpose/1043_meal/skel1/'"
   ]
  },
  {
   "cell_type": "code",
   "execution_count": null,
   "id": "7a86e572-db60-4a2c-947a-9b3f2ec75a64",
   "metadata": {},
   "outputs": [],
   "source": [
    "folder_openpose = [x for x in sorted_alphanumeric(os.listdir(path_openpose)) if x[0] !=\".\"]"
   ]
  },
  {
   "cell_type": "code",
   "execution_count": null,
   "id": "e05b853d-371e-4468-b7a9-5deec31c4514",
   "metadata": {},
   "outputs": [],
   "source": [
    "for folder in folder_openpose:\n",
    "    for frame in sorted_alphanumeric(os.listdir(path_openpose+folder+'/skel1')):\n",
    "        if frame[0] !=\".\":\n",
    "            continue\n",
    "        else:\n",
    "            pd.read_csv(path_openpose+folder+'/skel1/' + frame)\n",
    "            "
   ]
  },
  {
   "cell_type": "code",
   "execution_count": null,
   "id": "54b85302-62c8-483f-baed-ae83f5cbda97",
   "metadata": {},
   "outputs": [],
   "source": [
    "joint_0_x = []\n",
    "joint_0_y = []\n",
    "frames = []\n",
    "for frame in sorted_alphanumeric(os.listdir(path_openpose)):\n",
    "    if frame[0] ==\".\":\n",
    "        continue\n",
    "    else:\n",
    "        data = pd.read_csv(path_openpose + frame)\n",
    "        data = data.replace(0.0, np.nan)\n",
    "        joint_0_x.append({int(frame.split('.')[0]):data['x'].loc[0]})\n",
    "        joint_0_y.append({int(frame.split('.')[0]):data['y'].loc[0]})"
   ]
  },
  {
   "cell_type": "code",
   "execution_count": null,
   "id": "fc95ca8c-b69c-49f1-9087-d9be1c3fcd5f",
   "metadata": {},
   "outputs": [],
   "source": [
    "x_frames = []\n",
    "x_coords = []\n",
    "for x in joint_0_x:\n",
    "    for key, value in x.items():\n",
    "        x_coords.append(value)\n",
    "        x_frames.append(key)"
   ]
  },
  {
   "cell_type": "code",
   "execution_count": null,
   "id": "6d2ac644-55e8-45de-a5e8-0b2a15579514",
   "metadata": {},
   "outputs": [],
   "source": [
    "data = pd.DataFrame([np.array(x_coords), np.array(x_frames)])\n",
    "data = data.T\n",
    "data\n"
   ]
  },
  {
   "cell_type": "code",
   "execution_count": null,
   "id": "22512f34-ebfd-4382-a6c6-4c153caa45f2",
   "metadata": {},
   "outputs": [],
   "source": [
    "data.interpolate(method='cubic')"
   ]
  },
  {
   "cell_type": "code",
   "execution_count": null,
   "id": "86456a10-9583-441a-8326-61f98783c596",
   "metadata": {},
   "outputs": [],
   "source": [
    "with pd.option_context('display.max_rows', None, 'display.max_columns', None):  # more options can be specified also\n",
    "    print(data)"
   ]
  },
  {
   "cell_type": "code",
   "execution_count": null,
   "id": "9acdc8c7-0182-4661-b3ca-0559f4c92256",
   "metadata": {},
   "outputs": [],
   "source": [
    "with pd.option_context('display.max_rows', None, 'display.max_columns', None):  # more options can be specified also\n",
    "    print(data.interpolate(method='cubic'))"
   ]
  },
  {
   "cell_type": "code",
   "execution_count": null,
   "id": "3afb8ef8-ebff-475d-a076-67b343003452",
   "metadata": {},
   "outputs": [],
   "source": [
    "plt.plot(x_frames, x_coords)"
   ]
  },
  {
   "cell_type": "code",
   "execution_count": null,
   "id": "0d2dff93-3d07-4705-8c98-bb68bd09d649",
   "metadata": {},
   "outputs": [],
   "source": [
    "from scipy.signal import savgol_filter"
   ]
  },
  {
   "cell_type": "code",
   "execution_count": null,
   "id": "0c7e0776-40a6-449c-932e-9a4901d8c663",
   "metadata": {},
   "outputs": [],
   "source": [
    "savgol_filter(x_coords, 11, 3)"
   ]
  },
  {
   "cell_type": "code",
   "execution_count": null,
   "id": "2292aedb-c864-4e93-8461-b096b15424f9",
   "metadata": {},
   "outputs": [],
   "source": [
    "plt.plot(x_frames, savgol_filter(x_coords, 11, 3))"
   ]
  },
  {
   "cell_type": "code",
   "execution_count": null,
   "id": "ec51c5e7-30d4-4246-95c9-84bfe5f0838e",
   "metadata": {},
   "outputs": [],
   "source": [
    "for x in savgol_filter(x_coords, 11, 3):\n",
    "    print(x)"
   ]
  },
  {
   "cell_type": "code",
   "execution_count": null,
   "id": "baf9e83e-bc5c-4ba3-a60d-660d81899739",
   "metadata": {},
   "outputs": [],
   "source": [
    "### interpolation first then smoothing \n",
    "from scipy.interpolate import CubicSpline\n",
    "\n",
    "cs = CubicSpline(x_frames, x_coords)\n"
   ]
  },
  {
   "cell_type": "code",
   "execution_count": null,
   "id": "bc30ecce-d42a-44de-9c34-4708cf799108",
   "metadata": {},
   "outputs": [],
   "source": [
    "x_coords"
   ]
  }
 ],
 "metadata": {
  "kernelspec": {
   "display_name": "Python 3 (ipykernel)",
   "language": "python",
   "name": "python3"
  },
  "language_info": {
   "codemirror_mode": {
    "name": "ipython",
    "version": 3
   },
   "file_extension": ".py",
   "mimetype": "text/x-python",
   "name": "python",
   "nbconvert_exporter": "python",
   "pygments_lexer": "ipython3",
   "version": "3.7.6"
  }
 },
 "nbformat": 4,
 "nbformat_minor": 5
}
