{
 "cells": [
  {
   "cell_type": "code",
   "execution_count": null,
   "id": "bc54024d-8c07-4cb0-802f-3d449e404206",
   "metadata": {},
   "outputs": [],
   "source": [
    "import os\n",
    "from tqdm import tqdm\n",
    "import pandas as pd\n",
    "import sys\n",
    "import numpy as np\n",
    "import matplotlib.pyplot as plt\n",
    "import cv2\n",
    "import re\n",
    "import shutil\n",
    "from pathlib import Path\n",
    "from sort_alpha import sorted_alpha\n",
    "from scipy.spatial import distance"
   ]
  },
  {
   "cell_type": "code",
   "execution_count": null,
   "id": "01dedf2f-ceee-491e-8882-7ead608ce775",
   "metadata": {},
   "outputs": [],
   "source": [
    "def torso_size(data):\n",
    "    neck = [data['x'].loc[1], data['y'].loc[1]]\n",
    "    if_hip_missing = [data['x'].min(), data['y'].max()]\n",
    "    if neck ==0:\n",
    "        torso=0\n",
    "        return(torso)\n",
    "    hip1 = [data['x'].loc[8], data['y'].loc[8]]\n",
    "    hip2 = [data['x'].loc[11], data['y'].loc[11]]\n",
    "    if hip1[0]>0 and hip2[0]>0:\n",
    "        probabilities = [data['p'].loc[8], data['p'].loc[11]]\n",
    "        max_p = np.argmax(probabilities)\n",
    "        if max_p==0:\n",
    "            torso = distance.euclidean(hip1, neck)\n",
    "        else:\n",
    "            torso = distance.euclidean(hip2, neck)\n",
    "    elif hip1[0]==0 and hip2[0]>0:\n",
    "        torso = distance.euclidean(hip2, neck)\n",
    "    elif hip2[0]==0 and hip1[0]>0:\n",
    "        torso = distance.euclidean(hip1, neck)\n",
    "    else:\n",
    "        torso = distance.euclidean(if_hip_missing, neck)\n",
    "    return(torso)"
   ]
  },
  {
   "cell_type": "code",
   "execution_count": null,
   "id": "1ec8f04a-72d4-42b2-9013-ef492c39976f",
   "metadata": {},
   "outputs": [],
   "source": [
    "def find_min_round(array):\n",
    "    array = np.array(array.loc[[0,1,2,5,8,11,14,15,16,17]])#remove the arms from the equation cause the bounding boxes are too large \n",
    "    x = round(np.min(array[np.nonzero(array)]))\n",
    "    return(x)\n",
    "\n",
    "def find_max_round(array):\n",
    "    array = np.array(array.loc[[0,1,2,5,8,11,14,15,16,17]])\n",
    "    x = round(np.max(array))\n",
    "    return(x)"
   ]
  },
  {
   "cell_type": "code",
   "execution_count": null,
   "id": "dad5e611-337f-4d1d-a882-243d28938ceb",
   "metadata": {},
   "outputs": [],
   "source": [
    "def shoulder_size(data):\n",
    "    right_shoulder = [data['x'].loc[2], data['y'].loc[2]]\n",
    "    left_shoulder = [data['x'].loc[5], data['y'].loc[5]]\n",
    "    if right_shoulder[0] ==0:\n",
    "        length = distance.euclidean([data['x'].min(), data['y'].max()] ,left_shoulder)\n",
    "    elif left_shoulder[0] == 0:\n",
    "        length = distance.euclidean([data['x'].min(), data['y'].max()] ,right_shoulder)\n",
    "    elif right_shoulder[0]>0 and left_shoulder[0]>0:\n",
    "        length = distance.euclidean(right_shoulder, left_shoulder)\n",
    "    else:\n",
    "        length=0   \n",
    "    return(length)"
   ]
  },
  {
   "cell_type": "code",
   "execution_count": null,
   "id": "91535b52-2a1d-4401-a118-684d74fada19",
   "metadata": {},
   "outputs": [],
   "source": [
    "path_folders = Path('/Users/andreibirladeanu/Documents/Data/tracking/skeletons/meal_tracked_bbox_copy')\n",
    "path_videos = Path('/Users/andreibirladeanu/Documents/Data/meal_videos')\n",
    "folders = sorted_alpha(path_folders)\n",
    "videos = sorted_alpha(path_videos)"
   ]
  },
  {
   "cell_type": "code",
   "execution_count": null,
   "id": "16e207e3-e59a-45a3-877f-1e6536c0e74a",
   "metadata": {},
   "outputs": [],
   "source": [
    "\n",
    "folders = sorted_alpha(path_folders)"
   ]
  },
  {
   "cell_type": "code",
   "execution_count": null,
   "id": "4265d218-073a-475b-b2ad-e7773fcf5eec",
   "metadata": {},
   "outputs": [],
   "source": [
    "def is_incomplete(data):\n",
    "    \"\"\"tests if torso cannot be calculated\"\"\"\n",
    "    hip1 = [data['x'].loc[8], data['y'].loc[8]]\n",
    "    hip2 = [data['x'].loc[11], data['y'].loc[11]]\n",
    "    shoulder = [data['x'].loc[2], data['y'].loc[2]]\n",
    "    if hip1[0]==0 and hip2[0] ==0 or shoulder[0]==0:\n",
    "        return(True)"
   ]
  },
  {
   "cell_type": "code",
   "execution_count": null,
   "id": "3a2c8573-3b41-4aa1-b4d7-cd1bb66903ac",
   "metadata": {},
   "outputs": [],
   "source": [
    "for folder in tqdm(folders[0:5]):\n",
    "    for skeleton in sorted_alpha(os.path.join(path_folders, folder)):\n",
    "        new_path = Path(os.path.join(path_folders, folder, \"incomplete_skel\"))\n",
    "        new_path.mkdir(parents=True,exist_ok=True)\n",
    "        for coords in sorted_alpha(os.path.join(path_folders, folder, skeleton)):\n",
    "            data = pd.read_csv(os.path.join(path_folders, folder, skeleton, coords))\n",
    "            if is_incomplete(data)==True:\n",
    "                os.rename(os.path.join(path_folders, folder, skeleton, coords), os.path.join(new_path, coords))"
   ]
  },
  {
   "cell_type": "code",
   "execution_count": null,
   "id": "0ec37e4f-ed6a-49f3-980d-6c2a380bba43",
   "metadata": {},
   "outputs": [],
   "source": [
    "### cluster the ones left now\n",
    "\n",
    "for folder, video in zip(folders, videos):\n",
    "    print(folder)\n",
    "    cap = cv2.VideoCapture(os.path.join(path_videos, video))\n",
    "    samples = []\n",
    "    skeletons = []\n",
    "    for skeleton in sorted_alpha(os.path.join(path_folders, folder)):\n",
    "        skeletons.append(skeleton)\n",
    "        for coord in sorted_alpha(os.path.join(path_folders,folder,skeleton)):\n",
    "            cap.set(1, int(coord.split(\".\")[0])-1)\n",
    "            ret, image = cap.read()\n",
    "            if ret == False:\n",
    "                continue\n",
    "            data = pd.read_csv(os.path.join(path_folders,folder,skeleton,coord))\n",
    "            shoulder = shoulder_size(data)\n",
    "            torso = torso_size(data)\n",
    "            body = [shoulder,torso]\n",
    "            img = image[find_min_round(data['y']):find_max_round(data['y']),find_min_round(data['x']):find_max_round(data['x'])]\n",
    "            if img.shape[0]==0 or img.shape[1]==0:\n",
    "                samples.append({coord:[shoulder, torso,\n",
    "                                            ,0,0,0]})\n",
    "                continue\n",
    "            b,g,r = cv2.split(img)\n",
    "            samples.append({coord:[shoulder, torso, np.mean(b),np.mean(g), np.mean(r)]})\n",
    "\n",
    "    X = np.array([list(x.values())[0] for x in samples])\n",
    "    labels = KMeans(n_clusters=2, random_state=0).fit_predict(X)\n",
    "    new_sk1 = Path(os.path.join(path_folders, folder, 'label_0'))\n",
    "    new_sk2 = Path(os.path.join(path_folders, folder, 'label_1'))\n",
    "    new_sk1.mkdir(parents=True,exist_ok=True); new_sk2.mkdir(parents=True,exist_ok=True)\n",
    "    first_skel = set(sorted_alpha(os.path.join(path_folders, folder, skeletons[0])))\n",
    "    second_skel = set(sorted_alpha(os.path.join(path_folders, folder, skeletons[1])))\n",
    "    third_skel = set(sorted_alpha(os.path.join(path_folders, folder, skeletons[2])))\n",
    "    count = 0\n",
    "    for label, sample in zip(labels, samples):\n",
    "        file = list(sample.keys())[0]\n",
    "        count += 1\n",
    "        if count <= len(first_skel):\n",
    "            if file in first_skel:\n",
    "                if label == 0:\n",
    "                    os.rename(os.path.join(path_folders,folder,skeletons[0], file) ,os.path.join(new_sk1, file))\n",
    "                else:\n",
    "                    os.rename(os.path.join(path_folders,folder,skeletons[0], file) ,os.path.join(new_sk2, file))\n",
    "        elif count <= len(second_skel):\n",
    "            if file in second_skel:\n",
    "                if label == 0:\n",
    "                    os.rename(os.path.join(path_folders,folder,skeletons[1], file) ,os.path.join(new_sk1, file))\n",
    "                else:\n",
    "                    os.rename(os.path.join(path_folders,folder,skeletons[1], file) ,os.path.join(new_sk2, file))\n",
    "        else:\n",
    "            if file in third_skel:\n",
    "                if label == 0:\n",
    "                    os.rename(os.path.join(path_folders,folder,skeletons[2], file) ,os.path.join(new_sk1, file))\n",
    "                else:\n",
    "                    os.rename(os.path.join(path_folders,folder,skeletons[2], file) ,os.path.join(new_sk2, file))\n",
    "            \n",
    "    shutil.rmtree(os.path.join(path_folders, folder,skeletons[0]))\n",
    "    shutil.rmtree(os.path.join(path_folders, folder,skeletons[1]))\n",
    "        \n",
    "print('success')       "
   ]
  }
 ],
 "metadata": {
  "kernelspec": {
   "display_name": "Python 3 (ipykernel)",
   "language": "python",
   "name": "python3"
  },
  "language_info": {
   "codemirror_mode": {
    "name": "ipython",
    "version": 3
   },
   "file_extension": ".py",
   "mimetype": "text/x-python",
   "name": "python",
   "nbconvert_exporter": "python",
   "pygments_lexer": "ipython3",
   "version": "3.7.6"
  }
 },
 "nbformat": 4,
 "nbformat_minor": 5
}
