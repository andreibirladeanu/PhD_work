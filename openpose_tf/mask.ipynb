{
 "cells": [
  {
   "cell_type": "code",
   "execution_count": null,
   "id": "dfe40b0b-3195-4bf0-a40b-674406355f5d",
   "metadata": {},
   "outputs": [],
   "source": [
    "import sys\n",
    "import time\n",
    "import logging\n",
    "import numpy as np\n",
    "import matplotlib.pyplot as plt\n",
    "import cv2"
   ]
  },
  {
   "cell_type": "code",
   "execution_count": null,
   "id": "f863efa9-cdd6-4b74-a112-b2f589e12d99",
   "metadata": {},
   "outputs": [],
   "source": [
    "img_path = '/Users/andrei-macpro/Documents/Data/original.png'"
   ]
  },
  {
   "cell_type": "code",
   "execution_count": null,
   "id": "f3f959e8-de0b-4b3e-b6fc-aa330120c410",
   "metadata": {},
   "outputs": [],
   "source": [
    "img = cv2.imread(img_path)\n",
    "cv2.rectangle(img,(50, 40),(225, 180) ,(0, 0, 0),-1)\n"
   ]
  },
  {
   "cell_type": "code",
   "execution_count": null,
   "id": "278038da-2d4d-469a-ad08-20e5db180f2b",
   "metadata": {},
   "outputs": [],
   "source": [
    "video_path = '/Users/andrei-macpro/Documents/Data/1117_meal.mp4'"
   ]
  },
  {
   "cell_type": "code",
   "execution_count": null,
   "id": "2ef3ce0d-f22b-4eec-b34a-2f0089a79f1b",
   "metadata": {},
   "outputs": [],
   "source": [
    "fourcc = cv2.VideoWriter_fourcc('m','p','4','v')# note the lower case\n",
    "frame_width = int(video_path.get(3))\n",
    "frame_height = int(video_path.get(4))\n",
    "out = cv2.VideoWriter('1043_meal_box.mp4',fourcc , 10, (frame_width,frame_height), True)"
   ]
  },
  {
   "cell_type": "code",
   "execution_count": null,
   "id": "775d041b-6347-49f8-84d8-0e2b26f4d163",
   "metadata": {},
   "outputs": [],
   "source": [
    "cap = cv2.VideoCapture(video_path)\n",
    "fourcc = cv2.VideoWriter_fourcc(*'mp4v')# note the lower case\n",
    "out = cv2.VideoWriter('1043_meal_box.mp4', fourcc, 25.0, (height,width))\n",
    "frames = []\n",
    "while(cap.isOpened()):\n",
    "    ret, frame = cap.read()\n",
    "    if ret==True:\n",
    "        cv2.rectangle(frame,(50, 40),(225, 180) ,(0, 0, 0),-1)\n",
    "        \n",
    "        # write the flipped frame\n",
    "        out.write(frame)\n",
    "        \n",
    "        cv2.imshow('frame',frame)\n",
    "        if cv2.waitKey(1) & 0xFF == ord('q'):\n",
    "            break\n",
    "    else:\n",
    "        break\n",
    "cap.release()\n",
    "out.release()\n",
    "cv2.destroyAllWindows()"
   ]
  },
  {
   "cell_type": "code",
   "execution_count": null,
   "id": "da9e02b7-f56b-47bb-a0bf-72c461962fb6",
   "metadata": {},
   "outputs": [],
   "source": [
    "width = img.shape[0]\n",
    "height = img.shape[1]"
   ]
  },
  {
   "cell_type": "code",
   "execution_count": null,
   "id": "35cbeb81-82bc-4d4d-8126-0134e2fe3618",
   "metadata": {},
   "outputs": [],
   "source": [
    "img.shape[0]"
   ]
  }
 ],
 "metadata": {
  "kernelspec": {
   "display_name": "Python 3 (ipykernel)",
   "language": "python",
   "name": "python3"
  },
  "language_info": {
   "codemirror_mode": {
    "name": "ipython",
    "version": 3
   },
   "file_extension": ".py",
   "mimetype": "text/x-python",
   "name": "python",
   "nbconvert_exporter": "python",
   "pygments_lexer": "ipython3",
   "version": "3.7.6"
  }
 },
 "nbformat": 4,
 "nbformat_minor": 5
}
