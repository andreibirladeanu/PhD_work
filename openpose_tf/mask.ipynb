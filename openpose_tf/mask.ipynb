{
 "cells": [
  {
   "cell_type": "code",
   "execution_count": null,
   "id": "dfe40b0b-3195-4bf0-a40b-674406355f5d",
   "metadata": {},
   "outputs": [],
   "source": [
    "import sys\n",
    "import time\n",
    "import logging\n",
    "import numpy as np\n",
    "import matplotlib.pyplot as plt\n",
    "import cv2"
   ]
  },
  {
   "cell_type": "code",
   "execution_count": null,
   "id": "f863efa9-cdd6-4b74-a112-b2f589e12d99",
   "metadata": {},
   "outputs": [],
   "source": [
    "img_path = '/Users/andrei-macpro/Documents/Data/original.png'"
   ]
  },
  {
   "cell_type": "code",
   "execution_count": null,
   "id": "f3f959e8-de0b-4b3e-b6fc-aa330120c410",
   "metadata": {},
   "outputs": [],
   "source": [
    "img = cv2.imread(img_path)\n",
    "cv2.rectangle(img,(50, 40),(225, 180) ,(0, 0, 0),-1)\n"
   ]
  },
  {
   "cell_type": "code",
   "execution_count": null,
   "id": "278038da-2d4d-469a-ad08-20e5db180f2b",
   "metadata": {},
   "outputs": [],
   "source": [
    "video_path = '/Users/andrei-macpro/Documents/Data/videoss/1042_meal.mp4'"
   ]
  },
  {
   "cell_type": "code",
   "execution_count": null,
   "id": "2ef3ce0d-f22b-4eec-b34a-2f0089a79f1b",
   "metadata": {},
   "outputs": [],
   "source": [
    "fourcc = cv2.VideoWriter_fourcc('m','p','4','v')# note the lower case\n",
    "frame_width = int(video_path.get(3))\n",
    "frame_height = int(video_path.get(4))\n",
    "out = cv2.VideoWriter('1043_meal_box.mp4',fourcc , 10, (frame_width,frame_height), True)"
   ]
  },
  {
   "cell_type": "code",
   "execution_count": null,
   "id": "775d041b-6347-49f8-84d8-0e2b26f4d163",
   "metadata": {},
   "outputs": [],
   "source": [
    "# small up left \n",
    "cap = cv2.VideoCapture(video_path)\n",
    "fourcc = cv2.VideoWriter_fourcc(*'mp4v')# note the lower case\n",
    "width = cap.get(cv2.CAP_PROP_FRAME_WIDTH) \n",
    "height = cap.get(cv2.CAP_PROP_FRAME_HEIGHT) \n",
    "out = cv2.VideoWriter('1042_meal_box.mp4', fourcc, 25.0, (int(width),int(height)))\n",
    "frames = []\n",
    "while(cap.isOpened()):\n",
    "    ret, frame = cap.read()\n",
    "    if ret==True:\n",
    "        cv2.rectangle(frame,(50, 40),(225, 180) ,(0, 0, 0),-1)\n",
    "        \n",
    "        # write the flipped frame\n",
    "        out.write(frame)\n",
    "        \n",
    "        cv2.imshow('frame',frame)\n",
    "        if cv2.waitKey(1) & 0xFF == ord('q'):\n",
    "            break\n",
    "    else:\n",
    "        break\n",
    "cap.release()\n",
    "out.release()\n",
    "cv2.destroyAllWindows()"
   ]
  },
  {
   "cell_type": "code",
   "execution_count": null,
   "id": "35cbeb81-82bc-4d4d-8126-0134e2fe3618",
   "metadata": {},
   "outputs": [],
   "source": [
    "img.shape[0]"
   ]
  },
  {
   "cell_type": "code",
   "execution_count": null,
   "id": "954e4af7-ec62-4727-8acd-22fa10797417",
   "metadata": {},
   "outputs": [],
   "source": [
    "### small down right \n",
    "\n",
    "video_path = '/Users/andrei-macpro/Documents/Data/videos/1062_meal.mp4'\n",
    "cap = cv2.VideoCapture(video_path)\n",
    "while(cap.isOpened()):\n",
    "    ret, frame = cap.read()\n",
    "    if ret==True:\n",
    "        cv2.rectangle(frame,(538, 395),(713, 535) ,(0, 0, 0),-1)\n",
    "       # plt.imshow()\n",
    "        \n",
    "        # write the flipped frame\n",
    "      #  out.write(frame)\n",
    "        \n",
    "        cv2.imshow('frame',frame)\n",
    "        if cv2.waitKey(1) & 0xFF == ord('q'):\n",
    "            break\n",
    "    else:\n",
    "        break\n",
    "cap.release()\n",
    "cv2.destroyAllWindows()"
   ]
  },
  {
   "cell_type": "code",
   "execution_count": null,
   "id": "dd1b73c7-99c6-423a-8e8a-7de0c08df0a3",
   "metadata": {},
   "outputs": [],
   "source": [
    "### small up right \n",
    "\n",
    "video_path = '/Users/andrei-macpro/Documents/Data/videos/1073_meal.mp4'\n",
    "cap = cv2.VideoCapture(video_path)\n",
    "while(cap.isOpened()):\n",
    "    ret, frame = cap.read()\n",
    "    if ret==True:\n",
    "        cv2.rectangle(frame,(538, 40),(713, 180) ,(0, 0, 0),-1)\n",
    "       # plt.imshow()\n",
    "        \n",
    "        # write the flipped frame\n",
    "      #  out.write(frame)\n",
    "        \n",
    "        cv2.imshow('frame',frame)\n",
    "        if cv2.waitKey(1) & 0xFF == ord('q'):\n",
    "            break\n",
    "    else:\n",
    "        break\n",
    "cap.release()\n",
    "cv2.destroyAllWindows()"
   ]
  },
  {
   "cell_type": "code",
   "execution_count": null,
   "id": "24d51d90-c393-4181-be80-30544d11c4b9",
   "metadata": {},
   "outputs": [],
   "source": [
    "### small down left \n",
    "\n",
    "cap = cv2.VideoCapture(video_path)\n",
    "fourcc = cv2.VideoWriter_fourcc(*'mp4v')# note the lower case\n",
    "width = cap.get(cv2.CAP_PROP_FRAME_WIDTH) \n",
    "height = cap.get(cv2.CAP_PROP_FRAME_HEIGHT) \n",
    "print(width, height)\n",
    "out = cv2.VideoWriter('1082_meal_masked.mp4', fourcc, 25.0, (int(width),int(height)))\n",
    "frames = []\n",
    "while(cap.isOpened()):\n",
    "    ret, frame = cap.read()\n",
    "    if ret==True:\n",
    "        cv2.rectangle(frame,(50, 395),(225, 535) ,(0, 0, 0),-1)\n",
    "        \n",
    "        # write the flipped frame\n",
    "        out.write(frame)\n",
    "        \n",
    "       # cv2.imshow('frame',frame)\n",
    "        #if cv2.waitKey(1) & 0xFF == ord('q'):\n",
    "         #   break\n",
    "    else:\n",
    "        break\n",
    "cap.release()\n",
    "out.release()"
   ]
  },
  {
   "cell_type": "code",
   "execution_count": null,
   "id": "ee8a1e15-5f44-4c62-8009-344071b16114",
   "metadata": {},
   "outputs": [],
   "source": [
    "## big up right\n",
    "\n",
    "\n",
    "video_path = '/Users/andrei-macpro/Documents/Data/videos/1263_meal.mp4'\n",
    "cap = cv2.VideoCapture(video_path)\n",
    "while(cap.isOpened()):\n",
    "    ret, frame = cap.read()\n",
    "    if ret==True:\n",
    "        cv2.rectangle(frame,(450, 40),(670, 210) ,(0, 0, 0),-1)\n",
    "       # plt.imshow()\n",
    "        \n",
    "        # write the flipped frame\n",
    "      #  out.write(frame)\n",
    "        \n",
    "        cv2.imshow('frame',frame)\n",
    "        if cv2.waitKey(1) & 0xFF == ord('q'):\n",
    "            break\n",
    "    else:\n",
    "        break\n",
    "cap.release()\n",
    "cv2.destroyAllWindows()\n"
   ]
  },
  {
   "cell_type": "code",
   "execution_count": null,
   "id": "ae2c0bfd-852f-4000-a26c-064264cb9fbc",
   "metadata": {},
   "outputs": [],
   "source": [
    "## big down right\n",
    "\n",
    "\n",
    "video_path = '/Users/andrei-macpro/Documents/Data/videos/1264_meal.mp4'\n",
    "cap = cv2.VideoCapture(video_path)\n",
    "while(cap.isOpened()):\n",
    "    ret, frame = cap.read()\n",
    "    if ret==True:\n",
    "        cv2.rectangle(frame,(450, 330),(670, 495) ,(0, 0, 0),-1)\n",
    "       # plt.imshow()\n",
    "        \n",
    "        # write the flipped frame\n",
    "      #  out.write(frame)\n",
    "        \n",
    "        cv2.imshow('frame',frame)\n",
    "        if cv2.waitKey(1) & 0xFF == ord('q'):\n",
    "            break\n",
    "    else:\n",
    "        break\n",
    "cap.release()\n",
    "cv2.destroyAllWindows()"
   ]
  },
  {
   "cell_type": "code",
   "execution_count": null,
   "id": "d0800dc2-6c86-4c0a-8fdc-9780c6b561fa",
   "metadata": {},
   "outputs": [],
   "source": [
    "## big up left\n",
    "\n",
    "\n",
    "video_path = '/Users/andrei-macpro/Documents/Data/videos/1282_meal.mp4'\n",
    "cap = cv2.VideoCapture(video_path)\n",
    "while(cap.isOpened()):\n",
    "    ret, frame = cap.read()\n",
    "    if ret==True:\n",
    "        cv2.rectangle(frame,(52, 40),(272, 210) ,(0, 0, 0),-1)\n",
    "       # plt.imshow()\n",
    "        \n",
    "        # write the flipped frame\n",
    "      #  out.write(frame)\n",
    "        \n",
    "        cv2.imshow('frame',frame)\n",
    "        if cv2.waitKey(1) & 0xFF == ord('q'):\n",
    "            break\n",
    "    else:\n",
    "        break\n",
    "cap.release()\n",
    "cv2.destroyAllWindows()"
   ]
  }
 ],
 "metadata": {
  "kernelspec": {
   "display_name": "Python 3 (ipykernel)",
   "language": "python",
   "name": "python3"
  },
  "language_info": {
   "codemirror_mode": {
    "name": "ipython",
    "version": 3
   },
   "file_extension": ".py",
   "mimetype": "text/x-python",
   "name": "python",
   "nbconvert_exporter": "python",
   "pygments_lexer": "ipython3",
   "version": "3.7.6"
  }
 },
 "nbformat": 4,
 "nbformat_minor": 5
}
