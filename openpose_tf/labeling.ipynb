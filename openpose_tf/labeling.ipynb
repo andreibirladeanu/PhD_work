{
 "cells": [
  {
   "cell_type": "code",
   "execution_count": null,
   "id": "0f0560ac-4d38-4573-9790-01b06b6dc8a1",
   "metadata": {},
   "outputs": [],
   "source": [
    "import os\n",
    "from tqdm import tqdm\n",
    "import pandas as pd\n",
    "import sys\n",
    "import numpy as np\n",
    "import matplotlib.pyplot as plt\n",
    "import cv2\n",
    "import re\n",
    "import shutil\n",
    "from pathlib import Path\n",
    "from sort_alpha import sorted_alpha\n",
    "import random\n",
    "from scipy.special import kl_div\n",
    "from scipy.spatial import distance"
   ]
  },
  {
   "cell_type": "code",
   "execution_count": null,
   "id": "be8d3df9-256d-4ee8-aa3c-1f288f41602e",
   "metadata": {},
   "outputs": [],
   "source": [
    "def shoulder_size(data):\n",
    "    right_shoulder = [data['x'].loc[2], data['y'].loc[2]]\n",
    "    left_shoulder = [data['x'].loc[5], data['y'].loc[5]]\n",
    "    if right_shoulder[0] ==0:\n",
    "        length = 0\n",
    "    elif right_shoulder[0]>0 and left_shoulder[0]>0:\n",
    "        length = distance.euclidean(right_shoulder, left_shoulder)\n",
    "    else:\n",
    "        length=0   \n",
    "    return(length)"
   ]
  },
  {
   "cell_type": "code",
   "execution_count": null,
   "id": "201f44ed-fa25-472c-829d-cb2493b26a74",
   "metadata": {},
   "outputs": [],
   "source": [
    "a==2"
   ]
  },
  {
   "cell_type": "code",
   "execution_count": null,
   "id": "ffcf554f-dc08-478a-afe3-0b2e3c15da24",
   "metadata": {},
   "outputs": [],
   "source": [
    "def torso_size(data):\n",
    "    neck = [data['x'].loc[1], data['y'].loc[1]]\n",
    "    if neck ==0:\n",
    "        torso=0\n",
    "        return(torso)\n",
    "    hip1 = [data['x'].loc[8], data['y'].loc[8]]\n",
    "    hip2 = [data['x'].loc[11], data['y'].loc[11]]\n",
    "    if hip1[0]>0 and hip2[0]>0:\n",
    "        probabilities = [data['p'].loc[8], data['p'].loc[11]]\n",
    "        max_p = np.argmax(probabilities)\n",
    "        if max_p==0:\n",
    "            torso = distance.euclidean(hip1, neck)\n",
    "        else:\n",
    "            torso = distance.euclidean(hip2, neck)\n",
    "    elif hip1[0]==0 and hip2[0]>0:\n",
    "        torso = distance.euclidean(hip2, neck)\n",
    "    elif hip2[0]==0 and hip1[0]>0:\n",
    "        torso = distance.euclidean(hip1, neck)\n",
    "    else:\n",
    "        torso = 0\n",
    "    return(torso)"
   ]
  },
  {
   "cell_type": "code",
   "execution_count": null,
   "id": "07be93d4-7a2e-46ab-9fdc-bd14312b4672",
   "metadata": {},
   "outputs": [],
   "source": [
    "path_openpose = Path('/Users/andreibirladeanu/Documents/Data/tracking/skeletons/meal_final_tracking')\n",
    "folders = sorted_alpha(path_openpose)"
   ]
  },
  {
   "cell_type": "code",
   "execution_count": null,
   "id": "a3d15c2b-79a8-4e20-9067-38ba8366839f",
   "metadata": {},
   "outputs": [],
   "source": [
    "skeleton1 = []\n",
    "skeleton2 = []\n",
    "for folder in folders:\n",
    "    if len(sorted_alpha(os.path.join(path_openpose,folder)))<2:\n",
    "        continue\n",
    "    skeleton1_size = []\n",
    "    skeleton2_size = []\n",
    "    for skeleton in enumerate(sorted_alpha(os.path.join(path_openpose,folder))):\n",
    "        if skeleton[0]==0:\n",
    "            for coord in sorted_alpha(os.path.join(path_openpose,folder,skeleton[1])):\n",
    "                data = pd.read_csv(os.path.join(path_openpose,folder,skeleton[1],coord))\n",
    "                shoulder = shoulder_size(data)\n",
    "                torso = torso_size(data)\n",
    "                if size!=0 and torso!=0:\n",
    "                    skeleton1_size.append(np.average([shoulder, torso], weights=[6./10 ,4./10]))\n",
    "        if skeleton[0]==1:\n",
    "            for coord in sorted_alpha(os.path.join(path_openpose,folder,skeleton[1])):\n",
    "                data = pd.read_csv(os.path.join(path_openpose,folder,skeleton[1],coord))\n",
    "                shoulder = shoulder_size(data)\n",
    "                torso = torso_size(data)\n",
    "                if size!=0 and torso!=0:\n",
    "                    skeleton2_size.append(np.average([shoulder, torso], weights=[6./10 ,4./10]))\n",
    "    if np.mean(np.array(skeleton1_size))> np.mean(np.array(skeleton2_size)):\n",
    "        print(\"skel1\",np.mean(np.array(skeleton1_size)), np.mean(np.array(skeleton2_size)), folder)\n",
    "    else:\n",
    "        print(\"skel2\",np.mean(np.array(skeleton1_size)), np.mean(np.array(skeleton2_size)), folder)\n",
    "    skeleton1.append(np.mean(np.array(skeleton1_size)))\n",
    "    skeleton2.append(np.mean(np.array(skeleton2_size)))"
   ]
  },
  {
   "cell_type": "code",
   "execution_count": null,
   "id": "bdac52e7-dcbe-4dc6-803a-4a7adf5065fd",
   "metadata": {},
   "outputs": [],
   "source": [
    "print('a')"
   ]
  },
  {
   "cell_type": "code",
   "execution_count": null,
   "id": "40dea37f-30b7-454d-9e50-11dc3b578a05",
   "metadata": {},
   "outputs": [],
   "source": [
    "humans = pd.read_csv('/Users/andreibirladeanu/Documents/Code/PhD_work/openpose_tf/tracking_stats.csv')"
   ]
  },
  {
   "cell_type": "code",
   "execution_count": null,
   "id": "ca9a595f-ea71-4a04-91d1-fa5c9c7ea1b1",
   "metadata": {},
   "outputs": [],
   "source": [
    "humans['size1'] = skeleton1\n",
    "humans['size2'] = skeleton2"
   ]
  },
  {
   "cell_type": "code",
   "execution_count": null,
   "id": "bc9df58e-230a-4b08-b16a-4125b12fc9a6",
   "metadata": {},
   "outputs": [],
   "source": [
    "humans.to_csv('humans_shoulders.csv')"
   ]
  },
  {
   "cell_type": "code",
   "execution_count": null,
   "id": "122e3427-c847-4243-9381-a0e856c1b4ab",
   "metadata": {},
   "outputs": [],
   "source": [
    "humans.to_csv('humans_shoulders_torso.csv')"
   ]
  }
 ],
 "metadata": {
  "kernelspec": {
   "display_name": "Python 3 (ipykernel)",
   "language": "python",
   "name": "python3"
  },
  "language_info": {
   "codemirror_mode": {
    "name": "ipython",
    "version": 3
   },
   "file_extension": ".py",
   "mimetype": "text/x-python",
   "name": "python",
   "nbconvert_exporter": "python",
   "pygments_lexer": "ipython3",
   "version": "3.7.6"
  }
 },
 "nbformat": 4,
 "nbformat_minor": 5
}
