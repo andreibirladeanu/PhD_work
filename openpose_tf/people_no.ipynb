{
 "cells": [
  {
   "cell_type": "code",
   "execution_count": null,
   "id": "6ca62378-5970-4998-b734-3cd181c2d8e4",
   "metadata": {},
   "outputs": [],
   "source": [
    "import os\n",
    "from tqdm import tqdm\n",
    "import pandas as pd\n",
    "import sys\n",
    "import time\n",
    "import logging\n",
    "import numpy as np\n",
    "import matplotlib.pyplot as plt\n",
    "import cv2"
   ]
  },
  {
   "cell_type": "code",
   "execution_count": null,
   "id": "c919c09c-5574-47a1-a60b-813bf9da142b",
   "metadata": {},
   "outputs": [],
   "source": [
    "def frame_count(video_path, manual=False):\n",
    "    def manual_count(handler):\n",
    "        frames = 0\n",
    "        while True:\n",
    "            status, frame = handler.read()\n",
    "            if not status:\n",
    "                break\n",
    "            frames += 1\n",
    "        return frames \n",
    "\n",
    "    cap = cv2.VideoCapture(video_path)\n",
    "    # Slow, inefficient but 100% accurate method \n",
    "    if manual:\n",
    "        frames = manual_count(cap)\n",
    "    # Fast, efficient but inaccurate method\n",
    "    else:\n",
    "        try:\n",
    "            frames = int(cap.get(cv2.CAP_PROP_FRAME_COUNT))\n",
    "        except:\n",
    "            frames = manual_count(cap)\n",
    "    cap.release()\n",
    "    return frames"
   ]
  },
  {
   "cell_type": "code",
   "execution_count": null,
   "id": "85802461-120a-4824-aeda-2565a6feabf1",
   "metadata": {},
   "outputs": [],
   "source": [
    "path_output = '/Users/andrei-macpro/Documents/Data/openpose_output/'\n",
    "\n",
    "videos = [file for file in sorted(os.listdir(path_output)) if file[0] !=\".\"]\n",
    "print(videos)"
   ]
  },
  {
   "cell_type": "code",
   "execution_count": null,
   "id": "072ee1c7-3fb2-43a7-a274-a401ec07d80f",
   "metadata": {},
   "outputs": [],
   "source": [
    "import re\n",
    "def sorted_alphanumeric(data):\n",
    "    convert = lambda text: int(text) if text.isdigit() else text.lower()\n",
    "    alphanum_key = lambda key: [ convert(c) for c in re.split('([0-9]+)', key) ] \n",
    "    return sorted(data, key=alphanum_key)"
   ]
  },
  {
   "cell_type": "code",
   "execution_count": null,
   "id": "2b05e9d7-c980-4787-bb04-707c44c9b28c",
   "metadata": {},
   "outputs": [],
   "source": [
    "path_output = '/Users/andrei-macpro/Documents/Data/openpose_output/'\n",
    "\n",
    "videos = [file for file in sorted(os.listdir(path_output)) if file[0] !=\".\"]\n",
    "\n",
    "skeletons = []\n",
    "for video in tqdm(videos):\n",
    "    human_no = []\n",
    "    for frame in sorted_alphanumeric(os.listdir(path_output+video)):\n",
    "        data = pd.read_csv((path_output+video+'/' + frame))\n",
    "       # print(len(data.columns)-1)\n",
    "        human_no.append((len(data.columns)-1)/3)\n",
    "    skeletons.append(np.array(human_no))\n",
    "\n",
    "   # skelet_1 = np.count_nonzero(np.array(human_no) == 1)\n",
    "   # skelet_2 = np.count_nonzero(np.array(human_no) == 2)\n",
    "   # skelet_3 = np.count_nonzero(np.array(human_no) == 3)\n",
    "   # skelet_4 = np.count_nonzero(np.array(human_no) == 4)\n"
   ]
  },
  {
   "cell_type": "code",
   "execution_count": null,
   "id": "0e0ba1af-96e4-4551-bfd7-b5070a33f9be",
   "metadata": {},
   "outputs": [],
   "source": [
    "skelet_1 = []\n",
    "skelet_2 = []\n",
    "skelet_3 = []\n",
    "skelet_4 = []\n",
    "\n",
    "for video in skeletons: \n",
    "    skelet_1.append(np.count_nonzero(video == 1))\n",
    "    skelet_2.append(np.count_nonzero(video == 2))\n",
    "    skelet_3.append(np.count_nonzero(video == 3))\n",
    "    skelet_4.append(np.count_nonzero(video == 4))\n"
   ]
  },
  {
   "cell_type": "code",
   "execution_count": null,
   "id": "c4595023-f9d4-4eb4-abea-b3b417e878f0",
   "metadata": {},
   "outputs": [],
   "source": [
    "skelet_1, skelet_2, skelet_3, skelet_4"
   ]
  },
  {
   "cell_type": "code",
   "execution_count": null,
   "id": "fda54019-9668-4156-9062-64b65db8727e",
   "metadata": {},
   "outputs": [],
   "source": [
    "path_output = '/Users/andrei-macpro/Documents/Data/videos/'\n",
    "\n",
    "videos = [file for file in sorted(os.listdir(path_output)) if file[0] !=\".\"]\n",
    "\n",
    "frames = []\n",
    "for video in tqdm(videos):\n",
    "    frames.append(frame_count(path_output+video,manual=True))"
   ]
  },
  {
   "cell_type": "code",
   "execution_count": null,
   "id": "e12c658e-2004-41e1-b075-1c77104fe297",
   "metadata": {},
   "outputs": [],
   "source": [
    "np.mean(skelet_1/np.array(frames)*100)"
   ]
  },
  {
   "cell_type": "code",
   "execution_count": null,
   "id": "2d6291ba-d1fd-48d8-8813-a1b1268b3676",
   "metadata": {},
   "outputs": [],
   "source": [
    "np.mean(skelet_2/np.array(frames)*100)"
   ]
  },
  {
   "cell_type": "code",
   "execution_count": null,
   "id": "8385d862-7513-4851-b30f-298acce4afbe",
   "metadata": {},
   "outputs": [],
   "source": [
    "np.mean(skelet_3/np.array(frames)*100)"
   ]
  },
  {
   "cell_type": "code",
   "execution_count": null,
   "id": "0ca8b158-5406-4509-a866-3b13ecf9a6d2",
   "metadata": {},
   "outputs": [],
   "source": [
    "np.mean(skelet_4/np.array(frames)*100)"
   ]
  }
 ],
 "metadata": {
  "kernelspec": {
   "display_name": "Python 3 (ipykernel)",
   "language": "python",
   "name": "python3"
  },
  "language_info": {
   "codemirror_mode": {
    "name": "ipython",
    "version": 3
   },
   "file_extension": ".py",
   "mimetype": "text/x-python",
   "name": "python",
   "nbconvert_exporter": "python",
   "pygments_lexer": "ipython3",
   "version": "3.7.6"
  }
 },
 "nbformat": 4,
 "nbformat_minor": 5
}
