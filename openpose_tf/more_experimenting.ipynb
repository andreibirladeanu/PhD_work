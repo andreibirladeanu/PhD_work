{
 "cells": [
  {
   "cell_type": "code",
   "execution_count": null,
   "id": "add88c88-33ba-47db-888b-37723e822a8c",
   "metadata": {},
   "outputs": [],
   "source": [
    "import pandas as pd\n",
    "import numpy as np\n",
    "from pathlib import Path\n",
    "import os\n",
    "from tqdm import tqdm\n",
    "import pandas as pd\n",
    "import sys\n",
    "import numpy as np\n",
    "import matplotlib.pyplot as plt\n",
    "import cv2\n",
    "import re\n",
    "import shutil\n",
    "from pathlib import Path\n",
    "from scipy.signal import savgol_filter"
   ]
  },
  {
   "cell_type": "code",
   "execution_count": null,
   "id": "44807b56-75f6-45ee-823b-46af88dc2a45",
   "metadata": {},
   "outputs": [],
   "source": [
    "### problem: when very close together and one of them has missing detections the nearest neighbour approach fails\n"
   ]
  },
  {
   "cell_type": "code",
   "execution_count": null,
   "id": "e7cc2b27-59f7-4e9d-ba26-65372979aa28",
   "metadata": {},
   "outputs": [],
   "source": [
    "data['x'] = savgol_filter(data['x'], 11, 3, axis=0)"
   ]
  },
  {
   "cell_type": "code",
   "execution_count": null,
   "id": "7b0bffb5-2348-413c-b32b-ae710727b514",
   "metadata": {},
   "outputs": [],
   "source": [
    "data['x']"
   ]
  },
  {
   "cell_type": "code",
   "execution_count": null,
   "id": "1390106b-3987-436e-9b76-b4b21d54508f",
   "metadata": {},
   "outputs": [],
   "source": [
    "x = savgol_filter(x, 11, 3, axis=0)"
   ]
  },
  {
   "cell_type": "code",
   "execution_count": null,
   "id": "c20e728b-93f4-41b8-932e-34d70410c1a1",
   "metadata": {},
   "outputs": [],
   "source": [
    "x"
   ]
  },
  {
   "cell_type": "code",
   "execution_count": null,
   "id": "6983e61c-7769-4c90-bbd1-85ee8ddf08c7",
   "metadata": {},
   "outputs": [],
   "source": [
    "x"
   ]
  },
  {
   "cell_type": "code",
   "execution_count": null,
   "id": "1cd73508-90c9-4c6b-80f5-db396699cb3f",
   "metadata": {},
   "outputs": [],
   "source": [
    "x"
   ]
  },
  {
   "cell_type": "code",
   "execution_count": null,
   "id": "5385eacc-89f2-4918-8357-b0f6e082f26c",
   "metadata": {},
   "outputs": [],
   "source": [
    "x"
   ]
  },
  {
   "cell_type": "code",
   "execution_count": null,
   "id": "66e1e9af-65d4-42b0-b146-814d91a7fb58",
   "metadata": {},
   "outputs": [],
   "source": [
    "x"
   ]
  }
 ],
 "metadata": {
  "kernelspec": {
   "display_name": "Python 3 (ipykernel)",
   "language": "python",
   "name": "python3"
  },
  "language_info": {
   "codemirror_mode": {
    "name": "ipython",
    "version": 3
   },
   "file_extension": ".py",
   "mimetype": "text/x-python",
   "name": "python",
   "nbconvert_exporter": "python",
   "pygments_lexer": "ipython3",
   "version": "3.7.6"
  }
 },
 "nbformat": 4,
 "nbformat_minor": 5
}
