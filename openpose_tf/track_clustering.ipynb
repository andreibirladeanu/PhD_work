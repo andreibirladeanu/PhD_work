{
 "cells": [
  {
   "cell_type": "code",
   "execution_count": null,
   "id": "c32afcb2-865a-495b-9c68-4e33d9853350",
   "metadata": {},
   "outputs": [],
   "source": [
    "import os\n",
    "from tqdm import tqdm\n",
    "import pandas as pd\n",
    "import sys\n",
    "import numpy as np\n",
    "import matplotlib.pyplot as plt\n",
    "import cv2\n",
    "import re\n",
    "import shutil\n",
    "from pathlib import Path\n",
    "from sort_alpha import sorted_alpha\n",
    "from scipy.spatial import distance\n",
    "from sklearn.cluster import KMeans\n",
    "from sklearn.metrics import silhouette_samples, silhouette_score"
   ]
  },
  {
   "cell_type": "code",
   "execution_count": null,
   "id": "a9c7e00d-a632-467e-9b9e-fc72dd6fcfba",
   "metadata": {},
   "outputs": [],
   "source": [
    "def shoulder_size(data):\n",
    "    right_shoulder = [data['x'].loc[2], data['y'].loc[2]]\n",
    "    left_shoulder = [data['x'].loc[5], data['y'].loc[5]]\n",
    "    if right_shoulder[0] ==0:\n",
    "        length = distance.euclidean([data['x'].min(), data['y'].max()] ,left_shoulder)\n",
    "    elif left_shoulder[0] == 0:\n",
    "        length = distance.euclidean([data['x'].min(), data['y'].max()] ,right_shoulder)\n",
    "    elif right_shoulder[0]>0 and left_shoulder[0]>0:\n",
    "        length = distance.euclidean(right_shoulder, left_shoulder)\n",
    "    else:\n",
    "        length=0   \n",
    "    return(length)"
   ]
  },
  {
   "cell_type": "code",
   "execution_count": null,
   "id": "e5a44c88-c61f-41fb-8c68-a93e421bd97a",
   "metadata": {},
   "outputs": [],
   "source": [
    "def torso_size(data):\n",
    "    neck = [data['x'].loc[1], data['y'].loc[1]]\n",
    "    if_hip_missing = [data['x'].min(), data['y'].max()]\n",
    "    if neck ==0:\n",
    "        torso=0\n",
    "        return(torso)\n",
    "    hip1 = [data['x'].loc[8], data['y'].loc[8]]\n",
    "    hip2 = [data['x'].loc[11], data['y'].loc[11]]\n",
    "    if hip1[0]>0 and hip2[0]>0:\n",
    "        probabilities = [data['p'].loc[8], data['p'].loc[11]]\n",
    "        max_p = np.argmax(probabilities)\n",
    "        if max_p==0:\n",
    "            torso = distance.euclidean(hip1, neck)\n",
    "        else:\n",
    "            torso = distance.euclidean(hip2, neck)\n",
    "    elif hip1[0]==0 and hip2[0]>0:\n",
    "        torso = distance.euclidean(hip2, neck)\n",
    "    elif hip2[0]==0 and hip1[0]>0:\n",
    "        torso = distance.euclidean(hip1, neck)\n",
    "    else:\n",
    "        torso = distance.euclidean(if_hip_missing, neck)\n",
    "    return(torso)"
   ]
  },
  {
   "cell_type": "code",
   "execution_count": null,
   "id": "07c364e8-4084-4c6b-a672-56880228c982",
   "metadata": {},
   "outputs": [],
   "source": [
    "def find_min_round(array):\n",
    "    array = np.array(array.loc[[0,1,2,5,8,11,14,15,16,17]])#remove the arms from the equation cause the bounding boxes are too large \n",
    "    x = round(np.min(array[np.nonzero(array)]))\n",
    "    return(x)\n",
    "\n",
    "def find_max_round(array):\n",
    "    array = np.array(array.loc[[0,1,2,5,8,11,14,15,16,17]])\n",
    "    x = round(np.max(array))\n",
    "    return(x)"
   ]
  },
  {
   "cell_type": "code",
   "execution_count": null,
   "id": "78977e89-720a-4b1a-bdc6-65cfb4d95ff4",
   "metadata": {},
   "outputs": [],
   "source": [
    "path_folders = Path('/Users/andreibirladeanu/Documents/Data/tracking/skeletons/cluster_folders')\n",
    "path_videos = Path('/Users/andreibirladeanu/Documents/Data/meal_videos')"
   ]
  },
  {
   "cell_type": "code",
   "execution_count": null,
   "id": "f793d35b-25c2-4184-8c23-7c1ba710123b",
   "metadata": {},
   "outputs": [],
   "source": [
    "folders = sorted_alpha(path_folders)\n",
    "videos = sorted_alpha(path_videos)"
   ]
  },
  {
   "cell_type": "code",
   "execution_count": null,
   "id": "59e29ba4-f621-46c8-8229-423f725fdd6b",
   "metadata": {},
   "outputs": [],
   "source": [
    "len(folders[0])"
   ]
  },
  {
   "cell_type": "code",
   "execution_count": null,
   "id": "eeb0c1e9-d559-4557-b0a0-2c19c2fb10c9",
   "metadata": {},
   "outputs": [],
   "source": [
    "for folder, video in zip(folders, videos):\n",
    "    print(folder)\n",
    "    cap = cv2.VideoCapture(os.path.join(path_videos, video))\n",
    "    samples = []\n",
    "    skeletons = []\n",
    "    for skeleton in sorted_alpha(os.path.join(path_folders, folder)):\n",
    "        skeletons.append(skeleton)\n",
    "        for coord in sorted_alpha(os.path.join(path_folders,folder,skeleton)):\n",
    "            cap.set(1, int(coord.split(\".\")[0])-1)\n",
    "            ret, image = cap.read()\n",
    "            if ret == False:\n",
    "                continue\n",
    "            data = pd.read_csv(os.path.join(path_folders,folder,skeleton,coord))\n",
    "            shoulder = shoulder_size(data)\n",
    "            torso = torso_size(data)\n",
    "            body = [shoulder,torso]\n",
    "            img = image[find_min_round(data['y']):find_max_round(data['y']),find_min_round(data['x']):find_max_round(data['x'])]\n",
    "            if img.shape[0]==0 or img.shape[1]==0:\n",
    "                samples.append({coord:[(np.average(body, weights=[6./10 ,4./10]))\n",
    "                                            ,0,0,0]})\n",
    "                continue\n",
    "            b,g,r = cv2.split(img)\n",
    "            samples.append({coord:[(np.average(body, weights=[6./10 ,4./10])),np.mean(b),np.mean(g), np.mean(r)]})\n",
    "\n",
    "    X = np.array([list(x.values())[0] for x in samples])\n",
    "    labels = KMeans(n_clusters=2, random_state=0).fit_predict(X)\n",
    "    new_sk1 = Path(os.path.join(path_folders, folder, '_label_0'))\n",
    "    new_sk2 = Path(os.path.join(path_folders, folder, '_label_1'))\n",
    "    new_sk1.mkdir(parents=True,exist_ok=True); new_sk2.mkdir(parents=True,exist_ok=True)\n",
    "    first_skel = set(sorted_alpha(os.path.join(path_folders, folder, skeletons[0])))\n",
    "    second_skel = set(sorted_alpha(os.path.join(path_folders, folder, skeletons[1])))\n",
    "    third_skel = set(sorted_alpha(os.path.join(path_folders, folder, skeletons[2])))\n",
    "    count = 0\n",
    "    for label, sample in zip(labels, samples):\n",
    "        file = list(sample.keys())[0]\n",
    "        count += 1\n",
    "        if count <= len(first_skel):\n",
    "            if file in first_skel:\n",
    "                if label == 0:\n",
    "                    os.rename(os.path.join(path_folders,folder,skeletons[0], file) ,os.path.join(new_sk1, file))\n",
    "                else:\n",
    "                    os.rename(os.path.join(path_folders,folder,skeletons[0], file) ,os.path.join(new_sk2, file))\n",
    "        elif count <= len(second_skel):\n",
    "            if file in second_skel:\n",
    "                if label == 0:\n",
    "                    os.rename(os.path.join(path_folders,folder,skeletons[1], file) ,os.path.join(new_sk1, file))\n",
    "                else:\n",
    "                    os.rename(os.path.join(path_folders,folder,skeletons[1], file) ,os.path.join(new_sk2, file))\n",
    "        else:\n",
    "            if file in third_skel:\n",
    "                if label == 0:\n",
    "                    os.rename(os.path.join(path_folders,folder,skeletons[2], file) ,os.path.join(new_sk1, file))\n",
    "                else:\n",
    "                    os.rename(os.path.join(path_folders,folder,skeletons[2], file) ,os.path.join(new_sk2, file))\n",
    "            \n",
    "    shutil.rmtree(os.path.join(path_folders, folder,skeletons[0]))\n",
    "    shutil.rmtree(os.path.join(path_folders, folder,skeletons[1]))\n",
    "        \n",
    "print('success')       "
   ]
  },
  {
   "cell_type": "code",
   "execution_count": null,
   "id": "9fc42f5c-ed75-414e-a5c2-9906e7072540",
   "metadata": {},
   "outputs": [],
   "source": [
    "print('success')"
   ]
  },
  {
   "cell_type": "code",
   "execution_count": null,
   "id": "b5e98098-9ca4-4ec0-87b2-8216cd5b5c00",
   "metadata": {},
   "outputs": [],
   "source": [
    "a= set([2,4,5])\n",
    "len(a)"
   ]
  },
  {
   "cell_type": "code",
   "execution_count": null,
   "id": "3c2b2cf0-e4f0-4405-85a3-566c308086cc",
   "metadata": {},
   "outputs": [],
   "source": [
    "len(samples)"
   ]
  },
  {
   "cell_type": "code",
   "execution_count": null,
   "id": "a741ba8a-fddc-414c-8b97-d8cbb174a43d",
   "metadata": {},
   "outputs": [],
   "source": [
    "kmeans = KMeans(n_clusters=2, random_state=0).fit(X)"
   ]
  },
  {
   "cell_type": "code",
   "execution_count": null,
   "id": "29a5f83f-2f56-4f01-9dc7-eb31dbf99d37",
   "metadata": {},
   "outputs": [],
   "source": [
    "for x, sample in zip(X, samples):\n",
    "    print(kmeans.predict([x])[0])"
   ]
  },
  {
   "cell_type": "code",
   "execution_count": null,
   "id": "9f51be6e-e074-470a-afda-79150abf0248",
   "metadata": {},
   "outputs": [],
   "source": [
    "list(samples[0].keys())[0].parent"
   ]
  },
  {
   "cell_type": "code",
   "execution_count": null,
   "id": "2d6c149b-70fa-444a-92ca-ea1df37b2a16",
   "metadata": {},
   "outputs": [],
   "source": [
    "folders[1:]"
   ]
  },
  {
   "cell_type": "markdown",
   "id": "73f3c609-8613-40d0-8b26-60bd0d4dd512",
   "metadata": {},
   "source": [
    "## version 2"
   ]
  },
  {
   "cell_type": "code",
   "execution_count": null,
   "id": "f278bf65-d551-4117-af50-40719b62741d",
   "metadata": {},
   "outputs": [],
   "source": [
    "### cluster by body size\n",
    "\n",
    "for folder, video in zip(folders ,videos):\n",
    "    print(folder)\n",
    "    \n",
    "    skeletons = []\n",
    "    for skeleton in sorted_alpha(os.path.join(path_folders, folder))[1:]:\n",
    "        if len(skeleton)>6:\n",
    "            continue\n",
    "        samples = []\n",
    "        skeletons.append(skeleton)\n",
    "        for coord in sorted_alpha(os.path.join(path_folders,folder,skeleton)):\n",
    "            data = pd.read_csv(os.path.join(path_folders,folder,skeleton,coord))\n",
    "            shoulder = shoulder_size(data)\n",
    "            torso = torso_size(data)\n",
    "            body = [shoulder,torso]\n",
    "            samples.append([shoulder,torso])\n",
    "        X = np.array(samples)\n",
    "        labels =  KMeans(n_clusters=2, random_state=0).fit_predict(X)\n",
    "        new_sk1 = Path(os.path.join(path_folders, folder, skeleton+'_label_0'))\n",
    "        new_sk2 = Path(os.path.join(path_folders, folder, skeleton+'_label_1'))\n",
    "        new_sk1.mkdir(parents=True,exist_ok=True); new_sk2.mkdir(parents=True,exist_ok=True)\n",
    "\n",
    "        for label,coord_ in zip(labels ,sorted_alpha(os.path.join(path_folders,folder,skeleton))):\n",
    "            if label==0:\n",
    "                os.rename(os.path.join(path_folders,folder,skeleton,coord_), os.path.join(new_sk1,coord_))\n",
    "            else:\n",
    "                os.rename(os.path.join(path_folders,folder,skeleton,coord_), os.path.join(new_sk2,coord_))\n",
    "        shutil.rmtree(os.path.join(path_folders, folder,skeleton))\n",
    "\n",
    "\n",
    "print('success')       "
   ]
  },
  {
   "cell_type": "code",
   "execution_count": null,
   "id": "bdc9bd5b-45c8-405d-a5b0-7e57f8a107e1",
   "metadata": {},
   "outputs": [],
   "source": [
    "print('success')"
   ]
  },
  {
   "cell_type": "code",
   "execution_count": null,
   "id": "08f837cf-48e3-4bba-a264-53cffb1ed257",
   "metadata": {},
   "outputs": [],
   "source": [
    "filename = Path('/Users/andreibirladeanu/Documents/Data/tracking/skeletons/meal_tracked_missing_joints_2/1043_meal/skel1_label_0/73.csv')"
   ]
  },
  {
   "cell_type": "code",
   "execution_count": null,
   "id": "4b9b2af6-7ac9-4df6-a5ea-77d22f600849",
   "metadata": {},
   "outputs": [],
   "source": [
    "filename.stem"
   ]
  },
  {
   "cell_type": "code",
   "execution_count": null,
   "id": "e24af315-7292-41c6-bf0d-e0e7034e82de",
   "metadata": {},
   "outputs": [],
   "source": [
    "filename.suffix"
   ]
  },
  {
   "cell_type": "code",
   "execution_count": null,
   "id": "e88bb9ba-70e8-41e3-b78b-c552786e8f0b",
   "metadata": {},
   "outputs": [],
   "source": [
    "filename.is_file()"
   ]
  },
  {
   "cell_type": "code",
   "execution_count": null,
   "id": "f8c8c0b6-b4e4-429e-ab05-0c393b05f89e",
   "metadata": {},
   "outputs": [],
   "source": [
    "dest = f\"{filename.stem}_1\""
   ]
  },
  {
   "cell_type": "code",
   "execution_count": null,
   "id": "4e90ebe7-7711-4807-b580-abbd96ce069e",
   "metadata": {},
   "outputs": [],
   "source": [
    "folder_1 = sorted_alpha('/Users/andreibirladeanu/Documents/Data/tracking/skeletons/meal_tracked_missing_joints_2/1043_meal/skel2_label_0')\n",
    "folder_2 = sorted_alpha('/Users/andreibirladeanu/Documents/Data/tracking/skeletons/meal_tracked_missing_joints_2/1043_meal/skel1_label_0')\n",
    "folder_3 = sorted_alpha('/Users/andreibirladeanu/Documents/Data/tracking/skeletons/meal_tracked_missing_joints_2/1043_meal/skel2_label_1')\n",
    "folder_4 = sorted_alpha('/Users/andreibirladeanu/Documents/Data/tracking/skeletons/meal_tracked_missing_joints_2/1043_meal/skel1_label_1')"
   ]
  },
  {
   "cell_type": "code",
   "execution_count": null,
   "id": "f5ca903d-2413-4382-8559-5f227f8b7def",
   "metadata": {},
   "outputs": [],
   "source": [
    "u, c = np.unique(f, return_counts=True)\n",
    "dup = u[c==3]"
   ]
  },
  {
   "cell_type": "code",
   "execution_count": null,
   "id": "4aa6a035-9b4f-477f-819b-58be6a4da891",
   "metadata": {},
   "outputs": [],
   "source": [
    "f = np.concatenate([folder_1,dup folder_2, folder_3, folder_4])"
   ]
  },
  {
   "cell_type": "code",
   "execution_count": null,
   "id": "75844089-65f1-4007-86ff-3437ab7f03f1",
   "metadata": {},
   "outputs": [],
   "source": [
    "dup"
   ]
  },
  {
   "cell_type": "code",
   "execution_count": null,
   "id": "45ac855f-8c0e-47a2-92a1-28a7e22074d8",
   "metadata": {},
   "outputs": [],
   "source": [
    "len(f)"
   ]
  }
 ],
 "metadata": {
  "kernelspec": {
   "display_name": "Python 3 (ipykernel)",
   "language": "python",
   "name": "python3"
  },
  "language_info": {
   "codemirror_mode": {
    "name": "ipython",
    "version": 3
   },
   "file_extension": ".py",
   "mimetype": "text/x-python",
   "name": "python",
   "nbconvert_exporter": "python",
   "pygments_lexer": "ipython3",
   "version": "3.7.6"
  }
 },
 "nbformat": 4,
 "nbformat_minor": 5
}
