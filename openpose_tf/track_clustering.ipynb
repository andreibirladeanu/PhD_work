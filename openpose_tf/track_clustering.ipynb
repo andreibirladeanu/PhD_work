{
 "cells": [
  {
   "cell_type": "code",
   "execution_count": null,
   "id": "c32afcb2-865a-495b-9c68-4e33d9853350",
   "metadata": {},
   "outputs": [],
   "source": [
    "import os\n",
    "from tqdm import tqdm\n",
    "import pandas as pd\n",
    "import sys\n",
    "import numpy as np\n",
    "import matplotlib.pyplot as plt\n",
    "import cv2\n",
    "import re\n",
    "import shutil\n",
    "from pathlib import Path\n",
    "from sort_alpha import sorted_alpha\n",
    "from scipy.spatial import distance\n",
    "from sklearn.cluster import KMeans"
   ]
  },
  {
   "cell_type": "code",
   "execution_count": null,
   "id": "e5a44c88-c61f-41fb-8c68-a93e421bd97a",
   "metadata": {},
   "outputs": [],
   "source": [
    "def torso_size(data):\n",
    "    neck = [data['x'].loc[1], data['y'].loc[1]]\n",
    "    if neck ==0:\n",
    "        return([0])\n",
    "    hip1 = [data['x'].loc[8], data['y'].loc[8]]\n",
    "    hip2 = [data['x'].loc[11], data['y'].loc[11]]\n",
    "    if hip1[0]>0 and hip2[0]>0:\n",
    "        probabilities = [data['p'].loc[8], data['p'].loc[11]]\n",
    "        max_p = np.argmax(probabilities)\n",
    "        if max_p==0:\n",
    "            torso = distance.euclidean(hip1, neck)\n",
    "        else:\n",
    "            torso = distance.euclidean(hip2, neck)\n",
    "    elif hip1[0]==0:\n",
    "        torso = distance.euclidean(hip2, neck)\n",
    "    else:\n",
    "        torso = distance.euclidean(hip1, neck)\n",
    "    return(torso)"
   ]
  },
  {
   "cell_type": "code",
   "execution_count": null,
   "id": "07c364e8-4084-4c6b-a672-56880228c982",
   "metadata": {},
   "outputs": [],
   "source": [
    "def find_min_round(array):\n",
    "    array = np.array(array.loc[[0,1,2,5,8,11,14,15,16,17]])#remove the arms from the equation cause the bounding boxes are too large \n",
    "    x = round(np.min(array[np.nonzero(array)]))\n",
    "    return(x)\n",
    "\n",
    "def find_max_round(array):\n",
    "    array = np.array(array.loc[[0,1,2,5,8,11,14,15,16,17]])\n",
    "    x = round(np.max(array))\n",
    "    return(x)"
   ]
  },
  {
   "cell_type": "code",
   "execution_count": null,
   "id": "78977e89-720a-4b1a-bdc6-65cfb4d95ff4",
   "metadata": {},
   "outputs": [],
   "source": [
    "path_folders = Path('/Users/andreibirladeanu/Documents/Data/to_track')\n",
    "path_videos = Path('/Users/andreibirladeanu/Documents/Data/videos_clustering')"
   ]
  },
  {
   "cell_type": "code",
   "execution_count": null,
   "id": "f793d35b-25c2-4184-8c23-7c1ba710123b",
   "metadata": {},
   "outputs": [],
   "source": [
    "folders = sorted_alpha(path_folders)\n",
    "videos = sorted_alpha(path_videos)"
   ]
  },
  {
   "cell_type": "code",
   "execution_count": null,
   "id": "59e29ba4-f621-46c8-8229-423f725fdd6b",
   "metadata": {},
   "outputs": [],
   "source": [
    "folders[:2]"
   ]
  },
  {
   "cell_type": "code",
   "execution_count": null,
   "id": "eeb0c1e9-d559-4557-b0a0-2c19c2fb10c9",
   "metadata": {},
   "outputs": [],
   "source": [
    "for folder, video in zip(folders, videos):\n",
    "    print(folder)\n",
    "    cap = cv2.VideoCapture(os.path.join(path_videos, video))\n",
    "    samples = []\n",
    "    skeletons = []\n",
    "    for skeleton in sorted_alpha(os.path.join(path_folders, folder)):\n",
    "        skeletons.append(skeleton)\n",
    "        for coord in sorted_alpha(os.path.join(path_folders,folder,skeleton)):\n",
    "            cap.set(1, int(coord.split(\".\")[0])-1)\n",
    "            ret, image = cap.read()\n",
    "            if ret == False:\n",
    "                continue\n",
    "            data = pd.read_csv(os.path.join(path_folders,folder,skeleton,coord))\n",
    "            img = image[find_min_round(data['y']):find_max_round(data['y']),find_min_round(data['x']):find_max_round(data['x'])]\n",
    "            if img.shape[0]==0 or img.shape[1]==0:\n",
    "                samples.append({coord:[torso_size(data),0,0,0]})\n",
    "                continue\n",
    "            b,g,r = cv2.split(img)\n",
    "            samples.append({coord:[torso_size(data),np.mean(b),np.mean(g), np.mean(r)]})\n",
    "\n",
    "    X = np.array([list(x.values())[0] for x in samples])\n",
    "    labels = KMeans(n_clusters=2, random_state=0).fit_predict(X)\n",
    "    new_sk1 = Path(os.path.join(path_folders, folder, 'label_0'))\n",
    "    new_sk2 = Path(os.path.join(path_folders, folder, 'label_1'))\n",
    "    new_sk1.mkdir(parents=True,exist_ok=True); new_sk2.mkdir(parents=True,exist_ok=True)\n",
    "    first_skel = set(sorted_alpha(os.path.join(path_folders, folder, skeletons[0])))\n",
    "    second_skel = set(sorted_alpha(os.path.join(path_folders, folder, skeletons[1])))\n",
    "    count = 0\n",
    "    for label, sample in zip(labels, samples):\n",
    "        file = list(sample.keys())[0]\n",
    "        count += 1\n",
    "        if count <= len(first_skel):\n",
    "            if file in first_skel:\n",
    "                if label == 0:\n",
    "                    os.rename(os.path.join(path_folders,folder,skeletons[0], file) ,os.path.join(new_sk1, file))\n",
    "                else:\n",
    "                    os.rename(os.path.join(path_folders,folder,skeletons[0], file) ,os.path.join(new_sk2, file))\n",
    "        else:\n",
    "            if file in second_skel:\n",
    "                if label == 0:\n",
    "                    os.rename(os.path.join(path_folders,folder,skeletons[1], file) ,os.path.join(new_sk1, file))\n",
    "                else:\n",
    "                    os.rename(os.path.join(path_folders,folder,skeletons[1], file) ,os.path.join(new_sk2, file))\n",
    "    shutil.rmtree(os.path.join(path_folders, folder,skeletons[0]))\n",
    "    shutil.rmtree(os.path.join(path_folders, folder,skeletons[1]))\n",
    "        \n",
    "print('success')       "
   ]
  },
  {
   "cell_type": "code",
   "execution_count": null,
   "id": "9fc42f5c-ed75-414e-a5c2-9906e7072540",
   "metadata": {},
   "outputs": [],
   "source": [
    "print('success')"
   ]
  },
  {
   "cell_type": "code",
   "execution_count": null,
   "id": "b5e98098-9ca4-4ec0-87b2-8216cd5b5c00",
   "metadata": {},
   "outputs": [],
   "source": [
    "a= set([2,4,5])\n",
    "len(a)"
   ]
  },
  {
   "cell_type": "code",
   "execution_count": null,
   "id": "3c2b2cf0-e4f0-4405-85a3-566c308086cc",
   "metadata": {},
   "outputs": [],
   "source": [
    "len(samples)"
   ]
  },
  {
   "cell_type": "code",
   "execution_count": null,
   "id": "a741ba8a-fddc-414c-8b97-d8cbb174a43d",
   "metadata": {},
   "outputs": [],
   "source": [
    "kmeans = KMeans(n_clusters=2, random_state=0).fit(X)"
   ]
  },
  {
   "cell_type": "code",
   "execution_count": null,
   "id": "29a5f83f-2f56-4f01-9dc7-eb31dbf99d37",
   "metadata": {},
   "outputs": [],
   "source": [
    "for x, sample in zip(X, samples):\n",
    "    print(kmeans.predict([x])[0])"
   ]
  },
  {
   "cell_type": "code",
   "execution_count": null,
   "id": "9f51be6e-e074-470a-afda-79150abf0248",
   "metadata": {},
   "outputs": [],
   "source": [
    "list(samples[0].keys())[0].parent"
   ]
  },
  {
   "cell_type": "code",
   "execution_count": null,
   "id": "b73ddabe-6fe1-418e-b9a9-038535019036",
   "metadata": {},
   "outputs": [],
   "source": [
    "import subprocess as sbp\n",
    "import os\n",
    "\n",
    "path='/Users/andreibirladeanu/Documents/Data/meal_tracked_clustering/1053_meal/skel1'\n",
    "fol = os.listdir(path)\n",
    "p2 = '/Users/andreibirladeanu/Documents/Data/meal_tracked_clustering/1053_meal/skel3'\n",
    "\n",
    "for i in fol:\n",
    "    p1 = os.path.join(path,i)\n",
    "    p3 = 'cp -r ' + p1 +' ' + p2+'/.'\n",
    "    sbp.Popen(p3,shell=True)"
   ]
  }
 ],
 "metadata": {
  "kernelspec": {
   "display_name": "Python 3 (ipykernel)",
   "language": "python",
   "name": "python3"
  },
  "language_info": {
   "codemirror_mode": {
    "name": "ipython",
    "version": 3
   },
   "file_extension": ".py",
   "mimetype": "text/x-python",
   "name": "python",
   "nbconvert_exporter": "python",
   "pygments_lexer": "ipython3",
   "version": "3.7.6"
  }
 },
 "nbformat": 4,
 "nbformat_minor": 5
}
