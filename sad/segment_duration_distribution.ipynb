{
 "cells": [
  {
   "cell_type": "code",
   "execution_count": null,
   "metadata": {},
   "outputs": [],
   "source": [
    "import os\n",
    "import json\n",
    "import pyannote.core\n",
    "from pyannote.core import Timeline, Segment\n",
    "import statistics\n",
    "import numpy as np\n",
    "import pandas as pd\n",
    "os.chdir('/Users/andrei-macpro/Documents/Data/Audio/speech_detection_timestamps/speech_detection_meal')"
   ]
  },
  {
   "cell_type": "code",
   "execution_count": null,
   "metadata": {},
   "outputs": [],
   "source": [
    "# function that takes as input a list of file-names and outputs a list of pyannote timelines \n",
    "path = '/Users/andrei-macpro/Documents/Data/Audio/speech_detection_timestamps/speech_detection_meal'\n",
    "json_files = [pos_json for pos_json in sorted(os.listdir(path))]\n",
    "def get_timelines(json_files):\n",
    "    list_json=list()\n",
    "    list_timelines=list()\n",
    "    for filename in json_files: # loop that imports all json data into separate dictionaries\n",
    "        with open(filename) as json_file:\n",
    "            data = json.load(json_file)\n",
    "            list_json.append(data)\n",
    "    for file, segments in zip(json_files, list_json): # loop to iterate through the files and create a new timeline for each of them \n",
    "        timeline=Timeline()\n",
    "        list_timelines.append(timeline.from_json(segments))\n",
    "    return list_timelines\n",
    "    "
   ]
  },
  {
   "cell_type": "code",
   "execution_count": null,
   "metadata": {},
   "outputs": [],
   "source": [
    "list_timelines_meal=get_timelines(json_files) # list containing the pyannote timeline of each meal recording "
   ]
  },
  {
   "cell_type": "code",
   "execution_count": null,
   "metadata": {},
   "outputs": [],
   "source": [
    "trial_timeline = list_timelines_meal[0]"
   ]
  },
  {
   "cell_type": "code",
   "execution_count": null,
   "metadata": {},
   "outputs": [],
   "source": [
    "for timeline in list_timelines_meal:\n",
    "    for segment in timeline:\n",
    "        print (segment.start)"
   ]
  },
  {
   "cell_type": "code",
   "execution_count": null,
   "metadata": {},
   "outputs": [],
   "source": [
    "start_times_speech = [segment.start for segment in trial_timeline if segment.start <180]\n",
    "start_times_silence = [segment.start for segment in trial_timeline.gaps() if segment.start <180]\n"
   ]
  },
  {
   "cell_type": "code",
   "execution_count": null,
   "metadata": {},
   "outputs": [],
   "source": [
    "start_times_speech = [segment.start for timeline in list_timelines_meal for segment in timeline if segment.start <180 ]\n",
    "start_times_silence = [segment.start for timeline in list_timelines_meal for segment in timeline.gaps() if segment.start <180 ]"
   ]
  },
  {
   "cell_type": "code",
   "execution_count": null,
   "metadata": {},
   "outputs": [],
   "source": [
    "start_times = numpy.array(start_times_speech+start_times_silence)"
   ]
  },
  {
   "cell_type": "code",
   "execution_count": null,
   "metadata": {},
   "outputs": [],
   "source": [
    "duration_distribution_meal = np.zeros(180) # initialize a list that will store the no of occurences of each timepoint"
   ]
  },
  {
   "cell_type": "code",
   "execution_count": null,
   "metadata": {},
   "outputs": [],
   "source": [
    "avg_transitions = np.zeros(180)# initialize a list that will store the average no of transitions at each timepoint"
   ]
  },
  {
   "cell_type": "code",
   "execution_count": null,
   "metadata": {},
   "outputs": [],
   "source": [
    "counter = 1\n",
    "while counter <= len(duration_distribution_meal):\n",
    "    for start_time in start_times: \n",
    "        if start_time<=counter:\n",
    "            duration_distribution_meal[counter-1] +=1 # access the index of the list and decrease by 1 to start from 0 and increase the number by 1\n",
    "        avg_transitions[counter-1] = duration_distribution_meal[counter-1]/len(start_times)\n",
    "    counter += 1 "
   ]
  },
  {
   "cell_type": "code",
   "execution_count": null,
   "metadata": {},
   "outputs": [],
   "source": [
    "duration_distribution_meal"
   ]
  },
  {
   "cell_type": "code",
   "execution_count": null,
   "metadata": {},
   "outputs": [],
   "source": [
    "avg_transitions"
   ]
  },
  {
   "cell_type": "code",
   "execution_count": null,
   "metadata": {},
   "outputs": [],
   "source": [
    "sorted(start_times)[0:52] # seems like there are 52 audiofiles with the same start-time and the rest have a different one"
   ]
  },
  {
   "cell_type": "code",
   "execution_count": null,
   "metadata": {},
   "outputs": [],
   "source": [
    "time = [i for i in range(1, 181)]\n",
    "index_df = [i for i in range(180)]\n",
    "df = pd.DataFrame(list(zip(duration_distribution_meal,avg_transitions, time)), columns = ['Frequency of transitions', \n",
    "                                                                                   'Average transitions', 'time'], \n",
    "                  index=index_df)\n",
    "df.head()"
   ]
  },
  {
   "cell_type": "code",
   "execution_count": null,
   "metadata": {},
   "outputs": [],
   "source": [
    "df.plot.scatter(x='Frequency of transitions', y='Average transitions')"
   ]
  },
  {
   "cell_type": "code",
   "execution_count": null,
   "metadata": {},
   "outputs": [],
   "source": [
    "df.plot.scatter(x='Time', y='Average transitions')"
   ]
  }
 ],
 "metadata": {
  "kernelspec": {
   "display_name": "Python 3",
   "language": "python",
   "name": "python3"
  },
  "language_info": {
   "codemirror_mode": {
    "name": "ipython",
    "version": 3
   },
   "file_extension": ".py",
   "mimetype": "text/x-python",
   "name": "python",
   "nbconvert_exporter": "python",
   "pygments_lexer": "ipython3",
   "version": "3.8.5"
  }
 },
 "nbformat": 4,
 "nbformat_minor": 4
}
