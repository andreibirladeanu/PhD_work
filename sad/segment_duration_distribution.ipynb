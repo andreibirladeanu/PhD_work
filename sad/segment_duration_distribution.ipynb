{
 "cells": [
  {
   "cell_type": "code",
   "execution_count": 52,
   "metadata": {},
   "outputs": [],
   "source": [
    "import os\n",
    "import json\n",
    "import pyannote.core\n",
    "from pyannote.core import Timeline, Segment\n",
    "import statistics\n",
    "from scipy import stats\n",
    "import numpy as np\n",
    "import numpy\n",
    "import pandas as pd\n",
    "import matplotlib.pyplot as plt\n",
    "os.chdir('/Users/andrei-macpro/Documents/Data/Audio/speech_detection_timestamps/speech_detection_meal')"
   ]
  },
  {
   "cell_type": "code",
   "execution_count": 27,
   "metadata": {},
   "outputs": [],
   "source": [
    "# function that takes as input a list of file-names and outputs a list of pyannote timelines \n",
    "path = '/Users/andrei-macpro/Documents/Data/Audio/speech_detection_timestamps/speech_detection_meal'\n",
    "json_files = [pos_json for pos_json in sorted(os.listdir(path))]\n",
    "def get_timelines(json_files):\n",
    "    list_json=list()\n",
    "    list_timelines=list()\n",
    "    for filename in json_files: # loop that imports all json data into separate dictionaries\n",
    "        with open(filename) as json_file:\n",
    "            data = json.load(json_file)\n",
    "            list_json.append(data)\n",
    "    for file, segments in zip(json_files, list_json): # loop to iterate through the files and create a new timeline for each of them \n",
    "        timeline=Timeline()\n",
    "        list_timelines.append(timeline.from_json(segments))\n",
    "    return list_timelines\n",
    "    "
   ]
  },
  {
   "cell_type": "code",
   "execution_count": 35,
   "metadata": {},
   "outputs": [],
   "source": [
    "def get_start_times(list_of_timelines): # returns a list of start_times for both speech and silence from the given timelines\n",
    "    start_times_speech = [segment.start for timeline in list_of_timelines for segment in timeline if segment.start <=180]\n",
    "    start_times_silence = [segment.start for timeline in list_of_timelines for segment in timeline.gaps() if segment.start <=180]\n",
    "    return numpy.array(start_times_speech + start_times_silence)"
   ]
  },
  {
   "cell_type": "code",
   "execution_count": 9,
   "metadata": {},
   "outputs": [
    {
     "ename": "NameError",
     "evalue": "name 'duration_distribution_meal' is not defined",
     "output_type": "error",
     "traceback": [
      "\u001b[0;31m---------------------------------------------------------------------------\u001b[0m",
      "\u001b[0;31mNameError\u001b[0m                                 Traceback (most recent call last)",
      "\u001b[0;32m<ipython-input-9-4d1dc56aba75>\u001b[0m in \u001b[0;36m<module>\u001b[0;34m\u001b[0m\n\u001b[0;32m----> 1\u001b[0;31m \u001b[0mlen\u001b[0m\u001b[0;34m(\u001b[0m\u001b[0mduration_distribution_meal\u001b[0m\u001b[0;34m)\u001b[0m\u001b[0;34m\u001b[0m\u001b[0;34m\u001b[0m\u001b[0m\n\u001b[0m",
      "\u001b[0;31mNameError\u001b[0m: name 'duration_distribution_meal' is not defined"
     ]
    }
   ],
   "source": [
    "len(duration_distribution_meal)"
   ]
  },
  {
   "cell_type": "code",
   "execution_count": 36,
   "metadata": {},
   "outputs": [],
   "source": [
    "def count_durations(start_times, list_of_timelines):\n",
    "    duration_distribution_meal = np.zeros(180, dtype=int) # initialize a list that will store the no of occurences of each timepoint\n",
    "    avg_transitions = np.zeros(180)# initialize a list that will store the average no of transitions at each timepoint\n",
    "    counter = 1\n",
    "    while counter <= len(duration_distribution_meal):\n",
    "        for start_time in start_times: \n",
    "            if start_time<=counter:\n",
    "                duration_distribution_meal[counter-1] +=1 # access the index of the list and decrease by 1 to start from 0 and increase the number by 1\n",
    "            avg_transitions[counter-1] = duration_distribution_meal[counter-1]/len(list_of_timelines)\n",
    "        counter += 1 \n",
    "    return duration_distribution_meal, avg_transitions #i actually don't need the first list"
   ]
  },
  {
   "cell_type": "code",
   "execution_count": 37,
   "metadata": {},
   "outputs": [],
   "source": [
    "list_timelines_meal=get_timelines(json_files) # list containing the pyannote timeline of each meal recording "
   ]
  },
  {
   "cell_type": "code",
   "execution_count": 38,
   "metadata": {},
   "outputs": [],
   "source": [
    "start_times = get_start_times(list_timelines_meal)\n"
   ]
  },
  {
   "cell_type": "code",
   "execution_count": 39,
   "metadata": {},
   "outputs": [],
   "source": [
    "duration_distribution_meal, avg_transitions = count_durations(start_times, list_timelines_meal)"
   ]
  },
  {
   "cell_type": "code",
   "execution_count": 259,
   "metadata": {},
   "outputs": [],
   "source": [
    "%config Completer.use_jedi = False # gets autocomplete to work"
   ]
  },
  {
   "cell_type": "code",
   "execution_count": 72,
   "metadata": {
    "collapsed": true
   },
   "outputs": [
    {
     "data": {
      "text/plain": [
       "[0.01015625,\n",
       " 0.01015625,\n",
       " 0.01015625,\n",
       " 0.01015625,\n",
       " 0.01015625,\n",
       " 0.01015625,\n",
       " 0.01015625,\n",
       " 0.01015625,\n",
       " 0.01015625,\n",
       " 0.01015625,\n",
       " 0.01015625,\n",
       " 0.01015625,\n",
       " 0.01015625,\n",
       " 0.01015625,\n",
       " 0.01015625,\n",
       " 0.01015625,\n",
       " 0.01015625,\n",
       " 0.01015625,\n",
       " 0.01015625,\n",
       " 0.01015625,\n",
       " 0.01015625,\n",
       " 0.01015625,\n",
       " 0.01015625,\n",
       " 0.01015625,\n",
       " 0.01015625,\n",
       " 0.01015625,\n",
       " 0.01015625,\n",
       " 0.01015625,\n",
       " 0.01015625,\n",
       " 0.01015625,\n",
       " 0.01015625,\n",
       " 0.01015625,\n",
       " 0.01015625,\n",
       " 0.01015625,\n",
       " 0.01015625,\n",
       " 0.01015625,\n",
       " 0.01015625,\n",
       " 0.01015625,\n",
       " 0.01015625,\n",
       " 0.01015625,\n",
       " 0.01015625,\n",
       " 0.01015625,\n",
       " 0.01015625,\n",
       " 0.01015625,\n",
       " 0.01015625,\n",
       " 0.01015625,\n",
       " 0.01015625,\n",
       " 0.01015625,\n",
       " 0.01015625,\n",
       " 0.01015625,\n",
       " 0.01015625,\n",
       " 0.09959375000000001]"
      ]
     },
     "execution_count": 72,
     "metadata": {},
     "output_type": "execute_result"
    }
   ],
   "source": [
    "sorted(start_times)[0:52] # seems like there are 52 audiofiles with the same start-time and the rest have a different one"
   ]
  },
  {
   "cell_type": "code",
   "execution_count": 40,
   "metadata": {},
   "outputs": [
    {
     "name": "stdout",
     "output_type": "stream",
     "text": [
      "0.01015625\n"
     ]
    }
   ],
   "source": [
    "print(start_times[0])"
   ]
  },
  {
   "cell_type": "code",
   "execution_count": 48,
   "metadata": {},
   "outputs": [
    {
     "data": {
      "text/html": [
       "<div>\n",
       "<style scoped>\n",
       "    .dataframe tbody tr th:only-of-type {\n",
       "        vertical-align: middle;\n",
       "    }\n",
       "\n",
       "    .dataframe tbody tr th {\n",
       "        vertical-align: top;\n",
       "    }\n",
       "\n",
       "    .dataframe thead th {\n",
       "        text-align: right;\n",
       "    }\n",
       "</style>\n",
       "<table border=\"1\" class=\"dataframe\">\n",
       "  <thead>\n",
       "    <tr style=\"text-align: right;\">\n",
       "      <th></th>\n",
       "      <th>Frequency of transitions</th>\n",
       "      <th>Average transitions</th>\n",
       "      <th>time</th>\n",
       "    </tr>\n",
       "  </thead>\n",
       "  <tbody>\n",
       "    <tr>\n",
       "      <th>0</th>\n",
       "      <td>68</td>\n",
       "      <td>1.114754</td>\n",
       "      <td>1</td>\n",
       "    </tr>\n",
       "    <tr>\n",
       "      <th>1</th>\n",
       "      <td>90</td>\n",
       "      <td>1.475410</td>\n",
       "      <td>2</td>\n",
       "    </tr>\n",
       "    <tr>\n",
       "      <th>2</th>\n",
       "      <td>119</td>\n",
       "      <td>1.950820</td>\n",
       "      <td>3</td>\n",
       "    </tr>\n",
       "    <tr>\n",
       "      <th>3</th>\n",
       "      <td>140</td>\n",
       "      <td>2.295082</td>\n",
       "      <td>4</td>\n",
       "    </tr>\n",
       "    <tr>\n",
       "      <th>4</th>\n",
       "      <td>164</td>\n",
       "      <td>2.688525</td>\n",
       "      <td>5</td>\n",
       "    </tr>\n",
       "  </tbody>\n",
       "</table>\n",
       "</div>"
      ],
      "text/plain": [
       "   Frequency of transitions  Average transitions  time\n",
       "0                        68             1.114754     1\n",
       "1                        90             1.475410     2\n",
       "2                       119             1.950820     3\n",
       "3                       140             2.295082     4\n",
       "4                       164             2.688525     5"
      ]
     },
     "execution_count": 48,
     "metadata": {},
     "output_type": "execute_result"
    }
   ],
   "source": [
    "time = [i for i in range(1, 181)] # how many seconds we're looking at\n",
    "index_df = [i for i in range(len(time))]\n",
    "df = pd.DataFrame(list(zip(duration_distribution_meal,avg_transitions, time)), columns = ['Frequency of transitions', \n",
    "                                                                                   'Average transitions', 'time'], \n",
    "                  index=index_df)\n",
    "df.head()"
   ]
  },
  {
   "cell_type": "code",
   "execution_count": 271,
   "metadata": {},
   "outputs": [
    {
     "data": {
      "text/plain": [
       "<AxesSubplot:xlabel='time', ylabel='Average transitions'>"
      ]
     },
     "execution_count": 271,
     "metadata": {},
     "output_type": "execute_result"
    },
    {
     "data": {
      "image/png": "[encoded data removed]",
      "text/plain": [
       "<Figure size 432x288 with 1 Axes>"
      ]
     },
     "metadata": {
      "needs_background": "light"
     },
     "output_type": "display_data"
    }
   ],
   "source": [
    "df.plot.scatter(x='time', y='Average transitions')"
   ]
  },
  {
   "cell_type": "markdown",
   "metadata": {},
   "source": [
    "# now let's do it just for rad and non-rad independently"
   ]
  },
  {
   "cell_type": "code",
   "execution_count": 41,
   "metadata": {},
   "outputs": [
    {
     "data": {
      "text/html": [
       "<div>\n",
       "<style scoped>\n",
       "    .dataframe tbody tr th:only-of-type {\n",
       "        vertical-align: middle;\n",
       "    }\n",
       "\n",
       "    .dataframe tbody tr th {\n",
       "        vertical-align: top;\n",
       "    }\n",
       "\n",
       "    .dataframe thead th {\n",
       "        text-align: right;\n",
       "    }\n",
       "</style>\n",
       "<table border=\"1\" class=\"dataframe\">\n",
       "  <thead>\n",
       "    <tr style=\"text-align: right;\">\n",
       "      <th></th>\n",
       "      <th>Subject_ID</th>\n",
       "      <th>Age</th>\n",
       "      <th>DAI</th>\n",
       "      <th>Rinab</th>\n",
       "      <th>WPPSIIQ_T2</th>\n",
       "      <th>Duration_meal</th>\n",
       "      <th>Duration_play</th>\n",
       "      <th>Gender</th>\n",
       "      <th>label</th>\n",
       "    </tr>\n",
       "  </thead>\n",
       "  <tbody>\n",
       "    <tr>\n",
       "      <th>0</th>\n",
       "      <td>1043</td>\n",
       "      <td>60.0</td>\n",
       "      <td>0.0</td>\n",
       "      <td>5</td>\n",
       "      <td>91.0</td>\n",
       "      <td>1042.66</td>\n",
       "      <td>531.58</td>\n",
       "      <td>F</td>\n",
       "      <td>no_rad</td>\n",
       "    </tr>\n",
       "    <tr>\n",
       "      <th>1</th>\n",
       "      <td>1047</td>\n",
       "      <td>52.0</td>\n",
       "      <td>6.0</td>\n",
       "      <td>15</td>\n",
       "      <td>109.0</td>\n",
       "      <td>1300.00</td>\n",
       "      <td>391.84</td>\n",
       "      <td>M</td>\n",
       "      <td>rad</td>\n",
       "    </tr>\n",
       "    <tr>\n",
       "      <th>2</th>\n",
       "      <td>1049</td>\n",
       "      <td>43.0</td>\n",
       "      <td>2.0</td>\n",
       "      <td>3</td>\n",
       "      <td>74.0</td>\n",
       "      <td>842.32</td>\n",
       "      <td>203.68</td>\n",
       "      <td>M</td>\n",
       "      <td>no_rad</td>\n",
       "    </tr>\n",
       "    <tr>\n",
       "      <th>3</th>\n",
       "      <td>1053</td>\n",
       "      <td>33.0</td>\n",
       "      <td>2.0</td>\n",
       "      <td>3</td>\n",
       "      <td>82.0</td>\n",
       "      <td>989.48</td>\n",
       "      <td>419.02</td>\n",
       "      <td>F</td>\n",
       "      <td>no_rad</td>\n",
       "    </tr>\n",
       "    <tr>\n",
       "      <th>4</th>\n",
       "      <td>1059</td>\n",
       "      <td>41.0</td>\n",
       "      <td>0.0</td>\n",
       "      <td>31</td>\n",
       "      <td>66.0</td>\n",
       "      <td>965.14</td>\n",
       "      <td>489.52</td>\n",
       "      <td>M</td>\n",
       "      <td>rad</td>\n",
       "    </tr>\n",
       "  </tbody>\n",
       "</table>\n",
       "</div>"
      ],
      "text/plain": [
       "   Subject_ID   Age  DAI  Rinab  WPPSIIQ_T2  Duration_meal  Duration_play  \\\n",
       "0        1043  60.0  0.0      5        91.0        1042.66         531.58   \n",
       "1        1047  52.0  6.0     15       109.0        1300.00         391.84   \n",
       "2        1049  43.0  2.0      3        74.0         842.32         203.68   \n",
       "3        1053  33.0  2.0      3        82.0         989.48         419.02   \n",
       "4        1059  41.0  0.0     31        66.0         965.14         489.52   \n",
       "\n",
       "  Gender   label  \n",
       "0      F  no_rad  \n",
       "1      M     rad  \n",
       "2      M  no_rad  \n",
       "3      F  no_rad  \n",
       "4      M     rad  "
      ]
     },
     "execution_count": 41,
     "metadata": {},
     "output_type": "execute_result"
    }
   ],
   "source": [
    "labels = pd.read_excel('/Users/andrei-macpro/Documents/Data/Results/corpus_processed/corpus_labelled.xlsx', \n",
    "                      )\n",
    "labels.head()"
   ]
  },
  {
   "cell_type": "code",
   "execution_count": 42,
   "metadata": {},
   "outputs": [],
   "source": [
    "only_rad = labels['Subject_ID'].loc[labels['label']=='rad'].tolist() # these are the subject_id's of rad children \n",
    "no_rad = labels['Subject_ID'].loc[labels['label']=='no_rad'].tolist() # and the ones for no-rad children"
   ]
  },
  {
   "cell_type": "markdown",
   "metadata": {},
   "source": [
    "# first for meal"
   ]
  },
  {
   "cell_type": "code",
   "execution_count": 43,
   "metadata": {},
   "outputs": [],
   "source": [
    "# json files for each group\n",
    "json_rad = [file for file in json_files if int(file.split('_')[0]) in only_rad] \n",
    "json_norad = [file for file in json_files if int(file.split('_')[0]) in no_rad]"
   ]
  },
  {
   "cell_type": "code",
   "execution_count": 44,
   "metadata": {},
   "outputs": [],
   "source": [
    "timelines_meal_rad = get_timelines(json_rad) \n",
    "start_times_rad = get_start_times(timelines_meal_rad)"
   ]
  },
  {
   "cell_type": "code",
   "execution_count": 45,
   "metadata": {},
   "outputs": [],
   "source": [
    "timelines_meal_norad = get_timelines(json_norad) \n",
    "start_times_norad = get_start_times(timelines_meal_norad)"
   ]
  },
  {
   "cell_type": "code",
   "execution_count": 46,
   "metadata": {},
   "outputs": [],
   "source": [
    "duration_distribution_meal_rad, avg_transitions_rad = count_durations(start_times_rad, timelines_meal_rad)\n",
    "duration_distribution_meal_norad, avg_transitions_norad = count_durations(start_times_norad, timelines_meal_norad)\n"
   ]
  },
  {
   "cell_type": "code",
   "execution_count": 49,
   "metadata": {},
   "outputs": [
    {
     "data": {
      "text/plain": [
       "<AxesSubplot:xlabel='time', ylabel='Average transitions norad meal'>"
      ]
     },
     "execution_count": 49,
     "metadata": {},
     "output_type": "execute_result"
    },
    {
     "data": {
      "image/png": "[encoded data removed]",
      "text/plain": [
       "<Figure size 432x288 with 1 Axes>"
      ]
     },
     "metadata": {
      "needs_background": "light"
     },
     "output_type": "display_data"
    }
   ],
   "source": [
    "# build df for no rad\n",
    "df_norad = pd.DataFrame(list(zip(duration_distribution_meal_norad,avg_transitions_norad, time)), columns = [\n",
    "    'Frequency of transitions norad meal', 'Average transitions norad meal', 'time'], \n",
    "                  index=index_df)\n",
    "df_norad.plot.scatter(x='time', y='Average transitions norad meal')"
   ]
  },
  {
   "cell_type": "code",
   "execution_count": 50,
   "metadata": {},
   "outputs": [
    {
     "data": {
      "text/plain": [
       "<AxesSubplot:xlabel='time', ylabel='Average transitions rad meal'>"
      ]
     },
     "execution_count": 50,
     "metadata": {},
     "output_type": "execute_result"
    },
    {
     "data": {
      "image/png": "[encoded data removed]",
      "text/plain": [
       "<Figure size 432x288 with 1 Axes>"
      ]
     },
     "metadata": {
      "needs_background": "light"
     },
     "output_type": "display_data"
    }
   ],
   "source": [
    "df_rad = pd.DataFrame(list(zip(duration_distribution_meal_rad,avg_transitions_rad, time)), columns = \n",
    "                      ['Frequency of transitions rad meal', \n",
    "                        'Average transitions rad meal', 'time'], \n",
    "                  index=index_df)\n",
    "df_rad.plot.scatter(x='time', y='Average transitions rad meal')"
   ]
  },
  {
   "cell_type": "code",
   "execution_count": 55,
   "metadata": {},
   "outputs": [],
   "source": [
    "slope_norad, intercept, r, p, se = stats.linregress(df_norad['time'], df_norad['Average transitions norad meal'])"
   ]
  },
  {
   "cell_type": "code",
   "execution_count": 59,
   "metadata": {},
   "outputs": [],
   "source": [
    "slope_rad, intercept, r, p, se = stats.linregress(df_rad['time'], df_rad['Average transitions rad meal'])"
   ]
  },
  {
   "cell_type": "code",
   "execution_count": 57,
   "metadata": {},
   "outputs": [
    {
     "name": "stdout",
     "output_type": "stream",
     "text": [
      "0.3650548922160152\n"
     ]
    }
   ],
   "source": [
    "import math   \n",
    "print (math.atan(slope_norad))"
   ]
  },
  {
   "cell_type": "code",
   "execution_count": 58,
   "metadata": {},
   "outputs": [
    {
     "ename": "NameError",
     "evalue": "name 'slope_rad' is not defined",
     "output_type": "error",
     "traceback": [
      "\u001b[0;31m---------------------------------------------------------------------------\u001b[0m",
      "\u001b[0;31mNameError\u001b[0m                                 Traceback (most recent call last)",
      "\u001b[0;32m<ipython-input-58-fe57da7d72a9>\u001b[0m in \u001b[0;36m<module>\u001b[0;34m\u001b[0m\n\u001b[0;32m----> 1\u001b[0;31m \u001b[0mnp\u001b[0m\u001b[0;34m.\u001b[0m\u001b[0marctan\u001b[0m\u001b[0;34m(\u001b[0m\u001b[0mslope_rad\u001b[0m\u001b[0;34m)\u001b[0m\u001b[0;34m\u001b[0m\u001b[0;34m\u001b[0m\u001b[0m\n\u001b[0m",
      "\u001b[0;31mNameError\u001b[0m: name 'slope_rad' is not defined"
     ]
    }
   ],
   "source": [
    "np.arctan(slope_rad)"
   ]
  },
  {
   "cell_type": "code",
   "execution_count": 78,
   "metadata": {},
   "outputs": [
    {
     "data": {
      "text/plain": [
       "0.41630190918101034"
      ]
     },
     "execution_count": 78,
     "metadata": {},
     "output_type": "execute_result"
    }
   ],
   "source": [
    "slope_rad #meal"
   ]
  },
  {
   "cell_type": "code",
   "execution_count": 79,
   "metadata": {},
   "outputs": [
    {
     "data": {
      "text/plain": [
       "0.38218496721158585"
      ]
     },
     "execution_count": 79,
     "metadata": {},
     "output_type": "execute_result"
    }
   ],
   "source": [
    "slope_norad #meal"
   ]
  },
  {
   "cell_type": "markdown",
   "metadata": {},
   "source": [
    "# now doing it for play scenes"
   ]
  },
  {
   "cell_type": "code",
   "execution_count": 61,
   "metadata": {},
   "outputs": [],
   "source": [
    "os.chdir('/Users/andrei-macpro/Documents/Data/Audio/speech_detection_timestamps/speech_detection_play')"
   ]
  },
  {
   "cell_type": "code",
   "execution_count": 62,
   "metadata": {},
   "outputs": [],
   "source": [
    "path = '/Users/andrei-macpro/Documents/Data/Audio/speech_detection_timestamps/speech_detection_play'\n",
    "json_files_play = [pos_json for pos_json in sorted(os.listdir(path))]"
   ]
  },
  {
   "cell_type": "code",
   "execution_count": 63,
   "metadata": {},
   "outputs": [],
   "source": [
    "json_rad_play = [file for file in json_files_play if int(file.split('_')[0]) in only_rad] \n",
    "json_norad_play = [file for file in json_files_play if int(file.split('_')[0]) in no_rad]"
   ]
  },
  {
   "cell_type": "code",
   "execution_count": 64,
   "metadata": {},
   "outputs": [],
   "source": [
    "timelines_meal_rad_play = get_timelines(json_rad_play) \n",
    "start_times_rad_play = get_start_times(timelines_meal_rad_play)"
   ]
  },
  {
   "cell_type": "code",
   "execution_count": 65,
   "metadata": {},
   "outputs": [],
   "source": [
    "timelines_meal_norad_play = get_timelines(json_norad_play) \n",
    "start_times_norad_play = get_start_times(timelines_meal_norad_play)"
   ]
  },
  {
   "cell_type": "code",
   "execution_count": 66,
   "metadata": {},
   "outputs": [],
   "source": [
    "duration_distribution_meal_rad_play, avg_transitions_rad_play = count_durations(start_times_rad_play, timelines_meal_rad_play)\n",
    "duration_distribution_meal_norad_play, avg_transitions_norad_play = count_durations(start_times_norad_play, timelines_meal_norad_play)"
   ]
  },
  {
   "cell_type": "code",
   "execution_count": 67,
   "metadata": {},
   "outputs": [
    {
     "data": {
      "text/plain": [
       "<AxesSubplot:xlabel='time', ylabel='Average transitions norad play'>"
      ]
     },
     "execution_count": 67,
     "metadata": {},
     "output_type": "execute_result"
    },
    {
     "data": {
      "image/png": "[encoded data removed]",
      "text/plain": [
       "<Figure size 432x288 with 1 Axes>"
      ]
     },
     "metadata": {
      "needs_background": "light"
     },
     "output_type": "display_data"
    }
   ],
   "source": [
    "df_norad_play = pd.DataFrame(list(zip(duration_distribution_meal_norad_play,avg_transitions_norad_play, time)), \n",
    "                             columns = ['Frequency of transitions norad play', \n",
    "                                        'Average transitions norad play', 'time'], \n",
    "                  index=index_df)\n",
    "df_norad_play.plot.scatter(x='time', y='Average transitions norad play')"
   ]
  },
  {
   "cell_type": "code",
   "execution_count": 68,
   "metadata": {},
   "outputs": [
    {
     "data": {
      "text/plain": [
       "<AxesSubplot:xlabel='time', ylabel='Average transitions rad play'>"
      ]
     },
     "execution_count": 68,
     "metadata": {},
     "output_type": "execute_result"
    },
    {
     "data": {
      "image/png": "[encoded data removed]",
      "text/plain": [
       "<Figure size 432x288 with 1 Axes>"
      ]
     },
     "metadata": {
      "needs_background": "light"
     },
     "output_type": "display_data"
    }
   ],
   "source": [
    "df_rad_play = pd.DataFrame(list(zip(duration_distribution_meal_rad_play,avg_transitions_rad_play, time)), \n",
    "                           columns = ['Frequency of transitions rad play', \n",
    "                                    'Average transitions rad play', 'time'], \n",
    "                  index=index_df)\n",
    "df_rad_play.plot.scatter(x='time', y='Average transitions rad play')"
   ]
  },
  {
   "cell_type": "code",
   "execution_count": 71,
   "metadata": {},
   "outputs": [],
   "source": [
    "slope_rad_play, intercept, r, p, se = stats.linregress(df_rad_play['time'], df_rad_play['Average transitions rad play'])\n",
    "slope_norad_play, intercept, r, p, se = stats.linregress(df_norad_play['time'], df_norad_play['Average transitions norad play'])"
   ]
  },
  {
   "cell_type": "code",
   "execution_count": 72,
   "metadata": {},
   "outputs": [
    {
     "data": {
      "text/plain": [
       "(0.4430270824545339, 0.41528969930374193)"
      ]
     },
     "execution_count": 72,
     "metadata": {},
     "output_type": "execute_result"
    }
   ],
   "source": [
    "slope_rad_play, slope_norad_play"
   ]
  },
  {
   "cell_type": "code",
   "execution_count": 74,
   "metadata": {},
   "outputs": [],
   "source": [
    "df_meal_play = pd.concat([df_rad, df_norad, df_norad_play, df_rad_play], axis=1)"
   ]
  },
  {
   "cell_type": "code",
   "execution_count": 75,
   "metadata": {},
   "outputs": [],
   "source": [
    "df_meal_play = df_meal_play.loc[:,~df_meal_play.columns.duplicated()]"
   ]
  },
  {
   "cell_type": "code",
   "execution_count": 80,
   "metadata": {},
   "outputs": [
    {
     "data": {
      "image/png": "[encoded data removed]",
      "text/plain": [
       "<Figure size 1080x720 with 5 Axes>"
      ]
     },
     "metadata": {
      "needs_background": "light"
     },
     "output_type": "display_data"
    }
   ],
   "source": [
    "fig, axs = plt.subplots(2, 2, sharex=True,sharey=True, figsize=(15, 10))\n",
    "axs[0, 0].scatter(df_meal_play['time'], df_meal_play['Average transitions rad play'], label='slope = 0.44')\n",
    "axs[0, 0].set_title(\"RAD Play\")\n",
    "axs[0, 0].legend()\n",
    "axs[1, 0].scatter(df_meal_play['time'], df_meal_play['Average transitions rad meal'], label ='slope = 0.41' )\n",
    "axs[1, 0].set_title(\"RAD Meal\")\n",
    "axs[1, 0].legend(loc='upper left')\n",
    "axs[0, 1].scatter(df_meal_play['time'], df_meal_play['Average transitions norad play'], label = 'slope= 0.41' )\n",
    "axs[0, 1].set_title(\"No RAD Play\")\n",
    "axs[0, 1].legend(loc='upper left')\n",
    "axs[1, 1].scatter(df_meal_play['time'], df_meal_play['Average transitions norad meal'], label = 'slope=0.38' )\n",
    "axs[1, 1].set_title(\"No RAD Meal\")\n",
    "axs[1, 1].legend(loc='upper left')\n",
    "fig.add_subplot(111, frame_on=False)\n",
    "plt.tick_params(labelcolor=\"none\", bottom=False, left=False)\n",
    "\n",
    "plt.xlabel(\"Time\", fontsize=18)\n",
    "plt.ylabel(\"Average transitions\", fontsize=16)\n",
    "fig.tight_layout()"
   ]
  },
  {
   "cell_type": "markdown",
   "metadata": {},
   "source": [
    "# let's look at the average transitions for each scene and group"
   ]
  },
  {
   "cell_type": "code",
   "execution_count": 76,
   "metadata": {},
   "outputs": [
    {
     "data": {
      "text/plain": [
       "0       1.032258\n",
       "1       1.451613\n",
       "2       2.000000\n",
       "3       2.419355\n",
       "4       2.774194\n",
       "         ...    \n",
       "175    68.193548\n",
       "176    68.741935\n",
       "177    69.032258\n",
       "178    69.451613\n",
       "179    70.000000\n",
       "Name: Average transitions norad meal, Length: 180, dtype: float64"
      ]
     },
     "execution_count": 76,
     "metadata": {},
     "output_type": "execute_result"
    }
   ],
   "source": [
    "df_meal_play['Average transitions rad play'], df_meal_play['Average transitions rad meal'], df_meal_play['Average transitions norad play'],\n",
    "df_meal_play['Average transitions norad meal']"
   ]
  },
  {
   "cell_type": "code",
   "execution_count": 83,
   "metadata": {},
   "outputs": [
    {
     "data": {
      "text/plain": [
       "Ttest_indResult(statistic=1.6622554174845747, pvalue=0.0973368518032041)"
      ]
     },
     "execution_count": 83,
     "metadata": {},
     "output_type": "execute_result"
    }
   ],
   "source": [
    "stats.ttest_ind(df_meal_play['Average transitions rad meal'],df_meal_play['Average transitions norad meal'])"
   ]
  },
  {
   "cell_type": "code",
   "execution_count": 86,
   "metadata": {},
   "outputs": [
    {
     "data": {
      "text/plain": [
       "Ttest_indResult(statistic=0.5664767210857408, pvalue=0.571424702084822)"
      ]
     },
     "execution_count": 86,
     "metadata": {},
     "output_type": "execute_result"
    }
   ],
   "source": [
    "stats.ttest_ind(df_meal_play['Average transitions rad play'],df_meal_play['Average transitions norad play'])"
   ]
  },
  {
   "cell_type": "code",
   "execution_count": null,
   "metadata": {},
   "outputs": [],
   "source": []
  }
 ],
 "metadata": {
  "kernelspec": {
   "display_name": "Python 3",
   "language": "python",
   "name": "python3"
  },
  "language_info": {
   "codemirror_mode": {
    "name": "ipython",
    "version": 3
   },
   "file_extension": ".py",
   "mimetype": "text/x-python",
   "name": "python",
   "nbconvert_exporter": "python",
   "pygments_lexer": "ipython3",
   "version": "3.8.5"
  }
 },
 "nbformat": 4,
 "nbformat_minor": 4
}
