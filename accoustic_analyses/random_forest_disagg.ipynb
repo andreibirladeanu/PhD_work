{
 "cells": [
  {
   "cell_type": "markdown",
   "metadata": {},
   "source": [
    "# this notebook performs random forest regression on disaggregate data of all acoustic scenarios (cg meal, cg play, child meal)"
   ]
  },
  {
   "cell_type": "code",
   "execution_count": null,
   "metadata": {},
   "outputs": [],
   "source": [
    "import os\n",
    "import pandas as pd\n",
    "import numpy as np\n",
    "from sklearn.model_selection import KFold\n",
    "from sklearn.model_selection import cross_val_score\n",
    "from sklearn.linear_model import LogisticRegression\n",
    "from numpy import mean\n",
    "from numpy import std\n",
    "from sklearn.model_selection import GroupKFold\n",
    "from sklearn.preprocessing import StandardScaler\n",
    "from sklearn.utils import shuffle\n",
    "from sklearn.svm import SVC\n",
    "from sklearn.model_selection import cross_val_predict\n",
    "from sklearn.metrics import accuracy_score\n",
    "from sklearn.model_selection import cross_validate\n",
    "from sklearn.metrics import recall_score\n",
    "from sklearn.metrics import precision_score\n",
    "from sklearn.model_selection import StratifiedShuffleSplit\n",
    "from sklearn.ensemble import RandomForestRegressor\n",
    "from sklearn.metrics import mean_squared_error\n",
    "from tqdm import tqdm"
   ]
  },
  {
   "cell_type": "markdown",
   "metadata": {},
   "source": [
    "## first on cg meal acoustic disagg dataset "
   ]
  },
  {
   "cell_type": "markdown",
   "metadata": {},
   "source": [
    "## explore the dataset and attach the continuous measures \n"
   ]
  },
  {
   "cell_type": "code",
   "execution_count": null,
   "metadata": {},
   "outputs": [],
   "source": [
    "os.chdir('/Users/andrei-macpro/Documents/Data/Accoustics/extraction_3.0/meal_child_prosody/')\n",
    "file_names=sorted([i for i in os.listdir(\".\") if not i.startswith(\".\")])\n",
    "dfs = []\n",
    "\n",
    "for file in file_names:\n",
    "    dfs.append(pd.read_csv(file, index_col=0))\n"
   ]
  },
  {
   "cell_type": "code",
   "execution_count": null,
   "metadata": {},
   "outputs": [],
   "source": [
    "df = pd.concat([df for df in dfs])\n"
   ]
  },
  {
   "cell_type": "code",
   "execution_count": null,
   "metadata": {},
   "outputs": [],
   "source": [
    "df = df.drop(columns=['intensity_percentile_1_99_range', 'loudness_slidingwindow_percentile_1_99_range', \n",
    "                      'intensity_percentile_1_99_range', 'rms_mean', 'rms_std','rms_percentile_1_99_range',\n",
    "                      'f0_contour_percentile_1_99_range' ])"
   ]
  },
  {
   "cell_type": "code",
   "execution_count": null,
   "metadata": {},
   "outputs": [],
   "source": [
    "# get the RAD measures from another file but make sure it has the subject ID's \n",
    "measures = pd.read_csv('/Users/andrei-macpro/Documents/Data/classification/accoustics/extraction_3.0/child_meal_prosody_regression.csv', index_col=0)"
   ]
  },
  {
   "cell_type": "code",
   "execution_count": null,
   "metadata": {},
   "outputs": [],
   "source": [
    "measures.index, df.index, measures.columns"
   ]
  },
  {
   "cell_type": "code",
   "execution_count": null,
   "metadata": {},
   "outputs": [],
   "source": [
    "# add the columns 'DAI' and \"Rinab\" from the measures dataframe to the df dataframe\n",
    "df['DAI'] = measures['DAI']\n",
    "df['Rinab'] = measures['Rinab']\n",
    "df = df.dropna()"
   ]
  },
  {
   "cell_type": "code",
   "execution_count": null,
   "metadata": {},
   "outputs": [],
   "source": [
    "# save df to a csv file\n",
    "df.to_csv('/Users/andrei-macpro/Documents/Data/classification/accoustics/extraction_3.0/child_meal_prosody_regression_disag.csv')"
   ]
  },
  {
   "cell_type": "code",
   "execution_count": null,
   "metadata": {},
   "outputs": [],
   "source": [
    "measures"
   ]
  },
  {
   "cell_type": "code",
   "execution_count": null,
   "metadata": {},
   "outputs": [],
   "source": [
    "X = df.iloc[:, 1:-2].values\n",
    "s_id = df.index.values\n",
    "dai = df.iloc[:,-2].values\n",
    "rinab = df.iloc[:,-1].values"
   ]
  },
  {
   "cell_type": "code",
   "execution_count": null,
   "metadata": {},
   "outputs": [],
   "source": [
    "len(s_id) == len(rinab)"
   ]
  },
  {
   "cell_type": "code",
   "execution_count": null,
   "metadata": {},
   "outputs": [],
   "source": [
    "from sklearn.model_selection import RandomizedSearchCV\n",
    "\n",
    "# perform feature scaling\n",
    "scaler = StandardScaler()\n",
    "X_scaled = scaler.fit_transform(X)\n",
    "\n",
    "# define the model\n",
    "model = RandomForestRegressor(random_state=0, n_jobs=-1)\n",
    "\n",
    "# define the hyperparameters to tune\n",
    "param_grid = {\n",
    "    'n_estimators': [100, 200, 300],\n",
    "    'max_depth': [None, 5, 10],\n",
    "    'min_samples_split': [2, 5, 10],\n",
    "    'min_samples_leaf': [1, 2, 4]\n",
    "}\n",
    "\n",
    "# define the evaluation procedure\n",
    "cv = GroupKFold(n_splits=5)\n",
    "\n",
    "# perform randomized search to find the best hyperparameters\n",
    "random_search = RandomizedSearchCV(estimator=model, param_distributions=param_grid, scoring='r2', cv=cv, n_jobs=-1, n_iter=10, verbose=3)\n",
    "\n",
    "random_search.fit(X_scaled, rinab, groups=s_id)\n",
    "\n",
    "# get the best hyperparameters and model\n",
    "best_params = random_search.best_params_\n",
    "best_model = random_search.best_estimator_\n",
    "\n",
    "# evaluate the best model using mean squared error, coefficient of determination, and explained variance score\n",
    "scoring = ['neg_mean_squared_error', 'r2', 'explained_variance']\n",
    "scores = cross_validate(best_model, X_scaled, rinab, scoring=scoring, groups=s_id, cv=cv, n_jobs=-1)\n",
    "\n",
    "# report performance\n",
    "print('Best Hyperparameters:', best_params)\n",
    "print('Mean MSE: %.3f (%.3f)' % (mean(scores['test_neg_mean_squared_error']), std(scores['test_neg_mean_squared_error'])))\n",
    "print('Mean R^2: %.3f (%.3f)' % (mean(scores['test_r2']), std(scores['test_r2'])))\n",
    "print('Mean EV: %.3f (%.3f)' % (mean(scores['test_explained_variance']), std(scores['test_explained_variance'])))"
   ]
  },
  {
   "cell_type": "markdown",
   "metadata": {},
   "source": [
    "# CG Play Rinab\n",
    "Best Hyperparameters: {'n_estimators': 300, 'min_samples_split': 5, 'min_samples_leaf': 1, 'max_depth': 5}\\\n",
    "Mean MSE: -63.604 (53.054)\\\n",
    "Mean R^2: -1.339 (1.223)\\\n",
    "Mean EV: -0.505 (0.531)"
   ]
  },
  {
   "cell_type": "markdown",
   "metadata": {},
   "source": [
    "# CG Play DAI\n",
    "Best Hyperparameters: {'n_estimators': 200, 'min_samples_split': 5, 'min_samples_leaf': 2, 'max_depth': 5}\\\n",
    "Mean MSE: -4.863 (2.211)\\\n",
    "Mean R^2: -0.714 (0.609)\\\n",
    "Mean EV: -0.150 (0.283)"
   ]
  },
  {
   "cell_type": "markdown",
   "metadata": {},
   "source": [
    "# CG MEAL DAI\n",
    "Best Hyperparameters: {'n_estimators': 300, 'min_samples_split': 5, 'min_samples_leaf': 1, 'max_depth': None}\\\n",
    "Mean MSE: -5.601 (3.678)\\\n",
    "Mean R^2: -1.015 (1.295)\\\n",
    "Mean EV: -0.384 (0.754)"
   ]
  },
  {
   "cell_type": "markdown",
   "metadata": {},
   "source": [
    "# CG MEAL RINAB\n",
    "Best Hyperparameters: {'n_estimators': 200, 'min_samples_split': 2, 'min_samples_leaf': 2, 'max_depth': 5}\\\n",
    "Mean MSE: -50.980 (55.199)\\\n",
    "Mean R^2: -0.397 (0.076)\\\n",
    "Mean EV: -0.176 (0.138)"
   ]
  },
  {
   "cell_type": "markdown",
   "metadata": {},
   "source": [
    "# Child Meal RINAB\n",
    "Best Hyperparameters: {'n_estimators': 300, 'min_samples_split': 2, 'min_samples_leaf': 1, 'max_depth': 5}\\\n",
    "Mean MSE: -9.262 (6.812)\\\n",
    "Mean R^2: -0.331 (0.337)\\\n",
    "Mean EV: -0.231 (0.205)"
   ]
  },
  {
   "cell_type": "markdown",
   "metadata": {},
   "source": [
    "# Child Meal DAI\n",
    "Best Hyperparameters: {'n_estimators': 100, 'min_samples_split': 10, 'min_samples_leaf': 2, 'max_depth': 5}\\\n",
    "Mean MSE: -2.661 (0.918)\\\n",
    "Mean R^2: -0.511 (0.643)\\\n",
    "Mean EV: -0.128 (0.130)"
   ]
  }
 ],
 "metadata": {
  "kernelspec": {
   "display_name": "Python 3",
   "language": "python",
   "name": "python3"
  },
  "language_info": {
   "codemirror_mode": {
    "name": "ipython",
    "version": 3
   },
   "file_extension": ".py",
   "mimetype": "text/x-python",
   "name": "python",
   "nbconvert_exporter": "python",
   "pygments_lexer": "ipython3",
   "version": "3.10.14"
  }
 },
 "nbformat": 4,
 "nbformat_minor": 2
}
