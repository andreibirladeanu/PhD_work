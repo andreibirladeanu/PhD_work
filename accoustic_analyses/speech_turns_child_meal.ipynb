{
 "cells": [
  {
   "cell_type": "code",
   "execution_count": null,
   "id": "1d5f7eca",
   "metadata": {},
   "outputs": [],
   "source": [
    "import numpy as np\n",
    "from pyannote.core import Segment, Timeline\n",
    "import os\n",
    "from sklearn.cluster import KMeans\n",
    "import pandas as pd\n",
    "import json\n",
    "import pyannote.core.json\n",
    "from numpy import genfromtxt\n",
    "from sklearn.cluster import KMeans\n",
    "from pydub import AudioSegment\n",
    "from pydub.playback import play\n",
    "from pydub import AudioSegment"
   ]
  },
  {
   "cell_type": "code",
   "execution_count": null,
   "id": "5f313619",
   "metadata": {},
   "outputs": [],
   "source": [
    "os.chdir('/Users/andrei-macpro/Documents/Data/Audio/Embeddings/Play/Timestamps' )\n",
    "file_names=sorted([i for i in os.listdir(\".\") if not i.startswith(\".\")])"
   ]
  },
  {
   "cell_type": "code",
   "execution_count": null,
   "id": "fcbbe810",
   "metadata": {},
   "outputs": [],
   "source": [
    "# import the complete file timestamps (from 0 to file end)\n",
    "json_timelines=list()\n",
    "for file in file_names:\n",
    "    json_timelines.append(pyannote.core.json.load_from(file))"
   ]
  },
  {
   "cell_type": "code",
   "execution_count": null,
   "id": "615c0058",
   "metadata": {},
   "outputs": [],
   "source": [
    "# import the embedding vectors \n",
    "os.chdir( '/Users/andrei-macpro/Documents/Data/Audio/Embeddings/Play/Embeddings' )\n",
    "file_names=sorted([i for i in os.listdir(\".\") if not i.startswith(\".\")])\n",
    "embeddings=list()\n",
    "for file in file_names:\n",
    "    embeddings.append(genfromtxt(file, delimiter=','))"
   ]
  },
  {
   "cell_type": "code",
   "execution_count": null,
   "id": "8c0b6fb2",
   "metadata": {},
   "outputs": [],
   "source": [
    "# run k means \n",
    "kmeans = KMeans(n_clusters=4)\n",
    "predictions = list()\n",
    "for file in embeddings:       \n",
    "    labels = kmeans.fit_predict(file)\n",
    "    predictions.append(labels)"
   ]
  },
  {
   "cell_type": "code",
   "execution_count": null,
   "id": "3f53f3ce",
   "metadata": {},
   "outputs": [],
   "source": [
    "# tuple of 1-s second and its corresponding label \n",
    "list_of_tuples=[]\n",
    "temp_list=[]\n",
    "for prediction, timeline in zip(predictions, json_timelines):\n",
    "    for label, segment in zip(prediction, timeline):\n",
    "        temp_list.append(((label,segment)))\n",
    "    list_of_tuples.append(temp_list)\n",
    "    temp_list=[]\n",
    "    "
   ]
  },
  {
   "cell_type": "code",
   "execution_count": null,
   "id": "83681987",
   "metadata": {},
   "outputs": [],
   "source": [
    "os.chdir('/Users/andrei-macpro/Documents/Data/Audio/overlapping_speech/no_os_play')  #if string starts with slash it is considered absolute\n",
    "file_names=sorted([i for i in os.listdir(\".\") if not i.startswith(\".\")])"
   ]
  },
  {
   "cell_type": "code",
   "execution_count": null,
   "id": "84dd54f6",
   "metadata": {},
   "outputs": [],
   "source": [
    "# make new timelines from clusters \n",
    "def timelines_from_clusters(list_of_tuples,cluster_no):\n",
    "    timelines_from_clusters = []\n",
    "    for file in list_of_tuples:\n",
    "        temp_list=[]\n",
    "        for cluster_seg in file:\n",
    "            if cluster_seg[0]==cluster_no:\n",
    "                temp_list.append(cluster_seg[1])\n",
    "        timelines_from_clusters.append(temp_list)\n",
    "        \n",
    "    return timelines_from_clusters\n"
   ]
  },
  {
   "cell_type": "code",
   "execution_count": null,
   "id": "therapeutic-newark",
   "metadata": {},
   "outputs": [],
   "source": [
    "for x in file_names:\n",
    "    if int(x.split(\"_\")[0]) in participants:\n",
    "        print(file_names.index(x))\n"
   ]
  },
  {
   "cell_type": "code",
   "execution_count": null,
   "id": "multiple-agriculture",
   "metadata": {},
   "outputs": [],
   "source": [
    "participants = [1043, 1049 ,1062, 1073 ,1080, 1082, 1089, 1097, 1098, 1104, 1108, 1117, 1118, 1131, 1161, 1180, 1184, 1188, 1210, 1234,\n",
    "1245, 1263, 1282, 2027]\n"
   ]
  },
  {
   "cell_type": "code",
   "execution_count": null,
   "id": "43206c01",
   "metadata": {},
   "outputs": [],
   "source": [
    "clusters_0 = timelines_from_clusters(list_of_tuples,0)\n",
    "clusters_1 = timelines_from_clusters(list_of_tuples,1)\n",
    "clusters_2 = timelines_from_clusters(list_of_tuples,2)\n",
    "clusters_3 = timelines_from_clusters(list_of_tuples,3)\n"
   ]
  },
  {
   "cell_type": "code",
   "execution_count": null,
   "id": "3052a841",
   "metadata": {},
   "outputs": [],
   "source": [
    "# removing participants (child here) who have missing diarization data in play (i.e. all of their 4 clusters were noise)\n",
    "clusters_0 = [e for e in clusters_0 if e not in (clusters_0[2], clusters_0[4],clusters_0[6],\n",
    "                                                clusters_0[11],clusters_0[26], clusters_0[33],\n",
    "                                                clusters_0[34], clusters_0[35], clusters_0[44], \n",
    "                                                clusters_0[46], clusters_0[47], clusters_0[48],\n",
    "                                                clusters_0[50], clusters_0[53], clusters_0[55],\n",
    "                                                clusters_0[59], clusters_0[60])]\n",
    "clusters_1 = [e for e in clusters_1 if e not in (clusters_1[2], clusters_1[4],clusters_1[6],\n",
    "                                                clusters_1[11],clusters_1[26], clusters_1[33],\n",
    "                                                clusters_1[34], clusters_1[35], clusters_1[44], \n",
    "                                                clusters_1[46], clusters_1[47], clusters_1[48],\n",
    "                                                clusters_1[50], clusters_1[53], clusters_1[55],\n",
    "                                                clusters_1[59], clusters_1[60])]\n",
    "clusters_2 = [e for e in clusters_2 if e not in (clusters_2[2], clusters_2[4],clusters_2[6],\n",
    "                                                clusters_2[11],clusters_2[26], clusters_2[33],\n",
    "                                                clusters_2[34], clusters_2[35], clusters_2[44], \n",
    "                                                clusters_2[46], clusters_2[47], clusters_2[48],\n",
    "                                                clusters_2[50], clusters_2[53], clusters_2[55],\n",
    "                                                clusters_2[59], clusters_2[60])]\n",
    "clusters_3 = [e for e in clusters_3 if e not in (clusters_3[2], clusters_3[4],clusters_3[6],\n",
    "                                                clusters_3[11],clusters_3[26], clusters_3[33],\n",
    "                                                clusters_3[34], clusters_3[35], clusters_3[44], \n",
    "                                                clusters_3[46], clusters_3[47], clusters_3[48],\n",
    "                                                clusters_3[50], clusters_3[53], clusters_3[55],\n",
    "                                                clusters_3[59], clusters_3[60])]"
   ]
  },
  {
   "cell_type": "code",
   "execution_count": null,
   "id": "8c363963",
   "metadata": {},
   "outputs": [],
   "source": [
    "file_names = [file[0:4] for file in file_names]\n",
    "file_names= [int(e) for e in file_names if e not in (file_names[2], file_names[4],file_names[6],\n",
    "                                                file_names[11],file_names[26], file_names[33],\n",
    "                                                file_names[34], file_names[35], file_names[44], \n",
    "                                                file_names[46], file_names[47], file_names[48],\n",
    "                                                file_names[50], file_names[53], file_names[55],\n",
    "                                                file_names[59], file_names[60])]"
   ]
  },
  {
   "cell_type": "code",
   "execution_count": null,
   "id": "06366bcf",
   "metadata": {},
   "outputs": [],
   "source": [
    "clusters_0"
   ]
  },
  {
   "cell_type": "code",
   "execution_count": null,
   "id": "f8cfe411",
   "metadata": {},
   "outputs": [],
   "source": [
    "clusters_0[4] = sorted(clusters_0[4] + clusters_3[4])\n",
    "clusters_0[10] = sorted(clusters_0[10] + clusters_1[10]+clusters_3[10])\n",
    "clusters_0[23] = sorted(clusters_0[23] + clusters_1[23])\n",
    "clusters_0[24] = sorted(clusters_0[24] + clusters_3[24])\n",
    "clusters_0[25] = sorted(clusters_0[25] + clusters_2[25])\n",
    "clusters_0[28] = sorted(clusters_0[28] + clusters_2[28])\n",
    "\n",
    "clusters_0[32] = sorted(clusters_0[32] + clusters_1[32])\n",
    "\n",
    "clusters_0[37] = sorted(clusters_0[37] + clusters_2[37])\n",
    "\n",
    "clusters_0[43] = sorted(clusters_0[43] + clusters_1[43])\n",
    "\n",
    "\n",
    "\n",
    "\n"
   ]
  },
  {
   "cell_type": "code",
   "execution_count": null,
   "id": "ea01129a",
   "metadata": {},
   "outputs": [],
   "source": [
    "clusters_1[3] = sorted(clusters_1[3] + clusters_2[3])\n",
    "clusters_1[7] = sorted(clusters_1[7] +clusters_3[7])\n",
    "\n",
    "\n",
    "\n",
    "\n",
    "\n",
    "\n",
    "\n"
   ]
  },
  {
   "cell_type": "code",
   "execution_count": null,
   "id": "5f7cf6c5",
   "metadata": {},
   "outputs": [],
   "source": [
    "clusters_2[9] = sorted(clusters_2[9] + clusters_3[9])\n",
    "clusters_2[18] = sorted(clusters_2[18] + clusters_3[18])\n",
    "\n"
   ]
  },
  {
   "cell_type": "code",
   "execution_count": null,
   "id": "49ce93e4",
   "metadata": {},
   "outputs": [],
   "source": [
    "len(clusters_3)"
   ]
  },
  {
   "cell_type": "markdown",
   "id": "ab9f13c9",
   "metadata": {},
   "source": [
    "## now choose only the cg clusters "
   ]
  },
  {
   "cell_type": "code",
   "execution_count": null,
   "id": "055308e1",
   "metadata": {},
   "outputs": [],
   "source": [
    "cg_0 = [e for e in clusters_0 if e in (clusters_0[2], clusters_0[4], clusters_0[6],clusters_0[10], clusters_0[15], clusters_0[23],\n",
    "       clusters_0[24], clusters_0[25], clusters_0[26], clusters_0[28], clusters_0[32], clusters_0[36],\n",
    "       clusters_0[37], clusters_0[39], clusters_0[40], clusters_0[41],  clusters_0[43])]"
   ]
  },
  {
   "cell_type": "code",
   "execution_count": null,
   "id": "e705b166",
   "metadata": {},
   "outputs": [],
   "source": [
    "cg_1 = [e for e in clusters_1 if e in (clusters_1[0], clusters_1[3], clusters_1[7], clusters_1[12],clusters_1[13],\n",
    "                                       clusters_1[16], clusters_1[20], clusters_1[21], clusters_1[22],\n",
    "                                    clusters_1[31], clusters_1[33], clusters_1[34],\n",
    "                                      clusters_1[35], clusters_1[38], clusters_1[42])]"
   ]
  },
  {
   "cell_type": "code",
   "execution_count": null,
   "id": "d3008cf7",
   "metadata": {},
   "outputs": [],
   "source": [
    "cg_2 = [e for e in clusters_2 if e in (clusters_2[8], clusters_2[9], \n",
    "                                       clusters_2[17], clusters_2[19], clusters_2[27]\n",
    "                                       )]"
   ]
  },
  {
   "cell_type": "code",
   "execution_count": null,
   "id": "e6d3010f",
   "metadata": {},
   "outputs": [],
   "source": [
    "file_names.index(1161), file_names[27]"
   ]
  },
  {
   "cell_type": "code",
   "execution_count": null,
   "id": "e175a163",
   "metadata": {},
   "outputs": [],
   "source": [
    "cg_3 = [e for e in clusters_3 if e in (clusters_3[1], \n",
    "                                       clusters_3[5], clusters_3[9], clusters_3[11], clusters_3[14], clusters_3[29], clusters_3[30])]"
   ]
  },
  {
   "cell_type": "code",
   "execution_count": null,
   "id": "2ce498bd",
   "metadata": {},
   "outputs": [],
   "source": [
    "index_cg_0 = [1053, 1073, 1080, 1093, 1104, 1125, 1129, 1130, \n",
    "                1131, 1161, 1184, 1206, 1234, 1246, 1263, 1269, \n",
    "                2009]"
   ]
  },
  {
   "cell_type": "code",
   "execution_count": null,
   "id": "immediate-receptor",
   "metadata": {},
   "outputs": [],
   "source": [
    "listt = index_cg_0 + index_cg_1 + index_cg_2 + index_cg_3\n",
    "len(listt)\n"
   ]
  },
  {
   "cell_type": "code",
   "execution_count": null,
   "id": "7d6e1f4a",
   "metadata": {},
   "outputs": [],
   "source": [
    "len(index_child_0), len(cg_0)"
   ]
  },
  {
   "cell_type": "code",
   "execution_count": null,
   "id": "3953bdc3",
   "metadata": {},
   "outputs": [],
   "source": [
    "index_cg_1 = [1043, 1062, 1082, 1097, 1098, 1105, 1117, \n",
    "                1118, 1124, 1181, 1186, 1188, 1190, \n",
    "                1245, 1282]"
   ]
  },
  {
   "cell_type": "code",
   "execution_count": null,
   "id": "f7d64041",
   "metadata": {},
   "outputs": [],
   "source": [
    "len(index_child_1), len(cg_1)"
   ]
  },
  {
   "cell_type": "code",
   "execution_count": null,
   "id": "fe14c271",
   "metadata": {},
   "outputs": [],
   "source": [
    "index_cg_2 = [1091, 1107, 1108, 1112, 1132]"
   ]
  },
  {
   "cell_type": "code",
   "execution_count": null,
   "id": "34bbb060",
   "metadata": {},
   "outputs": [],
   "source": [
    "len(index_child_2), len(cg_2)"
   ]
  },
  {
   "cell_type": "code",
   "execution_count": null,
   "id": "7cc7b2c8",
   "metadata": {},
   "outputs": [],
   "source": [
    "index_cg_3 = [1047, 1079, 1092, 1096, 1099, 1170, 1180]"
   ]
  },
  {
   "cell_type": "code",
   "execution_count": null,
   "id": "01c91c33",
   "metadata": {},
   "outputs": [],
   "source": [
    "len(index_child_3), len(cg_3)"
   ]
  },
  {
   "cell_type": "code",
   "execution_count": null,
   "id": "ef514aa8",
   "metadata": {},
   "outputs": [],
   "source": [
    "cg_speech_0 = []\n",
    "for index, caregiver in zip(index_cg_0, cg_0,):\n",
    "    cg_speech_0.append((index,caregiver))\n",
    "cg_speech_0"
   ]
  },
  {
   "cell_type": "code",
   "execution_count": null,
   "id": "a8636cdc",
   "metadata": {},
   "outputs": [],
   "source": [
    "cg_speech_1 = []\n",
    "for index, caregiver in zip(index_cg_1, cg_1,):\n",
    "    cg_speech_1.append((index,caregiver))\n",
    "cg_speech_1"
   ]
  },
  {
   "cell_type": "code",
   "execution_count": null,
   "id": "1d47a459",
   "metadata": {},
   "outputs": [],
   "source": [
    "cg_speech_2 = []\n",
    "for index, caregiver in zip(index_cg_2, cg_2):\n",
    "    cg_speech_2.append((index,caregiver))\n",
    "cg_speech_2"
   ]
  },
  {
   "cell_type": "code",
   "execution_count": null,
   "id": "6f4b7047",
   "metadata": {},
   "outputs": [],
   "source": [
    " cg_speech_3 = []\n",
    "for index, caregiver in zip(index_cg_3, cg_3):\n",
    "    cg_speech_3.append((index,caregiver))\n",
    "cg_speech_3"
   ]
  },
  {
   "cell_type": "code",
   "execution_count": null,
   "id": "acfd8c9c",
   "metadata": {},
   "outputs": [],
   "source": [
    "len(cg_speech_0) + len(cg_speech_1) + len(cg_speech_2) + len(cg_speech_3)"
   ]
  },
  {
   "cell_type": "code",
   "execution_count": null,
   "id": "e25e91d2",
   "metadata": {},
   "outputs": [],
   "source": [
    "cg_segments = sorted(cg_speech_0 + cg_speech_1 + cg_speech_2 + cg_speech_3)"
   ]
  },
  {
   "cell_type": "code",
   "execution_count": null,
   "id": "2c88ac68",
   "metadata": {},
   "outputs": [],
   "source": [
    "timelines_list = []\n",
    "\n",
    "\n",
    "for index, segments in cg_segments:\n",
    "    segment_holder =[]\n",
    "    timeline = Timeline(segments=[s for s in segments], uri = str(index))\n",
    "    timelines_list.append(timeline)\n",
    "        \n",
    "    "
   ]
  },
  {
   "cell_type": "code",
   "execution_count": null,
   "id": "b5004f2b",
   "metadata": {},
   "outputs": [],
   "source": [
    "os.chdir('/Users/andrei-macpro/Documents/Data/Audio/Embeddings/Meal/identification/speech_turns_child')  #if string starts with slash it is considered absolute\n"
   ]
  },
  {
   "cell_type": "code",
   "execution_count": null,
   "id": "9fe8d242",
   "metadata": {},
   "outputs": [],
   "source": [
    "for timeline in timelines_list:\n",
    "    pyannote.core.json.dump_to(timeline, timeline.uri+\".json\")"
   ]
  }
 ],
 "metadata": {
  "kernelspec": {
   "display_name": "Python 3",
   "language": "python",
   "name": "python3"
  },
  "language_info": {
   "codemirror_mode": {
    "name": "ipython",
    "version": 3
   },
   "file_extension": ".py",
   "mimetype": "text/x-python",
   "name": "python",
   "nbconvert_exporter": "python",
   "pygments_lexer": "ipython3",
   "version": "3.8.8"
  }
 },
 "nbformat": 4,
 "nbformat_minor": 5
}
