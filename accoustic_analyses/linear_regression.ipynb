{
 "cells": [
  {
   "cell_type": "code",
   "execution_count": null,
   "id": "1e1835e5-66ce-43e8-b248-a14c1085ffbd",
   "metadata": {},
   "outputs": [],
   "source": [
    "import os\n",
    "import pandas as pd\n",
    "import numpy as np\n",
    "from sklearn.model_selection import KFold\n",
    "from sklearn.model_selection import cross_val_score\n",
    "from sklearn.linear_model import LogisticRegression\n",
    "from numpy import mean\n",
    "from numpy import std\n",
    "from sklearn.linear_model import LinearRegression\n",
    "import matplotlib.pyplot as plt  \n",
    "from numpy import std, mean, sqrt\n",
    "from itertools import combinations\n",
    "from scipy.stats import ttest_ind\n",
    "from scipy import stats"
   ]
  },
  {
   "cell_type": "code",
   "execution_count": null,
   "id": "379873bc-f4df-4981-b4e6-92fd52dd25c3",
   "metadata": {},
   "outputs": [],
   "source": [
    "data = pd.read_excel('/Users/andreibirladeanu/Documents/Data/classification/accoustics/extraction_3.0/play_cg_prosody.xlsx', index_col=0)"
   ]
  },
  {
   "cell_type": "code",
   "execution_count": null,
   "id": "2d312d52-09f7-4708-a545-48c3bd1c4187",
   "metadata": {},
   "outputs": [],
   "source": [
    "regression = pd.read_excel('/Users/andreibirladeanu/Documents/Data/Results/corpus_processed/corpus_labelled.xlsx', index_col =0)\n",
    "regression.index.name = 's_id'"
   ]
  },
  {
   "cell_type": "code",
   "execution_count": null,
   "id": "dc05346c-aae6-4930-80d5-289600f8ee90",
   "metadata": {},
   "outputs": [],
   "source": [
    "data"
   ]
  },
  {
   "cell_type": "code",
   "execution_count": null,
   "id": "38ca2b9b-8cb4-4062-a1a3-78f532c8c7d9",
   "metadata": {},
   "outputs": [],
   "source": [
    "data.index.name='s_id'"
   ]
  },
  {
   "cell_type": "code",
   "execution_count": null,
   "id": "cdfe6af5-8960-466a-8de6-ecc91f83c93b",
   "metadata": {},
   "outputs": [],
   "source": [
    "data = data.groupby('s_id').mean()"
   ]
  },
  {
   "cell_type": "code",
   "execution_count": null,
   "id": "b17b74d6-4cef-474e-808a-98e52e25771a",
   "metadata": {},
   "outputs": [],
   "source": [
    "data = data.join(regression['DAI'])\n",
    "data = data.join(regression['Rinab'])\n",
    "data = data.join(regression['label'])"
   ]
  },
  {
   "cell_type": "code",
   "execution_count": null,
   "id": "c96654f1-61bb-450c-b5ae-df0df4e73392",
   "metadata": {},
   "outputs": [],
   "source": [
    "data['label']"
   ]
  },
  {
   "cell_type": "code",
   "execution_count": null,
   "id": "820ba16b-671c-48cc-9160-6b810a895c6f",
   "metadata": {},
   "outputs": [],
   "source": [
    "df = data.groupby('s_id').mean()\n",
    "df.fillna(df.median(), inplace=True)"
   ]
  },
  {
   "cell_type": "code",
   "execution_count": null,
   "id": "4eaa084b-b023-41ce-9070-4bcee15f1962",
   "metadata": {},
   "outputs": [],
   "source": [
    "df"
   ]
  },
  {
   "cell_type": "code",
   "execution_count": null,
   "id": "e21c67d8-a7ce-4853-8c82-018d6c7b3188",
   "metadata": {},
   "outputs": [],
   "source": [
    "X = df.iloc[:,:-2].to_numpy()"
   ]
  },
  {
   "cell_type": "code",
   "execution_count": null,
   "id": "9c6e0c8c-c412-4ec8-a978-9c630ec68ea5",
   "metadata": {},
   "outputs": [],
   "source": [
    "reg = LinearRegression().fit(X, df['DAI'])"
   ]
  },
  {
   "cell_type": "code",
   "execution_count": null,
   "id": "2d7a1f5e-5a5c-47b6-ab2a-ff1fa13eccee",
   "metadata": {},
   "outputs": [],
   "source": [
    "reg.score(X, df['DAI'])"
   ]
  },
  {
   "cell_type": "code",
   "execution_count": null,
   "id": "db18d7e2-4f9c-4aa8-a461-c23b603bbf20",
   "metadata": {},
   "outputs": [],
   "source": [
    "y_pred = reg.predict(X)\n"
   ]
  },
  {
   "cell_type": "code",
   "execution_count": null,
   "id": "9546d0d7-8e1f-43e5-822e-0a42445721ab",
   "metadata": {},
   "outputs": [],
   "source": [
    "reg.coef_"
   ]
  },
  {
   "cell_type": "code",
   "execution_count": null,
   "id": "c1a0d5fe-9bde-49cd-80c8-464ecad8b039",
   "metadata": {},
   "outputs": [],
   "source": [
    "X.shape, df['DAI'].shape"
   ]
  },
  {
   "cell_type": "code",
   "execution_count": null,
   "id": "e67f0400-0ffb-48db-9c1f-6f0738fb71e2",
   "metadata": {},
   "outputs": [],
   "source": [
    "features = pd.Series(reg.coef_, index=df.iloc[:,:-2].columns)\n",
    "figure = features.abs().nlargest(20).plot(kind='barh')"
   ]
  },
  {
   "cell_type": "code",
   "execution_count": null,
   "id": "60b00400-b2a9-4fbc-aed9-d319c467069f",
   "metadata": {},
   "outputs": [],
   "source": [
    "1 - ( 1-reg.score(X, y) ) * ( len(y) - 1 ) / ( len(y) - X.shape[1] - 1 )"
   ]
  },
  {
   "cell_type": "code",
   "execution_count": null,
   "id": "d71df6a7-df48-45f0-b690-31ecccb5f8b1",
   "metadata": {},
   "outputs": [],
   "source": [
    "Ad_r2 = 1-(1-(reg.score(X, df['DAI'])))*(len(X)-1)/(len(X)-len(df.iloc[:,:-2].columns)-1)"
   ]
  },
  {
   "cell_type": "code",
   "execution_count": null,
   "id": "b9cf7dad-dd2c-477a-b0cf-16eb8cf35185",
   "metadata": {},
   "outputs": [],
   "source": [
    "Ad_r2"
   ]
  },
  {
   "cell_type": "code",
   "execution_count": null,
   "id": "cedb8f97-56a4-4df3-9a5b-35489d0e387a",
   "metadata": {},
   "outputs": [],
   "source": [
    "features['localabsoluteJitter']/features['rms_mean']"
   ]
  },
  {
   "cell_type": "code",
   "execution_count": null,
   "id": "354d67ed-3b89-40e4-a58b-18776027f4e1",
   "metadata": {},
   "outputs": [],
   "source": [
    "grps = data['label'].unique()\n",
    "combs = combinations(grps, 2)\n",
    "\n",
    "ttests = {\n",
    "    f'{c1}_{c2}': ttest_ind(\n",
    "        data.loc[data['label'] == c1, 'localabsoluteJitter'], \n",
    "        data.loc[data['label'] == c2, 'localabsoluteJitter']\n",
    "    ) for c1, c2 in combs\n",
    "}\n",
    "\n",
    "\n",
    "\n",
    "data.groupby('label')['localabsoluteJitter'].mean()"
   ]
  },
  {
   "cell_type": "code",
   "execution_count": null,
   "id": "e7b68292-6b65-4c08-b662-efe16a041047",
   "metadata": {},
   "outputs": [],
   "source": [
    "slope, intercept, r_value, p_value, std_err = stats.linregress(X,y)"
   ]
  },
  {
   "cell_type": "code",
   "execution_count": null,
   "id": "3cc4c712-2a24-4f6a-9204-d805e8d1085d",
   "metadata": {},
   "outputs": [],
   "source": [
    "X.shape, y.shape"
   ]
  },
  {
   "cell_type": "code",
   "execution_count": null,
   "id": "7fa15f15-b49c-4d06-98b7-9eccc07658cb",
   "metadata": {},
   "outputs": [],
   "source": [
    "features = pd.Series(clf.coef_, index=df.iloc[:,:-2].columns)\n",
    "figure = features.abs().nlargest(20).plot(kind='barh')"
   ]
  },
  {
   "cell_type": "code",
   "execution_count": null,
   "id": "51163da4-8d5c-47cf-a001-2c548fe56cab",
   "metadata": {},
   "outputs": [],
   "source": [
    "np.concatenate((X, y), axis=0)"
   ]
  },
  {
   "cell_type": "code",
   "execution_count": null,
   "id": "044d8084-a1cd-47d0-bc9d-d85beccee380",
   "metadata": {},
   "outputs": [],
   "source": [
    "X, y"
   ]
  },
  {
   "cell_type": "code",
   "execution_count": null,
   "id": "a4e8c9ea-8a4f-44de-882f-009c8a5141da",
   "metadata": {},
   "outputs": [],
   "source": [
    "df.to_csv('cg_play_prosody_regression.csv')"
   ]
  },
  {
   "cell_type": "code",
   "execution_count": null,
   "id": "b82333b1-c5fd-4fff-ac22-734eb72160cf",
   "metadata": {},
   "outputs": [],
   "source": [
    "plt.scatter(df['Rinab'], df['localabsoluteJitter'])"
   ]
  }
 ],
 "metadata": {
  "kernelspec": {
   "display_name": "Python 3 (ipykernel)",
   "language": "python",
   "name": "python3"
  },
  "language_info": {
   "codemirror_mode": {
    "name": "ipython",
    "version": 3
   },
   "file_extension": ".py",
   "mimetype": "text/x-python",
   "name": "python",
   "nbconvert_exporter": "python",
   "pygments_lexer": "ipython3",
   "version": "3.7.6"
  }
 },
 "nbformat": 4,
 "nbformat_minor": 5
}
