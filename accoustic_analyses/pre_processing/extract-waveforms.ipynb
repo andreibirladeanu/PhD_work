{
 "cells": [
  {
   "cell_type": "code",
   "execution_count": null,
   "id": "psychological-responsibility",
   "metadata": {},
   "outputs": [],
   "source": [
    "from pydub import AudioSegment\n",
    "from pydub.playback import play\n",
    "from pydub import AudioSegment\n",
    "import numpy as np\n",
    "import os\n",
    "\n",
    "import json\n",
    "import pyannote.core.json\n",
    "from pyannote.core import Segment, Timeline\n",
    "from surfboard.sound import Waveform\n",
    "from surfboard.feature_extraction import extract_features\n",
    "from surfboard.feature_extraction import extract_features_from_waveform\n",
    "import pandas as pd  "
   ]
  },
  {
   "cell_type": "code",
   "execution_count": null,
   "id": "inside-wings",
   "metadata": {},
   "outputs": [],
   "source": [
    "os.chdir('/Users/andrei-macpro/Documents/Data/accoustic_extraction/speech_turns_cg')  #if string starts with slash it is considered absolute\n",
    "file_names=sorted([i for i in os.listdir(\".\") if not i.startswith(\".\")])"
   ]
  },
  {
   "cell_type": "code",
   "execution_count": null,
   "id": "mysterious-filing",
   "metadata": {},
   "outputs": [],
   "source": [
    "# function that takes as input a list of file-names and outputs a list of pyannote timelines \n",
    "path = '/Users/andrei-macpro/Documents/Data/accoustic_extraction/speech_turns_cg'\n",
    "json_files = [pos_json for pos_json in sorted(os.listdir(path))]\n",
    "def get_timelines(json_files):\n",
    "    list_json=list()\n",
    "    list_timelines=list()\n",
    "    for filename in json_files: # loop that imports all json data into separate dictionaries\n",
    "        with open(filename) as json_file:\n",
    "            data = json.load(json_file)\n",
    "            list_json.append(data)\n",
    "    for file, segments in zip(json_files, list_json): # loop to iterate through the files and create a new timeline for each of them \n",
    "        timeline=Timeline()\n",
    "        list_timelines.append(timeline.from_json(segments))\n",
    "    return list_timelines"
   ]
  },
  {
   "cell_type": "code",
   "execution_count": null,
   "id": "imperial-wireless",
   "metadata": {},
   "outputs": [],
   "source": [
    "indexes = [int(file.split('.')[0]) for file in file_names]"
   ]
  },
  {
   "cell_type": "code",
   "execution_count": null,
   "id": "aggressive-midnight",
   "metadata": {},
   "outputs": [],
   "source": [
    "list_timelines=get_timelines(json_files)"
   ]
  },
  {
   "cell_type": "code",
   "execution_count": null,
   "id": "handed-frost",
   "metadata": {},
   "outputs": [],
   "source": [
    "type(list_timelines[0])"
   ]
  },
  {
   "cell_type": "code",
   "execution_count": null,
   "id": "weekly-minnesota",
   "metadata": {},
   "outputs": [],
   "source": [
    "seg = Segment(start=0, end=1)"
   ]
  },
  {
   "cell_type": "code",
   "execution_count": null,
   "id": "serious-maple",
   "metadata": {},
   "outputs": [],
   "source": [
    "new_timelines =[]\n",
    "\n",
    "for list_timeline in list_timelines:\n",
    "    temp_list= []\n",
    "    start_times, end_times, remove_start, remove_end = [], [], [],[]\n",
    "    for x in list_timeline:\n",
    "        start_times.append(x.start)\n",
    "        end_times.append(x.end)\n",
    "    for x,nxt in zip(start_times, start_times[1:]):\n",
    "        if nxt - x ==1:\n",
    "            remove_start.append(nxt)\n",
    "    for x,nxt in zip(end_times, end_times[1:]):\n",
    "        if nxt - x ==1:\n",
    "            remove_end.append(x)\n",
    "    new_start = [k for k in start_times if k not in remove_start]\n",
    "    new_end = [k for k in end_times if k not in remove_end]\n",
    "    for start, end in zip(new_start, new_end):\n",
    "        temp_list.append(Segment(start=start, end=end))\n",
    "    new_timelines.append(Timeline(temp_list))"
   ]
  },
  {
   "cell_type": "code",
   "execution_count": null,
   "id": "sophisticated-equality",
   "metadata": {},
   "outputs": [],
   "source": [
    "def write_disk(sad_segments):\n",
    "    for key in sad_segments.keys():\n",
    "        temp_json=sad_segments[key].for_json()\n",
    "        with open(str(key)+'.json', 'w') as outfile:\n",
    "            json.dump(temp_json, outfile)"
   ]
  },
  {
   "cell_type": "code",
   "execution_count": null,
   "id": "wrong-giving",
   "metadata": {},
   "outputs": [],
   "source": [
    "file_names"
   ]
  },
  {
   "cell_type": "code",
   "execution_count": null,
   "id": "functional-decline",
   "metadata": {},
   "outputs": [],
   "source": [
    "for timeline, file_name in zip(new_timelines, file_names):\n",
    "    temp_json=timeline.for_json()\n",
    "    with open(file_name, 'w') as outfile:\n",
    "            json.dump(temp_json, outfile)"
   ]
  },
  {
   "cell_type": "code",
   "execution_count": null,
   "id": "arctic-recipe",
   "metadata": {},
   "outputs": [],
   "source": [
    "os.chdir('/Users/andrei-macpro/Documents/Data/accoustic_extraction/no_os_meal')  #if string starts with slash it is considered absolute\n",
    "file_names=sorted([i for i in os.listdir(\".\") if not i.startswith(\".\")])"
   ]
  },
  {
   "cell_type": "code",
   "execution_count": null,
   "id": "juvenile-adrian",
   "metadata": {},
   "outputs": [],
   "source": [
    "file_names = [i for i in file_names if int(i.split('_')[0]) in indexes]\n",
    "len(file_names)"
   ]
  },
  {
   "cell_type": "code",
   "execution_count": null,
   "id": "colonial-guinea",
   "metadata": {},
   "outputs": [],
   "source": [
    "file_names"
   ]
  },
  {
   "cell_type": "code",
   "execution_count": null,
   "id": "organized-orlando",
   "metadata": {},
   "outputs": [],
   "source": [
    "trial = AudioSegment.from_wav('1043_meal.wav')"
   ]
  },
  {
   "cell_type": "code",
   "execution_count": null,
   "id": "productive-retention",
   "metadata": {},
   "outputs": [],
   "source": [
    "sound = Waveform('1043_meal.wav')"
   ]
  },
  {
   "cell_type": "code",
   "execution_count": null,
   "id": "hourly-europe",
   "metadata": {},
   "outputs": [],
   "source": [
    "trial2 = trial.export(\"trial_1047.wav\", format=\"wav\")"
   ]
  },
  {
   "cell_type": "code",
   "execution_count": null,
   "id": "brave-knowing",
   "metadata": {},
   "outputs": [],
   "source": [
    "list_timelines[0]"
   ]
  },
  {
   "cell_type": "code",
   "execution_count": null,
   "id": "chemical-queens",
   "metadata": {},
   "outputs": [],
   "source": [
    "waveforms = []\n",
    "for index, segments in enumerate(list_timelines[0]):\n",
    "    seg = (trial[segments.start*1000:segments.end*1000])\n",
    "    seg.export('seg.wav', format='wav')\n",
    "    waveforms.append(Waveform('seg.wav'))"
   ]
  },
  {
   "cell_type": "code",
   "execution_count": null,
   "id": "urban-xerox",
   "metadata": {},
   "outputs": [],
   "source": [
    "len(waveforms)"
   ]
  },
  {
   "cell_type": "code",
   "execution_count": null,
   "id": "external-graph",
   "metadata": {},
   "outputs": [],
   "source": [
    "file_names, list_timelines"
   ]
  },
  {
   "cell_type": "code",
   "execution_count": null,
   "id": "quantitative-desire",
   "metadata": {},
   "outputs": [],
   "source": [
    "len(list_timelines[0])"
   ]
  },
  {
   "cell_type": "code",
   "execution_count": null,
   "id": "included-disorder",
   "metadata": {},
   "outputs": [],
   "source": [
    "trial = AudioSegment.from_wav('1043_meal_child.wav')\n",
    "trial[list_timelines[0][0].start*1000:list_timelines[0][0].end*1000].export('trial.wav', format=\"wav\")"
   ]
  },
  {
   "cell_type": "code",
   "execution_count": null,
   "id": "based-syracuse",
   "metadata": {},
   "outputs": [],
   "source": [
    "sound = Waveform('trial.wav')"
   ]
  },
  {
   "cell_type": "code",
   "execution_count": null,
   "id": "secure-green",
   "metadata": {},
   "outputs": [],
   "source": [
    "waveforms = []\n",
    "for file, timeline in zip(file_names, new_timelines):\n",
    "    trial = AudioSegment.from_wav(file)\n",
    "    temp_list=[]\n",
    "    for index, segments in enumerate(timeline):\n",
    "        \n",
    "        seg = (trial[segments.start*1000:segments.end*1000])\n",
    "        seg.export('seg.wav', format='wav')\n",
    "        try:\n",
    "            temp_list.append(Waveform('seg.wav'))\n",
    "        except Exception:\n",
    "            pass\n",
    "        print(index,file)\n",
    "    waveforms.append(temp_list)\n",
    "        "
   ]
  },
  {
   "cell_type": "code",
   "execution_count": null,
   "id": "geological-interstate",
   "metadata": {},
   "outputs": [],
   "source": [
    "len(waveforms[0])"
   ]
  },
  {
   "cell_type": "code",
   "execution_count": null,
   "id": "surgical-denver",
   "metadata": {},
   "outputs": [],
   "source": [
    "components = ['loudness', 'loudness_slidingwindow', 'shannon_entropy', 'jitters', 'shimmers', 'log_energy']\n",
    "statistics = ['mean', 'first_derivative_mean', 'std']\n",
    "\n",
    "\n",
    "     \n",
    "# Extract dataframe...\n",
    "feature_df = extract_features(\n",
    "    waveforms=[waveforms[0][0]], components_list=components, statistics_list=statistics\n",
    ")\n",
    "\n"
   ]
  },
  {
   "cell_type": "code",
   "execution_count": null,
   "id": "controlling-terrorism",
   "metadata": {},
   "outputs": [],
   "source": [
    "features = []\n",
    "for participant in waveforms:\n",
    "    temp_list=[]\n",
    "    for waveform in participant:\n",
    "        temp_list.append(extract_features_from_waveform(components, statistics, waveform))\n",
    "    features.append(temp_list)\n",
    "print('success')"
   ]
  },
  {
   "cell_type": "code",
   "execution_count": null,
   "id": "cosmetic-choir",
   "metadata": {},
   "outputs": [],
   "source": [
    "features[0]"
   ]
  },
  {
   "cell_type": "code",
   "execution_count": null,
   "id": "three-values",
   "metadata": {},
   "outputs": [],
   "source": [
    "\n",
    "pd.Series(features[0][0]).to_frame()"
   ]
  },
  {
   "cell_type": "code",
   "execution_count": null,
   "id": "optical-mirror",
   "metadata": {},
   "outputs": [],
   "source": [
    "df = pd.DataFrame(features[0])  "
   ]
  },
  {
   "cell_type": "code",
   "execution_count": null,
   "id": "urban-dutch",
   "metadata": {},
   "outputs": [],
   "source": [
    "df"
   ]
  },
  {
   "cell_type": "code",
   "execution_count": null,
   "id": "union-accreditation",
   "metadata": {},
   "outputs": [],
   "source": [
    "dfs = []\n",
    "for participant, index in zip(features, indexes):\n",
    "    dfs.append(pd.DataFrame(participant))"
   ]
  },
  {
   "cell_type": "code",
   "execution_count": null,
   "id": "upset-republican",
   "metadata": {},
   "outputs": [],
   "source": [
    "for ind in indexes:\n",
    "    dfs[indexes.index(ind)]['s_id'] = ind\n",
    "\n",
    "dfs[0]\n"
   ]
  },
  {
   "cell_type": "code",
   "execution_count": null,
   "id": "external-hamilton",
   "metadata": {},
   "outputs": [],
   "source": [
    "for df in range(len(dfs)):\n",
    "    dfs[df] = dfs[df].set_index('s_id')\n",
    "\n",
    "dfs[0]"
   ]
  },
  {
   "cell_type": "code",
   "execution_count": null,
   "id": "australian-conflict",
   "metadata": {},
   "outputs": [],
   "source": [
    "os.chdir('/Users/andrei-macpro/Documents/Data/Accoustics/extraction_2.0/cg_meal')"
   ]
  },
  {
   "cell_type": "code",
   "execution_count": null,
   "id": "worst-tutorial",
   "metadata": {},
   "outputs": [],
   "source": [
    "for df, ind in zip(dfs, indexes):\n",
    "    df.to_csv(str(ind)+'.csv')"
   ]
  },
  {
   "cell_type": "code",
   "execution_count": null,
   "id": "steady-apartment",
   "metadata": {},
   "outputs": [],
   "source": [
    "len(dfs[1])"
   ]
  },
  {
   "cell_type": "code",
   "execution_count": null,
   "id": "advance-dakota",
   "metadata": {},
   "outputs": [],
   "source": [
    "len(new_timelines[1])"
   ]
  },
  {
   "cell_type": "code",
   "execution_count": null,
   "id": "norman-gauge",
   "metadata": {},
   "outputs": [],
   "source": [
    "len(dfs)"
   ]
  }
 ],
 "metadata": {
  "kernelspec": {
   "display_name": "Python 3 (ipykernel)",
   "language": "python",
   "name": "python3"
  },
  "language_info": {
   "codemirror_mode": {
    "name": "ipython",
    "version": 3
   },
   "file_extension": ".py",
   "mimetype": "text/x-python",
   "name": "python",
   "nbconvert_exporter": "python",
   "pygments_lexer": "ipython3",
   "version": "3.8.10"
  }
 },
 "nbformat": 4,
 "nbformat_minor": 5
}
