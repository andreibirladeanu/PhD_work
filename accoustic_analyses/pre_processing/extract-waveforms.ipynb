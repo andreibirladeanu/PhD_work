{
 "cells": [
  {
   "cell_type": "code",
   "execution_count": null,
   "id": "psychological-responsibility",
   "metadata": {},
   "outputs": [],
   "source": [
    "from pydub import AudioSegment\n",
    "from pydub.playback import play\n",
    "from pydub import AudioSegment\n",
    "import numpy as np\n",
    "import os\n",
    "from tqdm import tqdm\n",
    "import json\n",
    "from surfboard.sound import Waveform\n",
    "from surfboard.feature_extraction import extract_features\n",
    "from surfboard.feature_extraction import extract_features_from_waveform\n",
    "import pandas as pd  \n",
    "from pydub.utils import make_chunks"
   ]
  },
  {
   "cell_type": "markdown",
   "id": "16acf068-75e6-47e9-9588-c869502d1aca",
   "metadata": {},
   "source": [
    "# extract prosodic features without jitter, shimmer, f0"
   ]
  },
  {
   "cell_type": "code",
   "execution_count": null,
   "id": "e909a01e-9a19-4de9-a4b4-0e6739ef77ac",
   "metadata": {},
   "outputs": [],
   "source": [
    "path = '/Users/andreibirladeanu/Documents/Data/accoustic_extraction/meal/child_speech/'\n",
    "os.chdir('/Users/andreibirladeanu/Documents/Data/accoustic_extraction/meal/child_speech/')  #if string starts with slash it is considered absolute\n",
    "file_names=sorted([i for i in os.listdir(\".\") if not i.startswith(\".\")])"
   ]
  },
  {
   "cell_type": "code",
   "execution_count": null,
   "id": "2951ae24-8b73-4d7d-99bf-b0b7dfdcf107",
   "metadata": {},
   "outputs": [],
   "source": [
    "waveforms = []\n",
    "chunk_length_ms = 1000\n",
    "for file in file_names:|\n",
    "    audio = AudioSegment.from_file(os.path.join(path,file)) \n",
    "    waveforms.append(make_chunks(audio, chunk_length_ms))"
   ]
  },
  {
   "cell_type": "code",
   "execution_count": null,
   "id": "627ab569-4e10-49fa-bb07-b2c12f847ab9",
   "metadata": {},
   "outputs": [],
   "source": [
    "components = ['loudness', 'loudness_slidingwindow', 'shannon_entropy', 'log_energy', \n",
    "             'intensity', 'rms', 'log_energy', 'zerocrossing']\n",
    "statistics = ['mean', 'std', 'percentile_1_99_range']"
   ]
  },
  {
   "cell_type": "code",
   "execution_count": null,
   "id": "1e6f7a81-eaa0-48d7-b6cc-27236e8616cd",
   "metadata": {},
   "outputs": [],
   "source": [
    "import warnings\n",
    "warnings.filterwarnings(\"ignore\")\n",
    "features = []\n",
    "for participant in tqdm(waveforms):\n",
    "    temp_list=[]\n",
    "    for waveform in participant:\n",
    "        waveform.export(\"temp.wav\", format=\"wav\")\n",
    "        sound = Waveform(path='temp.wav')\n",
    "        temp_list.append(extract_features_from_waveform(components, statistics, sound))\n",
    "        os.remove(\"temp.wav\")\n",
    "    features.append(temp_list)\n",
    "print('success')"
   ]
  },
  {
   "cell_type": "code",
   "execution_count": null,
   "id": "5a327385-16ef-478f-8319-49875b73a957",
   "metadata": {},
   "outputs": [],
   "source": [
    "indexes = [int(file.split('_')[0]) for file in file_names]"
   ]
  },
  {
   "cell_type": "code",
   "execution_count": null,
   "id": "7ce498b7-2688-45e7-9d7e-ea7202c9675c",
   "metadata": {},
   "outputs": [],
   "source": [
    "dfs = []\n",
    "for participant, index in zip(features, indexes):\n",
    "    dfs.append(pd.DataFrame(participant))"
   ]
  },
  {
   "cell_type": "code",
   "execution_count": null,
   "id": "29b9d56e-2aa2-4994-9b16-5837560c5064",
   "metadata": {},
   "outputs": [],
   "source": [
    "for ind in indexes:\n",
    "    dfs[indexes.index(ind)]['s_id'] = ind"
   ]
  },
  {
   "cell_type": "code",
   "execution_count": null,
   "id": "2dd2c6f4-dc8c-433f-983b-26e1e045eb08",
   "metadata": {},
   "outputs": [],
   "source": [
    "for df in range(len(dfs)):\n",
    "    dfs[df] = dfs[df].set_index('s_id')\n",
    "\n",
    "dfs[1]"
   ]
  },
  {
   "cell_type": "code",
   "execution_count": null,
   "id": "3cff4a21-9479-411f-9c31-97cae633fd34",
   "metadata": {},
   "outputs": [],
   "source": [
    "final = pd.concat([df for df in dfs])\n",
    "final"
   ]
  },
  {
   "cell_type": "code",
   "execution_count": null,
   "id": "044e304d-31f8-41e4-913e-fd38f2b9a601",
   "metadata": {},
   "outputs": [],
   "source": [
    "os.chdir('/Users/andreibirladeanu/Documents/Data/classification/accoustics/extraction_3.0') \n",
    "final.to_excel('meal_cg_prosody.xlsx')"
   ]
  },
  {
   "cell_type": "markdown",
   "id": "0400c1d5-c320-481b-a5df-c6ca6cc3739f",
   "metadata": {},
   "source": [
    "# extract mfcc's "
   ]
  },
  {
   "cell_type": "code",
   "execution_count": null,
   "id": "d923907b-d175-4647-8120-ce5b16604aca",
   "metadata": {},
   "outputs": [],
   "source": [
    "import warnings\n",
    "warnings.filterwarnings(\"ignore\")\n",
    "features = []\n",
    "for participant in tqdm(waveforms):\n",
    "    temp_list=[]\n",
    "    for waveform in participant:\n",
    "        waveform.export(\"temp.wav\", format=\"wav\")\n",
    "        sound = Waveform(path='temp.wav')\n",
    "        temp_list.append(extract_features([sound], ['mfcc'], ['mean', 'std']))\n",
    "        os.remove(\"temp.wav\")\n",
    "    features.append(temp_list)\n",
    "print('success')"
   ]
  },
  {
   "cell_type": "code",
   "execution_count": null,
   "id": "746590de-2c72-4ddb-ab5c-2d9b27f69af8",
   "metadata": {},
   "outputs": [],
   "source": [
    "indexes = [int(file.split('_')[0]) for file in file_names]"
   ]
  },
  {
   "cell_type": "code",
   "execution_count": null,
   "id": "9d9ce834-8dee-4083-a9cb-47e7a0182670",
   "metadata": {},
   "outputs": [],
   "source": [
    "dfs = []\n",
    "for participant, index in zip(features, indexes):\n",
    "    temp_list = []\n",
    "    for feature in participant:\n",
    "        temp_list.append(np.squeeze(feature.values.T))\n",
    "    dfs.append(pd.DataFrame(temp_list, columns=features[0][0].columns))"
   ]
  },
  {
   "cell_type": "code",
   "execution_count": null,
   "id": "8e4646e2-4a08-454f-bec4-279a172fc382",
   "metadata": {},
   "outputs": [],
   "source": [
    "for ind in indexes:\n",
    "    dfs[indexes.index(ind)]['s_id'] = ind"
   ]
  },
  {
   "cell_type": "code",
   "execution_count": null,
   "id": "36c12f92-a894-4d08-b9b9-89e5ef40c6d8",
   "metadata": {},
   "outputs": [],
   "source": [
    "final = pd.concat([df for df in dfs])\n",
    "final.set_index('s_id', inplace=True)"
   ]
  },
  {
   "cell_type": "code",
   "execution_count": null,
   "id": "59a55a14-bf17-4f54-8323-de04499cf251",
   "metadata": {},
   "outputs": [],
   "source": [
    "final.index, data.index"
   ]
  },
  {
   "cell_type": "code",
   "execution_count": null,
   "id": "eefd76ac-6dab-4d34-98a3-188fa8751c02",
   "metadata": {},
   "outputs": [],
   "source": [
    "os.chdir('/Users/andreibirladeanu/Documents/Data/classification/speech')\n",
    "data = pd.read_excel('classification.xlsx', engine='openpyxl')"
   ]
  },
  {
   "cell_type": "code",
   "execution_count": null,
   "id": "a5e6dd73-c3b8-40c4-b298-4b0f87b2d961",
   "metadata": {},
   "outputs": [],
   "source": [
    "data = data.set_index('Subject_ID')"
   ]
  },
  {
   "cell_type": "code",
   "execution_count": null,
   "id": "1cb63524-139b-474b-8143-954398052094",
   "metadata": {},
   "outputs": [],
   "source": [
    "data.index.rename('s_id', inplace=True)"
   ]
  },
  {
   "cell_type": "code",
   "execution_count": null,
   "id": "30cc1989-f892-4dbd-9e7b-24c9284a94a2",
   "metadata": {},
   "outputs": [],
   "source": [
    "final_df = final.join(data['label'])"
   ]
  },
  {
   "cell_type": "code",
   "execution_count": null,
   "id": "32857e39-4f93-4a74-a998-cfc960725b53",
   "metadata": {},
   "outputs": [],
   "source": [
    "final_df = final.join(data['label']).drop_duplicates()"
   ]
  },
  {
   "cell_type": "code",
   "execution_count": null,
   "id": "df5a9d21-8eac-40a8-ac94-6e1dc341d2c1",
   "metadata": {},
   "outputs": [],
   "source": [
    "os.chdir('/Users/andreibirladeanu/Documents/Data/classification/accoustics/extraction_3.0')\n",
    "final_df.to_excel('meal_cg_mfcc.xlsx')"
   ]
  },
  {
   "cell_type": "code",
   "execution_count": null,
   "id": "f83364e3-6922-4f1b-8f3d-5d28c29b1c6f",
   "metadata": {},
   "outputs": [],
   "source": [
    "final"
   ]
  },
  {
   "cell_type": "markdown",
   "id": "8f4ef536-7959-4a0c-b62e-760a1c956835",
   "metadata": {},
   "source": [
    "# use parselmouth to extract jitter, shimmer and f1"
   ]
  },
  {
   "cell_type": "code",
   "execution_count": null,
   "id": "5b1b0b95-30df-4faa-8664-581f4922efa7",
   "metadata": {},
   "outputs": [],
   "source": [
    "import glob\n",
    "import numpy as np\n",
    "import pandas as pd\n",
    "import parselmouth\n",
    "\n",
    "from parselmouth.praat import call"
   ]
  },
  {
   "cell_type": "code",
   "execution_count": null,
   "id": "a6997d40-662a-4d1d-9c86-1183f2e12ecf",
   "metadata": {},
   "outputs": [],
   "source": [
    "\n",
    "# This is the function to measure voice pitch\n",
    "def measurePitch(voiceID, f0min, f0max, unit):\n",
    "    sound = parselmouth.Sound(voiceID) # read the sound\n",
    "    pitch = call(sound, \"To Pitch\", 0.0, f0min, f0max) #create a praat pitch object\n",
    "    meanF0 = call(pitch, \"Get mean\", 0, 0, unit) # get mean pitch\n",
    "    stdevF0 = call(pitch, \"Get standard deviation\", 0 ,0, unit) # get standard deviation\n",
    "    harmonicity = call(sound, \"To Harmonicity (cc)\", 0.01, 75, 0.1, 1.0)\n",
    "    hnr = call(harmonicity, \"Get mean\", 0, 0)\n",
    "    pointProcess = call(sound, \"To PointProcess (periodic, cc)\", f0min, f0max)\n",
    "    localJitter = call(pointProcess, \"Get jitter (local)\", 0, 0, 0.0001, 0.02, 1.3)\n",
    "    localabsoluteJitter = call(pointProcess, \"Get jitter (local, absolute)\", 0, 0, 0.0001, 0.02, 1.3)\n",
    "    rapJitter = call(pointProcess, \"Get jitter (rap)\", 0, 0, 0.0001, 0.02, 1.3)\n",
    "    ppq5Jitter = call(pointProcess, \"Get jitter (ppq5)\", 0, 0, 0.0001, 0.02, 1.3)\n",
    "    ddpJitter = call(pointProcess, \"Get jitter (ddp)\", 0, 0, 0.0001, 0.02, 1.3)\n",
    "    localShimmer =  call([sound, pointProcess], \"Get shimmer (local)\", 0, 0, 0.0001, 0.02, 1.3, 1.6)\n",
    "    localdbShimmer = call([sound, pointProcess], \"Get shimmer (local_dB)\", 0, 0, 0.0001, 0.02, 1.3, 1.6)\n",
    "    apq3Shimmer = call([sound, pointProcess], \"Get shimmer (apq3)\", 0, 0, 0.0001, 0.02, 1.3, 1.6)\n",
    "    aqpq5Shimmer = call([sound, pointProcess], \"Get shimmer (apq5)\", 0, 0, 0.0001, 0.02, 1.3, 1.6)\n",
    "    apq11Shimmer =  call([sound, pointProcess], \"Get shimmer (apq11)\", 0, 0, 0.0001, 0.02, 1.3, 1.6)\n",
    "    ddaShimmer = call([sound, pointProcess], \"Get shimmer (dda)\", 0, 0, 0.0001, 0.02, 1.3, 1.6)\n",
    "    \n",
    "\n",
    "    return meanF0, stdevF0, hnr, localJitter, localabsoluteJitter, rapJitter, ppq5Jitter, ddpJitter, localShimmer, localdbShimmer, apq3Shimmer, aqpq5Shimmer, apq11Shimmer, ddaShimmer"
   ]
  },
  {
   "cell_type": "code",
   "execution_count": null,
   "id": "6a4b1d86-ef5f-4613-b1ba-bb88c608f66e",
   "metadata": {},
   "outputs": [],
   "source": [
    "\n"
   ]
  },
  {
   "cell_type": "code",
   "execution_count": null,
   "id": "00d61e07-fd71-492b-aa42-544d2dc5ec6c",
   "metadata": {},
   "outputs": [],
   "source": [
    "path = '/Users/andreibirladeanu/Documents/Data/accoustic_extraction/meal/child_speech'\n",
    "os.chdir('/Users/andreibirladeanu/Documents/Data/accoustic_extraction/meal/child_speech')  #if string starts with slash it is considered absolute\n",
    "file_names=sorted([i for i in os.listdir(\".\") if not i.startswith(\".\")])"
   ]
  },
  {
   "cell_type": "code",
   "execution_count": null,
   "id": "e0697f02-f651-4808-8765-261e95fc3c78",
   "metadata": {},
   "outputs": [],
   "source": [
    "chunk_length_ms = 1000\n",
    "\n",
    "dfs = []\n",
    "for file in tqdm(file_names):\n",
    "    audio = AudioSegment.from_file(os.path.join(path, file))\n",
    "    file_list = []\n",
    "    mean_F0_list = []\n",
    "    sd_F0_list = []\n",
    "    hnr_list = []\n",
    "    localJitter_list = []\n",
    "    localabsoluteJitter_list = []\n",
    "    rapJitter_list = []\n",
    "    ppq5Jitter_list = []\n",
    "    ddpJitter_list = []\n",
    "    localShimmer_list = []\n",
    "    localdbShimmer_list = []\n",
    "    apq3Shimmer_list = []\n",
    "    aqpq5Shimmer_list = []\n",
    "    apq11Shimmer_list = []\n",
    "    ddaShimmer_list = []\n",
    "    for segment in make_chunks(audio, chunk_length_ms):\n",
    "        segment.export('temp.wav', format='wav')\n",
    "        sound = parselmouth.Sound('temp.wav')\n",
    "        (meanF0, stdevF0, hnr, localJitter, localabsoluteJitter, rapJitter, ppq5Jitter, ddpJitter, localShimmer, localdbShimmer, apq3Shimmer, aqpq5Shimmer, apq11Shimmer, ddaShimmer) = measurePitch(sound, 75, 500, \"Hertz\")\n",
    "        file_list.append(file) # make an ID list\n",
    "        mean_F0_list.append(meanF0) # make a mean F0 list\n",
    "        sd_F0_list.append(stdevF0) # make a sd F0 list\n",
    "        hnr_list.append(hnr)\n",
    "        localJitter_list.append(localJitter)\n",
    "        localabsoluteJitter_list.append(localabsoluteJitter)\n",
    "        rapJitter_list.append(rapJitter)\n",
    "        ppq5Jitter_list.append(ppq5Jitter)\n",
    "        ddpJitter_list.append(ddpJitter)\n",
    "        localShimmer_list.append(localShimmer)\n",
    "        localdbShimmer_list.append(localdbShimmer)\n",
    "        apq3Shimmer_list.append(apq3Shimmer)\n",
    "        aqpq5Shimmer_list.append(aqpq5Shimmer)\n",
    "        apq11Shimmer_list.append(apq11Shimmer)\n",
    "        ddaShimmer_list.append(ddaShimmer)\n",
    "    dfs.append(np.column_stack([file_list, mean_F0_list, sd_F0_list, hnr_list, localJitter_list, localabsoluteJitter_list, rapJitter_list, ppq5Jitter_list, ddpJitter_list, localShimmer_list, localdbShimmer_list,\n",
    "                                apq3Shimmer_list, aqpq5Shimmer_list, apq11Shimmer_list, ddaShimmer_list])) \n",
    "print('success')"
   ]
  },
  {
   "cell_type": "code",
   "execution_count": null,
   "id": "40c5dd52-d8a1-4997-a1ef-6c1c9da08226",
   "metadata": {},
   "outputs": [],
   "source": [
    "waveforms = []\n",
    "chunk_length_ms = 1000\n",
    "audio = AudioSegment.from_file('/Users/andreibirladeanu/Documents/Data/accoustic_extraction/play/cg_speech/1043_play_cg.wav') \n",
    "print(make_chunks(audio, chunk_length_ms))"
   ]
  },
  {
   "cell_type": "code",
   "execution_count": null,
   "id": "c8463a6c-6f90-457b-a64b-ee181ae940e5",
   "metadata": {},
   "outputs": [],
   "source": [
    "columns=['meanF0Hz', 'stdevF0Hz', 'HNR', 'localJitter', 'localabsoluteJitter', 'rapJitter', \n",
    "                                        'ppq5Jitter', 'ddpJitter', 'localShimmer', 'localdbShimmer', 'apq3Shimmer', 'apq5Shimmer', \n",
    "                                        'apq11Shimmer', 'ddaShimmer']"
   ]
  },
  {
   "cell_type": "code",
   "execution_count": null,
   "id": "7fecb6fd-6a38-4d54-95a6-0555f3be6d4e",
   "metadata": {},
   "outputs": [],
   "source": [
    "dfs[0][:,0]"
   ]
  },
  {
   "cell_type": "code",
   "execution_count": null,
   "id": "f92d9c09-9017-49e5-9be6-dba5678d81f8",
   "metadata": {},
   "outputs": [],
   "source": [
    "dataframes = []\n",
    "for df in dfs:\n",
    "    dataframes.append(pd.DataFrame(df[:,1:], columns = columns, index=df[:,0]))"
   ]
  },
  {
   "cell_type": "code",
   "execution_count": null,
   "id": "c770c24d-92cc-4e7f-ab88-7814f8bbda14",
   "metadata": {},
   "outputs": [],
   "source": [
    "dataframes[0]"
   ]
  },
  {
   "cell_type": "code",
   "execution_count": null,
   "id": "c338a855-2e01-4b2b-b053-8afc44f86f71",
   "metadata": {},
   "outputs": [],
   "source": [
    "final = result = pd.concat([df for df in dataframes])"
   ]
  },
  {
   "cell_type": "code",
   "execution_count": null,
   "id": "0d6f1144-23f6-4080-b17a-ece938bbfa74",
   "metadata": {},
   "outputs": [],
   "source": [
    "os.chdir('/Users/andreibirladeanu/Documents/Data/classification/accoustics/extraction_5.0')\n",
    "final.to_excel('meal_child_prosody.xlsx')"
   ]
  },
  {
   "cell_type": "code",
   "execution_count": null,
   "id": "adfeb40f-58fc-455c-85af-ee2d14c87b1d",
   "metadata": {},
   "outputs": [],
   "source": [
    "final"
   ]
  },
  {
   "cell_type": "code",
   "execution_count": null,
   "id": "e7d6794b-bb75-4a56-939f-ff277e5e513e",
   "metadata": {},
   "outputs": [],
   "source": [
    "\n",
    "df = pd.read_excel('/Users/andreibirladeanu/Documents/Data/classification/accoustics/extraction_3.0/meal_child_prosody.xlsx', index_col=0)"
   ]
  },
  {
   "cell_type": "code",
   "execution_count": null,
   "id": "a0aa28d3-6c82-4854-b8f1-afbc342a2e8f",
   "metadata": {},
   "outputs": [],
   "source": [
    "df = df.drop_duplicates()\n",
    "df"
   ]
  },
  {
   "cell_type": "code",
   "execution_count": null,
   "id": "d2edeacc-5a0d-4a8c-80e9-a12eb14d0203",
   "metadata": {},
   "outputs": [],
   "source": [
    "os.chdir('/Users/andreibirladeanu/Documents/Data/classification/accoustics/extraction_3.0')\n",
    "\n",
    "df.to_excel('meal_child_prosody.xlsx')"
   ]
  },
  {
   "cell_type": "code",
   "execution_count": null,
   "id": "8ee9acbf-7ca5-4c68-8dcb-84e4ed5dd0a2",
   "metadata": {},
   "outputs": [],
   "source": [
    "df"
   ]
  }
 ],
 "metadata": {
  "kernelspec": {
   "display_name": "Python 3",
   "language": "python",
   "name": "python3"
  },
  "language_info": {
   "codemirror_mode": {
    "name": "ipython",
    "version": 3
   },
   "file_extension": ".py",
   "mimetype": "text/x-python",
   "name": "python",
   "nbconvert_exporter": "python",
   "pygments_lexer": "ipython3",
   "version": "3.8.5"
  }
 },
 "nbformat": 4,
 "nbformat_minor": 5
}
