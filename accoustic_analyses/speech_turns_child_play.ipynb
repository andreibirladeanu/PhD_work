{
 "cells": [
  {
   "cell_type": "code",
   "execution_count": null,
   "id": "1d5f7eca",
   "metadata": {},
   "outputs": [],
   "source": [
    "import numpy as np\n",
    "from pyannote.core import Segment, Timeline\n",
    "import os\n",
    "from sklearn.cluster import KMeans\n",
    "import pandas as pd\n",
    "import json\n",
    "import pyannote.core.json\n",
    "from numpy import genfromtxt\n",
    "from sklearn.cluster import KMeans\n",
    "from pydub import AudioSegment\n",
    "from pydub.playback import play\n",
    "from pydub import AudioSegment"
   ]
  },
  {
   "cell_type": "code",
   "execution_count": null,
   "id": "5f313619",
   "metadata": {},
   "outputs": [],
   "source": [
    "os.chdir('/Users/andrei-macpro/Documents/Data/Audio/Embeddings/Play/Timestamps' )\n",
    "file_names=sorted([i for i in os.listdir(\".\") if not i.startswith(\".\")])"
   ]
  },
  {
   "cell_type": "code",
   "execution_count": null,
   "id": "fcbbe810",
   "metadata": {},
   "outputs": [],
   "source": [
    "# import the complete file timestamps (from 0 to file end)\n",
    "json_timelines=list()\n",
    "for file in file_names:\n",
    "    json_timelines.append(pyannote.core.json.load_from(file))"
   ]
  },
  {
   "cell_type": "code",
   "execution_count": null,
   "id": "615c0058",
   "metadata": {},
   "outputs": [],
   "source": [
    "# import the embedding vectors \n",
    "os.chdir( '/Users/andrei-macpro/Documents/Data/Audio/Embeddings/Play/Embeddings' )\n",
    "file_names=sorted([i for i in os.listdir(\".\") if not i.startswith(\".\")])\n",
    "embeddings=list()\n",
    "for file in file_names:\n",
    "    embeddings.append(genfromtxt(file, delimiter=','))"
   ]
  },
  {
   "cell_type": "code",
   "execution_count": null,
   "id": "8c0b6fb2",
   "metadata": {},
   "outputs": [],
   "source": [
    "# run k means \n",
    "kmeans = KMeans(n_clusters=4)\n",
    "predictions = list()\n",
    "for file in embeddings:       \n",
    "    labels = kmeans.fit_predict(file)\n",
    "    predictions.append(labels)"
   ]
  },
  {
   "cell_type": "code",
   "execution_count": null,
   "id": "3f53f3ce",
   "metadata": {},
   "outputs": [],
   "source": [
    "# tuple of 1-s second and its corresponding label \n",
    "list_of_tuples=[]\n",
    "temp_list=[]\n",
    "for prediction, timeline in zip(predictions, json_timelines):\n",
    "    for label, segment in zip(prediction, timeline):\n",
    "        temp_list.append(((label,segment)))\n",
    "    list_of_tuples.append(temp_list)\n",
    "    temp_list=[]\n",
    "    "
   ]
  },
  {
   "cell_type": "code",
   "execution_count": null,
   "id": "83681987",
   "metadata": {},
   "outputs": [],
   "source": [
    "os.chdir('/Users/andrei-macpro/Documents/Data/Audio/overlapping_speech/no_os_play')  #if string starts with slash it is considered absolute\n",
    "file_names=sorted([i for i in os.listdir(\".\") if not i.startswith(\".\")])"
   ]
  },
  {
   "cell_type": "code",
   "execution_count": null,
   "id": "84dd54f6",
   "metadata": {},
   "outputs": [],
   "source": [
    "# make new timelines from clusters \n",
    "def timelines_from_clusters(list_of_tuples,cluster_no):\n",
    "    timelines_from_clusters = []\n",
    "    for file in list_of_tuples:\n",
    "        temp_list=[]\n",
    "        for cluster_seg in file:\n",
    "            if cluster_seg[0]==cluster_no:\n",
    "                temp_list.append(cluster_seg[1])\n",
    "        timelines_from_clusters.append(temp_list)\n",
    "        \n",
    "    return timelines_from_clusters\n"
   ]
  },
  {
   "cell_type": "code",
   "execution_count": null,
   "id": "multiple-agriculture",
   "metadata": {},
   "outputs": [],
   "source": [
    "participants = [1043, 1049 ,1062, 1073 ,1080, 1082, 1089, 1097, 1098, 1104, 1108, 1117, 1118, 1131, 1161, 1180, 1184, 1188, 1210, 1234,\n",
    "1245, 1263, 1282, 2027]\n"
   ]
  },
  {
   "cell_type": "code",
   "execution_count": null,
   "id": "therapeutic-newark",
   "metadata": {},
   "outputs": [],
   "source": [
    "locations = []\n",
    "for x in file_names:\n",
    "    if int(x.split(\"_\")[0]) in participants:\n",
    "        locations.append(file_names.index(x))\n",
    "locations"
   ]
  },
  {
   "cell_type": "code",
   "execution_count": null,
   "id": "43206c01",
   "metadata": {},
   "outputs": [],
   "source": [
    "clusters_0 = timelines_from_clusters(list_of_tuples,0)\n",
    "clusters_1 = timelines_from_clusters(list_of_tuples,1)\n",
    "clusters_2 = timelines_from_clusters(list_of_tuples,2)\n",
    "clusters_3 = timelines_from_clusters(list_of_tuples,3)\n"
   ]
  },
  {
   "cell_type": "code",
   "execution_count": null,
   "id": "higher-science",
   "metadata": {},
   "outputs": [],
   "source": [
    "\n",
    "locations"
   ]
  },
  {
   "cell_type": "code",
   "execution_count": null,
   "id": "offensive-swaziland",
   "metadata": {},
   "outputs": [],
   "source": [
    "for x in clusters_0:\n",
    "    if clusters_0.index(x) in locations:\n",
    "        print(x)\n"
   ]
  },
  {
   "cell_type": "code",
   "execution_count": null,
   "id": "3052a841",
   "metadata": {},
   "outputs": [],
   "source": [
    "# removing participants (child here) who have missing diarization data in play (i.e. all of their 4 clusters were noise)\n",
    "clusters_0 = [x for x in clusters_0 if clusters_0.index(x) in locations]\n",
    "clusters_1 = [x for x in clusters_1 if clusters_1.index(x) in locations]\n",
    "clusters_2 = [x for x in clusters_2 if clusters_2.index(x) in locations]\n",
    "clusters_3 = [x for x in clusters_3 if clusters_3.index(x) in locations]\n"
   ]
  },
  {
   "cell_type": "code",
   "execution_count": null,
   "id": "8c363963",
   "metadata": {},
   "outputs": [],
   "source": [
    "file_names = [file[0:4] for file in file_names]\n",
    "\n",
    "file_names = [int(x) for x in file_names if file_names.index(x) in locations]"
   ]
  },
  {
   "cell_type": "code",
   "execution_count": null,
   "id": "f8cfe411",
   "metadata": {},
   "outputs": [],
   "source": [
    "clusters_0[3] =  clusters_0[3] + clusters_2[3]\n",
    "clusters_2[10] = clusters_2[10] + clusters_3[10]\n",
    "clusters_2[12] = clusters_2[12] + clusters_3[12]\n",
    "\n",
    "\n",
    "\n"
   ]
  },
  {
   "cell_type": "code",
   "execution_count": null,
   "id": "49ce93e4",
   "metadata": {},
   "outputs": [],
   "source": [
    "len(clusters_0)"
   ]
  },
  {
   "cell_type": "code",
   "execution_count": null,
   "id": "standing-gathering",
   "metadata": {},
   "outputs": [],
   "source": [
    "len(cg_0)"
   ]
  },
  {
   "cell_type": "markdown",
   "id": "ab9f13c9",
   "metadata": {},
   "source": [
    "## now choose only the cg clusters "
   ]
  },
  {
   "cell_type": "code",
   "execution_count": null,
   "id": "055308e1",
   "metadata": {},
   "outputs": [],
   "source": [
    "cg_0 = [x for x in clusters_0]\n",
    "cg_0"
   ]
  },
  {
   "cell_type": "code",
   "execution_count": null,
   "id": "e705b166",
   "metadata": {},
   "outputs": [],
   "source": [
    "cg_1 = [x for x in clusters_1]"
   ]
  },
  {
   "cell_type": "code",
   "execution_count": null,
   "id": "monetary-cheat",
   "metadata": {},
   "outputs": [],
   "source": [
    "len(clusters_2)"
   ]
  },
  {
   "cell_type": "code",
   "execution_count": null,
   "id": "d3008cf7",
   "metadata": {},
   "outputs": [],
   "source": [
    "clusters_2.pop(3)\n",
    "cg_2 = [x for x in clusters_2]\n",
    "len(cg_2)"
   ]
  },
  {
   "cell_type": "code",
   "execution_count": null,
   "id": "e175a163",
   "metadata": {},
   "outputs": [],
   "source": [
    "clusters_3.pop(12)\n",
    "clusters_3.pop(10)\n",
    "cg_3 = [x for x in clusters_3]\n",
    "len(cg_3)"
   ]
  },
  {
   "cell_type": "code",
   "execution_count": null,
   "id": "2ce498bd",
   "metadata": {},
   "outputs": [],
   "source": [
    "index_cg_0 = [1062, 1073, 1082, 1104,  ]"
   ]
  },
  {
   "cell_type": "code",
   "execution_count": null,
   "id": "immediate-receptor",
   "metadata": {},
   "outputs": [],
   "source": [
    "listt = index_cg_0 + index_cg_1 + index_cg_2 + index_cg_3\n",
    "len(listt)\n"
   ]
  },
  {
   "cell_type": "code",
   "execution_count": null,
   "id": "7d6e1f4a",
   "metadata": {},
   "outputs": [],
   "source": [
    "len(index_child_0), len(cg_0)"
   ]
  },
  {
   "cell_type": "code",
   "execution_count": null,
   "id": "3953bdc3",
   "metadata": {},
   "outputs": [],
   "source": [
    "index_cg_1 = [participants]"
   ]
  },
  {
   "cell_type": "code",
   "execution_count": null,
   "id": "f7d64041",
   "metadata": {},
   "outputs": [],
   "source": [
    "len(index_child_1), len(cg_1)"
   ]
  },
  {
   "cell_type": "code",
   "execution_count": null,
   "id": "fe14c271",
   "metadata": {},
   "outputs": [],
   "source": [
    "index_cg_2 = [1091, 1107, 1108, 1112, 1132]"
   ]
  },
  {
   "cell_type": "code",
   "execution_count": null,
   "id": "34bbb060",
   "metadata": {},
   "outputs": [],
   "source": [
    "len(index_child_2), len(cg_2)"
   ]
  },
  {
   "cell_type": "code",
   "execution_count": null,
   "id": "7cc7b2c8",
   "metadata": {},
   "outputs": [],
   "source": [
    "index_cg_3 = [1047, 1079, 1092, 1096, 1099, 1170, 1180]"
   ]
  },
  {
   "cell_type": "code",
   "execution_count": null,
   "id": "01c91c33",
   "metadata": {},
   "outputs": [],
   "source": [
    "len(index_child_3), len(cg_3)"
   ]
  },
  {
   "cell_type": "code",
   "execution_count": null,
   "id": "ef514aa8",
   "metadata": {},
   "outputs": [],
   "source": [
    "cg_speech_0 = []\n",
    "for index, caregiver in zip(index_cg_0, cg_0,):\n",
    "    cg_speech_0.append((index,caregiver))\n",
    "cg_speech_0"
   ]
  },
  {
   "cell_type": "code",
   "execution_count": null,
   "id": "a8636cdc",
   "metadata": {},
   "outputs": [],
   "source": [
    "cg_speech_1 = []\n",
    "for index, caregiver in zip(index_cg_1, cg_1,):\n",
    "    cg_speech_1.append((index,caregiver))\n",
    "cg_speech_1"
   ]
  },
  {
   "cell_type": "code",
   "execution_count": null,
   "id": "1d47a459",
   "metadata": {},
   "outputs": [],
   "source": [
    "cg_speech_2 = []\n",
    "for index, caregiver in zip(index_cg_2, cg_2):\n",
    "    cg_speech_2.append((index,caregiver))\n",
    "cg_speech_2"
   ]
  },
  {
   "cell_type": "code",
   "execution_count": null,
   "id": "6f4b7047",
   "metadata": {},
   "outputs": [],
   "source": [
    " cg_speech_3 = []\n",
    "for index, caregiver in zip(index_cg_3, cg_3):\n",
    "    cg_speech_3.append((index,caregiver))\n",
    "cg_speech_3"
   ]
  },
  {
   "cell_type": "code",
   "execution_count": null,
   "id": "acfd8c9c",
   "metadata": {},
   "outputs": [],
   "source": [
    "len(cg_speech_0) + len(cg_speech_1) + len(cg_speech_2) + len(cg_speech_3)"
   ]
  },
  {
   "cell_type": "code",
   "execution_count": null,
   "id": "e25e91d2",
   "metadata": {},
   "outputs": [],
   "source": [
    "cg_segments = sorted(cg_speech_0 + cg_speech_1 + cg_speech_2 + cg_speech_3)"
   ]
  },
  {
   "cell_type": "code",
   "execution_count": null,
   "id": "2c88ac68",
   "metadata": {},
   "outputs": [],
   "source": [
    "timelines_list = []\n",
    "\n",
    "\n",
    "for index, segments in cg_segments:\n",
    "    segment_holder =[]\n",
    "    timeline = Timeline(segments=[s for s in segments], uri = str(index))\n",
    "    timelines_list.append(timeline)\n",
    "        \n",
    "    "
   ]
  },
  {
   "cell_type": "code",
   "execution_count": null,
   "id": "b5004f2b",
   "metadata": {},
   "outputs": [],
   "source": [
    "os.chdir('/Users/andrei-macpro/Documents/Data/Audio/Embeddings/Meal/identification/speech_turns_child')  #if string starts with slash it is considered absolute\n"
   ]
  },
  {
   "cell_type": "code",
   "execution_count": null,
   "id": "9fe8d242",
   "metadata": {},
   "outputs": [],
   "source": [
    "for timeline in timelines_list:\n",
    "    pyannote.core.json.dump_to(timeline, timeline.uri+\".json\")"
   ]
  }
 ],
 "metadata": {
  "kernelspec": {
   "display_name": "Python 3",
   "language": "python",
   "name": "python3"
  },
  "language_info": {
   "codemirror_mode": {
    "name": "ipython",
    "version": 3
   },
   "file_extension": ".py",
   "mimetype": "text/x-python",
   "name": "python",
   "nbconvert_exporter": "python",
   "pygments_lexer": "ipython3",
   "version": "3.8.8"
  }
 },
 "nbformat": 4,
 "nbformat_minor": 5
}
