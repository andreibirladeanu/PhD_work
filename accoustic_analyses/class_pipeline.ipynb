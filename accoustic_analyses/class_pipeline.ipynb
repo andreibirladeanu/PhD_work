{
 "cells": [
  {
   "cell_type": "code",
   "execution_count": null,
   "id": "72190ea5-63c8-4c93-8f91-6fb0fffa2557",
   "metadata": {},
   "outputs": [],
   "source": [
    "import os\n",
    "import pandas as pd\n",
    "import numpy as np\n",
    "from sklearn.model_selection import KFold\n",
    "from sklearn.model_selection import cross_val_score\n",
    "from sklearn.linear_model import LogisticRegression\n",
    "from numpy import mean\n",
    "from numpy import std\n",
    "from sklearn.model_selection import GroupKFold\n",
    "from sklearn.preprocessing import StandardScaler\n",
    "from sklearn.utils import shuffle\n",
    "from sklearn.svm import SVC\n",
    "from sklearn.model_selection import cross_val_predict\n",
    "from sklearn.metrics import accuracy_score\n",
    "from sklearn.model_selection import cross_validate\n",
    "from sklearn.metrics import recall_score\n",
    "from sklearn.metrics import precision_score\n",
    "from sklearn.neural_network import MLPClassifier\n",
    "from sklearn.pipeline import Pipeline\n",
    "from sklearn import preprocessing\n",
    "from sklearn.model_selection import GridSearchCV\n",
    "import matplotlib.pyplot as plt\n",
    "from sklearn.model_selection import RepeatedKFold\n",
    "from sklearn.model_selection import StratifiedKFold\n",
    "from pipelinehelper import PipelineHelper\n",
    "from sklearn.decomposition import PCA\n",
    "\n",
    "from collections import Counter\n",
    "\n",
    "from sklearn.metrics import balanced_accuracy_score"
   ]
  },
  {
   "cell_type": "code",
   "execution_count": null,
   "id": "04063ead-662f-48c2-a320-84091285ea23",
   "metadata": {},
   "outputs": [],
   "source": [
    "data = pd.read_excel('/Users/andrei-macpro/Documents/Data/classification/accoustics/extraction_3.0/meal_child_prosody.xlsx',index_col=0)\n",
    "data = data.dropna()\n",
    "#data = data.drop('label', axis=1)"
   ]
  },
  {
   "cell_type": "code",
   "execution_count": null,
   "id": "9fa0dffe-5cd2-4ab9-9a29-86501fba6944",
   "metadata": {},
   "outputs": [],
   "source": [
    "data = pd.read_excel('/Users/andrei-macpro/Documents/Data/classification/accoustics/mfcc_child_meal.xlsx',index_col=0)\n",
    "data = data.dropna()"
   ]
  },
  {
   "cell_type": "code",
   "execution_count": null,
   "id": "27216ea6-bffe-4d18-ae6f-1fc54bdb6aa6",
   "metadata": {},
   "outputs": [],
   "source": [
    "combined = pd.concat([data, data2], join='outer',axis=1)\n",
    "combined = combined.dropna()\n",
    "#combined = combined.drop('label', axis=1)"
   ]
  },
  {
   "cell_type": "code",
   "execution_count": null,
   "id": "4548e5a9-8d3b-4092-a062-6dbca777cabf",
   "metadata": {},
   "outputs": [],
   "source": [
    "data"
   ]
  },
  {
   "cell_type": "code",
   "execution_count": null,
   "id": "37c679fa-42f0-44d2-a931-90f1e35c2f27",
   "metadata": {},
   "outputs": [],
   "source": [
    "combined['label']"
   ]
  },
  {
   "cell_type": "code",
   "execution_count": null,
   "id": "e32bc090-0ec0-4c11-9e96-56abd84c4757",
   "metadata": {},
   "outputs": [],
   "source": [
    "#X = combined.iloc[:,:-1].to_numpy()\n",
    "x = StandardScaler().fit_transform(X)\n",
    "pca = PCA(n_components=5)\n",
    "principalcomponentst = pca.fit_transform(x)"
   ]
  },
  {
   "cell_type": "code",
   "execution_count": null,
   "id": "04516ffd-666c-4ba8-b0cd-8347fc645985",
   "metadata": {},
   "outputs": [],
   "source": [
    "print('Explained variation per principal component: {}'.format(pca.explained_variance_ratio_))\n"
   ]
  },
  {
   "cell_type": "code",
   "execution_count": null,
   "id": "dc3a8242-1dfe-4946-b917-2da4e74bb0b9",
   "metadata": {},
   "outputs": [],
   "source": [
    "X= principalcomponentst"
   ]
  },
  {
   "cell_type": "code",
   "execution_count": null,
   "id": "db0c030b-1e07-419c-a6dc-89198006b688",
   "metadata": {},
   "outputs": [],
   "source": [
    "X = data.iloc[:,:-1].to_numpy()\n",
    "y = np.array([0 if x=='no_rad' else 1 for x in data.iloc[:,-1]])\n",
    "groups = data.index"
   ]
  },
  {
   "cell_type": "code",
   "execution_count": null,
   "id": "27b5e65c-28cf-4c65-95b6-0ffb15e9f89d",
   "metadata": {},
   "outputs": [],
   "source": [
    "len(data.columns)"
   ]
  },
  {
   "cell_type": "code",
   "execution_count": null,
   "id": "1a928f65-9557-4432-b6ec-0e12207bea83",
   "metadata": {},
   "outputs": [],
   "source": [
    "\n",
    "##!!!!!!!! this is the pipeline!!!\n",
    "from sklearn.ensemble import RandomForestClassifier\n",
    "from sklearn import svm, tree\n",
    "from sklearn.discriminant_analysis import LinearDiscriminantAnalysis\n",
    "from sklearn.discriminant_analysis import QuadraticDiscriminantAnalysis\n",
    "from sklearn.naive_bayes import GaussianNB\n",
    "best_estimators = []\n",
    "\n",
    "#accuracies = []\n",
    "\n",
    "\n",
    "results = []\n",
    "predictions = []\n",
    "#X,y, groups = shuffle(X,y,data.index ,random_state=42)\n",
    "X_shuffled, y_shuffled, groups_shuffled = shuffle(X,y,groups ,random_state=42)\n",
    "cv = GroupKFold(n_splits=5)\n",
    "pipe = Pipeline([\n",
    "    ('scaler',StandardScaler()), \n",
    "    ('classifier', PipelineHelper([\n",
    "        ('svm', SVC(class_weight='balanced')), \n",
    "        ('lr', LogisticRegression(class_weight='balanced')),\n",
    "        ('tree', tree.DecisionTreeClassifier(class_weight='balanced')),\n",
    "        ('forest', RandomForestClassifier(class_weight='balanced')),\n",
    "        ('linear', LinearDiscriminantAnalysis()),\n",
    "        ('qudratic', QuadraticDiscriminantAnalysis()),\n",
    "        ('naive', GaussianNB())\n",
    "    ])),\n",
    "    ])\n",
    "params = {\n",
    "    'classifier__selected_model':pipe.named_steps['classifier'].generate({\n",
    "          'svm__kernel': ['linear','rbf'],#'svm__C':[0.001, 0.01, 0.1, 1, 10, 100], 'svm__gamma':[0.001, 0.01, 0.1, 1, 10, 100],\n",
    "     #   'lr__penalty':['l1','l2'], 'lr__solver':['liblinear'],\n",
    "      #                  'lr__C':np.logspace(-4,4,20)\n",
    "        \n",
    "    })\n",
    "}\n",
    "search = GridSearchCV(pipe, params, scoring = ['accuracy','balanced_accuracy','f1', 'precision','recall'],refit='balanced_accuracy', cv =cv, n_jobs=-1)\n",
    "\n",
    "search.fit(X_shuffled, y_shuffled, groups = groups_shuffled)\n",
    "print(search.best_score_)\n",
    "print(search.best_params_)\n",
    "#pruint(pd.DataFrame.from_dict(search.cv_results_))\n",
    "#predictions.append(search.best_estimator_.predict(test_x))"
   ]
  },
  {
   "cell_type": "code",
   "execution_count": null,
   "id": "62e1af58-225f-49aa-a9ee-aab965400ada",
   "metadata": {},
   "outputs": [],
   "source": [
    "\n",
    "##!!!!!!!! this is the pipeline!!!\n",
    "from sklearn.ensemble import RandomForestClassifier\n",
    "from sklearn import svm, tree\n",
    "from sklearn.discriminant_analysis import LinearDiscriminantAnalysis\n",
    "from sklearn.discriminant_analysis import QuadraticDiscriminantAnalysis\n",
    "best_estimators = []\n",
    "from sklearn.model_selection import RandomizedSearchCV\n",
    "#accuracies = []\n",
    "\n",
    "\n",
    "results = []\n",
    "predictions = []\n",
    "X_shuffled, y_shuffled, groups_shuffled = shuffle(X,y,groups ,random_state=42)\n",
    "cv = GroupKFold(n_splits=5)\n",
    "pipe = Pipeline([\n",
    "    ('scaler',StandardScaler()), \n",
    "    ('classifier', PipelineHelper([\n",
    "        ('lr', LogisticRegression(class_weight='balanced')),\n",
    "      #  ('forest', RandomForestClassifier(class_weight='balanced')),\n",
    "        #('svm', SVC(class_weight='balanced'))\n",
    "\n",
    "    ])),\n",
    "    ])\n",
    "params = {\n",
    "    'classifier__selected_model':pipe.named_steps['classifier'].generate({\n",
    "        'lr__penalty':['l1','l2'], 'lr__solver':['liblinear'],\n",
    "                        'lr__C':np.logspace(-4,4,20), \n",
    "       # 'forest__n_estimators':[int(x) for x in np.linspace(start = 200, stop = 2000, num = 10)],\n",
    "       # 'forest__max_features':['auto', 'sqrt'], 'forest__max_depth':[int(x) for x in np.linspace(10, 110, num = 11)],\n",
    "       # 'forest__min_samples_split':[2, 5, 10], 'forest__min_samples_leaf':[1, 2, 4], 'forest__bootstrap':[True, False],\n",
    "        # 'svm__kernel': ['linear'],'svm__C':[0.001, 0.01, 0.1, 1, 10, 100], 'svm__gamma':[0.001, 0.01, 0.1, 1, 10, 100],\n",
    "        \n",
    "        \n",
    "    })\n",
    "}\n",
    "\n",
    "search = RandomizedSearchCV(pipe, params, scoring = ['accuracy','balanced_accuracy','f1', 'precision','recall'],refit='balanced_accuracy', n_iter=30,\n",
    "                            verbose = 10, cv =cv, n_jobs=-1)\n",
    "\n",
    "search.fit(X_shuffled, y_shuffled, groups = groups_shuffled)\n",
    "print(search.best_score_)\n",
    "print(search.best_params_)\n",
    "#pruint(pd.DataFrame.from_dict(search.cv_results_))\n",
    "#predictions.append(search.best_estimator_.predict(test_x))"
   ]
  },
  {
   "cell_type": "code",
   "execution_count": null,
   "id": "6e92b1bf-7380-48ad-991f-440bc79ebd28",
   "metadata": {},
   "outputs": [],
   "source": [
    "df_grid_search = pd.DataFrame(search.cv_results_)\n",
    "df_grid_search = df_grid_search.set_index('params')[['rank_test_accuracy', 'mean_test_accuracy', 'mean_test_f1','mean_test_precision', 'mean_test_recall']]\n",
    "df_grid_search.sort_values(by = 'mean_test_f1', ascending=False).head(50)"
   ]
  },
  {
   "cell_type": "code",
   "execution_count": null,
   "id": "5cb2b477-977f-4677-9aec-7043cdd3b915",
   "metadata": {},
   "outputs": [],
   "source": [
    "X_shuffled, y_shuffled, groups_shuffled = shuffle(X,y,groups ,random_state=42)\n",
    "\n",
    "scoring = ['accuracy', 'recall','precision', 'f1']\n",
    "scaler = preprocessing.StandardScaler()\n",
    "clf = LogisticRegression(C= 0.004832930238571752,penalty='l2',solver='liblinear', class_weight='balanced')\n",
    "pipe = Pipeline(steps=[(\"scaler\", scaler), (\"classifier\", clf)])\n",
    "cv = GroupKFold(n_splits=5)\n",
    "scores = cross_validate(pipe, X_shuffled, y_shuffled,groups=groups_shuffled, cv=cv, scoring=scoring, return_estimator=True)"
   ]
  },
  {
   "cell_type": "code",
   "execution_count": null,
   "id": "b5432f62-f1ac-4990-a7b8-8d55a3b0b125",
   "metadata": {},
   "outputs": [],
   "source": [
    "data"
   ]
  },
  {
   "cell_type": "code",
   "execution_count": null,
   "id": "62a0bf7f-e056-43c7-b3ba-387b39320ddb",
   "metadata": {},
   "outputs": [],
   "source": [
    "np.mean(scores['test_accuracy']), "
   ]
  },
  {
   "cell_type": "code",
   "execution_count": null,
   "id": "dcbcd70e-6d18-4b7d-a679-edab5f0d18ca",
   "metadata": {},
   "outputs": [],
   "source": [
    "np.mean(scores['test_precision']), np.mean(scores['test_accuracy']), np.mean(scores['test_f1']), np.mean(scores['test_recall']),"
   ]
  },
  {
   "cell_type": "code",
   "execution_count": null,
   "id": "8005a5b0-10a1-4c8b-84f3-6eb756ac248e",
   "metadata": {},
   "outputs": [],
   "source": [
    "f_importances = [x.named_steps['classifier'].coef_[0] for x in  scores['estimator']]\n",
    "np.mean(f_importances,axis=0)"
   ]
  },
  {
   "cell_type": "code",
   "execution_count": null,
   "id": "d09f3467-75f5-406f-bbcc-1ed482ae076d",
   "metadata": {},
   "outputs": [],
   "source": [
    "features = pd.Series(np.mean(f_importances, axis=0), index=data.columns[:-1])\n",
    "figure = features.abs().nlargest(20).plot(kind='barh')\n",
    "#plt.savefig('child_meal_prosodic.png', bbox_inches='tight')"
   ]
  },
  {
   "cell_type": "code",
   "execution_count": null,
   "id": "7efb8791-24e3-4852-884c-a8dbe7de9272",
   "metadata": {},
   "outputs": [],
   "source": [
    "from scipy import stats\n",
    "clf = LogisticRegression(C = 0.012742749857031334, solver= 'liblinear',penalty='l1',class_weight='balanced')\n",
    "def permutation_test(X,y,groups, clf):\n",
    "    _scores = []\n",
    "    cv = GroupKFold(n_splits=5)\n",
    "    scaler = preprocessing.StandardScaler()\n",
    "    pipe = Pipeline(steps=[(\"scaler\", scaler), (\"clf\", clf)])\n",
    "    scaler = preprocessing.StandardScaler()\n",
    "    for i in range(0,100):\n",
    "        y_shuffled,groups_shuffled= shuffle(y,groups,random_state=i)\n",
    "        scoring = ['accuracy', 'recall','precision','f1']\n",
    "        scores = cross_validate(pipe, X, y_shuffled,groups=groups_shuffled, cv=cv, scoring=scoring, n_jobs=-1)\n",
    "        _scores.append(np.mean(scores['test_accuracy']))\n",
    "    X_shuffled,y_shuffled,groups_shuffled= shuffle(X,y,groups,random_state=42)\n",
    "    scoring = ['accuracy', 'recall','precision','f1']\n",
    "    score_no_perm = cross_validate(pipe, X_shuffled, y_shuffled,groups=groups_shuffled,scoring=scoring, cv=cv)\n",
    "    t_test = stats.ttest_1samp(_scores, np.mean(score_no_perm['test_accuracy']))\n",
    "    return(_scores,score_no_perm['test_accuracy'], t_test.pvalue)\n",
    "scores,no_perm, p_value = permutation_test(X,y, groups, clf)"
   ]
  },
  {
   "cell_type": "code",
   "execution_count": null,
   "id": "46cab294-8878-41d6-abb6-27e34f4999d6",
   "metadata": {},
   "outputs": [],
   "source": [
    "no_perm"
   ]
  },
  {
   "cell_type": "code",
   "execution_count": null,
   "id": "4a1f9638-3cf5-489b-96c3-58c2be9f6106",
   "metadata": {},
   "outputs": [],
   "source": [
    "sme = SMOTEENN(random_state=42)"
   ]
  },
  {
   "cell_type": "code",
   "execution_count": null,
   "id": "75a4af19-79e3-4d51-889a-84632116468b",
   "metadata": {},
   "outputs": [],
   "source": [
    "kf = GroupKFold(n_splits=5)\n",
    "from sklearn.metrics import precision_score\n",
    "from sklearn.metrics import recall_score\n",
    "from sklearn.metrics import confusion_matrix\n",
    "accuracies = [] \n",
    "precisions = []\n",
    "recalls = []\n",
    "specifities = []\n",
    "for fold, (train_index, test_index) in enumerate(kf.split(X,y,groups), 1):\n",
    "    print(groups[test_index])\n",
    "    X_train = X[train_index]\n",
    "    y_train = y[train_index]  # Based on your code, you might need a ravel call here, but I would look into how you're generating your y\n",
    "    X_test = X[test_index]\n",
    "    y_test = y[test_index]  # See comment on ravel and  y_train\n",
    "    sm = SMOTEENN(random_state=42)\n",
    "    X_train_oversampled, y_train_oversampled = sm.fit_sample(X_train, y_train)\n",
    "    pipe = Pipeline([('scaler', StandardScaler()), ('svc', SVC(kernel='linear',C=10, gamma=0.1, class_weight='balanced'))])\n",
    "    pipe.fit(X_train_oversampled, y_train_oversampled)  \n",
    "    y_pred = pipe.predict(X_test)\n",
    "    print(f'For fold {fold}:')\n",
    "    print(f'Accuracy: {pipe.score(X_test, y_test)}')\n",
    "    accuracies.append(pipe.score(X_test, y_test))\n",
    "    precisions.append(precision_score(y_test, pipe.predict(X_test)))\n",
    "    recalls.append(recall_score(y_test, pipe.predict(X_test)))\n",
    "    tn, fp, fn, tp = confusion_matrix(y_test, pipe.predict(X_test)).ravel()\n",
    "    specifities.append(tn / (tn+fp))\n"
   ]
  },
  {
   "cell_type": "code",
   "execution_count": null,
   "id": "0e039e34-9a30-4402-b299-68576f9a2252",
   "metadata": {},
   "outputs": [],
   "source": [
    "np.mean(accuracies), np.mean(precisions), np.mean(recalls), np.mean(specifities)"
   ]
  },
  {
   "cell_type": "code",
   "execution_count": null,
   "id": "26008f5c-2cb3-451c-b58f-3cbdd0580546",
   "metadata": {},
   "outputs": [],
   "source": [
    "steps = [('over', SMOTE()), ('model', LogisticRegression())]\n",
    "pipeline = Pipeline(steps=steps)\n",
    "# evaluate pipeline\n",
    "cv = GroupKFold(n_splits=5)\n",
    "scores = cross_val_score(pipeline, X, y, scoring='accuracy', cv=cv, n_jobs=-1)\n",
    "score =  mean(scores)"
   ]
  },
  {
   "cell_type": "code",
   "execution_count": null,
   "id": "7d1802d5-f63b-43db-845f-283001137181",
   "metadata": {},
   "outputs": [],
   "source": [
    "from imblearn.pipeline import Pipeline as imbpipeline\n",
    "from imblearn.under_sampling import EditedNearestNeighbours \n",
    "cv = GroupKFold(n_splits=5)\n",
    "pipeline = imbpipeline(steps = [['smote',  EditedNearestNeighbours()],\n",
    "                                ['scaler', StandardScaler()],\n",
    "                                ['svm', SVC(class_weight='balanced')]])\n",
    "\n",
    "param_grid = {'svm__C':[0.001, 0.01, 0.1, 1, 10, 100], 'svm__gamma':[0.001, 0.01, 0.1, 1, 10, 100],'svm__kernel':['linear']}\n",
    "grid_search = GridSearchCV(estimator=pipeline,\n",
    "                           param_grid=param_grid,\n",
    "                           scoring=['accuracy','recall','f1'],\n",
    "                           cv=cv,\n",
    "                           n_jobs=-1, refit='f1')\n",
    "grid_search.fit(X,y, groups=groups)"
   ]
  },
  {
   "cell_type": "code",
   "execution_count": null,
   "id": "60f1a3ea-a8c6-409b-9ecd-fe56c54f9069",
   "metadata": {},
   "outputs": [],
   "source": [
    "df_grid_search = pd.DataFrame(grid_search.cv_results_)\n",
    "df_grid_search = df_grid_search.set_index('params')[['rank_test_accuracy', 'mean_test_accuracy', 'mean_test_f1', 'mean_test_recall']]\n",
    "df_grid_search.sort_values(by = 'rank_test_accuracy').head(50)"
   ]
  },
  {
   "cell_type": "code",
   "execution_count": null,
   "id": "d83a751a-0757-4b4f-95a7-04b5579e490b",
   "metadata": {},
   "outputs": [],
   "source": [
    "grid_search.best_params_"
   ]
  },
  {
   "cell_type": "code",
   "execution_count": null,
   "id": "fe1546a7-94a2-401e-844d-4819a5dea920",
   "metadata": {},
   "outputs": [],
   "source": [
    "import autosklearn.classification"
   ]
  }
 ],
 "metadata": {
  "kernelspec": {
   "display_name": "Python 3 (ipykernel)",
   "language": "python",
   "name": "python3"
  },
  "language_info": {
   "codemirror_mode": {
    "name": "ipython",
    "version": 3
   },
   "file_extension": ".py",
   "mimetype": "text/x-python",
   "name": "python",
   "nbconvert_exporter": "python",
   "pygments_lexer": "ipython3",
   "version": "3.7.6"
  }
 },
 "nbformat": 4,
 "nbformat_minor": 5
}
