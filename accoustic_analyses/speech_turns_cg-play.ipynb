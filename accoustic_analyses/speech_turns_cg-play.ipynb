{
 "cells": [
  {
   "cell_type": "code",
   "execution_count": null,
   "metadata": {},
   "outputs": [],
   "source": [
    "import numpy as np\n",
    "from pyannote.core import Segment, Timeline\n",
    "import os\n",
    "from sklearn.cluster import KMeans\n",
    "import pandas as pd\n",
    "import json\n",
    "import pyannote.core.json\n",
    "from numpy import genfromtxt\n",
    "from sklearn.cluster import KMeans\n",
    "from pydub import AudioSegment\n",
    "from pydub.playback import play\n",
    "from pydub import AudioSegment"
   ]
  },
  {
   "cell_type": "code",
   "execution_count": null,
   "metadata": {},
   "outputs": [],
   "source": [
    "os.chdir('/Users/andrei-macpro/Documents/Data/Audio/Embeddings/Play/Timestamps' )\n",
    "file_names=sorted([i for i in os.listdir(\".\") if not i.startswith(\".\")])"
   ]
  },
  {
   "cell_type": "code",
   "execution_count": null,
   "metadata": {},
   "outputs": [],
   "source": [
    "# import the complete file timestamps (from 0 to file end)\n",
    "json_timelines=list()\n",
    "for file in file_names:\n",
    "    json_timelines.append(pyannote.core.json.load_from(file))"
   ]
  },
  {
   "cell_type": "code",
   "execution_count": null,
   "metadata": {},
   "outputs": [],
   "source": [
    "# import the embedding vectors \n",
    "os.chdir( '/Users/andrei-macpro/Documents/Data/Audio/Embeddings/Play/Embeddings' )\n",
    "file_names=sorted([i for i in os.listdir(\".\") if not i.startswith(\".\")])\n",
    "embeddings=list()\n",
    "for file in file_names:\n",
    "    embeddings.append(genfromtxt(file, delimiter=','))"
   ]
  },
  {
   "cell_type": "code",
   "execution_count": null,
   "metadata": {},
   "outputs": [],
   "source": [
    "# run k means \n",
    "kmeans = KMeans(n_clusters=4)\n",
    "predictions = list()\n",
    "for file in embeddings:       \n",
    "    labels = kmeans.fit_predict(file)\n",
    "    predictions.append(labels)"
   ]
  },
  {
   "cell_type": "code",
   "execution_count": null,
   "metadata": {},
   "outputs": [],
   "source": [
    "# tuple of 1-s second and its corresponding label \n",
    "list_of_tuples=[]\n",
    "temp_list=[]\n",
    "for prediction, timeline in zip(predictions, json_timelines):\n",
    "    for label, segment in zip(prediction, timeline):\n",
    "        temp_list.append(((label,segment)))\n",
    "    list_of_tuples.append(temp_list)\n",
    "    temp_list=[]\n",
    "    "
   ]
  },
  {
   "cell_type": "code",
   "execution_count": null,
   "metadata": {},
   "outputs": [],
   "source": [
    "os.chdir('/Users/andrei-macpro/Documents/Data/Audio/overlapping_speech/no_os_play')  #if string starts with slash it is considered absolute\n",
    "file_names=sorted([i for i in os.listdir(\".\") if not i.startswith(\".\")])"
   ]
  },
  {
   "cell_type": "code",
   "execution_count": null,
   "metadata": {},
   "outputs": [],
   "source": [
    "# make new timelines from clusters \n",
    "def timelines_from_clusters(list_of_tuples,cluster_no):\n",
    "    timelines_from_clusters = []\n",
    "    for file in list_of_tuples:\n",
    "        temp_list=[]\n",
    "        for cluster_seg in file:\n",
    "            if cluster_seg[0]==cluster_no:\n",
    "                temp_list.append(cluster_seg[1])\n",
    "        timelines_from_clusters.append(temp_list)\n",
    "        \n",
    "    return timelines_from_clusters\n"
   ]
  },
  {
   "cell_type": "code",
   "execution_count": null,
   "metadata": {},
   "outputs": [],
   "source": [
    "clusters_0 = timelines_from_clusters(list_of_tuples,0)\n",
    "clusters_1 = timelines_from_clusters(list_of_tuples,1)\n",
    "clusters_2 = timelines_from_clusters(list_of_tuples,2)\n",
    "clusters_3 = timelines_from_clusters(list_of_tuples,3)\n"
   ]
  },
  {
   "cell_type": "code",
   "execution_count": null,
   "metadata": {},
   "outputs": [],
   "source": [
    "# removing participants (cg here) who have missing diarization data in play (i.e. all of their 4 clusters were noise)\n",
    "clusters_0 = [e for e in clusters_0 if e not in (clusters_0[15], clusters_0[44],clusters_0[46])]\n",
    "clusters_1 = [e for e in clusters_1 if e not in (clusters_1[15], clusters_1[44], clusters_1[46])]\n",
    "clusters_2 = [e for e in clusters_2 if e not in (clusters_2[15], clusters_2[44], clusters_2[46])]\n",
    "clusters_3 = [e for e in clusters_3 if e not in (clusters_3[15], clusters_3[44], clusters_3[46])]"
   ]
  },
  {
   "cell_type": "code",
   "execution_count": null,
   "metadata": {},
   "outputs": [],
   "source": [
    "file_names = [file[0:4] for file in file_names]\n",
    "file_names= [int(e) for e in file_names if e not in (file_names[15], file_names[44], file_names[46])]"
   ]
  },
  {
   "cell_type": "code",
   "execution_count": null,
   "metadata": {},
   "outputs": [],
   "source": [
    "len(clusters_0)"
   ]
  },
  {
   "cell_type": "code",
   "execution_count": null,
   "metadata": {},
   "outputs": [],
   "source": [
    "clusters_0[1] = sorted(clusters_0[1] + clusters_1[1] + clusters_3[1])\n",
    "clusters_0[8] = sorted(clusters_0[8] + clusters_3[8])\n",
    "clusters_0[9] = sorted(clusters_0[9] + clusters_2[9])\n",
    "clusters_0[19] = sorted(clusters_0[19] + clusters_3[19])\n",
    "clusters_0[20] = sorted(clusters_0[20] + clusters_2[20])\n",
    "clusters_0[27] = sorted(clusters_0[27] + clusters_3[27])\n",
    "clusters_0[29] = sorted(clusters_0[29] + clusters_3[29])\n",
    "clusters_0[30] = sorted(clusters_0[30] + clusters_2[30])\n",
    "clusters_0[34] = sorted(clusters_0[34] + clusters_1[34])\n",
    "clusters_0[38] = sorted(clusters_0[38] + clusters_1[38] + clusters_2[38])\n",
    "clusters_0[41] = sorted(clusters_0[41] + clusters_1[41] + clusters_3[41])\n",
    "clusters_0[42] = sorted(clusters_0[42] + clusters_1[42])\n",
    "clusters_0[44] = sorted(clusters_0[44] + clusters_1[44])\n",
    "clusters_0[45] = sorted(clusters_0[45] + clusters_2[45])\n",
    "clusters_0[47] = sorted(clusters_0[41] + clusters_1[47]+clusters_3[47])\n",
    "clusters_0[48] = sorted(clusters_0[48] + clusters_3[48])\n",
    "clusters_0[50] = sorted(clusters_0[50] + clusters_1[50]+ clusters_3[50])\n",
    "clusters_0[53] = sorted(clusters_0[53] + clusters_2[50])\n",
    "\n",
    "\n",
    "\n",
    "\n"
   ]
  },
  {
   "cell_type": "code",
   "execution_count": null,
   "metadata": {},
   "outputs": [],
   "source": [
    "clusters_1[3] = sorted(clusters_1[3] + clusters_3[3])\n",
    "clusters_1[4] = sorted(clusters_1[4] + clusters_2[4]+clusters_3[4])\n",
    "clusters_1[6] = sorted(clusters_1[6] + clusters_2[6]+clusters_3[6])\n",
    "clusters_1[7] = sorted(clusters_1[7] + clusters_3[7])\n",
    "clusters_1[10] = sorted(clusters_1[10] + clusters_2[10]+clusters_3[10])\n",
    "clusters_1[17] = sorted(clusters_1[17] + clusters_2[17]+clusters_3[17])\n",
    "clusters_1[26] = sorted(clusters_1[26] + clusters_3[26])\n",
    "clusters_1[37] = sorted(clusters_1[37] + clusters_2[37])\n",
    "clusters_1[40] = sorted(clusters_1[40] + clusters_3[40])\n",
    "clusters_1[49] = sorted(clusters_1[49] + clusters_3[49])\n",
    "\n",
    "\n",
    "\n",
    "\n",
    "\n",
    "\n"
   ]
  },
  {
   "cell_type": "code",
   "execution_count": null,
   "metadata": {},
   "outputs": [],
   "source": [
    "clusters_2[5] = sorted(clusters_2[5] + clusters_3[5])\n",
    "clusters_2[14] = sorted(clusters_2[14] + clusters_3[14])\n",
    "clusters_2[32] = sorted(clusters_2[32] + clusters_3[32])\n",
    "clusters_2[52] = sorted(clusters_2[52] + clusters_3[52])\n"
   ]
  },
  {
   "cell_type": "code",
   "execution_count": null,
   "metadata": {},
   "outputs": [],
   "source": [
    "len(clusters_0)"
   ]
  },
  {
   "cell_type": "markdown",
   "metadata": {},
   "source": [
    "## now choose only the cg clusters "
   ]
  },
  {
   "cell_type": "code",
   "execution_count": null,
   "metadata": {},
   "outputs": [],
   "source": [
    "cg_0 = [e for e in clusters_0 if e in (clusters_0[1], clusters_0[8], clusters_0[9],clusters_0[12], clusters_0[19], clusters_0[20],\n",
    "       clusters_0[21], clusters_0[22], clusters_0[25], clusters_0[27], clusters_0[28], clusters_0[29],\n",
    "       clusters_0[30], clusters_0[34], clusters_0[38], clusters_0[41],  clusters_0[42], clusters_0[44], clusters_0[45],\n",
    "        clusters_0[47],clusters_0[48], clusters_0[50], clusters_0[51],clusters_0[53], clusters_0[55])]"
   ]
  },
  {
   "cell_type": "code",
   "execution_count": null,
   "metadata": {},
   "outputs": [],
   "source": [
    "cg_1 = [e for e in clusters_1 if e in (clusters_1[3], clusters_1[4], clusters_1[6], clusters_1[7],clusters_1[10],\n",
    "                                       clusters_1[13], clusters_1[16], clusters_1[17], clusters_1[18], clusters_1[24],\n",
    "                                    clusters_1[31], clusters_1[35], clusters_1[37], clusters_1[40],\n",
    "                                      clusters_1[43], clusters_1[49], clusters_1[54], )]"
   ]
  },
  {
   "cell_type": "code",
   "execution_count": null,
   "metadata": {},
   "outputs": [],
   "source": [
    "cg_2 = [e for e in clusters_2 if e in (clusters_2[2], clusters_2[5], \n",
    "                                       clusters_2[11], clusters_2[14], clusters_2[15], clusters_2[23],\n",
    "                                       clusters_2[32], clusters_2[33], clusters_2[35],clusters_2[36], clusters_2[39],\n",
    "                                      clusters_2[46], clusters_2[52],clusters_2[54], clusters_2[56])]"
   ]
  },
  {
   "cell_type": "code",
   "execution_count": null,
   "metadata": {},
   "outputs": [],
   "source": [
    "file_names.index(1134), file_names[14]"
   ]
  },
  {
   "cell_type": "code",
   "execution_count": null,
   "metadata": {},
   "outputs": [],
   "source": [
    "cg_3 = [e for e in clusters_3 if e in (clusters_3[0], \n",
    "                                       clusters_3[57])]"
   ]
  },
  {
   "cell_type": "code",
   "execution_count": null,
   "metadata": {},
   "outputs": [],
   "source": [
    "index_cg_0 = [1047,1079, 1080, 1091, 1105, 1107, 1108, 1112, 1122, 1125, 1129, 1130, 1131, 1148, 1181, 1188, 1190, \n",
    "             1217, 1230, 1241, 1245, 1250, 1263, 1269, 2009]"
   ]
  },
  {
   "cell_type": "code",
   "execution_count": null,
   "metadata": {},
   "outputs": [],
   "source": [
    "len(index_cg_0), len(cg_0)"
   ]
  },
  {
   "cell_type": "code",
   "execution_count": null,
   "metadata": {},
   "outputs": [],
   "source": [
    "index_cg_1 = [1053, 1059, 1069, 1073, 1082, 1092, 1098, 1099, 1104, 1188, 1124, 1132,1161, 1180, 1186, 1206, 1246]"
   ]
  },
  {
   "cell_type": "code",
   "execution_count": null,
   "metadata": {},
   "outputs": [],
   "source": [
    "len(index_cg_1), len(cg_1)"
   ]
  },
  {
   "cell_type": "code",
   "execution_count": null,
   "metadata": {},
   "outputs": [],
   "source": [
    "index_cg_2 = [1049, 1062, 1089, 1093, 1097, 1117, 1134,1146, 1161, 1170, 1184, 1234, 1264, 1282, 2025]"
   ]
  },
  {
   "cell_type": "code",
   "execution_count": null,
   "metadata": {},
   "outputs": [],
   "source": [
    "len(index_cg_2), len(cg_2)"
   ]
  },
  {
   "cell_type": "code",
   "execution_count": null,
   "metadata": {},
   "outputs": [],
   "source": [
    "index_cg_3 = [1043, 2027]"
   ]
  },
  {
   "cell_type": "code",
   "execution_count": null,
   "metadata": {},
   "outputs": [],
   "source": [
    "len(index_cg_3), len(cg_3)"
   ]
  },
  {
   "cell_type": "code",
   "execution_count": null,
   "metadata": {},
   "outputs": [],
   "source": [
    "cg_speech_0 = []\n",
    "for index, caregiver in zip(index_cg_0, cg_0,):\n",
    "    cg_speech_0.append((index,caregiver))\n",
    "cg_speech_0"
   ]
  },
  {
   "cell_type": "code",
   "execution_count": null,
   "metadata": {},
   "outputs": [],
   "source": [
    "cg_speech_1 = []\n",
    "for index, caregiver in zip(index_cg_1, cg_1,):\n",
    "    cg_speech_1.append((index,caregiver))\n",
    "cg_speech_1"
   ]
  },
  {
   "cell_type": "code",
   "execution_count": null,
   "metadata": {},
   "outputs": [],
   "source": [
    "cg_speech_2 = []\n",
    "for index, caregiver in zip(index_cg_2, cg_2):\n",
    "    cg_speech_2.append((index,caregiver))\n",
    "cg_speech_2"
   ]
  },
  {
   "cell_type": "code",
   "execution_count": null,
   "metadata": {},
   "outputs": [],
   "source": [
    " cg_speech_3 = []\n",
    "for index, caregiver in zip(index_cg_3, cg_3):\n",
    "    cg_speech_3.append((index,caregiver))\n",
    "cg_speech_3"
   ]
  },
  {
   "cell_type": "code",
   "execution_count": null,
   "metadata": {},
   "outputs": [],
   "source": [
    "len(cg_speech_0) + len(cg_speech_1) + len(cg_speech_2) + len(cg_speech_3)"
   ]
  },
  {
   "cell_type": "code",
   "execution_count": null,
   "metadata": {},
   "outputs": [],
   "source": [
    "cg_segments = sorted(cg_speech_0 + cg_speech_1 + cg_speech_2 + cg_speech_3)"
   ]
  },
  {
   "cell_type": "code",
   "execution_count": null,
   "metadata": {},
   "outputs": [],
   "source": [
    "timelines_list = []\n",
    "\n",
    "\n",
    "for index, segments in cg_segments:\n",
    "    segment_holder =[]\n",
    "    timeline = Timeline(segments=[s for s in segments], uri = str(index))\n",
    "    timelines_list.append(timeline)\n",
    "        \n",
    "    "
   ]
  },
  {
   "cell_type": "code",
   "execution_count": null,
   "metadata": {},
   "outputs": [],
   "source": [
    "os.chdir('/Users/andrei-macpro/Documents/Data/Audio/Embeddings/Play/identification/speech_turns_cg')  #if string starts with slash it is considered absolute\n"
   ]
  },
  {
   "cell_type": "code",
   "execution_count": null,
   "metadata": {},
   "outputs": [],
   "source": [
    "for timeline in timelines_list:\n",
    "    pyannote.core.json.dump_to(timeline, timeline.uri+\".json\")"
   ]
  }
 ],
 "metadata": {
  "kernelspec": {
   "display_name": "Python 3",
   "language": "python",
   "name": "python3"
  },
  "language_info": {
   "codemirror_mode": {
    "name": "ipython",
    "version": 3
   },
   "file_extension": ".py",
   "mimetype": "text/x-python",
   "name": "python",
   "nbconvert_exporter": "python",
   "pygments_lexer": "ipython3",
   "version": "3.8.5"
  }
 },
 "nbformat": 4,
 "nbformat_minor": 5
}
