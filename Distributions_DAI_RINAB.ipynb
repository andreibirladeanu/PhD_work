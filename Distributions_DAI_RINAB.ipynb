{
 "cells": [
  {
   "cell_type": "code",
   "execution_count": null,
   "metadata": {},
   "outputs": [],
   "source": [
    "#read the data file\n",
    "import pandas as pd\n",
    "import numpy as np\n",
    "import matplotlib.pyplot as plt\n",
    "df = pd.read_csv(\"/Users/Andrei/Documents/Data/rad_raw_data.csv\")\n"
   ]
  },
  {
   "cell_type": "code",
   "execution_count": null,
   "metadata": {},
   "outputs": [],
   "source": [
    "df = pd.concat([df['DAIscoreT1'], df['newT1RInAB']], axis =1)\n",
    "df = df.dropna()\n",
    "df = df.reset_index(drop=True)"
   ]
  },
  {
   "cell_type": "code",
   "execution_count": null,
   "metadata": {},
   "outputs": [],
   "source": [
    "dai_score = df['DAIscoreT1']\n",
    "rinab_score = df['newT1RInAB']"
   ]
  },
  {
   "cell_type": "code",
   "execution_count": null,
   "metadata": {},
   "outputs": [],
   "source": [
    "dai_score.value_counts(), rinab_score.describe()"
   ]
  },
  {
   "cell_type": "code",
   "execution_count": null,
   "metadata": {},
   "outputs": [],
   "source": [
    "import seaborn as sns\n",
    "\n",
    "ax = sns.countplot(x=\"DAIscoreT1\",data=df)"
   ]
  },
  {
   "cell_type": "code",
   "execution_count": null,
   "metadata": {},
   "outputs": [],
   "source": [
    "# plot histogram for DAI scores \n",
    "plt.figure(figsize=(8,8))\n",
    "plt.hist(dai_score, bins=[0,1,2,3,4,5,6,7,8],facecolor='g')\n",
    "plt.ylabel('Frequency')\n",
    "plt.xlabel('Number of RAD Symptoms')\n",
    "plt.title('Distribution of DAI Symptoms')\n",
    "plt.grid(True)\n",
    "#plt.show()\n",
    "plt.savefig('histogram_dai.png')"
   ]
  },
  {
   "cell_type": "code",
   "execution_count": null,
   "metadata": {},
   "outputs": [],
   "source": [
    "# discretization of the RInAB scores has been done using Doane's rule. This is an extension of Sturge's rule for selecting\n",
    "# the number of bins when constructing a histogram and is used for skewed data. Discretization has been performed using \n",
    "# the 'varrank' package in R and the result was 10 equally-sized intervals\n",
    "\n",
    "plt.figure(figsize=(8,8))\n",
    "plt.hist(rinab_score, facecolor='g', bins = 10)\n",
    "plt.ylabel('Frequency')\n",
    "plt.xlabel('Mean RAD Symptoms')\n",
    "plt.title('Distribution of RInAB Symptoms')\n",
    "plt.grid(True)\n",
    "#plt.show()\n",
    "plt.savefig('histogram_RInAB.png')"
   ]
  },
  {
   "cell_type": "code",
   "execution_count": null,
   "metadata": {},
   "outputs": [],
   "source": [
    "unique = rinab_score.unique()\n"
   ]
  },
  {
   "cell_type": "code",
   "execution_count": null,
   "metadata": {},
   "outputs": [],
   "source": [
    "unique.sort()"
   ]
  },
  {
   "cell_type": "code",
   "execution_count": null,
   "metadata": {},
   "outputs": [],
   "source": [
    "unique"
   ]
  }
 ],
 "metadata": {
  "kernelspec": {
   "display_name": "Python 3",
   "language": "python",
   "name": "python3"
  },
  "language_info": {
   "codemirror_mode": {
    "name": "ipython",
    "version": 3
   },
   "file_extension": ".py",
   "mimetype": "text/x-python",
   "name": "python",
   "nbconvert_exporter": "python",
   "pygments_lexer": "ipython3",
   "version": "3.7.3"
  }
 },
 "nbformat": 4,
 "nbformat_minor": 2
}
