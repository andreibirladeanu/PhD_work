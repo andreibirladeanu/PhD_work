{
 "cells": [
  {
   "cell_type": "code",
   "execution_count": 35,
   "metadata": {},
   "outputs": [],
   "source": [
    "#read the data file\n",
    "import pandas as pd\n",
    "import numpy as np\n",
    "import matplotlib.pyplot as plt\n",
    "df = pd.read_csv(\"/Users/Andrei/Documents/Data/rad_raw_data.csv\")\n"
   ]
  },
  {
   "cell_type": "code",
   "execution_count": 36,
   "metadata": {},
   "outputs": [],
   "source": [
    "df = pd.concat([df['DAIscoreT1'], df['newT1RInAB']], axis =1)\n",
    "df = df.dropna()\n",
    "df = df.reset_index(drop=True)"
   ]
  },
  {
   "cell_type": "code",
   "execution_count": 37,
   "metadata": {},
   "outputs": [],
   "source": [
    "dai_score = df['DAIscoreT1']\n",
    "rinab_score = df['newT1RInAB']"
   ]
  },
  {
   "cell_type": "code",
   "execution_count": 40,
   "metadata": {},
   "outputs": [
    {
     "data": {
      "text/plain": [
       "(0.0    31\n",
       " 1.0    16\n",
       " 2.0    15\n",
       " 4.0    11\n",
       " 3.0     9\n",
       " 5.0     6\n",
       " 6.0     5\n",
       " 8.0     1\n",
       " Name: DAIscoreT1, dtype: int64, count    94.000000\n",
       " mean      0.748511\n",
       " std       0.588773\n",
       " min       0.000000\n",
       " 25%       0.392500\n",
       " 50%       0.640000\n",
       " 75%       0.935000\n",
       " max       3.470000\n",
       " Name: newT1RInAB, dtype: float64)"
      ]
     },
     "execution_count": 40,
     "metadata": {},
     "output_type": "execute_result"
    }
   ],
   "source": [
    "dai_score.value_counts(), rinab_score.describe()"
   ]
  },
  {
   "cell_type": "code",
   "execution_count": 47,
   "metadata": {},
   "outputs": [
    {
     "data": {
      "image/png": "[encoded data removed]",
      "text/plain": [
       "<Figure size 432x288 with 1 Axes>"
      ]
     },
     "metadata": {
      "needs_background": "light"
     },
     "output_type": "display_data"
    }
   ],
   "source": [
    "import seaborn as sns\n",
    "\n",
    "ax = sns.countplot(x=\"DAIscoreT1\",data=df)"
   ]
  },
  {
   "cell_type": "code",
   "execution_count": 41,
   "metadata": {},
   "outputs": [
    {
     "data": {
      "image/png": "[encoded data removed]",
      "text/plain": [
       "<Figure size 576x576 with 1 Axes>"
      ]
     },
     "metadata": {
      "needs_background": "light"
     },
     "output_type": "display_data"
    }
   ],
   "source": [
    "# plot histogram for DAI scores \n",
    "plt.figure(figsize=(8,8))\n",
    "plt.hist(dai_score, bins=[0,1,2,3,4,5,6,7,8],facecolor='g')\n",
    "plt.ylabel('Frequency')\n",
    "plt.xlabel('Number of RAD Symptoms')\n",
    "plt.title('Distribution of DAI Symptoms')\n",
    "plt.grid(True)\n",
    "#plt.show()\n",
    "plt.savefig('histogram_dai.png')"
   ]
  },
  {
   "cell_type": "code",
   "execution_count": 6,
   "metadata": {},
   "outputs": [
    {
     "data": {
      "image/png": "[encoded data removed]",
      "text/plain": [
       "<Figure size 576x576 with 1 Axes>"
      ]
     },
     "metadata": {
      "needs_background": "light"
     },
     "output_type": "display_data"
    }
   ],
   "source": [
    "# discretization of the RInAB scores has been done using Doane's rule. This is an extension of Sturge's rule for selecting\n",
    "# the number of bins when constructing a histogram and is used for skewed data. Discretization has been performed using \n",
    "# the 'varrank' package in R and the result was 10 equally-sized intervals\n",
    "\n",
    "plt.figure(figsize=(8,8))\n",
    "plt.hist(rinab_score, facecolor='g', bins = 10)\n",
    "plt.ylabel('Frequency')\n",
    "plt.xlabel('Mean RAD Symptoms')\n",
    "plt.title('Distribution of RInAB Symptoms')\n",
    "plt.grid(True)\n",
    "#plt.show()\n",
    "plt.savefig('histogram_RInAB.png')"
   ]
  },
  {
   "cell_type": "code",
   "execution_count": 8,
   "metadata": {},
   "outputs": [],
   "source": [
    "unique = rinab_score.unique()\n"
   ]
  },
  {
   "cell_type": "code",
   "execution_count": 48,
   "metadata": {},
   "outputs": [],
   "source": [
    "unique.sort()"
   ]
  },
  {
   "cell_type": "code",
   "execution_count": 49,
   "metadata": {},
   "outputs": [
    {
     "data": {
      "text/plain": [
       "array([0.  , 0.11, 0.14, 0.15, 0.16, 0.17, 0.19, 0.22, 0.24, 0.25, 0.28,\n",
       "       0.31, 0.33, 0.34, 0.35, 0.36, 0.39, 0.4 , 0.42, 0.44, 0.47, 0.5 ,\n",
       "       0.51, 0.56, 0.58, 0.61, 0.64, 0.65, 0.67, 0.72, 0.73, 0.74, 0.81,\n",
       "       0.83, 0.87, 0.89, 0.92, 0.94, 0.95, 0.96, 0.97, 1.  , 1.03, 1.06,\n",
       "       1.07, 1.11, 1.15, 1.22, 1.42, 1.5 , 1.67, 1.72, 1.89, 1.94, 2.06,\n",
       "       2.8 , 3.08, 3.47])"
      ]
     },
     "execution_count": 49,
     "metadata": {},
     "output_type": "execute_result"
    }
   ],
   "source": [
    "unique"
   ]
  },
  {
   "cell_type": "code",
   "execution_count": null,
   "metadata": {},
   "outputs": [],
   "source": []
  }
 ],
 "metadata": {
  "kernelspec": {
   "display_name": "Python 3",
   "language": "python",
   "name": "python3"
  },
  "language_info": {
   "codemirror_mode": {
    "name": "ipython",
    "version": 3
   },
   "file_extension": ".py",
   "mimetype": "text/x-python",
   "name": "python",
   "nbconvert_exporter": "python",
   "pygments_lexer": "ipython3",
   "version": "3.7.3"
  }
 },
 "nbformat": 4,
 "nbformat_minor": 2
}
