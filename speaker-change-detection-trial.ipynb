{
 "cells": [
  {
   "cell_type": "code",
   "execution_count": null,
   "metadata": {},
   "outputs": [],
   "source": [
    "import pyannote.core\n",
    "from pydub import AudioSegment"
   ]
  },
  {
   "cell_type": "code",
   "execution_count": null,
   "metadata": {},
   "outputs": [],
   "source": [
    "file = {'uri':'1043_meal', 'audio':'/Users/andrei-macpro/Documents/Data/Audio/sad_demonstration/speech.wav'}"
   ]
  },
  {
   "cell_type": "code",
   "execution_count": null,
   "metadata": {},
   "outputs": [],
   "source": [
    "file_pydub = AudioSegment.from_wav(\"/Users/andrei-macpro/Documents/Data/Audio/sad_demonstration/speech.wav\")"
   ]
  },
  {
   "cell_type": "code",
   "execution_count": null,
   "metadata": {},
   "outputs": [],
   "source": [
    "import torch\n",
    "# overlapped speech detection trained on ami training set\n",
    "model = torch.hub.load('pyannote/pyannote-audio', 'scd_dihard')"
   ]
  },
  {
   "cell_type": "code",
   "execution_count": null,
   "metadata": {},
   "outputs": [],
   "source": [
    "scd = model({'audio':'/Users/andrei-macpro/Documents/Data/Audio/sad_demonstration/speech.wav'})"
   ]
  },
  {
   "cell_type": "code",
   "execution_count": null,
   "metadata": {},
   "outputs": [],
   "source": [
    "scd"
   ]
  },
  {
   "cell_type": "code",
   "execution_count": null,
   "metadata": {},
   "outputs": [],
   "source": [
    "from pyannote.audio.utils.signal import Peak\n",
    "peak = Peak(alpha=0.10, min_duration=0.10, log_scale=True)\n",
    "\n",
    "# speaker change point (as `pyannote.core.Timeline` instance)\n",
    "partition = peak.apply(scd, dimension=1)"
   ]
  },
  {
   "cell_type": "code",
   "execution_count": null,
   "metadata": {},
   "outputs": [],
   "source": [
    "partition #default values"
   ]
  },
  {
   "cell_type": "code",
   "execution_count": null,
   "metadata": {},
   "outputs": [],
   "source": [
    "partition"
   ]
  },
  {
   "cell_type": "code",
   "execution_count": null,
   "metadata": {},
   "outputs": [],
   "source": [
    "timestamps_scd=dict(partition)"
   ]
  },
  {
   "cell_type": "code",
   "execution_count": null,
   "metadata": {},
   "outputs": [],
   "source": [
    "start_times_os=[x*1000 for x in list(timestamps_scd.keys())]\n",
    "end_times_os=[x*1000 for x in list(timestamps_scd.values())]"
   ]
  },
  {
   "cell_type": "code",
   "execution_count": null,
   "metadata": {},
   "outputs": [],
   "source": [
    "speech_segments=[file_pydub[start_time:end_time] for start_time,end_time in zip(start_times_os, end_times_os)]"
   ]
  },
  {
   "cell_type": "code",
   "execution_count": null,
   "metadata": {},
   "outputs": [],
   "source": [
    "sum(speech_segments).export('/Users/andrei-macpro/Documents/Data/Audio/scd_1047_dihard.wav', format=\"wav\")\n"
   ]
  },
  {
   "cell_type": "code",
   "execution_count": null,
   "metadata": {},
   "outputs": [],
   "source": [
    "for scp in partition: #ohhh so it only detects speech that comes right after (so its like super close) other speech \n",
    "    print(scp)   # default min duration"
   ]
  },
  {
   "cell_type": "code",
   "execution_count": null,
   "metadata": {},
   "outputs": [],
   "source": [
    "from pyannote.core import Timeline\n",
    "long_turns = Timeline(segments=[s for s in partition if s.duration > 2.])"
   ]
  },
  {
   "cell_type": "code",
   "execution_count": null,
   "metadata": {},
   "outputs": [],
   "source": [
    "for turn in partition:\n",
    "    print(turn)"
   ]
  },
  {
   "cell_type": "code",
   "execution_count": null,
   "metadata": {},
   "outputs": [],
   "source": [
    "timestamps_scd=dict(partition)"
   ]
  },
  {
   "cell_type": "code",
   "execution_count": null,
   "metadata": {},
   "outputs": [],
   "source": [
    "start_times_speech=[x*1000 for x in list(timestamps_scd.keys())]\n",
    "end_times_speech=[x*1000 for x in list(timestamps_scd.values())]"
   ]
  },
  {
   "cell_type": "code",
   "execution_count": null,
   "metadata": {},
   "outputs": [],
   "source": [
    "speech_segments=[file_pydub[start_time:end_time] for start_time,end_time in zip(start_times_speech, end_times_speech)]"
   ]
  },
  {
   "cell_type": "code",
   "execution_count": null,
   "metadata": {},
   "outputs": [],
   "source": [
    "speech_segments_cv, speech_segments_bb"
   ]
  },
  {
   "cell_type": "code",
   "execution_count": null,
   "metadata": {},
   "outputs": [],
   "source": [
    "speech_segments_cv=list()\n",
    "speech_segments_bb = list()\n",
    "for start_time,end_time in zip(range(len(start_times_speech)), range(len(end_times_speech))):\n",
    "    if start_time%2 == 0:\n",
    "        speech_segments_cv.append(file_pydub[start_times_speech[start_time]:end_times_speech[end_time]])\n",
    "    else:\n",
    "        speech_segments_bb.append(file_pydub[start_times_speech[start_time]:end_times_speech[end_time]])"
   ]
  },
  {
   "cell_type": "code",
   "execution_count": null,
   "metadata": {},
   "outputs": [],
   "source": [
    "len(speech_segments_cv), len(speech_segments_bb)"
   ]
  },
  {
   "cell_type": "code",
   "execution_count": null,
   "metadata": {},
   "outputs": [],
   "source": [
    "len(speech_segments)"
   ]
  },
  {
   "cell_type": "code",
   "execution_count": null,
   "metadata": {},
   "outputs": [],
   "source": [
    "#diarization\n",
    "sum(speech_segments_cv).export('/Users/andrei-macpro/Documents/Data/Audio/1043_cv_speech.wav', format=\"wav\")\n",
    "sum(speech_segments_bb).export('/Users/andrei-macpro/Documents/Data/Audio/1043_bb_speech.wav', format=\"wav\")"
   ]
  }
 ],
 "metadata": {
  "kernelspec": {
   "display_name": "Python 3",
   "language": "python",
   "name": "python3"
  },
  "language_info": {
   "codemirror_mode": {
    "name": "ipython",
    "version": 3
   },
   "file_extension": ".py",
   "mimetype": "text/x-python",
   "name": "python",
   "nbconvert_exporter": "python",
   "pygments_lexer": "ipython3",
   "version": "3.8.5"
  }
 },
 "nbformat": 4,
 "nbformat_minor": 4
}
