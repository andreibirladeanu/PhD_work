{
 "cells": [
  {
   "cell_type": "code",
   "execution_count": null,
   "metadata": {},
   "outputs": [],
   "source": [
    "import pyannote.core\n",
    "from pydub import AudioSegment\n",
    "import os\n",
    "import json\n",
    "from pyannote.core import Timeline, Segment\n",
    "from tqdm import tqdm"
   ]
  },
  {
   "cell_type": "code",
   "execution_count": null,
   "metadata": {},
   "outputs": [],
   "source": [
    "import torch\n",
    "# overlapped speech detection trained on ami training set\n",
    "model = torch.hub.load('pyannote/pyannote-audio', 'ovl_dihard')"
   ]
  },
  {
   "cell_type": "code",
   "execution_count": null,
   "metadata": {},
   "outputs": [],
   "source": [
    "from pyannote.audio.utils.signal import Binarize\n",
    "binarize = Binarize(offset=0.55, onset=0.55, log_scale=True, \n",
    "                    min_duration_off=0.1, min_duration_on=0.1)"
   ]
  },
  {
   "cell_type": "code",
   "execution_count": null,
   "metadata": {},
   "outputs": [],
   "source": [
    "os.chdir('/Users/andrei-macpro/Documents/Data/Audio/only_speech/only_speech2/only_speech2_meal')"
   ]
  },
  {
   "cell_type": "code",
   "execution_count": null,
   "metadata": {},
   "outputs": [],
   "source": [
    "path = '/Users/andrei-macpro/Documents/Data/Audio/only_speech/only_speech2/only_speech2_meal' #if string starts with slash it is considered absolute\n",
    "dirs = os.listdir( path )\n",
    "file_names=sorted([i for i in os.listdir(\".\") if not i.startswith(\".\")])"
   ]
  },
  {
   "cell_type": "code",
   "execution_count": null,
   "metadata": {},
   "outputs": [],
   "source": [
    "# extract a dictionary of key-filename : value-#pyannoteTimeline \n",
    "def timeline(file_names):\n",
    "    temp_list1=list()\n",
    "    temp_list2=list()\n",
    "    for file_name in tqdm(file_names):\n",
    "        os_scores=model(file_name)\n",
    "        speech=binarize.apply(os_scores,dimension=1)\n",
    "        del os_scores\n",
    "        temp_list1.append(file_name.get('audio'))\n",
    "        temp_list2.append(speech)\n",
    "    trial_dict=dict(zip(temp_list1,temp_list2))\n",
    "    return trial_dict"
   ]
  },
  {
   "cell_type": "code",
   "execution_count": null,
   "metadata": {},
   "outputs": [],
   "source": [
    "# extract json files of the #pyannoteTimeline objects which can then be loaded again\n",
    "def write_disk(sad_segments):\n",
    "    for key in sad_segments.keys():\n",
    "        temp_json=sad_segments[key].for_json()\n",
    "        with open(str(key)+'.json', 'w') as outfile:\n",
    "            json.dump(temp_json, outfile)"
   ]
  },
  {
   "cell_type": "code",
   "execution_count": null,
   "metadata": {},
   "outputs": [],
   "source": [
    "# make dictionary for files and filenames\n",
    "list_dict_filenames=list()\n",
    "files = dict()\n",
    "for file_name in file_names:\n",
    "    list_dict_filenames.append({'audio':str(file_name)})"
   ]
  },
  {
   "cell_type": "code",
   "execution_count": null,
   "metadata": {},
   "outputs": [],
   "source": [
    "os_segments=timeline(list_dict_filenames) "
   ]
  }
 ],
 "metadata": {
  "kernelspec": {
   "display_name": "Python 3",
   "language": "python",
   "name": "python3"
  },
  "language_info": {
   "codemirror_mode": {
    "name": "ipython",
    "version": 3
   },
   "file_extension": ".py",
   "mimetype": "text/x-python",
   "name": "python",
   "nbconvert_exporter": "python",
   "pygments_lexer": "ipython3",
   "version": "3.8.5"
  }
 },
 "nbformat": 4,
 "nbformat_minor": 4
}
