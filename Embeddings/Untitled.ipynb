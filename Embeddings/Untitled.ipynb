{
 "cells": [
  {
   "cell_type": "code",
   "execution_count": null,
   "metadata": {},
   "outputs": [],
   "source": [
    "import os\n",
    "os.chdir('/Users/andrei-macpro/Documents/Data/Audio/overlapping_speech/no_os_meal')\n",
    "import torch\n",
    "import numpy as np"
   ]
  },
  {
   "cell_type": "code",
   "execution_count": null,
   "metadata": {},
   "outputs": [],
   "source": [
    "sad = torch.hub.load('pyannote/pyannote-audio', 'sad_ami')\n",
    "scd = torch.hub.load('pyannote/pyannote-audio', 'scd_ami')\n",
    "emb = torch.hub.load('pyannote/pyannote-audio', 'emb_ami')"
   ]
  },
  {
   "cell_type": "code",
   "execution_count": null,
   "metadata": {},
   "outputs": [],
   "source": [
    "test_file = {'audio': '1043_meal.wav'}"
   ]
  },
  {
   "cell_type": "code",
   "execution_count": null,
   "metadata": {},
   "outputs": [],
   "source": [
    "sad_scores = sad(test_file)"
   ]
  },
  {
   "cell_type": "code",
   "execution_count": null,
   "metadata": {},
   "outputs": [],
   "source": [
    "from pyannote.audio.utils.signal import Binarize\n",
    "binarize = Binarize(offset=0.52, onset=0.52, log_scale=True, \n",
    "                    min_duration_off=0.1, min_duration_on=0.1)\n",
    "\n",
    "# speech regions (as `pyannote.core.Timeline` instance)\n",
    "speech = binarize.apply(sad_scores, dimension=1)\n"
   ]
  },
  {
   "cell_type": "code",
   "execution_count": null,
   "metadata": {},
   "outputs": [],
   "source": [
    "scd_scores = scd(test_file)\n",
    "\n",
    "# detect peaks and return speaker homogeneous segments \n",
    "# NOTE: both alpha/min_duration values were tuned on AMI dataset.\n",
    "# you might need to use different values for better results.\n",
    "from pyannote.audio.utils.signal import Peak\n",
    "peak = Peak(alpha=0.10, min_duration=0.10, log_scale=True)\n",
    "\n",
    "# speaker change point (as `pyannote.core.Timeline` instance)\n",
    "partition = peak.apply(scd_scores, dimension=1)"
   ]
  },
  {
   "cell_type": "code",
   "execution_count": null,
   "metadata": {},
   "outputs": [],
   "source": [
    "speech_turns = partition.crop(speech)"
   ]
  },
  {
   "cell_type": "code",
   "execution_count": null,
   "metadata": {},
   "outputs": [],
   "source": [
    "embeddings = emb(test_file)"
   ]
  },
  {
   "cell_type": "code",
   "execution_count": null,
   "metadata": {},
   "outputs": [],
   "source": [
    "\n",
    "chunks = embeddings.sliding_window\n",
    "print(f'Embeddings were extracted every {1000 * chunks.step:g}ms on {1000 * chunks.duration:g}ms-long windows.')"
   ]
  },
  {
   "cell_type": "code",
   "execution_count": null,
   "metadata": {},
   "outputs": [],
   "source": [
    "from pyannote.core import Timeline\n",
    "long_turns = Timeline(segments=[s for s in speech_turns if s.duration > 1.])"
   ]
  },
  {
   "cell_type": "code",
   "execution_count": null,
   "metadata": {},
   "outputs": [],
   "source": [
    "X, Y = [], []\n",
    "for segment in long_turns:\n",
    "    # \"strict\" only keeps embedding strictly included in segment\n",
    "    x = embeddings.crop(segment, mode='strict')\n",
    "    # average speech turn embedding\n",
    "    X.append(np.mean(x, axis=0))\n",
    "\n",
    "    # keep track of speaker label (for later scatter plot)\n",
    "    y = test_file['annotation'].argmax(segment)\n",
    "    Y.append(y)\n",
    "\n",
    "X = np.vstack(X)\n",
    "_, y_true = np.unique(Y, return_inverse=True)"
   ]
  },
  {
   "cell_type": "code",
   "execution_count": null,
   "metadata": {},
   "outputs": [],
   "source": [
    "X, Y = [], []\n",
    "for segment in long_turns:\n",
    "    # \"strict\" only keeps embedding strictly included in segment\n",
    "    x = embeddings.crop(segment, mode='strict')\n",
    "    # average speech turn embedding\n",
    "    X.append(np.mean(x, axis=0))\n"
   ]
  },
  {
   "cell_type": "code",
   "execution_count": null,
   "metadata": {},
   "outputs": [],
   "source": [
    "len(X)"
   ]
  },
  {
   "cell_type": "code",
   "execution_count": null,
   "metadata": {},
   "outputs": [],
   "source": [
    "X"
   ]
  },
  {
   "cell_type": "code",
   "execution_count": null,
   "metadata": {},
   "outputs": [],
   "source": [
    "len(X)"
   ]
  }
 ],
 "metadata": {
  "kernelspec": {
   "display_name": "Python 3",
   "language": "python",
   "name": "python3"
  },
  "language_info": {
   "codemirror_mode": {
    "name": "ipython",
    "version": 3
   },
   "file_extension": ".py",
   "mimetype": "text/x-python",
   "name": "python",
   "nbconvert_exporter": "python",
   "pygments_lexer": "ipython3",
   "version": "3.8.5"
  }
 },
 "nbformat": 4,
 "nbformat_minor": 4
}
